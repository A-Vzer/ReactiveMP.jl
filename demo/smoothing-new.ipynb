{
 "cells": [
  {
   "cell_type": "code",
   "execution_count": 8,
   "metadata": {},
   "outputs": [],
   "source": [
    "using Rocket\n",
    "using Distributions\n",
    "using ReactiveMP\n",
    "using BenchmarkTools\n",
    "\n",
    "using Profile\n",
    "using PProf\n",
    "using ProfileSVG\n",
    "\n",
    "import Base: show"
   ]
  },
  {
   "cell_type": "code",
   "execution_count": 9,
   "metadata": {},
   "outputs": [
    {
     "data": {
      "text/plain": [
       "createGraph (generic function with 1 method)"
      ]
     },
     "execution_count": 9,
     "metadata": {},
     "output_type": "execute_result"
    }
   ],
   "source": [
    "function createSubgraph(index::Int)\n",
    "    noise_add = AdditionNode()\n",
    "    \n",
    "    noise = constvar(:noise, Normal(0.0, sqrt(200.0)))\n",
    "    yn    = datavar(:yn, Float64)\n",
    "    \n",
    "    connect!(noise_add, :in2, noise, 1)\n",
    "    connect!(noise_add, :out, yn, 1)\n",
    "    \n",
    "    return (yn, noise_add)\n",
    "end\n",
    "\n",
    "function createGraph(size::Int)    \n",
    "    c0_add = AdditionNode()\n",
    "    \n",
    "    c0       = constvar(:c0, 1.0)\n",
    "    x0_prior = datavar(:x0_prior, Normal{Float64})\n",
    "    \n",
    "    connect!(c0_add, :in1, x0_prior, 1)\n",
    "    connect!(c0_add, :in2, c0, 1)\n",
    "    \n",
    "    index = 1\n",
    "    \n",
    "    prev_c_add = c0_add\n",
    "    \n",
    "    xs = Vector{RandomVariable}(undef, size)\n",
    "    ys = Vector{DataVariable}(undef, size)\n",
    "    \n",
    "    while index < size\n",
    "        yn, noise_add = createSubgraph(index)\n",
    "        xn            = randomvar(:xn, 3)\n",
    "        \n",
    "        c_add = AdditionNode()\n",
    "        cn    = constvar(:cn, 1.0)\n",
    "        \n",
    "        connect!(prev_c_add, :out, xn, 1)\n",
    "        connect!(noise_add, :in1, xn, 2)\n",
    "        connect!(c_add, :in1, xn, 3)\n",
    "        connect!(c_add, :in2, cn, 1)\n",
    "        \n",
    "        activate!(prev_c_add)\n",
    "        activate!(noise_add)\n",
    "        \n",
    "        xs[index] = xn\n",
    "        ys[index] = yn\n",
    "        \n",
    "        prev_c_add = c_add\n",
    "        \n",
    "        index += 1\n",
    "    end\n",
    "    \n",
    "    last_noise_add = AdditionNode();\n",
    "    \n",
    "    x_last     = randomvar(:x_last, 2)\n",
    "    y_last     = datavar(:ylast, Float64)\n",
    "    last_noise = constvar(:last_noise, Normal(0.0, sqrt(200.0)))\n",
    "    \n",
    "    connect!(prev_c_add, :out, x_last, 1)\n",
    "    connect!(last_noise_add, :in1, x_last, 2)\n",
    "    connect!(last_noise_add, :in2, last_noise, 1)\n",
    "    connect!(last_noise_add, :out, y_last, 1)\n",
    "    \n",
    "    activate!(prev_c_add)\n",
    "    activate!(last_noise_add)\n",
    "    \n",
    "    xs[size] = x_last\n",
    "    ys[size] = y_last\n",
    "    \n",
    "    return (xs, ys, x0_prior)\n",
    "end"
   ]
  },
  {
   "cell_type": "code",
   "execution_count": 10,
   "metadata": {},
   "outputs": [
    {
     "data": {
      "text/plain": [
       "smoothing (generic function with 1 method)"
      ]
     },
     "execution_count": 10,
     "metadata": {},
     "output_type": "execute_result"
    }
   ],
   "source": [
    "function smoothing(data)\n",
    "    N = length(data)\n",
    "    \n",
    "    xs, ys, x_prior = createGraph(N);\n",
    "    \n",
    "    messages      = Vector{Normal{Float64}}(undef, N)\n",
    "    subscriptions = Vector{Teardown}(undef, N)\n",
    "    \n",
    "    @inbounds for (index, x) in enumerate(xs)\n",
    "        subscriptions[index] = subscribe!(getmarginal(x), (d) -> messages[index] = getdata(d))\n",
    "    end\n",
    "    \n",
    "    update!(x_prior, Normal(0.0, sqrt(10000.0)))\n",
    "    for i in 1:N\n",
    "       update!(ys[i], data[i])\n",
    "    end\n",
    "    \n",
    "    foreach(unsubscribe!, subscriptions)\n",
    "    \n",
    "    return messages\n",
    "end"
   ]
  },
  {
   "cell_type": "code",
   "execution_count": 11,
   "metadata": {},
   "outputs": [],
   "source": [
    "N = 600\n",
    "data = collect(1:N) + sqrt(200.0) * randn(N);"
   ]
  },
  {
   "cell_type": "code",
   "execution_count": 14,
   "metadata": {},
   "outputs": [
    {
     "name": "stdout",
     "output_type": "stream",
     "text": [
      "  59.308 ms (417573 allocations: 15.62 MiB)\n"
     ]
    },
    {
     "data": {
      "text/plain": [
       "600-element Array{Normal{Float64},1}:\n",
       " Normal{Float64}(μ=1.5312576947689023, σ=0.5773406469256954)\n",
       " Normal{Float64}(μ=2.5312576947689025, σ=0.5773406469256954)\n",
       " Normal{Float64}(μ=3.5312576947689025, σ=0.5773406469256954)\n",
       " Normal{Float64}(μ=4.531257694768902, σ=0.5773406469256953)\n",
       " Normal{Float64}(μ=5.531257694768903, σ=0.5773406469256954)\n",
       " Normal{Float64}(μ=6.531257694768904, σ=0.5773406469256954)\n",
       " Normal{Float64}(μ=7.531257694768905, σ=0.5773406469256954)\n",
       " Normal{Float64}(μ=8.531257694768906, σ=0.5773406469256954)\n",
       " Normal{Float64}(μ=9.531257694768904, σ=0.5773406469256954)\n",
       " Normal{Float64}(μ=10.531257694768904, σ=0.5773406469256953)\n",
       " Normal{Float64}(μ=11.531257694768904, σ=0.5773406469256954)\n",
       " Normal{Float64}(μ=12.531257694768902, σ=0.5773406469256953)\n",
       " Normal{Float64}(μ=13.5312576947689, σ=0.5773406469256954)\n",
       " ⋮\n",
       " Normal{Float64}(μ=589.5312576947679, σ=0.577340646925696)\n",
       " Normal{Float64}(μ=590.5312576947679, σ=0.577340646925696)\n",
       " Normal{Float64}(μ=591.5312576947679, σ=0.577340646925696)\n",
       " Normal{Float64}(μ=592.5312576947679, σ=0.5773406469256959)\n",
       " Normal{Float64}(μ=593.5312576947678, σ=0.5773406469256959)\n",
       " Normal{Float64}(μ=594.5312576947679, σ=0.5773406469256959)\n",
       " Normal{Float64}(μ=595.5312576947679, σ=0.5773406469256959)\n",
       " Normal{Float64}(μ=596.5312576947678, σ=0.5773406469256959)\n",
       " Normal{Float64}(μ=597.5312576947678, σ=0.5773406469256958)\n",
       " Normal{Float64}(μ=598.5312576947678, σ=0.5773406469256958)\n",
       " Normal{Float64}(μ=599.5312576947676, σ=0.5773406469256958)\n",
       " Normal{Float64}(μ=600.5312576947676, σ=0.5773406469256958)"
      ]
     },
     "execution_count": 14,
     "metadata": {},
     "output_type": "execute_result"
    }
   ],
   "source": [
    "@btime smoothing($data)"
   ]
  },
  {
   "cell_type": "code",
   "execution_count": 13,
   "metadata": {},
   "outputs": [
    {
     "name": "stdout",
     "output_type": "stream",
     "text": [
      "  0.069567 seconds (417.57 k allocations: 15.622 MiB)\n"
     ]
    },
    {
     "data": {
      "text/plain": [
       "600-element Array{Normal{Float64},1}:\n",
       " Normal{Float64}(μ=1.5312576947689023, σ=0.5773406469256954)\n",
       " Normal{Float64}(μ=2.5312576947689025, σ=0.5773406469256954)\n",
       " Normal{Float64}(μ=3.5312576947689025, σ=0.5773406469256954)\n",
       " Normal{Float64}(μ=4.531257694768902, σ=0.5773406469256953)\n",
       " Normal{Float64}(μ=5.531257694768903, σ=0.5773406469256954)\n",
       " Normal{Float64}(μ=6.531257694768904, σ=0.5773406469256954)\n",
       " Normal{Float64}(μ=7.531257694768905, σ=0.5773406469256954)\n",
       " Normal{Float64}(μ=8.531257694768906, σ=0.5773406469256954)\n",
       " Normal{Float64}(μ=9.531257694768904, σ=0.5773406469256954)\n",
       " Normal{Float64}(μ=10.531257694768904, σ=0.5773406469256953)\n",
       " Normal{Float64}(μ=11.531257694768904, σ=0.5773406469256954)\n",
       " Normal{Float64}(μ=12.531257694768902, σ=0.5773406469256953)\n",
       " Normal{Float64}(μ=13.5312576947689, σ=0.5773406469256954)\n",
       " ⋮\n",
       " Normal{Float64}(μ=589.5312576947679, σ=0.577340646925696)\n",
       " Normal{Float64}(μ=590.5312576947679, σ=0.577340646925696)\n",
       " Normal{Float64}(μ=591.5312576947679, σ=0.577340646925696)\n",
       " Normal{Float64}(μ=592.5312576947679, σ=0.5773406469256959)\n",
       " Normal{Float64}(μ=593.5312576947678, σ=0.5773406469256959)\n",
       " Normal{Float64}(μ=594.5312576947679, σ=0.5773406469256959)\n",
       " Normal{Float64}(μ=595.5312576947679, σ=0.5773406469256959)\n",
       " Normal{Float64}(μ=596.5312576947678, σ=0.5773406469256959)\n",
       " Normal{Float64}(μ=597.5312576947678, σ=0.5773406469256958)\n",
       " Normal{Float64}(μ=598.5312576947678, σ=0.5773406469256958)\n",
       " Normal{Float64}(μ=599.5312576947676, σ=0.5773406469256958)\n",
       " Normal{Float64}(μ=600.5312576947676, σ=0.5773406469256958)"
      ]
     },
     "execution_count": 13,
     "metadata": {},
     "output_type": "execute_result"
    }
   ],
   "source": [
    "@time smoothing(data)"
   ]
  },
  {
   "cell_type": "code",
   "execution_count": 12,
   "metadata": {},
   "outputs": [
    {
     "name": "stdout",
     "output_type": "stream",
     "text": [
      "  0.739958 seconds (1.74 M allocations: 81.098 MiB, 4.24% gc time)\n"
     ]
    },
    {
     "data": {
      "text/plain": [
       "600-element Array{Normal{Float64},1}:\n",
       " Normal{Float64}(μ=1.5312576947689023, σ=0.5773406469256954)\n",
       " Normal{Float64}(μ=2.5312576947689025, σ=0.5773406469256954)\n",
       " Normal{Float64}(μ=3.5312576947689025, σ=0.5773406469256954)\n",
       " Normal{Float64}(μ=4.531257694768902, σ=0.5773406469256953)\n",
       " Normal{Float64}(μ=5.531257694768903, σ=0.5773406469256954)\n",
       " Normal{Float64}(μ=6.531257694768904, σ=0.5773406469256954)\n",
       " Normal{Float64}(μ=7.531257694768905, σ=0.5773406469256954)\n",
       " Normal{Float64}(μ=8.531257694768906, σ=0.5773406469256954)\n",
       " Normal{Float64}(μ=9.531257694768904, σ=0.5773406469256954)\n",
       " Normal{Float64}(μ=10.531257694768904, σ=0.5773406469256953)\n",
       " Normal{Float64}(μ=11.531257694768904, σ=0.5773406469256954)\n",
       " Normal{Float64}(μ=12.531257694768902, σ=0.5773406469256953)\n",
       " Normal{Float64}(μ=13.5312576947689, σ=0.5773406469256954)\n",
       " ⋮\n",
       " Normal{Float64}(μ=589.5312576947679, σ=0.577340646925696)\n",
       " Normal{Float64}(μ=590.5312576947679, σ=0.577340646925696)\n",
       " Normal{Float64}(μ=591.5312576947679, σ=0.577340646925696)\n",
       " Normal{Float64}(μ=592.5312576947679, σ=0.5773406469256959)\n",
       " Normal{Float64}(μ=593.5312576947678, σ=0.5773406469256959)\n",
       " Normal{Float64}(μ=594.5312576947679, σ=0.5773406469256959)\n",
       " Normal{Float64}(μ=595.5312576947679, σ=0.5773406469256959)\n",
       " Normal{Float64}(μ=596.5312576947678, σ=0.5773406469256959)\n",
       " Normal{Float64}(μ=597.5312576947678, σ=0.5773406469256958)\n",
       " Normal{Float64}(μ=598.5312576947678, σ=0.5773406469256958)\n",
       " Normal{Float64}(μ=599.5312576947676, σ=0.5773406469256958)\n",
       " Normal{Float64}(μ=600.5312576947676, σ=0.5773406469256958)"
      ]
     },
     "execution_count": 12,
     "metadata": {},
     "output_type": "execute_result"
    }
   ],
   "source": [
    "@time smoothing(data)"
   ]
  },
  {
   "cell_type": "code",
   "execution_count": null,
   "metadata": {},
   "outputs": [],
   "source": []
  }
 ],
 "metadata": {
  "kernelspec": {
   "display_name": "Julia 1.4.1",
   "language": "julia",
   "name": "julia-1.4"
  },
  "language_info": {
   "file_extension": ".jl",
   "mimetype": "application/julia",
   "name": "julia",
   "version": "1.4.1"
  }
 },
 "nbformat": 4,
 "nbformat_minor": 4
}
