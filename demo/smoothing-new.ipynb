{
 "cells": [
  {
   "cell_type": "code",
   "execution_count": 14,
   "metadata": {},
   "outputs": [],
   "source": [
    "using Rocket\n",
    "using Distributions\n",
    "using ReactiveMP\n",
    "using BenchmarkTools\n",
    "\n",
    "using Profile\n",
    "using PProf\n",
    "using ProfileSVG\n",
    "\n",
    "import Base: show"
   ]
  },
  {
   "cell_type": "code",
   "execution_count": 15,
   "metadata": {},
   "outputs": [
    {
     "data": {
      "text/plain": [
       "createGraph (generic function with 1 method)"
      ]
     },
     "execution_count": 15,
     "metadata": {},
     "output_type": "execute_result"
    }
   ],
   "source": [
    "function createSubgraph(index::Int)\n",
    "    noise_add = AdditionNode()\n",
    "    \n",
    "    noise = constvar(:noise, Normal(0.0, sqrt(200.0)))\n",
    "    yn    = datavar(:yn, Float64)\n",
    "    \n",
    "    connect!(noise_add, :in2, noise, 1)\n",
    "    connect!(noise_add, :out, yn, 1)\n",
    "    \n",
    "    return (yn, noise_add)\n",
    "end\n",
    "\n",
    "function createGraph(size::Int)    \n",
    "    c0_add = AdditionNode()\n",
    "    \n",
    "    c0       = constvar(:c0, 1.0)\n",
    "    x0_prior = datavar(:x0_prior, Normal{Float64})\n",
    "    \n",
    "    connect!(c0_add, :in1, x0_prior, 1)\n",
    "    connect!(c0_add, :in2, c0, 1)\n",
    "    \n",
    "    index = 1\n",
    "    \n",
    "    prev_c_add = c0_add\n",
    "    \n",
    "    xs = Vector{RandomVariable}(undef, size)\n",
    "    ys = Vector{DataVariable}(undef, size)\n",
    "    \n",
    "    while index < size\n",
    "        yn, noise_add = createSubgraph(index)\n",
    "        xn            = randomvar(:xn, 3)\n",
    "        \n",
    "        c_add = AdditionNode()\n",
    "        cn    = constvar(:cn, 1.0)\n",
    "        \n",
    "        connect!(prev_c_add, :out, xn, 1)\n",
    "        connect!(noise_add, :in1, xn, 2)\n",
    "        connect!(c_add, :in1, xn, 3)\n",
    "        connect!(c_add, :in2, cn, 1)\n",
    "        \n",
    "        activate!(prev_c_add)\n",
    "        activate!(noise_add)\n",
    "        \n",
    "        xs[index] = xn\n",
    "        ys[index] = yn\n",
    "        \n",
    "        prev_c_add = c_add\n",
    "        \n",
    "        index += 1\n",
    "    end\n",
    "    \n",
    "    last_noise_add = AdditionNode();\n",
    "    \n",
    "    x_last     = randomvar(:x_last, 2)\n",
    "    y_last     = datavar(:ylast, Float64)\n",
    "    last_noise = constvar(:last_noise, Normal(0.0, sqrt(200.0)))\n",
    "    \n",
    "    connect!(prev_c_add, :out, x_last, 1)\n",
    "    connect!(last_noise_add, :in1, x_last, 2)\n",
    "    connect!(last_noise_add, :in2, last_noise, 1)\n",
    "    connect!(last_noise_add, :out, y_last, 1)\n",
    "    \n",
    "    activate!(prev_c_add)\n",
    "    activate!(last_noise_add)\n",
    "    \n",
    "    xs[size] = x_last\n",
    "    ys[size] = y_last\n",
    "    \n",
    "    return (xs, ys, x0_prior)\n",
    "end"
   ]
  },
  {
   "cell_type": "code",
   "execution_count": 29,
   "metadata": {},
   "outputs": [
    {
     "data": {
      "text/plain": [
       "smoothing (generic function with 1 method)"
      ]
     },
     "execution_count": 29,
     "metadata": {},
     "output_type": "execute_result"
    }
   ],
   "source": [
    "function smoothing(data)\n",
    "    N = length(data)\n",
    "    \n",
    "    xs, ys, x_prior = createGraph(N);\n",
    "    \n",
    "    messages      = Vector{Normal{Float64}}(undef, N)\n",
    "    subscriptions = Vector{Teardown}(undef, N)\n",
    "    \n",
    "    @inbounds for (index, x) in enumerate(xs)\n",
    "        subscriptions[index] = subscribe!(belief(x), (d) -> messages[index] = getdata(d))\n",
    "    end\n",
    "    \n",
    "    # subscribe!(inference(xs[1]) |> take(1), (d) -> messages[1] = d)\n",
    "    # subscribe!(inference(xs[N]) |> take(1), (d) -> messages[N] = d)\n",
    "    \n",
    "    update!(x_prior, Normal(0.0, sqrt(10000.0)))\n",
    "    for i in 1:N\n",
    "       update!(ys[i], data[i])\n",
    "    end\n",
    "    \n",
    "#     for i in 2:N-1\n",
    "#         subscribe!(inference(xs[i]) |> take(1), (d) -> messages[i] = d)\n",
    "#     end\n",
    "    \n",
    "    foreach(unsubscribe!, subscriptions)\n",
    "    \n",
    "    return messages\n",
    "end"
   ]
  },
  {
   "cell_type": "code",
   "execution_count": 33,
   "metadata": {},
   "outputs": [],
   "source": [
    "N = 5\n",
    "data = collect(1:N) + sqrt(200.0) * randn(N);"
   ]
  },
  {
   "cell_type": "code",
   "execution_count": 34,
   "metadata": {},
   "outputs": [
    {
     "name": "stdout",
     "output_type": "stream",
     "text": [
      " 15.332653 seconds (29.34 M allocations: 1.554 GiB, 3.56% gc time)\n"
     ]
    },
    {
     "data": {
      "text/plain": [
       "5-element Array{Normal{Float64},1}:\n",
       " Normal{Float64}(μ=6.990703165263703, σ=6.311944030978032)\n",
       " Normal{Float64}(μ=7.990703165263702, σ=6.311944030978031)\n",
       " Normal{Float64}(μ=8.990703165263703, σ=6.311944030978033)\n",
       " Normal{Float64}(μ=9.990703165263703, σ=6.311944030978033)\n",
       " Normal{Float64}(μ=10.990703165263705, σ=6.311944030978033)"
      ]
     },
     "execution_count": 34,
     "metadata": {},
     "output_type": "execute_result"
    }
   ],
   "source": [
    "@time smoothing(data)"
   ]
  },
  {
   "cell_type": "code",
   "execution_count": null,
   "metadata": {},
   "outputs": [],
   "source": []
  },
  {
   "cell_type": "code",
   "execution_count": null,
   "metadata": {},
   "outputs": [],
   "source": []
  },
  {
   "cell_type": "code",
   "execution_count": null,
   "metadata": {},
   "outputs": [],
   "source": []
  },
  {
   "cell_type": "code",
   "execution_count": null,
   "metadata": {},
   "outputs": [],
   "source": []
  },
  {
   "cell_type": "code",
   "execution_count": null,
   "metadata": {},
   "outputs": [],
   "source": []
  },
  {
   "cell_type": "code",
   "execution_count": null,
   "metadata": {},
   "outputs": [],
   "source": []
  },
  {
   "cell_type": "code",
   "execution_count": null,
   "metadata": {},
   "outputs": [],
   "source": []
  },
  {
   "cell_type": "code",
   "execution_count": null,
   "metadata": {},
   "outputs": [],
   "source": []
  },
  {
   "cell_type": "code",
   "execution_count": 8,
   "metadata": {},
   "outputs": [
    {
     "data": {
      "text/plain": [
       "BenchmarkTools.Trial: \n",
       "  memory estimate:  15.29 MiB\n",
       "  allocs estimate:  401712\n",
       "  --------------\n",
       "  minimum time:     32.107 ms (0.00% GC)\n",
       "  median time:      33.409 ms (0.00% GC)\n",
       "  mean time:        36.060 ms (7.79% GC)\n",
       "  maximum time:     44.976 ms (23.93% GC)\n",
       "  --------------\n",
       "  samples:          139\n",
       "  evals/sample:     1"
      ]
     },
     "execution_count": 8,
     "metadata": {},
     "output_type": "execute_result"
    }
   ],
   "source": [
    "@benchmark smoothing($data)"
   ]
  },
  {
   "cell_type": "code",
   "execution_count": 5,
   "metadata": {},
   "outputs": [
    {
     "name": "stdout",
     "output_type": "stream",
     "text": [
      "  5.132938 seconds (15.65 M allocations: 801.089 MiB, 3.49% gc time)\n"
     ]
    },
    {
     "data": {
      "text/plain": [
       "600-element Array{StochasticMessage{Normal{Float64}},1}:\n",
       " StochasticMessage{Normal{Float64}}(Normal{Float64}(μ=0.046967100321060204, σ=0.5772540681943419))\n",
       " StochasticMessage{Normal{Float64}}(Normal{Float64}(μ=1.0469671003210603, σ=0.577254068194342))\n",
       " StochasticMessage{Normal{Float64}}(Normal{Float64}(μ=2.0469671003210603, σ=0.577254068194342))\n",
       " StochasticMessage{Normal{Float64}}(Normal{Float64}(μ=3.0469671003210603, σ=0.5772540681943419))\n",
       " StochasticMessage{Normal{Float64}}(Normal{Float64}(μ=4.046967100321059, σ=0.5772540681943418))\n",
       " StochasticMessage{Normal{Float64}}(Normal{Float64}(μ=5.04696710032106, σ=0.5772540681943419))\n",
       " StochasticMessage{Normal{Float64}}(Normal{Float64}(μ=6.046967100321059, σ=0.5772540681943419))\n",
       " StochasticMessage{Normal{Float64}}(Normal{Float64}(μ=7.04696710032106, σ=0.577254068194342))\n",
       " StochasticMessage{Normal{Float64}}(Normal{Float64}(μ=8.04696710032106, σ=0.577254068194342))\n",
       " StochasticMessage{Normal{Float64}}(Normal{Float64}(μ=9.04696710032106, σ=0.5772540681943419))\n",
       " StochasticMessage{Normal{Float64}}(Normal{Float64}(μ=10.046967100321059, σ=0.5772540681943419))\n",
       " StochasticMessage{Normal{Float64}}(Normal{Float64}(μ=11.04696710032106, σ=0.5772540681943419))\n",
       " StochasticMessage{Normal{Float64}}(Normal{Float64}(μ=12.04696710032106, σ=0.5772540681943419))\n",
       " ⋮\n",
       " StochasticMessage{Normal{Float64}}(Normal{Float64}(μ=588.0469671003207, σ=0.5772540681943417))\n",
       " StochasticMessage{Normal{Float64}}(Normal{Float64}(μ=589.0469671003207, σ=0.5772540681943416))\n",
       " StochasticMessage{Normal{Float64}}(Normal{Float64}(μ=590.0469671003207, σ=0.5772540681943416))\n",
       " StochasticMessage{Normal{Float64}}(Normal{Float64}(μ=591.0469671003207, σ=0.5772540681943416))\n",
       " StochasticMessage{Normal{Float64}}(Normal{Float64}(μ=592.0469671003207, σ=0.5772540681943416))\n",
       " StochasticMessage{Normal{Float64}}(Normal{Float64}(μ=593.0469671003207, σ=0.5772540681943417))\n",
       " StochasticMessage{Normal{Float64}}(Normal{Float64}(μ=594.0469671003208, σ=0.5772540681943418))\n",
       " StochasticMessage{Normal{Float64}}(Normal{Float64}(μ=595.0469671003207, σ=0.5772540681943418))\n",
       " StochasticMessage{Normal{Float64}}(Normal{Float64}(μ=596.0469671003206, σ=0.5772540681943418))\n",
       " StochasticMessage{Normal{Float64}}(Normal{Float64}(μ=597.0469671003207, σ=0.5772540681943417))\n",
       " StochasticMessage{Normal{Float64}}(Normal{Float64}(μ=598.0469671003207, σ=0.5772540681943418))\n",
       " StochasticMessage{Normal{Float64}}(Normal{Float64}(μ=599.0469671003207, σ=0.5772540681943418))"
      ]
     },
     "execution_count": 5,
     "metadata": {},
     "output_type": "execute_result"
    }
   ],
   "source": [
    "@time smoothing(data)"
   ]
  },
  {
   "cell_type": "code",
   "execution_count": 9,
   "metadata": {},
   "outputs": [
    {
     "name": "stdout",
     "output_type": "stream",
     "text": [
      "search:\n",
      "\n",
      "Couldn't find \u001b[36mSizedArray\u001b[39m\n",
      "Perhaps you meant StridedArray or SubArray\n"
     ]
    },
    {
     "data": {
      "text/latex": [
       "No documentation found.\n",
       "\n",
       "Binding \\texttt{SizedArray} does not exist.\n",
       "\n"
      ],
      "text/markdown": [
       "No documentation found.\n",
       "\n",
       "Binding `SizedArray` does not exist.\n"
      ],
      "text/plain": [
       "  No documentation found.\n",
       "\n",
       "  Binding \u001b[36mSizedArray\u001b[39m does not exist."
      ]
     },
     "execution_count": 9,
     "metadata": {},
     "output_type": "execute_result"
    }
   ],
   "source": [
    "?SizedArray"
   ]
  },
  {
   "cell_type": "code",
   "execution_count": null,
   "metadata": {},
   "outputs": [],
   "source": []
  }
 ],
 "metadata": {
  "kernelspec": {
   "display_name": "Julia 1.4.1",
   "language": "julia",
   "name": "julia-1.4"
  },
  "language_info": {
   "file_extension": ".jl",
   "mimetype": "application/julia",
   "name": "julia",
   "version": "1.4.1"
  }
 },
 "nbformat": 4,
 "nbformat_minor": 4
}
