{
 "cells": [
  {
   "cell_type": "markdown",
   "source": [
    "# RTS vs BIFM Smoothing"
   ],
   "metadata": {}
  },
  {
   "cell_type": "markdown",
   "source": [
    "## Import packages"
   ],
   "metadata": {}
  },
  {
   "cell_type": "code",
   "execution_count": null,
   "source": [
    "using Pkg\r\n",
    "Pkg.activate(\"..\")\r\n",
    "\r\n",
    "using Random\r\n",
    "using LinearAlgebra\r\n",
    "using PyPlot\r\n",
    "using Distributions\r\n",
    "using BenchmarkTools\r\n",
    "using Revise\r\n",
    "\r\n",
    "using ReactiveMP\r\n",
    "using GraphPPL\r\n",
    "using Rocket;"
   ],
   "outputs": [],
   "metadata": {}
  },
  {
   "cell_type": "markdown",
   "source": [
    "## Data generation"
   ],
   "metadata": {}
  },
  {
   "cell_type": "code",
   "execution_count": null,
   "source": [
    "function generate_parameters(dim_out::Int64, dim_in::Int64, dim_lat::Int64; seed::Int64 = 123)\r\n",
    "    \r\n",
    "    # define noise levels\r\n",
    "    input_noise  = 500.0\r\n",
    "    output_noise = 50.0\r\n",
    "\r\n",
    "    # create random generator for reproducibility\r\n",
    "    rng = MersenneTwister(seed)\r\n",
    "\r\n",
    "    # generate matrices, input statistics and noise matrices\r\n",
    "    A      = diagm(0.8 .* ones(dim_lat) .+ 0.2 * rand(rng, dim_lat))                                            # size (dim_lat x dim_lat)\r\n",
    "    B      = rand(dim_lat, dim_in)                                                                              # size (dim_lat x dim_in)\r\n",
    "    C      = rand(dim_out, dim_lat)                                                                             # size (dim_out x dim_lat)\r\n",
    "    μu     = rand(dim_in) .* collect(1:dim_in)                                                                  # size (dim_in x 1)\r\n",
    "    Σu     = input_noise  .* collect(Hermitian(randn(rng, dim_in, dim_in) + diagm(10 .+ 10*rand(dim_in))))      # size (dim_in x dim_in)\r\n",
    "    Σx     = output_noise .* collect(Hermitian(randn(rng, dim_out, dim_out) + diagm(10 .+ 10*rand(dim_out))))   # size (dim_out x dim_out)\r\n",
    "    Wu     = cholinv(Σu)\r\n",
    "    Wx     = cholinv(Σx)\r\n",
    "    \r\n",
    "    # return parameters\r\n",
    "    return A, B, C, μu, Σu, Σx, Wu, Wx\r\n",
    "\r\n",
    "end;"
   ],
   "outputs": [],
   "metadata": {}
  },
  {
   "cell_type": "code",
   "execution_count": null,
   "source": [
    "function generate_data(nr_samples::Int64, A::Array{Float64,2}, B::Array{Float64,2}, C::Array{Float64,2}, μu::Array{Float64,1}, Σu::Array{Float64,2}, Σx::Array{Float64,2}; seed::Int64 = 123)\r\n",
    "        \r\n",
    "    # create random data generator\r\n",
    "    rng = MersenneTwister(seed)\r\n",
    "    \r\n",
    "    # preallocate space for variables\r\n",
    "    z = Vector{Vector{Float64}}(undef, nr_samples)\r\n",
    "    x = Vector{Vector{Float64}}(undef, nr_samples)\r\n",
    "    u = rand(rng, MvNormal(μu, Σu), nr_samples)'\r\n",
    "    \r\n",
    "    # set initial value of latent states\r\n",
    "    z_prev = zeros(size(A,1))\r\n",
    "    \r\n",
    "    # generate data\r\n",
    "    for i in 1:nr_samples\r\n",
    "\r\n",
    "        # generate new latent state\r\n",
    "        z[i] = A * z_prev + B * u[i,:]\r\n",
    "\r\n",
    "        # generate new observation\r\n",
    "        x[i] = C * z[i] + rand(rng, MvNormal(zeros(dim_out), Σx))\r\n",
    "        \r\n",
    "        # generate new observation\r\n",
    "        z_prev .= z[i]\r\n",
    "        \r\n",
    "    end\r\n",
    "    \r\n",
    "    # return generated data\r\n",
    "    return z, x, u\r\n",
    "    \r\n",
    "end;"
   ],
   "outputs": [],
   "metadata": {}
  },
  {
   "cell_type": "code",
   "execution_count": null,
   "source": [
    "# specify settings\r\n",
    "nr_samples = 500\r\n",
    "dim_out = 3\r\n",
    "dim_in = 3\r\n",
    "dim_lat = 25\r\n",
    "\r\n",
    "# generate parameters\r\n",
    "A, B, C, μu, Σu, Σx, Wu, Wx = generate_parameters(dim_out, dim_in, dim_lat);\r\n",
    "            \r\n",
    "# generate data\r\n",
    "data_z, data_x, data_u = generate_data(nr_samples, A, B, C, μu, Σu, Σx);\r\n",
    "\r\n",
    "# visualise data\r\n",
    "plt.plot(data_x)\r\n",
    "plt.grid()\r\n",
    "plt.xlabel(\"sample\")\r\n",
    "plt.ylabel(\"observations\");"
   ],
   "outputs": [],
   "metadata": {}
  },
  {
   "cell_type": "markdown",
   "source": [
    "## Model specification"
   ],
   "metadata": {}
  },
  {
   "cell_type": "code",
   "execution_count": null,
   "source": [
    "@model function RTS_smoother(nr_samples::Int64, A::Array{Float64,2}, B::Array{Float64,2}, C::Array{Float64,2}, μu::Array{Float64,1}, Wu::Array{Float64,2}, Wx::Array{Float64,2})\r\n",
    "    \r\n",
    "    # fetch dimensionality\r\n",
    "    dim_lat = size(A, 1)\r\n",
    "    dim_out = size(C, 1)\r\n",
    "    \r\n",
    "    # initialize variables\r\n",
    "    z = randomvar(nr_samples)                 # hidden states (random variable)\r\n",
    "    u = randomvar(nr_samples)                 # inputs (random variable)\r\n",
    "    x = datavar(Vector{Float64}, nr_samples)  # outputs (observed variables)\r\n",
    "    \r\n",
    "    # set initial hidden state\r\n",
    "    z_prior ~ MvNormalMeanPrecision(zeros(dim_lat), 1e-5*diagm(ones(dim_lat)))\r\n",
    "    \r\n",
    "    # update last/previous hidden state\r\n",
    "    z_prev = z_prior\r\n",
    "\r\n",
    "    # loop through observations\r\n",
    "    for i in 1:nr_samples\r\n",
    "\r\n",
    "        # specify input as random variable\r\n",
    "        u[i] ~ MvNormalMeanPrecision(μu, Wu)\r\n",
    "        \r\n",
    "        # specify updated hidden state\r\n",
    "        z[i] ~ A * z_prev + B * u[i]\r\n",
    "        \r\n",
    "        # specify observation\r\n",
    "        x[i] ~ MvNormalMeanPrecision(C * z[i], Wx)\r\n",
    "        \r\n",
    "        # update last/previous hidden state\r\n",
    "        z_prev = z[i]\r\n",
    "\r\n",
    "    end\r\n",
    "    \r\n",
    "    # return parameters of interest\r\n",
    "    return z, x, u\r\n",
    "    \r\n",
    "end;"
   ],
   "outputs": [],
   "metadata": {}
  },
  {
   "cell_type": "code",
   "execution_count": null,
   "source": [
    "@model function BIFM_smoother(nr_samples::Int64, A::Array{Float64,2}, B::Array{Float64,2}, C::Array{Float64,2}, μu::Array{Float64,1}, Wu::Array{Float64,2}, Wx::Array{Float64,2})\r\n",
    "\r\n",
    "    # fetch dimensionality\r\n",
    "    dim_lat = size(A, 1)\r\n",
    "    \r\n",
    "    # initialize variables\r\n",
    "    z  = randomvar(nr_samples)                  # latent states\r\n",
    "    xt = randomvar(nr_samples)                  # latent observations\r\n",
    "    x  = datavar(Vector{Float64}, nr_samples)   # actual observations\r\n",
    "    u  = randomvar(nr_samples)                  # inputs\r\n",
    "    \r\n",
    "    # set priors\r\n",
    "    z_prior ~ MvNormalMeanPrecision(zeros(dim_lat), 1e-5*diagm(ones(dim_lat)))\r\n",
    "    z_tmp   ~ BIFM_helper(z_prior) where { q = MeanField()}\r\n",
    "    \r\n",
    "    # update last/previous hidden state\r\n",
    "    z_prev = z_tmp\r\n",
    "    \r\n",
    "    # loop through observations\r\n",
    "    for i in 1:nr_samples\r\n",
    "\r\n",
    "        # specify input as random variable\r\n",
    "        u[i]   ~ MvNormalMeanPrecision(μu, Wu)\r\n",
    "\r\n",
    "        # specify observation\r\n",
    "        xt[i]  ~ BIFM(u[i], z_prev, z[i]) where { meta = BIFMMeta(A, B, C) }\r\n",
    "        x[i]   ~ MvNormalMeanPrecision(xt[i], Wx)\r\n",
    "        \r\n",
    "        # update last/previous hidden state\r\n",
    "        z_prev = z[i]\r\n",
    "\r\n",
    "    end\r\n",
    "    \r\n",
    "    # set final value\r\n",
    "    z[nr_samples] ~ MvNormalMeanPrecision(zeros(dim_lat), zeros(dim_lat, dim_lat))\r\n",
    "    \r\n",
    "    # return parameters of interest\r\n",
    "    return z, x, u\r\n",
    "    \r\n",
    "end;"
   ],
   "outputs": [],
   "metadata": {}
  },
  {
   "cell_type": "markdown",
   "source": [
    "## Probabilistic inference"
   ],
   "metadata": {}
  },
  {
   "cell_type": "code",
   "execution_count": null,
   "source": [
    "function inference_RTS(data_x::Array{Array{Float64,1},1}, A::Array{Float64,2}, B::Array{Float64,2}, C::Array{Float64,2}, μu::Array{Float64,1}, Wu::Array{Float64,2}, Wx::Array{Float64,2})\r\n",
    "    \r\n",
    "    # define model\r\n",
    "    model, (z, x, u) = RTS_smoother(nr_samples, A, B, C, μu, Wu, Wx)\r\n",
    "    \r\n",
    "    # initialize buffer for latent states\r\n",
    "    mz = buffer(Marginal, nr_samples)\r\n",
    "    mx = buffer(Marginal, nr_samples)\r\n",
    "    mu = buffer(Marginal, nr_samples)\r\n",
    "    \r\n",
    "    # subscribe to z\r\n",
    "    z_sub = subscribe!(getmarginals(z), mz)\r\n",
    "    x_sub = subscribe!(getmarginals(x), mx)\r\n",
    "    u_sub = subscribe!(getmarginals(u), mu)\r\n",
    "\r\n",
    "    # update x according to observations (i.e. perform inference)\r\n",
    "    update!(x, data_x)\r\n",
    "    \r\n",
    "    # unsubscribe\r\n",
    "    unsubscribe!([z_sub, x_sub, u_sub])\r\n",
    "    \r\n",
    "    # return the marginal values\r\n",
    "    return getvalues(mz), getvalues(mx), getvalues(mu)\r\n",
    "\r\n",
    "end;"
   ],
   "outputs": [],
   "metadata": {}
  },
  {
   "cell_type": "code",
   "execution_count": null,
   "source": [
    "function inference_BIFM(data_x::Array{Array{Float64,1},1}, A::Array{Float64,2}, B::Array{Float64,2}, C::Array{Float64,2}, μu::Array{Float64,1}, Wu::Array{Float64,2}, Wx::Array{Float64,2})  \r\n",
    "\r\n",
    "    # define model\r\n",
    "    model, (z, x, u) = BIFM_smoother(nr_samples, A, B, C, μu, Wu, Wx)\r\n",
    "    \r\n",
    "    # initialize buffer for latent states\r\n",
    "    mz = buffer(Marginal, nr_samples)\r\n",
    "    mx = buffer(Marginal, nr_samples)\r\n",
    "    mu = buffer(Marginal, nr_samples)\r\n",
    "    \r\n",
    "    # subscribe to z\r\n",
    "    z_sub = subscribe!(getmarginals(z), mz)\r\n",
    "    x_sub = subscribe!(getmarginals(x), mx)\r\n",
    "    u_sub = subscribe!(getmarginals(u), mu)\r\n",
    "    \r\n",
    "    # update x according to observations\r\n",
    "    update!(x, data_x)\r\n",
    "    \r\n",
    "    # when done, unsubscribe\r\n",
    "    unsubscribe!([z_sub, x_sub, u_sub])\r\n",
    "    \r\n",
    "    # return the marginal values\r\n",
    "    return getvalues(mz), getvalues(mx), getvalues(mu)\r\n",
    "\r\n",
    "end;"
   ],
   "outputs": [],
   "metadata": {}
  },
  {
   "cell_type": "markdown",
   "source": [
    "## Experiments for 500 observations"
   ],
   "metadata": {}
  },
  {
   "cell_type": "code",
   "execution_count": null,
   "source": [
    "z_RTS, x_RTS, u_RTS = inference_RTS(data_x, A, B, C, μu, Wu, Wx)\r\n",
    "z_BIFM, x_BIFM, u_BIFM = inference_BIFM(data_x, A, B, C, μu, Wu, Wx);"
   ],
   "outputs": [],
   "metadata": {}
  },
  {
   "cell_type": "code",
   "execution_count": null,
   "source": [
    "fig, ax = plt.subplots(ncols=2, figsize=(15,5))\r\n",
    "ax[1].plot(mean.(z_RTS), c=\"orange\")\r\n",
    "ax[1].scatter(repeat(1:nr_samples, 1, dim_lat)', hcat(data_z...), c=\"blue\", s=10, alpha=0.1)\r\n",
    "ax[2].plot(mean.(z_BIFM), c=\"orange\")\r\n",
    "ax[2].scatter(repeat(1:nr_samples, 1, dim_lat)', hcat(data_z...), c=\"blue\", s=10, alpha=0.1)\r\n",
    "ax[1].grid(), ax[2].grid()\r\n",
    "ax[1].set_xlabel(\"sample\"), ax[2].set_xlabel(\"sample\")\r\n",
    "ax[1].set_ylabel(\"latent state\"), ax[2].set_ylabel(\"latent state\")\r\n",
    "ax[1].set_xlim(0, nr_samples), ax[2].set_xlim(0, nr_samples)\r\n",
    "ax[1].set_title(\"RTS smoother\"), ax[2].set_title(\"BIFM smoother\")\r\n",
    "fig.suptitle(\"Latent state estimation\");"
   ],
   "outputs": [],
   "metadata": {}
  },
  {
   "cell_type": "code",
   "execution_count": null,
   "source": [
    "_, ax = plt.subplots(ncols=2, figsize=(15,5))\r\n",
    "ax[1].plot(mean.(u_RTS), c=\"orange\")\r\n",
    "ax[1].scatter(repeat(1:nr_samples, 1, dim_in)', hcat(data_u...), c=\"blue\", s=10, alpha=0.1)\r\n",
    "ax[2].plot(mean.(u_BIFM), c=\"orange\")\r\n",
    "ax[2].scatter(repeat(1:nr_samples, 1, dim_in)', hcat(data_u...), c=\"blue\", s=10, alpha=0.1)\r\n",
    "ax[1].grid(), ax[2].grid()\r\n",
    "ax[1].set_xlabel(\"sample\"), ax[2].set_xlabel(\"sample\")\r\n",
    "ax[1].set_ylabel(\"input\"), ax[2].set_ylabel(\"input\")\r\n",
    "ax[1].set_xlim(0, nr_samples), ax[2].set_xlim(0, nr_samples)\r\n",
    "ax[1].set_title(\"RTS smoother\"), ax[2].set_title(\"BIFM smoother\")\r\n",
    "fig.suptitle(\"Input estimation\");"
   ],
   "outputs": [],
   "metadata": {}
  },
  {
   "cell_type": "code",
   "execution_count": null,
   "source": [
    "_, ax = plt.subplots(ncols=2, figsize=(15,5))\r\n",
    "ax[1].plot(mean.(x_RTS), c=\"orange\")\r\n",
    "ax[1].scatter(repeat(1:nr_samples, 1, dim_out)', hcat(data_x...), c=\"blue\", s=10, alpha=0.1)\r\n",
    "ax[2].plot(mean.(x_BIFM), c=\"orange\")\r\n",
    "ax[2].scatter(repeat(1:nr_samples, 1, dim_out)', hcat(data_x...), c=\"blue\", s=10, alpha=0.1)\r\n",
    "ax[1].grid(), ax[2].grid()\r\n",
    "ax[1].set_xlabel(\"sample\"), ax[2].set_xlabel(\"sample\")\r\n",
    "ax[1].set_ylabel(\"output state\"), ax[2].set_ylabel(\"output state\")\r\n",
    "ax[1].set_xlim(0, nr_samples), ax[2].set_xlim(0, nr_samples)\r\n",
    "ax[1].set_title(\"RTS smoother\"), ax[2].set_title(\"BIFM smoother\")\r\n",
    "fig.suptitle(\"Output estimation\");"
   ],
   "outputs": [],
   "metadata": {}
  },
  {
   "cell_type": "code",
   "execution_count": 13,
   "source": [
    "@benchmark inference_RTS(data_x, A, B, C, μu, Σu, Σx)"
   ],
   "outputs": [],
   "metadata": {}
  },
  {
   "cell_type": "code",
   "execution_count": null,
   "source": [
    "@benchmark inference_BIFM(data_x, A, B, C, μu, Wu, Wx)"
   ],
   "outputs": [],
   "metadata": {}
  }
 ],
 "metadata": {
  "orig_nbformat": 4,
  "language_info": {
   "file_extension": ".jl",
   "name": "julia",
   "mimetype": "application/julia",
   "version": "1.5.3"
  },
  "kernelspec": {
   "name": "julia-1.5",
   "display_name": "Julia 1.5.3",
   "language": "julia"
  }
 },
 "nbformat": 4,
 "nbformat_minor": 2
}