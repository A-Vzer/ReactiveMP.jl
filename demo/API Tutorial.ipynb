{
 "cells": [
  {
   "cell_type": "code",
   "execution_count": 1,
   "metadata": {},
   "outputs": [
    {
     "name": "stderr",
     "output_type": "stream",
     "text": [
      "┌ Info: Precompiling Rocket [df971d30-c9d6-4b37-b8ff-e965b2cb3a40]\n",
      "└ @ Base loading.jl:1342\n",
      "┌ Info: Precompiling ReactiveMP [a194aa59-28ba-4574-a09c-4a745416d6e3]\n",
      "└ @ Base loading.jl:1342\n"
     ]
    }
   ],
   "source": [
    "# Reactive programming layer for Julia\n",
    "using Rocket \n",
    "# Core package for Constrained Bethe Free Energy minimsation with Factor graphs and message passing\n",
    "using ReactiveMP \n",
    "# High-level user friendly probabilistic model and constraints specification language for ReactiveMP\n",
    "using GraphPPL\n",
    "# Optionally include Distributions.jl\n",
    "using Distributions"
   ]
  },
  {
   "cell_type": "markdown",
   "metadata": {},
   "source": [
    "## General syntax for model creation\n",
    "\n",
    "We use `@model` macro from `GraphPPL.jl` package to create a probabilistic model $p(s|y)$ and also specify extra constraints on variational family of distributions $\\mathcal{Q}$.\n",
    "Below there is a simple example of general syntax for model creation. In this tutorial we do not cover all possible way to create models or extra features of `GraphPPL.jl` and we refer a reader to the documentation for more rigorous explanations and examples."
   ]
  },
  {
   "cell_type": "code",
   "execution_count": 35,
   "metadata": {},
   "outputs": [
    {
     "data": {
      "text/plain": [
       "test_model1 (generic function with 3 methods)"
      ]
     },
     "execution_count": 35,
     "metadata": {},
     "output_type": "execute_result"
    }
   ],
   "source": [
    "# `@model` macro accepts a regular Julia function\n",
    "@model function test_model1(s_mean, s_precision)\n",
    "    \n",
    "    # We use `randomvar` function to create \n",
    "    # random variables in our model\n",
    "    s = randomvar()\n",
    "    \n",
    "    # `tilde` expression creates a functional dependencies\n",
    "    # between variables in our model and can be read as \n",
    "    # `sampled from`\n",
    "    s ~ GaussianMeanPrecision(s_mean, s_precision)\n",
    "    \n",
    "    # We use `datavar` function to create \n",
    "    # observed data variables in our models\n",
    "    # We also need to specify the type of our data \n",
    "    # In this example it is `Float64`\n",
    "    y = datavar(Float64)\n",
    "    \n",
    "    y ~ GaussianMeanPrecision(s, 1.0)\n",
    "    \n",
    "    return s, y\n",
    "end"
   ]
  },
  {
   "cell_type": "markdown",
   "metadata": {},
   "source": [
    "`@model` macro creates a function with the same name and with the same set of input arguments as the original function (`test_model1(s_mean, s_precision)` in this example). However, the return value is modified in such a way to contain a reference to the model object as first value and user specified variables in a form of a tuple as second value."
   ]
  },
  {
   "cell_type": "code",
   "execution_count": 87,
   "metadata": {},
   "outputs": [],
   "source": [
    "model, (s, y) = test_model1(0.0, 1.0);"
   ]
  },
  {
   "cell_type": "markdown",
   "metadata": {},
   "source": [
    "Later on we can examine our model structure with the help of some utility functions such as: \n",
    "- `getnodes()`: returns an array of factor nodes in a correposning factor graph\n",
    "- `getrandom()`: returns an array of random variable in the model\n",
    "- `getdata()`: returns an array of data inputs in the model\n",
    "- `getconstant()`: return an array of constant values in the model"
   ]
  },
  {
   "cell_type": "code",
   "execution_count": 88,
   "metadata": {},
   "outputs": [
    {
     "data": {
      "text/plain": [
       "2-element Vector{ReactiveMP.AbstractFactorNode}:\n",
       " FactorNode:\n",
       " form            : NormalMeanPrecision\n",
       " sdtype          : Stochastic()\n",
       " interfaces      : (Interface(out, Marginalisation()), Interface(μ, Marginalisation()), Interface(τ, Marginalisation()))\n",
       " factorisation   : ((1, 2, 3),)\n",
       " local marginals : (:out_μ_τ,)\n",
       " metadata        : nothing\n",
       " pipeline        : FactorNodePipeline(functional_dependencies = DefaultFunctionalDependencies(), extra_stages = EmptyPipelineStage()\n",
       "\n",
       " FactorNode:\n",
       " form            : NormalMeanPrecision\n",
       " sdtype          : Stochastic()\n",
       " interfaces      : (Interface(out, Marginalisation()), Interface(μ, Marginalisation()), Interface(τ, Marginalisation()))\n",
       " factorisation   : ((1, 2, 3),)\n",
       " local marginals : (:out_μ_τ,)\n",
       " metadata        : nothing\n",
       " pipeline        : FactorNodePipeline(functional_dependencies = DefaultFunctionalDependencies(), extra_stages = EmptyPipelineStage()\n"
      ]
     },
     "execution_count": 88,
     "metadata": {},
     "output_type": "execute_result"
    }
   ],
   "source": [
    "getnodes(model)"
   ]
  },
  {
   "cell_type": "code",
   "execution_count": 38,
   "metadata": {},
   "outputs": [
    {
     "data": {
      "text/plain": [
       "1-element Vector{Symbol}:\n",
       " :s"
      ]
     },
     "execution_count": 38,
     "metadata": {},
     "output_type": "execute_result"
    }
   ],
   "source": [
    "getrandom(model) .|> name"
   ]
  },
  {
   "cell_type": "code",
   "execution_count": 39,
   "metadata": {},
   "outputs": [
    {
     "data": {
      "text/plain": [
       "1-element Vector{Symbol}:\n",
       " :y"
      ]
     },
     "execution_count": 39,
     "metadata": {},
     "output_type": "execute_result"
    }
   ],
   "source": [
    "getdata(model) .|> name"
   ]
  },
  {
   "cell_type": "code",
   "execution_count": 40,
   "metadata": {},
   "outputs": [
    {
     "data": {
      "text/plain": [
       "3-element Vector{Float64}:\n",
       " 0.0\n",
       " 1.0\n",
       " 1.0"
      ]
     },
     "execution_count": 40,
     "metadata": {},
     "output_type": "execute_result"
    }
   ],
   "source": [
    "getconstant(model) .|> getconst"
   ]
  },
  {
   "cell_type": "markdown",
   "metadata": {},
   "source": [
    "It is also possible to control flow statements in model specification such as `if` or `for` blocks"
   ]
  },
  {
   "cell_type": "code",
   "execution_count": 41,
   "metadata": {},
   "outputs": [
    {
     "data": {
      "text/plain": [
       "test_model2 (generic function with 1 method)"
      ]
     },
     "execution_count": 41,
     "metadata": {},
     "output_type": "execute_result"
    }
   ],
   "source": [
    "@model function test_model2(n)\n",
    "    \n",
    "    if n <= 1\n",
    "        error(\"`n` argument must be greater than one.\")\n",
    "    end\n",
    "    \n",
    "    # `randomvar(n)` creates a dense sequence of \n",
    "    # random variables\n",
    "    s = randomvar(n)\n",
    "    \n",
    "    # `datavar(Float64, n)` creates a dense sequence of \n",
    "    # observed data variables of type `Float64`\n",
    "    y = datavar(Float64, n)\n",
    "    \n",
    "    s[1] ~ GaussianMeanPrecision(0.0, 0.1)\n",
    "    y[1] ~ GaussianMeanPrecision(s[1], 1.0)\n",
    "    \n",
    "    for i in 2:n\n",
    "        s[i] ~ GaussianMeanPrecision(s[i - 1], 1.0)\n",
    "        y[i] ~ GaussianMeanPrecision(s[i], 1.0)\n",
    "    end\n",
    "    \n",
    "    return s, y\n",
    "end"
   ]
  },
  {
   "cell_type": "code",
   "execution_count": 44,
   "metadata": {},
   "outputs": [],
   "source": [
    "model, (s, y) = test_model2(10);"
   ]
  },
  {
   "cell_type": "code",
   "execution_count": 53,
   "metadata": {},
   "outputs": [
    {
     "data": {
      "text/plain": [
       "20"
      ]
     },
     "execution_count": 53,
     "metadata": {},
     "output_type": "execute_result"
    }
   ],
   "source": [
    "# An amount of factor nodes in generated Factor Graph\n",
    "getnodes(model) |> length"
   ]
  },
  {
   "cell_type": "code",
   "execution_count": 54,
   "metadata": {},
   "outputs": [
    {
     "data": {
      "text/plain": [
       "10"
      ]
     },
     "execution_count": 54,
     "metadata": {},
     "output_type": "execute_result"
    }
   ],
   "source": [
    "# An amount of random variables\n",
    "getrandom(model) |> length"
   ]
  },
  {
   "cell_type": "code",
   "execution_count": 55,
   "metadata": {},
   "outputs": [
    {
     "data": {
      "text/plain": [
       "10"
      ]
     },
     "execution_count": 55,
     "metadata": {},
     "output_type": "execute_result"
    }
   ],
   "source": [
    "# An amount of data inputs\n",
    "getdata(model) |> length"
   ]
  },
  {
   "cell_type": "code",
   "execution_count": 56,
   "metadata": {},
   "outputs": [
    {
     "data": {
      "text/plain": [
       "21"
      ]
     },
     "execution_count": 56,
     "metadata": {},
     "output_type": "execute_result"
    }
   ],
   "source": [
    "# An amount of constant values\n",
    "getconstant(model) |> length"
   ]
  },
  {
   "cell_type": "markdown",
   "metadata": {},
   "source": [
    "It is also possible to use complex expression inside functional dependencies expressions\n",
    "\n",
    "```julia\n",
    "y ~ NormalMeanPrecision(2.0 * (s + 1.0), 1.0)\n",
    "```\n",
    "\n",
    "`~` operator automatically creates a random variable if none was created before with the same name and errors if this name already exists\n",
    "\n",
    "```julia\n",
    "# s = randomvar() here is optional\n",
    "# `~` creates random variables automatically\n",
    "s ~ NormalMeanPrecision(0.0, 1.0)\n",
    "```\n",
    "\n",
    "An error example:"
   ]
  },
  {
   "cell_type": "code",
   "execution_count": 84,
   "metadata": {},
   "outputs": [
    {
     "ename": "LoadError",
     "evalue": "LoadError: Invalid name 's' for new random variable. 's' was already initialized with '=' operator before.\nin expression starting at /Users/bvdmitri/.julia/dev/GraphPPL/src/GraphPPL.jl:161",
     "output_type": "error",
     "traceback": [
      "LoadError: Invalid name 's' for new random variable. 's' was already initialized with '=' operator before.\nin expression starting at /Users/bvdmitri/.julia/dev/GraphPPL/src/GraphPPL.jl:161",
      "",
      "Stacktrace:",
      "  [1] error(s::String)",
      "    @ Base ./error.jl:33",
      "  [2] (::GraphPPL.var\"#41#54\"{ReactiveMPBackend, Set{Symbol}, Set{Symbol}, Symbol})(expression::Expr)",
      "    @ GraphPPL ~/.julia/dev/GraphPPL/src/GraphPPL.jl:302",
      "  [3] walk",
      "    @ ~/.julia/packages/MacroTools/HDyRe/src/utils.jl:112 [inlined]",
      "  [4] postwalk",
      "    @ ~/.julia/packages/MacroTools/HDyRe/src/utils.jl:122 [inlined]",
      "  [5] (::MacroTools.var\"#19#20\"{GraphPPL.var\"#41#54\"{ReactiveMPBackend, Set{Symbol}, Set{Symbol}, Symbol}})(x::Expr)",
      "    @ MacroTools ~/.julia/packages/MacroTools/HDyRe/src/utils.jl:122",
      "  [6] iterate",
      "    @ ./generator.jl:47 [inlined]",
      "  [7] collect_to!(dest::Vector{Any}, itr::Base.Generator{Vector{Any}, MacroTools.var\"#19#20\"{GraphPPL.var\"#41#54\"{ReactiveMPBackend, Set{Symbol}, Set{Symbol}, Symbol}}}, offs::Int64, st::Int64)",
      "    @ Base ./array.jl:728",
      "  [8] collect_to!(dest::Vector{LineNumberNode}, itr::Base.Generator{Vector{Any}, MacroTools.var\"#19#20\"{GraphPPL.var\"#41#54\"{ReactiveMPBackend, Set{Symbol}, Set{Symbol}, Symbol}}}, offs::Int64, st::Int64)",
      "    @ Base ./array.jl:736",
      "  [9] collect_to_with_first!(dest::Vector{LineNumberNode}, v1::LineNumberNode, itr::Base.Generator{Vector{Any}, MacroTools.var\"#19#20\"{GraphPPL.var\"#41#54\"{ReactiveMPBackend, Set{Symbol}, Set{Symbol}, Symbol}}}, st::Int64)",
      "    @ Base ./array.jl:706",
      " [10] _collect(c::Vector{Any}, itr::Base.Generator{Vector{Any}, MacroTools.var\"#19#20\"{GraphPPL.var\"#41#54\"{ReactiveMPBackend, Set{Symbol}, Set{Symbol}, Symbol}}}, #unused#::Base.EltypeUnknown, isz::Base.HasShape{1})",
      "    @ Base ./array.jl:700",
      " [11] collect_similar(cont::Vector{Any}, itr::Base.Generator{Vector{Any}, MacroTools.var\"#19#20\"{GraphPPL.var\"#41#54\"{ReactiveMPBackend, Set{Symbol}, Set{Symbol}, Symbol}}})",
      "    @ Base ./array.jl:606",
      " [12] map(f::Function, A::Vector{Any})",
      "    @ Base ./abstractarray.jl:2294",
      " [13] walk(x::Expr, inner::Function, outer::GraphPPL.var\"#41#54\"{ReactiveMPBackend, Set{Symbol}, Set{Symbol}, Symbol})",
      "    @ MacroTools ~/.julia/packages/MacroTools/HDyRe/src/utils.jl:112",
      " [14] postwalk(f::Function, x::Expr)",
      "    @ MacroTools ~/.julia/packages/MacroTools/HDyRe/src/utils.jl:122",
      " [15] generate_model_expression(backend::ReactiveMPBackend, model_options::Expr, model_specification::Expr)",
      "    @ GraphPPL ~/.julia/dev/GraphPPL/src/GraphPPL.jl:272",
      " [16] var\"@model\"(__source__::LineNumberNode, __module__::Module, model_options::Any, model_specification::Any)",
      "    @ GraphPPL ~/.julia/dev/GraphPPL/src/GraphPPL.jl:165",
      " [17] eval",
      "    @ ./boot.jl:360 [inlined]",
      " [18] include_string(mapexpr::typeof(REPL.softscope), mod::Module, code::String, filename::String)",
      "    @ Base ./loading.jl:1116"
     ]
    }
   ],
   "source": [
    "@model function error_model1()\n",
    "    s = 1.0\n",
    "    s ~ NormalMeanPrecision(0.0, 1.0)\n",
    "end"
   ]
  },
  {
   "cell_type": "markdown",
   "metadata": {},
   "source": [
    "By default `GraphPPL.jl` creates a new references for constants (literals like `0.0` or `1.0`) in a model. In some situtations it maybe not efficient especially if this constants represent some matrices. `GraphPPL.jl` will create a new copy of some constant matrix in a model every time it uses it. However it is possible to use `constavar()` function to create and reuse constant in the model specification syntax\n",
    "\n",
    "```julia\n",
    "# Creates constant reference in a model with a prespecified value\n",
    "c = constvar(0.0)\n",
    "```\n",
    "\n",
    "An example:"
   ]
  },
  {
   "cell_type": "code",
   "execution_count": 86,
   "metadata": {},
   "outputs": [
    {
     "data": {
      "text/plain": [
       "test_model5 (generic function with 1 method)"
      ]
     },
     "execution_count": 86,
     "metadata": {},
     "output_type": "execute_result"
    }
   ],
   "source": [
    "@model function test_model5(dim::Int, n::Int, A::Matrix, P::Matrix, Q::Matrix)\n",
    "    \n",
    "    s = randomvar(n)\n",
    "    \n",
    "    y = datavar(Vector{Float64}, n)\n",
    "    \n",
    "    # Here we create constant references\n",
    "    # for constant matrices in our model \n",
    "    # to make inference a little bit more efficient\n",
    "    cA = constvar(A)\n",
    "    cP = constvar(P)\n",
    "    cQ = constvar(Q)\n",
    "    \n",
    "    s[1] ~ MvGaussianMeanCovariance(zeros(dim), cP)\n",
    "    y[1] ~ MvGaussianMeanCovariance(s[1], cQ)\n",
    "    \n",
    "    for i in 2:n\n",
    "        s[i] ~ MvGaussianMeanCovariance(cA * s[i - 1], cP)\n",
    "        y[i] ~ MvGaussianMeanCovariance(s[i], cQ)\n",
    "    end\n",
    "    \n",
    "    return s, y\n",
    "end"
   ]
  },
  {
   "cell_type": "markdown",
   "metadata": {},
   "source": [
    "`~` expression also may return a reference to a newly created node in a corresponding factor graph for better convenience or later usage:\n",
    "\n",
    "```julia\n",
    "@model function test_model()\n",
    "\n",
    "    # In this example `ynode` refers to the corresponding \n",
    "    # `GaussianMeanVariance` node created in the factor graph\n",
    "    ynode, y ~ GaussianMeanVariance(0.0, 1.0)\n",
    "    \n",
    "    return ynode, y\n",
    "end\n",
    "```"
   ]
  },
  {
   "cell_type": "markdown",
   "metadata": {},
   "source": [
    "### Factorisation constraints for variational family of distributions $\\mathcal{Q}$\n",
    "\n",
    "On a very high-level, ReactiveMP.jl is aimed to solve the Constrained Bethe Free Energy minimisation problem. For this task we often need to specify extra factorisation on variatonal family of distributions $q \\in \\mathcal{Q}$. For this purpose `@model` macro supports optional `where { ... }` clauses for `~` expressions in a model specification."
   ]
  },
  {
   "cell_type": "code",
   "execution_count": 90,
   "metadata": {},
   "outputs": [
    {
     "data": {
      "text/plain": [
       "test_model6 (generic function with 1 method)"
      ]
     },
     "execution_count": 90,
     "metadata": {},
     "output_type": "execute_result"
    }
   ],
   "source": [
    "@model function test_model6(n)\n",
    "    τ ~ GammaShapeRate(1.0, 1.0) \n",
    "    μ ~ NormalMeanVariance(0.0, 100.0)\n",
    "    \n",
    "    y = datavar(Float64, n)\n",
    "    \n",
    "    for i in 1:n\n",
    "        # Here we assume a mean-field assumption on our \n",
    "        # variational family of distributions\n",
    "        y[i] ~ NormalMeanPrecision(μ, τ) where { q = q(y[i])q(μ)q(τ) }\n",
    "    end\n",
    "    \n",
    "    return μ, τ, y\n",
    "end"
   ]
  },
  {
   "cell_type": "markdown",
   "metadata": {},
   "source": [
    "There are several options to specify the mean-field factorisation constraint. \n",
    "\n",
    "```julia\n",
    "y[i] ~ NormalMeanPrecision(μ, τ) where { q = q(y[i])q(μ)q(τ) } # With names from model specification\n",
    "y[i] ~ NormalMeanPrecision(μ, τ) where { q = q(out)q(mean)q(precision) } # With names from node specification\n",
    "y[i] ~ NormalMeanPrecision(μ, τ) where { q = MeanField() } # With alias name\n",
    "```\n",
    "\n",
    "It is also possible to use local structured factorisation:\n",
    "\n",
    "```julia\n",
    "y[i] ~ NormalMeanPrecision(μ, τ) where { q = q(y[i], μ)q(τ) } # With names from model specification\n",
    "y[i] ~ NormalMeanPrecision(μ, τ) where { q = q(out, mean)q(precision) } # With names from node specification\n",
    "```"
   ]
  },
  {
   "cell_type": "markdown",
   "metadata": {},
   "source": [
    "### Meta specification\n",
    "\n",
    "During model specification some functional dependencies may accept an optional `meta` object in `where { ... }` clause. The purpose of the `meta` object is to adjust, modify or supply some extra information to the inference backend during messages computations. `meta` object for example may contain an approximation method that needs to be used during various approximations or it may specify the tradeoff between accuracy and performance:\n",
    "\n",
    "```julia\n",
    "# In this example `meta` object for autoregressive `AR` node specifes the variate type of \n",
    "# the autoregressive process and its order. In addition it specifies that messages computation rules \n",
    "# respect accuracy over speed with `ARsafe()` strategy. In contrast, `ARunsafe()` strategy tries to speedup computations\n",
    "# by cost of possible numerical instabilities during an inference procedure\n",
    "s[i] ~ AR(s[i - 1], θ, γ) where { q = q(s[i - 1], s[i])q(θ)q(γ), meta = ARMeta(Multivariate, order, ARsafe()) }\n",
    "...\n",
    "s[i] ~ AR(s[i - 1], θ, γ) where { q = q(s[i - 1], s[i])q(θ)q(γ), meta = ARMeta(Univariate, order, ARunsafe()) }\n",
    "```\n",
    "\n",
    "Another example with `GaussianControlledVariance`, or simply `GCV` [see Hierarchical Gaussian Filter], node:\n",
    "\n",
    "```julia\n",
    "# In this example we specify structured factorisation and flag meta with `GaussHermiteCubature` \n",
    "# method with `21` sigma points for approximation of non-lineariety between hierarchy layers\n",
    "xt ~ GCV(xt_min, zt, real_k, real_w) where { q = q(xt, xt_min)q(zt)q(κ)q(ω), meta = GCVMetadata(GaussHermiteCubature(21)) }\n",
    "```"
   ]
  },
  {
   "cell_type": "markdown",
   "metadata": {},
   "source": [
    "Meta object is usefull to pass any extra information to a node that is not a random variable or constant model variable."
   ]
  },
  {
   "cell_type": "code",
   "execution_count": null,
   "metadata": {},
   "outputs": [],
   "source": []
  },
  {
   "cell_type": "code",
   "execution_count": null,
   "metadata": {},
   "outputs": [],
   "source": []
  },
  {
   "cell_type": "code",
   "execution_count": null,
   "metadata": {},
   "outputs": [],
   "source": []
  },
  {
   "cell_type": "code",
   "execution_count": null,
   "metadata": {},
   "outputs": [],
   "source": []
  },
  {
   "cell_type": "markdown",
   "metadata": {},
   "source": [
    "## Creating custom nodes and message computation rules"
   ]
  },
  {
   "cell_type": "markdown",
   "metadata": {},
   "source": [
    "### Custom nodes\n",
    "\n",
    "To create a custom functional form and to make it available during model specification `ReactiveMP.jl` exports the `@node` macro:\n",
    "\n",
    "```julia\n",
    "# `@node` macro accepts a name of the functional form, its type, either `Stochastic` or `Deterministic` and an array of interfaces:\n",
    "@node NormalMeanVariance Stochastic [ out, μ, v ]\n",
    "\n",
    "# Interfaces may have aliases for their names that might be convenient for factorisation constraints specification\n",
    "@node NormalMeanVariance Stochastic [ out, (μ, aliases = [ mean ]), (v, aliases = [ var ]) ]\n",
    "\n",
    "# `NormalMeanVariance` structure declaration must exist, otherwise `@node` macro will throw an error\n",
    "struct NormalMeanVariance end \n",
    "\n",
    "@node NormalMeanVariance Stochastic [ out, μ, v ]\n",
    "\n",
    "# It is also possible to use function objects as a node functional form\n",
    "function dot end\n",
    "\n",
    "# Syntax for functions is a bit differet, as it is necesssary to use `typeof(...)` function for them \n",
    "# out = dot(x, a)\n",
    "@node typeof(dot) Deterministic [ out, x, a ]\n",
    "```"
   ]
  },
  {
   "cell_type": "markdown",
   "metadata": {},
   "source": [
    "**Note**: Deterministic nodes do not support factorisation constraints with `where { q = ... }` clause.\n",
    "\n",
    "After that it is possible to use newly during model specification:\n",
    "\n",
    "```julia\n",
    "@model function test_model()\n",
    "    ...\n",
    "    y ~ dot(x, a)\n",
    "    ...\n",
    "end\n",
    "```"
   ]
  },
  {
   "cell_type": "markdown",
   "metadata": {},
   "source": [
    "### Custom messages computation rules\n",
    "\n",
    "`ReactiveMP.jl` exports `@rule` macro to create custom messages computation rules"
   ]
  },
  {
   "cell_type": "code",
   "execution_count": null,
   "metadata": {},
   "outputs": [],
   "source": []
  },
  {
   "cell_type": "code",
   "execution_count": null,
   "metadata": {},
   "outputs": [],
   "source": []
  },
  {
   "cell_type": "code",
   "execution_count": null,
   "metadata": {},
   "outputs": [],
   "source": [
    "length(getdata(model))"
   ]
  }
 ],
 "metadata": {
  "kernelspec": {
   "display_name": "Julia 1.6.2",
   "language": "julia",
   "name": "julia-1.6"
  },
  "language_info": {
   "file_extension": ".jl",
   "mimetype": "application/julia",
   "name": "julia",
   "version": "1.6.3"
  }
 },
 "nbformat": 4,
 "nbformat_minor": 4
}
