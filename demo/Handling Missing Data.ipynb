{
 "cells": [
  {
   "cell_type": "code",
   "execution_count": 1,
   "metadata": {},
   "outputs": [],
   "source": [
    "using Rocket\n",
    "using ReactiveMP\n",
    "using GraphPPL\n",
    "using BenchmarkTools\n",
    "using Distributions\n",
    "using MacroTools"
   ]
  },
  {
   "cell_type": "code",
   "execution_count": 2,
   "metadata": {
    "scrolled": false
   },
   "outputs": [
    {
     "data": {
      "text/plain": [
       "smoothing (generic function with 1 method)"
      ]
     },
     "execution_count": 2,
     "metadata": {},
     "output_type": "execute_result"
    }
   ],
   "source": [
    "@model function smoothing(n, x0, P::ConstVariable)\n",
    "    \n",
    "    x_prior ~ NormalMeanVariance(mean(x0), cov(x0)) \n",
    "\n",
    "    x = randomvar(n)\n",
    "    y = datavar(Float64, n)\n",
    "    c = constvar(1.0)\n",
    "\n",
    "    x_prev = x_prior\n",
    "\n",
    "    for i in 1:n\n",
    "        x[i] ~ x_prev + c\n",
    "        y[i] ~ NormalMeanVariance(x[i], P)\n",
    "        \n",
    "        x_prev = x[i]\n",
    "    end\n",
    "\n",
    "    return x, y\n",
    "end"
   ]
  },
  {
   "cell_type": "code",
   "execution_count": 3,
   "metadata": {},
   "outputs": [],
   "source": [
    "@rule NormalMeanVariance(:μ, Marginalisation) (m_out::Any, m_v::Missing) = missing\n",
    "@rule NormalMeanVariance(:μ, Marginalisation) (m_out::Missing, m_v::Any) = missing\n",
    "\n",
    "@rule typeof(+)(:in1, Marginalisation) (m_out::Missing, m_in2::Any) = missing\n",
    "@rule typeof(+)(:in1, Marginalisation) (m_out::Any, m_in2::Missing) = missing"
   ]
  },
  {
   "cell_type": "code",
   "execution_count": 7,
   "metadata": {},
   "outputs": [],
   "source": [
    "P = 1.0\n",
    "\n",
    "n = 500\n",
    "data = convert(Vector{Union{Float64, Missing}}, collect(1:n) + rand(Normal(0.0, sqrt(P)), n));\n",
    "\n",
    "for index in map(d -> rem(abs(d), n), rand(Int, Int(n / 2)))\n",
    "    data[index] = missing\n",
    "end"
   ]
  },
  {
   "cell_type": "code",
   "execution_count": 8,
   "metadata": {},
   "outputs": [
    {
     "data": {
      "text/plain": [
       "inference (generic function with 1 method)"
      ]
     },
     "execution_count": 8,
     "metadata": {},
     "output_type": "execute_result"
    }
   ],
   "source": [
    "function inference(data, x0, P)\n",
    "    n = length(data)\n",
    "    \n",
    "    _, (x, y) = smoothing(n, x0, P);\n",
    "\n",
    "    buffer    = Vector{Marginal}(undef, n)\n",
    "    marginals = getmarginals(x)\n",
    "    \n",
    "    subscription = subscribe!(marginals, (ms) -> copyto!(buffer, ms))\n",
    "    \n",
    "    update!(y, data)\n",
    "    \n",
    "    unsubscribe!(subscription)\n",
    "    \n",
    "    return buffer\n",
    "end"
   ]
  },
  {
   "cell_type": "code",
   "execution_count": 10,
   "metadata": {},
   "outputs": [
    {
     "data": {
      "text/plain": [
       "500-element Array{Marginal,1}:\n",
       " Marginal(NormalMeanVariance{Float64}(μ=0.9701310471387815, v=0.0032573183800704265))\n",
       " Marginal(NormalMeanVariance{Float64}(μ=1.9701310471387816, v=0.0032573183800704265))\n",
       " Marginal(NormalMeanVariance{Float64}(μ=2.970131047138782, v=0.0032573183800704273))\n",
       " Marginal(NormalMeanVariance{Float64}(μ=3.9701310471387825, v=0.0032573183800704273))\n",
       " Marginal(NormalMeanVariance{Float64}(μ=4.970131047138782, v=0.003257318380070427))\n",
       " Marginal(NormalMeanVariance{Float64}(μ=5.970131047138782, v=0.003257318380070427))\n",
       " Marginal(NormalMeanVariance{Float64}(μ=6.97013104713878, v=0.003257318380070426))\n",
       " Marginal(NormalMeanVariance{Float64}(μ=7.97013104713878, v=0.003257318380070426))\n",
       " Marginal(NormalMeanVariance{Float64}(μ=8.97013104713878, v=0.003257318380070426))\n",
       " Marginal(NormalMeanVariance{Float64}(μ=9.97013104713878, v=0.0032573183800704256))\n",
       " Marginal(NormalMeanVariance{Float64}(μ=10.97013104713878, v=0.003257318380070426))\n",
       " Marginal(NormalMeanVariance{Float64}(μ=11.970131047138782, v=0.003257318380070426))\n",
       " Marginal(NormalMeanVariance{Float64}(μ=12.97013104713878, v=0.003257318380070426))\n",
       " ⋮\n",
       " Marginal(NormalMeanVariance{Float64}(μ=488.97013104713835, v=0.003257318380070423))\n",
       " Marginal(NormalMeanVariance{Float64}(μ=489.97013104713835, v=0.003257318380070423))\n",
       " Marginal(NormalMeanVariance{Float64}(μ=490.97013104713847, v=0.0032573183800704225))\n",
       " Marginal(NormalMeanVariance{Float64}(μ=491.97013104713847, v=0.0032573183800704225))\n",
       " Marginal(NormalMeanVariance{Float64}(μ=492.97013104713835, v=0.0032573183800704225))\n",
       " Marginal(NormalMeanVariance{Float64}(μ=493.97013104713835, v=0.003257318380070422))\n",
       " Marginal(NormalMeanVariance{Float64}(μ=494.9701310471384, v=0.003257318380070422))\n",
       " Marginal(NormalMeanVariance{Float64}(μ=495.9701310471384, v=0.0032573183800704225))\n",
       " Marginal(NormalMeanVariance{Float64}(μ=496.9701310471384, v=0.003257318380070423))\n",
       " Marginal(NormalMeanVariance{Float64}(μ=497.97013104713835, v=0.0032573183800704225))\n",
       " Marginal(NormalMeanVariance{Float64}(μ=498.9701310471383, v=0.0032573183800704225))\n",
       " Marginal(NormalMeanVariance{Float64}(μ=499.97013104713835, v=0.0032573183800704225))"
      ]
     },
     "execution_count": 10,
     "metadata": {},
     "output_type": "execute_result"
    }
   ],
   "source": [
    "x0_prior = NormalMeanVariance(0.0, 1000.0)\n",
    "res = inference(data, x0_prior, P)"
   ]
  },
  {
   "cell_type": "code",
   "execution_count": null,
   "metadata": {},
   "outputs": [],
   "source": []
  }
 ],
 "metadata": {
  "kernelspec": {
   "display_name": "Julia 1.5.3",
   "language": "julia",
   "name": "julia-1.5"
  },
  "language_info": {
   "file_extension": ".jl",
   "mimetype": "application/julia",
   "name": "julia",
   "version": "1.5.3"
  }
 },
 "nbformat": 4,
 "nbformat_minor": 4
}
