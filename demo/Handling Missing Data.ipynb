{
 "cells": [
  {
   "cell_type": "code",
   "execution_count": 1,
   "metadata": {},
   "outputs": [],
   "source": [
    "using Rocket\n",
    "using ReactiveMP\n",
    "using GraphPPL\n",
    "using BenchmarkTools\n",
    "using Distributions\n",
    "using MacroTools"
   ]
  },
  {
   "cell_type": "code",
   "execution_count": 2,
   "metadata": {
    "scrolled": false
   },
   "outputs": [
    {
     "data": {
      "text/plain": [
       "smoothing (generic function with 1 method)"
      ]
     },
     "execution_count": 2,
     "metadata": {},
     "output_type": "execute_result"
    }
   ],
   "source": [
    "@model function smoothing(n, x0, P::ConstVariable)\n",
    "    \n",
    "    x_prior ~ NormalMeanVariance(mean(x0), cov(x0)) \n",
    "\n",
    "    x = randomvar(n)\n",
    "    y = datavar(Float64, n)\n",
    "    c = constvar(1.0)\n",
    "\n",
    "    x_prev = x_prior\n",
    "\n",
    "    for i in 1:n\n",
    "        x[i] ~ x_prev + c\n",
    "        y[i] ~ NormalMeanVariance(x[i], P)\n",
    "        \n",
    "        x_prev = x[i]\n",
    "    end\n",
    "\n",
    "    return x, y\n",
    "end"
   ]
  },
  {
   "cell_type": "code",
   "execution_count": 3,
   "metadata": {},
   "outputs": [],
   "source": [
    "@rule NormalMeanVariance(:μ, Marginalisation) (m_out::Any, m_v::Missing) = missing\n",
    "@rule NormalMeanVariance(:μ, Marginalisation) (m_out::Missing, m_v::Any) = missing\n",
    "\n",
    "@rule typeof(+)(:in1, Marginalisation) (m_out::Missing, m_in2::Any) = missing\n",
    "@rule typeof(+)(:in1, Marginalisation) (m_out::Any, m_in2::Missing) = missing"
   ]
  },
  {
   "cell_type": "code",
   "execution_count": 4,
   "metadata": {},
   "outputs": [],
   "source": [
    "P = 1.0\n",
    "\n",
    "n = 500\n",
    "data = convert(Vector{Union{Float64, Missing}}, collect(1:n) + rand(Normal(0.0, sqrt(P)), n));\n",
    "\n",
    "for index in map(d -> rem(abs(d), n), rand(Int, Int(n / 2)))\n",
    "    data[index] = missing\n",
    "end"
   ]
  },
  {
   "cell_type": "code",
   "execution_count": 5,
   "metadata": {},
   "outputs": [
    {
     "data": {
      "text/plain": [
       "inference (generic function with 1 method)"
      ]
     },
     "execution_count": 5,
     "metadata": {},
     "output_type": "execute_result"
    }
   ],
   "source": [
    "function inference(data, x0, P)\n",
    "    n = length(data)\n",
    "    \n",
    "    _, (x, y) = smoothing(n, x0, P);\n",
    "\n",
    "    buffer    = Vector{Marginal}(undef, n)\n",
    "    marginals = getmarginals(x)\n",
    "    \n",
    "    subscription = subscribe!(marginals, (ms) -> copyto!(buffer, ms))\n",
    "    \n",
    "    update!(y, data)\n",
    "    \n",
    "    unsubscribe!(subscription)\n",
    "    \n",
    "    return buffer\n",
    "end"
   ]
  },
  {
   "cell_type": "code",
   "execution_count": 6,
   "metadata": {},
   "outputs": [
    {
     "data": {
      "text/plain": [
       "500-element Vector{Marginal}:\n",
       " Marginal(NormalMeanVariance{Float64}(μ=1.0596645711838595, v=0.0032786777748269715))\n",
       " Marginal(NormalMeanVariance{Float64}(μ=2.0596645711838595, v=0.0032786777748269715))\n",
       " Marginal(NormalMeanVariance{Float64}(μ=3.0596645711838595, v=0.003278677774826971))\n",
       " Marginal(NormalMeanVariance{Float64}(μ=4.059664571183858, v=0.003278677774826971))\n",
       " Marginal(NormalMeanVariance{Float64}(μ=5.059664571183857, v=0.00327867777482697))\n",
       " Marginal(NormalMeanVariance{Float64}(μ=6.059664571183859, v=0.0032786777748269706))\n",
       " Marginal(NormalMeanVariance{Float64}(μ=7.05966457118386, v=0.003278677774826971))\n",
       " Marginal(NormalMeanVariance{Float64}(μ=8.059664571183859, v=0.0032786777748269706))\n",
       " Marginal(NormalMeanVariance{Float64}(μ=9.05966457118386, v=0.0032786777748269706))\n",
       " Marginal(NormalMeanVariance{Float64}(μ=10.05966457118386, v=0.0032786777748269706))\n",
       " Marginal(NormalMeanVariance{Float64}(μ=11.059664571183863, v=0.003278677774826971))\n",
       " Marginal(NormalMeanVariance{Float64}(μ=12.05966457118386, v=0.003278677774826971))\n",
       " Marginal(NormalMeanVariance{Float64}(μ=13.059664571183859, v=0.00327867777482697))\n",
       " ⋮\n",
       " Marginal(NormalMeanVariance{Float64}(μ=489.05966457118336, v=0.003278677774826967))\n",
       " Marginal(NormalMeanVariance{Float64}(μ=490.05966457118336, v=0.0032786777748269676))\n",
       " Marginal(NormalMeanVariance{Float64}(μ=491.05966457118336, v=0.0032786777748269676))\n",
       " Marginal(NormalMeanVariance{Float64}(μ=492.05966457118336, v=0.003278677774826967))\n",
       " Marginal(NormalMeanVariance{Float64}(μ=493.0596645711834, v=0.0032786777748269676))\n",
       " Marginal(NormalMeanVariance{Float64}(μ=494.0596645711834, v=0.003278677774826967))\n",
       " Marginal(NormalMeanVariance{Float64}(μ=495.0596645711834, v=0.003278677774826967))\n",
       " Marginal(NormalMeanVariance{Float64}(μ=496.0596645711834, v=0.0032786777748269676))\n",
       " Marginal(NormalMeanVariance{Float64}(μ=497.0596645711834, v=0.0032786777748269676))\n",
       " Marginal(NormalMeanVariance{Float64}(μ=498.05966457118336, v=0.003278677774826967))\n",
       " Marginal(NormalMeanVariance{Float64}(μ=499.05966457118336, v=0.0032786777748269667))\n",
       " Marginal(NormalMeanVariance{Float64}(μ=500.05966457118336, v=0.0032786777748269667))"
      ]
     },
     "execution_count": 6,
     "metadata": {},
     "output_type": "execute_result"
    }
   ],
   "source": [
    "x0_prior = NormalMeanVariance(0.0, 1000.0)\n",
    "res = inference(data, x0_prior, P)"
   ]
  },
  {
   "cell_type": "code",
   "execution_count": null,
   "metadata": {},
   "outputs": [],
   "source": []
  }
 ],
 "metadata": {
  "kernelspec": {
   "display_name": "Julia O3 1.6.0",
   "language": "julia",
   "name": "julia-o3-1.6"
  },
  "language_info": {
   "file_extension": ".jl",
   "mimetype": "application/julia",
   "name": "julia",
   "version": "1.6.0"
  }
 },
 "nbformat": 4,
 "nbformat_minor": 4
}
