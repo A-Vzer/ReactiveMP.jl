{
 "cells": [
  {
   "cell_type": "markdown",
   "metadata": {},
   "source": [
    "# Expectation Propagation"
   ]
  },
  {
   "cell_type": "markdown",
   "metadata": {},
   "source": [
    "ForneyLab comes with support for expectation propagation (EP). In this demo we illustrate EP in the context of state-estimation in a linear state-space model that combines a Gaussian state-evolution model with a discrete observation model. Here, the probit function links continuous variable $x_t$ with the discrete variable $y_t$. The model is defined as:"
   ]
  },
  {
   "cell_type": "markdown",
   "metadata": {},
   "source": [
    "\\begin{align}\n",
    "    u &= 0.1 \\\\\n",
    "    x_0 &\\sim \\mathcal{N}(0, 100) \\\\\n",
    "    x_t &\\sim \\mathcal{N}(x_{t-1}+ u, 0.01) \\\\\n",
    "    y_t &\\sim \\mathrm{Ber}(\\Phi(x_t))\n",
    "\\end{align}"
   ]
  },
  {
   "cell_type": "markdown",
   "metadata": {},
   "source": [
    "## Import packages"
   ]
  },
  {
   "cell_type": "code",
   "execution_count": 1,
   "metadata": {},
   "outputs": [
    {
     "name": "stderr",
     "output_type": "stream",
     "text": [
      "\u001b[32m\u001b[1m Activating\u001b[22m\u001b[39m environment at `D:\\OneDrive - TU Eindhoven\\phd\\Projects\\Packages\\ReactiveMP.jl\\Project.toml`\n",
      "┌ Info: Precompiling ReactiveMP [a194aa59-28ba-4574-a09c-4a745416d6e3]\n",
      "└ @ Base loading.jl:1278\n"
     ]
    }
   ],
   "source": [
    "using Pkg\n",
    "Pkg.activate(\"..\")\n",
    "\n",
    "using StatsFuns: normcdf\n",
    "using Random\n",
    "using PyPlot\n",
    "using Revise\n",
    "\n",
    "using ReactiveMP\n",
    "using GraphPPL\n",
    "using Rocket"
   ]
  },
  {
   "cell_type": "markdown",
   "metadata": {},
   "source": [
    "##  Data generation"
   ]
  },
  {
   "cell_type": "code",
   "execution_count": 2,
   "metadata": {},
   "outputs": [],
   "source": [
    "function generate_data(nr_samples::Int64)\n",
    "    \n",
    "    # hyper parameters\n",
    "    u = 0.1\n",
    "\n",
    "    # allocate space for data\n",
    "    data_x = zeros(nr_samples + 1)\n",
    "    data_y = zeros(nr_samples)\n",
    "    \n",
    "    # initialize data\n",
    "    data_x[1] = -2\n",
    "    \n",
    "    # generate data\n",
    "    for k = 2:nr_samples + 1\n",
    "        \n",
    "        # calculate new x\n",
    "        data_x[k] = data_x[k-1] + u + sqrt(0.01)*randn()\n",
    "        \n",
    "        # calculate y\n",
    "        data_y[k-1] = normcdf(data_x[k]) > rand()\n",
    "        \n",
    "    end\n",
    "    \n",
    "    # return data\n",
    "    return data_x, data_y\n",
    "    \n",
    "end;"
   ]
  },
  {
   "cell_type": "code",
   "execution_count": 3,
   "metadata": {},
   "outputs": [],
   "source": [
    "data_x, data_y = generate_data(40);"
   ]
  },
  {
   "cell_type": "code",
   "execution_count": 4,
   "metadata": {},
   "outputs": [
    {
     "data": {
      "image/png": "[encoded data removed]",
      "text/plain": [
       "Figure(PyObject <Figure size 640x480 with 1 Axes>)"
      ]
     },
     "metadata": {},
     "output_type": "display_data"
    }
   ],
   "source": [
    "plt.figure()\n",
    "plt.scatter(1:40, data_y, label=\"y\")\n",
    "plt.plot(data_x, label=\"x\")\n",
    "plt.xlabel(\"t\")\n",
    "plt.ylabel(\"x, y\")\n",
    "plt.legend()\n",
    "plt.grid();"
   ]
  },
  {
   "cell_type": "markdown",
   "metadata": {},
   "source": [
    "## Model specification"
   ]
  },
  {
   "cell_type": "code",
   "execution_count": 5,
   "metadata": {},
   "outputs": [
    {
     "data": {
      "text/plain": [
       "probit_model (generic function with 1 method)"
      ]
     },
     "execution_count": 5,
     "metadata": {},
     "output_type": "execute_result"
    }
   ],
   "source": [
    "@model function probit_model(nr_samples::Int64)\n",
    "    \n",
    "    # allocate space for variables\n",
    "    x = randomvar(nr_samples + 1)\n",
    "    y = datavar(Float64, nr_samples)\n",
    "    \n",
    "    # specify uninformative prior\n",
    "    x[1] ~ NormalMeanPrecision(0.0, 0.01)\n",
    "    \n",
    "    # create model \n",
    "    for k = 2:nr_samples + 1\n",
    "        x[k] ~ NormalMeanPrecision(x[k-1] + 0.1, 100)\n",
    "        y[k-1] ~ Probit(x[k]) where { pipeline=RequireInboundFunctionalDependencies(2, [NormalMeanPrecision(0, 0.001)]) }\n",
    "    end\n",
    "    \n",
    "    # return parameters\n",
    "    return x, y\n",
    "    \n",
    "end"
   ]
  },
  {
   "cell_type": "markdown",
   "metadata": {},
   "source": [
    "## Inference"
   ]
  },
  {
   "cell_type": "code",
   "execution_count": 6,
   "metadata": {},
   "outputs": [],
   "source": [
    "function inference(data_y; nr_iterations::Int64=10)\n",
    "    \n",
    "    # fetch number of samples\n",
    "    nr_samples = length(data_y)\n",
    "    \n",
    "    # create model \n",
    "    model, (x, y) = probit_model(nr_samples)\n",
    "    \n",
    "    # allocate marginals\n",
    "    mx = buffer(Marginal, nr_samples + 1)\n",
    "    \n",
    "    # subscribe to marginals\n",
    "    x_sub = subscribe!(getmarginals(x), mx)\n",
    "    \n",
    "    # set initial marginals\n",
    "    \n",
    "    # update data (i.e. run inference)\n",
    "    for it = 1:nr_iterations\n",
    "        update!(y, data_y)\n",
    "    end\n",
    "    \n",
    "    # unsubscribe\n",
    "    unsubscribe!(x_sub)\n",
    "\n",
    "    # return marginals\n",
    "    return mx\n",
    "    \n",
    "end;"
   ]
  },
  {
   "cell_type": "code",
   "execution_count": null,
   "metadata": {},
   "outputs": [],
   "source": [
    "mx = inference(data_y);"
   ]
  },
  {
   "cell_type": "markdown",
   "metadata": {},
   "source": [
    "## Results"
   ]
  },
  {
   "cell_type": "code",
   "execution_count": null,
   "metadata": {},
   "outputs": [],
   "source": [
    "plt.figure()\n",
    "plt.scatter(1:40, data_y, label=\"y\", color=\"blue\")\n",
    "plt.plot(data_x, label=\"x (true)\", color=\"blue\")\n",
    "plt.plot(mean.(mx), label=\"x (inferred mean)\", color=\"orange\")\n",
    "plt.fill_between(0:40, mean.(mx) .- std.(mx), mean.(mx) + std.(mx), label=\"x (inferred ±σ)\", alpha=0.3, color=\"orange\")\n",
    "plt.xlabel(\"t\")\n",
    "plt.ylabel(\"x, y\")\n",
    "plt.legend()\n",
    "plt.grid();"
   ]
  }
 ],
 "metadata": {
  "kernelspec": {
   "display_name": "Julia 1.5.3",
   "language": "julia",
   "name": "julia-1.5"
  },
  "language_info": {
   "file_extension": ".jl",
   "mimetype": "application/julia",
   "name": "julia",
   "version": "1.5.3"
  }
 },
 "nbformat": 4,
 "nbformat_minor": 4
}
