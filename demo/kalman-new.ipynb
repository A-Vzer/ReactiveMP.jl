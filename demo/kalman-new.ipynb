{
 "cells": [
  {
   "cell_type": "code",
   "execution_count": 16,
   "metadata": {},
   "outputs": [],
   "source": [
    "using Distributions\n",
    "using Rocket\n",
    "using ReactiveMP\n",
    "using BenchmarkTools\n",
    "\n",
    "using Profile\n",
    "using PProf\n",
    "using ProfileSVG\n",
    "\n",
    "import Base: show"
   ]
  },
  {
   "cell_type": "code",
   "execution_count": 17,
   "metadata": {},
   "outputs": [
    {
     "data": {
      "text/plain": [
       "kalman (generic function with 1 method)"
      ]
     },
     "execution_count": 17,
     "metadata": {},
     "output_type": "execute_result"
    }
   ],
   "source": [
    "function kalman_filter_graph()\n",
    "    x_prev_add = AdditionNode()\n",
    "    \n",
    "    x_prior = datavar(:x_prior, Normal{Float64})\n",
    "    add_1   = constvar(:add_1, 1.0)\n",
    "\n",
    "    connect!(x_prev_add, :in1, x_prior, 1)\n",
    "    connect!(x_prev_add, :in2, add_1, 1)\n",
    "    \n",
    "    noise = constvar(:noise, Normal(0.0, sqrt(200.0)))\n",
    "    \n",
    "    add_x_and_noise = AdditionNode()\n",
    "    \n",
    "    x = simplerandomvar(:x)\n",
    "    \n",
    "    connect!(x_prev_add, :out, x, 1)\n",
    "    connect!(add_x_and_noise, :in1, x, 2)\n",
    "    connect!(add_x_and_noise, :in2, noise, 1)\n",
    "    \n",
    "    y = datavar(:y, Float64)\n",
    "    \n",
    "    connect!(add_x_and_noise, :out, y, 1)\n",
    "    \n",
    "    activate!(x_prev_add)\n",
    "    activate!(add_x_and_noise)\n",
    "    \n",
    "    return x_prior, x, y\n",
    "end\n",
    "\n",
    "function kalman(data)\n",
    "    N = length(data)\n",
    "    \n",
    "    x_prior, x, y = kalman_filter_graph()\n",
    "\n",
    "    link(x_prior, getbelief(x))\n",
    "    \n",
    "    update!(x_prior, Normal(0.0, sqrt(10000.0)))\n",
    "    \n",
    "    beliefs = Vector{Normal{Float64}}(undef, N)\n",
    "    \n",
    "    subscribe!(getbelief(x) |> enumerate(), (t) -> beliefs[t[1]] = getdata(t[2]))\n",
    "    \n",
    "    for (i, d) in enumerate(data)\n",
    "        update!(y, d)\n",
    "    end\n",
    "    \n",
    "    return beliefs\n",
    "end"
   ]
  },
  {
   "cell_type": "code",
   "execution_count": 18,
   "metadata": {},
   "outputs": [],
   "source": [
    "N = 600\n",
    "data = collect(1:N) + sqrt(200.0) * randn(N);"
   ]
  },
  {
   "cell_type": "code",
   "execution_count": 21,
   "metadata": {},
   "outputs": [
    {
     "name": "stdout",
     "output_type": "stream",
     "text": [
      "  991.695 μs (16107 allocations: 695.03 KiB)\n"
     ]
    },
    {
     "data": {
      "text/plain": [
       "600-element Array{Normal{Float64},1}:\n",
       " Normal{Float64}(μ=-5.188395614670568, σ=14.002800840280099)\n",
       " Normal{Float64}(μ=-19.082070237806146, σ=9.950371902099892)\n",
       " Normal{Float64}(μ=-13.808216050673948, σ=8.137884587711596)\n",
       " Normal{Float64}(μ=-10.554880084897011, σ=7.053456158585984)\n",
       " Normal{Float64}(μ=-12.901889285345822, σ=6.311944030978033)\n",
       " Normal{Float64}(μ=-10.91455520839113, σ=5.763904177042351)\n",
       " Normal{Float64}(μ=-8.346871267484092, σ=5.337605126836238)\n",
       " Normal{Float64}(μ=-3.256087604066618, σ=4.993761694389224)\n",
       " Normal{Float64}(μ=-1.1574144238629687, σ=4.708816093480111)\n",
       " Normal{Float64}(μ=0.7892327857948981, σ=4.467670516087703)\n",
       " Normal{Float64}(μ=2.4527644959816914, σ=4.2601432284230505)\n",
       " Normal{Float64}(μ=4.926239641815989, σ=4.079085082240021)\n",
       " Normal{Float64}(μ=7.64573103021738, σ=3.919309008348103)\n",
       " ⋮\n",
       " Normal{Float64}(μ=590.2243784572985, σ=0.582706653680032)\n",
       " Normal{Float64}(μ=591.2481571671901, σ=0.5822126418123303)\n",
       " Normal{Float64}(μ=592.2611980054527, σ=0.5817198842703781)\n",
       " Normal{Float64}(μ=593.2230240225382, σ=0.5812283757551306)\n",
       " Normal{Float64}(μ=594.239485892414, σ=0.5807381109988313)\n",
       " Normal{Float64}(μ=595.224056022509, σ=0.5802490847647747)\n",
       " Normal{Float64}(μ=596.238536339458, σ=0.5797612918470711)\n",
       " Normal{Float64}(μ=597.2497530921489, σ=0.5792747270704146)\n",
       " Normal{Float64}(μ=598.2463075166295, σ=0.5787893852898516)\n",
       " Normal{Float64}(μ=599.2899471232467, σ=0.5783052613905528)\n",
       " Normal{Float64}(μ=600.2920351243555, σ=0.5778223502875869)\n",
       " Normal{Float64}(μ=601.2997790119815, σ=0.5773406469256958)"
      ]
     },
     "execution_count": 21,
     "metadata": {},
     "output_type": "execute_result"
    }
   ],
   "source": [
    "@btime kalman($data)"
   ]
  },
  {
   "cell_type": "code",
   "execution_count": 20,
   "metadata": {},
   "outputs": [
    {
     "name": "stdout",
     "output_type": "stream",
     "text": [
      "  0.001676 seconds (16.11 k allocations: 695.031 KiB)\n"
     ]
    },
    {
     "data": {
      "text/plain": [
       "600-element Array{Normal{Float64},1}:\n",
       " Normal{Float64}(μ=-5.188395614670568, σ=14.002800840280099)\n",
       " Normal{Float64}(μ=-19.082070237806146, σ=9.950371902099892)\n",
       " Normal{Float64}(μ=-13.808216050673948, σ=8.137884587711596)\n",
       " Normal{Float64}(μ=-10.554880084897011, σ=7.053456158585984)\n",
       " Normal{Float64}(μ=-12.901889285345822, σ=6.311944030978033)\n",
       " Normal{Float64}(μ=-10.91455520839113, σ=5.763904177042351)\n",
       " Normal{Float64}(μ=-8.346871267484092, σ=5.337605126836238)\n",
       " Normal{Float64}(μ=-3.256087604066618, σ=4.993761694389224)\n",
       " Normal{Float64}(μ=-1.1574144238629687, σ=4.708816093480111)\n",
       " Normal{Float64}(μ=0.7892327857948981, σ=4.467670516087703)\n",
       " Normal{Float64}(μ=2.4527644959816914, σ=4.2601432284230505)\n",
       " Normal{Float64}(μ=4.926239641815989, σ=4.079085082240021)\n",
       " Normal{Float64}(μ=7.64573103021738, σ=3.919309008348103)\n",
       " ⋮\n",
       " Normal{Float64}(μ=590.2243784572985, σ=0.582706653680032)\n",
       " Normal{Float64}(μ=591.2481571671901, σ=0.5822126418123303)\n",
       " Normal{Float64}(μ=592.2611980054527, σ=0.5817198842703781)\n",
       " Normal{Float64}(μ=593.2230240225382, σ=0.5812283757551306)\n",
       " Normal{Float64}(μ=594.239485892414, σ=0.5807381109988313)\n",
       " Normal{Float64}(μ=595.224056022509, σ=0.5802490847647747)\n",
       " Normal{Float64}(μ=596.238536339458, σ=0.5797612918470711)\n",
       " Normal{Float64}(μ=597.2497530921489, σ=0.5792747270704146)\n",
       " Normal{Float64}(μ=598.2463075166295, σ=0.5787893852898516)\n",
       " Normal{Float64}(μ=599.2899471232467, σ=0.5783052613905528)\n",
       " Normal{Float64}(μ=600.2920351243555, σ=0.5778223502875869)\n",
       " Normal{Float64}(μ=601.2997790119815, σ=0.5773406469256958)"
      ]
     },
     "execution_count": 20,
     "metadata": {},
     "output_type": "execute_result"
    }
   ],
   "source": [
    "@time kalman(data)"
   ]
  },
  {
   "cell_type": "code",
   "execution_count": 19,
   "metadata": {},
   "outputs": [
    {
     "name": "stdout",
     "output_type": "stream",
     "text": [
      "  0.230962 seconds (526.50 k allocations: 26.834 MiB, 5.55% gc time)\n"
     ]
    },
    {
     "data": {
      "text/plain": [
       "600-element Array{Normal{Float64},1}:\n",
       " Normal{Float64}(μ=-5.188395614670568, σ=14.002800840280099)\n",
       " Normal{Float64}(μ=-19.082070237806146, σ=9.950371902099892)\n",
       " Normal{Float64}(μ=-13.808216050673948, σ=8.137884587711596)\n",
       " Normal{Float64}(μ=-10.554880084897011, σ=7.053456158585984)\n",
       " Normal{Float64}(μ=-12.901889285345822, σ=6.311944030978033)\n",
       " Normal{Float64}(μ=-10.91455520839113, σ=5.763904177042351)\n",
       " Normal{Float64}(μ=-8.346871267484092, σ=5.337605126836238)\n",
       " Normal{Float64}(μ=-3.256087604066618, σ=4.993761694389224)\n",
       " Normal{Float64}(μ=-1.1574144238629687, σ=4.708816093480111)\n",
       " Normal{Float64}(μ=0.7892327857948981, σ=4.467670516087703)\n",
       " Normal{Float64}(μ=2.4527644959816914, σ=4.2601432284230505)\n",
       " Normal{Float64}(μ=4.926239641815989, σ=4.079085082240021)\n",
       " Normal{Float64}(μ=7.64573103021738, σ=3.919309008348103)\n",
       " ⋮\n",
       " Normal{Float64}(μ=590.2243784572985, σ=0.582706653680032)\n",
       " Normal{Float64}(μ=591.2481571671901, σ=0.5822126418123303)\n",
       " Normal{Float64}(μ=592.2611980054527, σ=0.5817198842703781)\n",
       " Normal{Float64}(μ=593.2230240225382, σ=0.5812283757551306)\n",
       " Normal{Float64}(μ=594.239485892414, σ=0.5807381109988313)\n",
       " Normal{Float64}(μ=595.224056022509, σ=0.5802490847647747)\n",
       " Normal{Float64}(μ=596.238536339458, σ=0.5797612918470711)\n",
       " Normal{Float64}(μ=597.2497530921489, σ=0.5792747270704146)\n",
       " Normal{Float64}(μ=598.2463075166295, σ=0.5787893852898516)\n",
       " Normal{Float64}(μ=599.2899471232467, σ=0.5783052613905528)\n",
       " Normal{Float64}(μ=600.2920351243555, σ=0.5778223502875869)\n",
       " Normal{Float64}(μ=601.2997790119815, σ=0.5773406469256958)"
      ]
     },
     "execution_count": 19,
     "metadata": {},
     "output_type": "execute_result"
    }
   ],
   "source": [
    "@time kalman(data)"
   ]
  },
  {
   "cell_type": "code",
   "execution_count": null,
   "metadata": {},
   "outputs": [],
   "source": []
  }
 ],
 "metadata": {
  "kernelspec": {
   "display_name": "Julia 1.4.1",
   "language": "julia",
   "name": "julia-1.4"
  },
  "language_info": {
   "file_extension": ".jl",
   "mimetype": "application/julia",
   "name": "julia",
   "version": "1.4.1"
  }
 },
 "nbformat": 4,
 "nbformat_minor": 4
}
