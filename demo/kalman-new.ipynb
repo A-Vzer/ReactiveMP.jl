{
 "cells": [
  {
   "cell_type": "code",
   "execution_count": 3,
   "metadata": {},
   "outputs": [
    {
     "name": "stderr",
     "output_type": "stream",
     "text": [
      "┌ Info: Precompiling ReactiveMP [a194aa59-28ba-4574-a09c-4a745416d6e3]\n",
      "└ @ Base loading.jl:1260\n",
      "┌ Warning: Package ReactiveMP does not have Rocket in its dependencies:\n",
      "│ - If you have ReactiveMP checked out for development and have\n",
      "│   added Rocket as a dependency but haven't updated your primary\n",
      "│   environment's manifest file, try `Pkg.resolve()`.\n",
      "│ - Otherwise you may need to report an issue with ReactiveMP\n",
      "└ Loading Rocket into ReactiveMP from project dependency, future warnings for ReactiveMP are suppressed.\n"
     ]
    }
   ],
   "source": [
    "using Distributions\n",
    "using Rocket\n",
    "using ReactiveMP\n",
    "using BenchmarkTools\n",
    "\n",
    "import Base: show"
   ]
  },
  {
   "cell_type": "code",
   "execution_count": 77,
   "metadata": {},
   "outputs": [
    {
     "data": {
      "text/plain": [
       "kalman (generic function with 1 method)"
      ]
     },
     "execution_count": 77,
     "metadata": {},
     "output_type": "execute_result"
    }
   ],
   "source": [
    "function kalman_filter_graph()\n",
    "    x_prev_add = AdditionNode()\n",
    "    add_1      = constvar(:add_1, 1.0)\n",
    "    \n",
    "    connect!(x_prev_add, :in2, add_1, 1) # TODO index = 1\n",
    "    \n",
    "    x_prev_prior = GaussianMeanVariance()\n",
    "    x_prev_m     = datavar(:x_prev_m, Float64)\n",
    "    x_prev_v     = datavar(:x_prev_v, Float64)\n",
    "    \n",
    "    connect!(x_prev_prior, :mean, x_prev_m, 1)\n",
    "    connect!(x_prev_prior, :variance, x_prev_v, 1)\n",
    "\n",
    "    x_prev = randomvar(:x_prev, 2)\n",
    "    \n",
    "    connect!(x_prev_prior, :value, x_prev, 1)\n",
    "    connect!(x_prev_add, :in1, x_prev, 2)\n",
    "\n",
    "    noise_node     = GaussianMeanVariance()\n",
    "    noise_mean     = constvar(:noise_mean, 0.0)\n",
    "    noise_variance = constvar(:noise_mean, 200.0)\n",
    "    \n",
    "    connect!(noise_node, :mean, noise_mean, 1)\n",
    "    connect!(noise_node, :variance, noise_variance, 1)\n",
    "    \n",
    "    add_x_and_noise = AdditionNode()\n",
    "    \n",
    "    x = randomvar(:x, 2)\n",
    "    \n",
    "    connect!(x_prev_add, :out, x, 1)\n",
    "    connect!(add_x_and_noise, :in1, x, 2)\n",
    "    \n",
    "    n = randomvar(:n, 2)\n",
    "    \n",
    "    connect!(noise_node, :value, n, 1)\n",
    "    connect!(add_x_and_noise, :in2, n, 2)\n",
    "    \n",
    "    y = datavar(:y, Float64)\n",
    "    \n",
    "    connect!(add_x_and_noise, :out, y, 1)\n",
    "    \n",
    "    activate!(x_prev_add)\n",
    "    activate!(x_prev_prior)\n",
    "    activate!(noise_node)\n",
    "    activate!(add_x_and_noise)\n",
    "    \n",
    "    return x_prev_m, x_prev_v, x, y\n",
    "end\n",
    "\n",
    "function kalman(data)\n",
    "    N = length(data)\n",
    "    \n",
    "    x_prev_m, x_prev_v, x, y = kalman_filter_graph()\n",
    "    \n",
    "    beliefs = Vector{Normal{Float64}}(undef, N)\n",
    "    updates = Channel{Tuple{Float64, Float64, Float64}}(Inf) do ch\n",
    "        while true\n",
    "            update_data = take!(ch)\n",
    "            update!(x_prev_m, update_data[1])\n",
    "            update!(x_prev_v, update_data[2])\n",
    "            update!(y, update_data[3])\n",
    "        end\n",
    "    end\n",
    "    \n",
    "    actor = sync(lambda(Tuple{Int, AbstractBelief},\n",
    "        on_next = (d) -> begin\n",
    "        \n",
    "            index  = d[1]    \n",
    "            belief = getdata(d[2])\n",
    "                    \n",
    "            if index < N\n",
    "                push!(updates, (mean(belief), var(belief), data[index + 1]))\n",
    "            else\n",
    "                finish!(x_prev_m)\n",
    "                finish!(x_prev_v)\n",
    "                finish!(y)\n",
    "                close(updates)\n",
    "            end\n",
    "                \n",
    "            beliefs[index] = belief\n",
    "        end,\n",
    "        on_error = (e) -> println(e)\n",
    "    ), timeout = 10000)\n",
    "    \n",
    "    @async begin\n",
    "        subscribe!(belief(x) |> enumerate(), actor)\n",
    "        push!(updates, (0.0, 1000.0, data[1]))\n",
    "    end\n",
    "    \n",
    "    wait(actor)\n",
    "    \n",
    "    return beliefs\n",
    "end"
   ]
  },
  {
   "cell_type": "code",
   "execution_count": 78,
   "metadata": {},
   "outputs": [],
   "source": [
    "N = 600\n",
    "data = collect(1:N) + sqrt(200.0) * randn(N);"
   ]
  },
  {
   "cell_type": "code",
   "execution_count": 76,
   "metadata": {},
   "outputs": [
    {
     "name": "stdout",
     "output_type": "stream",
     "text": [
      "  12.351 ms (21609 allocations: 747.42 KiB)\n"
     ]
    },
    {
     "data": {
      "text/plain": [
       "600-element Array{Any,1}:\n",
       " Normal{Float64}(μ=3.364316403367523, σ=12.909944487358057)\n",
       " Normal{Float64}(μ=5.2562992747353015, σ=9.534625892455924)\n",
       " Normal{Float64}(μ=1.20823697043715, σ=7.905694150420949)\n",
       " Normal{Float64}(μ=4.653439830725727, σ=6.900655593423543)\n",
       " Normal{Float64}(μ=10.336071622290161, σ=6.201736729460423)\n",
       " Normal{Float64}(μ=7.795284753380579, σ=5.679618342470648)\n",
       " Normal{Float64}(μ=8.646727835260892, σ=5.2704627669473)\n",
       " Normal{Float64}(μ=7.5216986544770625, σ=4.938647983247948)\n",
       " Normal{Float64}(μ=8.636975510234665, σ=4.66252404120157)\n",
       " Normal{Float64}(μ=9.77466023593911, σ=4.428074427700477)\n",
       " Normal{Float64}(μ=11.378428009426054, σ=4.225771273642584)\n",
       " Normal{Float64}(μ=11.519592203071745, σ=4.0488816508945815)\n",
       " Normal{Float64}(μ=12.224734259265313, σ=3.8924947208076164)\n",
       " ⋮\n",
       " Normal{Float64}(μ=589.3058833170217, σ=0.5826176387363623)\n",
       " Normal{Float64}(μ=590.3454832720731, σ=0.5821238530397734)\n",
       " Normal{Float64}(μ=591.3547336371323, σ=0.5816313207127862)\n",
       " Normal{Float64}(μ=592.3583321326307, σ=0.5811400364620054)\n",
       " Normal{Float64}(μ=593.3849512193555, σ=0.5806499950252811)\n",
       " Normal{Float64}(μ=594.4072209772877, σ=0.5801611911714719)\n",
       " Normal{Float64}(μ=595.4140589200692, σ=0.5796736197002104)\n",
       " Normal{Float64}(μ=596.4094533273548, σ=0.5791872754416708)\n",
       " Normal{Float64}(μ=597.416607541366, σ=0.5787021532563389)\n",
       " Normal{Float64}(μ=598.3923096399737, σ=0.5782182480347837)\n",
       " Normal{Float64}(μ=599.3720437231058, σ=0.5777355546974314)\n",
       " Normal{Float64}(μ=600.3797846480155, σ=0.5772540681943418)"
      ]
     },
     "execution_count": 76,
     "metadata": {},
     "output_type": "execute_result"
    }
   ],
   "source": [
    "@time kalman($data)"
   ]
  },
  {
   "cell_type": "code",
   "execution_count": 11,
   "metadata": {},
   "outputs": [
    {
     "data": {
      "text/plain": [
       "BenchmarkTools.Trial: \n",
       "  memory estimate:  562.45 KiB\n",
       "  allocs estimate:  14328\n",
       "  --------------\n",
       "  minimum time:     922.926 μs (0.00% GC)\n",
       "  median time:      1.067 ms (0.00% GC)\n",
       "  mean time:        1.482 ms (22.59% GC)\n",
       "  maximum time:     69.094 ms (97.69% GC)\n",
       "  --------------\n",
       "  samples:          3390\n",
       "  evals/sample:     1"
      ]
     },
     "execution_count": 11,
     "metadata": {},
     "output_type": "execute_result"
    }
   ],
   "source": [
    "@benchmark kalman($data)"
   ]
  },
  {
   "cell_type": "code",
   "execution_count": 10,
   "metadata": {},
   "outputs": [
    {
     "name": "stdout",
     "output_type": "stream",
     "text": [
      "  0.001548 seconds (14.33 k allocations: 562.438 KiB)\n"
     ]
    },
    {
     "data": {
      "text/plain": [
       "600-element Array{AbstractMessage,1}:\n",
       " StochasticMessage{Normal{Float64}}(Normal{Float64}(μ=23.091443540047656, σ=12.909944487358057))\n",
       " StochasticMessage{Normal{Float64}}(Normal{Float64}(μ=6.3334533059203935, σ=9.534625892455924))\n",
       " StochasticMessage{Normal{Float64}}(Normal{Float64}(μ=7.503212814087148, σ=7.905694150420949))\n",
       " StochasticMessage{Normal{Float64}}(Normal{Float64}(μ=9.15959418479361, σ=6.900655593423543))\n",
       " StochasticMessage{Normal{Float64}}(Normal{Float64}(μ=7.057642860305852, σ=6.201736729460423))\n",
       " StochasticMessage{Normal{Float64}}(Normal{Float64}(μ=4.737479085167591, σ=5.679618342470648))\n",
       " StochasticMessage{Normal{Float64}}(Normal{Float64}(μ=3.9836137790425887, σ=5.2704627669473))\n",
       " StochasticMessage{Normal{Float64}}(Normal{Float64}(μ=3.9612225483105625, σ=4.938647983247948))\n",
       " StochasticMessage{Normal{Float64}}(Normal{Float64}(μ=4.877957659443098, σ=4.66252404120157))\n",
       " StochasticMessage{Normal{Float64}}(Normal{Float64}(μ=7.722577243196825, σ=4.428074427700477))\n",
       " StochasticMessage{Normal{Float64}}(Normal{Float64}(μ=9.302666821335514, σ=4.225771273642584))\n",
       " StochasticMessage{Normal{Float64}}(Normal{Float64}(μ=10.56369697972302, σ=4.0488816508945815))\n",
       " StochasticMessage{Normal{Float64}}(Normal{Float64}(μ=10.76338565038932, σ=3.8924947208076164))\n",
       " ⋮\n",
       " StochasticMessage{Normal{Float64}}(Normal{Float64}(μ=588.7405898791451, σ=0.5826176387363623))\n",
       " StochasticMessage{Normal{Float64}}(Normal{Float64}(μ=589.7441362781094, σ=0.5821238530397734))\n",
       " StochasticMessage{Normal{Float64}}(Normal{Float64}(μ=590.7228766651909, σ=0.5816313207127862))\n",
       " StochasticMessage{Normal{Float64}}(Normal{Float64}(μ=591.7171485472556, σ=0.5811400364620054))\n",
       " StochasticMessage{Normal{Float64}}(Normal{Float64}(μ=592.7124422784364, σ=0.5806499950252811))\n",
       " StochasticMessage{Normal{Float64}}(Normal{Float64}(μ=593.7073252661129, σ=0.5801611911714719))\n",
       " StochasticMessage{Normal{Float64}}(Normal{Float64}(μ=594.7025794139781, σ=0.5796736197002104))\n",
       " StochasticMessage{Normal{Float64}}(Normal{Float64}(μ=595.6898298541141, σ=0.5791872754416708))\n",
       " StochasticMessage{Normal{Float64}}(Normal{Float64}(μ=596.6818452208356, σ=0.5787021532563389))\n",
       " StochasticMessage{Normal{Float64}}(Normal{Float64}(μ=597.660120263891, σ=0.5782182480347837))\n",
       " StochasticMessage{Normal{Float64}}(Normal{Float64}(μ=598.6327609956038, σ=0.5777355546974314))\n",
       " StochasticMessage{Normal{Float64}}(Normal{Float64}(μ=599.6377194431045, σ=0.5772540681943418))"
      ]
     },
     "execution_count": 10,
     "metadata": {},
     "output_type": "execute_result"
    }
   ],
   "source": [
    "@time kalman(data)"
   ]
  },
  {
   "cell_type": "code",
   "execution_count": null,
   "metadata": {},
   "outputs": [],
   "source": []
  }
 ],
 "metadata": {
  "kernelspec": {
   "display_name": "Julia 1.4.1",
   "language": "julia",
   "name": "julia-1.4"
  },
  "language_info": {
   "file_extension": ".jl",
   "mimetype": "application/julia",
   "name": "julia",
   "version": "1.4.1"
  }
 },
 "nbformat": 4,
 "nbformat_minor": 4
}
