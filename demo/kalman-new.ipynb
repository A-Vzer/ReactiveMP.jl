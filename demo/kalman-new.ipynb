{
 "cells": [
  {
   "cell_type": "code",
   "execution_count": 7,
   "metadata": {},
   "outputs": [],
   "source": [
    "using Distributions\n",
    "using Rocket\n",
    "using ReactiveMP\n",
    "using BenchmarkTools\n",
    "\n",
    "using Profile\n",
    "using PProf\n",
    "using ProfileSVG\n",
    "\n",
    "import Base: show"
   ]
  },
  {
   "cell_type": "code",
   "execution_count": 8,
   "metadata": {},
   "outputs": [
    {
     "data": {
      "text/plain": [
       "kalman (generic function with 1 method)"
      ]
     },
     "execution_count": 8,
     "metadata": {},
     "output_type": "execute_result"
    }
   ],
   "source": [
    "function kalman_filter_graph()\n",
    "    x_prev_add = AdditionNode()\n",
    "    \n",
    "    x_prior = datavar(:x_prior, Normal{Float64})\n",
    "    add_1   = constvar(:add_1, 1.0)\n",
    "\n",
    "    connect!(x_prev_add, :in1, x_prior, 1)\n",
    "    connect!(x_prev_add, :in2, add_1, 1)\n",
    "    \n",
    "    noise = constvar(:noise, Normal(0.0, sqrt(200.0)))\n",
    "    \n",
    "    add_x_and_noise = AdditionNode()\n",
    "    \n",
    "    x = simplerandomvar(:x)\n",
    "    \n",
    "    connect!(x_prev_add, :out, x, 1)\n",
    "    connect!(add_x_and_noise, :in1, x, 2)\n",
    "    connect!(add_x_and_noise, :in2, noise, 1)\n",
    "    \n",
    "    y = datavar(:y, Float64)\n",
    "    \n",
    "    connect!(add_x_and_noise, :out, y, 1)\n",
    "    \n",
    "    activate!(x_prev_add)\n",
    "    activate!(add_x_and_noise)\n",
    "    \n",
    "    return x_prior, x, y\n",
    "end\n",
    "\n",
    "function kalman(data)\n",
    "    N = length(data)\n",
    "    \n",
    "    x_prior, x, y = kalman_filter_graph()\n",
    "    \n",
    "    beliefs = Vector{Normal{Float64}}(undef, N)\n",
    "    updates = Channel{Tuple{Normal{Float64}, Float64}}(Inf) do ch\n",
    "        while true\n",
    "            update_data = take!(ch)\n",
    "            update!(x_prior, update_data[1])\n",
    "            update!(y, update_data[2])\n",
    "        end\n",
    "    end\n",
    "    \n",
    "    actor = sync(lambda(Tuple{Int, AbstractBelief},\n",
    "        on_next = (d) -> begin\n",
    "        \n",
    "            index  = d[1]    \n",
    "            belief = getdata(d[2])\n",
    "                    \n",
    "            if index < N\n",
    "                push!(updates, (belief, data[index + 1]))\n",
    "            else\n",
    "                finish!(x_prior)\n",
    "                finish!(y)\n",
    "                close(updates)\n",
    "            end\n",
    "                \n",
    "            beliefs[index] = belief\n",
    "        end,\n",
    "        on_error = (e) -> println(e)\n",
    "    ), timeout = 10000)\n",
    "    \n",
    "    @async begin\n",
    "        try\n",
    "            subscribe!(belief(x) |> enumerate(), actor)\n",
    "            push!(updates, (Normal(0.0, 1000.0), data[1]))\n",
    "        catch err \n",
    "            println(err)\n",
    "        end\n",
    "    end\n",
    "    \n",
    "    wait(actor)\n",
    "    \n",
    "    return beliefs\n",
    "end"
   ]
  },
  {
   "cell_type": "code",
   "execution_count": 9,
   "metadata": {},
   "outputs": [],
   "source": [
    "N = 600\n",
    "data = collect(1:N) + sqrt(200.0) * randn(N);"
   ]
  },
  {
   "cell_type": "code",
   "execution_count": 12,
   "metadata": {},
   "outputs": [
    {
     "name": "stdout",
     "output_type": "stream",
     "text": [
      "  1.082 ms (13663 allocations: 582.94 KiB)\n"
     ]
    },
    {
     "data": {
      "text/plain": [
       "600-element Array{Normal{Float64},1}:\n",
       " Normal{Float64}(μ=12.027637738287154, σ=14.140721622265264)\n",
       " Normal{Float64}(μ=6.544503799492612, σ=9.999500037496876)\n",
       " Normal{Float64}(μ=10.055099229126098, σ=8.164693657357805)\n",
       " Normal{Float64}(μ=7.832679861108569, σ=7.070891041799029)\n",
       " Normal{Float64}(μ=11.359967390055616, σ=6.3244288330249585)\n",
       " Normal{Float64}(μ=12.999712026167385, σ=5.773406469256952)\n",
       " Normal{Float64}(μ=12.488965617279574, σ=5.34514847952991)\n",
       " Normal{Float64}(μ=15.225865340333375, σ=4.999937501171851)\n",
       " Normal{Float64}(μ=12.729561113514885, σ=4.713992830503184)\n",
       " Normal{Float64}(μ=12.368078676492768, σ=4.472091234310838)\n",
       " Normal{Float64}(μ=13.729040505286777, σ=4.263975563874187)\n",
       " Normal{Float64}(μ=13.360080027862647, σ=4.082448884373011)\n",
       " Normal{Float64}(μ=16.491648512760335, σ=3.922292531398713)\n",
       " ⋮\n",
       " Normal{Float64}(μ=589.067704689824, σ=0.5827164478148905)\n",
       " Normal{Float64}(μ=590.088432977649, σ=0.5822224110578259)\n",
       " Normal{Float64}(μ=591.0554593101726, σ=0.5817296287317493)\n",
       " Normal{Float64}(μ=592.0542276503165, σ=0.581238095536994)\n",
       " Normal{Float64}(μ=593.08219629817, σ=0.5807478062051865)\n",
       " Normal{Float64}(μ=594.1027531638067, σ=0.5802587554990086)\n",
       " Normal{Float64}(μ=595.112478125645, σ=0.5797709382119629)\n",
       " Normal{Float64}(μ=596.1114334408119, σ=0.57928434916814)\n",
       " Normal{Float64}(μ=597.1526084585433, σ=0.5787989832219875)\n",
       " Normal{Float64}(μ=598.1483844253156, σ=0.578314835258082)\n",
       " Normal{Float64}(μ=599.0974071262164, σ=0.5778319001909024)\n",
       " Normal{Float64}(μ=600.1113514548472, σ=0.5773501729646051)"
      ]
     },
     "execution_count": 12,
     "metadata": {},
     "output_type": "execute_result"
    }
   ],
   "source": [
    "@btime kalman($data)"
   ]
  },
  {
   "cell_type": "code",
   "execution_count": 11,
   "metadata": {},
   "outputs": [
    {
     "name": "stdout",
     "output_type": "stream",
     "text": [
      "  0.001639 seconds (13.66 k allocations: 582.922 KiB)\n"
     ]
    },
    {
     "data": {
      "text/plain": [
       "600-element Array{Normal{Float64},1}:\n",
       " Normal{Float64}(μ=12.027637738287154, σ=14.140721622265264)\n",
       " Normal{Float64}(μ=6.544503799492612, σ=9.999500037496876)\n",
       " Normal{Float64}(μ=10.055099229126098, σ=8.164693657357805)\n",
       " Normal{Float64}(μ=7.832679861108569, σ=7.070891041799029)\n",
       " Normal{Float64}(μ=11.359967390055616, σ=6.3244288330249585)\n",
       " Normal{Float64}(μ=12.999712026167385, σ=5.773406469256952)\n",
       " Normal{Float64}(μ=12.488965617279574, σ=5.34514847952991)\n",
       " Normal{Float64}(μ=15.225865340333375, σ=4.999937501171851)\n",
       " Normal{Float64}(μ=12.729561113514885, σ=4.713992830503184)\n",
       " Normal{Float64}(μ=12.368078676492768, σ=4.472091234310838)\n",
       " Normal{Float64}(μ=13.729040505286777, σ=4.263975563874187)\n",
       " Normal{Float64}(μ=13.360080027862647, σ=4.082448884373011)\n",
       " Normal{Float64}(μ=16.491648512760335, σ=3.922292531398713)\n",
       " ⋮\n",
       " Normal{Float64}(μ=589.067704689824, σ=0.5827164478148905)\n",
       " Normal{Float64}(μ=590.088432977649, σ=0.5822224110578259)\n",
       " Normal{Float64}(μ=591.0554593101726, σ=0.5817296287317493)\n",
       " Normal{Float64}(μ=592.0542276503165, σ=0.581238095536994)\n",
       " Normal{Float64}(μ=593.08219629817, σ=0.5807478062051865)\n",
       " Normal{Float64}(μ=594.1027531638067, σ=0.5802587554990086)\n",
       " Normal{Float64}(μ=595.112478125645, σ=0.5797709382119629)\n",
       " Normal{Float64}(μ=596.1114334408119, σ=0.57928434916814)\n",
       " Normal{Float64}(μ=597.1526084585433, σ=0.5787989832219875)\n",
       " Normal{Float64}(μ=598.1483844253156, σ=0.578314835258082)\n",
       " Normal{Float64}(μ=599.0974071262164, σ=0.5778319001909024)\n",
       " Normal{Float64}(μ=600.1113514548472, σ=0.5773501729646051)"
      ]
     },
     "execution_count": 11,
     "metadata": {},
     "output_type": "execute_result"
    }
   ],
   "source": [
    "@time kalman(data)"
   ]
  },
  {
   "cell_type": "code",
   "execution_count": 10,
   "metadata": {},
   "outputs": [
    {
     "name": "stdout",
     "output_type": "stream",
     "text": [
      "  3.408731 seconds (9.43 M allocations: 490.182 MiB, 3.70% gc time)\n"
     ]
    },
    {
     "data": {
      "text/plain": [
       "600-element Array{Normal{Float64},1}:\n",
       " Normal{Float64}(μ=12.027637738287154, σ=14.140721622265264)\n",
       " Normal{Float64}(μ=6.544503799492612, σ=9.999500037496876)\n",
       " Normal{Float64}(μ=10.055099229126098, σ=8.164693657357805)\n",
       " Normal{Float64}(μ=7.832679861108569, σ=7.070891041799029)\n",
       " Normal{Float64}(μ=11.359967390055616, σ=6.3244288330249585)\n",
       " Normal{Float64}(μ=12.999712026167385, σ=5.773406469256952)\n",
       " Normal{Float64}(μ=12.488965617279574, σ=5.34514847952991)\n",
       " Normal{Float64}(μ=15.225865340333375, σ=4.999937501171851)\n",
       " Normal{Float64}(μ=12.729561113514885, σ=4.713992830503184)\n",
       " Normal{Float64}(μ=12.368078676492768, σ=4.472091234310838)\n",
       " Normal{Float64}(μ=13.729040505286777, σ=4.263975563874187)\n",
       " Normal{Float64}(μ=13.360080027862647, σ=4.082448884373011)\n",
       " Normal{Float64}(μ=16.491648512760335, σ=3.922292531398713)\n",
       " ⋮\n",
       " Normal{Float64}(μ=589.067704689824, σ=0.5827164478148905)\n",
       " Normal{Float64}(μ=590.088432977649, σ=0.5822224110578259)\n",
       " Normal{Float64}(μ=591.0554593101726, σ=0.5817296287317493)\n",
       " Normal{Float64}(μ=592.0542276503165, σ=0.581238095536994)\n",
       " Normal{Float64}(μ=593.08219629817, σ=0.5807478062051865)\n",
       " Normal{Float64}(μ=594.1027531638067, σ=0.5802587554990086)\n",
       " Normal{Float64}(μ=595.112478125645, σ=0.5797709382119629)\n",
       " Normal{Float64}(μ=596.1114334408119, σ=0.57928434916814)\n",
       " Normal{Float64}(μ=597.1526084585433, σ=0.5787989832219875)\n",
       " Normal{Float64}(μ=598.1483844253156, σ=0.578314835258082)\n",
       " Normal{Float64}(μ=599.0974071262164, σ=0.5778319001909024)\n",
       " Normal{Float64}(μ=600.1113514548472, σ=0.5773501729646051)"
      ]
     },
     "execution_count": 10,
     "metadata": {},
     "output_type": "execute_result"
    }
   ],
   "source": [
    "@time kalman(data)"
   ]
  },
  {
   "cell_type": "code",
   "execution_count": null,
   "metadata": {},
   "outputs": [],
   "source": []
  }
 ],
 "metadata": {
  "kernelspec": {
   "display_name": "Julia 1.4.1",
   "language": "julia",
   "name": "julia-1.4"
  },
  "language_info": {
   "file_extension": ".jl",
   "mimetype": "application/julia",
   "name": "julia",
   "version": "1.4.1"
  }
 },
 "nbformat": 4,
 "nbformat_minor": 4
}
