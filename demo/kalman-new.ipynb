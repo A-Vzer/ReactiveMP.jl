{
 "cells": [
  {
   "cell_type": "code",
   "execution_count": 1,
   "metadata": {},
   "outputs": [
    {
     "name": "stderr",
     "output_type": "stream",
     "text": [
      "┌ Info: Precompiling ReactiveMP [a194aa59-28ba-4574-a09c-4a745416d6e3]\n",
      "└ @ Base loading.jl:1260\n",
      "┌ Warning: Package ReactiveMP does not have Rocket in its dependencies:\n",
      "│ - If you have ReactiveMP checked out for development and have\n",
      "│   added Rocket as a dependency but haven't updated your primary\n",
      "│   environment's manifest file, try `Pkg.resolve()`.\n",
      "│ - Otherwise you may need to report an issue with ReactiveMP\n",
      "└ Loading Rocket into ReactiveMP from project dependency, future warnings for ReactiveMP are suppressed.\n"
     ]
    }
   ],
   "source": [
    "using Distributions\n",
    "using Rocket\n",
    "using ReactiveMP\n",
    "using BenchmarkTools\n",
    "\n",
    "using Profile\n",
    "using PProf\n",
    "using ProfileSVG\n",
    "\n",
    "import Base: show"
   ]
  },
  {
   "cell_type": "code",
   "execution_count": 5,
   "metadata": {},
   "outputs": [
    {
     "data": {
      "text/plain": [
       "kalman (generic function with 1 method)"
      ]
     },
     "execution_count": 5,
     "metadata": {},
     "output_type": "execute_result"
    }
   ],
   "source": [
    "function kalman_filter_graph()\n",
    "    x_prev_add = AdditionNode()\n",
    "    \n",
    "    x_prior = datavar(:x_prior, Normal{Float64})\n",
    "    add_1   = constvar(:add_1, 1.0)\n",
    "\n",
    "    connect!(x_prev_add, :in1, x_prior, 1)\n",
    "    connect!(x_prev_add, :in2, add_1, 1)\n",
    "    \n",
    "    noise = constvar(:noise, Normal(0.0, sqrt(200.0)))\n",
    "    \n",
    "    add_x_and_noise = AdditionNode()\n",
    "    \n",
    "    x = simplerandomvar(:x)\n",
    "    \n",
    "    connect!(x_prev_add, :out, x, 1)\n",
    "    connect!(add_x_and_noise, :in1, x, 2)\n",
    "    connect!(add_x_and_noise, :in2, noise, 1)\n",
    "    \n",
    "    y = datavar(:y, Float64)\n",
    "    \n",
    "    connect!(add_x_and_noise, :out, y, 1)\n",
    "    \n",
    "    activate!(x_prev_add)\n",
    "    activate!(add_x_and_noise)\n",
    "    \n",
    "    return x_prior, x, y\n",
    "end\n",
    "\n",
    "function kalman(data)\n",
    "    N = length(data)\n",
    "    \n",
    "    x_prior, x, y = kalman_filter_graph()\n",
    "\n",
    "    link(x_prior, getbelief(x))\n",
    "    \n",
    "    update!(x_prior, Normal(0.0, sqrt(10000.0)))\n",
    "    \n",
    "    beliefs = Vector{Normal{Float64}}(undef, N)\n",
    "    \n",
    "    subscribe!(getbelief(x) |> enumerate(), (t) -> beliefs[t[1]] = getdata(t[2]))\n",
    "    \n",
    "    for (i, d) in enumerate(data)\n",
    "        update!(y, d)\n",
    "    end\n",
    "    \n",
    "    return beliefs\n",
    "end"
   ]
  },
  {
   "cell_type": "code",
   "execution_count": 6,
   "metadata": {},
   "outputs": [],
   "source": [
    "N = 600\n",
    "data = collect(1:N) + sqrt(200.0) * randn(N);"
   ]
  },
  {
   "cell_type": "code",
   "execution_count": 9,
   "metadata": {},
   "outputs": [
    {
     "name": "stdout",
     "output_type": "stream",
     "text": [
      "  963.022 μs (16107 allocations: 695.03 KiB)\n"
     ]
    },
    {
     "data": {
      "text/plain": [
       "600-element Array{Normal{Float64},1}:\n",
       " Normal{Float64}(μ=-10.608472166455199, σ=14.002800840280099)\n",
       " Normal{Float64}(μ=-0.38153395640294574, σ=9.950371902099892)\n",
       " Normal{Float64}(μ=3.6735959293698133, σ=8.137884587711596)\n",
       " Normal{Float64}(μ=6.671384853647265, σ=7.053456158585984)\n",
       " Normal{Float64}(μ=10.04991620683911, σ=6.311944030978033)\n",
       " Normal{Float64}(μ=11.75568265580858, σ=5.763904177042351)\n",
       " Normal{Float64}(μ=10.15299554322442, σ=5.337605126836238)\n",
       " Normal{Float64}(μ=12.470812863691538, σ=4.993761694389224)\n",
       " Normal{Float64}(μ=15.230572959758403, σ=4.708816093480111)\n",
       " Normal{Float64}(μ=17.72075844792929, σ=4.467670516087703)\n",
       " Normal{Float64}(μ=19.743968217110282, σ=4.2601432284230505)\n",
       " Normal{Float64}(μ=21.991182360441773, σ=4.079085082240021)\n",
       " Normal{Float64}(μ=23.375046018060587, σ=3.919309008348103)\n",
       " ⋮\n",
       " Normal{Float64}(μ=589.8639396813974, σ=0.582706653680032)\n",
       " Normal{Float64}(μ=590.8719733176546, σ=0.5822126418123303)\n",
       " Normal{Float64}(μ=591.8368577415619, σ=0.5817198842703781)\n",
       " Normal{Float64}(μ=592.8213522616679, σ=0.5812283757551306)\n",
       " Normal{Float64}(μ=593.801154020395, σ=0.5807381109988313)\n",
       " Normal{Float64}(μ=594.8299778328476, σ=0.5802490847647747)\n",
       " Normal{Float64}(μ=595.8440093615939, σ=0.5797612918470711)\n",
       " Normal{Float64}(μ=596.8171460852179, σ=0.5792747270704146)\n",
       " Normal{Float64}(μ=597.8551421883793, σ=0.5787893852898516)\n",
       " Normal{Float64}(μ=598.8037669610245, σ=0.5783052613905528)\n",
       " Normal{Float64}(μ=599.7970098262646, σ=0.5778223502875869)\n",
       " Normal{Float64}(μ=600.7762965420753, σ=0.5773406469256958)"
      ]
     },
     "execution_count": 9,
     "metadata": {},
     "output_type": "execute_result"
    }
   ],
   "source": [
    "@btime kalman($data)"
   ]
  },
  {
   "cell_type": "code",
   "execution_count": 8,
   "metadata": {},
   "outputs": [
    {
     "name": "stdout",
     "output_type": "stream",
     "text": [
      "  0.001563 seconds (16.11 k allocations: 695.031 KiB)\n"
     ]
    },
    {
     "data": {
      "text/plain": [
       "600-element Array{Normal{Float64},1}:\n",
       " Normal{Float64}(μ=-10.608472166455199, σ=14.002800840280099)\n",
       " Normal{Float64}(μ=-0.38153395640294574, σ=9.950371902099892)\n",
       " Normal{Float64}(μ=3.6735959293698133, σ=8.137884587711596)\n",
       " Normal{Float64}(μ=6.671384853647265, σ=7.053456158585984)\n",
       " Normal{Float64}(μ=10.04991620683911, σ=6.311944030978033)\n",
       " Normal{Float64}(μ=11.75568265580858, σ=5.763904177042351)\n",
       " Normal{Float64}(μ=10.15299554322442, σ=5.337605126836238)\n",
       " Normal{Float64}(μ=12.470812863691538, σ=4.993761694389224)\n",
       " Normal{Float64}(μ=15.230572959758403, σ=4.708816093480111)\n",
       " Normal{Float64}(μ=17.72075844792929, σ=4.467670516087703)\n",
       " Normal{Float64}(μ=19.743968217110282, σ=4.2601432284230505)\n",
       " Normal{Float64}(μ=21.991182360441773, σ=4.079085082240021)\n",
       " Normal{Float64}(μ=23.375046018060587, σ=3.919309008348103)\n",
       " ⋮\n",
       " Normal{Float64}(μ=589.8639396813974, σ=0.582706653680032)\n",
       " Normal{Float64}(μ=590.8719733176546, σ=0.5822126418123303)\n",
       " Normal{Float64}(μ=591.8368577415619, σ=0.5817198842703781)\n",
       " Normal{Float64}(μ=592.8213522616679, σ=0.5812283757551306)\n",
       " Normal{Float64}(μ=593.801154020395, σ=0.5807381109988313)\n",
       " Normal{Float64}(μ=594.8299778328476, σ=0.5802490847647747)\n",
       " Normal{Float64}(μ=595.8440093615939, σ=0.5797612918470711)\n",
       " Normal{Float64}(μ=596.8171460852179, σ=0.5792747270704146)\n",
       " Normal{Float64}(μ=597.8551421883793, σ=0.5787893852898516)\n",
       " Normal{Float64}(μ=598.8037669610245, σ=0.5783052613905528)\n",
       " Normal{Float64}(μ=599.7970098262646, σ=0.5778223502875869)\n",
       " Normal{Float64}(μ=600.7762965420753, σ=0.5773406469256958)"
      ]
     },
     "execution_count": 8,
     "metadata": {},
     "output_type": "execute_result"
    }
   ],
   "source": [
    "@time kalman(data)"
   ]
  },
  {
   "cell_type": "code",
   "execution_count": 7,
   "metadata": {},
   "outputs": [
    {
     "name": "stdout",
     "output_type": "stream",
     "text": [
      "  2.531156 seconds (7.00 M allocations: 373.271 MiB, 2.93% gc time)\n"
     ]
    },
    {
     "data": {
      "text/plain": [
       "600-element Array{Normal{Float64},1}:\n",
       " Normal{Float64}(μ=-10.608472166455199, σ=14.002800840280099)\n",
       " Normal{Float64}(μ=-0.38153395640294574, σ=9.950371902099892)\n",
       " Normal{Float64}(μ=3.6735959293698133, σ=8.137884587711596)\n",
       " Normal{Float64}(μ=6.671384853647265, σ=7.053456158585984)\n",
       " Normal{Float64}(μ=10.04991620683911, σ=6.311944030978033)\n",
       " Normal{Float64}(μ=11.75568265580858, σ=5.763904177042351)\n",
       " Normal{Float64}(μ=10.15299554322442, σ=5.337605126836238)\n",
       " Normal{Float64}(μ=12.470812863691538, σ=4.993761694389224)\n",
       " Normal{Float64}(μ=15.230572959758403, σ=4.708816093480111)\n",
       " Normal{Float64}(μ=17.72075844792929, σ=4.467670516087703)\n",
       " Normal{Float64}(μ=19.743968217110282, σ=4.2601432284230505)\n",
       " Normal{Float64}(μ=21.991182360441773, σ=4.079085082240021)\n",
       " Normal{Float64}(μ=23.375046018060587, σ=3.919309008348103)\n",
       " ⋮\n",
       " Normal{Float64}(μ=589.8639396813974, σ=0.582706653680032)\n",
       " Normal{Float64}(μ=590.8719733176546, σ=0.5822126418123303)\n",
       " Normal{Float64}(μ=591.8368577415619, σ=0.5817198842703781)\n",
       " Normal{Float64}(μ=592.8213522616679, σ=0.5812283757551306)\n",
       " Normal{Float64}(μ=593.801154020395, σ=0.5807381109988313)\n",
       " Normal{Float64}(μ=594.8299778328476, σ=0.5802490847647747)\n",
       " Normal{Float64}(μ=595.8440093615939, σ=0.5797612918470711)\n",
       " Normal{Float64}(μ=596.8171460852179, σ=0.5792747270704146)\n",
       " Normal{Float64}(μ=597.8551421883793, σ=0.5787893852898516)\n",
       " Normal{Float64}(μ=598.8037669610245, σ=0.5783052613905528)\n",
       " Normal{Float64}(μ=599.7970098262646, σ=0.5778223502875869)\n",
       " Normal{Float64}(μ=600.7762965420753, σ=0.5773406469256958)"
      ]
     },
     "execution_count": 7,
     "metadata": {},
     "output_type": "execute_result"
    }
   ],
   "source": [
    "@time kalman(data)"
   ]
  },
  {
   "cell_type": "code",
   "execution_count": null,
   "metadata": {},
   "outputs": [],
   "source": []
  }
 ],
 "metadata": {
  "kernelspec": {
   "display_name": "Julia 1.4.1",
   "language": "julia",
   "name": "julia-1.4"
  },
  "language_info": {
   "file_extension": ".jl",
   "mimetype": "application/julia",
   "name": "julia",
   "version": "1.4.1"
  }
 },
 "nbformat": 4,
 "nbformat_minor": 4
}
