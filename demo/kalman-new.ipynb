{
 "cells": [
  {
   "cell_type": "code",
   "execution_count": 115,
   "metadata": {},
   "outputs": [],
   "source": [
    "using Distributions\n",
    "using Rocket\n",
    "using ReactiveMP\n",
    "using BenchmarkTools\n",
    "\n",
    "using Profile\n",
    "using PProf\n",
    "using ProfileSVG\n",
    "\n",
    "import Base: show"
   ]
  },
  {
   "cell_type": "code",
   "execution_count": 125,
   "metadata": {},
   "outputs": [
    {
     "data": {
      "text/plain": [
       "kalman (generic function with 1 method)"
      ]
     },
     "execution_count": 125,
     "metadata": {},
     "output_type": "execute_result"
    }
   ],
   "source": [
    "function kalman_filter_graph()\n",
    "    x_prev_add = AdditionNode()\n",
    "    \n",
    "    x_prior = datavar(:x_prior, Normal{Float64})\n",
    "    add_1   = constvar(:add_1, 1.0)\n",
    "\n",
    "    connect!(x_prev_add, :in1, x_prior, 1)\n",
    "    connect!(x_prev_add, :in2, add_1, 1)\n",
    "    \n",
    "    noise = constvar(:noise, Normal(0.0, sqrt(200.0)))\n",
    "    \n",
    "    add_x_and_noise = AdditionNode()\n",
    "    \n",
    "    x = simplerandomvar(:x)\n",
    "    \n",
    "    connect!(x_prev_add, :out, x, 1)\n",
    "    connect!(add_x_and_noise, :in1, x, 2)\n",
    "    connect!(add_x_and_noise, :in2, noise, 1)\n",
    "    \n",
    "    y = datavar(:y, Float64)\n",
    "    \n",
    "    connect!(add_x_and_noise, :out, y, 1)\n",
    "    \n",
    "    activate!(x_prev_add)\n",
    "    activate!(add_x_and_noise)\n",
    "    \n",
    "    return x_prior, x, y\n",
    "end\n",
    "\n",
    "function kalman(data)\n",
    "    N = length(data)\n",
    "    \n",
    "    x_prior, x, y = kalman_filter_graph()\n",
    "    \n",
    "    beliefs = Vector{Normal{Float64}}(undef, N)\n",
    "    updates = Channel{Tuple{Normal{Float64}, Float64}}(Inf) do ch\n",
    "        while true\n",
    "            update_data = take!(ch)\n",
    "            update!(x_prior, update_data[1])\n",
    "            update!(y, update_data[2])\n",
    "        end\n",
    "    end\n",
    "    \n",
    "    actor = sync(lambda(Tuple{Int, AbstractBelief},\n",
    "        on_next = (d) -> begin\n",
    "        \n",
    "            index  = d[1]    \n",
    "            belief = getdata(d[2])\n",
    "                    \n",
    "            if index < N\n",
    "                push!(updates, (belief, data[index + 1]))\n",
    "            else\n",
    "                finish!(x_prior)\n",
    "                finish!(y)\n",
    "                close(updates)\n",
    "            end\n",
    "                \n",
    "            beliefs[index] = belief\n",
    "        end,\n",
    "        on_error = (e) -> println(e)\n",
    "    ), timeout = 10000)\n",
    "    \n",
    "    @async begin\n",
    "        try\n",
    "            subscribe!(belief(x) |> enumerate(), actor)\n",
    "            push!(updates, (Normal(0.0, 1000.0), data[1]))\n",
    "        catch err \n",
    "            println(err)\n",
    "        end\n",
    "    end\n",
    "    \n",
    "    wait(actor)\n",
    "    \n",
    "    return beliefs\n",
    "end"
   ]
  },
  {
   "cell_type": "code",
   "execution_count": 126,
   "metadata": {},
   "outputs": [],
   "source": [
    "N = 600\n",
    "data = collect(1:N) + sqrt(200.0) * randn(N);"
   ]
  },
  {
   "cell_type": "code",
   "execution_count": 129,
   "metadata": {},
   "outputs": [
    {
     "data": {
      "text/plain": [
       "BenchmarkTools.Trial: \n",
       "  memory estimate:  439.47 KiB\n",
       "  allocs estimate:  11335\n",
       "  --------------\n",
       "  minimum time:     1.118 ms (0.00% GC)\n",
       "  median time:      1.226 ms (0.00% GC)\n",
       "  mean time:        1.387 ms (6.08% GC)\n",
       "  maximum time:     110.626 ms (97.76% GC)\n",
       "  --------------\n",
       "  samples:          3592\n",
       "  evals/sample:     1"
      ]
     },
     "execution_count": 129,
     "metadata": {},
     "output_type": "execute_result"
    }
   ],
   "source": [
    "@benchmark kalman($data)"
   ]
  },
  {
   "cell_type": "code",
   "execution_count": 128,
   "metadata": {},
   "outputs": [
    {
     "name": "stdout",
     "output_type": "stream",
     "text": [
      "  0.001933 seconds (11.33 k allocations: 439.453 KiB)\n"
     ]
    },
    {
     "data": {
      "text/plain": [
       "600-element Array{Normal{Float64},1}:\n",
       " Normal{Float64}(μ=-19.938566894038704, σ=14.140721622265264)\n",
       " Normal{Float64}(μ=-3.1798097440385398, σ=9.999500037496876)\n",
       " Normal{Float64}(μ=-7.750864094687809, σ=8.164693657357805)\n",
       " Normal{Float64}(μ=1.4803327077924162, σ=7.070891041799029)\n",
       " Normal{Float64}(μ=4.112374919968087, σ=6.3244288330249585)\n",
       " Normal{Float64}(μ=5.348537487795703, σ=5.773406469256952)\n",
       " Normal{Float64}(μ=2.5035912914804497, σ=5.34514847952991)\n",
       " Normal{Float64}(μ=4.785611970869732, σ=4.999937501171851)\n",
       " Normal{Float64}(μ=8.127714144117396, σ=4.713992830503184)\n",
       " Normal{Float64}(μ=10.830502570298275, σ=4.472091234310838)\n",
       " Normal{Float64}(μ=12.843593115797232, σ=4.263975563874187)\n",
       " Normal{Float64}(μ=12.738281899180004, σ=4.082448884373011)\n",
       " Normal{Float64}(μ=14.14824425410926, σ=3.922292531398713)\n",
       " ⋮\n",
       " Normal{Float64}(μ=588.3807007367329, σ=0.5827164478148905)\n",
       " Normal{Float64}(μ=589.3876290837466, σ=0.5822224110578259)\n",
       " Normal{Float64}(μ=590.389767829854, σ=0.5817296287317493)\n",
       " Normal{Float64}(μ=591.393709072057, σ=0.581238095536994)\n",
       " Normal{Float64}(μ=592.3924436371453, σ=0.5807478062051865)\n",
       " Normal{Float64}(μ=593.4064547322774, σ=0.5802587554990086)\n",
       " Normal{Float64}(μ=594.3910176020934, σ=0.5797709382119629)\n",
       " Normal{Float64}(μ=595.4297568358056, σ=0.57928434916814)\n",
       " Normal{Float64}(μ=596.4348338723065, σ=0.5787989832219875)\n",
       " Normal{Float64}(μ=597.418573329622, σ=0.578314835258082)\n",
       " Normal{Float64}(μ=598.438468111399, σ=0.5778319001909024)\n",
       " Normal{Float64}(μ=599.4345956834611, σ=0.5773501729646051)"
      ]
     },
     "execution_count": 128,
     "metadata": {},
     "output_type": "execute_result"
    }
   ],
   "source": [
    "@time kalman(data)"
   ]
  },
  {
   "cell_type": "code",
   "execution_count": 127,
   "metadata": {},
   "outputs": [
    {
     "name": "stdout",
     "output_type": "stream",
     "text": [
      "  1.634474 seconds (3.27 M allocations: 172.233 MiB, 6.59% gc time)\n"
     ]
    },
    {
     "data": {
      "text/plain": [
       "600-element Array{Normal{Float64},1}:\n",
       " Normal{Float64}(μ=-19.938566894038704, σ=14.140721622265264)\n",
       " Normal{Float64}(μ=-3.1798097440385398, σ=9.999500037496876)\n",
       " Normal{Float64}(μ=-7.750864094687809, σ=8.164693657357805)\n",
       " Normal{Float64}(μ=1.4803327077924162, σ=7.070891041799029)\n",
       " Normal{Float64}(μ=4.112374919968087, σ=6.3244288330249585)\n",
       " Normal{Float64}(μ=5.348537487795703, σ=5.773406469256952)\n",
       " Normal{Float64}(μ=2.5035912914804497, σ=5.34514847952991)\n",
       " Normal{Float64}(μ=4.785611970869732, σ=4.999937501171851)\n",
       " Normal{Float64}(μ=8.127714144117396, σ=4.713992830503184)\n",
       " Normal{Float64}(μ=10.830502570298275, σ=4.472091234310838)\n",
       " Normal{Float64}(μ=12.843593115797232, σ=4.263975563874187)\n",
       " Normal{Float64}(μ=12.738281899180004, σ=4.082448884373011)\n",
       " Normal{Float64}(μ=14.14824425410926, σ=3.922292531398713)\n",
       " ⋮\n",
       " Normal{Float64}(μ=588.3807007367329, σ=0.5827164478148905)\n",
       " Normal{Float64}(μ=589.3876290837466, σ=0.5822224110578259)\n",
       " Normal{Float64}(μ=590.389767829854, σ=0.5817296287317493)\n",
       " Normal{Float64}(μ=591.393709072057, σ=0.581238095536994)\n",
       " Normal{Float64}(μ=592.3924436371453, σ=0.5807478062051865)\n",
       " Normal{Float64}(μ=593.4064547322774, σ=0.5802587554990086)\n",
       " Normal{Float64}(μ=594.3910176020934, σ=0.5797709382119629)\n",
       " Normal{Float64}(μ=595.4297568358056, σ=0.57928434916814)\n",
       " Normal{Float64}(μ=596.4348338723065, σ=0.5787989832219875)\n",
       " Normal{Float64}(μ=597.418573329622, σ=0.578314835258082)\n",
       " Normal{Float64}(μ=598.438468111399, σ=0.5778319001909024)\n",
       " Normal{Float64}(μ=599.4345956834611, σ=0.5773501729646051)"
      ]
     },
     "execution_count": 127,
     "metadata": {},
     "output_type": "execute_result"
    }
   ],
   "source": [
    "@time kalman(data)"
   ]
  },
  {
   "cell_type": "code",
   "execution_count": null,
   "metadata": {},
   "outputs": [],
   "source": []
  }
 ],
 "metadata": {
  "kernelspec": {
   "display_name": "Julia 1.4.1",
   "language": "julia",
   "name": "julia-1.4"
  },
  "language_info": {
   "file_extension": ".jl",
   "mimetype": "application/julia",
   "name": "julia",
   "version": "1.4.1"
  }
 },
 "nbformat": 4,
 "nbformat_minor": 4
}
