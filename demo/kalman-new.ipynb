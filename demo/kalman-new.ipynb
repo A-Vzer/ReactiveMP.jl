{
 "cells": [
  {
   "cell_type": "code",
   "execution_count": 81,
   "metadata": {},
   "outputs": [],
   "source": [
    "using Distributions\n",
    "using Rocket\n",
    "using ReactiveMP\n",
    "using BenchmarkTools\n",
    "\n",
    "using Profile\n",
    "using PProf\n",
    "using ProfileSVG\n",
    "\n",
    "import Base: show"
   ]
  },
  {
   "cell_type": "code",
   "execution_count": 88,
   "metadata": {},
   "outputs": [
    {
     "data": {
      "text/plain": [
       "kalman (generic function with 1 method)"
      ]
     },
     "execution_count": 88,
     "metadata": {},
     "output_type": "execute_result"
    }
   ],
   "source": [
    "function kalman_filter_graph()\n",
    "    x_prev_add = AdditionNode()\n",
    "    \n",
    "    x_prior = datavar(:x_prior, Normal{Float64})\n",
    "    add_1   = constvar(:add_1, 1.0)\n",
    "\n",
    "    connect!(x_prev_add, :in1, x_prior, 1)\n",
    "    connect!(x_prev_add, :in2, add_1, 1)\n",
    "    \n",
    "    noise = constvar(:noise, Normal(0.0, sqrt(200.0)))\n",
    "    \n",
    "    add_x_and_noise = AdditionNode()\n",
    "    \n",
    "    x = simplerandomvar(:x)\n",
    "    \n",
    "    connect!(x_prev_add, :out, x, 1)\n",
    "    connect!(add_x_and_noise, :in1, x, 2)\n",
    "    connect!(add_x_and_noise, :in2, noise, 1)\n",
    "    \n",
    "    y = datavar(:y, Float64)\n",
    "    \n",
    "    connect!(add_x_and_noise, :out, y, 1)\n",
    "    \n",
    "    activate!(x_prev_add)\n",
    "    activate!(add_x_and_noise)\n",
    "    \n",
    "    return x_prior, x, y\n",
    "end\n",
    "\n",
    "function kalman(data)\n",
    "    N = length(data)\n",
    "    \n",
    "    x_prior, x, y = kalman_filter_graph()\n",
    "\n",
    "    link(x_prior, getmarginal(x))\n",
    "    update!(x_prior, Normal(0.0, sqrt(10000.0)))\n",
    "    \n",
    "    beliefs = Vector{Normal{Float64}}(undef, N)\n",
    "    \n",
    "    subscribe!(getmarginal(x) |> enumerate(), (t) -> beliefs[t[1]] = getdata(t[2]))\n",
    "    \n",
    "    for (i, d) in enumerate(data)\n",
    "        update!(y, d)\n",
    "    end\n",
    "    \n",
    "    return beliefs\n",
    "end"
   ]
  },
  {
   "cell_type": "code",
   "execution_count": 89,
   "metadata": {},
   "outputs": [],
   "source": [
    "N = 600\n",
    "data = collect(1:N) + sqrt(200.0) * randn(N);"
   ]
  },
  {
   "cell_type": "code",
   "execution_count": 92,
   "metadata": {},
   "outputs": [
    {
     "name": "stdout",
     "output_type": "stream",
     "text": [
      "  985.872 μs (16172 allocations: 697.88 KiB)\n"
     ]
    },
    {
     "data": {
      "text/plain": [
       "600-element Array{Normal{Float64},1}:\n",
       " Normal{Float64}(μ=-10.7605049574181, σ=14.002800840280099)\n",
       " Normal{Float64}(μ=-8.349458173498022, σ=9.950371902099892)\n",
       " Normal{Float64}(μ=2.4369115283480167, σ=8.137884587711596)\n",
       " Normal{Float64}(μ=1.7891365568295168, σ=7.053456158585984)\n",
       " Normal{Float64}(μ=3.6456352608784295, σ=6.311944030978033)\n",
       " Normal{Float64}(μ=7.013040971330439, σ=5.763904177042351)\n",
       " Normal{Float64}(μ=6.860314760295695, σ=5.337605126836238)\n",
       " Normal{Float64}(μ=7.975502357321227, σ=4.993761694389224)\n",
       " Normal{Float64}(μ=8.961751642333008, σ=4.708816093480111)\n",
       " Normal{Float64}(μ=11.693527641875335, σ=4.467670516087703)\n",
       " Normal{Float64}(μ=11.043707439626392, σ=4.2601432284230505)\n",
       " Normal{Float64}(μ=13.325892787649707, σ=4.079085082240021)\n",
       " Normal{Float64}(μ=15.13684377969131, σ=3.919309008348103)\n",
       " ⋮\n",
       " Normal{Float64}(μ=588.0708575643617, σ=0.582706653680032)\n",
       " Normal{Float64}(μ=589.0910160316671, σ=0.5822126418123303)\n",
       " Normal{Float64}(μ=590.0798968277409, σ=0.5817198842703781)\n",
       " Normal{Float64}(μ=591.0780199970383, σ=0.5812283757551306)\n",
       " Normal{Float64}(μ=592.1149896256059, σ=0.5807381109988313)\n",
       " Normal{Float64}(μ=593.1287260178613, σ=0.5802490847647747)\n",
       " Normal{Float64}(μ=594.1052350775426, σ=0.5797612918470711)\n",
       " Normal{Float64}(μ=595.116061731224, σ=0.5792747270704146)\n",
       " Normal{Float64}(μ=596.1169904636171, σ=0.5787893852898516)\n",
       " Normal{Float64}(μ=597.1195218379683, σ=0.5783052613905528)\n",
       " Normal{Float64}(μ=598.1275872698692, σ=0.5778223502875869)\n",
       " Normal{Float64}(μ=599.1069061926476, σ=0.5773406469256958)"
      ]
     },
     "execution_count": 92,
     "metadata": {},
     "output_type": "execute_result"
    }
   ],
   "source": [
    "@btime kalman($data)"
   ]
  },
  {
   "cell_type": "code",
   "execution_count": 91,
   "metadata": {},
   "outputs": [
    {
     "name": "stdout",
     "output_type": "stream",
     "text": [
      "  0.001596 seconds (16.17 k allocations: 697.875 KiB)\n"
     ]
    },
    {
     "data": {
      "text/plain": [
       "600-element Array{Normal{Float64},1}:\n",
       " Normal{Float64}(μ=-10.7605049574181, σ=14.002800840280099)\n",
       " Normal{Float64}(μ=-8.349458173498022, σ=9.950371902099892)\n",
       " Normal{Float64}(μ=2.4369115283480167, σ=8.137884587711596)\n",
       " Normal{Float64}(μ=1.7891365568295168, σ=7.053456158585984)\n",
       " Normal{Float64}(μ=3.6456352608784295, σ=6.311944030978033)\n",
       " Normal{Float64}(μ=7.013040971330439, σ=5.763904177042351)\n",
       " Normal{Float64}(μ=6.860314760295695, σ=5.337605126836238)\n",
       " Normal{Float64}(μ=7.975502357321227, σ=4.993761694389224)\n",
       " Normal{Float64}(μ=8.961751642333008, σ=4.708816093480111)\n",
       " Normal{Float64}(μ=11.693527641875335, σ=4.467670516087703)\n",
       " Normal{Float64}(μ=11.043707439626392, σ=4.2601432284230505)\n",
       " Normal{Float64}(μ=13.325892787649707, σ=4.079085082240021)\n",
       " Normal{Float64}(μ=15.13684377969131, σ=3.919309008348103)\n",
       " ⋮\n",
       " Normal{Float64}(μ=588.0708575643617, σ=0.582706653680032)\n",
       " Normal{Float64}(μ=589.0910160316671, σ=0.5822126418123303)\n",
       " Normal{Float64}(μ=590.0798968277409, σ=0.5817198842703781)\n",
       " Normal{Float64}(μ=591.0780199970383, σ=0.5812283757551306)\n",
       " Normal{Float64}(μ=592.1149896256059, σ=0.5807381109988313)\n",
       " Normal{Float64}(μ=593.1287260178613, σ=0.5802490847647747)\n",
       " Normal{Float64}(μ=594.1052350775426, σ=0.5797612918470711)\n",
       " Normal{Float64}(μ=595.116061731224, σ=0.5792747270704146)\n",
       " Normal{Float64}(μ=596.1169904636171, σ=0.5787893852898516)\n",
       " Normal{Float64}(μ=597.1195218379683, σ=0.5783052613905528)\n",
       " Normal{Float64}(μ=598.1275872698692, σ=0.5778223502875869)\n",
       " Normal{Float64}(μ=599.1069061926476, σ=0.5773406469256958)"
      ]
     },
     "execution_count": 91,
     "metadata": {},
     "output_type": "execute_result"
    }
   ],
   "source": [
    "@time kalman(data)"
   ]
  },
  {
   "cell_type": "code",
   "execution_count": 90,
   "metadata": {},
   "outputs": [
    {
     "name": "stdout",
     "output_type": "stream",
     "text": [
      "  0.187965 seconds (496.15 k allocations: 25.588 MiB)\n"
     ]
    },
    {
     "data": {
      "text/plain": [
       "600-element Array{Normal{Float64},1}:\n",
       " Normal{Float64}(μ=-10.7605049574181, σ=14.002800840280099)\n",
       " Normal{Float64}(μ=-8.349458173498022, σ=9.950371902099892)\n",
       " Normal{Float64}(μ=2.4369115283480167, σ=8.137884587711596)\n",
       " Normal{Float64}(μ=1.7891365568295168, σ=7.053456158585984)\n",
       " Normal{Float64}(μ=3.6456352608784295, σ=6.311944030978033)\n",
       " Normal{Float64}(μ=7.013040971330439, σ=5.763904177042351)\n",
       " Normal{Float64}(μ=6.860314760295695, σ=5.337605126836238)\n",
       " Normal{Float64}(μ=7.975502357321227, σ=4.993761694389224)\n",
       " Normal{Float64}(μ=8.961751642333008, σ=4.708816093480111)\n",
       " Normal{Float64}(μ=11.693527641875335, σ=4.467670516087703)\n",
       " Normal{Float64}(μ=11.043707439626392, σ=4.2601432284230505)\n",
       " Normal{Float64}(μ=13.325892787649707, σ=4.079085082240021)\n",
       " Normal{Float64}(μ=15.13684377969131, σ=3.919309008348103)\n",
       " ⋮\n",
       " Normal{Float64}(μ=588.0708575643617, σ=0.582706653680032)\n",
       " Normal{Float64}(μ=589.0910160316671, σ=0.5822126418123303)\n",
       " Normal{Float64}(μ=590.0798968277409, σ=0.5817198842703781)\n",
       " Normal{Float64}(μ=591.0780199970383, σ=0.5812283757551306)\n",
       " Normal{Float64}(μ=592.1149896256059, σ=0.5807381109988313)\n",
       " Normal{Float64}(μ=593.1287260178613, σ=0.5802490847647747)\n",
       " Normal{Float64}(μ=594.1052350775426, σ=0.5797612918470711)\n",
       " Normal{Float64}(μ=595.116061731224, σ=0.5792747270704146)\n",
       " Normal{Float64}(μ=596.1169904636171, σ=0.5787893852898516)\n",
       " Normal{Float64}(μ=597.1195218379683, σ=0.5783052613905528)\n",
       " Normal{Float64}(μ=598.1275872698692, σ=0.5778223502875869)\n",
       " Normal{Float64}(μ=599.1069061926476, σ=0.5773406469256958)"
      ]
     },
     "execution_count": 90,
     "metadata": {},
     "output_type": "execute_result"
    }
   ],
   "source": [
    "@time kalman(data)"
   ]
  },
  {
   "cell_type": "code",
   "execution_count": null,
   "metadata": {},
   "outputs": [],
   "source": []
  }
 ],
 "metadata": {
  "kernelspec": {
   "display_name": "Julia 1.4.1",
   "language": "julia",
   "name": "julia-1.4"
  },
  "language_info": {
   "file_extension": ".jl",
   "mimetype": "application/julia",
   "name": "julia",
   "version": "1.4.1"
  }
 },
 "nbformat": 4,
 "nbformat_minor": 4
}
