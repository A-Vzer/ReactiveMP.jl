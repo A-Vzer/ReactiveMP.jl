{
 "cells": [
  {
   "cell_type": "code",
   "execution_count": 2,
   "metadata": {},
   "outputs": [
    {
     "name": "stderr",
     "output_type": "stream",
     "text": [
      "┌ Info: Precompiling ReactiveMP [a194aa59-28ba-4574-a09c-4a745416d6e3]\n",
      "└ @ Base loading.jl:1260\n",
      "┌ Warning: Package ReactiveMP does not have Rocket in its dependencies:\n",
      "│ - If you have ReactiveMP checked out for development and have\n",
      "│   added Rocket as a dependency but haven't updated your primary\n",
      "│   environment's manifest file, try `Pkg.resolve()`.\n",
      "│ - Otherwise you may need to report an issue with ReactiveMP\n",
      "└ Loading Rocket into ReactiveMP from project dependency, future warnings for ReactiveMP are suppressed.\n"
     ]
    }
   ],
   "source": [
    "using Distributions\n",
    "using Rocket\n",
    "using ReactiveMP\n",
    "using BenchmarkTools\n",
    "\n",
    "using Profile\n",
    "using PProf\n",
    "using ProfileSVG\n",
    "\n",
    "import Base: show"
   ]
  },
  {
   "cell_type": "code",
   "execution_count": 7,
   "metadata": {},
   "outputs": [
    {
     "data": {
      "text/plain": [
       "kalman (generic function with 1 method)"
      ]
     },
     "execution_count": 7,
     "metadata": {},
     "output_type": "execute_result"
    }
   ],
   "source": [
    "function kalman_filter_graph()\n",
    "    x_prev_add = AdditionNode()\n",
    "    \n",
    "    x_prior = datavar(:x_prior, Normal{Float64})\n",
    "    add_1   = constvar(:add_1, 1.0)\n",
    "\n",
    "    connect!(x_prev_add, :in1, x_prior, 1)\n",
    "    connect!(x_prev_add, :in2, add_1, 1)\n",
    "    \n",
    "    noise = constvar(:noise, Normal(0.0, sqrt(200.0)))\n",
    "    \n",
    "    add_x_and_noise = AdditionNode()\n",
    "    \n",
    "    x = simplerandomvar(:x)\n",
    "    \n",
    "    connect!(x_prev_add, :out, x, 1)\n",
    "    connect!(add_x_and_noise, :in1, x, 2)\n",
    "    connect!(add_x_and_noise, :in2, noise, 1)\n",
    "    \n",
    "    y = datavar(:y, Float64)\n",
    "    \n",
    "    connect!(add_x_and_noise, :out, y, 1)\n",
    "    \n",
    "    activate!(x_prev_add)\n",
    "    activate!(add_x_and_noise)\n",
    "    \n",
    "    return x_prior, x, y\n",
    "end\n",
    "\n",
    "function kalman(data)\n",
    "    N = length(data)\n",
    "    \n",
    "    x_prior, x, y = kalman_filter_graph()\n",
    "    \n",
    "    beliefs = Vector{Normal{Float64}}(undef, N)\n",
    "    updates = Channel{Tuple{Normal{Float64}, Float64}}(Inf) do ch\n",
    "        while true\n",
    "            update_data = take!(ch)\n",
    "            update!(x_prior, update_data[1])\n",
    "            update!(y, update_data[2])\n",
    "        end\n",
    "    end\n",
    "    \n",
    "    actor = sync(lambda(Tuple{Int, AbstractBelief},\n",
    "        on_next = (d) -> begin\n",
    "        \n",
    "            index  = d[1]    \n",
    "            belief = getdata(d[2])\n",
    "                    \n",
    "            if index < N\n",
    "                push!(updates, (belief, data[index + 1]))\n",
    "            else\n",
    "                finish!(x_prior)\n",
    "                finish!(y)\n",
    "                close(updates)\n",
    "            end\n",
    "                \n",
    "            beliefs[index] = belief\n",
    "        end,\n",
    "        on_error = (e) -> println(e)\n",
    "    ), timeout = 10000)\n",
    "    \n",
    "    @async begin\n",
    "        try\n",
    "            subscribe!(getmarginal(x) |> enumerate(), actor)\n",
    "            push!(updates, (Normal(0.0, 1000.0), data[1]))\n",
    "        catch err \n",
    "            println(err)\n",
    "        end\n",
    "    end\n",
    "    \n",
    "    wait(actor)\n",
    "    \n",
    "    return beliefs\n",
    "end"
   ]
  },
  {
   "cell_type": "code",
   "execution_count": 8,
   "metadata": {},
   "outputs": [],
   "source": [
    "N = 600\n",
    "data = collect(1:N) + sqrt(200.0) * randn(N);"
   ]
  },
  {
   "cell_type": "code",
   "execution_count": 11,
   "metadata": {},
   "outputs": [
    {
     "name": "stdout",
     "output_type": "stream",
     "text": [
      "  1.185 ms (15637 allocations: 683.77 KiB)\n"
     ]
    },
    {
     "data": {
      "text/plain": [
       "600-element Array{Normal{Float64},1}:\n",
       " Normal{Float64}(μ=10.31065874694313, σ=14.140721622265264)\n",
       " Normal{Float64}(μ=10.157996227510043, σ=9.999500037496876)\n",
       " Normal{Float64}(μ=7.808732845833988, σ=8.164693657357805)\n",
       " Normal{Float64}(μ=7.120005927907771, σ=7.070891041799029)\n",
       " Normal{Float64}(μ=6.265283887660218, σ=6.3244288330249585)\n",
       " Normal{Float64}(μ=7.664453113948766, σ=5.773406469256952)\n",
       " Normal{Float64}(μ=8.508833760619225, σ=5.34514847952991)\n",
       " Normal{Float64}(μ=10.887970393349898, σ=4.999937501171851)\n",
       " Normal{Float64}(μ=11.048981040347211, σ=4.713992830503184)\n",
       " Normal{Float64}(μ=14.868724807949096, σ=4.472091234310838)\n",
       " Normal{Float64}(μ=14.939385349128038, σ=4.263975563874187)\n",
       " Normal{Float64}(μ=17.654292472050876, σ=4.082448884373011)\n",
       " Normal{Float64}(μ=17.7324041587127, σ=3.922292531398713)\n",
       " ⋮\n",
       " Normal{Float64}(μ=589.6967170713511, σ=0.5827164478148905)\n",
       " Normal{Float64}(μ=590.6392762518345, σ=0.5822224110578259)\n",
       " Normal{Float64}(μ=591.656685816653, σ=0.5817296287317493)\n",
       " Normal{Float64}(μ=592.6406745210112, σ=0.581238095536994)\n",
       " Normal{Float64}(μ=593.6147603272696, σ=0.5807478062051865)\n",
       " Normal{Float64}(μ=594.608471258597, σ=0.5802587554990086)\n",
       " Normal{Float64}(μ=595.6110234267608, σ=0.5797709382119629)\n",
       " Normal{Float64}(μ=596.6268891713893, σ=0.57928434916814)\n",
       " Normal{Float64}(μ=597.6226567223132, σ=0.5787989832219875)\n",
       " Normal{Float64}(μ=598.6485850023424, σ=0.578314835258082)\n",
       " Normal{Float64}(μ=599.6521206179294, σ=0.5778319001909024)\n",
       " Normal{Float64}(μ=600.6595347221628, σ=0.5773501729646051)"
      ]
     },
     "execution_count": 11,
     "metadata": {},
     "output_type": "execute_result"
    }
   ],
   "source": [
    "@btime kalman($data)"
   ]
  },
  {
   "cell_type": "code",
   "execution_count": 10,
   "metadata": {},
   "outputs": [
    {
     "name": "stdout",
     "output_type": "stream",
     "text": [
      "  0.001932 seconds (15.64 k allocations: 683.781 KiB)\n"
     ]
    },
    {
     "data": {
      "text/plain": [
       "600-element Array{Normal{Float64},1}:\n",
       " Normal{Float64}(μ=10.31065874694313, σ=14.140721622265264)\n",
       " Normal{Float64}(μ=10.157996227510043, σ=9.999500037496876)\n",
       " Normal{Float64}(μ=7.808732845833988, σ=8.164693657357805)\n",
       " Normal{Float64}(μ=7.120005927907771, σ=7.070891041799029)\n",
       " Normal{Float64}(μ=6.265283887660218, σ=6.3244288330249585)\n",
       " Normal{Float64}(μ=7.664453113948766, σ=5.773406469256952)\n",
       " Normal{Float64}(μ=8.508833760619225, σ=5.34514847952991)\n",
       " Normal{Float64}(μ=10.887970393349898, σ=4.999937501171851)\n",
       " Normal{Float64}(μ=11.048981040347211, σ=4.713992830503184)\n",
       " Normal{Float64}(μ=14.868724807949096, σ=4.472091234310838)\n",
       " Normal{Float64}(μ=14.939385349128038, σ=4.263975563874187)\n",
       " Normal{Float64}(μ=17.654292472050876, σ=4.082448884373011)\n",
       " Normal{Float64}(μ=17.7324041587127, σ=3.922292531398713)\n",
       " ⋮\n",
       " Normal{Float64}(μ=589.6967170713511, σ=0.5827164478148905)\n",
       " Normal{Float64}(μ=590.6392762518345, σ=0.5822224110578259)\n",
       " Normal{Float64}(μ=591.656685816653, σ=0.5817296287317493)\n",
       " Normal{Float64}(μ=592.6406745210112, σ=0.581238095536994)\n",
       " Normal{Float64}(μ=593.6147603272696, σ=0.5807478062051865)\n",
       " Normal{Float64}(μ=594.608471258597, σ=0.5802587554990086)\n",
       " Normal{Float64}(μ=595.6110234267608, σ=0.5797709382119629)\n",
       " Normal{Float64}(μ=596.6268891713893, σ=0.57928434916814)\n",
       " Normal{Float64}(μ=597.6226567223132, σ=0.5787989832219875)\n",
       " Normal{Float64}(μ=598.6485850023424, σ=0.578314835258082)\n",
       " Normal{Float64}(μ=599.6521206179294, σ=0.5778319001909024)\n",
       " Normal{Float64}(μ=600.6595347221628, σ=0.5773501729646051)"
      ]
     },
     "execution_count": 10,
     "metadata": {},
     "output_type": "execute_result"
    }
   ],
   "source": [
    "@time kalman(data)"
   ]
  },
  {
   "cell_type": "code",
   "execution_count": 9,
   "metadata": {},
   "outputs": [
    {
     "name": "stdout",
     "output_type": "stream",
     "text": [
      "  2.937399 seconds (7.95 M allocations: 420.222 MiB, 2.73% gc time)\n"
     ]
    },
    {
     "data": {
      "text/plain": [
       "600-element Array{Normal{Float64},1}:\n",
       " Normal{Float64}(μ=10.31065874694313, σ=14.140721622265264)\n",
       " Normal{Float64}(μ=10.157996227510043, σ=9.999500037496876)\n",
       " Normal{Float64}(μ=7.808732845833988, σ=8.164693657357805)\n",
       " Normal{Float64}(μ=7.120005927907771, σ=7.070891041799029)\n",
       " Normal{Float64}(μ=6.265283887660218, σ=6.3244288330249585)\n",
       " Normal{Float64}(μ=7.664453113948766, σ=5.773406469256952)\n",
       " Normal{Float64}(μ=8.508833760619225, σ=5.34514847952991)\n",
       " Normal{Float64}(μ=10.887970393349898, σ=4.999937501171851)\n",
       " Normal{Float64}(μ=11.048981040347211, σ=4.713992830503184)\n",
       " Normal{Float64}(μ=14.868724807949096, σ=4.472091234310838)\n",
       " Normal{Float64}(μ=14.939385349128038, σ=4.263975563874187)\n",
       " Normal{Float64}(μ=17.654292472050876, σ=4.082448884373011)\n",
       " Normal{Float64}(μ=17.7324041587127, σ=3.922292531398713)\n",
       " ⋮\n",
       " Normal{Float64}(μ=589.6967170713511, σ=0.5827164478148905)\n",
       " Normal{Float64}(μ=590.6392762518345, σ=0.5822224110578259)\n",
       " Normal{Float64}(μ=591.656685816653, σ=0.5817296287317493)\n",
       " Normal{Float64}(μ=592.6406745210112, σ=0.581238095536994)\n",
       " Normal{Float64}(μ=593.6147603272696, σ=0.5807478062051865)\n",
       " Normal{Float64}(μ=594.608471258597, σ=0.5802587554990086)\n",
       " Normal{Float64}(μ=595.6110234267608, σ=0.5797709382119629)\n",
       " Normal{Float64}(μ=596.6268891713893, σ=0.57928434916814)\n",
       " Normal{Float64}(μ=597.6226567223132, σ=0.5787989832219875)\n",
       " Normal{Float64}(μ=598.6485850023424, σ=0.578314835258082)\n",
       " Normal{Float64}(μ=599.6521206179294, σ=0.5778319001909024)\n",
       " Normal{Float64}(μ=600.6595347221628, σ=0.5773501729646051)"
      ]
     },
     "execution_count": 9,
     "metadata": {},
     "output_type": "execute_result"
    }
   ],
   "source": [
    "@time kalman(data)"
   ]
  },
  {
   "cell_type": "code",
   "execution_count": null,
   "metadata": {},
   "outputs": [],
   "source": []
  }
 ],
 "metadata": {
  "kernelspec": {
   "display_name": "Julia 1.4.1",
   "language": "julia",
   "name": "julia-1.4"
  },
  "language_info": {
   "file_extension": ".jl",
   "mimetype": "application/julia",
   "name": "julia",
   "version": "1.4.1"
  }
 },
 "nbformat": 4,
 "nbformat_minor": 4
}
