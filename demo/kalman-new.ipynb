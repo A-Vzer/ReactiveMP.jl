{
 "cells": [
  {
   "cell_type": "code",
   "execution_count": 16,
   "metadata": {},
   "outputs": [],
   "source": [
    "using Distributions\n",
    "using Rocket\n",
    "using ReactiveMP\n",
    "using BenchmarkTools\n",
    "\n",
    "using Profile\n",
    "using PProf\n",
    "using ProfileSVG\n",
    "\n",
    "import Base: show"
   ]
  },
  {
   "cell_type": "code",
   "execution_count": 17,
   "metadata": {},
   "outputs": [
    {
     "data": {
      "text/plain": [
       "kalman (generic function with 1 method)"
      ]
     },
     "execution_count": 17,
     "metadata": {},
     "output_type": "execute_result"
    }
   ],
   "source": [
    "function kalman_filter_graph()\n",
    "    x_prev_add = AdditionNode()\n",
    "    \n",
    "    x_prior = datavar(:x_prior, Normal{Float64})\n",
    "    add_1   = constvar(:add_1, 1.0)\n",
    "\n",
    "    connect!(x_prev_add, :in1, x_prior, 1)\n",
    "    connect!(x_prev_add, :in2, add_1, 1)\n",
    "    \n",
    "    noise = constvar(:noise, Normal(0.0, sqrt(200.0)))\n",
    "    \n",
    "    add_x_and_noise = AdditionNode()\n",
    "    \n",
    "    x = simplerandomvar(:x)\n",
    "    \n",
    "    connect!(x_prev_add, :out, x, 1)\n",
    "    connect!(add_x_and_noise, :in1, x, 2)\n",
    "    connect!(add_x_and_noise, :in2, noise, 1)\n",
    "    \n",
    "    y = datavar(:y, Float64)\n",
    "    \n",
    "    connect!(add_x_and_noise, :out, y, 1)\n",
    "    \n",
    "    activate!(x_prev_add)\n",
    "    activate!(add_x_and_noise)\n",
    "    \n",
    "    return x_prior, x, y\n",
    "end\n",
    "\n",
    "function kalman(data)\n",
    "    N = length(data)\n",
    "    \n",
    "    x_prior, x, y = kalman_filter_graph()\n",
    "    \n",
    "    beliefs = Vector{Normal{Float64}}(undef, N)\n",
    "    updates = Channel{Tuple{Normal{Float64}, Float64}}(Inf) do ch\n",
    "        while true\n",
    "            update_data = take!(ch)\n",
    "            update!(x_prior, update_data[1])\n",
    "            update!(y, update_data[2])\n",
    "        end\n",
    "    end\n",
    "    \n",
    "    actor = sync(lambda(Tuple{Int, AbstractBelief},\n",
    "        on_next = (d) -> begin\n",
    "        \n",
    "            index  = d[1]    \n",
    "            belief = getdata(d[2])\n",
    "                    \n",
    "            if index < N\n",
    "                push!(updates, (belief, data[index + 1]))\n",
    "            else\n",
    "                finish!(x_prior)\n",
    "                finish!(y)\n",
    "                close(updates)\n",
    "            end\n",
    "                \n",
    "            beliefs[index] = belief\n",
    "        end,\n",
    "        on_error = (e) -> println(e)\n",
    "    ), timeout = 10000)\n",
    "    \n",
    "    @async begin\n",
    "        try\n",
    "            subscribe!(belief(x) |> enumerate(), actor)\n",
    "            push!(updates, (Normal(0.0, 1000.0), data[1]))\n",
    "        catch err \n",
    "            println(err)\n",
    "        end\n",
    "    end\n",
    "    \n",
    "    wait(actor)\n",
    "    \n",
    "    return beliefs\n",
    "end"
   ]
  },
  {
   "cell_type": "code",
   "execution_count": 18,
   "metadata": {},
   "outputs": [],
   "source": [
    "N = 600\n",
    "data = collect(1:N) + sqrt(200.0) * randn(N);"
   ]
  },
  {
   "cell_type": "code",
   "execution_count": 21,
   "metadata": {},
   "outputs": [
    {
     "name": "stdout",
     "output_type": "stream",
     "text": [
      "  1.055 ms (13673 allocations: 583.13 KiB)\n"
     ]
    },
    {
     "data": {
      "text/plain": [
       "600-element Array{Normal{Float64},1}:\n",
       " Normal{Float64}(μ=-6.755880377703271, σ=14.140721622265264)\n",
       " Normal{Float64}(μ=-12.975589236664225, σ=9.999500037496876)\n",
       " Normal{Float64}(μ=-1.4689529628026596, σ=8.164693657357805)\n",
       " Normal{Float64}(μ=1.3373576233796287, σ=7.070891041799029)\n",
       " Normal{Float64}(μ=1.756603754186064, σ=6.3244288330249585)\n",
       " Normal{Float64}(μ=7.688710277324968, σ=5.773406469256952)\n",
       " Normal{Float64}(μ=7.943458596456585, σ=5.34514847952991)\n",
       " Normal{Float64}(μ=12.267168768371933, σ=4.999937501171851)\n",
       " Normal{Float64}(μ=10.957090424582162, σ=4.713992830503184)\n",
       " Normal{Float64}(μ=13.588886690774183, σ=4.472091234310838)\n",
       " Normal{Float64}(μ=14.402608767342823, σ=4.263975563874187)\n",
       " Normal{Float64}(μ=14.313202756984134, σ=4.082448884373011)\n",
       " Normal{Float64}(μ=13.666556944038334, σ=3.922292531398713)\n",
       " ⋮\n",
       " Normal{Float64}(μ=589.0307792219833, σ=0.5827164478148905)\n",
       " Normal{Float64}(μ=590.0272343592519, σ=0.5822224110578259)\n",
       " Normal{Float64}(μ=590.9972077984941, σ=0.5817296287317493)\n",
       " Normal{Float64}(μ=592.0167435484782, σ=0.581238095536994)\n",
       " Normal{Float64}(μ=593.01648580759, σ=0.5807478062051865)\n",
       " Normal{Float64}(μ=594.0004286198216, σ=0.5802587554990086)\n",
       " Normal{Float64}(μ=595.0248200498239, σ=0.5797709382119629)\n",
       " Normal{Float64}(μ=595.999412554779, σ=0.57928434916814)\n",
       " Normal{Float64}(μ=596.9895985857551, σ=0.5787989832219875)\n",
       " Normal{Float64}(μ=597.9827052402355, σ=0.578314835258082)\n",
       " Normal{Float64}(μ=599.0059684896837, σ=0.5778319001909024)\n",
       " Normal{Float64}(μ=599.9921241835893, σ=0.5773501729646051)"
      ]
     },
     "execution_count": 21,
     "metadata": {},
     "output_type": "execute_result"
    }
   ],
   "source": [
    "@btime kalman($data)"
   ]
  },
  {
   "cell_type": "code",
   "execution_count": 20,
   "metadata": {},
   "outputs": [
    {
     "name": "stdout",
     "output_type": "stream",
     "text": [
      "  0.001958 seconds (13.67 k allocations: 583.109 KiB)\n"
     ]
    },
    {
     "data": {
      "text/plain": [
       "600-element Array{Normal{Float64},1}:\n",
       " Normal{Float64}(μ=-6.755880377703271, σ=14.140721622265264)\n",
       " Normal{Float64}(μ=-12.975589236664225, σ=9.999500037496876)\n",
       " Normal{Float64}(μ=-1.4689529628026596, σ=8.164693657357805)\n",
       " Normal{Float64}(μ=1.3373576233796287, σ=7.070891041799029)\n",
       " Normal{Float64}(μ=1.756603754186064, σ=6.3244288330249585)\n",
       " Normal{Float64}(μ=7.688710277324968, σ=5.773406469256952)\n",
       " Normal{Float64}(μ=7.943458596456585, σ=5.34514847952991)\n",
       " Normal{Float64}(μ=12.267168768371933, σ=4.999937501171851)\n",
       " Normal{Float64}(μ=10.957090424582162, σ=4.713992830503184)\n",
       " Normal{Float64}(μ=13.588886690774183, σ=4.472091234310838)\n",
       " Normal{Float64}(μ=14.402608767342823, σ=4.263975563874187)\n",
       " Normal{Float64}(μ=14.313202756984134, σ=4.082448884373011)\n",
       " Normal{Float64}(μ=13.666556944038334, σ=3.922292531398713)\n",
       " ⋮\n",
       " Normal{Float64}(μ=589.0307792219833, σ=0.5827164478148905)\n",
       " Normal{Float64}(μ=590.0272343592519, σ=0.5822224110578259)\n",
       " Normal{Float64}(μ=590.9972077984941, σ=0.5817296287317493)\n",
       " Normal{Float64}(μ=592.0167435484782, σ=0.581238095536994)\n",
       " Normal{Float64}(μ=593.01648580759, σ=0.5807478062051865)\n",
       " Normal{Float64}(μ=594.0004286198216, σ=0.5802587554990086)\n",
       " Normal{Float64}(μ=595.0248200498239, σ=0.5797709382119629)\n",
       " Normal{Float64}(μ=595.999412554779, σ=0.57928434916814)\n",
       " Normal{Float64}(μ=596.9895985857551, σ=0.5787989832219875)\n",
       " Normal{Float64}(μ=597.9827052402355, σ=0.578314835258082)\n",
       " Normal{Float64}(μ=599.0059684896837, σ=0.5778319001909024)\n",
       " Normal{Float64}(μ=599.9921241835893, σ=0.5773501729646051)"
      ]
     },
     "execution_count": 20,
     "metadata": {},
     "output_type": "execute_result"
    }
   ],
   "source": [
    "@time kalman(data)"
   ]
  },
  {
   "cell_type": "code",
   "execution_count": 19,
   "metadata": {},
   "outputs": [
    {
     "name": "stdout",
     "output_type": "stream",
     "text": [
      "  0.469831 seconds (1.22 M allocations: 63.602 MiB)\n"
     ]
    },
    {
     "data": {
      "text/plain": [
       "600-element Array{Normal{Float64},1}:\n",
       " Normal{Float64}(μ=-6.755880377703271, σ=14.140721622265264)\n",
       " Normal{Float64}(μ=-12.975589236664225, σ=9.999500037496876)\n",
       " Normal{Float64}(μ=-1.4689529628026596, σ=8.164693657357805)\n",
       " Normal{Float64}(μ=1.3373576233796287, σ=7.070891041799029)\n",
       " Normal{Float64}(μ=1.756603754186064, σ=6.3244288330249585)\n",
       " Normal{Float64}(μ=7.688710277324968, σ=5.773406469256952)\n",
       " Normal{Float64}(μ=7.943458596456585, σ=5.34514847952991)\n",
       " Normal{Float64}(μ=12.267168768371933, σ=4.999937501171851)\n",
       " Normal{Float64}(μ=10.957090424582162, σ=4.713992830503184)\n",
       " Normal{Float64}(μ=13.588886690774183, σ=4.472091234310838)\n",
       " Normal{Float64}(μ=14.402608767342823, σ=4.263975563874187)\n",
       " Normal{Float64}(μ=14.313202756984134, σ=4.082448884373011)\n",
       " Normal{Float64}(μ=13.666556944038334, σ=3.922292531398713)\n",
       " ⋮\n",
       " Normal{Float64}(μ=589.0307792219833, σ=0.5827164478148905)\n",
       " Normal{Float64}(μ=590.0272343592519, σ=0.5822224110578259)\n",
       " Normal{Float64}(μ=590.9972077984941, σ=0.5817296287317493)\n",
       " Normal{Float64}(μ=592.0167435484782, σ=0.581238095536994)\n",
       " Normal{Float64}(μ=593.01648580759, σ=0.5807478062051865)\n",
       " Normal{Float64}(μ=594.0004286198216, σ=0.5802587554990086)\n",
       " Normal{Float64}(μ=595.0248200498239, σ=0.5797709382119629)\n",
       " Normal{Float64}(μ=595.999412554779, σ=0.57928434916814)\n",
       " Normal{Float64}(μ=596.9895985857551, σ=0.5787989832219875)\n",
       " Normal{Float64}(μ=597.9827052402355, σ=0.578314835258082)\n",
       " Normal{Float64}(μ=599.0059684896837, σ=0.5778319001909024)\n",
       " Normal{Float64}(μ=599.9921241835893, σ=0.5773501729646051)"
      ]
     },
     "execution_count": 19,
     "metadata": {},
     "output_type": "execute_result"
    }
   ],
   "source": [
    "@time kalman(data)"
   ]
  },
  {
   "cell_type": "code",
   "execution_count": null,
   "metadata": {},
   "outputs": [],
   "source": []
  }
 ],
 "metadata": {
  "kernelspec": {
   "display_name": "Julia 1.4.1",
   "language": "julia",
   "name": "julia-1.4"
  },
  "language_info": {
   "file_extension": ".jl",
   "mimetype": "application/julia",
   "name": "julia",
   "version": "1.4.1"
  }
 },
 "nbformat": 4,
 "nbformat_minor": 4
}
