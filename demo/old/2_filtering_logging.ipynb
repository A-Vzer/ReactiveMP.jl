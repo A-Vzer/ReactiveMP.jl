{
 "cells": [
  {
   "cell_type": "code",
   "execution_count": 1,
   "metadata": {},
   "outputs": [
    {
     "name": "stderr",
     "output_type": "stream",
     "text": [
      "┌ Info: Precompiling ReactiveMP [a194aa59-28ba-4574-a09c-4a745416d6e3]\n",
      "└ @ Base loading.jl:1278\n",
      "┌ Warning: Package ReactiveMP does not have Rocket in its dependencies:\n",
      "│ - If you have ReactiveMP checked out for development and have\n",
      "│   added Rocket as a dependency but haven't updated your primary\n",
      "│   environment's manifest file, try `Pkg.resolve()`.\n",
      "│ - Otherwise you may need to report an issue with ReactiveMP\n",
      "└ Loading Rocket into ReactiveMP from project dependency, future warnings for ReactiveMP are suppressed.\n"
     ]
    }
   ],
   "source": [
    "using Distributions\n",
    "using Rocket\n",
    "using ReactiveMP\n",
    "using BenchmarkTools\n",
    "\n",
    "import Base: show"
   ]
  },
  {
   "cell_type": "code",
   "execution_count": 5,
   "metadata": {},
   "outputs": [
    {
     "data": {
      "text/plain": [
       "filtering (generic function with 1 method)"
      ]
     },
     "execution_count": 5,
     "metadata": {},
     "output_type": "execute_result"
    }
   ],
   "source": [
    "function filtering_model_with_logging()\n",
    "    model = Model(; message_gate = DefaultMessageGate() + LoggerMessageGate())\n",
    "    \n",
    "    x_prev = datavar(model, :x_prior, NormalMeanVariance{Float64})\n",
    "    add_1  = constvar(model, :add_1, 1.0)\n",
    "    x      = randomvar(model, :x)\n",
    "    \n",
    "    x_prev_add = make_node(model, +, x_prev, add_1, x)\n",
    "    \n",
    "    noise = constvar(model, :noise, NormalMeanVariance(0.0, 200.0))\n",
    "    y     = datavar(model, :y, PointMass{Float64})\n",
    "    \n",
    "    add_x_and_noise = make_node(model, +, x, noise, y)\n",
    "    \n",
    "    activate!(model)\n",
    "    \n",
    "    return x_prev, x, y\n",
    "end\n",
    "\n",
    "function filtering(data)\n",
    "    N = length(data)\n",
    "    \n",
    "    x_prev, x, y = filtering_model_with_logging()\n",
    "    \n",
    "    marginals = Vector{NormalMeanVariance{Float64}}()\n",
    "    \n",
    "    subscription = subscribe!(getmarginal(x), (t) -> begin\n",
    "        update!(x_prev, getdata(t))   \n",
    "        push!(marginals, getdata(t))\n",
    "    end)\n",
    "    \n",
    "    update!(x_prev, NormalMeanVariance(0.0, 10000.0))\n",
    "    \n",
    "    for d in data\n",
    "        update!(y, d)\n",
    "    end\n",
    "    \n",
    "    unsubscribe!(subscription)\n",
    "    \n",
    "    return marginals\n",
    "end"
   ]
  },
  {
   "cell_type": "code",
   "execution_count": 6,
   "metadata": {},
   "outputs": [],
   "source": [
    "N = 10\n",
    "data = collect(1:N) + sqrt(200.0) * randn(N);"
   ]
  },
  {
   "cell_type": "code",
   "execution_count": 7,
   "metadata": {},
   "outputs": [
    {
     "name": "stdout",
     "output_type": "stream",
     "text": [
      "From variable in2 of node + => NormalMeanVariance{Float64}(μ=-1.0, v=10000.0)\n",
      "From variable out of node + => NormalMeanVariance{Float64}(μ=-14.473175444608133, v=200.0)\n",
      "From variable in2 of node + => NormalMeanVariance{Float64}(μ=-15.208995533929542, v=196.07843137254903)\n",
      "From variable out of node + => NormalMeanVariance{Float64}(μ=-8.878616463604644, v=200.0)\n",
      "From variable in2 of node + => NormalMeanVariance{Float64}(μ=-13.075144509016225, v=99.009900990099)\n",
      "From variable out of node + => NormalMeanVariance{Float64}(μ=9.611081326964005, v=200.0)\n",
      "From variable in2 of node + => NormalMeanVariance{Float64}(μ=-6.563149199088997, v=66.22516556291389)\n",
      "From variable out of node + => NormalMeanVariance{Float64}(μ=-23.213407365415883, v=200.0)\n",
      "From variable in2 of node + => NormalMeanVariance{Float64}(μ=-11.70500446434444, v=49.751243781094516)\n",
      "From variable out of node + => NormalMeanVariance{Float64}(μ=-22.972160512568603, v=200.0)\n",
      "From variable in2 of node + => NormalMeanVariance{Float64}(μ=-14.949457860405031, v=39.840637450199196)\n",
      "From variable out of node + => NormalMeanVariance{Float64}(μ=-4.419605913501687, v=200.0)\n",
      "From variable in2 of node + => NormalMeanVariance{Float64}(μ=-14.200313018726735, v=33.22259136212624)\n",
      "From variable out of node + => NormalMeanVariance{Float64}(μ=-0.29411345517807685, v=200.0)\n",
      "From variable in2 of node + => NormalMeanVariance{Float64}(μ=-13.219372909959121, v=28.490028490028482)\n",
      "From variable out of node + => NormalMeanVariance{Float64}(μ=21.2229307462636, v=200.0)\n",
      "From variable in2 of node + => NormalMeanVariance{Float64}(μ=-9.92482133187649, v=24.937655860349118)\n",
      "From variable out of node + => NormalMeanVariance{Float64}(μ=10.366629162019773, v=200.0)\n",
      "From variable in2 of node + => NormalMeanVariance{Float64}(μ=-8.675214846965599, v=22.17294900221729)\n",
      "From variable out of node + => NormalMeanVariance{Float64}(μ=2.358824903796952, v=200.0)\n",
      "From variable in2 of node + => NormalMeanVariance{Float64}(μ=-8.57401327503321, v=19.96007984031936)\n"
     ]
    }
   ],
   "source": [
    "filtering(data);"
   ]
  },
  {
   "cell_type": "code",
   "execution_count": null,
   "metadata": {},
   "outputs": [],
   "source": []
  }
 ],
 "metadata": {
  "kernelspec": {
   "display_name": "Julia 1.5.2",
   "language": "julia",
   "name": "julia-1.5"
  },
  "language_info": {
   "file_extension": ".jl",
   "mimetype": "application/julia",
   "name": "julia",
   "version": "1.5.2"
  }
 },
 "nbformat": 4,
 "nbformat_minor": 4
}
