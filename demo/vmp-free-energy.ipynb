{
 "cells": [
  {
   "cell_type": "code",
   "execution_count": 44,
   "metadata": {},
   "outputs": [],
   "source": [
    "using Distributions\n",
    "using Rocket\n",
    "using ReactiveMP\n",
    "using BenchmarkTools\n",
    "using StaticArrays\n",
    "\n",
    "using Profile\n",
    "using PProf\n",
    "using ProfileSVG\n",
    "\n",
    "import Base: show"
   ]
  },
  {
   "cell_type": "code",
   "execution_count": 59,
   "metadata": {},
   "outputs": [],
   "source": [
    "meanv = datavar(:mean, NormalMeanPrecision{Float64})\n",
    "precv = datavar(:precision, GammaAB{Float64})\n",
    "\n",
    "gmpnode = GaussianMeanPrecisionNode(factorisation = SA[ SA[1], SA[2], SA[3] ])\n",
    "\n",
    "connect!(gmpnode, :mean, meanv, 1)\n",
    "connect!(gmpnode, :precision, precv, 1)\n",
    "\n",
    "y = datavar(:y, Float64)\n",
    "\n",
    "connect!(gmpnode, :value, y, 1)\n",
    "\n",
    "activate!(gmpnode)\n",
    "\n",
    "setbelief!(meanv, NormalMeanPrecision(0.0, 0.00001))\n",
    "setbelief!(precv, GammaAB(0.0001, 0.0001))"
   ]
  },
  {
   "cell_type": "code",
   "execution_count": 60,
   "metadata": {},
   "outputs": [],
   "source": [
    "realprecision = 10.0\n",
    "realmean = -200.0\n",
    "\n",
    "data = rand(Normal(realmean, sqrt(1.0 / realprecision)), (1000, ));\n",
    "\n",
    "n = 100;\n",
    "iters = 4;"
   ]
  },
  {
   "cell_type": "code",
   "execution_count": 61,
   "metadata": {},
   "outputs": [
    {
     "name": "stdout",
     "output_type": "stream",
     "text": [
      "meanv -200.04122037405904\n",
      "precv 10.203264835320187\n"
     ]
    }
   ],
   "source": [
    "currentmeanv = nothing\n",
    "currentprecv = nothing\n",
    "\n",
    "subscribe!(getbelief(meanv), (d) -> global currentmeanv = getdata(d))\n",
    "subscribe!(getbelief(precv), (d) -> global currentprecv = getdata(d))\n",
    "\n",
    "averageE = combineLatest(\n",
    "    getbelief(meanv), getbelief(precv), getbelief(y), \n",
    "    strategy = PushNew()\n",
    ") |> map(Float64, (beliefs) -> averageEnergy(NormalMeanPrecision, beliefs)) \n",
    "\n",
    "differentialE = combineLatest(\n",
    "    getbelief(meanv), getbelief(precv), \n",
    "    strategy = PushNew()\n",
    ") |> map(Float64, (beliefs) -> reduce(+, map(differentialEntropy, beliefs)))\n",
    "\n",
    "fe = Matrix{Float64}(undef, n, iters)\n",
    "\n",
    "for i in 1:n\n",
    "    tmp1 = currentmeanv\n",
    "    tmp2 = currentprecv\n",
    "    \n",
    "    averageGamma = combineLatest(\n",
    "        of(as_belief(currentprecv.a)), of(as_belief(currentprecv.b)), getbelief(precv),\n",
    "        strategy = PushNew()\n",
    "    ) |> map(Float64, (d) -> averageEnergy(GammaAB, d))\n",
    "    \n",
    "    averageNormal = combineLatest(\n",
    "        of(as_belief(currentmeanv.mean)), of(as_belief(currentmeanv.precision)), getbelief(meanv),\n",
    "        strategy = PushNew()\n",
    "    ) |> map(Float64, (d) -> averageEnergy(NormalMeanPrecision, d))\n",
    "    \n",
    "    freeEnergy = combineLatest(\n",
    "        averageE, averageGamma, averageNormal, differentialE,\n",
    "        strategy = PushNew()\n",
    "    ) |> map(Float64, (d) -> d[1] + d[2] + d[3] - d[4])\n",
    "\n",
    "    for j in 1:iters\n",
    "        subscription = subscribe!(freeEnergy, (d) -> fe[i, j] = d)\n",
    "        update!(y, data[i])\n",
    "        update!(meanv, tmp1)\n",
    "        update!(precv, tmp2)\n",
    "        unsubscribe!(subscription)\n",
    "    end\n",
    "    # update!(meanv, currentmeanv)\n",
    "    # update!(precv, currentprecv)\n",
    "end\n",
    "\n",
    "println(\"meanv \", mean(currentmeanv))\n",
    "println(\"precv \", mean(currentprecv))"
   ]
  },
  {
   "cell_type": "code",
   "execution_count": 48,
   "metadata": {},
   "outputs": [
    {
     "data": {
      "text/plain": [
       "1×4 Array{Float64,2}:\n",
       " 79981.3  2.57  2.5697  2.56969"
      ]
     },
     "execution_count": 48,
     "metadata": {},
     "output_type": "execute_result"
    }
   ],
   "source": [
    "sum(fe, dims = 1)"
   ]
  },
  {
   "cell_type": "code",
   "execution_count": 49,
   "metadata": {},
   "outputs": [
    {
     "data": {
      "text/plain": [
       "100×4 Array{Float64,2}:\n",
       " 79994.1        15.3028     15.3028     15.3028\n",
       "     1.70722     1.70031     1.70002     1.70001\n",
       "     0.995344    0.992939    0.99293     0.99293\n",
       "     0.665403    0.664405    0.664404    0.664404\n",
       "     0.460498    0.459984    0.459983    0.459983\n",
       "     0.886127    0.8861      0.8861      0.8861\n",
       "     0.244327    0.244185    0.244185    0.244185\n",
       "     0.14837     0.148277    0.148277    0.148277\n",
       "     0.156757    0.156636    0.156636    0.156636\n",
       "     0.57577     0.575764    0.575764    0.575764\n",
       "     0.0394635   0.0394084   0.0394084   0.0394084\n",
       "     1.01996     1.01919     1.01919     1.01919\n",
       "     1.06296     1.06233     1.06233     1.06233\n",
       "     ⋮                                  \n",
       "    -0.367403   -0.367403   -0.367403   -0.367403\n",
       "    -0.501625   -0.501625   -0.501625   -0.501625\n",
       "    -0.630701   -0.630701   -0.630701   -0.630701\n",
       "    -0.630815   -0.630815   -0.630815   -0.630815\n",
       "    -0.0486129  -0.048613   -0.048613   -0.048613\n",
       "    -0.625964   -0.625964   -0.625964   -0.625964\n",
       "    -0.595114   -0.595114   -0.595114   -0.595114\n",
       "    -0.638879   -0.638879   -0.638879   -0.638879\n",
       "    -0.327142   -0.327142   -0.327142   -0.327142\n",
       "    -0.653798   -0.653798   -0.653798   -0.653798\n",
       "    -0.651464   -0.651464   -0.651464   -0.651464\n",
       "    -0.66775    -0.66775    -0.66775    -0.66775"
      ]
     },
     "execution_count": 49,
     "metadata": {},
     "output_type": "execute_result"
    }
   ],
   "source": [
    "fe"
   ]
  },
  {
   "cell_type": "code",
   "execution_count": 9,
   "metadata": {},
   "outputs": [
    {
     "data": {
      "text/plain": [
       "1.0"
      ]
     },
     "execution_count": 9,
     "metadata": {},
     "output_type": "execute_result"
    }
   ],
   "source": [
    "ReactiveMP.averageEnergy(GammaAB, (Belief(1.0), Belief(1.0), Belief(GammaAB(1.0, 1.0))))"
   ]
  },
  {
   "cell_type": "code",
   "execution_count": null,
   "metadata": {},
   "outputs": [],
   "source": []
  }
 ],
 "metadata": {
  "kernelspec": {
   "display_name": "Julia 1.4.1",
   "language": "julia",
   "name": "julia-1.4"
  },
  "language_info": {
   "file_extension": ".jl",
   "mimetype": "application/julia",
   "name": "julia",
   "version": "1.4.1"
  }
 },
 "nbformat": 4,
 "nbformat_minor": 4
}
