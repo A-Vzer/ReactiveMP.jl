{
 "cells": [
  {
   "cell_type": "code",
   "execution_count": 30,
   "metadata": {},
   "outputs": [],
   "source": [
    "using Distributions\n",
    "using ReactiveMP\n",
    "using Rx\n",
    "using BenchmarkTools\n",
    "\n",
    "import Base: show"
   ]
  },
  {
   "cell_type": "code",
   "execution_count": 31,
   "metadata": {},
   "outputs": [],
   "source": [
    "mutable struct InferenceActor <: Actor{AbstractMessage}\n",
    "    index       :: Int\n",
    "    size        :: Int\n",
    "    data        :: Vector{Float64}\n",
    "    means       :: Vector{Float64}\n",
    "    complete    :: Channel{Bool}\n",
    "    communicate :: Channel{Tuple{Float64, Float64}}\n",
    "    \n",
    "    y          :: ObservedVariable\n",
    "    e_mean     :: EstimatedVariable\n",
    "    e_variance :: EstimatedVariable\n",
    "    \n",
    "    InferenceActor(data::Vector{Float64}, y::ObservedVariable, e_mean::EstimatedVariable, e_variance::EstimatedVariable) = begin\n",
    "        size  = length(data)\n",
    "        means = Vector{Float64}(undef, size)\n",
    "        \n",
    "        actor = new(1, size, data, means, Channel{Bool}(Inf), Channel{Tuple{Float64, Float64}}(Inf), y, e_mean, e_variance)\n",
    "        \n",
    "        task = @async begin\n",
    "            while true\n",
    "                u = take!(actor.communicate)\n",
    "                update!(actor, u[1], u[2])\n",
    "            end\n",
    "        end\n",
    "        \n",
    "        bind(actor.communicate, task)\n",
    "        \n",
    "        return actor\n",
    "    end\n",
    "end\n",
    "\n",
    "function update!(actor::InferenceActor, mean::Float64, variance::Float64)\n",
    "    next!(actor.y.values, actor.data[actor.index])\n",
    "    next!(actor.e_mean.values, mean)\n",
    "    next!(actor.e_variance.values, variance)\n",
    "end\n",
    "\n",
    "function stop!(actor::InferenceActor)\n",
    "    complete!(actor.y.values)\n",
    "    complete!(actor.e_mean.values)\n",
    "    complete!(actor.e_variance.values)\n",
    "end\n",
    "\n",
    "function Rx.on_next!(actor::InferenceActor, data::AbstractMessage)\n",
    "    m = mean(data.distribution)\n",
    "    v = var(data.distribution)\n",
    "    \n",
    "    actor.means[actor.index] = m\n",
    "    \n",
    "    actor.index += 1\n",
    "    \n",
    "    if actor.index < actor.size + 1\n",
    "        put!(actor.communicate, (m, v))\n",
    "    else\n",
    "        stop!(actor)\n",
    "    end\n",
    "end\n",
    "\n",
    "Rx.on_error!(actor::InferenceActor, err) = error(err)\n",
    "\n",
    "Rx.on_complete!(actor::InferenceActor)   = begin \n",
    "    put!(actor.complete, true)\n",
    "    close(actor.complete)\n",
    "    close(actor.communicate)\n",
    "end\n",
    "\n",
    "Base.show(io::IO, actor::InferenceActor) = print(io, \"InferenceActor\")"
   ]
  },
  {
   "cell_type": "code",
   "execution_count": 39,
   "metadata": {},
   "outputs": [
    {
     "data": {
      "text/plain": [
       "10000-element Array{Float64,1}:\n",
       "    1.385932431197308 \n",
       "    2.064519588051916 \n",
       "    2.872479762147068 \n",
       "    3.9126619784963816\n",
       "    4.911628850423554 \n",
       "    5.911624122610374 \n",
       "    6.91162412260434  \n",
       "    7.91162412260434  \n",
       "    8.91162412260434  \n",
       "    9.91162412260434  \n",
       "   10.91162412260434  \n",
       "   11.91162412260434  \n",
       "   12.91162412260434  \n",
       "    ⋮                 \n",
       " 9988.911624122604    \n",
       " 9989.911624122604    \n",
       " 9990.911624122604    \n",
       " 9991.911624122604    \n",
       " 9992.911624122604    \n",
       " 9993.911624122604    \n",
       " 9994.911624122604    \n",
       " 9995.911624122604    \n",
       " 9996.911624122604    \n",
       " 9997.911624122604    \n",
       " 9998.911624122604    \n",
       " 9999.911624122604    "
      ]
     },
     "execution_count": 39,
     "metadata": {},
     "output_type": "execute_result"
    }
   ],
   "source": [
    "@btime begin\n",
    "    N = 10000\n",
    "    data = collect(1:N) + rand(Normal(0.0, 1.0), N);\n",
    "    \n",
    "    x_prev_add   = addition_node(\"x_prev_add\", StochasticMessage{Normal{Float64}}, DeterministicMessage, StochasticMessage{Normal{Float64}});\n",
    "    add_1        = constant_variable(\"add_1\", 1.0, x_prev_add.in2);\n",
    "\n",
    "    x_prev_prior = gaussian_mean_variance(\"x_prev_prior\");\n",
    "    x_prev_m     = estimated_variable(\"x_prev_m\", x_prev_prior.mean);\n",
    "    x_prev_v     = estimated_variable(\"x_prev_v\", x_prev_prior.variance);\n",
    "\n",
    "    x_prev = random_variable(\"x_prev\", x_prev_prior.value, x_prev_add.in1);\n",
    "\n",
    "    noise_node     = gaussian_mean_variance(\"noise_node\");\n",
    "    noise_mean     = constant_variable(\"noise_mean\", 0.0, noise_node.mean);\n",
    "    noise_variance = constant_variable(\"noise_variance\", 1.0, noise_node.variance);\n",
    "\n",
    "    add_x_and_noise = addition_node(\"add_x_and_noise\", StochasticMessage{Normal{Float64}}, StochasticMessage{Normal{Float64}}, DeterministicMessage);\n",
    "\n",
    "    x = random_variable(\"x\", x_prev_add.out, add_x_and_noise.in1);\n",
    "    n = random_variable(\"n\", noise_node.value, add_x_and_noise.in2);\n",
    "    y = observed_variable(\"y\", add_x_and_noise.out);\n",
    "    \n",
    "    actor = InferenceActor(data, y, x_prev_m, x_prev_v);\n",
    "    \n",
    "    @async begin\n",
    "        subscribe!(inference(x), actor)   \n",
    "        update!(actor, 0.0, 1000.0) \n",
    "    end\n",
    "    \n",
    "    yield()\n",
    "    \n",
    "    take!(actor.complete)\n",
    "    \n",
    "    return actor.means\n",
    "end"
   ]
  },
  {
   "cell_type": "code",
   "execution_count": 24,
   "metadata": {},
   "outputs": [],
   "source": [
    "@CreateMapOperator(Identity, Int, Int, (d) -> d ^ 2)"
   ]
  },
  {
   "cell_type": "code",
   "execution_count": 25,
   "metadata": {},
   "outputs": [
    {
     "data": {
      "text/plain": [
       "SingleObservable{Int64}(4)"
      ]
     },
     "execution_count": 25,
     "metadata": {},
     "output_type": "execute_result"
    }
   ],
   "source": [
    "of(2) |> IdentityMapOperator()"
   ]
  },
  {
   "cell_type": "code",
   "execution_count": 19,
   "metadata": {},
   "outputs": [
    {
     "data": {
      "text/plain": [
       "LazyObservable{Int64}(\"l2\", #undef)"
      ]
     },
     "execution_count": 19,
     "metadata": {},
     "output_type": "execute_result"
    }
   ],
   "source": [
    "l1 = LazyObservable{Int}(\"l1\")\n",
    "l2 = LazyObservable{Int}(\"l2\")"
   ]
  },
  {
   "cell_type": "code",
   "execution_count": 20,
   "metadata": {},
   "outputs": [
    {
     "data": {
      "text/plain": [
       "ReactiveMP.LazyCombined{Int64,Int64}(LazyObservable{Int64}(\"l1\", #undef), LazyObservable{Int64}(\"l2\", #undef))"
      ]
     },
     "execution_count": 20,
     "metadata": {},
     "output_type": "execute_result"
    }
   ],
   "source": [
    "lc = combineLatest(l1, l2)"
   ]
  },
  {
   "cell_type": "code",
   "execution_count": 28,
   "metadata": {},
   "outputs": [
    {
     "data": {
      "text/plain": [
       "SingleObservable{Int64}(2)"
      ]
     },
     "execution_count": 28,
     "metadata": {},
     "output_type": "execute_result"
    }
   ],
   "source": [
    "l1.observable = of(2) |> IdentityMapOperator()\n",
    "l2.observable = of(2)"
   ]
  },
  {
   "cell_type": "code",
   "execution_count": 29,
   "metadata": {},
   "outputs": [
    {
     "name": "stdout",
     "output_type": "stream",
     "text": [
      "[LogActor] Data: (4, 2)\n",
      "[LogActor] Completed\n"
     ]
    },
    {
     "data": {
      "text/plain": [
       "VoidTeardown()"
      ]
     },
     "execution_count": 29,
     "metadata": {},
     "output_type": "execute_result"
    }
   ],
   "source": [
    "subscribe!(lc, LoggerActor{Tuple{Int, Int}}())"
   ]
  },
  {
   "cell_type": "code",
   "execution_count": null,
   "metadata": {},
   "outputs": [],
   "source": []
  }
 ],
 "metadata": {
  "kernelspec": {
   "display_name": "Julia 1.3.0",
   "language": "julia",
   "name": "julia-1.3"
  },
  "language_info": {
   "file_extension": ".jl",
   "mimetype": "application/julia",
   "name": "julia",
   "version": "1.3.0"
  }
 },
 "nbformat": 4,
 "nbformat_minor": 2
}
