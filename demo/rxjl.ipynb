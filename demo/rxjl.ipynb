{
 "cells": [
  {
   "cell_type": "code",
   "execution_count": 2,
   "metadata": {},
   "outputs": [
    {
     "name": "stderr",
     "output_type": "stream",
     "text": [
      "┌ Info: Precompiling ReactiveMP [a194aa59-28ba-4574-a09c-4a745416d6e3]\n",
      "└ @ Base loading.jl:1273\n",
      "┌ Warning: Package ReactiveMP does not have Rx in its dependencies:\n",
      "│ - If you have ReactiveMP checked out for development and have\n",
      "│   added Rx as a dependency but haven't updated your primary\n",
      "│   environment's manifest file, try `Pkg.resolve()`.\n",
      "│ - Otherwise you may need to report an issue with ReactiveMP\n",
      "└ Loading Rx into ReactiveMP from project dependency, future warnings for ReactiveMP are suppressed.\n"
     ]
    }
   ],
   "source": [
    "using Distributions\n",
    "using ReactiveMP\n",
    "using Rx\n",
    "\n",
    "import Base: show"
   ]
  },
  {
   "cell_type": "code",
   "execution_count": 36,
   "metadata": {},
   "outputs": [],
   "source": [
    "mutable struct InferenceActor <: Actor{AbstractMessage}\n",
    "    index :: Int\n",
    "    size  :: Int\n",
    "    data  :: Vector{Float64}\n",
    "    means :: Vector{Float64}\n",
    "    \n",
    "    y          :: ObservedVariable\n",
    "    e_mean     :: EstimatedVariable\n",
    "    e_variance :: EstimatedVariable\n",
    "    \n",
    "    InferenceActor(data::Vector{Float64}, y::ObservedVariable, e_mean::EstimatedVariable, e_variance::EstimatedVariable) = begin\n",
    "        size  = length(data)\n",
    "        means = Vector{Float64}(undef, size)\n",
    "        return new(1, size, data, means, y, e_mean, e_variance)\n",
    "    end\n",
    "end\n",
    "\n",
    "function update!(actor::InferenceActor, mean::Float64, variance::Float64)\n",
    "    next!(actor.y.values, actor.data[actor.index])\n",
    "    next!(actor.e_mean.values, mean)\n",
    "    next!(actor.e_variance.values, variance)\n",
    "end\n",
    "\n",
    "function stop!(actor::InferenceActor)\n",
    "    complete!(actor.y.values)\n",
    "    complete!(actor.e_mean.values)\n",
    "    complete!(actor.e_variance.values)\n",
    "end\n",
    "\n",
    "function Rx.on_next!(actor::InferenceActor, data::AbstractMessage)\n",
    "    m = mean(data.distribution)\n",
    "    v = var(data.distribution)\n",
    "    \n",
    "    actor.means[actor.index] = m\n",
    "    \n",
    "    actor.index += 1\n",
    "    \n",
    "    @async begin\n",
    "        if actor.index < actor.size \n",
    "            update!(actor, m, v)\n",
    "        else\n",
    "            stop!(actor)\n",
    "        end\n",
    "    end\n",
    "end\n",
    "\n",
    "Rx.on_error!(actor::InferenceActor, err) = error(err)\n",
    "Rx.on_complete!(actor::InferenceActor) = println(\"Completed: $(time())\")\n",
    "\n",
    "Base.show(io::IO, actor::InferenceActor) = print(io, \"InferenceActor\")"
   ]
  },
  {
   "cell_type": "code",
   "execution_count": 37,
   "metadata": {},
   "outputs": [],
   "source": [
    "xPrevAddConstantNode = AdditionNode(\"xPrevAddConstantNode\");\n",
    "addConstant = ConstantVariable(\"addConstant\", 1.0, xPrevAddConstantNode.in2);\n",
    "\n",
    "estimatingXNode    = GaussianMeanVarianceFactorNode(\"estimatingXWithGaussianNode\");\n",
    "estimatedXMean     = EstimatedVariable(\"estimatedXMean\", estimatingXNode.mean);\n",
    "estimatedXVariance = EstimatedVariable(\"estimatedXVariance\", estimatingXNode.variance);\n",
    "\n",
    "xPrev = RandomVariable(\"xPrev\", estimatingXNode.value, xPrevAddConstantNode.in1);\n",
    "\n",
    "noiseNode     = GaussianMeanVarianceFactorNode(\"noiseNode\");\n",
    "noiseMean     = ConstantVariable(\"noiseMean\", 0.0, noiseNode.mean);\n",
    "noiseVariance = ConstantVariable(\"noiseVariance\", 1.0, noiseNode.variance);\n",
    "\n",
    "addXAndNoiseNode = AdditionNode(\"addXAndNoiseNode\");\n",
    "\n",
    "x = RandomVariable(\"x\", xPrevAddConstantNode.out, addXAndNoiseNode.in1);\n",
    "n = RandomVariable(\"n\", noiseNode.value, addXAndNoiseNode.in2);\n",
    "y = ObservedVariable(\"y\", addXAndNoiseNode.out);"
   ]
  },
  {
   "cell_type": "code",
   "execution_count": 38,
   "metadata": {},
   "outputs": [],
   "source": [
    "n = 10000\n",
    "data = [ i for i::Float64 in 1:n ] + rand(Normal(0.0, 1.0), n);"
   ]
  },
  {
   "cell_type": "code",
   "execution_count": 39,
   "metadata": {},
   "outputs": [],
   "source": [
    "actor = InferenceActor(data, y, estimatedXMean, estimatedXVariance);"
   ]
  },
  {
   "cell_type": "code",
   "execution_count": 40,
   "metadata": {},
   "outputs": [
    {
     "data": {
      "text/plain": [
       "try_reactive (generic function with 1 method)"
      ]
     },
     "execution_count": 40,
     "metadata": {},
     "output_type": "execute_result"
    }
   ],
   "source": [
    "function try_reactive(actor::InferenceActor, x)\n",
    "    println(time())\n",
    "    subscribe!(inference(x), actor)\n",
    "    update!(actor, 0.0, 1000.0)\n",
    "    return actor\n",
    "end"
   ]
  },
  {
   "cell_type": "code",
   "execution_count": 41,
   "metadata": {},
   "outputs": [
    {
     "name": "stdout",
     "output_type": "stream",
     "text": [
      "1.577126554300865e9\n",
      "  0.107737 seconds (260.71 k allocations: 12.975 MiB)\n",
      "Completed: 1.577126555687583e9\n"
     ]
    }
   ],
   "source": [
    "@time try_reactive(actor, x);"
   ]
  },
  {
   "cell_type": "code",
   "execution_count": 42,
   "metadata": {},
   "outputs": [
    {
     "data": {
      "text/plain": [
       "1.3867180347442627"
      ]
     },
     "execution_count": 42,
     "metadata": {},
     "output_type": "execute_result"
    }
   ],
   "source": [
    "1.577126555687583e9 - 1.577126554300865e9"
   ]
  },
  {
   "cell_type": "code",
   "execution_count": 187,
   "metadata": {},
   "outputs": [
    {
     "data": {
      "text/plain": [
       "1.5441899299621582"
      ]
     },
     "execution_count": 187,
     "metadata": {},
     "output_type": "execute_result"
    }
   ],
   "source": [
    "1.577124479150774e9 - 1.577124477606584e9 "
   ]
  },
  {
   "cell_type": "code",
   "execution_count": null,
   "metadata": {},
   "outputs": [],
   "source": []
  }
 ],
 "metadata": {
  "kernelspec": {
   "display_name": "Julia 1.3.0",
   "language": "julia",
   "name": "julia-1.3"
  },
  "language_info": {
   "file_extension": ".jl",
   "mimetype": "application/julia",
   "name": "julia",
   "version": "1.3.0"
  }
 },
 "nbformat": 4,
 "nbformat_minor": 2
}
