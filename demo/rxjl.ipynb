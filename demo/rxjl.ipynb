{
 "cells": [
  {
   "cell_type": "code",
   "execution_count": 7,
   "metadata": {},
   "outputs": [],
   "source": [
    "using Distributions\n",
    "using ReactiveMP\n",
    "using Rx\n",
    "using BenchmarkTools\n",
    "\n",
    "import Base: show"
   ]
  },
  {
   "cell_type": "code",
   "execution_count": 8,
   "metadata": {
    "hide_input": false
   },
   "outputs": [],
   "source": [
    "mutable struct InferenceActor <: Actor{AbstractMessage}\n",
    "    index       :: Int\n",
    "    size        :: Int\n",
    "    data        :: Vector{Float64}\n",
    "    messages    :: Vector{AbstractMessage}\n",
    "    communicate :: Channel{Tuple{Float64, Float64}}\n",
    "    \n",
    "    y          :: ObservedVariable\n",
    "    e_mean     :: EstimatedVariable\n",
    "    e_variance :: EstimatedVariable\n",
    "    \n",
    "    InferenceActor(data::Vector{Float64}, y::ObservedVariable, e_mean::EstimatedVariable, e_variance::EstimatedVariable) = begin\n",
    "        size  = length(data)\n",
    "        messages = Vector{AbstractMessage}(undef, size)\n",
    "        \n",
    "        actor = new(1, size, data, messages, Channel{Tuple{Float64, Float64}}(Inf), y, e_mean, e_variance)\n",
    "        \n",
    "        task = @async begin\n",
    "            while true\n",
    "                u = take!(actor.communicate)\n",
    "                update!(actor, u[1], u[2])\n",
    "            end\n",
    "        end\n",
    "        \n",
    "        bind(actor.communicate, task)\n",
    "        \n",
    "        return actor\n",
    "    end\n",
    "end\n",
    "\n",
    "function update!(actor::InferenceActor, mean::Float64, variance::Float64)\n",
    "    next!(actor.y.values, actor.data[actor.index])\n",
    "    next!(actor.e_mean.values, mean)\n",
    "    next!(actor.e_variance.values, variance)\n",
    "end\n",
    "\n",
    "function stop!(actor::InferenceActor)\n",
    "    complete!(actor.y.values)\n",
    "    complete!(actor.e_mean.values)\n",
    "    complete!(actor.e_variance.values)\n",
    "end\n",
    "\n",
    "function Rx.on_next!(actor::InferenceActor, data::AbstractMessage)\n",
    "    m = mean(data.distribution)\n",
    "    v = var(data.distribution)\n",
    "    \n",
    "    actor.messages[actor.index] = data\n",
    "    \n",
    "    actor.index += 1\n",
    "    \n",
    "    if actor.index < actor.size + 1\n",
    "        put!(actor.communicate, (m, v))\n",
    "    else\n",
    "        stop!(actor)\n",
    "    end\n",
    "end\n",
    "\n",
    "Rx.on_error!(actor::InferenceActor, err) = error(err)\n",
    "\n",
    "Rx.on_complete!(actor::InferenceActor)   = begin \n",
    "    close(actor.communicate)\n",
    "end\n",
    "\n",
    "Base.show(io::IO, actor::InferenceActor) = print(io, \"InferenceActor\")"
   ]
  },
  {
   "cell_type": "code",
   "execution_count": 9,
   "metadata": {},
   "outputs": [
    {
     "data": {
      "text/plain": [
       "kalman (generic function with 1 method)"
      ]
     },
     "execution_count": 9,
     "metadata": {},
     "output_type": "execute_result"
    }
   ],
   "source": [
    "function kalman(N, data)\n",
    "    x_prev_add   = addition_node(\"x_prev_add\", StochasticMessage{Normal{Float64}}, DeterministicMessage, StochasticMessage{Normal{Float64}});\n",
    "    add_1        = constant_variable(\"add_1\", 1.0, x_prev_add.in2);\n",
    "\n",
    "    x_prev_prior = gaussian_mean_variance(\"x_prev_prior\");\n",
    "    x_prev_m     = estimated_variable(\"x_prev_m\", x_prev_prior.mean);\n",
    "    x_prev_v     = estimated_variable(\"x_prev_v\", x_prev_prior.variance);\n",
    "\n",
    "    x_prev = random_variable(\"x_prev\", x_prev_prior.value, x_prev_add.in1);\n",
    "\n",
    "    noise_node     = gaussian_mean_variance(\"noise_node\");\n",
    "    noise_mean     = constant_variable(\"noise_mean\", 0.0, noise_node.mean);\n",
    "    noise_variance = constant_variable(\"noise_variance\", 200.0, noise_node.variance);\n",
    "\n",
    "    add_x_and_noise = addition_node(\"add_x_and_noise\", StochasticMessage{Normal{Float64}}, StochasticMessage{Normal{Float64}}, DeterministicMessage);\n",
    "\n",
    "    x = random_variable(\"x\", x_prev_add.out, add_x_and_noise.in1);\n",
    "    n = random_variable(\"n\", noise_node.value, add_x_and_noise.in2);\n",
    "    y = observed_variable(\"y\", add_x_and_noise.out);\n",
    "    \n",
    "    actor  = InferenceActor(data, y, x_prev_m, x_prev_v);\n",
    "    synced = sync(actor)\n",
    "    \n",
    "    @async begin\n",
    "        subscribe!(inference(x), synced)   \n",
    "        update!(actor, 0.0, 1000.0) \n",
    "    end\n",
    "    \n",
    "    wait(synced)\n",
    "    \n",
    "    return actor.messages\n",
    "end"
   ]
  },
  {
   "cell_type": "code",
   "execution_count": 10,
   "metadata": {},
   "outputs": [],
   "source": [
    "N = 5000\n",
    "data = collect(1:N) + sqrt(200.0) * randn(N);"
   ]
  },
  {
   "cell_type": "code",
   "execution_count": 11,
   "metadata": {},
   "outputs": [
    {
     "name": "stdout",
     "output_type": "stream",
     "text": [
      "  11.438 ms (250348 allocations: 8.83 MiB)\n"
     ]
    }
   ],
   "source": [
    "@btime kalman($N, $data);"
   ]
  },
  {
   "cell_type": "code",
   "execution_count": 12,
   "metadata": {},
   "outputs": [
    {
     "data": {
      "text/plain": [
       "100-element Array{AbstractMessage,1}:\n",
       " StochasticMessage{Normal{Float64}}(Normal{Float64}(μ=-14.54379923153286, σ=12.909944487358057))\n",
       " StochasticMessage{Normal{Float64}}(Normal{Float64}(μ=-9.29585817645424, σ=9.534625892455924))  \n",
       " StochasticMessage{Normal{Float64}}(Normal{Float64}(μ=-4.385580231916261, σ=7.905694150420949)) \n",
       " StochasticMessage{Normal{Float64}}(Normal{Float64}(μ=0.5780523266070468, σ=6.900655593423543)) \n",
       " StochasticMessage{Normal{Float64}}(Normal{Float64}(μ=5.197944568681382, σ=6.201736729460423))  \n",
       " StochasticMessage{Normal{Float64}}(Normal{Float64}(μ=3.0246440368555483, σ=5.679618342470648)) \n",
       " StochasticMessage{Normal{Float64}}(Normal{Float64}(μ=10.35345256173157, σ=5.2704627669473))    \n",
       " StochasticMessage{Normal{Float64}}(Normal{Float64}(μ=12.715184274941802, σ=4.938647983247948)) \n",
       " StochasticMessage{Normal{Float64}}(Normal{Float64}(μ=11.97201296142503, σ=4.66252404120157))   \n",
       " StochasticMessage{Normal{Float64}}(Normal{Float64}(μ=11.99376437255369, σ=4.428074427700477))  \n",
       " StochasticMessage{Normal{Float64}}(Normal{Float64}(μ=15.337490285994976, σ=4.225771273642584)) \n",
       " StochasticMessage{Normal{Float64}}(Normal{Float64}(μ=15.478614043175192, σ=4.0488816508945815))\n",
       " StochasticMessage{Normal{Float64}}(Normal{Float64}(μ=15.99615519636651, σ=3.8924947208076164)) \n",
       " ⋮                                                                                              \n",
       " StochasticMessage{Normal{Float64}}(Normal{Float64}(μ=91.30328355605376, σ=1.4973818705886994)) \n",
       " StochasticMessage{Normal{Float64}}(Normal{Float64}(μ=92.39957391725875, σ=1.4890583938253494)) \n",
       " StochasticMessage{Normal{Float64}}(Normal{Float64}(μ=93.59998347652308, σ=1.4808721943977308)) \n",
       " StochasticMessage{Normal{Float64}}(Normal{Float64}(μ=94.3141510763312, σ=1.472819539849714))   \n",
       " StochasticMessage{Normal{Float64}}(Normal{Float64}(μ=95.2098825613276, σ=1.4648968382726189))  \n",
       " StochasticMessage{Normal{Float64}}(Normal{Float64}(μ=96.40861589577875, σ=1.4571006315731199)) \n",
       " StochasticMessage{Normal{Float64}}(Normal{Float64}(μ=97.38413593487732, σ=1.4494275891311208)) \n",
       " StochasticMessage{Normal{Float64}}(Normal{Float64}(μ=98.53631812916205, σ=1.4418745018211807)) \n",
       " StochasticMessage{Normal{Float64}}(Normal{Float64}(μ=99.47534255352225, σ=1.4344382763731172)) \n",
       " StochasticMessage{Normal{Float64}}(Normal{Float64}(μ=100.42007188938132, σ=1.4271159300492748))\n",
       " StochasticMessage{Normal{Float64}}(Normal{Float64}(μ=101.29484077469226, σ=1.419904585617662)) \n",
       " StochasticMessage{Normal{Float64}}(Normal{Float64}(μ=102.23149197061443, σ=1.4128014666017077))"
      ]
     },
     "execution_count": 12,
     "metadata": {},
     "output_type": "execute_result"
    }
   ],
   "source": [
    "kalman(N, data)[1:100]"
   ]
  },
  {
   "cell_type": "code",
   "execution_count": null,
   "metadata": {},
   "outputs": [],
   "source": []
  }
 ],
 "metadata": {
  "kernelspec": {
   "display_name": "Julia 1.3.0",
   "language": "julia",
   "name": "julia-1.3"
  },
  "language_info": {
   "file_extension": ".jl",
   "mimetype": "application/julia",
   "name": "julia",
   "version": "1.3.0"
  }
 },
 "nbformat": 4,
 "nbformat_minor": 2
}
