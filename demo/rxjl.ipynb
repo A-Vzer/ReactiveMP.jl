{
 "cells": [
  {
   "cell_type": "code",
   "execution_count": 67,
   "metadata": {},
   "outputs": [],
   "source": [
    "using Distributions\n",
    "using ReactiveMP\n",
    "using Rx\n",
    "using BenchmarkTools\n",
    "\n",
    "import Base: show"
   ]
  },
  {
   "cell_type": "code",
   "execution_count": 60,
   "metadata": {},
   "outputs": [],
   "source": [
    "mutable struct InferenceActor <: Actor{AbstractMessage}\n",
    "    index    :: Int\n",
    "    size     :: Int\n",
    "    data     :: Vector{Float64}\n",
    "    means    :: Vector{Float64}\n",
    "    complete :: Channel{Bool}\n",
    "    \n",
    "    y          :: ObservedVariable\n",
    "    e_mean     :: EstimatedVariable\n",
    "    e_variance :: EstimatedVariable\n",
    "    \n",
    "    InferenceActor(data::Vector{Float64}, y::ObservedVariable, e_mean::EstimatedVariable, e_variance::EstimatedVariable) = begin\n",
    "        size  = length(data)\n",
    "        means = Vector{Float64}(undef, size)\n",
    "        return new(1, size, data, means, Channel{Bool}(0), y, e_mean, e_variance)\n",
    "    end\n",
    "end\n",
    "\n",
    "function update!(actor::InferenceActor, mean::Float64, variance::Float64)\n",
    "    next!(actor.y.values, actor.data[actor.index])\n",
    "    next!(actor.e_mean.values, mean)\n",
    "    next!(actor.e_variance.values, variance)\n",
    "end\n",
    "\n",
    "function stop!(actor::InferenceActor)\n",
    "    complete!(actor.y.values)\n",
    "    complete!(actor.e_mean.values)\n",
    "    complete!(actor.e_variance.values)\n",
    "end\n",
    "\n",
    "function Rx.on_next!(actor::InferenceActor, data::AbstractMessage)\n",
    "    m = mean(data.distribution)\n",
    "    v = var(data.distribution)\n",
    "    \n",
    "    actor.means[actor.index] = m\n",
    "    \n",
    "    actor.index += 1\n",
    "    \n",
    "    @async begin\n",
    "            if actor.index < actor.size + 1\n",
    "                update!(actor, m, v)\n",
    "            else\n",
    "                stop!(actor)\n",
    "            end\n",
    "    end\n",
    "end\n",
    "\n",
    "Rx.on_error!(actor::InferenceActor, err) = error(err)\n",
    "Rx.on_complete!(actor::InferenceActor)   = put!(actor.complete, true)\n",
    "\n",
    "Base.show(io::IO, actor::InferenceActor) = print(io, \"InferenceActor\")"
   ]
  },
  {
   "cell_type": "code",
   "execution_count": 69,
   "metadata": {},
   "outputs": [
    {
     "name": "stdout",
     "output_type": "stream",
     "text": [
      "  2.447 s (1100488 allocations: 46.41 MiB)\n"
     ]
    }
   ],
   "source": [
    "@btime begin\n",
    "    N = 20000\n",
    "    data = collect(1:N) + rand(Normal(0.0, 1.0), N);\n",
    "    \n",
    "    x_prev_add   = addition_node(\"x_prev_add\", StochasticMessage{Normal{Float64}}, DeterministicMessage, StochasticMessage{Normal{Float64}});\n",
    "    add_1        = constant_variable(\"add_1\", 1.0, x_prev_add.in2);\n",
    "\n",
    "    x_prev_prior = gaussian_mean_variance(\"x_prev_prior\");\n",
    "    x_prev_m     = estimated_variable(\"x_prev_m\", x_prev_prior.mean);\n",
    "    x_prev_v     = estimated_variable(\"x_prev_v\", x_prev_prior.variance);\n",
    "\n",
    "    x_prev = random_variable(\"x_prev\", x_prev_prior.value, x_prev_add.in1);\n",
    "\n",
    "    noise_node     = gaussian_mean_variance(\"noise_node\");\n",
    "    noise_mean     = constant_variable(\"noise_mean\", 0.0, noise_node.mean);\n",
    "    noise_variance = constant_variable(\"noise_variance\", 1.0, noise_node.variance);\n",
    "\n",
    "    add_x_and_noise = addition_node(\"add_x_and_noise\", StochasticMessage{Normal{Float64}}, StochasticMessage{Normal{Float64}}, DeterministicMessage);\n",
    "\n",
    "    x = random_variable(\"x\", x_prev_add.out, add_x_and_noise.in1);\n",
    "    n = random_variable(\"n\", noise_node.value, add_x_and_noise.in2);\n",
    "    y = observed_variable(\"y\", add_x_and_noise.out);\n",
    "    \n",
    "    actor = InferenceActor(data, y, x_prev_m, x_prev_v);\n",
    "    \n",
    "    @async begin\n",
    "        subscribe!(inference(x), actor)   \n",
    "        update!(actor, 0.0, 1000.0) \n",
    "    end\n",
    "    \n",
    "    yield()\n",
    "    \n",
    "    take!(actor.complete)\n",
    "    \n",
    "    return actor.means\n",
    "end;"
   ]
  },
  {
   "cell_type": "code",
   "execution_count": 66,
   "metadata": {},
   "outputs": [
    {
     "name": "stdout",
     "output_type": "stream",
     "text": [
      "  1.300438 seconds (550.47 k allocations: 23.217 MiB)\n"
     ]
    },
    {
     "data": {
      "text/plain": [
       "InferenceActor"
      ]
     },
     "execution_count": 66,
     "metadata": {},
     "output_type": "execute_result"
    }
   ],
   "source": [
    "@time actor = try_reactive_1()"
   ]
  },
  {
   "cell_type": "code",
   "execution_count": null,
   "metadata": {},
   "outputs": [],
   "source": []
  }
 ],
 "metadata": {
  "kernelspec": {
   "display_name": "Julia 1.3.0",
   "language": "julia",
   "name": "julia-1.3"
  },
  "language_info": {
   "file_extension": ".jl",
   "mimetype": "application/julia",
   "name": "julia",
   "version": "1.3.0"
  }
 },
 "nbformat": 4,
 "nbformat_minor": 2
}
