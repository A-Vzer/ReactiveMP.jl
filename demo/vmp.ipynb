{
 "cells": [
  {
   "cell_type": "code",
   "execution_count": 1,
   "metadata": {},
   "outputs": [
    {
     "name": "stderr",
     "output_type": "stream",
     "text": [
      "┌ Info: Precompiling ReactiveMP [a194aa59-28ba-4574-a09c-4a745416d6e3]\n",
      "└ @ Base loading.jl:1260\n",
      "┌ Warning: Package ReactiveMP does not have Rocket in its dependencies:\n",
      "│ - If you have ReactiveMP checked out for development and have\n",
      "│   added Rocket as a dependency but haven't updated your primary\n",
      "│   environment's manifest file, try `Pkg.resolve()`.\n",
      "│ - Otherwise you may need to report an issue with ReactiveMP\n",
      "└ Loading Rocket into ReactiveMP from project dependency, future warnings for ReactiveMP are suppressed.\n"
     ]
    }
   ],
   "source": [
    "using Distributions\n",
    "using Rocket\n",
    "using ReactiveMP\n",
    "using BenchmarkTools\n",
    "using StaticArrays\n",
    "\n",
    "using Profile\n",
    "using PProf\n",
    "using ProfileSVG\n",
    "\n",
    "import Base: show"
   ]
  },
  {
   "cell_type": "code",
   "execution_count": 15,
   "metadata": {},
   "outputs": [],
   "source": [
    "meanv = datavar(:mean, NormalMeanPrecision{Float64})\n",
    "precv = datavar(:precision, GammaAB{Float64})\n",
    "\n",
    "gmpnode = GaussianMeanPrecisionNode(factorisation = SA[ SA[1], SA[2], SA[3] ])\n",
    "\n",
    "connect!(gmpnode, :mean, meanv, 1)\n",
    "connect!(gmpnode, :precision, precv, 1)\n",
    "\n",
    "y = datavar(:y, Float64)\n",
    "\n",
    "connect!(gmpnode, :value, y, 1)\n",
    "\n",
    "activate!(gmpnode)\n",
    "\n",
    "qmeanupdate = link(meanv, getbelief(meanv))\n",
    "qprecupdate = link(precv, getbelief(precv))\n",
    "\n",
    "setbelief!(meanv, NormalMeanPrecision(0.0, 0.001))\n",
    "setbelief!(precv, GammaAB(0.001, 0.001))\n",
    "\n",
    "# update!(meanv, NormalMeanPrecision(0.0, 0.001))\n",
    "# update!(precv, GammaAB(0.001, 0.001))"
   ]
  },
  {
   "cell_type": "code",
   "execution_count": 16,
   "metadata": {},
   "outputs": [],
   "source": [
    "realprecision = 0.01\n",
    "realmean = 20\n",
    "\n",
    "data = rand(Normal(realmean, sqrt(1.0 / realprecision)), (1000, ));"
   ]
  },
  {
   "cell_type": "code",
   "execution_count": 17,
   "metadata": {
    "scrolled": false
   },
   "outputs": [
    {
     "name": "stdout",
     "output_type": "stream",
     "text": [
      "[meanv] Data: 22.455096661591238\n",
      "[precv] Data: 0.006054180518264514\n"
     ]
    },
    {
     "data": {
      "text/plain": [
       "SwitchMapSubscription()"
      ]
     },
     "execution_count": 17,
     "metadata": {},
     "output_type": "execute_result"
    }
   ],
   "source": [
    "for i in 1:1000\n",
    "    for i in 1:5\n",
    "        update!(y, data[i])\n",
    "    end\n",
    "end\n",
    "\n",
    "subscribe!(getbelief(meanv) |> map(Any, mean) |> take(1) |> skip_complete(), logger(\"meanv\"))\n",
    "subscribe!(getbelief(precv) |> map(Any, mean) |> take(1) |> skip_complete(), logger(\"precv\"))"
   ]
  },
  {
   "cell_type": "code",
   "execution_count": null,
   "metadata": {},
   "outputs": [],
   "source": []
  }
 ],
 "metadata": {
  "kernelspec": {
   "display_name": "Julia 1.4.1",
   "language": "julia",
   "name": "julia-1.4"
  },
  "language_info": {
   "file_extension": ".jl",
   "mimetype": "application/julia",
   "name": "julia",
   "version": "1.4.1"
  }
 },
 "nbformat": 4,
 "nbformat_minor": 4
}
