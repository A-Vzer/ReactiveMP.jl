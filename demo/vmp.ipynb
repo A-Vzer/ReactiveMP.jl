{
 "cells": [
  {
   "cell_type": "code",
   "execution_count": 32,
   "metadata": {},
   "outputs": [],
   "source": [
    "using Distributions\n",
    "using Rocket\n",
    "using ReactiveMP\n",
    "using BenchmarkTools\n",
    "using StaticArrays\n",
    "\n",
    "using Profile\n",
    "using PProf\n",
    "using ProfileSVG\n",
    "\n",
    "import Base: show"
   ]
  },
  {
   "cell_type": "code",
   "execution_count": 33,
   "metadata": {},
   "outputs": [
    {
     "data": {
      "text/plain": [
       "snapshot (generic function with 1 method)"
      ]
     },
     "execution_count": 33,
     "metadata": {},
     "output_type": "execute_result"
    }
   ],
   "source": [
    "snapshot(var) = var.belief.subject.buffer[1]"
   ]
  },
  {
   "cell_type": "code",
   "execution_count": 40,
   "metadata": {},
   "outputs": [],
   "source": [
    "meanv = datavar(:mean, NormalMeanPrecision{Float64})\n",
    "precv = datavar(:precision, GammaAB{Float64})\n",
    "\n",
    "gmpnode = GaussianMeanPrecisionNode(factorisation = SA[ SA[1], SA[2], SA[3] ])\n",
    "\n",
    "connect!(gmpnode, :mean, meanv, 1)\n",
    "connect!(gmpnode, :precision, precv, 1)\n",
    "\n",
    "y = datavar(:y, Float64)\n",
    "\n",
    "connect!(gmpnode, :value, y, 1)\n",
    "\n",
    "activate!(gmpnode)\n",
    "\n",
    "# qmean = subscribe!(getbelief(meanv) |> map(Any, getdata), logger(\"qmean\"))\n",
    "# qprec = subscribe!(getbelief(precv) |> map(Any, getdata), logger(\"qprec\"))\n",
    "# qy    = subscribe!(getbelief(y)     |> map(Any, getdata), logger(\"qy   \"))\n",
    "\n",
    "qmean = subscribe!(getbelief(meanv) |> map(Any, getdata), void())\n",
    "qprec = subscribe!(getbelief(precv) |> map(Any, getdata), void())\n",
    "qy    = subscribe!(getbelief(y)     |> map(Any, getdata), void())\n",
    "\n",
    "# mmean = subscribe!(messagein(meanv, 1), logger(\"m_mean\"))\n",
    "# mprec = subscribe!(messagein(precv, 1), logger(\"m_prec\"))\n",
    "# my    = subscribe!(messagein(y, 1),     logger(\"m_y   \"))\n",
    "\n",
    "setbelief!(meanv, Belief(NormalMeanPrecision(0.0, 0.001)))\n",
    "setbelief!(precv, Belief(GammaAB(0.001, 0.001)))\n",
    "\n",
    "update!(meanv, NormalMeanPrecision(0.0, 0.001))\n",
    "update!(precv, GammaAB(0.001, 0.001))"
   ]
  },
  {
   "cell_type": "code",
   "execution_count": 41,
   "metadata": {},
   "outputs": [],
   "source": [
    "realprecision = 3.0\n",
    "realmean = -10\n",
    "\n",
    "data = rand(Normal(realmean, sqrt(1.0 / realprecision)), (1000, ));"
   ]
  },
  {
   "cell_type": "code",
   "execution_count": 42,
   "metadata": {
    "scrolled": false
   },
   "outputs": [
    {
     "name": "stdout",
     "output_type": "stream",
     "text": [
      "mean: -9.974673084702825\n",
      "prec: 2.791032737420971\n"
     ]
    }
   ],
   "source": [
    "current_mean_prior = NormalMeanPrecision(0.0, 0.001)\n",
    "current_prec_prior = GammaAB(0.001, 0.001)\n",
    "update!(precv, current_prec_prior)\n",
    "update!(meanv, current_mean_prior)\n",
    "\n",
    "for i in 1:1000\n",
    "    for j in 1:50\n",
    "        update!(y, data[i])\n",
    "    end\n",
    "    current_mean_prior = getdata(snapshot(meanv))\n",
    "    current_prec_prior = getdata(snapshot(precv))\n",
    "    update!(precv, current_prec_prior)\n",
    "    update!(meanv, current_mean_prior)\n",
    "end\n",
    "\n",
    "println(\"mean: \", Distributions.mean(current_mean_prior))\n",
    "println(\"prec: \", Distributions.mean(current_prec_prior))"
   ]
  },
  {
   "cell_type": "code",
   "execution_count": 61,
   "metadata": {},
   "outputs": [
    {
     "data": {
      "text/plain": [
       "NormalMeanPrecision{Float64}(0.024892099062898514, 40596.26681099683)"
      ]
     },
     "execution_count": 61,
     "metadata": {},
     "output_type": "execute_result"
    }
   ],
   "source": [
    "current_mean_prior"
   ]
  },
  {
   "cell_type": "code",
   "execution_count": 223,
   "metadata": {},
   "outputs": [
    {
     "data": {
      "text/plain": [
       "Message{NormalMeanPrecision{Float64}}(NormalMeanPrecision{Float64}(5.0, 0.002))"
      ]
     },
     "execution_count": 223,
     "metadata": {},
     "output_type": "execute_result"
    }
   ],
   "source": [
    "Message(NormalMeanPrecision(0.0, 0.001)) * Message(NormalMeanPrecision(10.0, 0.001))"
   ]
  },
  {
   "cell_type": "code",
   "execution_count": 226,
   "metadata": {},
   "outputs": [
    {
     "data": {
      "text/plain": [
       "Message{GammaAB{Float64}}(GammaAB{Float64}(-0.998, 0.002))"
      ]
     },
     "execution_count": 226,
     "metadata": {},
     "output_type": "execute_result"
    }
   ],
   "source": [
    "Message(GammaAB(0.001, 0.001)) * Message(GammaAB(0.001, 0.001))"
   ]
  },
  {
   "cell_type": "code",
   "execution_count": null,
   "metadata": {},
   "outputs": [],
   "source": []
  }
 ],
 "metadata": {
  "kernelspec": {
   "display_name": "Julia 1.4.1",
   "language": "julia",
   "name": "julia-1.4"
  },
  "language_info": {
   "file_extension": ".jl",
   "mimetype": "application/julia",
   "name": "julia",
   "version": "1.4.1"
  }
 },
 "nbformat": 4,
 "nbformat_minor": 4
}
