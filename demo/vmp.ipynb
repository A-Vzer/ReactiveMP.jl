{
 "cells": [
  {
   "cell_type": "code",
   "execution_count": 6,
   "metadata": {},
   "outputs": [],
   "source": [
    "using Distributions\n",
    "using Rocket\n",
    "using ReactiveMP\n",
    "using BenchmarkTools\n",
    "using StaticArrays\n",
    "\n",
    "using Profile\n",
    "using PProf\n",
    "using ProfileSVG\n",
    "\n",
    "import Base: show"
   ]
  },
  {
   "cell_type": "code",
   "execution_count": 3,
   "metadata": {},
   "outputs": [
    {
     "data": {
      "text/plain": [
       "DataVariable{Subject{Message{NormalMeanPrecision{Float64}}, AsapScheduler},NormalMeanPrecision{Float64}}(:mean, Subject(Message{NormalMeanPrecision{Float64}}, AsapScheduler), ReactiveMP.DataVariableProps(nothing))"
      ]
     },
     "execution_count": 3,
     "metadata": {},
     "output_type": "execute_result"
    }
   ],
   "source": [
    "precision = datavar(:precision, Gamma{Float64})\n",
    "mean      = datavar(:mean, NormalMeanPrecision{Float64})"
   ]
  },
  {
   "cell_type": "code",
   "execution_count": 7,
   "metadata": {},
   "outputs": [
    {
     "data": {
      "text/plain": [
       "Node{NormalMeanPrecision{Float64},3,SArray{Tuple{3},SArray{Tuple{1},Int64,1,1},1,3}}(NodeVariable[mean, precision, value], SArray{Tuple{1},Int64,1,1}[[1], [2], [3]])"
      ]
     },
     "execution_count": 7,
     "metadata": {},
     "output_type": "execute_result"
    }
   ],
   "source": [
    "node = GaussianMeanPrecisionNode(factorisation = SA[ SA[1], SA[2], SA[3] ])"
   ]
  },
  {
   "cell_type": "code",
   "execution_count": 8,
   "metadata": {},
   "outputs": [
    {
     "data": {
      "text/plain": [
       "DataVariable{Subject{Message{Float64}, AsapScheduler},Float64}(:y, Subject(Message{Float64}, AsapScheduler), ReactiveMP.DataVariableProps(nothing))"
      ]
     },
     "execution_count": 8,
     "metadata": {},
     "output_type": "execute_result"
    }
   ],
   "source": [
    "y = datavar(:y, Float64)"
   ]
  },
  {
   "cell_type": "code",
   "execution_count": null,
   "metadata": {},
   "outputs": [],
   "source": []
  }
 ],
 "metadata": {
  "kernelspec": {
   "display_name": "Julia 1.4.1",
   "language": "julia",
   "name": "julia-1.4"
  },
  "language_info": {
   "file_extension": ".jl",
   "mimetype": "application/julia",
   "name": "julia",
   "version": "1.4.1"
  }
 },
 "nbformat": 4,
 "nbformat_minor": 4
}
