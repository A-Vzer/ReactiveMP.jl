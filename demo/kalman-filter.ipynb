{
 "cells": [
  {
   "cell_type": "code",
   "execution_count": 1,
   "metadata": {},
   "outputs": [
    {
     "name": "stderr",
     "output_type": "stream",
     "text": [
      "┌ Info: Precompiling ReactiveMP [a194aa59-28ba-4574-a09c-4a745416d6e3]\n",
      "└ @ Base loading.jl:1278\n",
      "┌ Warning: Package ReactiveMP does not have Rocket in its dependencies:\n",
      "│ - If you have ReactiveMP checked out for development and have\n",
      "│   added Rocket as a dependency but haven't updated your primary\n",
      "│   environment's manifest file, try `Pkg.resolve()`.\n",
      "│ - Otherwise you may need to report an issue with ReactiveMP\n",
      "└ Loading Rocket into ReactiveMP from project dependency, future warnings for ReactiveMP are suppressed.\n"
     ]
    }
   ],
   "source": [
    "using Distributions\n",
    "using Rocket\n",
    "using ReactiveMP\n",
    "using BenchmarkTools\n",
    "\n",
    "import Base: show"
   ]
  },
  {
   "cell_type": "code",
   "execution_count": 2,
   "metadata": {},
   "outputs": [
    {
     "data": {
      "text/plain": [
       "kalman (generic function with 1 method)"
      ]
     },
     "execution_count": 2,
     "metadata": {},
     "output_type": "execute_result"
    }
   ],
   "source": [
    "function kalman_filter_graph()\n",
    "    model = Model(DefaultMessageGate())\n",
    "    \n",
    "    x_prev = add!(model, datavar(:x_prior, Normal{Float64}))\n",
    "    add_1  = add!(model, constvar(:add_1, 1.0))\n",
    "    x      = add!(model, randomvar(:x))\n",
    "    \n",
    "    x_prev_add = add!(model, make_node(+, x_prev, add_1, x))\n",
    "    \n",
    "    noise = add!(model, constvar(:noise, Normal(0.0, sqrt(200.0))))\n",
    "    y     = add!(model, datavar(:y, Float64))\n",
    "    \n",
    "    add_x_and_noise = add!(model, make_node(+, x, noise, y))\n",
    "    \n",
    "    activate!(model)\n",
    "    \n",
    "    return x_prev, x, y\n",
    "end\n",
    "\n",
    "function kalman(data)\n",
    "    N = length(data)\n",
    "    \n",
    "    x_prev, x, y = kalman_filter_graph()\n",
    "\n",
    "    link(x_prev, getmarginal(x))\n",
    "    \n",
    "    update!(x_prev, Normal(0.0, sqrt(10000.0)))\n",
    "    \n",
    "    marginals = Vector{Normal{Float64}}(undef, N)\n",
    "    \n",
    "    subscribe!(getmarginal(x) |> enumerate(), (t) -> marginals[t[1]] = getdata(t[2]))\n",
    "    \n",
    "    for d in data\n",
    "        update!(y, d)\n",
    "    end\n",
    "    \n",
    "    return marginals\n",
    "end"
   ]
  },
  {
   "cell_type": "code",
   "execution_count": 3,
   "metadata": {},
   "outputs": [],
   "source": [
    "N = 600\n",
    "data = collect(1:N) + sqrt(200.0) * randn(N);"
   ]
  },
  {
   "cell_type": "code",
   "execution_count": 4,
   "metadata": {},
   "outputs": [
    {
     "name": "stdout",
     "output_type": "stream",
     "text": [
      "  2.893593 seconds (8.52 M allocations: 447.284 MiB, 3.68% gc time)\n"
     ]
    }
   ],
   "source": [
    "@time kalman(data); # Initial compilation"
   ]
  },
  {
   "cell_type": "code",
   "execution_count": 5,
   "metadata": {},
   "outputs": [
    {
     "name": "stdout",
     "output_type": "stream",
     "text": [
      "  0.000914 seconds (16.12 k allocations: 802.062 KiB)\n"
     ]
    }
   ],
   "source": [
    "@time kalman(data); # Subsequent runs"
   ]
  },
  {
   "cell_type": "code",
   "execution_count": 6,
   "metadata": {},
   "outputs": [
    {
     "name": "stdout",
     "output_type": "stream",
     "text": [
      "  630.588 μs (16123 allocations: 802.06 KiB)\n"
     ]
    },
    {
     "data": {
      "text/plain": [
       "600-element Array{Normal{Float64},1}:\n",
       " Normal{Float64}(μ=0.16010367468364783, σ=14.002800840280099)\n",
       " Normal{Float64}(μ=-7.0087700521219825, σ=9.950371902099892)\n",
       " Normal{Float64}(μ=3.4672168252042246, σ=8.137884587711596)\n",
       " Normal{Float64}(μ=7.294302504504734, σ=7.053456158585984)\n",
       " Normal{Float64}(μ=4.216026949682214, σ=6.311944030978033)\n",
       " Normal{Float64}(μ=8.398396804758855, σ=5.763904177042351)\n",
       " Normal{Float64}(μ=11.514647805357082, σ=5.337605126836238)\n",
       " Normal{Float64}(μ=8.91920860641781, σ=4.993761694389224)\n",
       " Normal{Float64}(μ=9.145433030833095, σ=4.708816093480111)\n",
       " Normal{Float64}(μ=8.336061457798774, σ=4.467670516087703)\n",
       " Normal{Float64}(μ=10.817223153949357, σ=4.2601432284230505)\n",
       " Normal{Float64}(μ=12.827508015918768, σ=4.079085082240021)\n",
       " Normal{Float64}(μ=13.990436471420942, σ=3.919309008348103)\n",
       " ⋮\n",
       " Normal{Float64}(μ=588.588819363488, σ=0.582706653680032)\n",
       " Normal{Float64}(μ=589.5929099136839, σ=0.5822126418123303)\n",
       " Normal{Float64}(μ=590.6135088533742, σ=0.5817198842703781)\n",
       " Normal{Float64}(μ=591.5941989647149, σ=0.5812283757551306)\n",
       " Normal{Float64}(μ=592.5927219740393, σ=0.5807381109988313)\n",
       " Normal{Float64}(μ=593.5814030316202, σ=0.5802490847647747)\n",
       " Normal{Float64}(μ=594.5725655856259, σ=0.5797612918470711)\n",
       " Normal{Float64}(μ=595.5575294047375, σ=0.5792747270704146)\n",
       " Normal{Float64}(μ=596.526223505945, σ=0.5787893852898516)\n",
       " Normal{Float64}(μ=597.5106891992305, σ=0.5783052613905528)\n",
       " Normal{Float64}(μ=598.5336352798304, σ=0.5778223502875869)\n",
       " Normal{Float64}(μ=599.5510695470832, σ=0.5773406469256958)"
      ]
     },
     "execution_count": 6,
     "metadata": {},
     "output_type": "execute_result"
    }
   ],
   "source": [
    "@btime kalman($data) # Performance benchmark"
   ]
  },
  {
   "cell_type": "code",
   "execution_count": null,
   "metadata": {},
   "outputs": [],
   "source": []
  }
 ],
 "metadata": {
  "kernelspec": {
   "display_name": "Julia 1.5.0",
   "language": "julia",
   "name": "julia-1.5"
  },
  "language_info": {
   "file_extension": ".jl",
   "mimetype": "application/julia",
   "name": "julia",
   "version": "1.5.1"
  }
 },
 "nbformat": 4,
 "nbformat_minor": 4
}
