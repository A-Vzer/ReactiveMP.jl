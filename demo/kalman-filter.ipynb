{
 "cells": [
  {
   "cell_type": "code",
   "execution_count": 1,
   "metadata": {},
   "outputs": [
    {
     "name": "stderr",
     "output_type": "stream",
     "text": [
      "┌ Info: Precompiling ReactiveMP [a194aa59-28ba-4574-a09c-4a745416d6e3]\n",
      "└ @ Base loading.jl:1278\n",
      "┌ Warning: Package ReactiveMP does not have Rocket in its dependencies:\n",
      "│ - If you have ReactiveMP checked out for development and have\n",
      "│   added Rocket as a dependency but haven't updated your primary\n",
      "│   environment's manifest file, try `Pkg.resolve()`.\n",
      "│ - Otherwise you may need to report an issue with ReactiveMP\n",
      "└ Loading Rocket into ReactiveMP from project dependency, future warnings for ReactiveMP are suppressed.\n"
     ]
    }
   ],
   "source": [
    "using Distributions\n",
    "using Rocket\n",
    "using ReactiveMP\n",
    "using BenchmarkTools\n",
    "\n",
    "import Base: show"
   ]
  },
  {
   "cell_type": "code",
   "execution_count": 4,
   "metadata": {},
   "outputs": [
    {
     "data": {
      "text/plain": [
       "kalman (generic function with 1 method)"
      ]
     },
     "execution_count": 4,
     "metadata": {},
     "output_type": "execute_result"
    }
   ],
   "source": [
    "function kalman_filter_graph()\n",
    "    model = Model(DefaultMessageGate())\n",
    "    \n",
    "    x_prev = add!(model, datavar(:x_prior, Normal{Float64}))\n",
    "    add_1  = add!(model, constvar(:add_1, 1.0))\n",
    "    x      = add!(model, randomvar(:x))\n",
    "    \n",
    "    x_prev_add = add!(model, make_node(+, x_prev, add_1, x))\n",
    "    \n",
    "    noise = add!(model, constvar(:noise, Normal(0.0, sqrt(200.0))))\n",
    "    y     = add!(model, datavar(:y, Float64))\n",
    "    \n",
    "    add_x_and_noise = add!(model, make_node(+, x, noise, y))\n",
    "    \n",
    "    activate!(model)\n",
    "    \n",
    "    return x_prev, x, y\n",
    "end\n",
    "\n",
    "function kalman(data)\n",
    "    N = length(data)\n",
    "    \n",
    "    x_prev, x, y = kalman_filter_graph()\n",
    "\n",
    "    link(x_prev, getmarginal(x))\n",
    "    \n",
    "    update!(x_prev, Normal(0.0, sqrt(10000.0)))\n",
    "    \n",
    "    marginals = Vector{Normal{Float64}}(undef, N)\n",
    "    \n",
    "    subscribe!(getmarginal(x) |> enumerate(), (t) -> marginals[t[1]] = getdata(t[2]))\n",
    "    \n",
    "    for d in data\n",
    "        update!(y, d)\n",
    "    end\n",
    "    \n",
    "    return marginals\n",
    "end"
   ]
  },
  {
   "cell_type": "code",
   "execution_count": 5,
   "metadata": {},
   "outputs": [],
   "source": [
    "N = 600\n",
    "data = collect(1:N) + sqrt(200.0) * randn(N);"
   ]
  },
  {
   "cell_type": "code",
   "execution_count": 6,
   "metadata": {},
   "outputs": [
    {
     "name": "stdout",
     "output_type": "stream",
     "text": [
      "  3.203412 seconds (9.27 M allocations: 486.872 MiB, 6.34% gc time)\n"
     ]
    }
   ],
   "source": [
    "@time kalman(data); # Initial compilation"
   ]
  },
  {
   "cell_type": "code",
   "execution_count": 7,
   "metadata": {},
   "outputs": [
    {
     "name": "stdout",
     "output_type": "stream",
     "text": [
      "  0.000996 seconds (17.34 k allocations: 859.641 KiB)\n"
     ]
    }
   ],
   "source": [
    "@time kalman(data); # Subsequent runs"
   ]
  },
  {
   "cell_type": "code",
   "execution_count": 8,
   "metadata": {},
   "outputs": [
    {
     "name": "stdout",
     "output_type": "stream",
     "text": [
      "  653.465 μs (17342 allocations: 859.64 KiB)\n"
     ]
    },
    {
     "data": {
      "text/plain": [
       "600-element Array{Normal{Float64},1}:\n",
       " Normal{Float64}(μ=4.98176041926534, σ=14.002800840280099)\n",
       " Normal{Float64}(μ=17.32327159365538, σ=9.950371902099892)\n",
       " Normal{Float64}(μ=18.15046280893522, σ=8.137884587711596)\n",
       " Normal{Float64}(μ=10.990902249054386, σ=7.053456158585984)\n",
       " Normal{Float64}(μ=11.527645504840178, σ=6.311944030978033)\n",
       " Normal{Float64}(μ=12.428915465162184, σ=5.763904177042351)\n",
       " Normal{Float64}(μ=10.409410352859876, σ=5.337605126836238)\n",
       " Normal{Float64}(μ=11.461014295857995, σ=4.993761694389224)\n",
       " Normal{Float64}(μ=14.696148082277633, σ=4.708816093480111)\n",
       " Normal{Float64}(μ=18.42766646747086, σ=4.467670516087703)\n",
       " Normal{Float64}(μ=18.693416914116558, σ=4.2601432284230505)\n",
       " Normal{Float64}(μ=18.185888831736534, σ=4.079085082240021)\n",
       " Normal{Float64}(μ=19.46181336445403, σ=3.919309008348103)\n",
       " ⋮\n",
       " Normal{Float64}(μ=588.7929799030131, σ=0.582706653680032)\n",
       " Normal{Float64}(μ=589.7598141119809, σ=0.5822126418123303)\n",
       " Normal{Float64}(μ=590.7234938296723, σ=0.5817198842703781)\n",
       " Normal{Float64}(μ=591.7299270745311, σ=0.5812283757551306)\n",
       " Normal{Float64}(μ=592.681466461929, σ=0.5807381109988313)\n",
       " Normal{Float64}(μ=593.637111618525, σ=0.5802490847647747)\n",
       " Normal{Float64}(μ=594.6197804151864, σ=0.5797612918470711)\n",
       " Normal{Float64}(μ=595.6397044842337, σ=0.5792747270704146)\n",
       " Normal{Float64}(μ=596.6179229611101, σ=0.5787893852898516)\n",
       " Normal{Float64}(μ=597.6034267025234, σ=0.5783052613905528)\n",
       " Normal{Float64}(μ=598.6220619927051, σ=0.5778223502875869)\n",
       " Normal{Float64}(μ=599.6359500163906, σ=0.5773406469256958)"
      ]
     },
     "execution_count": 8,
     "metadata": {},
     "output_type": "execute_result"
    }
   ],
   "source": [
    "@btime kalman($data) # Performance benchmark"
   ]
  },
  {
   "cell_type": "code",
   "execution_count": null,
   "metadata": {},
   "outputs": [],
   "source": []
  }
 ],
 "metadata": {
  "kernelspec": {
   "display_name": "Julia 1.5.0",
   "language": "julia",
   "name": "julia-1.5"
  },
  "language_info": {
   "file_extension": ".jl",
   "mimetype": "application/julia",
   "name": "julia",
   "version": "1.5.1"
  }
 },
 "nbformat": 4,
 "nbformat_minor": 4
}
