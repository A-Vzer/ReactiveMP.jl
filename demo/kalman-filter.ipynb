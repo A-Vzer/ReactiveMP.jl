{
 "cells": [
  {
   "cell_type": "code",
   "execution_count": 7,
   "metadata": {},
   "outputs": [],
   "source": [
    "using Distributions\n",
    "using Rocket\n",
    "using ReactiveMP\n",
    "using BenchmarkTools\n",
    "\n",
    "using Profile\n",
    "using PProf\n",
    "using ProfileSVG\n",
    "\n",
    "import Base: show"
   ]
  },
  {
   "cell_type": "code",
   "execution_count": 8,
   "metadata": {},
   "outputs": [
    {
     "data": {
      "text/plain": [
       "kalman (generic function with 1 method)"
      ]
     },
     "execution_count": 8,
     "metadata": {},
     "output_type": "execute_result"
    }
   ],
   "source": [
    "function kalman_filter_graph()\n",
    "    x_prev_add = AdditionNode()\n",
    "    \n",
    "    x_prior = datavar(:x_prior, Normal{Float64})\n",
    "    add_1   = constvar(:add_1, 1.0)\n",
    "\n",
    "    connect!(x_prev_add, :in1, x_prior, 1)\n",
    "    connect!(x_prev_add, :in2, add_1, 1)\n",
    "    \n",
    "    noise = constvar(:noise, Normal(0.0, sqrt(200.0)))\n",
    "    \n",
    "    add_x_and_noise = AdditionNode()\n",
    "    \n",
    "    x = simplerandomvar(:x)\n",
    "    \n",
    "    connect!(x_prev_add, :out, x, 1)\n",
    "    connect!(add_x_and_noise, :in1, x, 2)\n",
    "    connect!(add_x_and_noise, :in2, noise, 1)\n",
    "    \n",
    "    y = datavar(:y, Float64)\n",
    "    \n",
    "    connect!(add_x_and_noise, :out, y, 1)\n",
    "    \n",
    "    activate!(x_prev_add)\n",
    "    activate!(add_x_and_noise)\n",
    "    \n",
    "    return x_prior, x, y\n",
    "end\n",
    "\n",
    "function kalman(data)\n",
    "    N = length(data)\n",
    "    \n",
    "    x_prior, x, y = kalman_filter_graph()\n",
    "\n",
    "    link(x_prior, getbelief(x))\n",
    "    \n",
    "    update!(x_prior, Normal(0.0, sqrt(10000.0)))\n",
    "    \n",
    "    beliefs = Vector{Normal{Float64}}(undef, N)\n",
    "    \n",
    "    subscribe!(getbelief(x) |> enumerate(), (t) -> beliefs[t[1]] = getdata(t[2]))\n",
    "    \n",
    "    for d in data\n",
    "        update!(y, d)\n",
    "    end\n",
    "    \n",
    "    return beliefs\n",
    "end"
   ]
  },
  {
   "cell_type": "code",
   "execution_count": 9,
   "metadata": {},
   "outputs": [],
   "source": [
    "N = 600\n",
    "data = collect(1:N) + sqrt(200.0) * randn(N);"
   ]
  },
  {
   "cell_type": "code",
   "execution_count": 12,
   "metadata": {},
   "outputs": [
    {
     "name": "stdout",
     "output_type": "stream",
     "text": [
      "  950.031 μs (14334 allocations: 639.28 KiB)\n"
     ]
    },
    {
     "data": {
      "text/plain": [
       "600-element Array{Normal{Float64},1}:\n",
       " Normal{Float64}(μ=6.421866707964923, σ=14.002800840280099)\n",
       " Normal{Float64}(μ=-0.5772833890791447, σ=9.950371902099892)\n",
       " Normal{Float64}(μ=4.1921649267638035, σ=8.137884587711596)\n",
       " Normal{Float64}(μ=0.9935877643644748, σ=7.053456158585984)\n",
       " Normal{Float64}(μ=1.0131164886050033, σ=6.311944030978033)\n",
       " Normal{Float64}(μ=2.2904204069328733, σ=5.763904177042351)\n",
       " Normal{Float64}(μ=5.672203722783613, σ=5.337605126836238)\n",
       " Normal{Float64}(μ=6.272716864346323, σ=4.993761694389224)\n",
       " Normal{Float64}(μ=5.267376779468818, σ=4.708816093480111)\n",
       " Normal{Float64}(μ=7.177504103984075, σ=4.467670516087703)\n",
       " Normal{Float64}(μ=6.657955856768954, σ=4.2601432284230505)\n",
       " Normal{Float64}(μ=9.342987991483438, σ=4.079085082240021)\n",
       " Normal{Float64}(μ=9.699021875090098, σ=3.919309008348103)\n",
       " ⋮\n",
       " Normal{Float64}(μ=588.9493933651222, σ=0.582706653680032)\n",
       " Normal{Float64}(μ=589.9264905173286, σ=0.5822126418123303)\n",
       " Normal{Float64}(μ=590.8969816985898, σ=0.5817198842703781)\n",
       " Normal{Float64}(μ=591.9135302269323, σ=0.5812283757551306)\n",
       " Normal{Float64}(μ=592.9170662669177, σ=0.5807381109988313)\n",
       " Normal{Float64}(μ=593.912830609556, σ=0.5802490847647747)\n",
       " Normal{Float64}(μ=594.9517219055979, σ=0.5797612918470711)\n",
       " Normal{Float64}(μ=595.9541213110954, σ=0.5792747270704146)\n",
       " Normal{Float64}(μ=596.9836550674307, σ=0.5787893852898516)\n",
       " Normal{Float64}(μ=597.9932589556973, σ=0.5783052613905528)\n",
       " Normal{Float64}(μ=598.9667983019575, σ=0.5778223502875869)\n",
       " Normal{Float64}(μ=599.9786785612833, σ=0.5773406469256958)"
      ]
     },
     "execution_count": 12,
     "metadata": {},
     "output_type": "execute_result"
    }
   ],
   "source": [
    "@btime kalman($data)"
   ]
  },
  {
   "cell_type": "code",
   "execution_count": 11,
   "metadata": {},
   "outputs": [
    {
     "name": "stdout",
     "output_type": "stream",
     "text": [
      "  0.001487 seconds (14.33 k allocations: 639.281 KiB)\n"
     ]
    },
    {
     "data": {
      "text/plain": [
       "600-element Array{Normal{Float64},1}:\n",
       " Normal{Float64}(μ=6.421866707964923, σ=14.002800840280099)\n",
       " Normal{Float64}(μ=-0.5772833890791447, σ=9.950371902099892)\n",
       " Normal{Float64}(μ=4.1921649267638035, σ=8.137884587711596)\n",
       " Normal{Float64}(μ=0.9935877643644748, σ=7.053456158585984)\n",
       " Normal{Float64}(μ=1.0131164886050033, σ=6.311944030978033)\n",
       " Normal{Float64}(μ=2.2904204069328733, σ=5.763904177042351)\n",
       " Normal{Float64}(μ=5.672203722783613, σ=5.337605126836238)\n",
       " Normal{Float64}(μ=6.272716864346323, σ=4.993761694389224)\n",
       " Normal{Float64}(μ=5.267376779468818, σ=4.708816093480111)\n",
       " Normal{Float64}(μ=7.177504103984075, σ=4.467670516087703)\n",
       " Normal{Float64}(μ=6.657955856768954, σ=4.2601432284230505)\n",
       " Normal{Float64}(μ=9.342987991483438, σ=4.079085082240021)\n",
       " Normal{Float64}(μ=9.699021875090098, σ=3.919309008348103)\n",
       " ⋮\n",
       " Normal{Float64}(μ=588.9493933651222, σ=0.582706653680032)\n",
       " Normal{Float64}(μ=589.9264905173286, σ=0.5822126418123303)\n",
       " Normal{Float64}(μ=590.8969816985898, σ=0.5817198842703781)\n",
       " Normal{Float64}(μ=591.9135302269323, σ=0.5812283757551306)\n",
       " Normal{Float64}(μ=592.9170662669177, σ=0.5807381109988313)\n",
       " Normal{Float64}(μ=593.912830609556, σ=0.5802490847647747)\n",
       " Normal{Float64}(μ=594.9517219055979, σ=0.5797612918470711)\n",
       " Normal{Float64}(μ=595.9541213110954, σ=0.5792747270704146)\n",
       " Normal{Float64}(μ=596.9836550674307, σ=0.5787893852898516)\n",
       " Normal{Float64}(μ=597.9932589556973, σ=0.5783052613905528)\n",
       " Normal{Float64}(μ=598.9667983019575, σ=0.5778223502875869)\n",
       " Normal{Float64}(μ=599.9786785612833, σ=0.5773406469256958)"
      ]
     },
     "execution_count": 11,
     "metadata": {},
     "output_type": "execute_result"
    }
   ],
   "source": [
    "@time kalman(data)"
   ]
  },
  {
   "cell_type": "code",
   "execution_count": 10,
   "metadata": {},
   "outputs": [
    {
     "name": "stdout",
     "output_type": "stream",
     "text": [
      "  3.571878 seconds (10.72 M allocations: 556.505 MiB, 3.07% gc time)\n"
     ]
    },
    {
     "data": {
      "text/plain": [
       "600-element Array{Normal{Float64},1}:\n",
       " Normal{Float64}(μ=6.421866707964923, σ=14.002800840280099)\n",
       " Normal{Float64}(μ=-0.5772833890791447, σ=9.950371902099892)\n",
       " Normal{Float64}(μ=4.1921649267638035, σ=8.137884587711596)\n",
       " Normal{Float64}(μ=0.9935877643644748, σ=7.053456158585984)\n",
       " Normal{Float64}(μ=1.0131164886050033, σ=6.311944030978033)\n",
       " Normal{Float64}(μ=2.2904204069328733, σ=5.763904177042351)\n",
       " Normal{Float64}(μ=5.672203722783613, σ=5.337605126836238)\n",
       " Normal{Float64}(μ=6.272716864346323, σ=4.993761694389224)\n",
       " Normal{Float64}(μ=5.267376779468818, σ=4.708816093480111)\n",
       " Normal{Float64}(μ=7.177504103984075, σ=4.467670516087703)\n",
       " Normal{Float64}(μ=6.657955856768954, σ=4.2601432284230505)\n",
       " Normal{Float64}(μ=9.342987991483438, σ=4.079085082240021)\n",
       " Normal{Float64}(μ=9.699021875090098, σ=3.919309008348103)\n",
       " ⋮\n",
       " Normal{Float64}(μ=588.9493933651222, σ=0.582706653680032)\n",
       " Normal{Float64}(μ=589.9264905173286, σ=0.5822126418123303)\n",
       " Normal{Float64}(μ=590.8969816985898, σ=0.5817198842703781)\n",
       " Normal{Float64}(μ=591.9135302269323, σ=0.5812283757551306)\n",
       " Normal{Float64}(μ=592.9170662669177, σ=0.5807381109988313)\n",
       " Normal{Float64}(μ=593.912830609556, σ=0.5802490847647747)\n",
       " Normal{Float64}(μ=594.9517219055979, σ=0.5797612918470711)\n",
       " Normal{Float64}(μ=595.9541213110954, σ=0.5792747270704146)\n",
       " Normal{Float64}(μ=596.9836550674307, σ=0.5787893852898516)\n",
       " Normal{Float64}(μ=597.9932589556973, σ=0.5783052613905528)\n",
       " Normal{Float64}(μ=598.9667983019575, σ=0.5778223502875869)\n",
       " Normal{Float64}(μ=599.9786785612833, σ=0.5773406469256958)"
      ]
     },
     "execution_count": 10,
     "metadata": {},
     "output_type": "execute_result"
    }
   ],
   "source": [
    "@time kalman(data)"
   ]
  },
  {
   "cell_type": "code",
   "execution_count": null,
   "metadata": {},
   "outputs": [],
   "source": []
  }
 ],
 "metadata": {
  "kernelspec": {
   "display_name": "Julia 1.4.1",
   "language": "julia",
   "name": "julia-1.4"
  },
  "language_info": {
   "file_extension": ".jl",
   "mimetype": "application/julia",
   "name": "julia",
   "version": "1.4.1"
  }
 },
 "nbformat": 4,
 "nbformat_minor": 4
}
