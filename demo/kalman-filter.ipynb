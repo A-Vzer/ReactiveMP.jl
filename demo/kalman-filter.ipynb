{
 "cells": [
  {
   "cell_type": "code",
   "execution_count": 1,
   "metadata": {},
   "outputs": [
    {
     "name": "stderr",
     "output_type": "stream",
     "text": [
      "┌ Info: Precompiling ReactiveMP [a194aa59-28ba-4574-a09c-4a745416d6e3]\n",
      "└ @ Base loading.jl:1278\n",
      "┌ Warning: Package ReactiveMP does not have LinearAlgebra in its dependencies:\n",
      "│ - If you have ReactiveMP checked out for development and have\n",
      "│   added LinearAlgebra as a dependency but haven't updated your primary\n",
      "│   environment's manifest file, try `Pkg.resolve()`.\n",
      "│ - Otherwise you may need to report an issue with ReactiveMP\n",
      "└ Loading LinearAlgebra into ReactiveMP from project dependency, future warnings for ReactiveMP are suppressed.\n"
     ]
    }
   ],
   "source": [
    "using Distributions\n",
    "using Rocket\n",
    "using ReactiveMP\n",
    "using BenchmarkTools\n",
    "\n",
    "import Base: show"
   ]
  },
  {
   "cell_type": "code",
   "execution_count": 2,
   "metadata": {},
   "outputs": [
    {
     "data": {
      "text/plain": [
       "kalman (generic function with 1 method)"
      ]
     },
     "execution_count": 2,
     "metadata": {},
     "output_type": "execute_result"
    }
   ],
   "source": [
    "function kalman_filter_graph()\n",
    "    model = Model(DefaultMessageGate())\n",
    "    \n",
    "    x_prev = add!(model, datavar(:x_prior, Normal{Float64}))\n",
    "    add_1  = add!(model, constvar(:add_1, 1.0))\n",
    "    x      = add!(model, randomvar(:x))\n",
    "    \n",
    "    x_prev_add = add!(model, make_node(+, x_prev, add_1, x))\n",
    "    \n",
    "    noise = add!(model, constvar(:noise, Normal(0.0, sqrt(200.0))))\n",
    "    y     = add!(model, datavar(:y, Float64))\n",
    "    \n",
    "    add_x_and_noise = add!(model, make_node(+, x, noise, y))\n",
    "    \n",
    "    activate!(model)\n",
    "    \n",
    "    return x_prev, x, y\n",
    "end\n",
    "\n",
    "function kalman(data)\n",
    "    N = length(data)\n",
    "    \n",
    "    x_prev, x, y = kalman_filter_graph()\n",
    "\n",
    "    link(x_prev, getmarginal(x))\n",
    "    \n",
    "    update!(x_prev, Normal(0.0, sqrt(10000.0)))\n",
    "    \n",
    "    marginals = Vector{Normal{Float64}}(undef, N)\n",
    "    \n",
    "    subscribe!(getmarginal(x) |> enumerate(), (t) -> marginals[t[1]] = getdata(t[2]))\n",
    "    \n",
    "    for d in data\n",
    "        update!(y, d)\n",
    "    end\n",
    "    \n",
    "    return marginals\n",
    "end"
   ]
  },
  {
   "cell_type": "code",
   "execution_count": 3,
   "metadata": {},
   "outputs": [],
   "source": [
    "N = 600\n",
    "data = collect(1:N) + sqrt(200.0) * randn(N);"
   ]
  },
  {
   "cell_type": "code",
   "execution_count": 4,
   "metadata": {},
   "outputs": [
    {
     "name": "stdout",
     "output_type": "stream",
     "text": [
      "  2.419334 seconds (7.08 M allocations: 380.857 MiB, 3.11% gc time)\n"
     ]
    }
   ],
   "source": [
    "@time kalman(data); # Initial compilation"
   ]
  },
  {
   "cell_type": "code",
   "execution_count": 5,
   "metadata": {},
   "outputs": [
    {
     "name": "stdout",
     "output_type": "stream",
     "text": [
      "  0.000821 seconds (15.54 k allocations: 615.375 KiB)\n"
     ]
    }
   ],
   "source": [
    "@time kalman(data); # Subsequent runs"
   ]
  },
  {
   "cell_type": "code",
   "execution_count": 6,
   "metadata": {},
   "outputs": [
    {
     "name": "stdout",
     "output_type": "stream",
     "text": [
      "  481.658 μs (15538 allocations: 615.38 KiB)\n"
     ]
    },
    {
     "data": {
      "text/plain": [
       "600-element Array{Normal{Float64},1}:\n",
       " Normal{Float64}(μ=19.995664077451256, σ=14.002800840280099)\n",
       " Normal{Float64}(μ=11.70175148263365, σ=9.950371902099892)\n",
       " Normal{Float64}(μ=5.810744539898585, σ=8.137884587711596)\n",
       " Normal{Float64}(μ=5.542674101924024, σ=7.053456158585984)\n",
       " Normal{Float64}(μ=6.442771000417222, σ=6.311944030978033)\n",
       " Normal{Float64}(μ=8.531067847995272, σ=5.763904177042351)\n",
       " Normal{Float64}(μ=11.11374546872648, σ=5.337605126836238)\n",
       " Normal{Float64}(μ=11.766067877732775, σ=4.993761694389224)\n",
       " Normal{Float64}(μ=12.927396679832668, σ=4.708816093480111)\n",
       " Normal{Float64}(μ=15.096845732555666, σ=4.467670516087703)\n",
       " Normal{Float64}(μ=16.031424658340935, σ=4.2601432284230505)\n",
       " Normal{Float64}(μ=17.939240305039593, σ=4.079085082240021)\n",
       " Normal{Float64}(μ=18.07412209449948, σ=3.919309008348103)\n",
       " ⋮\n",
       " Normal{Float64}(μ=589.5903126994336, σ=0.582706653680032)\n",
       " Normal{Float64}(μ=590.5704623368197, σ=0.5822126418123303)\n",
       " Normal{Float64}(μ=591.583970997735, σ=0.5817198842703781)\n",
       " Normal{Float64}(μ=592.5519399040636, σ=0.5812283757551306)\n",
       " Normal{Float64}(μ=593.5435059780132, σ=0.5807381109988313)\n",
       " Normal{Float64}(μ=594.5563753181251, σ=0.5802490847647747)\n",
       " Normal{Float64}(μ=595.5890173737811, σ=0.5797612918470711)\n",
       " Normal{Float64}(μ=596.5959344742422, σ=0.5792747270704146)\n",
       " Normal{Float64}(μ=597.5820179544382, σ=0.5787893852898516)\n",
       " Normal{Float64}(μ=598.5790252623424, σ=0.5783052613905528)\n",
       " Normal{Float64}(μ=599.6160748446832, σ=0.5778223502875869)\n",
       " Normal{Float64}(μ=600.628640677439, σ=0.5773406469256958)"
      ]
     },
     "execution_count": 6,
     "metadata": {},
     "output_type": "execute_result"
    }
   ],
   "source": [
    "@btime kalman($data) # Performance benchmark"
   ]
  },
  {
   "cell_type": "code",
   "execution_count": null,
   "metadata": {},
   "outputs": [],
   "source": []
  }
 ],
 "metadata": {
  "kernelspec": {
   "display_name": "Julia 1.5.0",
   "language": "julia",
   "name": "julia-1.5"
  },
  "language_info": {
   "file_extension": ".jl",
   "mimetype": "application/julia",
   "name": "julia",
   "version": "1.5.1"
  }
 },
 "nbformat": 4,
 "nbformat_minor": 4
}
