{
 "cells": [
  {
   "cell_type": "code",
   "execution_count": 3,
   "metadata": {},
   "outputs": [],
   "source": [
    "using Distributions\n",
    "using Rocket\n",
    "using ReactiveMP\n",
    "using BenchmarkTools\n",
    "\n",
    "import Base: show"
   ]
  },
  {
   "cell_type": "code",
   "execution_count": 4,
   "metadata": {},
   "outputs": [
    {
     "data": {
      "text/plain": [
       "kalman (generic function with 1 method)"
      ]
     },
     "execution_count": 4,
     "metadata": {},
     "output_type": "execute_result"
    }
   ],
   "source": [
    "function kalman_filter_graph()\n",
    "    model = Model(DefaultMessageGate())\n",
    "    \n",
    "    x_prior = add!(model, datavar(:x_prior, Normal{Float64}))\n",
    "    add_1   = add!(model, constvar(:add_1, 1.0))    \n",
    "    noise   = add!(model, constvar(:noise, Normal(0.0, sqrt(200.0))))\n",
    "    \n",
    "    x = add!(model, randomvar(:x))\n",
    "    y = add!(model, datavar(:y, Float64))\n",
    "    \n",
    "    x_prev_add      = add!(model, make_node(+, x_prior, add_1, x))\n",
    "    add_x_and_noise = add!(model, make_node(+, x, noise, y)) \n",
    "    \n",
    "    activate!(model, x_prev_add)\n",
    "    activate!(model, add_x_and_noise)\n",
    "    \n",
    "    return x_prior, x, y\n",
    "end\n",
    "\n",
    "function kalman(data)\n",
    "    N = length(data)\n",
    "    \n",
    "    x_prior, x, y = kalman_filter_graph2()\n",
    "\n",
    "    link(x_prior, getmarginal(x))\n",
    "    \n",
    "    update!(x_prior, Normal(0.0, sqrt(10000.0)))\n",
    "    \n",
    "    marginals = Vector{Normal{Float64}}(undef, N)\n",
    "    \n",
    "    subscribe!(getmarginal(x) |> enumerate(), (t) -> marginals[t[1]] = getdata(t[2]))\n",
    "    \n",
    "    for d in data\n",
    "        update!(y, d)\n",
    "    end\n",
    "    \n",
    "    return marginals\n",
    "end"
   ]
  },
  {
   "cell_type": "code",
   "execution_count": 5,
   "metadata": {},
   "outputs": [],
   "source": [
    "N = 600\n",
    "data = collect(1:N) + sqrt(200.0) * randn(N);"
   ]
  },
  {
   "cell_type": "code",
   "execution_count": 8,
   "metadata": {},
   "outputs": [
    {
     "name": "stdout",
     "output_type": "stream",
     "text": [
      "  0.001106 seconds (16.36 k allocations: 817.484 KiB)\n"
     ]
    }
   ],
   "source": [
    "@time kalman(data); # Initial compilation"
   ]
  },
  {
   "cell_type": "code",
   "execution_count": 9,
   "metadata": {},
   "outputs": [
    {
     "name": "stdout",
     "output_type": "stream",
     "text": [
      "  0.001080 seconds (16.36 k allocations: 817.484 KiB)\n"
     ]
    }
   ],
   "source": [
    "@time kalman(data); # Subsequent runs"
   ]
  },
  {
   "cell_type": "code",
   "execution_count": 10,
   "metadata": {},
   "outputs": [
    {
     "name": "stdout",
     "output_type": "stream",
     "text": [
      "  650.944 μs (16362 allocations: 817.48 KiB)\n"
     ]
    },
    {
     "data": {
      "text/plain": [
       "600-element Array{Normal{Float64},1}:\n",
       " Normal{Float64}(μ=12.023014779420963, σ=3.757946762270414)\n",
       " Normal{Float64}(μ=9.709367522218457, σ=2.6582082959958475)\n",
       " Normal{Float64}(μ=10.27631371701221, σ=2.1706736357085332)\n",
       " Normal{Float64}(μ=14.785729290517441, σ=1.8799692411628124)\n",
       " Normal{Float64}(μ=19.458892227794703, σ=1.6815550395263243)\n",
       " Normal{Float64}(μ=20.56173040317447, σ=1.5350788837432578)\n",
       " Normal{Float64}(μ=21.943611752585824, σ=1.4212308075340512)\n",
       " Normal{Float64}(μ=20.429942923491744, σ=1.3294564709682384)\n",
       " Normal{Float64}(μ=21.327860232804902, σ=1.2534358890063568)\n",
       " Normal{Float64}(μ=21.34286478899955, σ=1.189123034279198)\n",
       " Normal{Float64}(μ=21.316775310552526, σ=1.1337916144768012)\n",
       " Normal{Float64}(μ=23.091963572072473, σ=1.0855286405502962)\n",
       " Normal{Float64}(μ=24.896947342841443, σ=1.0429469095396076)\n",
       " ⋮\n",
       " Normal{Float64}(μ=589.3830284502654, σ=0.15495276495869575)\n",
       " Normal{Float64}(μ=590.4074879826759, σ=0.1548213936816792)\n",
       " Normal{Float64}(μ=591.4035220589609, σ=0.15469035597470523)\n",
       " Normal{Float64}(μ=592.4011782732306, σ=0.1545596504285243)\n",
       " Normal{Float64}(μ=593.4263966874616, σ=0.15442927564220787)\n",
       " Normal{Float64}(μ=594.4292771417194, σ=0.15429923022308561)\n",
       " Normal{Float64}(μ=595.4619139526255, σ=0.15416951278668278)\n",
       " Normal{Float64}(μ=596.4936370400676, σ=0.15404012195665825)\n",
       " Normal{Float64}(μ=597.4958855054678, σ=0.15391105636474336)\n",
       " Normal{Float64}(μ=598.502806349256, σ=0.153782314650681)\n",
       " Normal{Float64}(μ=599.4944471965222, σ=0.15365389546216549)\n",
       " Normal{Float64}(μ=600.4779686819609, σ=0.15352579745478276)"
      ]
     },
     "execution_count": 10,
     "metadata": {},
     "output_type": "execute_result"
    }
   ],
   "source": [
    "@btime kalman($data) # Performance benchmark"
   ]
  },
  {
   "cell_type": "code",
   "execution_count": null,
   "metadata": {},
   "outputs": [],
   "source": [
    "}"
   ]
  }
 ],
 "metadata": {
  "kernelspec": {
   "display_name": "Julia 1.5.0",
   "language": "julia",
   "name": "julia-1.5"
  },
  "language_info": {
   "file_extension": ".jl",
   "mimetype": "application/julia",
   "name": "julia",
   "version": "1.5.0"
  }
 },
 "nbformat": 4,
 "nbformat_minor": 4
}
