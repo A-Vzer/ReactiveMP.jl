{
 "cells": [
  {
   "cell_type": "code",
   "execution_count": 13,
   "metadata": {},
   "outputs": [],
   "source": [
    "using Distributions\n",
    "using Rocket\n",
    "using ReactiveMP\n",
    "using BenchmarkTools\n",
    "\n",
    "using Profile\n",
    "using PProf\n",
    "using ProfileSVG\n",
    "\n",
    "import Base: show"
   ]
  },
  {
   "cell_type": "code",
   "execution_count": 14,
   "metadata": {},
   "outputs": [
    {
     "data": {
      "text/plain": [
       "kalman (generic function with 1 method)"
      ]
     },
     "execution_count": 14,
     "metadata": {},
     "output_type": "execute_result"
    }
   ],
   "source": [
    "function kalman_filter_graph()\n",
    "    model = Model(DefaultMessageGate())\n",
    "    \n",
    "    x_prev_add = add!(model, AdditionNode())\n",
    "    \n",
    "    x_prior = add!(model, datavar(:x_prior, Normal{Float64}))\n",
    "    add_1   = add!(model, constvar(:add_1, 1.0))\n",
    "\n",
    "    connect!(x_prev_add, :in1, x_prior, 1)\n",
    "    connect!(x_prev_add, :in2, add_1, 1)\n",
    "    \n",
    "    noise = add!(model, constvar(:noise, Normal(0.0, sqrt(200.0))))\n",
    "    \n",
    "    add_x_and_noise = add!(model, AdditionNode())\n",
    "    \n",
    "    x = add!(model, simplerandomvar(:x))\n",
    "    \n",
    "    connect!(x_prev_add, :out, x, 1)\n",
    "    connect!(add_x_and_noise, :in1, x, 2)\n",
    "    connect!(add_x_and_noise, :in2, noise, 1)\n",
    "    \n",
    "    y = add!(model, datavar(:y, Float64))\n",
    "    \n",
    "    connect!(add_x_and_noise, :out, y, 1)\n",
    "    \n",
    "    activate!(model, x_prev_add)\n",
    "    activate!(model, add_x_and_noise)\n",
    "    \n",
    "    return x_prior, x, y\n",
    "end\n",
    "\n",
    "function kalman(data)\n",
    "    N = length(data)\n",
    "    \n",
    "    x_prior, x, y = kalman_filter_graph()\n",
    "\n",
    "    link(x_prior, getmarginal(x))\n",
    "    \n",
    "    update!(x_prior, Normal(0.0, sqrt(10000.0)))\n",
    "    \n",
    "    marginals = Vector{Normal{Float64}}(undef, N)\n",
    "    \n",
    "    subscribe!(getmarginal(x) |> enumerate(), (t) -> marginals[t[1]] = getdata(t[2]))\n",
    "    \n",
    "    for d in data\n",
    "        update!(y, d)\n",
    "    end\n",
    "    \n",
    "    return marginals\n",
    "end"
   ]
  },
  {
   "cell_type": "code",
   "execution_count": 15,
   "metadata": {},
   "outputs": [],
   "source": [
    "N = 600\n",
    "data = collect(1:N) + sqrt(200.0) * randn(N);"
   ]
  },
  {
   "cell_type": "code",
   "execution_count": 19,
   "metadata": {},
   "outputs": [
    {
     "name": "stdout",
     "output_type": "stream",
     "text": [
      "  929.061 μs (14934 allocations: 648.66 KiB)\n"
     ]
    },
    {
     "data": {
      "text/plain": [
       "600-element Array{Normal{Float64},1}:\n",
       " Normal{Float64}(μ=2.314602396771967, σ=14.002800840280099)\n",
       " Normal{Float64}(μ=-0.0432330799734945, σ=9.950371902099892)\n",
       " Normal{Float64}(μ=-2.9318810219643043, σ=8.137884587711596)\n",
       " Normal{Float64}(μ=-3.1549322332810688, σ=7.053456158585984)\n",
       " Normal{Float64}(μ=-1.5655734926125944, σ=6.311944030978033)\n",
       " Normal{Float64}(μ=-1.1017514819323355, σ=5.763904177042351)\n",
       " Normal{Float64}(μ=-0.3097687207012802, σ=5.337605126836238)\n",
       " Normal{Float64}(μ=1.4790737893861803, σ=4.993761694389224)\n",
       " Normal{Float64}(μ=6.166962393857403, σ=4.708816093480111)\n",
       " Normal{Float64}(μ=8.36079961117114, σ=4.467670516087703)\n",
       " Normal{Float64}(μ=10.632594992771002, σ=4.2601432284230505)\n",
       " Normal{Float64}(μ=12.699187679724341, σ=4.079085082240021)\n",
       " Normal{Float64}(μ=13.869563800607509, σ=3.919309008348103)\n",
       " ⋮\n",
       " Normal{Float64}(μ=588.9156598191099, σ=0.582706653680032)\n",
       " Normal{Float64}(μ=589.9399966942094, σ=0.5822126418123303)\n",
       " Normal{Float64}(μ=590.9556907199351, σ=0.5817198842703781)\n",
       " Normal{Float64}(μ=591.9615951092563, σ=0.5812283757551306)\n",
       " Normal{Float64}(μ=592.936984964179, σ=0.5807381109988313)\n",
       " Normal{Float64}(μ=593.9257833757028, σ=0.5802490847647747)\n",
       " Normal{Float64}(μ=594.957692531799, σ=0.5797612918470711)\n",
       " Normal{Float64}(μ=595.9388500543423, σ=0.5792747270704146)\n",
       " Normal{Float64}(μ=596.926181333186, σ=0.5787893852898516)\n",
       " Normal{Float64}(μ=597.9601086928146, σ=0.5783052613905528)\n",
       " Normal{Float64}(μ=598.9978466431912, σ=0.5778223502875869)\n",
       " Normal{Float64}(μ=599.9948741813806, σ=0.5773406469256958)"
      ]
     },
     "execution_count": 19,
     "metadata": {},
     "output_type": "execute_result"
    }
   ],
   "source": [
    "@btime kalman($data)"
   ]
  },
  {
   "cell_type": "code",
   "execution_count": 18,
   "metadata": {},
   "outputs": [
    {
     "name": "stdout",
     "output_type": "stream",
     "text": [
      "  0.001532 seconds (14.93 k allocations: 648.656 KiB)\n"
     ]
    },
    {
     "data": {
      "text/plain": [
       "600-element Array{Normal{Float64},1}:\n",
       " Normal{Float64}(μ=2.314602396771967, σ=14.002800840280099)\n",
       " Normal{Float64}(μ=-0.0432330799734945, σ=9.950371902099892)\n",
       " Normal{Float64}(μ=-2.9318810219643043, σ=8.137884587711596)\n",
       " Normal{Float64}(μ=-3.1549322332810688, σ=7.053456158585984)\n",
       " Normal{Float64}(μ=-1.5655734926125944, σ=6.311944030978033)\n",
       " Normal{Float64}(μ=-1.1017514819323355, σ=5.763904177042351)\n",
       " Normal{Float64}(μ=-0.3097687207012802, σ=5.337605126836238)\n",
       " Normal{Float64}(μ=1.4790737893861803, σ=4.993761694389224)\n",
       " Normal{Float64}(μ=6.166962393857403, σ=4.708816093480111)\n",
       " Normal{Float64}(μ=8.36079961117114, σ=4.467670516087703)\n",
       " Normal{Float64}(μ=10.632594992771002, σ=4.2601432284230505)\n",
       " Normal{Float64}(μ=12.699187679724341, σ=4.079085082240021)\n",
       " Normal{Float64}(μ=13.869563800607509, σ=3.919309008348103)\n",
       " ⋮\n",
       " Normal{Float64}(μ=588.9156598191099, σ=0.582706653680032)\n",
       " Normal{Float64}(μ=589.9399966942094, σ=0.5822126418123303)\n",
       " Normal{Float64}(μ=590.9556907199351, σ=0.5817198842703781)\n",
       " Normal{Float64}(μ=591.9615951092563, σ=0.5812283757551306)\n",
       " Normal{Float64}(μ=592.936984964179, σ=0.5807381109988313)\n",
       " Normal{Float64}(μ=593.9257833757028, σ=0.5802490847647747)\n",
       " Normal{Float64}(μ=594.957692531799, σ=0.5797612918470711)\n",
       " Normal{Float64}(μ=595.9388500543423, σ=0.5792747270704146)\n",
       " Normal{Float64}(μ=596.926181333186, σ=0.5787893852898516)\n",
       " Normal{Float64}(μ=597.9601086928146, σ=0.5783052613905528)\n",
       " Normal{Float64}(μ=598.9978466431912, σ=0.5778223502875869)\n",
       " Normal{Float64}(μ=599.9948741813806, σ=0.5773406469256958)"
      ]
     },
     "execution_count": 18,
     "metadata": {},
     "output_type": "execute_result"
    }
   ],
   "source": [
    "@time kalman(data)"
   ]
  },
  {
   "cell_type": "code",
   "execution_count": 17,
   "metadata": {},
   "outputs": [
    {
     "name": "stdout",
     "output_type": "stream",
     "text": [
      "  1.516477 seconds (3.63 M allocations: 188.712 MiB, 2.39% gc time)\n"
     ]
    },
    {
     "data": {
      "text/plain": [
       "600-element Array{Normal{Float64},1}:\n",
       " Normal{Float64}(μ=2.314602396771967, σ=14.002800840280099)\n",
       " Normal{Float64}(μ=-0.0432330799734945, σ=9.950371902099892)\n",
       " Normal{Float64}(μ=-2.9318810219643043, σ=8.137884587711596)\n",
       " Normal{Float64}(μ=-3.1549322332810688, σ=7.053456158585984)\n",
       " Normal{Float64}(μ=-1.5655734926125944, σ=6.311944030978033)\n",
       " Normal{Float64}(μ=-1.1017514819323355, σ=5.763904177042351)\n",
       " Normal{Float64}(μ=-0.3097687207012802, σ=5.337605126836238)\n",
       " Normal{Float64}(μ=1.4790737893861803, σ=4.993761694389224)\n",
       " Normal{Float64}(μ=6.166962393857403, σ=4.708816093480111)\n",
       " Normal{Float64}(μ=8.36079961117114, σ=4.467670516087703)\n",
       " Normal{Float64}(μ=10.632594992771002, σ=4.2601432284230505)\n",
       " Normal{Float64}(μ=12.699187679724341, σ=4.079085082240021)\n",
       " Normal{Float64}(μ=13.869563800607509, σ=3.919309008348103)\n",
       " ⋮\n",
       " Normal{Float64}(μ=588.9156598191099, σ=0.582706653680032)\n",
       " Normal{Float64}(μ=589.9399966942094, σ=0.5822126418123303)\n",
       " Normal{Float64}(μ=590.9556907199351, σ=0.5817198842703781)\n",
       " Normal{Float64}(μ=591.9615951092563, σ=0.5812283757551306)\n",
       " Normal{Float64}(μ=592.936984964179, σ=0.5807381109988313)\n",
       " Normal{Float64}(μ=593.9257833757028, σ=0.5802490847647747)\n",
       " Normal{Float64}(μ=594.957692531799, σ=0.5797612918470711)\n",
       " Normal{Float64}(μ=595.9388500543423, σ=0.5792747270704146)\n",
       " Normal{Float64}(μ=596.926181333186, σ=0.5787893852898516)\n",
       " Normal{Float64}(μ=597.9601086928146, σ=0.5783052613905528)\n",
       " Normal{Float64}(μ=598.9978466431912, σ=0.5778223502875869)\n",
       " Normal{Float64}(μ=599.9948741813806, σ=0.5773406469256958)"
      ]
     },
     "execution_count": 17,
     "metadata": {},
     "output_type": "execute_result"
    }
   ],
   "source": [
    "@time kalman(data)"
   ]
  },
  {
   "cell_type": "code",
   "execution_count": null,
   "metadata": {},
   "outputs": [],
   "source": []
  }
 ],
 "metadata": {
  "kernelspec": {
   "display_name": "Julia 1.4.1",
   "language": "julia",
   "name": "julia-1.4"
  },
  "language_info": {
   "file_extension": ".jl",
   "mimetype": "application/julia",
   "name": "julia",
   "version": "1.4.1"
  }
 },
 "nbformat": 4,
 "nbformat_minor": 4
}
