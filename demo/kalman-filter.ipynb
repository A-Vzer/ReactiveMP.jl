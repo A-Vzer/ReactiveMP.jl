{
 "cells": [
  {
   "cell_type": "code",
   "execution_count": 7,
   "metadata": {},
   "outputs": [],
   "source": [
    "using Distributions\n",
    "using Rocket\n",
    "using ReactiveMP\n",
    "using BenchmarkTools\n",
    "\n",
    "using Profile\n",
    "using PProf\n",
    "using ProfileSVG\n",
    "\n",
    "import Base: show"
   ]
  },
  {
   "cell_type": "code",
   "execution_count": 3,
   "metadata": {},
   "outputs": [
    {
     "data": {
      "text/plain": [
       "kalman (generic function with 1 method)"
      ]
     },
     "execution_count": 3,
     "metadata": {},
     "output_type": "execute_result"
    }
   ],
   "source": [
    "function kalman_filter_graph()\n",
    "    model = Model(DefaultMessageGate())\n",
    "    \n",
    "    x_prev_add = add!(model, AdditionNode())\n",
    "    \n",
    "    x_prior = add!(model, datavar(:x_prior, Normal{Float64}))\n",
    "    add_1   = add!(model, constvar(:add_1, 1.0))\n",
    "\n",
    "    connect!(x_prev_add, :in1, x_prior, 1)\n",
    "    connect!(x_prev_add, :in2, add_1, 1)\n",
    "    \n",
    "    noise = add!(model, constvar(:noise, Normal(0.0, sqrt(200.0))))\n",
    "    \n",
    "    add_x_and_noise = add!(model, AdditionNode())\n",
    "    \n",
    "    x = add!(model, simplerandomvar(:x))\n",
    "    \n",
    "    connect!(x_prev_add, :out, x, 1)\n",
    "    connect!(add_x_and_noise, :in1, x, 2)\n",
    "    connect!(add_x_and_noise, :in2, noise, 1)\n",
    "    \n",
    "    y = add!(model, datavar(:y, Float64))\n",
    "    \n",
    "    connect!(add_x_and_noise, :out, y, 1)\n",
    "    \n",
    "    activate!(model, x_prev_add)\n",
    "    activate!(model, add_x_and_noise)\n",
    "    \n",
    "    return x_prior, x, y\n",
    "end\n",
    "\n",
    "function kalman(data)\n",
    "    N = length(data)\n",
    "    \n",
    "    x_prior, x, y = kalman_filter_graph()\n",
    "\n",
    "    link(x_prior, getmarginal(x))\n",
    "    \n",
    "    update!(x_prior, Normal(0.0, sqrt(10000.0)))\n",
    "    \n",
    "    marginals = Vector{Normal{Float64}}(undef, N)\n",
    "    \n",
    "    subscribe!(getmarginal(x) |> enumerate(), (t) -> marginals[t[1]] = getdata(t[2]))\n",
    "    \n",
    "    for d in data\n",
    "        update!(y, d)\n",
    "    end\n",
    "    \n",
    "    return marginals\n",
    "end"
   ]
  },
  {
   "cell_type": "code",
   "execution_count": 5,
   "metadata": {},
   "outputs": [],
   "source": [
    "N = 600\n",
    "data = collect(1:N) + sqrt(200.0) * randn(N);"
   ]
  },
  {
   "cell_type": "code",
   "execution_count": 37,
   "metadata": {},
   "outputs": [
    {
     "name": "stdout",
     "output_type": "stream",
     "text": [
      "  914.932 μs (14333 allocations: 639.34 KiB)\n"
     ]
    },
    {
     "data": {
      "text/plain": [
       "600-element Array{Normal{Float64},1}:\n",
       " Normal{Float64}(μ=14.071042598099691, σ=14.002800840280099)\n",
       " Normal{Float64}(μ=15.09464658849146, σ=9.950371902099892)\n",
       " Normal{Float64}(μ=15.802166658494807, σ=8.137884587711596)\n",
       " Normal{Float64}(μ=11.987173983617827, σ=7.053456158585984)\n",
       " Normal{Float64}(μ=10.970404828805968, σ=6.311944030978033)\n",
       " Normal{Float64}(μ=10.468979976770662, σ=5.763904177042351)\n",
       " Normal{Float64}(μ=11.219486933868867, σ=5.337605126836238)\n",
       " Normal{Float64}(μ=14.691935440044732, σ=4.993761694389224)\n",
       " Normal{Float64}(μ=14.807665709153707, σ=4.708816093480111)\n",
       " Normal{Float64}(μ=15.47896568077596, σ=4.467670516087703)\n",
       " Normal{Float64}(μ=14.182399601440263, σ=4.2601432284230505)\n",
       " Normal{Float64}(μ=13.97853782878819, σ=4.079085082240021)\n",
       " Normal{Float64}(μ=14.628001011390618, σ=3.919309008348103)\n",
       " ⋮\n",
       " Normal{Float64}(μ=589.2569002185809, σ=0.582706653680032)\n",
       " Normal{Float64}(μ=590.2194468444178, σ=0.5822126418123303)\n",
       " Normal{Float64}(μ=591.1986862097391, σ=0.5817198842703781)\n",
       " Normal{Float64}(μ=592.1938865375206, σ=0.5812283757551306)\n",
       " Normal{Float64}(μ=593.2164253227256, σ=0.5807381109988313)\n",
       " Normal{Float64}(μ=594.1913616697277, σ=0.5802490847647747)\n",
       " Normal{Float64}(μ=595.2058791266386, σ=0.5797612918470711)\n",
       " Normal{Float64}(μ=596.2058976908729, σ=0.5792747270704146)\n",
       " Normal{Float64}(μ=597.2507945974792, σ=0.5787893852898516)\n",
       " Normal{Float64}(μ=598.2145953304837, σ=0.5783052613905528)\n",
       " Normal{Float64}(μ=599.1958982236611, σ=0.5778223502875869)\n",
       " Normal{Float64}(μ=600.2012473806025, σ=0.5773406469256958)"
      ]
     },
     "execution_count": 37,
     "metadata": {},
     "output_type": "execute_result"
    }
   ],
   "source": [
    "@btime kalman($data)"
   ]
  },
  {
   "cell_type": "code",
   "execution_count": 35,
   "metadata": {},
   "outputs": [
    {
     "name": "stdout",
     "output_type": "stream",
     "text": [
      "  0.001500 seconds (14.33 k allocations: 639.344 KiB)\n"
     ]
    },
    {
     "data": {
      "text/plain": [
       "600-element Array{Normal{Float64},1}:\n",
       " Normal{Float64}(μ=14.071042598099691, σ=14.002800840280099)\n",
       " Normal{Float64}(μ=15.09464658849146, σ=9.950371902099892)\n",
       " Normal{Float64}(μ=15.802166658494807, σ=8.137884587711596)\n",
       " Normal{Float64}(μ=11.987173983617827, σ=7.053456158585984)\n",
       " Normal{Float64}(μ=10.970404828805968, σ=6.311944030978033)\n",
       " Normal{Float64}(μ=10.468979976770662, σ=5.763904177042351)\n",
       " Normal{Float64}(μ=11.219486933868867, σ=5.337605126836238)\n",
       " Normal{Float64}(μ=14.691935440044732, σ=4.993761694389224)\n",
       " Normal{Float64}(μ=14.807665709153707, σ=4.708816093480111)\n",
       " Normal{Float64}(μ=15.47896568077596, σ=4.467670516087703)\n",
       " Normal{Float64}(μ=14.182399601440263, σ=4.2601432284230505)\n",
       " Normal{Float64}(μ=13.97853782878819, σ=4.079085082240021)\n",
       " Normal{Float64}(μ=14.628001011390618, σ=3.919309008348103)\n",
       " ⋮\n",
       " Normal{Float64}(μ=589.2569002185809, σ=0.582706653680032)\n",
       " Normal{Float64}(μ=590.2194468444178, σ=0.5822126418123303)\n",
       " Normal{Float64}(μ=591.1986862097391, σ=0.5817198842703781)\n",
       " Normal{Float64}(μ=592.1938865375206, σ=0.5812283757551306)\n",
       " Normal{Float64}(μ=593.2164253227256, σ=0.5807381109988313)\n",
       " Normal{Float64}(μ=594.1913616697277, σ=0.5802490847647747)\n",
       " Normal{Float64}(μ=595.2058791266386, σ=0.5797612918470711)\n",
       " Normal{Float64}(μ=596.2058976908729, σ=0.5792747270704146)\n",
       " Normal{Float64}(μ=597.2507945974792, σ=0.5787893852898516)\n",
       " Normal{Float64}(μ=598.2145953304837, σ=0.5783052613905528)\n",
       " Normal{Float64}(μ=599.1958982236611, σ=0.5778223502875869)\n",
       " Normal{Float64}(μ=600.2012473806025, σ=0.5773406469256958)"
      ]
     },
     "execution_count": 35,
     "metadata": {},
     "output_type": "execute_result"
    }
   ],
   "source": [
    "@time kalman(data)"
   ]
  },
  {
   "cell_type": "code",
   "execution_count": 34,
   "metadata": {},
   "outputs": [
    {
     "name": "stdout",
     "output_type": "stream",
     "text": [
      "  1.961765 seconds (4.79 M allocations: 255.983 MiB, 3.36% gc time)\n"
     ]
    },
    {
     "data": {
      "text/plain": [
       "600-element Array{Normal{Float64},1}:\n",
       " Normal{Float64}(μ=14.071042598099691, σ=14.002800840280099)\n",
       " Normal{Float64}(μ=15.09464658849146, σ=9.950371902099892)\n",
       " Normal{Float64}(μ=15.802166658494807, σ=8.137884587711596)\n",
       " Normal{Float64}(μ=11.987173983617827, σ=7.053456158585984)\n",
       " Normal{Float64}(μ=10.970404828805968, σ=6.311944030978033)\n",
       " Normal{Float64}(μ=10.468979976770662, σ=5.763904177042351)\n",
       " Normal{Float64}(μ=11.219486933868867, σ=5.337605126836238)\n",
       " Normal{Float64}(μ=14.691935440044732, σ=4.993761694389224)\n",
       " Normal{Float64}(μ=14.807665709153707, σ=4.708816093480111)\n",
       " Normal{Float64}(μ=15.47896568077596, σ=4.467670516087703)\n",
       " Normal{Float64}(μ=14.182399601440263, σ=4.2601432284230505)\n",
       " Normal{Float64}(μ=13.97853782878819, σ=4.079085082240021)\n",
       " Normal{Float64}(μ=14.628001011390618, σ=3.919309008348103)\n",
       " ⋮\n",
       " Normal{Float64}(μ=589.2569002185809, σ=0.582706653680032)\n",
       " Normal{Float64}(μ=590.2194468444178, σ=0.5822126418123303)\n",
       " Normal{Float64}(μ=591.1986862097391, σ=0.5817198842703781)\n",
       " Normal{Float64}(μ=592.1938865375206, σ=0.5812283757551306)\n",
       " Normal{Float64}(μ=593.2164253227256, σ=0.5807381109988313)\n",
       " Normal{Float64}(μ=594.1913616697277, σ=0.5802490847647747)\n",
       " Normal{Float64}(μ=595.2058791266386, σ=0.5797612918470711)\n",
       " Normal{Float64}(μ=596.2058976908729, σ=0.5792747270704146)\n",
       " Normal{Float64}(μ=597.2507945974792, σ=0.5787893852898516)\n",
       " Normal{Float64}(μ=598.2145953304837, σ=0.5783052613905528)\n",
       " Normal{Float64}(μ=599.1958982236611, σ=0.5778223502875869)\n",
       " Normal{Float64}(μ=600.2012473806025, σ=0.5773406469256958)"
      ]
     },
     "execution_count": 34,
     "metadata": {},
     "output_type": "execute_result"
    }
   ],
   "source": [
    "@time kalman(data)"
   ]
  },
  {
   "cell_type": "code",
   "execution_count": null,
   "metadata": {},
   "outputs": [],
   "source": []
  }
 ],
 "metadata": {
  "kernelspec": {
   "display_name": "Julia 1.4.1",
   "language": "julia",
   "name": "julia-1.4"
  },
  "language_info": {
   "file_extension": ".jl",
   "mimetype": "application/julia",
   "name": "julia",
   "version": "1.4.1"
  }
 },
 "nbformat": 4,
 "nbformat_minor": 4
}
