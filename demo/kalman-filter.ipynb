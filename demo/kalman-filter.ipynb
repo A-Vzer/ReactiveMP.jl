{
 "cells": [
  {
   "cell_type": "code",
   "execution_count": 1,
   "metadata": {},
   "outputs": [
    {
     "name": "stderr",
     "output_type": "stream",
     "text": [
      "┌ Info: Precompiling ReactiveMP [a194aa59-28ba-4574-a09c-4a745416d6e3]\n",
      "└ @ Base loading.jl:1278\n",
      "┌ Warning: Package ReactiveMP does not have Rocket in its dependencies:\n",
      "│ - If you have ReactiveMP checked out for development and have\n",
      "│   added Rocket as a dependency but haven't updated your primary\n",
      "│   environment's manifest file, try `Pkg.resolve()`.\n",
      "│ - Otherwise you may need to report an issue with ReactiveMP\n",
      "└ Loading Rocket into ReactiveMP from project dependency, future warnings for ReactiveMP are suppressed.\n"
     ]
    }
   ],
   "source": [
    "using Distributions\n",
    "using Rocket\n",
    "using ReactiveMP\n",
    "using BenchmarkTools\n",
    "\n",
    "import Base: show"
   ]
  },
  {
   "cell_type": "code",
   "execution_count": 2,
   "metadata": {},
   "outputs": [
    {
     "data": {
      "text/plain": [
       "kalman (generic function with 1 method)"
      ]
     },
     "execution_count": 2,
     "metadata": {},
     "output_type": "execute_result"
    }
   ],
   "source": [
    "function kalman_filter_graph()\n",
    "    model = Model(DefaultMessageGate())\n",
    "    \n",
    "    x_prev_add = add!(model, AdditionNode())\n",
    "    \n",
    "    x_prior = add!(model, datavar(:x_prior, Normal{Float64}))\n",
    "    add_1   = add!(model, constvar(:add_1, 1.0))\n",
    "\n",
    "    connect!(x_prev_add, :in1, x_prior, 1)\n",
    "    connect!(x_prev_add, :in2, add_1, 1)\n",
    "    \n",
    "    noise = add!(model, constvar(:noise, Normal(0.0, sqrt(200.0))))\n",
    "    \n",
    "    add_x_and_noise = add!(model, AdditionNode())\n",
    "    \n",
    "    x = add!(model, simplerandomvar(:x))\n",
    "    \n",
    "    connect!(x_prev_add, :out, x, 1)\n",
    "    connect!(add_x_and_noise, :in1, x, 2)\n",
    "    connect!(add_x_and_noise, :in2, noise, 1)\n",
    "    \n",
    "    y = add!(model, datavar(:y, Float64))\n",
    "    \n",
    "    connect!(add_x_and_noise, :out, y, 1)\n",
    "    \n",
    "    activate!(model, x_prev_add)\n",
    "    activate!(model, add_x_and_noise)\n",
    "    \n",
    "    return x_prior, x, y\n",
    "end\n",
    "\n",
    "function kalman(data)\n",
    "    N = length(data)\n",
    "    \n",
    "    x_prior, x, y = kalman_filter_graph()\n",
    "\n",
    "    link(x_prior, getmarginal(x))\n",
    "    \n",
    "    update!(x_prior, Normal(0.0, sqrt(10000.0)))\n",
    "    \n",
    "    marginals = Vector{Normal{Float64}}(undef, N)\n",
    "    \n",
    "    subscribe!(getmarginal(x) |> enumerate(), (t) -> marginals[t[1]] = getdata(t[2]))\n",
    "    \n",
    "    for d in data\n",
    "        update!(y, d)\n",
    "    end\n",
    "    \n",
    "    return marginals\n",
    "end"
   ]
  },
  {
   "cell_type": "code",
   "execution_count": 3,
   "metadata": {},
   "outputs": [],
   "source": [
    "N = 600\n",
    "data = collect(1:N) + sqrt(200.0) * randn(N);"
   ]
  },
  {
   "cell_type": "code",
   "execution_count": 4,
   "metadata": {},
   "outputs": [
    {
     "name": "stdout",
     "output_type": "stream",
     "text": [
      "  2.667705 seconds (8.06 M allocations: 422.907 MiB, 3.62% gc time)\n"
     ]
    }
   ],
   "source": [
    "@time kalman(data); # Initial compilation"
   ]
  },
  {
   "cell_type": "code",
   "execution_count": 5,
   "metadata": {},
   "outputs": [
    {
     "name": "stdout",
     "output_type": "stream",
     "text": [
      "  0.001101 seconds (16.08 k allocations: 800.094 KiB)\n"
     ]
    }
   ],
   "source": [
    "@time kalman(data); # Subsequent runs"
   ]
  },
  {
   "cell_type": "code",
   "execution_count": 6,
   "metadata": {},
   "outputs": [
    {
     "name": "stdout",
     "output_type": "stream",
     "text": [
      "  640.589 μs (16080 allocations: 800.09 KiB)\n"
     ]
    },
    {
     "data": {
      "text/plain": [
       "600-element Array{Normal{Float64},1}:\n",
       " Normal{Float64}(μ=5.216984220239017, σ=14.002800840280099)\n",
       " Normal{Float64}(μ=-0.42640705421881425, σ=9.950371902099892)\n",
       " Normal{Float64}(μ=4.985703187318952, σ=8.137884587711596)\n",
       " Normal{Float64}(μ=2.290068924447841, σ=7.053456158585984)\n",
       " Normal{Float64}(μ=-1.9465124077606142, σ=6.311944030978033)\n",
       " Normal{Float64}(μ=-0.27608761782530605, σ=5.763904177042351)\n",
       " Normal{Float64}(μ=1.1176600143147766, σ=5.337605126836238)\n",
       " Normal{Float64}(μ=5.854201809706914, σ=4.993761694389224)\n",
       " Normal{Float64}(μ=7.1860242099114435, σ=4.708816093480111)\n",
       " Normal{Float64}(μ=9.431987769905843, σ=4.467670516087703)\n",
       " Normal{Float64}(μ=11.372019921984476, σ=4.2601432284230505)\n",
       " Normal{Float64}(μ=10.205933392039155, σ=4.079085082240021)\n",
       " Normal{Float64}(μ=11.595586299535368, σ=3.919309008348103)\n",
       " ⋮\n",
       " Normal{Float64}(μ=589.2943278819521, σ=0.582706653680032)\n",
       " Normal{Float64}(μ=590.3108040530734, σ=0.5822126418123303)\n",
       " Normal{Float64}(μ=591.3044481323087, σ=0.5817198842703781)\n",
       " Normal{Float64}(μ=592.300717432935, σ=0.5812283757551306)\n",
       " Normal{Float64}(μ=593.305154600443, σ=0.5807381109988313)\n",
       " Normal{Float64}(μ=594.3652065270056, σ=0.5802490847647747)\n",
       " Normal{Float64}(μ=595.3144393645716, σ=0.5797612918470711)\n",
       " Normal{Float64}(μ=596.2911380613763, σ=0.5792747270704146)\n",
       " Normal{Float64}(μ=597.3082509371718, σ=0.5787893852898516)\n",
       " Normal{Float64}(μ=598.3085358808548, σ=0.5783052613905528)\n",
       " Normal{Float64}(μ=599.3305708487385, σ=0.5778223502875869)\n",
       " Normal{Float64}(μ=600.3186868636332, σ=0.5773406469256958)"
      ]
     },
     "execution_count": 6,
     "metadata": {},
     "output_type": "execute_result"
    }
   ],
   "source": [
    "@btime kalman($data) # Performance benchmark"
   ]
  },
  {
   "cell_type": "code",
   "execution_count": null,
   "metadata": {},
   "outputs": [],
   "source": []
  }
 ],
 "metadata": {
  "kernelspec": {
   "display_name": "Julia 1.5.0",
   "language": "julia",
   "name": "julia-1.5"
  },
  "language_info": {
   "file_extension": ".jl",
   "mimetype": "application/julia",
   "name": "julia",
   "version": "1.5.0"
  }
 },
 "nbformat": 4,
 "nbformat_minor": 4
}
