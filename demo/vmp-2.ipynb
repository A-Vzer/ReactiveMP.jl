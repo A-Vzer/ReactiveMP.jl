{
 "cells": [
  {
   "cell_type": "code",
   "execution_count": 5,
   "metadata": {},
   "outputs": [],
   "source": [
    "using Distributions\n",
    "using Rocket\n",
    "using ReactiveMP\n",
    "using BenchmarkTools\n",
    "using StaticArrays\n",
    "\n",
    "using Profile\n",
    "using PProf\n",
    "using ProfileSVG\n",
    "\n",
    "import Base: show"
   ]
  },
  {
   "cell_type": "code",
   "execution_count": 6,
   "metadata": {},
   "outputs": [],
   "source": [
    "meanv = datavar(:mean, NormalMeanPrecision{Float64})\n",
    "precv = datavar(:precision, GammaAB{Float64})\n",
    "\n",
    "gmpnode = GaussianMeanPrecisionNode(factorisation = SA[ SA[1], SA[2], SA[3] ])\n",
    "\n",
    "connect!(gmpnode, :mean, meanv, 1)\n",
    "connect!(gmpnode, :precision, precv, 1)\n",
    "\n",
    "y = datavar(:y, Float64)\n",
    "\n",
    "connect!(gmpnode, :value, y, 1)\n",
    "\n",
    "activate!(gmpnode)\n",
    "\n",
    "setbelief!(meanv, NormalMeanPrecision(0.0, 0.001))\n",
    "setbelief!(precv, GammaAB(0.01, 0.01))"
   ]
  },
  {
   "cell_type": "code",
   "execution_count": 7,
   "metadata": {},
   "outputs": [],
   "source": [
    "realprecision = 0.001\n",
    "realmean = -100.0\n",
    "\n",
    "data = rand(Normal(realmean, sqrt(1.0 / realprecision)), (1000, )) .+ 10;"
   ]
  },
  {
   "cell_type": "code",
   "execution_count": 8,
   "metadata": {
    "scrolled": false
   },
   "outputs": [
    {
     "name": "stdout",
     "output_type": "stream",
     "text": [
      "[meanv] Data: -88.05273150121674\n",
      "[precv] Data: 0.0010335619177398205\n"
     ]
    },
    {
     "data": {
      "text/plain": [
       "SwitchMapSubscription()"
      ]
     },
     "execution_count": 8,
     "metadata": {},
     "output_type": "execute_result"
    }
   ],
   "source": [
    "averageE = combineLatest(\n",
    "    (getbelief(meanv), getbelief(precv), getbelief(y)), \n",
    "    true, \n",
    "    (Float64, (beliefs) -> averageEnergy(NormalMeanPrecision, beliefs))\n",
    ")\n",
    "\n",
    "differentialE = combineLatest(\n",
    "    (getbelief(meanv), getbelief(precv)),\n",
    "    true,\n",
    "    (Float64, (beliefs) -> reduce(+, map(differentialEntropy, beliefs)))\n",
    ")\n",
    "\n",
    "n = 100\n",
    "iters = 5\n",
    "\n",
    "fe = Matrix{Float64}(undef, n, iters)\n",
    "\n",
    "# subscribe!(getbelief(tmp), logger())\n",
    "\n",
    "for i in 1:n\n",
    "    \n",
    "    meanprior = nothing\n",
    "    precprior = nothing\n",
    "    \n",
    "    subscribe!(getbelief(meanv) |> take(1) |> discontinue() |> map(AbstractMessage, ReactiveMP.as_message), (d) -> meanprior = d)\n",
    "    subscribe!(getbelief(precv) |> take(1) |> discontinue() |> map(AbstractMessage, ReactiveMP.as_message), (d) -> precprior = d)\n",
    "    \n",
    "    # update!(meanv, meanprior)\n",
    "    # update!(precv, precprior)\n",
    "    \n",
    "    averageGamma = combineLatest(\n",
    "        (of(as_belief(getdata(precprior).a)), of(as_belief(getdata(precprior).b)), getbelief(precv)),\n",
    "        true,\n",
    "        (Float64, (d) -> averageEnergy(GammaAB, d))\n",
    "    )\n",
    "    \n",
    "    averageNormal = combineLatest(\n",
    "        (of(as_belief(getdata(meanprior).mean)), of(as_belief(getdata(meanprior).precision)), getbelief(meanv)),\n",
    "        true,\n",
    "        (Float64, (d) -> averageEnergy(NormalMeanPrecision, d))\n",
    "    ) \n",
    "    \n",
    "    freeEnergy = combineLatest(\n",
    "        (averageE, averageGamma, averageNormal, differentialE),\n",
    "        true,\n",
    "        (Float64, (d) -> d[1] + d[2] + d[3] - d[4])\n",
    "    )\n",
    "    \n",
    "    for j in 1:iters\n",
    "        subscription = subscribe!(freeEnergy, (d) -> fe[i, j] = d)\n",
    "        update!(meanv, meanprior)\n",
    "        update!(precv, precprior)\n",
    "        update!(y, data[i])\n",
    "        unsubscribe!(subscription)\n",
    "    end\n",
    "end\n",
    "\n",
    "subscribe!(getbelief(meanv) |> map(Any, mean) |> take(1) |> skip_complete(), logger(\"meanv\"))\n",
    "subscribe!(getbelief(precv) |> map(Any, mean) |> take(1) |> skip_complete(), logger(\"precv\"))"
   ]
  },
  {
   "cell_type": "code",
   "execution_count": 9,
   "metadata": {},
   "outputs": [
    {
     "data": {
      "text/plain": [
       "1×5 Array{Float64,2}:\n",
       " 452.288  447.884  447.819  447.815  447.814"
      ]
     },
     "execution_count": 9,
     "metadata": {},
     "output_type": "execute_result"
    }
   ],
   "source": [
    "sum(fe, dims = 1)"
   ]
  },
  {
   "cell_type": "code",
   "execution_count": 10,
   "metadata": {},
   "outputs": [
    {
     "data": {
      "text/plain": [
       "100×5 Array{Float64,2}:\n",
       " 9.42832  9.384    9.37861  9.37493  9.37399\n",
       " 5.80164  5.76841  5.76625  5.76616  5.76616\n",
       " 5.25593  5.25072  5.25063  5.25063  5.25063\n",
       " 6.004    5.78352  5.76451  5.76426  5.76425\n",
       " 4.82185  4.68966  4.6892   4.6892   4.6892\n",
       " 4.53264  4.53224  4.53224  4.53224  4.53224\n",
       " 5.49632  5.2859   5.28134  5.28133  5.28133\n",
       " 4.5551   4.48794  4.48778  4.48778  4.48778\n",
       " 4.35966  4.35736  4.35736  4.35736  4.35736\n",
       " 6.35152  5.92413  5.91188  5.91186  5.91186\n",
       " 5.19169  4.90798  4.90759  4.90759  4.90759\n",
       " 4.60457  4.51108  4.51105  4.51105  4.51105\n",
       " 4.53626  4.53496  4.53496  4.53496  4.53496\n",
       " ⋮                                   \n",
       " 3.90087  3.90031  3.90031  3.90031  3.90031\n",
       " 4.19274  4.18639  4.18639  4.18639  4.18639\n",
       " 3.90305  3.8997   3.8997   3.8997   3.8997\n",
       " 4.14849  4.14239  4.14239  4.14239  4.14239\n",
       " 3.92971  3.92224  3.92224  3.92224  3.92224\n",
       " 4.07275  4.06674  4.06674  4.06674  4.06674\n",
       " 4.09206  4.08113  4.08113  4.08113  4.08113\n",
       " 3.98452  3.97609  3.97609  3.97609  3.97609\n",
       " 5.44433  5.41152  5.4115   5.4115   5.4115\n",
       " 3.92394  3.88686  3.88686  3.88686  3.88686\n",
       " 4.38248  4.37116  4.37116  4.37116  4.37116\n",
       " 4.93905  4.93436  4.93436  4.93436  4.93436"
      ]
     },
     "execution_count": 10,
     "metadata": {},
     "output_type": "execute_result"
    }
   ],
   "source": [
    "fe"
   ]
  },
  {
   "cell_type": "code",
   "execution_count": 9,
   "metadata": {},
   "outputs": [
    {
     "data": {
      "text/plain": [
       "1.0"
      ]
     },
     "execution_count": 9,
     "metadata": {},
     "output_type": "execute_result"
    }
   ],
   "source": [
    "ReactiveMP.averageEnergy(GammaAB, (Belief(1.0), Belief(1.0), Belief(GammaAB(1.0, 1.0))))"
   ]
  },
  {
   "cell_type": "code",
   "execution_count": null,
   "metadata": {},
   "outputs": [],
   "source": []
  }
 ],
 "metadata": {
  "kernelspec": {
   "display_name": "Julia 1.4.1",
   "language": "julia",
   "name": "julia-1.4"
  },
  "language_info": {
   "file_extension": ".jl",
   "mimetype": "application/julia",
   "name": "julia",
   "version": "1.4.1"
  }
 },
 "nbformat": 4,
 "nbformat_minor": 4
}
