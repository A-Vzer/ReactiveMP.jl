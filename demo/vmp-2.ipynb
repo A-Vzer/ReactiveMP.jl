{
 "cells": [
  {
   "cell_type": "code",
   "execution_count": 1,
   "metadata": {},
   "outputs": [
    {
     "name": "stderr",
     "output_type": "stream",
     "text": [
      "┌ Info: Precompiling ReactiveMP [a194aa59-28ba-4574-a09c-4a745416d6e3]\n",
      "└ @ Base loading.jl:1260\n",
      "┌ Warning: Package ReactiveMP does not have Rocket in its dependencies:\n",
      "│ - If you have ReactiveMP checked out for development and have\n",
      "│   added Rocket as a dependency but haven't updated your primary\n",
      "│   environment's manifest file, try `Pkg.resolve()`.\n",
      "│ - Otherwise you may need to report an issue with ReactiveMP\n",
      "└ Loading Rocket into ReactiveMP from project dependency, future warnings for ReactiveMP are suppressed.\n"
     ]
    }
   ],
   "source": [
    "using Distributions\n",
    "using Rocket\n",
    "using ReactiveMP\n",
    "using BenchmarkTools\n",
    "using StaticArrays\n",
    "\n",
    "using Profile\n",
    "using PProf\n",
    "using ProfileSVG\n",
    "\n",
    "import Base: show"
   ]
  },
  {
   "cell_type": "code",
   "execution_count": 8,
   "metadata": {},
   "outputs": [],
   "source": [
    "meanv = datavar(:mean, NormalMeanPrecision{Float64})\n",
    "precv = datavar(:precision, GammaAB{Float64})\n",
    "\n",
    "gmpnode = GaussianMeanPrecisionNode(factorisation = SA[ SA[1], SA[2], SA[3] ])\n",
    "\n",
    "connect!(gmpnode, :mean, meanv, 1)\n",
    "connect!(gmpnode, :precision, precv, 1)\n",
    "\n",
    "addnode = AdditionNode()\n",
    "\n",
    "tmp  = simplerandomvar(:tmp)\n",
    "one1 = constvar(:one1, 10.0)\n",
    "\n",
    "connect!(gmpnode, :value, tmp, 1)\n",
    "connect!(addnode, :in1, tmp, 2)\n",
    "connect!(addnode, :in2, one1, 1)\n",
    "\n",
    "y = datavar(:y, Float64)\n",
    "\n",
    "connect!(addnode, :out, y, 1)\n",
    "\n",
    "activate!(gmpnode)\n",
    "activate!(addnode)\n",
    "\n",
    "qmeanupdate = link(meanv, getbelief(meanv))\n",
    "qprecupdate = link(precv, getbelief(precv))\n",
    "\n",
    "setbelief!(meanv, NormalMeanPrecision(0.0, 0.001))\n",
    "setbelief!(precv, GammaAB(0.001, 0.001))\n",
    "\n",
    "update!(meanv, NormalMeanPrecision(0.0, 0.001))\n",
    "update!(precv, GammaAB(0.001, 0.001))"
   ]
  },
  {
   "cell_type": "code",
   "execution_count": 9,
   "metadata": {},
   "outputs": [],
   "source": [
    "realprecision = 0.01\n",
    "realmean = -10\n",
    "\n",
    "data = rand(Normal(realmean, sqrt(1.0 / realprecision)), (1000, )) .+ 10;"
   ]
  },
  {
   "cell_type": "code",
   "execution_count": 10,
   "metadata": {
    "scrolled": false
   },
   "outputs": [
    {
     "name": "stdout",
     "output_type": "stream",
     "text": [
      "[meanv] Data: -10.167127528536172\n",
      "[precv] Data: 0.011029194480575953\n"
     ]
    },
    {
     "data": {
      "text/plain": [
       "SwitchMapSubscription()"
      ]
     },
     "execution_count": 10,
     "metadata": {},
     "output_type": "execute_result"
    }
   ],
   "source": [
    "for i in 1:1000\n",
    "    for j in 1:50\n",
    "        update!(y, data[i])\n",
    "    end\n",
    "end\n",
    "\n",
    "subscribe!(getbelief(meanv) |> map(Any, mean) |> take(1) |> skip_complete(), logger(\"meanv\"))\n",
    "subscribe!(getbelief(precv) |> map(Any, mean) |> take(1) |> skip_complete(), logger(\"precv\"))"
   ]
  },
  {
   "cell_type": "code",
   "execution_count": null,
   "metadata": {},
   "outputs": [],
   "source": []
  },
  {
   "cell_type": "code",
   "execution_count": null,
   "metadata": {},
   "outputs": [],
   "source": []
  }
 ],
 "metadata": {
  "kernelspec": {
   "display_name": "Julia 1.4.1",
   "language": "julia",
   "name": "julia-1.4"
  },
  "language_info": {
   "file_extension": ".jl",
   "mimetype": "application/julia",
   "name": "julia",
   "version": "1.4.1"
  }
 },
 "nbformat": 4,
 "nbformat_minor": 4
}
