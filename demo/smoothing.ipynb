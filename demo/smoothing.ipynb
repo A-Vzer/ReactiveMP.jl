{
 "cells": [
  {
   "cell_type": "code",
   "execution_count": 20,
   "metadata": {},
   "outputs": [],
   "source": [
    "using Rocket\n",
    "using Distributions\n",
    "using ReactiveMP\n",
    "using BenchmarkTools\n",
    "\n",
    "import Base: show"
   ]
  },
  {
   "cell_type": "code",
   "execution_count": 21,
   "metadata": {},
   "outputs": [
    {
     "data": {
      "text/plain": [
       "createGraph (generic function with 1 method)"
      ]
     },
     "execution_count": 21,
     "metadata": {},
     "output_type": "execute_result"
    }
   ],
   "source": [
    "function createSubgraph(index::Int)\n",
    "    noise_add      = AdditionNode(\"[$index] noise_add\");\n",
    "    noise_node     = GaussianMeanVarianceNode(\"[$index] noise_node\");\n",
    "    noise_mean     = ConstantVariable(\"[$index] noise_mean\", 0.0, noise_node.mean);\n",
    "    noise_variance = ConstantVariable(\"[$index] noise_variance\", 1.0, noise_node.variance);\n",
    "    \n",
    "    tmp = RandomVariable(\"[$index] tmp\", noise_node.value, noise_add.in2)\n",
    "    yn  = ObservedVariable(\"[$index] yn\", noise_add.out)\n",
    "    \n",
    "    return (yn, noise_add)\n",
    "end\n",
    "\n",
    "function createGraph(size::Int)\n",
    "    gmv_0   = GaussianMeanVarianceNode(\"[0] gmv\");\n",
    "    gmv_0_m = PriorVariable(\"[0] gmv_m\", gmv_0.mean);\n",
    "    gmv_0_v = PriorVariable(\"[0] gmv_v\", gmv_0.variance);\n",
    "    \n",
    "    add_c_0 = AdditionNode(\"[0] add_c\");\n",
    "    x0      = RandomVariable(\"[0] x\", gmv_0.value, add_c_0.in1)\n",
    "    c0      = ConstantVariable(\"[0] c\", 1.0, add_c_0.in2)\n",
    "    \n",
    "    index = 1\n",
    "    \n",
    "    prev_add_c = add_c_0\n",
    "    \n",
    "    xs = Vector{RandomVariable}(undef, size)\n",
    "    ys = Vector{ObservedVariable}(undef, size)\n",
    "    \n",
    "    while index < size\n",
    "        equality_n    = EqualityIOONode(\"[$index] equality\")\n",
    "        yn, noise_add = createSubgraph(index)\n",
    "        \n",
    "        xn  = RandomVariable(\"[$index] xn\", prev_add_c.out, equality_n.in1)\n",
    "        xn_ = RandomVariable(\"[$index] xn_\", equality_n.out1, noise_add.in1)\n",
    "        \n",
    "        add_c = AdditionNode(\"[$index] add_c\");\n",
    "        \n",
    "        xn__ = RandomVariable(\"[$index] xn__\", equality_n.out2, add_c.in1)\n",
    "        cn   = ConstantVariable(\"[$index] cn\", 1.0, add_c.in2)\n",
    "        \n",
    "        xs[index] = xn\n",
    "        ys[index] = yn\n",
    "        \n",
    "        prev_add_c = add_c\n",
    "        \n",
    "        index += 1\n",
    "    end\n",
    "    \n",
    "    last_noise_add = AdditionNode(\"[last] noise_add\");\n",
    "    x_last         = RandomVariable(\"[last] x\", prev_add_c.out, last_noise_add.in1)\n",
    "    \n",
    "    last_noise_node     = GaussianMeanVarianceNode(\"[last] noise_node\");\n",
    "    last_noise_mean     = ConstantVariable(\"[last] noise_mean\", 0.0, last_noise_node.mean);\n",
    "    last_noise_variance = ConstantVariable(\"[last] noise_variance\", 200.0, last_noise_node.variance);\n",
    "    \n",
    "    z      = RandomVariable(\"[last] z\", last_noise_node.value, last_noise_add.in2)\n",
    "    y_last = ObservedVariable(\"[last] y\", last_noise_add.out)\n",
    "    \n",
    "    xs[size] = x_last\n",
    "    ys[size] = y_last\n",
    "    \n",
    "    return (xs, ys, gmv_0_m, gmv_0_v)\n",
    "end"
   ]
  },
  {
   "cell_type": "code",
   "execution_count": 22,
   "metadata": {},
   "outputs": [
    {
     "data": {
      "text/plain": [
       "smoothing_replay (generic function with 1 method)"
      ]
     },
     "execution_count": 22,
     "metadata": {},
     "output_type": "execute_result"
    }
   ],
   "source": [
    "function smoothing_replay()\n",
    "    N = 600\n",
    "    data = collect(1:N) + sqrt(200.0) * randn(N);\n",
    "    \n",
    "    xs, ys, prior_m, prior_v = createGraph(N);\n",
    "    \n",
    "    keep_actor = keep(AbstractMessage)\n",
    "    \n",
    "    subscribe!(inference(xs[1]) |> take(1), keep_actor)\n",
    "    subscribe!(inference(xs[N]) |> take(1), keep_actor)\n",
    "    \n",
    "    update!(prior_m, 0.0)\n",
    "    update!(prior_v, 1000.0)\n",
    "    for i in 1:N\n",
    "       update!(ys[i], data[i])\n",
    "    end\n",
    "    \n",
    "    for i in 2:N-1\n",
    "        subscribe!(inference(xs[i]) |> take(1), keep_actor)\n",
    "    end\n",
    "    \n",
    "    return keep_actor.values\n",
    "end"
   ]
  },
  {
   "cell_type": "code",
   "execution_count": 23,
   "metadata": {
    "scrolled": true
   },
   "outputs": [
    {
     "name": "stdout",
     "output_type": "stream",
     "text": [
      "  2.817 s (21403097 allocations: 675.61 MiB)\n"
     ]
    }
   ],
   "source": [
    "@btime smoothing_replay();"
   ]
  },
  {
   "cell_type": "code",
   "execution_count": 24,
   "metadata": {
    "scrolled": false
   },
   "outputs": [
    {
     "data": {
      "text/plain": [
       "600-element Array{AbstractMessage,1}:\n",
       " StochasticMessage{Normal{Float64}}(Normal{Float64}(μ=1.6924875153548262, σ=0.04085868768828826))\n",
       " StochasticMessage{Normal{Float64}}(Normal{Float64}(μ=600.692487515354, σ=0.040858687688288306)) \n",
       " StochasticMessage{Normal{Float64}}(Normal{Float64}(μ=2.692487515354826, σ=0.04085868768828826)) \n",
       " StochasticMessage{Normal{Float64}}(Normal{Float64}(μ=3.692487515354826, σ=0.04085868768828825)) \n",
       " StochasticMessage{Normal{Float64}}(Normal{Float64}(μ=4.692487515354826, σ=0.04085868768828825)) \n",
       " StochasticMessage{Normal{Float64}}(Normal{Float64}(μ=5.692487515354826, σ=0.04085868768828826)) \n",
       " StochasticMessage{Normal{Float64}}(Normal{Float64}(μ=6.692487515354825, σ=0.04085868768828826)) \n",
       " StochasticMessage{Normal{Float64}}(Normal{Float64}(μ=7.692487515354825, σ=0.04085868768828826)) \n",
       " StochasticMessage{Normal{Float64}}(Normal{Float64}(μ=8.692487515354827, σ=0.04085868768828826)) \n",
       " StochasticMessage{Normal{Float64}}(Normal{Float64}(μ=9.692487515354825, σ=0.04085868768828826)) \n",
       " StochasticMessage{Normal{Float64}}(Normal{Float64}(μ=10.692487515354825, σ=0.04085868768828826))\n",
       " StochasticMessage{Normal{Float64}}(Normal{Float64}(μ=11.692487515354825, σ=0.04085868768828826))\n",
       " StochasticMessage{Normal{Float64}}(Normal{Float64}(μ=12.692487515354825, σ=0.04085868768828826))\n",
       " ⋮                                                                                               \n",
       " StochasticMessage{Normal{Float64}}(Normal{Float64}(μ=588.6924875153541, σ=0.04085868768828831)) \n",
       " StochasticMessage{Normal{Float64}}(Normal{Float64}(μ=589.6924875153541, σ=0.04085868768828832)) \n",
       " StochasticMessage{Normal{Float64}}(Normal{Float64}(μ=590.6924875153541, σ=0.04085868768828832)) \n",
       " StochasticMessage{Normal{Float64}}(Normal{Float64}(μ=591.6924875153538, σ=0.04085868768828831)) \n",
       " StochasticMessage{Normal{Float64}}(Normal{Float64}(μ=592.692487515354, σ=0.04085868768828831))  \n",
       " StochasticMessage{Normal{Float64}}(Normal{Float64}(μ=593.6924875153538, σ=0.040858687688288306))\n",
       " StochasticMessage{Normal{Float64}}(Normal{Float64}(μ=594.6924875153537, σ=0.040858687688288306))\n",
       " StochasticMessage{Normal{Float64}}(Normal{Float64}(μ=595.6924875153538, σ=0.0408586876882883))  \n",
       " StochasticMessage{Normal{Float64}}(Normal{Float64}(μ=596.6924875153537, σ=0.0408586876882883))  \n",
       " StochasticMessage{Normal{Float64}}(Normal{Float64}(μ=597.6924875153538, σ=0.0408586876882883))  \n",
       " StochasticMessage{Normal{Float64}}(Normal{Float64}(μ=598.6924875153538, σ=0.040858687688288306))\n",
       " StochasticMessage{Normal{Float64}}(Normal{Float64}(μ=599.692487515354, σ=0.040858687688288306)) "
      ]
     },
     "execution_count": 24,
     "metadata": {},
     "output_type": "execute_result"
    }
   ],
   "source": [
    "smoothing_replay()"
   ]
  },
  {
   "cell_type": "code",
   "execution_count": null,
   "metadata": {},
   "outputs": [],
   "source": []
  }
 ],
 "metadata": {
  "kernelspec": {
   "display_name": "Julia 1.3.0",
   "language": "julia",
   "name": "julia-1.3"
  },
  "language_info": {
   "file_extension": ".jl",
   "mimetype": "application/julia",
   "name": "julia",
   "version": "1.3.1"
  }
 },
 "nbformat": 4,
 "nbformat_minor": 4
}
