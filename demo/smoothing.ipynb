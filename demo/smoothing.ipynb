{
 "cells": [
  {
   "cell_type": "code",
   "execution_count": 1,
   "metadata": {},
   "outputs": [
    {
     "name": "stderr",
     "output_type": "stream",
     "text": [
      "┌ Info: Precompiling Rocket [df971d30-c9d6-4b37-b8ff-e965b2cb3a40]\n",
      "└ @ Base loading.jl:1273\n",
      "┌ Info: Precompiling ReactiveMP [a194aa59-28ba-4574-a09c-4a745416d6e3]\n",
      "└ @ Base loading.jl:1273\n",
      "┌ Warning: Package ReactiveMP does not have Rocket in its dependencies:\n",
      "│ - If you have ReactiveMP checked out for development and have\n",
      "│   added Rocket as a dependency but haven't updated your primary\n",
      "│   environment's manifest file, try `Pkg.resolve()`.\n",
      "│ - Otherwise you may need to report an issue with ReactiveMP\n",
      "└ Loading Rocket into ReactiveMP from project dependency, future warnings for ReactiveMP are suppressed.\n",
      "┌ Warning: Package ForneyLab does not have Distributions in its dependencies:\n",
      "│ - If you have ForneyLab checked out for development and have\n",
      "│   added Distributions as a dependency but haven't updated your primary\n",
      "│   environment's manifest file, try `Pkg.resolve()`.\n",
      "│ - Otherwise you may need to report an issue with ForneyLab\n",
      "└ Loading Distributions into ForneyLab from project dependency, future warnings for ForneyLab are suppressed.\n",
      "WARNING: using ForneyLab.Interface in module ReactiveMP conflicts with an existing identifier.\n",
      "┌ Warning: The call to compilecache failed to create a usable precompiled cache file for ReactiveMP [a194aa59-28ba-4574-a09c-4a745416d6e3]\n",
      "│   exception = ErrorException(\"Required dependency ForneyLab [9fc3f58a-c2cc-5bff-9419-6a294fefdca9] failed to load from a cache file.\")\n",
      "└ @ Base loading.jl:1036\n",
      "┌ Warning: Package ReactiveMP does not have Rocket in its dependencies:\n",
      "│ - If you have ReactiveMP checked out for development and have\n",
      "│   added Rocket as a dependency but haven't updated your primary\n",
      "│   environment's manifest file, try `Pkg.resolve()`.\n",
      "│ - Otherwise you may need to report an issue with ReactiveMP\n",
      "│ Loading Rocket into ReactiveMP from project dependency, future warnings for ReactiveMP are suppressed.\n",
      "└ @ nothing nothing:904\n",
      "┌ Info: Precompiling ForneyLab [9fc3f58a-c2cc-5bff-9419-6a294fefdca9]\n",
      "└ @ Base loading.jl:1273\n",
      "┌ Warning: Package ForneyLab does not have Distributions in its dependencies:\n",
      "│ - If you have ForneyLab checked out for development and have\n",
      "│   added Distributions as a dependency but haven't updated your primary\n",
      "│   environment's manifest file, try `Pkg.resolve()`.\n",
      "│ - Otherwise you may need to report an issue with ForneyLab\n",
      "└ Loading Distributions into ForneyLab from project dependency, future warnings for ForneyLab are suppressed.\n",
      "WARNING: using ForneyLab.Interface in module ReactiveMP conflicts with an existing identifier.\n"
     ]
    }
   ],
   "source": [
    "using Rocket\n",
    "using Distributions\n",
    "using ReactiveMP\n",
    "using BenchmarkTools\n",
    "\n",
    "import Base: show"
   ]
  },
  {
   "cell_type": "code",
   "execution_count": 2,
   "metadata": {},
   "outputs": [
    {
     "data": {
      "text/plain": [
       "createGraph (generic function with 1 method)"
      ]
     },
     "execution_count": 2,
     "metadata": {},
     "output_type": "execute_result"
    }
   ],
   "source": [
    "function createSubgraph(index::Int)\n",
    "    noise_add      = AdditionNode(\"[$index] noise_add\");\n",
    "    noise_node     = GaussianMeanVarianceNode(\"[$index] noise_node\");\n",
    "    noise_mean     = ConstantVariable(\"[$index] noise_mean\", 0.0, noise_node.mean);\n",
    "    noise_variance = ConstantVariable(\"[$index] noise_variance\", 1.0, noise_node.variance);\n",
    "    \n",
    "    tmp = RandomVariable(\"[$index] tmp\", noise_node.value, noise_add.in2)\n",
    "    yn  = ObservedVariable(\"[$index] yn\", noise_add.out)\n",
    "    \n",
    "    return (yn, noise_add)\n",
    "end\n",
    "\n",
    "function createGraph(size::Int)\n",
    "    gmv_0   = GaussianMeanVarianceNode(\"[0] gmv\");\n",
    "    gmv_0_m = PriorVariable(\"[0] gmv_m\", gmv_0.mean);\n",
    "    gmv_0_v = PriorVariable(\"[0] gmv_v\", gmv_0.variance);\n",
    "    \n",
    "    add_c_0 = AdditionNode(\"[0] add_c\");\n",
    "    x0      = RandomVariable(\"[0] x\", gmv_0.value, add_c_0.in1)\n",
    "    c0      = ConstantVariable(\"[0] c\", 1.0, add_c_0.in2)\n",
    "    \n",
    "    index = 1\n",
    "    \n",
    "    prev_add_c = add_c_0\n",
    "    \n",
    "    xs = Vector{RandomVariable}(undef, size)\n",
    "    ys = Vector{ObservedVariable}(undef, size)\n",
    "    \n",
    "    while index < size\n",
    "        equality_n    = EqualityIOONode(\"[$index] equality\")\n",
    "        yn, noise_add = createSubgraph(index)\n",
    "        \n",
    "        xn  = RandomVariable(\"[$index] xn\", prev_add_c.out, equality_n.in1)\n",
    "        xn_ = RandomVariable(\"[$index] xn_\", equality_n.out1, noise_add.in1)\n",
    "        \n",
    "        add_c = AdditionNode(\"[$index] add_c\");\n",
    "        \n",
    "        xn__ = RandomVariable(\"[$index] xn__\", equality_n.out2, add_c.in1)\n",
    "        cn   = ConstantVariable(\"[$index] cn\", 1.0, add_c.in2)\n",
    "        \n",
    "        xs[index] = xn\n",
    "        ys[index] = yn\n",
    "        \n",
    "        prev_add_c = add_c\n",
    "        \n",
    "        index += 1\n",
    "    end\n",
    "    \n",
    "    last_noise_add = AdditionNode(\"[last] noise_add\");\n",
    "    x_last         = RandomVariable(\"[last] x\", prev_add_c.out, last_noise_add.in1)\n",
    "    \n",
    "    last_noise_node     = GaussianMeanVarianceNode(\"[last] noise_node\");\n",
    "    last_noise_mean     = ConstantVariable(\"[last] noise_mean\", 0.0, last_noise_node.mean);\n",
    "    last_noise_variance = ConstantVariable(\"[last] noise_variance\", 200.0, last_noise_node.variance);\n",
    "    \n",
    "    z      = RandomVariable(\"[last] z\", last_noise_node.value, last_noise_add.in2)\n",
    "    y_last = ObservedVariable(\"[last] y\", last_noise_add.out)\n",
    "    \n",
    "    xs[size] = x_last\n",
    "    ys[size] = y_last\n",
    "    \n",
    "    return (xs, ys, gmv_0_m, gmv_0_v)\n",
    "end"
   ]
  },
  {
   "cell_type": "code",
   "execution_count": 3,
   "metadata": {},
   "outputs": [
    {
     "data": {
      "text/plain": [
       "smoothing_replay (generic function with 1 method)"
      ]
     },
     "execution_count": 3,
     "metadata": {},
     "output_type": "execute_result"
    }
   ],
   "source": [
    "function smoothing_replay()\n",
    "    N = 600\n",
    "    data = collect(1:N) + sqrt(200.0) * randn(N);\n",
    "    \n",
    "    xs, ys, prior_m, prior_v = createGraph(N);\n",
    "    \n",
    "    messages = Vector{AbstractMessage}(undef, N)\n",
    "    \n",
    "    subscribe!(inference(xs[1]) |> take(1), lambda(on_next = (d) -> messages[1] = d))\n",
    "    subscribe!(inference(xs[N]) |> take(1), lambda(on_next = (d) -> messages[N] = d))\n",
    "    \n",
    "    update!(prior_m, 0.0)\n",
    "    update!(prior_v, 1000.0)\n",
    "    for i in 1:N\n",
    "       update!(ys[i], data[i])\n",
    "    end\n",
    "    \n",
    "    for i in 2:N-1\n",
    "        subscribe!(inference(xs[i]) |> take(1), lambda(on_next = (d) -> messages[i] = d))\n",
    "    end\n",
    "    \n",
    "    return messages\n",
    "end"
   ]
  },
  {
   "cell_type": "code",
   "execution_count": 5,
   "metadata": {},
   "outputs": [
    {
     "name": "stdout",
     "output_type": "stream",
     "text": [
      "  3.200 s (23255858 allocations: 726.22 MiB)\n"
     ]
    }
   ],
   "source": [
    "@btime smoothing_replay();"
   ]
  },
  {
   "cell_type": "code",
   "execution_count": 4,
   "metadata": {},
   "outputs": [
    {
     "name": "stdout",
     "output_type": "stream",
     "text": [
      "  7.263871 seconds (32.17 M allocations: 1.161 GiB, 5.72% gc time)\n"
     ]
    },
    {
     "data": {
      "text/plain": [
       "600-element Array{AbstractMessage,1}:\n",
       " StochasticMessage{Normal{Float64}}(Normal{Float64}(μ=1.0795530070819974, σ=0.04085868768828826)) \n",
       " StochasticMessage{Normal{Float64}}(Normal{Float64}(μ=2.079553007081998, σ=0.04085868768828826))  \n",
       " StochasticMessage{Normal{Float64}}(Normal{Float64}(μ=3.0795530070819974, σ=0.04085868768828825)) \n",
       " StochasticMessage{Normal{Float64}}(Normal{Float64}(μ=4.079553007081997, σ=0.04085868768828825))  \n",
       " StochasticMessage{Normal{Float64}}(Normal{Float64}(μ=5.079553007081996, σ=0.04085868768828826))  \n",
       " StochasticMessage{Normal{Float64}}(Normal{Float64}(μ=6.079553007081998, σ=0.04085868768828826))  \n",
       " StochasticMessage{Normal{Float64}}(Normal{Float64}(μ=7.079553007081997, σ=0.04085868768828826))  \n",
       " StochasticMessage{Normal{Float64}}(Normal{Float64}(μ=8.079553007081998, σ=0.04085868768828826))  \n",
       " StochasticMessage{Normal{Float64}}(Normal{Float64}(μ=9.079553007082, σ=0.04085868768828826))     \n",
       " StochasticMessage{Normal{Float64}}(Normal{Float64}(μ=10.079553007082, σ=0.04085868768828826))    \n",
       " StochasticMessage{Normal{Float64}}(Normal{Float64}(μ=11.079553007082001, σ=0.04085868768828826)) \n",
       " StochasticMessage{Normal{Float64}}(Normal{Float64}(μ=12.079553007081996, σ=0.04085868768828826)) \n",
       " StochasticMessage{Normal{Float64}}(Normal{Float64}(μ=13.079553007081998, σ=0.040858687688288264))\n",
       " ⋮                                                                                                \n",
       " StochasticMessage{Normal{Float64}}(Normal{Float64}(μ=589.0795530070825, σ=0.04085868768828832))  \n",
       " StochasticMessage{Normal{Float64}}(Normal{Float64}(μ=590.0795530070826, σ=0.04085868768828832))  \n",
       " StochasticMessage{Normal{Float64}}(Normal{Float64}(μ=591.0795530070825, σ=0.04085868768828831))  \n",
       " StochasticMessage{Normal{Float64}}(Normal{Float64}(μ=592.0795530070825, σ=0.04085868768828831))  \n",
       " StochasticMessage{Normal{Float64}}(Normal{Float64}(μ=593.0795530070824, σ=0.040858687688288306)) \n",
       " StochasticMessage{Normal{Float64}}(Normal{Float64}(μ=594.0795530070825, σ=0.040858687688288306)) \n",
       " StochasticMessage{Normal{Float64}}(Normal{Float64}(μ=595.0795530070825, σ=0.0408586876882883))   \n",
       " StochasticMessage{Normal{Float64}}(Normal{Float64}(μ=596.0795530070824, σ=0.0408586876882883))   \n",
       " StochasticMessage{Normal{Float64}}(Normal{Float64}(μ=597.0795530070824, σ=0.0408586876882883))   \n",
       " StochasticMessage{Normal{Float64}}(Normal{Float64}(μ=598.0795530070824, σ=0.040858687688288306)) \n",
       " StochasticMessage{Normal{Float64}}(Normal{Float64}(μ=599.0795530070825, σ=0.040858687688288306)) \n",
       " StochasticMessage{Normal{Float64}}(Normal{Float64}(μ=600.0795530070824, σ=0.040858687688288306)) "
      ]
     },
     "execution_count": 4,
     "metadata": {},
     "output_type": "execute_result"
    }
   ],
   "source": [
    "@time smoothing_replay()"
   ]
  },
  {
   "cell_type": "code",
   "execution_count": null,
   "metadata": {},
   "outputs": [],
   "source": []
  },
  {
   "cell_type": "code",
   "execution_count": null,
   "metadata": {},
   "outputs": [],
   "source": []
  },
  {
   "cell_type": "code",
   "execution_count": null,
   "metadata": {},
   "outputs": [],
   "source": []
  },
  {
   "cell_type": "code",
   "execution_count": null,
   "metadata": {},
   "outputs": [],
   "source": []
  },
  {
   "cell_type": "code",
   "execution_count": null,
   "metadata": {},
   "outputs": [],
   "source": []
  },
  {
   "cell_type": "code",
   "execution_count": 9,
   "metadata": {
    "scrolled": true
   },
   "outputs": [
    {
     "name": "stdout",
     "output_type": "stream",
     "text": [
      "  2.477 s (21404287 allocations: 642.40 MiB)\n"
     ]
    }
   ],
   "source": [
    "@btime smoothing_replay();"
   ]
  },
  {
   "cell_type": "code",
   "execution_count": 8,
   "metadata": {
    "scrolled": false
   },
   "outputs": [
    {
     "name": "stdout",
     "output_type": "stream",
     "text": [
      "  3.428928 seconds (23.78 M allocations: 770.039 MiB, 4.84% gc time)\n"
     ]
    },
    {
     "data": {
      "text/plain": [
       "600-element Array{AbstractMessage,1}:\n",
       " StochasticMessage{Normal{Float64}}(Normal{Float64}(μ=1.175828971929451, σ=0.04085868768828826))  \n",
       " StochasticMessage{Normal{Float64}}(Normal{Float64}(μ=2.1758289719294512, σ=0.04085868768828826)) \n",
       " StochasticMessage{Normal{Float64}}(Normal{Float64}(μ=3.1758289719294504, σ=0.04085868768828825)) \n",
       " StochasticMessage{Normal{Float64}}(Normal{Float64}(μ=4.17582897192945, σ=0.04085868768828825))   \n",
       " StochasticMessage{Normal{Float64}}(Normal{Float64}(μ=5.175828971929452, σ=0.04085868768828826))  \n",
       " StochasticMessage{Normal{Float64}}(Normal{Float64}(μ=6.175828971929452, σ=0.04085868768828826))  \n",
       " StochasticMessage{Normal{Float64}}(Normal{Float64}(μ=7.175828971929452, σ=0.04085868768828826))  \n",
       " StochasticMessage{Normal{Float64}}(Normal{Float64}(μ=8.175828971929453, σ=0.04085868768828826))  \n",
       " StochasticMessage{Normal{Float64}}(Normal{Float64}(μ=9.175828971929452, σ=0.04085868768828826))  \n",
       " StochasticMessage{Normal{Float64}}(Normal{Float64}(μ=10.17582897192945, σ=0.04085868768828826))  \n",
       " StochasticMessage{Normal{Float64}}(Normal{Float64}(μ=11.175828971929452, σ=0.04085868768828826)) \n",
       " StochasticMessage{Normal{Float64}}(Normal{Float64}(μ=12.17582897192945, σ=0.04085868768828826))  \n",
       " StochasticMessage{Normal{Float64}}(Normal{Float64}(μ=13.175828971929452, σ=0.040858687688288264))\n",
       " ⋮                                                                                                \n",
       " StochasticMessage{Normal{Float64}}(Normal{Float64}(μ=589.175828971929, σ=0.04085868768828832))   \n",
       " StochasticMessage{Normal{Float64}}(Normal{Float64}(μ=590.175828971929, σ=0.04085868768828832))   \n",
       " StochasticMessage{Normal{Float64}}(Normal{Float64}(μ=591.175828971929, σ=0.04085868768828831))   \n",
       " StochasticMessage{Normal{Float64}}(Normal{Float64}(μ=592.175828971929, σ=0.04085868768828831))   \n",
       " StochasticMessage{Normal{Float64}}(Normal{Float64}(μ=593.175828971929, σ=0.040858687688288306))  \n",
       " StochasticMessage{Normal{Float64}}(Normal{Float64}(μ=594.175828971929, σ=0.040858687688288306))  \n",
       " StochasticMessage{Normal{Float64}}(Normal{Float64}(μ=595.1758289719289, σ=0.0408586876882883))   \n",
       " StochasticMessage{Normal{Float64}}(Normal{Float64}(μ=596.1758289719288, σ=0.0408586876882883))   \n",
       " StochasticMessage{Normal{Float64}}(Normal{Float64}(μ=597.1758289719288, σ=0.0408586876882883))   \n",
       " StochasticMessage{Normal{Float64}}(Normal{Float64}(μ=598.1758289719288, σ=0.040858687688288306)) \n",
       " StochasticMessage{Normal{Float64}}(Normal{Float64}(μ=599.1758289719288, σ=0.040858687688288306)) \n",
       " StochasticMessage{Normal{Float64}}(Normal{Float64}(μ=600.1758289719288, σ=0.040858687688288306)) "
      ]
     },
     "execution_count": 8,
     "metadata": {},
     "output_type": "execute_result"
    }
   ],
   "source": [
    "@time smoothing_replay()"
   ]
  },
  {
   "cell_type": "code",
   "execution_count": null,
   "metadata": {},
   "outputs": [],
   "source": []
  }
 ],
 "metadata": {
  "kernelspec": {
   "display_name": "Julia 1.3.1",
   "language": "julia",
   "name": "julia-1.3"
  },
  "language_info": {
   "file_extension": ".jl",
   "mimetype": "application/julia",
   "name": "julia",
   "version": "1.3.1"
  }
 },
 "nbformat": 4,
 "nbformat_minor": 4
}
