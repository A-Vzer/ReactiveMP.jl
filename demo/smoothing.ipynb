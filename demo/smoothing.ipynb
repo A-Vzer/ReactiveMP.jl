{
 "cells": [
  {
   "cell_type": "code",
   "execution_count": 1,
   "metadata": {},
   "outputs": [
    {
     "name": "stderr",
     "output_type": "stream",
     "text": [
      "┌ Info: Precompiling Rocket [df971d30-c9d6-4b37-b8ff-e965b2cb3a40]\n",
      "└ @ Base loading.jl:1273\n",
      "┌ Info: Precompiling Distributions [31c24e10-a181-5473-b8eb-7969acd0382f]\n",
      "└ @ Base loading.jl:1273\n",
      "┌ Info: Precompiling ReactiveMP [a194aa59-28ba-4574-a09c-4a745416d6e3]\n",
      "└ @ Base loading.jl:1273\n",
      "┌ Info: Precompiling BenchmarkTools [6e4b80f9-dd63-53aa-95a3-0cdb28fa8baf]\n",
      "└ @ Base loading.jl:1273\n"
     ]
    }
   ],
   "source": [
    "using Rocket\n",
    "using Distributions\n",
    "using ReactiveMP\n",
    "using BenchmarkTools\n",
    "\n",
    "import Base: show"
   ]
  },
  {
   "cell_type": "code",
   "execution_count": 2,
   "metadata": {},
   "outputs": [
    {
     "data": {
      "text/plain": [
       "createGraph (generic function with 1 method)"
      ]
     },
     "execution_count": 2,
     "metadata": {},
     "output_type": "execute_result"
    }
   ],
   "source": [
    "function createSubgraph(index::Int)\n",
    "    noise_add      = AdditionNode(\"[$index] noise_add\");\n",
    "    noise_node     = GaussianMeanVarianceNode(\"[$index] noise_node\");\n",
    "    noise_mean     = ConstantVariable(\"[$index] noise_mean\", 0.0, noise_node.mean);\n",
    "    noise_variance = ConstantVariable(\"[$index] noise_variance\", 1.0, noise_node.variance);\n",
    "    \n",
    "    tmp = RandomVariable(\"[$index] tmp\", noise_node.value, noise_add.in2)\n",
    "    yn  = ObservedVariable(\"[$index] yn\", noise_add.out)\n",
    "    \n",
    "    return (yn, noise_add)\n",
    "end\n",
    "\n",
    "function createGraph(size::Int)\n",
    "    gmv_0   = GaussianMeanVarianceNode(\"[0] gmv\");\n",
    "    gmv_0_m = PriorVariable(\"[0] gmv_m\", gmv_0.mean);\n",
    "    gmv_0_v = PriorVariable(\"[0] gmv_v\", gmv_0.variance);\n",
    "    \n",
    "    add_c_0 = AdditionNode(\"[0] add_c\");\n",
    "    x0      = RandomVariable(\"[0] x\", gmv_0.value, add_c_0.in1)\n",
    "    c0      = ConstantVariable(\"[0] c\", 1.0, add_c_0.in2)\n",
    "    \n",
    "    index = 1\n",
    "    \n",
    "    prev_add_c = add_c_0\n",
    "    \n",
    "    xs = Vector{RandomVariable}(undef, size)\n",
    "    ys = Vector{ObservedVariable}(undef, size)\n",
    "    \n",
    "    while index < size\n",
    "        equality_n    = EqualityIOONode(\"[$index] equality\")\n",
    "        yn, noise_add = createSubgraph(index)\n",
    "        \n",
    "        xn  = RandomVariable(\"[$index] xn\", prev_add_c.out, equality_n.in1)\n",
    "        xn_ = RandomVariable(\"[$index] xn_\", equality_n.out1, noise_add.in1)\n",
    "        \n",
    "        add_c = AdditionNode(\"[$index] add_c\");\n",
    "        \n",
    "        xn__ = RandomVariable(\"[$index] xn__\", equality_n.out2, add_c.in1)\n",
    "        cn   = ConstantVariable(\"[$index] cn\", 1.0, add_c.in2)\n",
    "        \n",
    "        xs[index] = xn\n",
    "        ys[index] = yn\n",
    "        \n",
    "        prev_add_c = add_c\n",
    "        \n",
    "        index += 1\n",
    "    end\n",
    "    \n",
    "    last_noise_add = AdditionNode(\"[last] noise_add\");\n",
    "    x_last         = RandomVariable(\"[last] x\", prev_add_c.out, last_noise_add.in1)\n",
    "    \n",
    "    last_noise_node     = GaussianMeanVarianceNode(\"[last] noise_node\");\n",
    "    last_noise_mean     = ConstantVariable(\"[last] noise_mean\", 0.0, last_noise_node.mean);\n",
    "    last_noise_variance = ConstantVariable(\"[last] noise_variance\", 200.0, last_noise_node.variance);\n",
    "    \n",
    "    z      = RandomVariable(\"[last] z\", last_noise_node.value, last_noise_add.in2)\n",
    "    y_last = ObservedVariable(\"[last] y\", last_noise_add.out)\n",
    "    \n",
    "    xs[size] = x_last\n",
    "    ys[size] = y_last\n",
    "    \n",
    "    return (xs, ys, gmv_0_m, gmv_0_v)\n",
    "end"
   ]
  },
  {
   "cell_type": "code",
   "execution_count": 11,
   "metadata": {},
   "outputs": [
    {
     "data": {
      "text/plain": [
       "smoothing_replay (generic function with 2 methods)"
      ]
     },
     "execution_count": 11,
     "metadata": {},
     "output_type": "execute_result"
    }
   ],
   "source": [
    "function smoothing_replay(data)\n",
    "    N = length(data)\n",
    "    \n",
    "    xs, ys, prior_m, prior_v = createGraph(N);\n",
    "    \n",
    "    messages = Vector{AbstractMessage}(undef, N)\n",
    "    \n",
    "    subscribe!(inference(xs[1]) |> take(1), lambda(on_next = (d) -> messages[1] = d))\n",
    "    subscribe!(inference(xs[N]) |> take(1), lambda(on_next = (d) -> messages[N] = d))\n",
    "    \n",
    "    update!(prior_m, 0.0)\n",
    "    update!(prior_v, 1000.0)\n",
    "    for i in 1:N\n",
    "       update!(ys[i], data[i])\n",
    "    end\n",
    "    \n",
    "    for i in 2:N-1\n",
    "        subscribe!(inference(xs[i]) |> take(1), lambda(on_next = (d) -> messages[i] = d))\n",
    "    end\n",
    "    \n",
    "    return messages\n",
    "end"
   ]
  },
  {
   "cell_type": "code",
   "execution_count": 12,
   "metadata": {},
   "outputs": [],
   "source": [
    "N = 256\n",
    "data = collect(1:N) + sqrt(200.0) * randn(N);"
   ]
  },
  {
   "cell_type": "code",
   "execution_count": 13,
   "metadata": {},
   "outputs": [
    {
     "name": "stdout",
     "output_type": "stream",
     "text": [
      "  575.817 ms (4329810 allocations: 135.82 MiB)\n"
     ]
    }
   ],
   "source": [
    "@btime smoothing_replay($data);"
   ]
  },
  {
   "cell_type": "code",
   "execution_count": 18,
   "metadata": {},
   "outputs": [
    {
     "name": "stdout",
     "output_type": "stream",
     "text": [
      "  37.529 ms (301942 allocations: 9.67 MiB)\n"
     ]
    },
    {
     "data": {
      "text/plain": [
       "64-element Array{AbstractMessage,1}:\n",
       " StochasticMessage{Normal{Float64}}(Normal{Float64}(μ=-0.6343240398921595, σ=0.1259821586621601))\n",
       " StochasticMessage{Normal{Float64}}(Normal{Float64}(μ=0.36567596010784054, σ=0.1259821586621601))\n",
       " StochasticMessage{Normal{Float64}}(Normal{Float64}(μ=1.3656759601078408, σ=0.12598215866216006))\n",
       " StochasticMessage{Normal{Float64}}(Normal{Float64}(μ=2.3656759601078403, σ=0.1259821586621601)) \n",
       " StochasticMessage{Normal{Float64}}(Normal{Float64}(μ=3.3656759601078403, σ=0.12598215866216006))\n",
       " StochasticMessage{Normal{Float64}}(Normal{Float64}(μ=4.365675960107839, σ=0.1259821586621601))  \n",
       " StochasticMessage{Normal{Float64}}(Normal{Float64}(μ=5.36567596010784, σ=0.1259821586621601))   \n",
       " StochasticMessage{Normal{Float64}}(Normal{Float64}(μ=6.365675960107838, σ=0.12598215866216006)) \n",
       " StochasticMessage{Normal{Float64}}(Normal{Float64}(μ=7.365675960107838, σ=0.12598215866216006)) \n",
       " StochasticMessage{Normal{Float64}}(Normal{Float64}(μ=8.36567596010784, σ=0.1259821586621601))   \n",
       " StochasticMessage{Normal{Float64}}(Normal{Float64}(μ=9.36567596010784, σ=0.12598215866216006))  \n",
       " StochasticMessage{Normal{Float64}}(Normal{Float64}(μ=10.365675960107836, σ=0.12598215866216006))\n",
       " StochasticMessage{Normal{Float64}}(Normal{Float64}(μ=11.365675960107836, σ=0.12598215866216006))\n",
       " ⋮                                                                                               \n",
       " StochasticMessage{Normal{Float64}}(Normal{Float64}(μ=51.36567596010783, σ=0.12598215866216003)) \n",
       " StochasticMessage{Normal{Float64}}(Normal{Float64}(μ=52.365675960107815, σ=0.12598215866216))   \n",
       " StochasticMessage{Normal{Float64}}(Normal{Float64}(μ=53.36567596010782, σ=0.12598215866216))    \n",
       " StochasticMessage{Normal{Float64}}(Normal{Float64}(μ=54.36567596010783, σ=0.12598215866215998)) \n",
       " StochasticMessage{Normal{Float64}}(Normal{Float64}(μ=55.36567596010782, σ=0.12598215866215998)) \n",
       " StochasticMessage{Normal{Float64}}(Normal{Float64}(μ=56.36567596010782, σ=0.12598215866215998)) \n",
       " StochasticMessage{Normal{Float64}}(Normal{Float64}(μ=57.36567596010782, σ=0.12598215866215998)) \n",
       " StochasticMessage{Normal{Float64}}(Normal{Float64}(μ=58.36567596010783, σ=0.12598215866215998)) \n",
       " StochasticMessage{Normal{Float64}}(Normal{Float64}(μ=59.36567596010783, σ=0.12598215866215998)) \n",
       " StochasticMessage{Normal{Float64}}(Normal{Float64}(μ=60.36567596010782, σ=0.12598215866215998)) \n",
       " StochasticMessage{Normal{Float64}}(Normal{Float64}(μ=61.36567596010783, σ=0.12598215866215998)) \n",
       " StochasticMessage{Normal{Float64}}(Normal{Float64}(μ=62.36567596010782, σ=0.12598215866215998)) "
      ]
     },
     "execution_count": 18,
     "metadata": {},
     "output_type": "execute_result"
    }
   ],
   "source": [
    "@btime smoothing_replay(collect(1:64) + sqrt(200.0) * randn(64))"
   ]
  },
  {
   "cell_type": "code",
   "execution_count": 19,
   "metadata": {},
   "outputs": [
    {
     "data": {
      "text/plain": [
       "256-element Array{AbstractMessage,1}:\n",
       " StochasticMessage{Normal{Float64}}(Normal{Float64}(μ=0.17790546543467523, σ=0.06262169238705584))\n",
       " StochasticMessage{Normal{Float64}}(Normal{Float64}(μ=1.177905465434675, σ=0.06262169238705584))  \n",
       " StochasticMessage{Normal{Float64}}(Normal{Float64}(μ=2.1779054654346752, σ=0.06262169238705585)) \n",
       " StochasticMessage{Normal{Float64}}(Normal{Float64}(μ=3.1779054654346757, σ=0.06262169238705584)) \n",
       " StochasticMessage{Normal{Float64}}(Normal{Float64}(μ=4.177905465434676, σ=0.06262169238705584))  \n",
       " StochasticMessage{Normal{Float64}}(Normal{Float64}(μ=5.177905465434676, σ=0.06262169238705582))  \n",
       " StochasticMessage{Normal{Float64}}(Normal{Float64}(μ=6.177905465434675, σ=0.06262169238705582))  \n",
       " StochasticMessage{Normal{Float64}}(Normal{Float64}(μ=7.177905465434675, σ=0.06262169238705582))  \n",
       " StochasticMessage{Normal{Float64}}(Normal{Float64}(μ=8.177905465434677, σ=0.06262169238705584))  \n",
       " StochasticMessage{Normal{Float64}}(Normal{Float64}(μ=9.177905465434677, σ=0.06262169238705584))  \n",
       " StochasticMessage{Normal{Float64}}(Normal{Float64}(μ=10.17790546543468, σ=0.06262169238705585))  \n",
       " StochasticMessage{Normal{Float64}}(Normal{Float64}(μ=11.177905465434677, σ=0.06262169238705585)) \n",
       " StochasticMessage{Normal{Float64}}(Normal{Float64}(μ=12.177905465434677, σ=0.06262169238705585)) \n",
       " ⋮                                                                                                \n",
       " StochasticMessage{Normal{Float64}}(Normal{Float64}(μ=244.17790546543466, σ=0.06262169238705577)) \n",
       " StochasticMessage{Normal{Float64}}(Normal{Float64}(μ=245.17790546543458, σ=0.06262169238705578)) \n",
       " StochasticMessage{Normal{Float64}}(Normal{Float64}(μ=246.17790546543463, σ=0.06262169238705577)) \n",
       " StochasticMessage{Normal{Float64}}(Normal{Float64}(μ=247.1779054654346, σ=0.06262169238705576))  \n",
       " StochasticMessage{Normal{Float64}}(Normal{Float64}(μ=248.17790546543463, σ=0.06262169238705576)) \n",
       " StochasticMessage{Normal{Float64}}(Normal{Float64}(μ=249.17790546543463, σ=0.06262169238705576)) \n",
       " StochasticMessage{Normal{Float64}}(Normal{Float64}(μ=250.17790546543466, σ=0.06262169238705576)) \n",
       " StochasticMessage{Normal{Float64}}(Normal{Float64}(μ=251.17790546543463, σ=0.06262169238705576)) \n",
       " StochasticMessage{Normal{Float64}}(Normal{Float64}(μ=252.17790546543463, σ=0.06262169238705576)) \n",
       " StochasticMessage{Normal{Float64}}(Normal{Float64}(μ=253.17790546543466, σ=0.06262169238705577)) \n",
       " StochasticMessage{Normal{Float64}}(Normal{Float64}(μ=254.17790546543466, σ=0.06262169238705576)) \n",
       " StochasticMessage{Normal{Float64}}(Normal{Float64}(μ=255.17790546543466, σ=0.06262169238705576)) "
      ]
     },
     "execution_count": 19,
     "metadata": {},
     "output_type": "execute_result"
    }
   ],
   "source": [
    "smoothing_replay(data)"
   ]
  },
  {
   "cell_type": "code",
   "execution_count": null,
   "metadata": {},
   "outputs": [],
   "source": []
  }
 ],
 "metadata": {
  "kernelspec": {
   "display_name": "Julia 1.3.1",
   "language": "julia",
   "name": "julia-1.3"
  },
  "language_info": {
   "file_extension": ".jl",
   "mimetype": "application/julia",
   "name": "julia",
   "version": "1.3.1"
  }
 },
 "nbformat": 4,
 "nbformat_minor": 4
}
