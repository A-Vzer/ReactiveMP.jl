{
 "cells": [
  {
   "cell_type": "code",
   "execution_count": 2,
   "metadata": {},
   "outputs": [],
   "source": [
    "using Distributions\n",
    "using ReactiveMP\n",
    "using Rx\n",
    "using BenchmarkTools\n",
    "\n",
    "import Base: show"
   ]
  },
  {
   "cell_type": "code",
   "execution_count": 3,
   "metadata": {},
   "outputs": [
    {
     "data": {
      "text/plain": [
       "createGraph (generic function with 1 method)"
      ]
     },
     "execution_count": 3,
     "metadata": {},
     "output_type": "execute_result"
    }
   ],
   "source": [
    "function createSubgraph(index::Int)\n",
    "    noise_add      = AdditionNode(\"[$index] noise_add\");\n",
    "    noise_node     = GaussianMeanVarianceNode(\"[$index] noise_node\");\n",
    "    noise_mean     = ConstantVariable(\"[$index] noise_mean\", 0.0, noise_node.mean);\n",
    "    noise_variance = ConstantVariable(\"[$index] noise_variance\", 1.0, noise_node.variance);\n",
    "    \n",
    "    tmp = RandomVariable(\"[$index] tmp\", noise_node.value, noise_add.in2)\n",
    "    yn  = ObservedVariable(\"[$index] yn\", noise_add.out)\n",
    "    \n",
    "    return (yn, noise_add)\n",
    "end\n",
    "\n",
    "function createGraph(size::Int)\n",
    "    gmv_0   = GaussianMeanVarianceNode(\"[0] gmv\");\n",
    "    gmv_0_m = EstimatedVariable(\"[0] gmv_m\", gmv_0.mean);\n",
    "    gmv_0_v = EstimatedVariable(\"[0] gmv_v\", gmv_0.variance);\n",
    "    \n",
    "    add_c_0 = AdditionNode(\"[0] add_c\");\n",
    "    x0      = RandomVariable(\"[0] x\", gmv_0.value, add_c_0.in1)\n",
    "    c0      = ConstantVariable(\"[0] c\", 1.0, add_c_0.in2)\n",
    "    \n",
    "    index = 1\n",
    "    \n",
    "    prev_add_c = add_c_0\n",
    "    \n",
    "    xs = Vector{RandomVariable}(undef, size)\n",
    "    ys = Vector{ObservedVariable}(undef, size)\n",
    "    \n",
    "    while index < size\n",
    "        equality_n    = EqualityIOONode(\"[$index] equality\")\n",
    "        yn, noise_add = createSubgraph(index)\n",
    "        \n",
    "        xn  = RandomVariable(\"[$index] xn\", prev_add_c.out, equality_n.in1)\n",
    "        xn_ = RandomVariable(\"[$index] xn_\", equality_n.out1, noise_add.in1)\n",
    "        \n",
    "        add_c = AdditionNode(\"[$index] add_c\");\n",
    "        \n",
    "        xn__ = RandomVariable(\"[$index] xn__\", equality_n.out2, add_c.in1)\n",
    "        cn   = ConstantVariable(\"[$index] cn\", 1.0, add_c.in2)\n",
    "        \n",
    "        xs[index] = xn\n",
    "        ys[index] = yn\n",
    "        \n",
    "        prev_add_c = add_c\n",
    "        \n",
    "        index += 1\n",
    "    end\n",
    "    \n",
    "    last_noise_add = AdditionNode(\"[last] noise_add\");\n",
    "    x_last         = RandomVariable(\"[last] x\", prev_add_c.out, last_noise_add.in1)\n",
    "    \n",
    "    last_noise_node     = GaussianMeanVarianceNode(\"[last] noise_node\");\n",
    "    last_noise_mean     = ConstantVariable(\"[last] noise_mean\", 0.0, last_noise_node.mean);\n",
    "    last_noise_variance = ConstantVariable(\"[last] noise_variance\", 200.0, last_noise_node.variance);\n",
    "    \n",
    "    z      = RandomVariable(\"[last] z\", last_noise_node.value, last_noise_add.in2)\n",
    "    y_last = ObservedVariable(\"[last] y\", last_noise_add.out)\n",
    "    \n",
    "    xs[size] = x_last\n",
    "    ys[size] = y_last\n",
    "    \n",
    "    return (xs, ys, gmv_0_m, gmv_0_v)\n",
    "end"
   ]
  },
  {
   "cell_type": "code",
   "execution_count": 4,
   "metadata": {},
   "outputs": [
    {
     "data": {
      "text/plain": [
       "smoothing_replay (generic function with 1 method)"
      ]
     },
     "execution_count": 4,
     "metadata": {},
     "output_type": "execute_result"
    }
   ],
   "source": [
    "function smoothing_replay()\n",
    "    N = 600\n",
    "    data = collect(1:N) + sqrt(200.0) * randn(N);\n",
    "    \n",
    "    xs, ys, prior_m, prior_v = createGraph(N);\n",
    "    \n",
    "    keep_actor = keep(AbstractMessage)\n",
    "    \n",
    "    subscribe!(inference(xs[1]) |> take(1), keep_actor)\n",
    "    subscribe!(inference(xs[N]) |> take(1), keep_actor)\n",
    "    \n",
    "    update!(prior_m, 0.0)\n",
    "    update!(prior_v, 1000.0)\n",
    "    for i in 1:N\n",
    "       update!(ys[i], data[i])\n",
    "    end\n",
    "    \n",
    "    for i in 2:N-1\n",
    "        subscribe!(inference(xs[i]) |> take(1), keep_actor)\n",
    "    end\n",
    "    \n",
    "    return keep_actor.values\n",
    "end"
   ]
  },
  {
   "cell_type": "code",
   "execution_count": 19,
   "metadata": {
    "scrolled": true
   },
   "outputs": [
    {
     "name": "stdout",
     "output_type": "stream",
     "text": [
      "  85.078 ms (602608 allocations: 16.93 MiB)\n"
     ]
    }
   ],
   "source": [
    "@btime smoothing_replay();"
   ]
  },
  {
   "cell_type": "code",
   "execution_count": 5,
   "metadata": {
    "scrolled": false
   },
   "outputs": [
    {
     "ename": "MethodError",
     "evalue": "MethodError: no method matching AdditionNode(::String, ::Type{StochasticMessage{Normal{Float64}}}, ::Type{StochasticMessage{Normal{Float64}}}, ::Type{DeterministicMessage})\nClosest candidates are:\n  AdditionNode(::String) at /Users/bvdmitri/.julia/dev/ReactiveMP/src/nodes/addition.jl:15",
     "output_type": "error",
     "traceback": [
      "MethodError: no method matching AdditionNode(::String, ::Type{StochasticMessage{Normal{Float64}}}, ::Type{StochasticMessage{Normal{Float64}}}, ::Type{DeterministicMessage})\nClosest candidates are:\n  AdditionNode(::String) at /Users/bvdmitri/.julia/dev/ReactiveMP/src/nodes/addition.jl:15",
      "",
      "Stacktrace:",
      " [1] createGraph(::Int64) at ./In[3]:49",
      " [2] smoothing_replay() at ./In[4]:5",
      " [3] top-level scope at In[5]:1"
     ]
    }
   ],
   "source": [
    "smoothing_replay()"
   ]
  },
  {
   "cell_type": "code",
   "execution_count": null,
   "metadata": {},
   "outputs": [],
   "source": []
  }
 ],
 "metadata": {
  "kernelspec": {
   "display_name": "Julia 1.3.0",
   "language": "julia",
   "name": "julia-1.3"
  },
  "language_info": {
   "file_extension": ".jl",
   "mimetype": "application/julia",
   "name": "julia",
   "version": "1.3.0"
  }
 },
 "nbformat": 4,
 "nbformat_minor": 2
}
