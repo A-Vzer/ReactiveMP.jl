{
 "cells": [
  {
   "cell_type": "code",
   "execution_count": 2,
   "metadata": {},
   "outputs": [],
   "source": [
    "using Distributions\n",
    "using ReactiveMP\n",
    "using Rx\n",
    "using BenchmarkTools\n",
    "\n",
    "import Base: show"
   ]
  },
  {
   "cell_type": "code",
   "execution_count": 3,
   "metadata": {},
   "outputs": [
    {
     "data": {
      "text/plain": [
       "createGraph (generic function with 1 method)"
      ]
     },
     "execution_count": 3,
     "metadata": {},
     "output_type": "execute_result"
    }
   ],
   "source": [
    "function createSubgraph(index::Int)\n",
    "    noise_add = addition_node(\"[$index] noise_add\", StochasticMessage{Normal{Float64}}, StochasticMessage{Normal{Float64}}, DeterministicMessage);\n",
    "    noise_node     = gaussian_mean_variance(\"[$index] noise_node\");\n",
    "    noise_mean     = constant_variable(\"[$index] noise_mean\", 0.0, noise_node.mean);\n",
    "    noise_variance = constant_variable(\"[$index] noise_variance\", 1.0, noise_node.variance);\n",
    "    \n",
    "    tmp = random_variable(\"[$index] tmp\", noise_node.value, noise_add.in2)\n",
    "    yn = observed_variable(\"[$index] yn\", noise_add.out)\n",
    "    \n",
    "    return (yn, noise_add)\n",
    "end\n",
    "\n",
    "function createGraph(size::Int)\n",
    "    gmv_0   = gaussian_mean_variance(\"[0] gmv\");\n",
    "    gmv_0_m = estimated_variable(\"[0] gmv_m\", gmv_0.mean);\n",
    "    gmv_0_v = estimated_variable(\"[0] gmv_v\", gmv_0.variance);\n",
    "    \n",
    "    add_c_0 = addition_node(\"[0] add_c\", StochasticMessage{Normal{Float64}}, DeterministicMessage, StochasticMessage{Normal{Float64}});\n",
    "    x0 = random_variable(\"[0] x\", gmv_0.value, add_c_0.in1)\n",
    "    c0 = constant_variable(\"[0] c\", 1.0, add_c_0.in2)\n",
    "    \n",
    "    index = 1\n",
    "    \n",
    "    prev_add_c = add_c_0\n",
    "    \n",
    "    xs = Vector{RandomVariable}()\n",
    "    ys = Vector{ObservedVariable}()\n",
    "    \n",
    "    while index < size\n",
    "        equality_n    = equality_ioo(\"[$index] equality\")\n",
    "        yn, noise_add = createSubgraph(index)\n",
    "        \n",
    "        xn  = random_variable(\"[$index] xn\", prev_add_c.out, equality_n.in1)\n",
    "        xn_ = random_variable(\"[$index] xn_\", equality_n.out1, noise_add.in1)\n",
    "        \n",
    "        add_c = addition_node(\"[$index] add_c\", StochasticMessage{Normal{Float64}}, DeterministicMessage, StochasticMessage{Normal{Float64}});\n",
    "        \n",
    "        xn__ = random_variable(\"[$index] xn__\", equality_n.out2, add_c.in1)\n",
    "        cn   = constant_variable(\"[$index] cn\", 1.0, add_c.in2)\n",
    "        \n",
    "        push!(xs, xn)\n",
    "        push!(ys, yn)\n",
    "        \n",
    "        prev_add_c = add_c\n",
    "        \n",
    "        index += 1\n",
    "    end\n",
    "    \n",
    "    last_noise_add = addition_node(\"[last] noise_add\", StochasticMessage{Normal{Float64}}, StochasticMessage{Normal{Float64}}, DeterministicMessage);\n",
    "    x_last = random_variable(\"[last] x\", prev_add_c.out, last_noise_add.in1)\n",
    "    \n",
    "    last_noise_node     = gaussian_mean_variance(\"[last] noise_node\");\n",
    "    last_noise_mean     = constant_variable(\"[last] noise_mean\", 0.0, last_noise_node.mean);\n",
    "    last_noise_variance = constant_variable(\"[last] noise_variance\", 1.0, last_noise_node.variance);\n",
    "    \n",
    "    z      = random_variable(\"[last] z\", last_noise_node.value, last_noise_add.in2)\n",
    "    y_last = observed_variable(\"[last] y\", last_noise_add.out)\n",
    "    \n",
    "    push!(xs, x_last)\n",
    "    push!(ys, y_last)\n",
    "    \n",
    "    return (xs, ys, gmv_0_m, gmv_0_v)\n",
    "end"
   ]
  },
  {
   "cell_type": "code",
   "execution_count": 15,
   "metadata": {},
   "outputs": [
    {
     "data": {
      "text/plain": [
       "smoothing (generic function with 1 method)"
      ]
     },
     "execution_count": 15,
     "metadata": {},
     "output_type": "execute_result"
    }
   ],
   "source": [
    "function smoothing() \n",
    "    N = 100\n",
    "    data = collect(1:N) + rand(Normal(0.0, 1.0), N);\n",
    "    \n",
    "    xs, ys, prior_m, prior_v = createGraph(N);\n",
    "    \n",
    "    actor = sync(keep(Vector{AbstractMessage}))\n",
    "    \n",
    "    points = Vector{Any}(undef, N)\n",
    "    for i in 1:N\n",
    "        points[i] = inference(xs[i]) |> take(1)\n",
    "    end\n",
    "    \n",
    "    subscribe!(collectLast(AbstractMessage, points), actor)\n",
    "    \n",
    "    update!(prior_m, 0.0)\n",
    "    update!(prior_v, 1000.0)\n",
    "    for i in 1:N\n",
    "       update!(ys[i], data[i])\n",
    "    end\n",
    "    \n",
    "    wait(actor)\n",
    "    \n",
    "    return actor.actor.values[1]\n",
    "end"
   ]
  },
  {
   "cell_type": "code",
   "execution_count": null,
   "metadata": {
    "scrolled": true
   },
   "outputs": [],
   "source": [
    "v = smoothing()"
   ]
  },
  {
   "cell_type": "code",
   "execution_count": 14,
   "metadata": {},
   "outputs": [
    {
     "ename": "ErrorException",
     "evalue": "type Array has no field distribution",
     "output_type": "error",
     "traceback": [
      "type Array has no field distribution",
      "",
      "Stacktrace:",
      " [1] getproperty(::Array{AbstractMessage,1}, ::Symbol) at ./Base.jl:20",
      " [2] (::var\"#7#8\")(::Array{AbstractMessage,1}) at ./In[14]:1",
      " [3] iterate at ./generator.jl:47 [inlined]",
      " [4] _collect at ./array.jl:635 [inlined]",
      " [5] collect_similar(::Array{Array{AbstractMessage,1},1}, ::Base.Generator{Array{Array{AbstractMessage,1},1},var\"#7#8\"}) at ./array.jl:564",
      " [6] map(::Function, ::Array{Array{AbstractMessage,1},1}) at ./abstractarray.jl:2073",
      " [7] top-level scope at In[14]:1"
     ]
    }
   ],
   "source": [
    "map((m) -> mean(m.distribution), v)"
   ]
  },
  {
   "cell_type": "code",
   "execution_count": null,
   "metadata": {},
   "outputs": [],
   "source": []
  }
 ],
 "metadata": {
  "kernelspec": {
   "display_name": "Julia 1.3.0",
   "language": "julia",
   "name": "julia-1.3"
  },
  "language_info": {
   "file_extension": ".jl",
   "mimetype": "application/julia",
   "name": "julia",
   "version": "1.3.0"
  }
 },
 "nbformat": 4,
 "nbformat_minor": 2
}
