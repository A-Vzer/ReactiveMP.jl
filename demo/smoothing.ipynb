{
 "cells": [
  {
   "cell_type": "code",
   "execution_count": 1,
   "metadata": {},
   "outputs": [
    {
     "name": "stderr",
     "output_type": "stream",
     "text": [
      "┌ Info: Precompiling Distributions [31c24e10-a181-5473-b8eb-7969acd0382f]\n",
      "└ @ Base loading.jl:1273\n",
      "┌ Info: Precompiling ReactiveMP [a194aa59-28ba-4574-a09c-4a745416d6e3]\n",
      "└ @ Base loading.jl:1273\n",
      "┌ Warning: Package ReactiveMP does not have Rx in its dependencies:\n",
      "│ - If you have ReactiveMP checked out for development and have\n",
      "│   added Rx as a dependency but haven't updated your primary\n",
      "│   environment's manifest file, try `Pkg.resolve()`.\n",
      "│ - Otherwise you may need to report an issue with ReactiveMP\n",
      "└ Loading Rx into ReactiveMP from project dependency, future warnings for ReactiveMP are suppressed.\n"
     ]
    }
   ],
   "source": [
    "using Distributions\n",
    "using ReactiveMP\n",
    "using Rx\n",
    "using BenchmarkTools\n",
    "\n",
    "import Base: show"
   ]
  },
  {
   "cell_type": "code",
   "execution_count": 2,
   "metadata": {},
   "outputs": [
    {
     "data": {
      "text/plain": [
       "createGraph (generic function with 1 method)"
      ]
     },
     "execution_count": 2,
     "metadata": {},
     "output_type": "execute_result"
    }
   ],
   "source": [
    "function createSubgraph(index::Int)\n",
    "    noise_add = addition_node(\"[$index] noise_add\", StochasticMessage{Normal{Float64}}, StochasticMessage{Normal{Float64}}, DeterministicMessage);\n",
    "    noise_node     = gaussian_mean_variance(\"[$index] noise_node\");\n",
    "    noise_mean     = constant_variable(\"[$index] noise_mean\", 0.0, noise_node.mean);\n",
    "    noise_variance = constant_variable(\"[$index] noise_variance\", 1.0, noise_node.variance);\n",
    "    \n",
    "    tmp = random_variable(\"[$index] tmp\", noise_node.value, noise_add.in2)\n",
    "    yn = observed_variable(\"[$index] yn\", noise_add.out)\n",
    "    \n",
    "    return (yn, noise_add)\n",
    "end\n",
    "\n",
    "function createGraph(size::Int)\n",
    "    gmv_0   = gaussian_mean_variance(\"[0] gmv\");\n",
    "    gmv_0_m = estimated_variable(\"[0] gmv_m\", gmv_0.mean);\n",
    "    gmv_0_v = estimated_variable(\"[0] gmv_v\", gmv_0.variance);\n",
    "    \n",
    "    add_c_0 = addition_node(\"[0] add_c\", StochasticMessage{Normal{Float64}}, DeterministicMessage, StochasticMessage{Normal{Float64}});\n",
    "    x0 = random_variable(\"[0] x\", gmv_0.value, add_c_0.in1)\n",
    "    c0 = constant_variable(\"[0] c\", 1.0, add_c_0.in2)\n",
    "    \n",
    "    index = 1\n",
    "    \n",
    "    prev_add_c = add_c_0\n",
    "    \n",
    "    xs = Vector{RandomVariable}(undef, size)\n",
    "    ys = Vector{ObservedVariable}(undef, size)\n",
    "    \n",
    "    while index < size\n",
    "        equality_n    = equality_ioo(\"[$index] equality\")\n",
    "        yn, noise_add = createSubgraph(index)\n",
    "        \n",
    "        xn  = random_variable(\"[$index] xn\", prev_add_c.out, equality_n.in1)\n",
    "        xn_ = random_variable(\"[$index] xn_\", equality_n.out1, noise_add.in1)\n",
    "        \n",
    "        add_c = addition_node(\"[$index] add_c\", StochasticMessage{Normal{Float64}}, DeterministicMessage, StochasticMessage{Normal{Float64}});\n",
    "        \n",
    "        xn__ = random_variable(\"[$index] xn__\", equality_n.out2, add_c.in1)\n",
    "        cn   = constant_variable(\"[$index] cn\", 1.0, add_c.in2)\n",
    "        \n",
    "        xs[index] = xn\n",
    "        ys[index] = yn\n",
    "        \n",
    "        prev_add_c = add_c\n",
    "        \n",
    "        index += 1\n",
    "    end\n",
    "    \n",
    "    last_noise_add = addition_node(\"[last] noise_add\", StochasticMessage{Normal{Float64}}, StochasticMessage{Normal{Float64}}, DeterministicMessage);\n",
    "    x_last = random_variable(\"[last] x\", prev_add_c.out, last_noise_add.in1)\n",
    "    \n",
    "    last_noise_node     = gaussian_mean_variance(\"[last] noise_node\");\n",
    "    last_noise_mean     = constant_variable(\"[last] noise_mean\", 0.0, last_noise_node.mean);\n",
    "    last_noise_variance = constant_variable(\"[last] noise_variance\", 1.0, last_noise_node.variance);\n",
    "    \n",
    "    z      = random_variable(\"[last] z\", last_noise_node.value, last_noise_add.in2)\n",
    "    y_last = observed_variable(\"[last] y\", last_noise_add.out)\n",
    "    \n",
    "    xs[size] = x_last\n",
    "    ys[size] = y_last\n",
    "    \n",
    "    return (xs, ys, gmv_0_m, gmv_0_v)\n",
    "end"
   ]
  },
  {
   "cell_type": "code",
   "execution_count": 3,
   "metadata": {},
   "outputs": [
    {
     "data": {
      "text/plain": [
       "smoothing_replay (generic function with 1 method)"
      ]
     },
     "execution_count": 3,
     "metadata": {},
     "output_type": "execute_result"
    }
   ],
   "source": [
    "function smoothing_replay(N, data)\n",
    "    xs, ys, prior_m, prior_v = createGraph(N);\n",
    "    \n",
    "    keepa = keep(AbstractMessage)\n",
    "    actor = sync(keepa)\n",
    "    \n",
    "    subscribe!(inference(xs[1]) |> take(1), actor)\n",
    "    subscribe!(inference(xs[N]) |> take(1), actor)\n",
    "    \n",
    "    update!(prior_m, 0.0)\n",
    "    update!(prior_v, 1000.0)\n",
    "    for i in 1:N\n",
    "       update!(ys[i], data[i])\n",
    "    end\n",
    "    \n",
    "    wait(actor)\n",
    "    \n",
    "    for i in 2:N-1\n",
    "        inner_synced = sync(keepa)\n",
    "        subscribe!(inference(xs[i]) |> take(1), inner_synced)\n",
    "        wait(inner_synced)\n",
    "    end\n",
    "    \n",
    "    return keepa.values\n",
    "end"
   ]
  },
  {
   "cell_type": "code",
   "execution_count": 4,
   "metadata": {},
   "outputs": [],
   "source": [
    "N = 300\n",
    "data = collect(1:N) + rand(Normal(0.0, 1.0), N);"
   ]
  },
  {
   "cell_type": "code",
   "execution_count": 7,
   "metadata": {},
   "outputs": [
    {
     "name": "stdout",
     "output_type": "stream",
     "text": [
      "  2.974 s (19871656 allocations: 916.96 MiB)\n"
     ]
    }
   ],
   "source": [
    "@btime v = smoothing_replay($N, $data);"
   ]
  },
  {
   "cell_type": "code",
   "execution_count": null,
   "metadata": {},
   "outputs": [],
   "source": []
  }
 ],
 "metadata": {
  "kernelspec": {
   "display_name": "Julia 1.3.0",
   "language": "julia",
   "name": "julia-1.3"
  },
  "language_info": {
   "file_extension": ".jl",
   "mimetype": "application/julia",
   "name": "julia",
   "version": "1.3.0"
  }
 },
 "nbformat": 4,
 "nbformat_minor": 2
}
