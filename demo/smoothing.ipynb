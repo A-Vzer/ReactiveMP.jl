{
 "cells": [
  {
   "cell_type": "code",
   "execution_count": 1,
   "metadata": {},
   "outputs": [
    {
     "name": "stderr",
     "output_type": "stream",
     "text": [
      "┌ Info: Precompiling ReactiveMP [a194aa59-28ba-4574-a09c-4a745416d6e3]\n",
      "└ @ Base loading.jl:1260\n",
      "┌ Warning: Package ReactiveMP does not have Rocket in its dependencies:\n",
      "│ - If you have ReactiveMP checked out for development and have\n",
      "│   added Rocket as a dependency but haven't updated your primary\n",
      "│   environment's manifest file, try `Pkg.resolve()`.\n",
      "│ - Otherwise you may need to report an issue with ReactiveMP\n",
      "└ Loading Rocket into ReactiveMP from project dependency, future warnings for ReactiveMP are suppressed.\n"
     ]
    }
   ],
   "source": [
    "using Rocket\n",
    "using Distributions\n",
    "using ReactiveMP\n",
    "using BenchmarkTools\n",
    "\n",
    "import Base: show"
   ]
  },
  {
   "cell_type": "code",
   "execution_count": 2,
   "metadata": {},
   "outputs": [
    {
     "data": {
      "text/plain": [
       "createGraph (generic function with 1 method)"
      ]
     },
     "execution_count": 2,
     "metadata": {},
     "output_type": "execute_result"
    }
   ],
   "source": [
    "function createSubgraph(index::Int)\n",
    "    noise_add      = AdditionNode(\"[$index] noise_add\");\n",
    "    noise_node     = GaussianMeanVarianceNode(\"[$index] noise_node\");\n",
    "    noise_mean     = ConstantVariable(\"[$index] noise_mean\", 0.0, noise_node.mean);\n",
    "    noise_variance = ConstantVariable(\"[$index] noise_variance\", 200.0, noise_node.variance);\n",
    "    \n",
    "    tmp = RandomVariable(\"[$index] tmp\", noise_node.value, noise_add.in2)\n",
    "    yn  = ObservedVariable(\"[$index] yn\", noise_add.out)\n",
    "    \n",
    "    return (yn, noise_add)\n",
    "end\n",
    "\n",
    "function createGraph(size::Int)\n",
    "    gmv_0   = GaussianMeanVarianceNode(\"[0] gmv\");\n",
    "    gmv_0_m = PriorVariable(\"[0] gmv_m\", gmv_0.mean);\n",
    "    gmv_0_v = PriorVariable(\"[0] gmv_v\", gmv_0.variance);\n",
    "    \n",
    "    add_c_0 = AdditionNode(\"[0] add_c\");\n",
    "    x0      = RandomVariable(\"[0] x\", gmv_0.value, add_c_0.in1)\n",
    "    c0      = ConstantVariable(\"[0] c\", 1.0, add_c_0.in2)\n",
    "    \n",
    "    index = 1\n",
    "    \n",
    "    prev_add_c = add_c_0\n",
    "    \n",
    "    xs = Vector{RandomVariable}(undef, size)\n",
    "    ys = Vector{ObservedVariable}(undef, size)\n",
    "    \n",
    "    while index < size\n",
    "        equality_n    = EqualityIOONode(\"[$index] equality\")\n",
    "        yn, noise_add = createSubgraph(index)\n",
    "        \n",
    "        xn  = RandomVariable(\"[$index] xn\", prev_add_c.out, equality_n.in1)\n",
    "        xn_ = RandomVariable(\"[$index] xn_\", equality_n.out1, noise_add.in1)\n",
    "        \n",
    "        add_c = AdditionNode(\"[$index] add_c\");\n",
    "        \n",
    "        xn__ = RandomVariable(\"[$index] xn__\", equality_n.out2, add_c.in1)\n",
    "        cn   = ConstantVariable(\"[$index] cn\", 1.0, add_c.in2)\n",
    "        \n",
    "        xs[index] = xn\n",
    "        ys[index] = yn\n",
    "        \n",
    "        prev_add_c = add_c\n",
    "        \n",
    "        index += 1\n",
    "    end\n",
    "    \n",
    "    last_noise_add = AdditionNode(\"[last] noise_add\");\n",
    "    x_last         = RandomVariable(\"[last] x\", prev_add_c.out, last_noise_add.in1)\n",
    "    \n",
    "    last_noise_node     = GaussianMeanVarianceNode(\"[last] noise_node\");\n",
    "    last_noise_mean     = ConstantVariable(\"[last] noise_mean\", 0.0, last_noise_node.mean);\n",
    "    last_noise_variance = ConstantVariable(\"[last] noise_variance\", 200.0, last_noise_node.variance);\n",
    "    \n",
    "    z      = RandomVariable(\"[last] z\", last_noise_node.value, last_noise_add.in2)\n",
    "    y_last = ObservedVariable(\"[last] y\", last_noise_add.out)\n",
    "    \n",
    "    xs[size] = x_last\n",
    "    ys[size] = y_last\n",
    "    \n",
    "    return (xs, ys, gmv_0_m, gmv_0_v)\n",
    "end"
   ]
  },
  {
   "cell_type": "code",
   "execution_count": 3,
   "metadata": {},
   "outputs": [
    {
     "data": {
      "text/plain": [
       "smoothing (generic function with 1 method)"
      ]
     },
     "execution_count": 3,
     "metadata": {},
     "output_type": "execute_result"
    }
   ],
   "source": [
    "function smoothing(data)\n",
    "    N = length(data)\n",
    "    \n",
    "    xs, ys, prior_m, prior_v = createGraph(N);\n",
    "    \n",
    "    messages      = Vector{StochasticMessage{Normal{Float64}}}(undef, N)\n",
    "    subscriptions = Vector{Teardown}(undef, N)\n",
    "    \n",
    "    @inbounds for (index, x) in enumerate(xs)\n",
    "        subscriptions[index] = subscribe!(inference(x), (d) -> messages[index] = d)\n",
    "    end\n",
    "    \n",
    "    # subscribe!(inference(xs[1]) |> take(1), (d) -> messages[1] = d)\n",
    "    # subscribe!(inference(xs[N]) |> take(1), (d) -> messages[N] = d)\n",
    "    \n",
    "    update!(prior_m, 0.0)\n",
    "    update!(prior_v, 1000.0)\n",
    "    for i in 1:N\n",
    "       update!(ys[i], data[i])\n",
    "    end\n",
    "    \n",
    "#     for i in 2:N-1\n",
    "#         subscribe!(inference(xs[i]) |> take(1), (d) -> messages[i] = d)\n",
    "#     end\n",
    "    \n",
    "    foreach(unsubscribe!, subscriptions)\n",
    "    \n",
    "    return messages\n",
    "end"
   ]
  },
  {
   "cell_type": "code",
   "execution_count": 12,
   "metadata": {},
   "outputs": [],
   "source": [
    "N = 600\n",
    "data = collect(1:N) + sqrt(200.0) * randn(N);"
   ]
  },
  {
   "cell_type": "code",
   "execution_count": 15,
   "metadata": {},
   "outputs": [
    {
     "name": "stdout",
     "output_type": "stream",
     "text": [
      "  40.104 ms (360909 allocations: 13.03 MiB)\n"
     ]
    }
   ],
   "source": [
    "@btime smoothing($data);"
   ]
  },
  {
   "cell_type": "code",
   "execution_count": 14,
   "metadata": {},
   "outputs": [
    {
     "name": "stdout",
     "output_type": "stream",
     "text": [
      "  0.049965 seconds (360.91 k allocations: 13.033 MiB)\n"
     ]
    },
    {
     "data": {
      "text/plain": [
       "600-element Array{StochasticMessage{Normal{Float64}},1}:\n",
       " StochasticMessage{Normal{Float64}}(Normal{Float64}(μ=0.8060610275437358, σ=0.5772540681943419))\n",
       " StochasticMessage{Normal{Float64}}(Normal{Float64}(μ=1.8060610275437359, σ=0.577254068194342))\n",
       " StochasticMessage{Normal{Float64}}(Normal{Float64}(μ=2.806061027543736, σ=0.577254068194342))\n",
       " StochasticMessage{Normal{Float64}}(Normal{Float64}(μ=3.8060610275437354, σ=0.5772540681943419))\n",
       " StochasticMessage{Normal{Float64}}(Normal{Float64}(μ=4.806061027543735, σ=0.5772540681943418))\n",
       " StochasticMessage{Normal{Float64}}(Normal{Float64}(μ=5.806061027543736, σ=0.5772540681943419))\n",
       " StochasticMessage{Normal{Float64}}(Normal{Float64}(μ=6.806061027543737, σ=0.5772540681943419))\n",
       " StochasticMessage{Normal{Float64}}(Normal{Float64}(μ=7.806061027543737, σ=0.577254068194342))\n",
       " StochasticMessage{Normal{Float64}}(Normal{Float64}(μ=8.806061027543736, σ=0.577254068194342))\n",
       " StochasticMessage{Normal{Float64}}(Normal{Float64}(μ=9.806061027543736, σ=0.5772540681943419))\n",
       " StochasticMessage{Normal{Float64}}(Normal{Float64}(μ=10.806061027543734, σ=0.5772540681943419))\n",
       " StochasticMessage{Normal{Float64}}(Normal{Float64}(μ=11.806061027543734, σ=0.5772540681943419))\n",
       " StochasticMessage{Normal{Float64}}(Normal{Float64}(μ=12.806061027543734, σ=0.5772540681943419))\n",
       " ⋮\n",
       " StochasticMessage{Normal{Float64}}(Normal{Float64}(μ=588.8060610275434, σ=0.5772540681943417))\n",
       " StochasticMessage{Normal{Float64}}(Normal{Float64}(μ=589.8060610275434, σ=0.5772540681943416))\n",
       " StochasticMessage{Normal{Float64}}(Normal{Float64}(μ=590.8060610275433, σ=0.5772540681943416))\n",
       " StochasticMessage{Normal{Float64}}(Normal{Float64}(μ=591.8060610275433, σ=0.5772540681943416))\n",
       " StochasticMessage{Normal{Float64}}(Normal{Float64}(μ=592.8060610275434, σ=0.5772540681943416))\n",
       " StochasticMessage{Normal{Float64}}(Normal{Float64}(μ=593.8060610275435, σ=0.5772540681943417))\n",
       " StochasticMessage{Normal{Float64}}(Normal{Float64}(μ=594.8060610275434, σ=0.5772540681943418))\n",
       " StochasticMessage{Normal{Float64}}(Normal{Float64}(μ=595.8060610275434, σ=0.5772540681943418))\n",
       " StochasticMessage{Normal{Float64}}(Normal{Float64}(μ=596.8060610275433, σ=0.5772540681943418))\n",
       " StochasticMessage{Normal{Float64}}(Normal{Float64}(μ=597.8060610275433, σ=0.5772540681943417))\n",
       " StochasticMessage{Normal{Float64}}(Normal{Float64}(μ=598.8060610275433, σ=0.5772540681943418))\n",
       " StochasticMessage{Normal{Float64}}(Normal{Float64}(μ=599.8060610275434, σ=0.5772540681943418))"
      ]
     },
     "execution_count": 14,
     "metadata": {},
     "output_type": "execute_result"
    }
   ],
   "source": [
    "@time smoothing(data)"
   ]
  },
  {
   "cell_type": "code",
   "execution_count": null,
   "metadata": {},
   "outputs": [],
   "source": []
  }
 ],
 "metadata": {
  "kernelspec": {
   "display_name": "Julia 1.4.1",
   "language": "julia",
   "name": "julia-1.4"
  },
  "language_info": {
   "file_extension": ".jl",
   "mimetype": "application/julia",
   "name": "julia",
   "version": "1.4.1"
  }
 },
 "nbformat": 4,
 "nbformat_minor": 4
}
