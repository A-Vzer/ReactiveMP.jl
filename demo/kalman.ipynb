{
 "cells": [
  {
   "cell_type": "code",
   "execution_count": 1,
   "metadata": {},
   "outputs": [
    {
     "name": "stderr",
     "output_type": "stream",
     "text": [
      "┌ Info: Precompiling ReactiveMP [a194aa59-28ba-4574-a09c-4a745416d6e3]\n",
      "└ @ Base loading.jl:1260\n",
      "┌ Warning: Package ReactiveMP does not have Rocket in its dependencies:\n",
      "│ - If you have ReactiveMP checked out for development and have\n",
      "│   added Rocket as a dependency but haven't updated your primary\n",
      "│   environment's manifest file, try `Pkg.resolve()`.\n",
      "│ - Otherwise you may need to report an issue with ReactiveMP\n",
      "└ Loading Rocket into ReactiveMP from project dependency, future warnings for ReactiveMP are suppressed.\n"
     ]
    }
   ],
   "source": [
    "using Distributions\n",
    "using Rocket\n",
    "using ReactiveMP\n",
    "using BenchmarkTools\n",
    "\n",
    "import Base: show"
   ]
  },
  {
   "cell_type": "code",
   "execution_count": 2,
   "metadata": {},
   "outputs": [
    {
     "data": {
      "text/plain": [
       "kalman (generic function with 1 method)"
      ]
     },
     "execution_count": 2,
     "metadata": {},
     "output_type": "execute_result"
    }
   ],
   "source": [
    "function kalman_filter_graph()\n",
    "    x_prev_add   = AdditionNode(\"x_prev_add\");\n",
    "    add_1        = ConstantVariable(\"add_1\", 1.0, x_prev_add.in2);\n",
    "\n",
    "    x_prev_prior = GaussianMeanVarianceNode(\"x_prev_prior\");\n",
    "    x_prev_m     = PriorVariable(\"x_prev_m\", x_prev_prior.mean);\n",
    "    x_prev_v     = PriorVariable(\"x_prev_v\", x_prev_prior.variance);\n",
    "\n",
    "    x_prev = RandomVariable(\"x_prev\", x_prev_prior.value, x_prev_add.in1);\n",
    "\n",
    "    noise_node     = GaussianMeanVarianceNode(\"noise_node\");\n",
    "    noise_mean     = ConstantVariable(\"noise_mean\", 0.0, noise_node.mean);\n",
    "    noise_variance = ConstantVariable(\"noise_variance\", 200.0, noise_node.variance);\n",
    "\n",
    "    add_x_and_noise = AdditionNode(\"add_x_and_noise\");\n",
    "\n",
    "    x = RandomVariable(\"x\", x_prev_add.out, add_x_and_noise.in1);\n",
    "    n = RandomVariable(\"n\", noise_node.value, add_x_and_noise.in2);\n",
    "    y = ObservedVariable(\"y\", add_x_and_noise.out);\n",
    "    \n",
    "    return x_prev_m, x_prev_v, x, y\n",
    "end\n",
    "\n",
    "function kalman(data)\n",
    "    N = length(data)\n",
    "    \n",
    "    x_prev_m, x_prev_v, x, y = kalman_filter_graph()\n",
    "    \n",
    "    messages = Vector{AbstractMessage}(undef, N)\n",
    "    updates  = Channel{Tuple{Float64, Float64, Float64}}(Inf) do ch\n",
    "        while true\n",
    "            update_data = take!(ch)\n",
    "            update!(x_prev_m, update_data[1])\n",
    "            update!(x_prev_v, update_data[2])\n",
    "            update!(y, update_data[3])\n",
    "        end\n",
    "    end\n",
    "    \n",
    "    actor = sync(lambda(Tuple{AbstractMessage, Int},\n",
    "        on_next = (d) -> begin\n",
    "            # println(d)    \n",
    "                \n",
    "            message = d[1]\n",
    "            index   = d[2]\n",
    "                    \n",
    "            if index < N\n",
    "                push!(updates, (mean(message.distribution), var(message.distribution), data[index + 1]))\n",
    "            else\n",
    "                complete!(x_prev_m.values)\n",
    "                complete!(x_prev_v.values)\n",
    "                complete!(y.values)\n",
    "                close(updates)\n",
    "            end\n",
    "                \n",
    "            messages[index] = message\n",
    "        end,\n",
    "        on_error = (e) -> println(e)\n",
    "    ))\n",
    "    \n",
    "    @async begin\n",
    "        subscribe!(inference(x) |> safe() |> enumerate(), actor)\n",
    "        push!(updates, (0.0, 1000.0, data[1]))\n",
    "    end\n",
    "    \n",
    "    wait(actor)\n",
    "    \n",
    "    return messages\n",
    "end"
   ]
  },
  {
   "cell_type": "code",
   "execution_count": 3,
   "metadata": {},
   "outputs": [],
   "source": [
    "N = 128\n",
    "data = collect(1:N) + sqrt(200.0) * randn(N);"
   ]
  },
  {
   "cell_type": "code",
   "execution_count": 6,
   "metadata": {},
   "outputs": [
    {
     "name": "stdout",
     "output_type": "stream",
     "text": [
      "  345.549 μs (4262 allocations: 154.25 KiB)\n"
     ]
    }
   ],
   "source": [
    "@btime kalman($data);"
   ]
  },
  {
   "cell_type": "code",
   "execution_count": 7,
   "metadata": {},
   "outputs": [
    {
     "name": "stdout",
     "output_type": "stream",
     "text": [
      "  0.000710 seconds (4.26 k allocations: 154.234 KiB)\n"
     ]
    },
    {
     "data": {
      "text/plain": [
       "128-element Array{AbstractMessage,1}:\n",
       " StochasticMessage{Normal{Float64}}(Normal{Float64}(μ=-2.0769999460614073, σ=12.909944487358057))\n",
       " StochasticMessage{Normal{Float64}}(Normal{Float64}(μ=0.8912630631289872, σ=9.534625892455924))\n",
       " StochasticMessage{Normal{Float64}}(Normal{Float64}(μ=5.33119085457633, σ=7.905694150420949))\n",
       " StochasticMessage{Normal{Float64}}(Normal{Float64}(μ=5.742951350408047, σ=6.900655593423543))\n",
       " StochasticMessage{Normal{Float64}}(Normal{Float64}(μ=10.319694743802762, σ=6.201736729460423))\n",
       " StochasticMessage{Normal{Float64}}(Normal{Float64}(μ=12.392982588110826, σ=5.679618342470648))\n",
       " StochasticMessage{Normal{Float64}}(Normal{Float64}(μ=16.429146955706095, σ=5.2704627669473))\n",
       " StochasticMessage{Normal{Float64}}(Normal{Float64}(μ=17.33010833714951, σ=4.938647983247948))\n",
       " StochasticMessage{Normal{Float64}}(Normal{Float64}(μ=18.26004947000655, σ=4.66252404120157))\n",
       " StochasticMessage{Normal{Float64}}(Normal{Float64}(μ=17.245917230473182, σ=4.428074427700477))\n",
       " StochasticMessage{Normal{Float64}}(Normal{Float64}(μ=17.688538677697967, σ=4.225771273642584))\n",
       " StochasticMessage{Normal{Float64}}(Normal{Float64}(μ=18.435008787514118, σ=4.0488816508945815))\n",
       " StochasticMessage{Normal{Float64}}(Normal{Float64}(μ=16.310040533092526, σ=3.8924947208076164))\n",
       " ⋮\n",
       " StochasticMessage{Normal{Float64}}(Normal{Float64}(μ=117.99016627363767, σ=1.30632486068291))\n",
       " StochasticMessage{Normal{Float64}}(Normal{Float64}(μ=118.95462546483955, σ=1.3007872144692092))\n",
       " StochasticMessage{Normal{Float64}}(Normal{Float64}(μ=119.86563619174991, σ=1.2953194003770991))\n",
       " StochasticMessage{Normal{Float64}}(Normal{Float64}(μ=120.86089355576792, σ=1.2899199629493712))\n",
       " StochasticMessage{Normal{Float64}}(Normal{Float64}(μ=121.88822604030283, σ=1.2845874888467694))\n",
       " StochasticMessage{Normal{Float64}}(Normal{Float64}(μ=122.70882217336535, σ=1.2793206052938002))\n",
       " StochasticMessage{Normal{Float64}}(Normal{Float64}(μ=123.87964852673754, σ=1.2741179785940635))\n",
       " StochasticMessage{Normal{Float64}}(Normal{Float64}(μ=125.12450672080442, σ=1.268978312711468))\n",
       " StochasticMessage{Normal{Float64}}(Normal{Float64}(μ=126.15824102283867, σ=1.2639003479138964))\n",
       " StochasticMessage{Normal{Float64}}(Normal{Float64}(μ=127.29877727317157, σ=1.2588828594761012))\n",
       " StochasticMessage{Normal{Float64}}(Normal{Float64}(μ=128.23866310142867, σ=1.2539246564387976))\n",
       " StochasticMessage{Normal{Float64}}(Normal{Float64}(μ=129.27663994571813, σ=1.2490245804210978))"
      ]
     },
     "execution_count": 7,
     "metadata": {},
     "output_type": "execute_result"
    }
   ],
   "source": [
    "@time kalman(data)"
   ]
  },
  {
   "cell_type": "code",
   "execution_count": null,
   "metadata": {},
   "outputs": [],
   "source": []
  }
 ],
 "metadata": {
  "kernelspec": {
   "display_name": "Julia 1.4.1",
   "language": "julia",
   "name": "julia-1.4"
  },
  "language_info": {
   "file_extension": ".jl",
   "mimetype": "application/julia",
   "name": "julia",
   "version": "1.4.1"
  }
 },
 "nbformat": 4,
 "nbformat_minor": 4
}
