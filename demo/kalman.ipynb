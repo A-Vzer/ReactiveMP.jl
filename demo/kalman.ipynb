{
 "cells": [
  {
   "cell_type": "code",
   "execution_count": 2,
   "metadata": {},
   "outputs": [],
   "source": [
    "using Distributions\n",
    "using ReactiveMP\n",
    "using Rocket\n",
    "using BenchmarkTools\n",
    "\n",
    "import Base: show"
   ]
  },
  {
   "cell_type": "code",
   "execution_count": 16,
   "metadata": {},
   "outputs": [
    {
     "data": {
      "text/plain": [
       "kalman (generic function with 2 methods)"
      ]
     },
     "execution_count": 16,
     "metadata": {},
     "output_type": "execute_result"
    }
   ],
   "source": [
    "function kalman_filter_graph()\n",
    "    x_prev_add   = AdditionNode(\"x_prev_add\");\n",
    "    add_1        = ConstantVariable(\"add_1\", 1.0, x_prev_add.in2);\n",
    "\n",
    "    x_prev_prior = GaussianMeanVarianceNode(\"x_prev_prior\");\n",
    "    x_prev_m     = PriorVariable(\"x_prev_m\", x_prev_prior.mean);\n",
    "    x_prev_v     = PriorVariable(\"x_prev_v\", x_prev_prior.variance);\n",
    "\n",
    "    x_prev = RandomVariable(\"x_prev\", x_prev_prior.value, x_prev_add.in1);\n",
    "\n",
    "    noise_node     = GaussianMeanVarianceNode(\"noise_node\");\n",
    "    noise_mean     = ConstantVariable(\"noise_mean\", 0.0, noise_node.mean);\n",
    "    noise_variance = ConstantVariable(\"noise_variance\", 200.0, noise_node.variance);\n",
    "\n",
    "    add_x_and_noise = AdditionNode(\"add_x_and_noise\");\n",
    "\n",
    "    x = RandomVariable(\"x\", x_prev_add.out, add_x_and_noise.in1);\n",
    "    n = RandomVariable(\"n\", noise_node.value, add_x_and_noise.in2);\n",
    "    y = ObservedVariable(\"y\", add_x_and_noise.out);\n",
    "    \n",
    "    return x_prev_m, x_prev_v, x, y\n",
    "end\n",
    "\n",
    "function kalman(data)\n",
    "    N = length(data)\n",
    "    \n",
    "    x_prev_m, x_prev_v, x, y = kalman_filter_graph()\n",
    "    \n",
    "    messages = Vector{AbstractMessage}(undef, N)\n",
    "    updates  = Channel{Tuple{Float64, Float64, Float64}}(Inf) do ch\n",
    "        while true\n",
    "            update_data = take!(ch)\n",
    "            update!(x_prev_m, update_data[1])\n",
    "            update!(x_prev_v, update_data[2])\n",
    "            update!(y, update_data[3])\n",
    "        end\n",
    "    end\n",
    "    \n",
    "    actor = sync(lambda(Tuple{AbstractMessage, Int},\n",
    "        on_next = (d) -> begin\n",
    "            # println(d)    \n",
    "                \n",
    "            message = d[1]\n",
    "            index   = d[2]\n",
    "                    \n",
    "            if index < N\n",
    "                push!(updates, (mean(message.distribution), var(message.distribution), data[index + 1]))\n",
    "            else\n",
    "                complete!(x_prev_m.values)\n",
    "                complete!(x_prev_v.values)\n",
    "                complete!(y.values)\n",
    "                close(updates)\n",
    "            end\n",
    "                \n",
    "            messages[index] = message\n",
    "        end,\n",
    "        on_error = (e) -> println(e)\n",
    "    ))\n",
    "    \n",
    "    @async begin\n",
    "        subscribe!(inference(x) |> safe() |> enumerate(), actor)\n",
    "        push!(updates, (0.0, 1000.0, data[1]))\n",
    "    end\n",
    "    \n",
    "    wait(actor)\n",
    "    \n",
    "    return messages\n",
    "end"
   ]
  },
  {
   "cell_type": "code",
   "execution_count": 17,
   "metadata": {},
   "outputs": [],
   "source": [
    "N = 5000\n",
    "data = collect(1:N) + sqrt(200.0) * randn(N);"
   ]
  },
  {
   "cell_type": "code",
   "execution_count": 21,
   "metadata": {},
   "outputs": [
    {
     "name": "stdout",
     "output_type": "stream",
     "text": [
      "  8.528 ms (155492 allocations: 5.40 MiB)\n"
     ]
    },
    {
     "data": {
      "text/plain": [
       "5000-element Array{AbstractMessage,1}:\n",
       " StochasticMessage{Normal{Float64}}(Normal{Float64}(μ=-5.8090765603313, σ=12.909944487358057))\n",
       " StochasticMessage{Normal{Float64}}(Normal{Float64}(μ=-11.78623001892783, σ=9.534625892455924))\n",
       " StochasticMessage{Normal{Float64}}(Normal{Float64}(μ=-10.829235558908996, σ=7.905694150420949))\n",
       " StochasticMessage{Normal{Float64}}(Normal{Float64}(μ=-7.190578666903145, σ=6.900655593423543))\n",
       " StochasticMessage{Normal{Float64}}(Normal{Float64}(μ=-4.205553014335523, σ=6.201736729460423))\n",
       " StochasticMessage{Normal{Float64}}(Normal{Float64}(μ=-1.697258853940365, σ=5.679618342470648))\n",
       " StochasticMessage{Normal{Float64}}(Normal{Float64}(μ=-2.448883333212301, σ=5.2704627669473))\n",
       " StochasticMessage{Normal{Float64}}(Normal{Float64}(μ=-1.557294814603282, σ=4.938647983247948))\n",
       " StochasticMessage{Normal{Float64}}(Normal{Float64}(μ=1.0083754783289836, σ=4.66252404120157))\n",
       " StochasticMessage{Normal{Float64}}(Normal{Float64}(μ=1.5377819379583102, σ=4.428074427700477))\n",
       " StochasticMessage{Normal{Float64}}(Normal{Float64}(μ=3.4840811427521494, σ=4.225771273642584))\n",
       " StochasticMessage{Normal{Float64}}(Normal{Float64}(μ=3.334994311125652, σ=4.0488816508945815))\n",
       " StochasticMessage{Normal{Float64}}(Normal{Float64}(μ=4.543331177640475, σ=3.8924947208076164))\n",
       " ⋮\n",
       " StochasticMessage{Normal{Float64}}(Normal{Float64}(μ=4989.10350800832, σ=0.2002163505510488))\n",
       " StochasticMessage{Normal{Float64}}(Normal{Float64}(μ=4990.104908058539, σ=0.20019628859140454))\n",
       " StochasticMessage{Normal{Float64}}(Normal{Float64}(μ=4991.101711150954, σ=0.2001762326612616))\n",
       " StochasticMessage{Normal{Float64}}(Normal{Float64}(μ=4992.101814358542, σ=0.2001561827576004))\n",
       " StochasticMessage{Normal{Float64}}(Normal{Float64}(μ=4993.101412214033, σ=0.20013613887740336))\n",
       " StochasticMessage{Normal{Float64}}(Normal{Float64}(μ=4994.100121273749, σ=0.20011610101765515))\n",
       " StochasticMessage{Normal{Float64}}(Normal{Float64}(μ=4995.107890523442, σ=0.2000960691753425))\n",
       " StochasticMessage{Normal{Float64}}(Normal{Float64}(μ=4996.10773125636, σ=0.20007604334745427))\n",
       " StochasticMessage{Normal{Float64}}(Normal{Float64}(μ=4997.109160259822, σ=0.2000560235309814))\n",
       " StochasticMessage{Normal{Float64}}(Normal{Float64}(μ=4998.109005847265, σ=0.20003600972291694))\n",
       " StochasticMessage{Normal{Float64}}(Normal{Float64}(μ=4999.104947480848, σ=0.20001600192025604))\n",
       " StochasticMessage{Normal{Float64}}(Normal{Float64}(μ=5000.107825790797, σ=0.19999600011999602))"
      ]
     },
     "execution_count": 21,
     "metadata": {},
     "output_type": "execute_result"
    }
   ],
   "source": [
    "@btime s = kalman($data)"
   ]
  },
  {
   "cell_type": "code",
   "execution_count": 22,
   "metadata": {},
   "outputs": [
    {
     "name": "stdout",
     "output_type": "stream",
     "text": [
      "  0.013000 seconds (155.49 k allocations: 5.398 MiB)\n"
     ]
    },
    {
     "data": {
      "text/plain": [
       "5000-element Array{AbstractMessage,1}:\n",
       " StochasticMessage{Normal{Float64}}(Normal{Float64}(μ=-5.8090765603313, σ=12.909944487358057))\n",
       " StochasticMessage{Normal{Float64}}(Normal{Float64}(μ=-11.78623001892783, σ=9.534625892455924))\n",
       " StochasticMessage{Normal{Float64}}(Normal{Float64}(μ=-10.829235558908996, σ=7.905694150420949))\n",
       " StochasticMessage{Normal{Float64}}(Normal{Float64}(μ=-7.190578666903145, σ=6.900655593423543))\n",
       " StochasticMessage{Normal{Float64}}(Normal{Float64}(μ=-4.205553014335523, σ=6.201736729460423))\n",
       " StochasticMessage{Normal{Float64}}(Normal{Float64}(μ=-1.697258853940365, σ=5.679618342470648))\n",
       " StochasticMessage{Normal{Float64}}(Normal{Float64}(μ=-2.448883333212301, σ=5.2704627669473))\n",
       " StochasticMessage{Normal{Float64}}(Normal{Float64}(μ=-1.557294814603282, σ=4.938647983247948))\n",
       " StochasticMessage{Normal{Float64}}(Normal{Float64}(μ=1.0083754783289836, σ=4.66252404120157))\n",
       " StochasticMessage{Normal{Float64}}(Normal{Float64}(μ=1.5377819379583102, σ=4.428074427700477))\n",
       " StochasticMessage{Normal{Float64}}(Normal{Float64}(μ=3.4840811427521494, σ=4.225771273642584))\n",
       " StochasticMessage{Normal{Float64}}(Normal{Float64}(μ=3.334994311125652, σ=4.0488816508945815))\n",
       " StochasticMessage{Normal{Float64}}(Normal{Float64}(μ=4.543331177640475, σ=3.8924947208076164))\n",
       " ⋮\n",
       " StochasticMessage{Normal{Float64}}(Normal{Float64}(μ=4989.10350800832, σ=0.2002163505510488))\n",
       " StochasticMessage{Normal{Float64}}(Normal{Float64}(μ=4990.104908058539, σ=0.20019628859140454))\n",
       " StochasticMessage{Normal{Float64}}(Normal{Float64}(μ=4991.101711150954, σ=0.2001762326612616))\n",
       " StochasticMessage{Normal{Float64}}(Normal{Float64}(μ=4992.101814358542, σ=0.2001561827576004))\n",
       " StochasticMessage{Normal{Float64}}(Normal{Float64}(μ=4993.101412214033, σ=0.20013613887740336))\n",
       " StochasticMessage{Normal{Float64}}(Normal{Float64}(μ=4994.100121273749, σ=0.20011610101765515))\n",
       " StochasticMessage{Normal{Float64}}(Normal{Float64}(μ=4995.107890523442, σ=0.2000960691753425))\n",
       " StochasticMessage{Normal{Float64}}(Normal{Float64}(μ=4996.10773125636, σ=0.20007604334745427))\n",
       " StochasticMessage{Normal{Float64}}(Normal{Float64}(μ=4997.109160259822, σ=0.2000560235309814))\n",
       " StochasticMessage{Normal{Float64}}(Normal{Float64}(μ=4998.109005847265, σ=0.20003600972291694))\n",
       " StochasticMessage{Normal{Float64}}(Normal{Float64}(μ=4999.104947480848, σ=0.20001600192025604))\n",
       " StochasticMessage{Normal{Float64}}(Normal{Float64}(μ=5000.107825790797, σ=0.19999600011999602))"
      ]
     },
     "execution_count": 22,
     "metadata": {},
     "output_type": "execute_result"
    }
   ],
   "source": [
    "@time s = kalman(data)"
   ]
  },
  {
   "cell_type": "code",
   "execution_count": null,
   "metadata": {},
   "outputs": [],
   "source": []
  }
 ],
 "metadata": {
  "kernelspec": {
   "display_name": "Julia 1.4.0",
   "language": "julia",
   "name": "julia-1.4"
  },
  "language_info": {
   "file_extension": ".jl",
   "mimetype": "application/julia",
   "name": "julia",
   "version": "1.4.0"
  }
 },
 "nbformat": 4,
 "nbformat_minor": 4
}
