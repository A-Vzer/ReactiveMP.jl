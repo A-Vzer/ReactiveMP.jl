{
 "cells": [
  {
   "cell_type": "code",
   "execution_count": 7,
   "metadata": {},
   "outputs": [],
   "source": [
    "using Distributions\n",
    "using Rocket\n",
    "using ReactiveMP\n",
    "using BenchmarkTools\n",
    "\n",
    "import Base: show"
   ]
  },
  {
   "cell_type": "code",
   "execution_count": 8,
   "metadata": {},
   "outputs": [
    {
     "data": {
      "text/plain": [
       "kalman (generic function with 1 method)"
      ]
     },
     "execution_count": 8,
     "metadata": {},
     "output_type": "execute_result"
    }
   ],
   "source": [
    "function kalman_filter_graph()\n",
    "    x_prev_add   = AdditionNode(\"x_prev_add\");\n",
    "    add_1        = ConstantVariable(\"add_1\", 1.0, x_prev_add.in2);\n",
    "\n",
    "    x_prev_prior = GaussianMeanVarianceNode(\"x_prev_prior\");\n",
    "    x_prev_m     = PriorVariable(\"x_prev_m\", x_prev_prior.mean);\n",
    "    x_prev_v     = PriorVariable(\"x_prev_v\", x_prev_prior.variance);\n",
    "\n",
    "    x_prev = RandomVariable(\"x_prev\", x_prev_prior.value, x_prev_add.in1);\n",
    "\n",
    "    noise_node     = GaussianMeanVarianceNode(\"noise_node\");\n",
    "    noise_mean     = ConstantVariable(\"noise_mean\", 0.0, noise_node.mean);\n",
    "    noise_variance = ConstantVariable(\"noise_variance\", 200.0, noise_node.variance);\n",
    "\n",
    "    add_x_and_noise = AdditionNode(\"add_x_and_noise\");\n",
    "\n",
    "    x = RandomVariable(\"x\", x_prev_add.out, add_x_and_noise.in1);\n",
    "    n = RandomVariable(\"n\", noise_node.value, add_x_and_noise.in2);\n",
    "    y = ObservedVariable(\"y\", add_x_and_noise.out);\n",
    "    \n",
    "    return x_prev_m, x_prev_v, x, y\n",
    "end\n",
    "\n",
    "function kalman(data)\n",
    "    N = length(data)\n",
    "    \n",
    "    x_prev_m, x_prev_v, x, y = kalman_filter_graph()\n",
    "    \n",
    "    messages = Vector{AbstractMessage}(undef, N)\n",
    "    updates  = Channel{Tuple{Float64, Float64, Float64}}(Inf) do ch\n",
    "        while true\n",
    "            update_data = take!(ch)\n",
    "            update!(x_prev_m, update_data[1])\n",
    "            update!(x_prev_v, update_data[2])\n",
    "            update!(y, update_data[3])\n",
    "        end\n",
    "    end\n",
    "    \n",
    "    actor = sync(lambda(Tuple{AbstractMessage, Int},\n",
    "        on_next = (d) -> begin\n",
    "            # println(d)    \n",
    "                \n",
    "            message = d[1]\n",
    "            index   = d[2]\n",
    "                    \n",
    "            if index < N\n",
    "                push!(updates, (mean(message.distribution), var(message.distribution), data[index + 1]))\n",
    "            else\n",
    "                complete!(x_prev_m.values)\n",
    "                complete!(x_prev_v.values)\n",
    "                complete!(y.values)\n",
    "                close(updates)\n",
    "            end\n",
    "                \n",
    "            messages[index] = message\n",
    "        end,\n",
    "        on_error = (e) -> println(e)\n",
    "    ))\n",
    "    \n",
    "    @async begin\n",
    "        subscribe!(inference(x) |> safe() |> enumerate(), actor)\n",
    "        push!(updates, (0.0, 1000.0, data[1]))\n",
    "    end\n",
    "    \n",
    "    wait(actor)\n",
    "    \n",
    "    return messages\n",
    "end"
   ]
  },
  {
   "cell_type": "code",
   "execution_count": 12,
   "metadata": {},
   "outputs": [],
   "source": [
    "N = 600\n",
    "data = collect(1:N) + sqrt(200.0) * randn(N);"
   ]
  },
  {
   "cell_type": "code",
   "execution_count": 14,
   "metadata": {},
   "outputs": [
    {
     "name": "stdout",
     "output_type": "stream",
     "text": [
      "  1.203 ms (18422 allocations: 659.42 KiB)\n"
     ]
    }
   ],
   "source": [
    "@btime kalman($data);"
   ]
  },
  {
   "cell_type": "code",
   "execution_count": 13,
   "metadata": {},
   "outputs": [
    {
     "name": "stdout",
     "output_type": "stream",
     "text": [
      "  0.001536 seconds (18.42 k allocations: 659.406 KiB)\n"
     ]
    },
    {
     "data": {
      "text/plain": [
       "600-element Array{AbstractMessage,1}:\n",
       " StochasticMessage{Normal{Float64}}(Normal{Float64}(μ=-3.8322728439540827, σ=12.909944487358057))\n",
       " StochasticMessage{Normal{Float64}}(Normal{Float64}(μ=-0.0570237434651641, σ=9.534625892455924))\n",
       " StochasticMessage{Normal{Float64}}(Normal{Float64}(μ=6.533462214973942, σ=7.905694150420949))\n",
       " StochasticMessage{Normal{Float64}}(Normal{Float64}(μ=9.178969143988438, σ=6.900655593423543))\n",
       " StochasticMessage{Normal{Float64}}(Normal{Float64}(μ=4.9793716399517525, σ=6.201736729460423))\n",
       " StochasticMessage{Normal{Float64}}(Normal{Float64}(μ=2.9850588902065294, σ=5.679618342470648))\n",
       " StochasticMessage{Normal{Float64}}(Normal{Float64}(μ=7.067778770165434, σ=5.2704627669473))\n",
       " StochasticMessage{Normal{Float64}}(Normal{Float64}(μ=8.634776969900777, σ=4.938647983247948))\n",
       " StochasticMessage{Normal{Float64}}(Normal{Float64}(μ=9.98792524000219, σ=4.66252404120157))\n",
       " StochasticMessage{Normal{Float64}}(Normal{Float64}(μ=10.383704968219106, σ=4.428074427700477))\n",
       " StochasticMessage{Normal{Float64}}(Normal{Float64}(μ=11.035681873823235, σ=4.225771273642584))\n",
       " StochasticMessage{Normal{Float64}}(Normal{Float64}(μ=11.432014940848548, σ=4.0488816508945815))\n",
       " StochasticMessage{Normal{Float64}}(Normal{Float64}(μ=11.78962746922426, σ=3.8924947208076164))\n",
       " ⋮\n",
       " StochasticMessage{Normal{Float64}}(Normal{Float64}(μ=589.3325041106592, σ=0.5826176387363623))\n",
       " StochasticMessage{Normal{Float64}}(Normal{Float64}(μ=590.3189091269935, σ=0.5821238530397734))\n",
       " StochasticMessage{Normal{Float64}}(Normal{Float64}(μ=591.3111854020216, σ=0.5816313207127862))\n",
       " StochasticMessage{Normal{Float64}}(Normal{Float64}(μ=592.3247075359459, σ=0.5811400364620054))\n",
       " StochasticMessage{Normal{Float64}}(Normal{Float64}(μ=593.349398953193, σ=0.5806499950252811))\n",
       " StochasticMessage{Normal{Float64}}(Normal{Float64}(μ=594.3300564886206, σ=0.5801611911714719))\n",
       " StochasticMessage{Normal{Float64}}(Normal{Float64}(μ=595.2983601375794, σ=0.5796736197002104))\n",
       " StochasticMessage{Normal{Float64}}(Normal{Float64}(μ=596.2755331128744, σ=0.5791872754416708))\n",
       " StochasticMessage{Normal{Float64}}(Normal{Float64}(μ=597.2796224493852, σ=0.5787021532563389))\n",
       " StochasticMessage{Normal{Float64}}(Normal{Float64}(μ=598.2959834842193, σ=0.5782182480347837))\n",
       " StochasticMessage{Normal{Float64}}(Normal{Float64}(μ=599.3030693345307, σ=0.5777355546974314))\n",
       " StochasticMessage{Normal{Float64}}(Normal{Float64}(μ=600.2999399844753, σ=0.5772540681943418))"
      ]
     },
     "execution_count": 13,
     "metadata": {},
     "output_type": "execute_result"
    }
   ],
   "source": [
    "@time kalman(data)"
   ]
  },
  {
   "cell_type": "code",
   "execution_count": null,
   "metadata": {},
   "outputs": [],
   "source": []
  }
 ],
 "metadata": {
  "kernelspec": {
   "display_name": "Julia 1.4.1",
   "language": "julia",
   "name": "julia-1.4"
  },
  "language_info": {
   "file_extension": ".jl",
   "mimetype": "application/julia",
   "name": "julia",
   "version": "1.4.1"
  }
 },
 "nbformat": 4,
 "nbformat_minor": 4
}
