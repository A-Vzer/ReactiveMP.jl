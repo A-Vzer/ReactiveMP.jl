{
 "cells": [
  {
   "cell_type": "code",
   "execution_count": 6,
   "metadata": {},
   "outputs": [
    {
     "name": "stderr",
     "output_type": "stream",
     "text": [
      "┌ Info: Precompiling ReactiveMP [a194aa59-28ba-4574-a09c-4a745416d6e3]\n",
      "└ @ Base loading.jl:1273\n",
      "┌ Warning: Package ReactiveMP does not have Rocket in its dependencies:\n",
      "│ - If you have ReactiveMP checked out for development and have\n",
      "│   added Rocket as a dependency but haven't updated your primary\n",
      "│   environment's manifest file, try `Pkg.resolve()`.\n",
      "│ - Otherwise you may need to report an issue with ReactiveMP\n",
      "└ Loading Rocket into ReactiveMP from project dependency, future warnings for ReactiveMP are suppressed.\n"
     ]
    }
   ],
   "source": [
    "using Distributions\n",
    "using ReactiveMP\n",
    "using Rocket\n",
    "using BenchmarkTools\n",
    "\n",
    "import Base: show"
   ]
  },
  {
   "cell_type": "code",
   "execution_count": 8,
   "metadata": {
    "hide_input": false
   },
   "outputs": [],
   "source": [
    "mutable struct InferenceActor <: Actor{AbstractMessage}\n",
    "    index       :: Int\n",
    "    size        :: Int\n",
    "    data        :: Vector{Float64}\n",
    "    messages    :: Vector{AbstractMessage}\n",
    "    communicate :: Channel{Tuple{Float64, Float64}}\n",
    "    \n",
    "    y          :: ObservedVariable\n",
    "    e_mean     :: EstimatedVariable\n",
    "    e_variance :: EstimatedVariable\n",
    "    \n",
    "    InferenceActor(data::Vector{Float64}, y::ObservedVariable, e_mean::EstimatedVariable, e_variance::EstimatedVariable) = begin\n",
    "        size  = length(data)\n",
    "        messages = Vector{AbstractMessage}(undef, size)\n",
    "        \n",
    "        actor = new(1, size, data, messages, Channel{Tuple{Float64, Float64}}(Inf), y, e_mean, e_variance)\n",
    "        \n",
    "        task = @async begin\n",
    "            while true\n",
    "                u = take!(actor.communicate)\n",
    "                update!(actor, u[1], u[2])\n",
    "            end\n",
    "        end\n",
    "        \n",
    "        bind(actor.communicate, task)\n",
    "        \n",
    "        return actor\n",
    "    end\n",
    "end\n",
    "\n",
    "function update!(actor::InferenceActor, mean::Float64, variance::Float64)\n",
    "    next!(actor.y.values, actor.data[actor.index])\n",
    "    next!(actor.e_mean.values, mean)\n",
    "    next!(actor.e_variance.values, variance)\n",
    "end\n",
    "\n",
    "function stop!(actor::InferenceActor)\n",
    "    complete!(actor.y.values)\n",
    "    complete!(actor.e_mean.values)\n",
    "    complete!(actor.e_variance.values)\n",
    "end\n",
    "\n",
    "function Rocket.on_next!(actor::InferenceActor, data::AbstractMessage)\n",
    "    m = mean(data.distribution)\n",
    "    v = var(data.distribution)\n",
    "    \n",
    "    actor.messages[actor.index] = data\n",
    "    \n",
    "    actor.index += 1\n",
    "    \n",
    "    if actor.index < actor.size + 1\n",
    "        put!(actor.communicate, (m, v))\n",
    "    else\n",
    "        stop!(actor)\n",
    "    end\n",
    "end\n",
    "\n",
    "Rocket.on_error!(actor::InferenceActor, err) = error(err)\n",
    "Rocket.on_complete!(actor::InferenceActor)   = close(actor.communicate)\n",
    "\n",
    "Base.show(io::IO, actor::InferenceActor) = print(io, \"InferenceActor\")"
   ]
  },
  {
   "cell_type": "code",
   "execution_count": 9,
   "metadata": {},
   "outputs": [
    {
     "data": {
      "text/plain": [
       "kalman (generic function with 1 method)"
      ]
     },
     "execution_count": 9,
     "metadata": {},
     "output_type": "execute_result"
    }
   ],
   "source": [
    "function kalman()\n",
    "    N = 5000\n",
    "    data = collect(1:N) + sqrt(200.0) * randn(N);\n",
    "    \n",
    "    x_prev_add   = AdditionNode(\"x_prev_add\");\n",
    "    add_1        = ConstantVariable(\"add_1\", 1.0, x_prev_add.in2);\n",
    "\n",
    "    x_prev_prior = GaussianMeanVarianceNode(\"x_prev_prior\");\n",
    "    x_prev_m     = EstimatedVariable(\"x_prev_m\", x_prev_prior.mean);\n",
    "    x_prev_v     = EstimatedVariable(\"x_prev_v\", x_prev_prior.variance);\n",
    "\n",
    "    x_prev = RandomVariable(\"x_prev\", x_prev_prior.value, x_prev_add.in1);\n",
    "\n",
    "    noise_node     = GaussianMeanVarianceNode(\"noise_node\");\n",
    "    noise_mean     = ConstantVariable(\"noise_mean\", 0.0, noise_node.mean);\n",
    "    noise_variance = ConstantVariable(\"noise_variance\", 200.0, noise_node.variance);\n",
    "\n",
    "    add_x_and_noise = AdditionNode(\"add_x_and_noise\");\n",
    "\n",
    "    x = RandomVariable(\"x\", x_prev_add.out, add_x_and_noise.in1);\n",
    "    n = RandomVariable(\"n\", noise_node.value, add_x_and_noise.in2);\n",
    "    y = ObservedVariable(\"y\", add_x_and_noise.out);\n",
    "    \n",
    "    actor  = InferenceActor(data, y, x_prev_m, x_prev_v);\n",
    "    synced = sync(actor)\n",
    "    \n",
    "    @async begin\n",
    "        try\n",
    "            subscribe!(inference(x), synced)   \n",
    "            update!(actor, 0.0, 1000.0) \n",
    "        catch e \n",
    "            println(e)\n",
    "        end\n",
    "    end\n",
    "    \n",
    "    wait(synced)\n",
    "    \n",
    "    return actor.messages\n",
    "end"
   ]
  },
  {
   "cell_type": "code",
   "execution_count": 12,
   "metadata": {},
   "outputs": [
    {
     "name": "stdout",
     "output_type": "stream",
     "text": [
      "  9.213 ms (175429 allocations: 7.08 MiB)\n"
     ]
    }
   ],
   "source": [
    "@btime kalman();"
   ]
  },
  {
   "cell_type": "code",
   "execution_count": 11,
   "metadata": {},
   "outputs": [
    {
     "name": "stdout",
     "output_type": "stream",
     "text": [
      "  0.013810 seconds (175.43 k allocations: 7.076 MiB)\n"
     ]
    },
    {
     "data": {
      "text/plain": [
       "5000-element Array{AbstractMessage,1}:\n",
       " StochasticMessage{Normal{Float64}}(Normal{Float64}(μ=-14.127851150553484, σ=12.909944487358057))\n",
       " StochasticMessage{Normal{Float64}}(Normal{Float64}(μ=-2.9056460884000135, σ=9.534625892455924)) \n",
       " StochasticMessage{Normal{Float64}}(Normal{Float64}(μ=-7.461094216730649, σ=7.905694150420949))  \n",
       " StochasticMessage{Normal{Float64}}(Normal{Float64}(μ=5.336354287264882, σ=6.900655593423543))   \n",
       " StochasticMessage{Normal{Float64}}(Normal{Float64}(μ=9.374901724080516, σ=6.201736729460423))   \n",
       " StochasticMessage{Normal{Float64}}(Normal{Float64}(μ=10.13225487102013, σ=5.679618342470648))   \n",
       " StochasticMessage{Normal{Float64}}(Normal{Float64}(μ=9.803881281595935, σ=5.2704627669473))     \n",
       " StochasticMessage{Normal{Float64}}(Normal{Float64}(μ=8.444878031241663, σ=4.938647983247948))   \n",
       " StochasticMessage{Normal{Float64}}(Normal{Float64}(μ=9.174309170775857, σ=4.66252404120157))    \n",
       " StochasticMessage{Normal{Float64}}(Normal{Float64}(μ=9.230278406302045, σ=4.428074427700477))   \n",
       " StochasticMessage{Normal{Float64}}(Normal{Float64}(μ=12.628276110230027, σ=4.225771273642584))  \n",
       " StochasticMessage{Normal{Float64}}(Normal{Float64}(μ=13.650776685679208, σ=4.0488816508945815)) \n",
       " StochasticMessage{Normal{Float64}}(Normal{Float64}(μ=16.469174735883787, σ=3.8924947208076164)) \n",
       " ⋮                                                                                               \n",
       " StochasticMessage{Normal{Float64}}(Normal{Float64}(μ=4988.996110113695, σ=0.2002163505510488))  \n",
       " StochasticMessage{Normal{Float64}}(Normal{Float64}(μ=4989.997545524521, σ=0.20019628859140454)) \n",
       " StochasticMessage{Normal{Float64}}(Normal{Float64}(μ=4990.996728084107, σ=0.2001762326612616))  \n",
       " StochasticMessage{Normal{Float64}}(Normal{Float64}(μ=4992.000152341806, σ=0.2001561827576004))  \n",
       " StochasticMessage{Normal{Float64}}(Normal{Float64}(μ=4992.996098586439, σ=0.20013613887740336)) \n",
       " StochasticMessage{Normal{Float64}}(Normal{Float64}(μ=4993.994568785562, σ=0.20011610101765515)) \n",
       " StochasticMessage{Normal{Float64}}(Normal{Float64}(μ=4994.992596458979, σ=0.2000960691753425))  \n",
       " StochasticMessage{Normal{Float64}}(Normal{Float64}(μ=4995.994218806226, σ=0.20007604334745427)) \n",
       " StochasticMessage{Normal{Float64}}(Normal{Float64}(μ=4996.996616595824, σ=0.2000560235309814))  \n",
       " StochasticMessage{Normal{Float64}}(Normal{Float64}(μ=4997.994497613402, σ=0.20003600972291694)) \n",
       " StochasticMessage{Normal{Float64}}(Normal{Float64}(μ=4998.996436550437, σ=0.20001600192025604)) \n",
       " StochasticMessage{Normal{Float64}}(Normal{Float64}(μ=4999.995687288908, σ=0.19999600011999602)) "
      ]
     },
     "execution_count": 11,
     "metadata": {},
     "output_type": "execute_result"
    }
   ],
   "source": [
    "@time kalman()"
   ]
  },
  {
   "cell_type": "code",
   "execution_count": null,
   "metadata": {},
   "outputs": [],
   "source": []
  }
 ],
 "metadata": {
  "kernelspec": {
   "display_name": "Julia 1.3.0",
   "language": "julia",
   "name": "julia-1.3"
  },
  "language_info": {
   "file_extension": ".jl",
   "mimetype": "application/julia",
   "name": "julia",
   "version": "1.3.1"
  }
 },
 "nbformat": 4,
 "nbformat_minor": 4
}
