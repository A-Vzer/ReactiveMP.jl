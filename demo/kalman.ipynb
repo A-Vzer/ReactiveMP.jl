{
 "cells": [
  {
   "cell_type": "code",
   "execution_count": 1,
   "metadata": {},
   "outputs": [
    {
     "name": "stderr",
     "output_type": "stream",
     "text": [
      "┌ Info: Precompiling ReactiveMP [a194aa59-28ba-4574-a09c-4a745416d6e3]\n",
      "└ @ Base loading.jl:1273\n",
      "┌ Warning: Package ReactiveMP does not have Rocket in its dependencies:\n",
      "│ - If you have ReactiveMP checked out for development and have\n",
      "│   added Rocket as a dependency but haven't updated your primary\n",
      "│   environment's manifest file, try `Pkg.resolve()`.\n",
      "│ - Otherwise you may need to report an issue with ReactiveMP\n",
      "└ Loading Rocket into ReactiveMP from project dependency, future warnings for ReactiveMP are suppressed.\n"
     ]
    }
   ],
   "source": [
    "using Distributions\n",
    "using ReactiveMP\n",
    "using Rocket\n",
    "using BenchmarkTools\n",
    "\n",
    "import Base: show"
   ]
  },
  {
   "cell_type": "code",
   "execution_count": 2,
   "metadata": {},
   "outputs": [
    {
     "data": {
      "text/plain": [
       "kalman (generic function with 1 method)"
      ]
     },
     "execution_count": 2,
     "metadata": {},
     "output_type": "execute_result"
    }
   ],
   "source": [
    "function kalman_filter_graph()\n",
    "    x_prev_add   = AdditionNode(\"x_prev_add\");\n",
    "    add_1        = ConstantVariable(\"add_1\", 1.0, x_prev_add.in2);\n",
    "\n",
    "    x_prev_prior = GaussianMeanVarianceNode(\"x_prev_prior\");\n",
    "    x_prev_m     = PriorVariable(\"x_prev_m\", x_prev_prior.mean);\n",
    "    x_prev_v     = PriorVariable(\"x_prev_v\", x_prev_prior.variance);\n",
    "\n",
    "    x_prev = RandomVariable(\"x_prev\", x_prev_prior.value, x_prev_add.in1);\n",
    "\n",
    "    noise_node     = GaussianMeanVarianceNode(\"noise_node\");\n",
    "    noise_mean     = ConstantVariable(\"noise_mean\", 0.0, noise_node.mean);\n",
    "    noise_variance = ConstantVariable(\"noise_variance\", 200.0, noise_node.variance);\n",
    "\n",
    "    add_x_and_noise = AdditionNode(\"add_x_and_noise\");\n",
    "\n",
    "    x = RandomVariable(\"x\", x_prev_add.out, add_x_and_noise.in1);\n",
    "    n = RandomVariable(\"n\", noise_node.value, add_x_and_noise.in2);\n",
    "    y = ObservedVariable(\"y\", add_x_and_noise.out);\n",
    "    \n",
    "    return x_prev_m, x_prev_v, x, y\n",
    "end\n",
    "\n",
    "function kalman()\n",
    "    N = 5000\n",
    "    data = collect(1:N) + sqrt(200.0) * randn(N);\n",
    "    \n",
    "    x_prev_m, x_prev_v, x, y = kalman_filter_graph()\n",
    "    \n",
    "    messages = Vector{AbstractMessage}(undef, N)\n",
    "    updates  = Channel{Tuple{Float64, Float64, Float64}}(Inf) do ch\n",
    "        while true\n",
    "            update_data = take!(ch)::Tuple{Float64, Float64, Float64}\n",
    "            update!(x_prev_m, update_data[1])\n",
    "            update!(x_prev_v, update_data[2])\n",
    "            update!(y, update_data[3])\n",
    "        end\n",
    "    end\n",
    "    \n",
    "    actor = sync(lambda(Tuple{AbstractMessage, Int},\n",
    "        on_next = (d) -> begin\n",
    "            message = d[1]\n",
    "            index   = d[2]\n",
    "                    \n",
    "            if index < N\n",
    "                push!(updates, (mean(message.distribution), var(message.distribution), data[index + 1]))\n",
    "            else\n",
    "                complete!(x_prev_m.values)\n",
    "                complete!(x_prev_v.values)\n",
    "                complete!(y.values)\n",
    "                close(updates)\n",
    "            end\n",
    "                \n",
    "            messages[index] = message\n",
    "        end,\n",
    "        on_error = (e) -> println(e)\n",
    "    ))\n",
    "    \n",
    "    @async begin\n",
    "        subscribe!(inference(x) |> safe() |> enumerate() |> take(N), actor)\n",
    "        push!(updates, (0.0, 1000.0, data[1]))\n",
    "    end\n",
    "    \n",
    "    wait(actor)\n",
    "    \n",
    "    return messages\n",
    "end"
   ]
  },
  {
   "cell_type": "code",
   "execution_count": 4,
   "metadata": {},
   "outputs": [
    {
     "name": "stdout",
     "output_type": "stream",
     "text": [
      "  9.926 ms (175444 allocations: 7.08 MiB)\n"
     ]
    }
   ],
   "source": [
    "@btime kalman();"
   ]
  },
  {
   "cell_type": "code",
   "execution_count": 6,
   "metadata": {},
   "outputs": [
    {
     "name": "stdout",
     "output_type": "stream",
     "text": [
      "  0.014022 seconds (175.45 k allocations: 7.076 MiB)\n"
     ]
    },
    {
     "data": {
      "text/plain": [
       "5000-element Array{AbstractMessage,1}:\n",
       " StochasticMessage{Normal{Float64}}(Normal{Float64}(μ=-4.450211907352857, σ=12.909944487358057))\n",
       " StochasticMessage{Normal{Float64}}(Normal{Float64}(μ=-8.896148549176296, σ=9.534625892455924)) \n",
       " StochasticMessage{Normal{Float64}}(Normal{Float64}(μ=3.7410590469150367, σ=7.905694150420949)) \n",
       " StochasticMessage{Normal{Float64}}(Normal{Float64}(μ=7.645773510167577, σ=6.900655593423543))  \n",
       " StochasticMessage{Normal{Float64}}(Normal{Float64}(μ=7.485561301742616, σ=6.201736729460423))  \n",
       " StochasticMessage{Normal{Float64}}(Normal{Float64}(μ=7.938083561839481, σ=5.679618342470648))  \n",
       " StochasticMessage{Normal{Float64}}(Normal{Float64}(μ=5.511345796450373, σ=5.2704627669473))    \n",
       " StochasticMessage{Normal{Float64}}(Normal{Float64}(μ=8.900797071029134, σ=4.938647983247948))  \n",
       " StochasticMessage{Normal{Float64}}(Normal{Float64}(μ=9.692526412600362, σ=4.66252404120157))   \n",
       " StochasticMessage{Normal{Float64}}(Normal{Float64}(μ=8.348309666448651, σ=4.428074427700477))  \n",
       " StochasticMessage{Normal{Float64}}(Normal{Float64}(μ=10.131295740229028, σ=4.225771273642584)) \n",
       " StochasticMessage{Normal{Float64}}(Normal{Float64}(μ=12.046177301071292, σ=4.0488816508945815))\n",
       " StochasticMessage{Normal{Float64}}(Normal{Float64}(μ=14.23994261777023, σ=3.8924947208076164)) \n",
       " ⋮                                                                                              \n",
       " StochasticMessage{Normal{Float64}}(Normal{Float64}(μ=4989.019504991374, σ=0.2002163505510488)) \n",
       " StochasticMessage{Normal{Float64}}(Normal{Float64}(μ=4990.018133406528, σ=0.20019628859140454))\n",
       " StochasticMessage{Normal{Float64}}(Normal{Float64}(μ=4991.014279092299, σ=0.2001762326612616)) \n",
       " StochasticMessage{Normal{Float64}}(Normal{Float64}(μ=4992.013366982297, σ=0.2001561827576004)) \n",
       " StochasticMessage{Normal{Float64}}(Normal{Float64}(μ=4993.012532695954, σ=0.20013613887740336))\n",
       " StochasticMessage{Normal{Float64}}(Normal{Float64}(μ=4994.012399694933, σ=0.20011610101765515))\n",
       " StochasticMessage{Normal{Float64}}(Normal{Float64}(μ=4995.008590838648, σ=0.2000960691753425)) \n",
       " StochasticMessage{Normal{Float64}}(Normal{Float64}(μ=4996.007719359899, σ=0.20007604334745427))\n",
       " StochasticMessage{Normal{Float64}}(Normal{Float64}(μ=4997.006998665024, σ=0.2000560235309814)) \n",
       " StochasticMessage{Normal{Float64}}(Normal{Float64}(μ=4998.010086312056, σ=0.20003600972291694))\n",
       " StochasticMessage{Normal{Float64}}(Normal{Float64}(μ=4999.008637962417, σ=0.20001600192025604))\n",
       " StochasticMessage{Normal{Float64}}(Normal{Float64}(μ=5000.006926911723, σ=0.19999600011999602))"
      ]
     },
     "execution_count": 6,
     "metadata": {},
     "output_type": "execute_result"
    }
   ],
   "source": [
    "@time s = kalman()"
   ]
  },
  {
   "cell_type": "code",
   "execution_count": null,
   "metadata": {},
   "outputs": [],
   "source": []
  }
 ],
 "metadata": {
  "kernelspec": {
   "display_name": "Julia 1.3.1",
   "language": "julia",
   "name": "julia-1.3"
  },
  "language_info": {
   "file_extension": ".jl",
   "mimetype": "application/julia",
   "name": "julia",
   "version": "1.3.1"
  }
 },
 "nbformat": 4,
 "nbformat_minor": 4
}
