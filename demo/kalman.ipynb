{
 "cells": [
  {
   "cell_type": "code",
   "execution_count": 1,
   "metadata": {},
   "outputs": [
    {
     "name": "stderr",
     "output_type": "stream",
     "text": [
      "┌ Info: Precompiling ReactiveMP [a194aa59-28ba-4574-a09c-4a745416d6e3]\n",
      "└ @ Base loading.jl:1273\n",
      "┌ Warning: Package ReactiveMP does not have Rx in its dependencies:\n",
      "│ - If you have ReactiveMP checked out for development and have\n",
      "│   added Rx as a dependency but haven't updated your primary\n",
      "│   environment's manifest file, try `Pkg.resolve()`.\n",
      "│ - Otherwise you may need to report an issue with ReactiveMP\n",
      "└ Loading Rx into ReactiveMP from project dependency, future warnings for ReactiveMP are suppressed.\n"
     ]
    }
   ],
   "source": [
    "using Distributions\n",
    "using ReactiveMP\n",
    "using Rx\n",
    "using BenchmarkTools\n",
    "\n",
    "import Base: show"
   ]
  },
  {
   "cell_type": "code",
   "execution_count": 2,
   "metadata": {
    "hide_input": false
   },
   "outputs": [],
   "source": [
    "mutable struct InferenceActor <: Actor{AbstractMessage}\n",
    "    index       :: Int\n",
    "    size        :: Int\n",
    "    data        :: Vector{Float64}\n",
    "    messages    :: Vector{AbstractMessage}\n",
    "    communicate :: Channel{Tuple{Float64, Float64}}\n",
    "    \n",
    "    y          :: ObservedVariable\n",
    "    e_mean     :: EstimatedVariable\n",
    "    e_variance :: EstimatedVariable\n",
    "    \n",
    "    InferenceActor(data::Vector{Float64}, y::ObservedVariable, e_mean::EstimatedVariable, e_variance::EstimatedVariable) = begin\n",
    "        size  = length(data)\n",
    "        messages = Vector{AbstractMessage}(undef, size)\n",
    "        \n",
    "        actor = new(1, size, data, messages, Channel{Tuple{Float64, Float64}}(Inf), y, e_mean, e_variance)\n",
    "        \n",
    "        task = @async begin\n",
    "            while true\n",
    "                u = take!(actor.communicate)\n",
    "                update!(actor, u[1], u[2])\n",
    "            end\n",
    "        end\n",
    "        \n",
    "        bind(actor.communicate, task)\n",
    "        \n",
    "        return actor\n",
    "    end\n",
    "end\n",
    "\n",
    "function update!(actor::InferenceActor, mean::Float64, variance::Float64)\n",
    "    next!(actor.y.values, actor.data[actor.index])\n",
    "    next!(actor.e_mean.values, mean)\n",
    "    next!(actor.e_variance.values, variance)\n",
    "end\n",
    "\n",
    "function stop!(actor::InferenceActor)\n",
    "    complete!(actor.y.values)\n",
    "    complete!(actor.e_mean.values)\n",
    "    complete!(actor.e_variance.values)\n",
    "end\n",
    "\n",
    "function Rx.on_next!(actor::InferenceActor, data::AbstractMessage)\n",
    "    m = mean(data.distribution)\n",
    "    v = var(data.distribution)\n",
    "    \n",
    "    actor.messages[actor.index] = data\n",
    "    \n",
    "    actor.index += 1\n",
    "    \n",
    "    if actor.index < actor.size + 1\n",
    "        put!(actor.communicate, (m, v))\n",
    "    else\n",
    "        stop!(actor)\n",
    "    end\n",
    "end\n",
    "\n",
    "Rx.on_error!(actor::InferenceActor, err) = error(err)\n",
    "\n",
    "Rx.on_complete!(actor::InferenceActor)   = begin \n",
    "    close(actor.communicate)\n",
    "end\n",
    "\n",
    "Base.show(io::IO, actor::InferenceActor) = print(io, \"InferenceActor\")"
   ]
  },
  {
   "cell_type": "code",
   "execution_count": 3,
   "metadata": {},
   "outputs": [
    {
     "data": {
      "text/plain": [
       "kalman (generic function with 1 method)"
      ]
     },
     "execution_count": 3,
     "metadata": {},
     "output_type": "execute_result"
    }
   ],
   "source": [
    "function kalman()\n",
    "    N = 5000\n",
    "    data = collect(1:N) + sqrt(200.0) * randn(N);\n",
    "    \n",
    "    x_prev_add   = AdditionNode(\"x_prev_add\");\n",
    "    add_1        = ConstantVariable(\"add_1\", 1.0, x_prev_add.in2);\n",
    "\n",
    "    x_prev_prior = GaussianMeanVarianceNode(\"x_prev_prior\");\n",
    "    x_prev_m     = EstimatedVariable(\"x_prev_m\", x_prev_prior.mean);\n",
    "    x_prev_v     = EstimatedVariable(\"x_prev_v\", x_prev_prior.variance);\n",
    "\n",
    "    x_prev = RandomVariable(\"x_prev\", x_prev_prior.value, x_prev_add.in1);\n",
    "\n",
    "    noise_node     = GaussianMeanVarianceNode(\"noise_node\");\n",
    "    noise_mean     = ConstantVariable(\"noise_mean\", 0.0, noise_node.mean);\n",
    "    noise_variance = ConstantVariable(\"noise_variance\", 200.0, noise_node.variance);\n",
    "\n",
    "    add_x_and_noise = AdditionNode(\"add_x_and_noise\");\n",
    "\n",
    "    x = RandomVariable(\"x\", x_prev_add.out, add_x_and_noise.in1);\n",
    "    n = RandomVariable(\"n\", noise_node.value, add_x_and_noise.in2);\n",
    "    y = ObservedVariable(\"y\", add_x_and_noise.out);\n",
    "    \n",
    "    actor  = InferenceActor(data, y, x_prev_m, x_prev_v);\n",
    "    synced = sync(actor)\n",
    "    \n",
    "    @async begin\n",
    "        try\n",
    "            subscribe!(inference(x), synced)   \n",
    "            update!(actor, 0.0, 1000.0) \n",
    "        catch e \n",
    "            println(e)\n",
    "        end\n",
    "    end\n",
    "    \n",
    "    wait(synced)\n",
    "    \n",
    "    return actor.messages\n",
    "end"
   ]
  },
  {
   "cell_type": "code",
   "execution_count": 7,
   "metadata": {},
   "outputs": [
    {
     "name": "stdout",
     "output_type": "stream",
     "text": [
      "  9.612 ms (190426 allocations: 7.30 MiB)\n"
     ]
    }
   ],
   "source": [
    "@btime kalman();"
   ]
  },
  {
   "cell_type": "code",
   "execution_count": 6,
   "metadata": {},
   "outputs": [
    {
     "name": "stdout",
     "output_type": "stream",
     "text": [
      "  0.014066 seconds (190.43 k allocations: 7.304 MiB)\n"
     ]
    }
   ],
   "source": [
    "@time kalman();"
   ]
  },
  {
   "cell_type": "code",
   "execution_count": null,
   "metadata": {},
   "outputs": [],
   "source": []
  }
 ],
 "metadata": {
  "kernelspec": {
   "display_name": "Julia 1.3.0",
   "language": "julia",
   "name": "julia-1.3"
  },
  "language_info": {
   "file_extension": ".jl",
   "mimetype": "application/julia",
   "name": "julia",
   "version": "1.3.1"
  }
 },
 "nbformat": 4,
 "nbformat_minor": 2
}
