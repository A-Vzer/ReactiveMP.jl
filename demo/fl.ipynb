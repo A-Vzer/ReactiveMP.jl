{
 "cells": [
  {
   "cell_type": "code",
   "execution_count": 3,
   "metadata": {},
   "outputs": [
    {
     "ename": "ArgumentError",
     "evalue": "ArgumentError: Package ForneyLab not found in current path:\n- Run `import Pkg; Pkg.add(\"ForneyLab\")` to install the ForneyLab package.\n",
     "output_type": "error",
     "traceback": [
      "ArgumentError: Package ForneyLab not found in current path:\n- Run `import Pkg; Pkg.add(\"ForneyLab\")` to install the ForneyLab package.\n",
      "",
      "Stacktrace:",
      " [1] require(::Module, ::Symbol) at ./loading.jl:887",
      " [2] top-level scope at In[3]:2"
     ]
    }
   ],
   "source": [
    "using BenchmarkTools\n",
    "using ForneyLab"
   ]
  },
  {
   "cell_type": "code",
   "execution_count": 2,
   "metadata": {
    "scrolled": true
   },
   "outputs": [
    {
     "ename": "LoadError",
     "evalue": "UndefVarError: @RV not defined",
     "output_type": "error",
     "traceback": [
      "UndefVarError: @RV not defined",
      "",
      "Stacktrace:",
      " [1] top-level scope",
      " [2] eval at ./boot.jl:330 [inlined]",
      " [3] generate_benchmark_definition(::Module, ::Array{Symbol,1}, ::Array{Any,1}, ::Expr, ::Nothing, ::Nothing, ::BenchmarkTools.Parameters) at /Users/bvdmitri/.julia/packages/BenchmarkTools/7aqwe/src/execution.jl:296",
      " [4] top-level scope at /Users/bvdmitri/.julia/packages/BenchmarkTools/7aqwe/src/execution.jl:258",
      " [5] top-level scope at In[2]:1"
     ]
    }
   ],
   "source": [
    "@btime begin \n",
    "    # Data\n",
    "    n_samples = 1000\n",
    "    x = [ t for t = 1:n_samples ] # True state\n",
    "    y = x + sqrt(200.0) * randn(n_samples); # Noisy observations of state \n",
    "    \n",
    "    g = FactorGraph()\n",
    "\n",
    "    # declare priors as random variables\n",
    "    @RV m_x_t_min # m_x_t_min = Variable(id=:m_x_t_min)\n",
    "    @RV v_x_t_min # v_x_t_min = Variable(id=:v_x_t_min)\n",
    "    @RV x_t_min ~ GaussianMeanVariance(m_x_t_min, v_x_t_min)\n",
    "\n",
    "    # System equations\n",
    "    # u = 1.0; v = 200.0\n",
    "    @RV n_t ~ GaussianMeanVariance(0.0, 200.0)\n",
    "    @RV x_t = x_t_min + 1.0\n",
    "    @RV y_t = x_t + n_t\n",
    "\n",
    "    # Name variable for ease of lookup\n",
    "    #x_t.id = :x_t;\n",
    "    \n",
    "    # Placeholders for prior\n",
    "    placeholder(m_x_t_min, :m_x_t_min) # placeholder(:m_x_t_min) does not work\n",
    "    placeholder(v_x_t_min, :v_x_t_min)\n",
    "\n",
    "    # Placeholder for data\n",
    "    placeholder(y_t, :y_t);\n",
    "    \n",
    "    algo = sumProductAlgorithm(x_t) # Figure out a schedule and compile to Julia code\n",
    "    \n",
    "    # Define algorithm\n",
    "    eval(Meta.parse(algo))\n",
    "    \n",
    "    # Define values for prior statistics\n",
    "    m_x_0 = 0.0\n",
    "    v_x_0 = 1000.0\n",
    "\n",
    "    m_x = Vector{Float64}(undef, n_samples)\n",
    "\n",
    "    m_x_t_min = m_x_0\n",
    "    v_x_t_min = v_x_0\n",
    "    for t = 1:n_samples\n",
    "        # Prepare data and prior statistics\n",
    "        data = Dict(:y_t       => y[t],\n",
    "                    :m_x_t_min => m_x_t_min,\n",
    "                    :v_x_t_min => v_x_t_min)\n",
    "\n",
    "        # Execute algorithm\n",
    "        marginals = step!(data)\n",
    "\n",
    "        # Extract posterior statistics\n",
    "        m_x_t_min = mean(marginals[:x_t])\n",
    "        v_x_t_min = var(marginals[:x_t])\n",
    "\n",
    "        # Store to buffer \n",
    "        m_x[t] = m_x_t_min\n",
    "    end\n",
    "    \n",
    "    return m_x\n",
    "end;"
   ]
  },
  {
   "cell_type": "code",
   "execution_count": null,
   "metadata": {},
   "outputs": [],
   "source": []
  }
 ],
 "metadata": {
  "kernelspec": {
   "display_name": "Julia 1.3.0",
   "language": "julia",
   "name": "julia-1.3"
  },
  "language_info": {
   "file_extension": ".jl",
   "mimetype": "application/julia",
   "name": "julia",
   "version": "1.3.0"
  }
 },
 "nbformat": 4,
 "nbformat_minor": 2
}
