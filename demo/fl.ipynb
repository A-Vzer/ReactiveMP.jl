{
 "cells": [
  {
   "cell_type": "code",
   "execution_count": 1,
   "metadata": {},
   "outputs": [
    {
     "name": "stderr",
     "output_type": "stream",
     "text": [
      "┌ Info: Precompiling ForneyLab [9fc3f58a-c2cc-5bff-9419-6a294fefdca9]\n",
      "└ @ Base loading.jl:1273\n"
     ]
    }
   ],
   "source": [
    "using BenchmarkTools\n",
    "using ForneyLab"
   ]
  },
  {
   "cell_type": "code",
   "execution_count": 10,
   "metadata": {
    "scrolled": true
   },
   "outputs": [
    {
     "data": {
      "text/plain": [
       "([12.981357574851947, 15.69586056695893, 10.910347523280167, 14.278805961913577, 16.15408249871205, 15.23918905676211, 11.767319245441332, 14.68066644382486, 13.078509977978948, 14.162016702480793  …  93.29325153998214, 94.4442106712839, 95.32442824079817, 96.39767938518047, 97.34156654214516, 97.92259671713069, 98.79782680527563, 99.70045198514951, 100.62204780657096, 101.49497049797917], [166.66666666666666, 90.90909090909092, 62.5, 47.61904761904761, 38.46153846153846, 32.25806451612903, 27.77777777777778, 24.39024390243903, 21.739130434782613, 19.607843137254907  …  2.1929824561403493, 2.169197396963122, 2.1459227467811144, 2.123142250530784, 2.1008403361344525, 2.079002079002078, 2.057613168724279, 2.0366598778004064, 2.0161290322580636, 1.9960079840319351])"
      ]
     },
     "execution_count": 10,
     "metadata": {},
     "output_type": "execute_result"
    }
   ],
   "source": [
    "# Data\n",
    "    n_samples = 100\n",
    "    x = [ t for t = 1:n_samples ] # True state\n",
    "    y = x + sqrt(200.0) * randn(n_samples); # Noisy observations of state \n",
    "    \n",
    "    g = FactorGraph()\n",
    "\n",
    "    # declare priors as random variables\n",
    "    @RV m_x_t_min # m_x_t_min = Variable(id=:m_x_t_min)\n",
    "    @RV v_x_t_min # v_x_t_min = Variable(id=:v_x_t_min)\n",
    "    @RV x_t_min ~ GaussianMeanVariance(m_x_t_min, v_x_t_min)\n",
    "\n",
    "    # System equations\n",
    "    # u = 1.0; v = 200.0\n",
    "    @RV n_t ~ GaussianMeanVariance(0.0, 200.0)\n",
    "    @RV x_t = x_t_min + 1.0\n",
    "    @RV y_t = x_t + n_t\n",
    "\n",
    "    # Name variable for ease of lookup\n",
    "    #x_t.id = :x_t;\n",
    "    \n",
    "    # Placeholders for prior\n",
    "    placeholder(m_x_t_min, :m_x_t_min) # placeholder(:m_x_t_min) does not work\n",
    "    placeholder(v_x_t_min, :v_x_t_min)\n",
    "\n",
    "    # Placeholder for data\n",
    "    placeholder(y_t, :y_t);\n",
    "    \n",
    "    algo = sumProductAlgorithm(x_t) # Figure out a schedule and compile to Julia code\n",
    "    \n",
    "    # Define algorithm\n",
    "    eval(Meta.parse(algo))\n",
    "    \n",
    "    # Define values for prior statistics\n",
    "    m_x_0 = 0.0\n",
    "    v_x_0 = 1000.0\n",
    "\n",
    "    m_x = Vector{Float64}(undef, n_samples)\n",
    "    v_x = Vector{Float64}(undef, n_samples)\n",
    "\n",
    "    m_x_t_min = m_x_0\n",
    "    v_x_t_min = v_x_0\n",
    "    for t = 1:n_samples\n",
    "        # Prepare data and prior statistics\n",
    "        data = Dict(:y_t       => y[t],\n",
    "                    :m_x_t_min => m_x_t_min,\n",
    "                    :v_x_t_min => v_x_t_min)\n",
    "\n",
    "        # Execute algorithm\n",
    "        marginals = step!(data)\n",
    "\n",
    "        # Extract posterior statistics\n",
    "        m_x_t_min = mean(marginals[:x_t])\n",
    "        v_x_t_min = var(marginals[:x_t])\n",
    "\n",
    "        # Store to buffer \n",
    "        m_x[t] = m_x_t_min\n",
    "        v_x[t] = v_x_t_min\n",
    "    end\n",
    "    \n",
    "    m_x, v_x"
   ]
  },
  {
   "cell_type": "code",
   "execution_count": 11,
   "metadata": {},
   "outputs": [
    {
     "data": {
      "text/plain": [
       "100-element Array{Float64,1}:\n",
       "  12.981357574851947\n",
       "  15.69586056695893 \n",
       "  10.910347523280167\n",
       "  14.278805961913577\n",
       "  16.15408249871205 \n",
       "  15.23918905676211 \n",
       "  11.767319245441332\n",
       "  14.68066644382486 \n",
       "  13.078509977978948\n",
       "  14.162016702480793\n",
       "  15.647581381633776\n",
       "  16.646892074441165\n",
       "  16.62560553773851 \n",
       "   ⋮                \n",
       "  90.88620487789015 \n",
       "  92.13596946463926 \n",
       "  93.29325153998214 \n",
       "  94.4442106712839  \n",
       "  95.32442824079817 \n",
       "  96.39767938518047 \n",
       "  97.34156654214516 \n",
       "  97.92259671713069 \n",
       "  98.79782680527563 \n",
       "  99.70045198514951 \n",
       " 100.62204780657096 \n",
       " 101.49497049797917 "
      ]
     },
     "execution_count": 11,
     "metadata": {},
     "output_type": "execute_result"
    }
   ],
   "source": [
    "m_x"
   ]
  },
  {
   "cell_type": "code",
   "execution_count": 12,
   "metadata": {},
   "outputs": [
    {
     "data": {
      "text/plain": [
       "100-element Array{Float64,1}:\n",
       " 166.66666666666666  \n",
       "  90.90909090909092  \n",
       "  62.5               \n",
       "  47.61904761904761  \n",
       "  38.46153846153846  \n",
       "  32.25806451612903  \n",
       "  27.77777777777778  \n",
       "  24.39024390243903  \n",
       "  21.739130434782613 \n",
       "  19.607843137254907 \n",
       "  17.85714285714286  \n",
       "  16.393442622950825 \n",
       "  15.151515151515158 \n",
       "   ⋮                 \n",
       "   2.242152466367712 \n",
       "   2.217294900221728 \n",
       "   2.1929824561403493\n",
       "   2.169197396963122 \n",
       "   2.1459227467811144\n",
       "   2.123142250530784 \n",
       "   2.1008403361344525\n",
       "   2.079002079002078 \n",
       "   2.057613168724279 \n",
       "   2.0366598778004064\n",
       "   2.0161290322580636\n",
       "   1.9960079840319351"
      ]
     },
     "execution_count": 12,
     "metadata": {},
     "output_type": "execute_result"
    }
   ],
   "source": [
    "v_x"
   ]
  },
  {
   "cell_type": "code",
   "execution_count": null,
   "metadata": {},
   "outputs": [],
   "source": []
  }
 ],
 "metadata": {
  "kernelspec": {
   "display_name": "Julia 1.4.1",
   "language": "julia",
   "name": "julia-1.4"
  },
  "language_info": {
   "file_extension": ".jl",
   "mimetype": "application/julia",
   "name": "julia",
   "version": "1.4.1"
  }
 },
 "nbformat": 4,
 "nbformat_minor": 2
}
