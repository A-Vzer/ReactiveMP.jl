{
 "cells": [
  {
   "cell_type": "code",
   "execution_count": 15,
   "metadata": {},
   "outputs": [],
   "source": [
    "using BenchmarkTools\n",
    "using ForneyLab"
   ]
  },
  {
   "cell_type": "code",
   "execution_count": 16,
   "metadata": {
    "scrolled": true
   },
   "outputs": [],
   "source": [
    "begin \n",
    "    # Data\n",
    "    n_samples = 5000\n",
    "    x = [ t for t = 1:n_samples ] # True state\n",
    "    y = x + sqrt(200.0) * randn(n_samples); # Noisy observations of state \n",
    "    \n",
    "    g = FactorGraph()\n",
    "\n",
    "    # declare priors as random variables\n",
    "    @RV m_x_t_min # m_x_t_min = Variable(id=:m_x_t_min)\n",
    "    @RV v_x_t_min # v_x_t_min = Variable(id=:v_x_t_min)\n",
    "    @RV x_t_min ~ GaussianMeanVariance(m_x_t_min, v_x_t_min)\n",
    "\n",
    "    # System equations\n",
    "    # u = 1.0; v = 200.0\n",
    "    @RV n_t ~ GaussianMeanVariance(0.0, 200.0)\n",
    "    @RV x_t = x_t_min + 1.0\n",
    "    @RV y_t = x_t + n_t\n",
    "\n",
    "    # Name variable for ease of lookup\n",
    "    #x_t.id = :x_t;\n",
    "    \n",
    "    # Placeholders for prior\n",
    "    placeholder(m_x_t_min, :m_x_t_min) # placeholder(:m_x_t_min) does not work\n",
    "    placeholder(v_x_t_min, :v_x_t_min)\n",
    "\n",
    "    # Placeholder for data\n",
    "    placeholder(y_t, :y_t);\n",
    "    \n",
    "    algo = sumProductAlgorithm(x_t) # Figure out a schedule and compile to Julia code\n",
    "    \n",
    "    # Define algorithm\n",
    "    eval(Meta.parse(algo))\n",
    "    \n",
    "    # Define values for prior statistics\n",
    "    m_x_0 = 0.0\n",
    "    v_x_0 = 1000.0\n",
    "\n",
    "    m_x = Vector{Float64}(undef, n_samples)\n",
    "    v_x = Vector{Float64}(undef, n_samples)\n",
    "\n",
    "    m_x_t_min = m_x_0\n",
    "    v_x_t_min = v_x_0\n",
    "    for t = 1:n_samples\n",
    "        # Prepare data and prior statistics\n",
    "        data = Dict(:y_t       => y[t],\n",
    "                    :m_x_t_min => m_x_t_min,\n",
    "                    :v_x_t_min => v_x_t_min)\n",
    "\n",
    "        # Execute algorithm\n",
    "        marginals = step!(data)\n",
    "\n",
    "        # Extract posterior statistics\n",
    "        m_x_t_min = mean(marginals[:x_t])\n",
    "        v_x_t_min = var(marginals[:x_t])\n",
    "\n",
    "        # Store to buffer \n",
    "        m_x[t] = m_x_t_min\n",
    "        v_x[t] = v_x_t_min\n",
    "    end\n",
    "    \n",
    "    m_x, v_x\n",
    "end;"
   ]
  },
  {
   "cell_type": "code",
   "execution_count": 17,
   "metadata": {},
   "outputs": [
    {
     "name": "stdout",
     "output_type": "stream",
     "text": [
      "begin\n",
      "\n",
      "function step!(data::Dict, marginals::Dict=Dict(), messages::Vector{Message}=Array{Message}(undef, 4))\n",
      "\n",
      "messages[1] = ruleSPGaussianMeanVarianceOutNPP(nothing, Message(Univariate, PointMass, m=data[:m_x_t_min]), Message(Univariate, PointMass, m=data[:v_x_t_min]))\n",
      "messages[2] = ruleSPAdditionOutNGP(nothing, messages[1], Message(Univariate, PointMass, m=1.0))\n",
      "messages[3] = ruleSPGaussianMeanVarianceOutNPP(nothing, Message(Univariate, PointMass, m=0.0), Message(Univariate, PointMass, m=200.0))\n",
      "messages[4] = ruleSPAdditionIn1PNG(Message(Univariate, PointMass, m=data[:y_t]), nothing, messages[3])\n",
      "\n",
      "marginals[:x_t] = messages[2].dist * messages[4].dist\n",
      "\n",
      "return marginals\n",
      "\n",
      "end\n",
      "\n",
      "end # block"
     ]
    }
   ],
   "source": [
    "print(algo)"
   ]
  },
  {
   "cell_type": "code",
   "execution_count": null,
   "metadata": {},
   "outputs": [],
   "source": []
  }
 ],
 "metadata": {
  "kernelspec": {
   "display_name": "Julia 1.3.0",
   "language": "julia",
   "name": "julia-1.3"
  },
  "language_info": {
   "file_extension": ".jl",
   "mimetype": "application/julia",
   "name": "julia",
   "version": "1.3.0"
  }
 },
 "nbformat": 4,
 "nbformat_minor": 2
}
