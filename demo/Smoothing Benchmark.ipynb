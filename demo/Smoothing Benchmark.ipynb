{
 "cells": [
  {
   "cell_type": "code",
   "execution_count": 1,
   "metadata": {},
   "outputs": [],
   "source": [
    "using Rocket\n",
    "using ReactiveMP\n",
    "using GraphPPL\n",
    "using BenchmarkTools\n",
    "using Distributions\n",
    "using MacroTools"
   ]
  },
  {
   "cell_type": "code",
   "execution_count": 2,
   "metadata": {
    "scrolled": false
   },
   "outputs": [
    {
     "data": {
      "text/plain": [
       "smoothing (generic function with 1 method)"
      ]
     },
     "execution_count": 2,
     "metadata": {},
     "output_type": "execute_result"
    }
   ],
   "source": [
    "@model function smoothing(n, x0, c::ConstVariable, P::ConstVariable)\n",
    "    \n",
    "    x_prior ~ NormalMeanVariance(mean(x0), cov(x0)) \n",
    "\n",
    "    x = randomvar(n)\n",
    "    y = datavar(Float64, n)\n",
    "    \n",
    "    x_prev = x_prior\n",
    "    \n",
    "    for i in 1:n\n",
    "        x[i] ~ x_prev + c\n",
    "        y[i] ~ NormalMeanVariance(x[i], P)\n",
    "        \n",
    "        x_prev = x[i]\n",
    "    end\n",
    "\n",
    "    return x, y\n",
    "end"
   ]
  },
  {
   "cell_type": "code",
   "execution_count": 3,
   "metadata": {},
   "outputs": [],
   "source": [
    "P = 1.0\n",
    "n = 500\n",
    "\n",
    "data = collect(1:n) + rand(Normal(0.0, sqrt(P)), n);"
   ]
  },
  {
   "cell_type": "code",
   "execution_count": 4,
   "metadata": {},
   "outputs": [
    {
     "data": {
      "text/plain": [
       "inference (generic function with 1 method)"
      ]
     },
     "execution_count": 4,
     "metadata": {},
     "output_type": "execute_result"
    }
   ],
   "source": [
    "function inference(data, x0, P)\n",
    "    n = length(data)\n",
    "    \n",
    "    _, (x, y) = smoothing(n, x0, 1.0, P);\n",
    "\n",
    "    x_buffer  = buffer(Marginal, n)\n",
    "    marginals = getmarginals(x)\n",
    "    \n",
    "    subscription = subscribe!(marginals, x_buffer)\n",
    "    \n",
    "    update!(y, data)\n",
    "    \n",
    "    unsubscribe!(subscription)\n",
    "    \n",
    "    return getvalues(x_buffer)\n",
    "end"
   ]
  },
  {
   "cell_type": "code",
   "execution_count": 5,
   "metadata": {},
   "outputs": [
    {
     "data": {
      "text/plain": [
       "BenchmarkTools.Trial: \n",
       "  memory estimate:  14.57 MiB\n",
       "  allocs estimate:  222100\n",
       "  --------------\n",
       "  minimum time:     18.813 ms (0.00% GC)\n",
       "  median time:      20.272 ms (0.00% GC)\n",
       "  mean time:        22.463 ms (10.01% GC)\n",
       "  maximum time:     30.679 ms (25.80% GC)\n",
       "  --------------\n",
       "  samples:          223\n",
       "  evals/sample:     1"
      ]
     },
     "execution_count": 5,
     "metadata": {},
     "output_type": "execute_result"
    }
   ],
   "source": [
    "x0_prior = NormalMeanVariance(0.0, 10000.0)\n",
    "@benchmark res = inference($data, $x0_prior, $P)"
   ]
  },
  {
   "cell_type": "code",
   "execution_count": 6,
   "metadata": {},
   "outputs": [
    {
     "data": {
      "text/plain": [
       "500-element Vector{Marginal}:\n",
       " Marginal(NormalMeanVariance{Float64}(μ=0.9897619109657273, v=0.001999999600000082))\n",
       " Marginal(NormalMeanVariance{Float64}(μ=1.9897619109657276, v=0.0019999996000000823))\n",
       " Marginal(NormalMeanVariance{Float64}(μ=2.9897619109657274, v=0.001999999600000082))\n",
       " Marginal(NormalMeanVariance{Float64}(μ=3.9897619109657265, v=0.0019999996000000814))\n",
       " Marginal(NormalMeanVariance{Float64}(μ=4.9897619109657265, v=0.0019999996000000814))\n",
       " Marginal(NormalMeanVariance{Float64}(μ=5.989761910965728, v=0.001999999600000082))\n",
       " Marginal(NormalMeanVariance{Float64}(μ=6.989761910965727, v=0.0019999996000000814))\n",
       " Marginal(NormalMeanVariance{Float64}(μ=7.9897619109657265, v=0.001999999600000082))\n",
       " Marginal(NormalMeanVariance{Float64}(μ=8.989761910965727, v=0.0019999996000000814))\n",
       " Marginal(NormalMeanVariance{Float64}(μ=9.989761910965726, v=0.0019999996000000814))\n",
       " Marginal(NormalMeanVariance{Float64}(μ=10.989761910965727, v=0.0019999996000000814))\n",
       " Marginal(NormalMeanVariance{Float64}(μ=11.989761910965726, v=0.0019999996000000814))\n",
       " Marginal(NormalMeanVariance{Float64}(μ=12.989761910965726, v=0.0019999996000000814))\n",
       " ⋮\n",
       " Marginal(NormalMeanVariance{Float64}(μ=488.9897619109648, v=0.0019999996000000784))\n",
       " Marginal(NormalMeanVariance{Float64}(μ=489.98976191096483, v=0.0019999996000000784))\n",
       " Marginal(NormalMeanVariance{Float64}(μ=490.98976191096483, v=0.0019999996000000784))\n",
       " Marginal(NormalMeanVariance{Float64}(μ=491.98976191096483, v=0.001999999600000079))\n",
       " Marginal(NormalMeanVariance{Float64}(μ=492.9897619109649, v=0.001999999600000079))\n",
       " Marginal(NormalMeanVariance{Float64}(μ=493.9897619109648, v=0.0019999996000000784))\n",
       " Marginal(NormalMeanVariance{Float64}(μ=494.98976191096483, v=0.0019999996000000784))\n",
       " Marginal(NormalMeanVariance{Float64}(μ=495.98976191096466, v=0.001999999600000078))\n",
       " Marginal(NormalMeanVariance{Float64}(μ=496.9897619109648, v=0.0019999996000000784))\n",
       " Marginal(NormalMeanVariance{Float64}(μ=497.9897619109648, v=0.001999999600000078))\n",
       " Marginal(NormalMeanVariance{Float64}(μ=498.98976191096466, v=0.0019999996000000775))\n",
       " Marginal(NormalMeanVariance{Float64}(μ=499.98976191096466, v=0.0019999996000000775))"
      ]
     },
     "execution_count": 6,
     "metadata": {},
     "output_type": "execute_result"
    }
   ],
   "source": [
    "inference(data, x0_prior, P)"
   ]
  },
  {
   "cell_type": "code",
   "execution_count": null,
   "metadata": {},
   "outputs": [],
   "source": []
  }
 ],
 "metadata": {
  "kernelspec": {
   "display_name": "Julia O3 1.6.0",
   "language": "julia",
   "name": "julia-o3-1.6"
  },
  "language_info": {
   "file_extension": ".jl",
   "mimetype": "application/julia",
   "name": "julia",
   "version": "1.6.0"
  }
 },
 "nbformat": 4,
 "nbformat_minor": 4
}
