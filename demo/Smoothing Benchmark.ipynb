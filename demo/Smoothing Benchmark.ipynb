{
 "cells": [
  {
   "cell_type": "code",
   "execution_count": 21,
   "metadata": {},
   "outputs": [],
   "source": [
    "using Rocket\n",
    "using ReactiveMP\n",
    "using GraphPPL\n",
    "using BenchmarkTools\n",
    "using Distributions\n",
    "using Random"
   ]
  },
  {
   "cell_type": "code",
   "execution_count": 2,
   "metadata": {
    "scrolled": false
   },
   "outputs": [
    {
     "data": {
      "text/plain": [
       "smoothing (generic function with 1 method)"
      ]
     },
     "execution_count": 2,
     "metadata": {},
     "output_type": "execute_result"
    }
   ],
   "source": [
    "@model function smoothing(n, x0, c::ConstVariable, P::ConstVariable)\n",
    "    \n",
    "    x_prior ~ NormalMeanVariance(mean(x0), cov(x0)) \n",
    "\n",
    "    x = randomvar(n)\n",
    "    y = datavar(Float64, n)\n",
    "    \n",
    "    x_prev = x_prior\n",
    "    \n",
    "    for i in 1:n\n",
    "        x[i] ~ x_prev + c\n",
    "        y[i] ~ NormalMeanVariance(x[i], P)\n",
    "        \n",
    "        x_prev = x[i]\n",
    "    end\n",
    "\n",
    "    return x, y\n",
    "end"
   ]
  },
  {
   "cell_type": "code",
   "execution_count": 22,
   "metadata": {},
   "outputs": [],
   "source": [
    "seed = 123\n",
    "\n",
    "rng = MersenneTwister(seed)\n",
    "\n",
    "P = 1.0\n",
    "n = 500\n",
    "\n",
    "data = collect(1:n) + rand(rng, Normal(0.0, sqrt(P)), n);"
   ]
  },
  {
   "cell_type": "code",
   "execution_count": 23,
   "metadata": {},
   "outputs": [
    {
     "data": {
      "text/plain": [
       "inference (generic function with 1 method)"
      ]
     },
     "execution_count": 23,
     "metadata": {},
     "output_type": "execute_result"
    }
   ],
   "source": [
    "function inference(data, x0, P)\n",
    "    n = length(data)\n",
    "    \n",
    "    _, (x, y) = smoothing(n, x0, 1.0, P);\n",
    "\n",
    "    x_buffer  = buffer(Marginal, n)\n",
    "    marginals = getmarginals(x)\n",
    "    \n",
    "    subscription = subscribe!(marginals, x_buffer)\n",
    "    \n",
    "    update!(y, data)\n",
    "    \n",
    "    unsubscribe!(subscription)\n",
    "    \n",
    "    return getvalues(x_buffer)\n",
    "end"
   ]
  },
  {
   "cell_type": "code",
   "execution_count": 24,
   "metadata": {},
   "outputs": [
    {
     "data": {
      "text/plain": [
       "NormalMeanVariance{Float64}(μ=0.0, v=10000.0)"
      ]
     },
     "execution_count": 24,
     "metadata": {},
     "output_type": "execute_result"
    }
   ],
   "source": [
    "x0_prior = NormalMeanVariance(0.0, 10000.0)"
   ]
  },
  {
   "cell_type": "code",
   "execution_count": 25,
   "metadata": {},
   "outputs": [
    {
     "data": {
      "text/plain": [
       "BechmarkTools.Trial: 248 samples with 1 evaluations.\n",
       " Range \u001b[90m(\u001b[39m\u001b[36m\u001b[1mmin\u001b[22m\u001b[39m … \u001b[35mmax\u001b[39m\u001b[90m):  \u001b[39m\u001b[36m\u001b[1m15.752 ms\u001b[22m\u001b[39m … \u001b[35m31.217 ms\u001b[39m  \u001b[90m┊\u001b[39m GC \u001b[90m(\u001b[39mmin … max\u001b[90m): \u001b[39m 0.00% … 35.34%\n",
       " Time  \u001b[90m(\u001b[39m\u001b[34m\u001b[1mmedian\u001b[22m\u001b[39m\u001b[90m):     \u001b[39m\u001b[34m\u001b[1m17.906 ms              \u001b[22m\u001b[39m\u001b[90m┊\u001b[39m GC \u001b[90m(\u001b[39mmedian\u001b[90m):    \u001b[39m 0.00%\n",
       " Time  \u001b[90m(\u001b[39m\u001b[32m\u001b[1mmean\u001b[22m\u001b[39m ± \u001b[32mσ\u001b[39m\u001b[90m):   \u001b[39m\u001b[32m\u001b[1m20.155 ms\u001b[22m\u001b[39m ± \u001b[32m 4.293 ms\u001b[39m  \u001b[90m┊\u001b[39m GC \u001b[90m(\u001b[39mmean ± σ\u001b[90m):  \u001b[39m12.62% ± 15.43%\n",
       "\n",
       "  \u001b[39m \u001b[39m▂\u001b[39m▂\u001b[39m▂\u001b[39m▄\u001b[39m▄\u001b[39m█\u001b[39m█\u001b[39m▅\u001b[34m \u001b[39m\u001b[39m \u001b[39m▁\u001b[39m \u001b[39m \u001b[39m \u001b[39m \u001b[39m \u001b[39m \u001b[32m \u001b[39m\u001b[39m \u001b[39m \u001b[39m \u001b[39m \u001b[39m \u001b[39m \u001b[39m \u001b[39m \u001b[39m \u001b[39m \u001b[39m \u001b[39m \u001b[39m \u001b[39m \u001b[39m \u001b[39m \u001b[39m \u001b[39m \u001b[39m \u001b[39m \u001b[39m \u001b[39m \u001b[39m \u001b[39m \u001b[39m \u001b[39m \u001b[39m \u001b[39m \u001b[39m \u001b[39m \u001b[39m \u001b[39m \u001b[39m \u001b[39m \u001b[39m \u001b[39m \u001b[39m \u001b[39m \u001b[39m \u001b[39m \u001b[39m \u001b[39m \n",
       "  \u001b[39m▅\u001b[39m█\u001b[39m█\u001b[39m█\u001b[39m█\u001b[39m█\u001b[39m█\u001b[39m█\u001b[39m█\u001b[34m█\u001b[39m\u001b[39m▆\u001b[39m█\u001b[39m▆\u001b[39m█\u001b[39m▅\u001b[39m▅\u001b[39m▆\u001b[39m▃\u001b[32m▁\u001b[39m\u001b[39m▃\u001b[39m▁\u001b[39m▁\u001b[39m▁\u001b[39m▁\u001b[39m▁\u001b[39m▃\u001b[39m▁\u001b[39m▁\u001b[39m▃\u001b[39m▁\u001b[39m▁\u001b[39m▁\u001b[39m▁\u001b[39m▁\u001b[39m▃\u001b[39m▄\u001b[39m▃\u001b[39m▁\u001b[39m▁\u001b[39m▆\u001b[39m▄\u001b[39m▆\u001b[39m▃\u001b[39m▇\u001b[39m▅\u001b[39m▄\u001b[39m▃\u001b[39m▆\u001b[39m▇\u001b[39m▅\u001b[39m▃\u001b[39m▅\u001b[39m▁\u001b[39m▃\u001b[39m▃\u001b[39m▁\u001b[39m▃\u001b[39m▃\u001b[39m▃\u001b[39m \u001b[39m▃\n",
       "  15.8 ms\u001b[90m         Histogram: frequency by time\u001b[39m        29.8 ms \u001b[0m\u001b[1m<\u001b[22m\n",
       "\n",
       " Memory estimate\u001b[90m: \u001b[39m\u001b[33m12.33 MiB\u001b[39m, allocs estimate\u001b[90m: \u001b[39m\u001b[33m207093\u001b[39m."
      ]
     },
     "execution_count": 25,
     "metadata": {},
     "output_type": "execute_result"
    }
   ],
   "source": [
    "@benchmark res = inference($data, $x0_prior, $P)"
   ]
  },
  {
   "cell_type": "code",
   "execution_count": 26,
   "metadata": {},
   "outputs": [
    {
     "data": {
      "text/plain": [
       "500-element Vector{Marginal}:\n",
       " Marginal(NormalMeanVariance{Float64}(μ=1.0407099006400038, v=0.001999999600000082))\n",
       " Marginal(NormalMeanVariance{Float64}(μ=2.040709900640004, v=0.0019999996000000823))\n",
       " Marginal(NormalMeanVariance{Float64}(μ=3.0407099006400036, v=0.001999999600000082))\n",
       " Marginal(NormalMeanVariance{Float64}(μ=4.040709900640002, v=0.0019999996000000814))\n",
       " Marginal(NormalMeanVariance{Float64}(μ=5.040709900640003, v=0.0019999996000000814))\n",
       " Marginal(NormalMeanVariance{Float64}(μ=6.040709900640003, v=0.001999999600000082))\n",
       " Marginal(NormalMeanVariance{Float64}(μ=7.040709900640005, v=0.0019999996000000814))\n",
       " Marginal(NormalMeanVariance{Float64}(μ=8.040709900640003, v=0.001999999600000082))\n",
       " Marginal(NormalMeanVariance{Float64}(μ=9.040709900640003, v=0.0019999996000000814))\n",
       " Marginal(NormalMeanVariance{Float64}(μ=10.040709900640003, v=0.0019999996000000814))\n",
       " Marginal(NormalMeanVariance{Float64}(μ=11.040709900640001, v=0.0019999996000000814))\n",
       " Marginal(NormalMeanVariance{Float64}(μ=12.040709900640003, v=0.0019999996000000814))\n",
       " Marginal(NormalMeanVariance{Float64}(μ=13.040709900640003, v=0.0019999996000000814))\n",
       " ⋮\n",
       " Marginal(NormalMeanVariance{Float64}(μ=489.0407099006391, v=0.0019999996000000784))\n",
       " Marginal(NormalMeanVariance{Float64}(μ=490.0407099006392, v=0.0019999996000000784))\n",
       " Marginal(NormalMeanVariance{Float64}(μ=491.0407099006392, v=0.0019999996000000784))\n",
       " Marginal(NormalMeanVariance{Float64}(μ=492.04070990063923, v=0.001999999600000079))\n",
       " Marginal(NormalMeanVariance{Float64}(μ=493.04070990063923, v=0.001999999600000079))\n",
       " Marginal(NormalMeanVariance{Float64}(μ=494.0407099006392, v=0.0019999996000000784))\n",
       " Marginal(NormalMeanVariance{Float64}(μ=495.0407099006392, v=0.0019999996000000784))\n",
       " Marginal(NormalMeanVariance{Float64}(μ=496.04070990063906, v=0.001999999600000078))\n",
       " Marginal(NormalMeanVariance{Float64}(μ=497.0407099006392, v=0.0019999996000000784))\n",
       " Marginal(NormalMeanVariance{Float64}(μ=498.0407099006391, v=0.001999999600000078))\n",
       " Marginal(NormalMeanVariance{Float64}(μ=499.04070990063906, v=0.0019999996000000775))\n",
       " Marginal(NormalMeanVariance{Float64}(μ=500.0407099006391, v=0.0019999996000000775))"
      ]
     },
     "execution_count": 26,
     "metadata": {},
     "output_type": "execute_result"
    }
   ],
   "source": [
    "inference(data, x0_prior, P)"
   ]
  },
  {
   "cell_type": "code",
   "execution_count": null,
   "metadata": {},
   "outputs": [],
   "source": []
  }
 ],
 "metadata": {
  "kernelspec": {
   "display_name": "Julia 1.6.1",
   "language": "julia",
   "name": "julia-1.6"
  },
  "language_info": {
   "file_extension": ".jl",
   "mimetype": "application/julia",
   "name": "julia",
   "version": "1.6.1"
  }
 },
 "nbformat": 4,
 "nbformat_minor": 4
}
