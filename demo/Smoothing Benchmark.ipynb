{
 "cells": [
  {
   "cell_type": "code",
   "execution_count": 1,
   "metadata": {},
   "outputs": [],
   "source": [
    "using Rocket\n",
    "using ReactiveMP\n",
    "using GraphPPL\n",
    "using BenchmarkTools\n",
    "using Distributions\n",
    "using MacroTools"
   ]
  },
  {
   "cell_type": "code",
   "execution_count": 2,
   "metadata": {
    "scrolled": false
   },
   "outputs": [
    {
     "data": {
      "text/plain": [
       "smoothing (generic function with 1 method)"
      ]
     },
     "execution_count": 2,
     "metadata": {},
     "output_type": "execute_result"
    }
   ],
   "source": [
    "@model function smoothing(n, x0, c::ConstVariable, P::ConstVariable)\n",
    "    \n",
    "    x_prior ~ NormalMeanVariance(mean(x0), cov(x0)) \n",
    "\n",
    "    x = randomvar(n)\n",
    "    y = datavar(Float64, n)\n",
    "    \n",
    "    x_prev = x_prior\n",
    "    \n",
    "    for i in 1:n\n",
    "        x[i] ~ x_prev + c\n",
    "        y[i] ~ NormalMeanVariance(x[i], P)\n",
    "        \n",
    "        x_prev = x[i]\n",
    "    end\n",
    "\n",
    "    return x, y\n",
    "end"
   ]
  },
  {
   "cell_type": "code",
   "execution_count": 3,
   "metadata": {},
   "outputs": [],
   "source": [
    "P = 1.0\n",
    "n = 500\n",
    "\n",
    "data = collect(1:n) + rand(Normal(0.0, sqrt(P)), n);"
   ]
  },
  {
   "cell_type": "code",
   "execution_count": 4,
   "metadata": {},
   "outputs": [
    {
     "data": {
      "text/plain": [
       "inference (generic function with 1 method)"
      ]
     },
     "execution_count": 4,
     "metadata": {},
     "output_type": "execute_result"
    }
   ],
   "source": [
    "function inference(data, x0, P)\n",
    "    n = length(data)\n",
    "    \n",
    "    _, (x, y) = smoothing(n, x0, 1.0, P);\n",
    "\n",
    "    x_buffer  = buffer(Marginal, n)\n",
    "    marginals = getmarginals(x)\n",
    "    \n",
    "    subscription = subscribe!(marginals, x_buffer)\n",
    "    \n",
    "    update!(y, data)\n",
    "    \n",
    "    unsubscribe!(subscription)\n",
    "    \n",
    "    return getvalues(x_buffer)\n",
    "end"
   ]
  },
  {
   "cell_type": "code",
   "execution_count": 5,
   "metadata": {},
   "outputs": [
    {
     "data": {
      "text/plain": [
       "BenchmarkTools.Trial: \n",
       "  memory estimate:  13.98 MiB\n",
       "  allocs estimate:  219099\n",
       "  --------------\n",
       "  minimum time:     15.918 ms (0.00% GC)\n",
       "  median time:      18.018 ms (0.00% GC)\n",
       "  mean time:        20.704 ms (13.78% GC)\n",
       "  maximum time:     32.029 ms (38.84% GC)\n",
       "  --------------\n",
       "  samples:          242\n",
       "  evals/sample:     1"
      ]
     },
     "execution_count": 5,
     "metadata": {},
     "output_type": "execute_result"
    }
   ],
   "source": [
    "x0_prior = NormalMeanVariance(0.0, 10000.0)\n",
    "@benchmark res = inference($data, $x0_prior, $P)"
   ]
  },
  {
   "cell_type": "code",
   "execution_count": 6,
   "metadata": {},
   "outputs": [
    {
     "data": {
      "text/plain": [
       "500-element Vector{Marginal}:\n",
       " Marginal(NormalMeanVariance{Float64}(μ=0.9635032101229569, v=0.001999999600000082))\n",
       " Marginal(NormalMeanVariance{Float64}(μ=1.9635032101229573, v=0.0019999996000000823))\n",
       " Marginal(NormalMeanVariance{Float64}(μ=2.9635032101229566, v=0.001999999600000082))\n",
       " Marginal(NormalMeanVariance{Float64}(μ=3.963503210122956, v=0.0019999996000000814))\n",
       " Marginal(NormalMeanVariance{Float64}(μ=4.963503210122956, v=0.0019999996000000814))\n",
       " Marginal(NormalMeanVariance{Float64}(μ=5.9635032101229575, v=0.001999999600000082))\n",
       " Marginal(NormalMeanVariance{Float64}(μ=6.963503210122957, v=0.0019999996000000814))\n",
       " Marginal(NormalMeanVariance{Float64}(μ=7.963503210122956, v=0.001999999600000082))\n",
       " Marginal(NormalMeanVariance{Float64}(μ=8.963503210122953, v=0.0019999996000000814))\n",
       " Marginal(NormalMeanVariance{Float64}(μ=9.963503210122955, v=0.0019999996000000814))\n",
       " Marginal(NormalMeanVariance{Float64}(μ=10.963503210122955, v=0.0019999996000000814))\n",
       " Marginal(NormalMeanVariance{Float64}(μ=11.963503210122953, v=0.0019999996000000814))\n",
       " Marginal(NormalMeanVariance{Float64}(μ=12.963503210122953, v=0.0019999996000000814))\n",
       " ⋮\n",
       " Marginal(NormalMeanVariance{Float64}(μ=488.9635032101231, v=0.0019999996000000784))\n",
       " Marginal(NormalMeanVariance{Float64}(μ=489.9635032101231, v=0.0019999996000000784))\n",
       " Marginal(NormalMeanVariance{Float64}(μ=490.9635032101232, v=0.0019999996000000784))\n",
       " Marginal(NormalMeanVariance{Float64}(μ=491.9635032101232, v=0.001999999600000079))\n",
       " Marginal(NormalMeanVariance{Float64}(μ=492.9635032101233, v=0.001999999600000079))\n",
       " Marginal(NormalMeanVariance{Float64}(μ=493.9635032101231, v=0.0019999996000000784))\n",
       " Marginal(NormalMeanVariance{Float64}(μ=494.9635032101232, v=0.0019999996000000784))\n",
       " Marginal(NormalMeanVariance{Float64}(μ=495.9635032101232, v=0.001999999600000078))\n",
       " Marginal(NormalMeanVariance{Float64}(μ=496.96350321012324, v=0.0019999996000000784))\n",
       " Marginal(NormalMeanVariance{Float64}(μ=497.9635032101232, v=0.001999999600000078))\n",
       " Marginal(NormalMeanVariance{Float64}(μ=498.96350321012306, v=0.0019999996000000775))\n",
       " Marginal(NormalMeanVariance{Float64}(μ=499.96350321012306, v=0.0019999996000000775))"
      ]
     },
     "execution_count": 6,
     "metadata": {},
     "output_type": "execute_result"
    }
   ],
   "source": [
    "inference(data, x0_prior, P)"
   ]
  },
  {
   "cell_type": "code",
   "execution_count": null,
   "metadata": {},
   "outputs": [],
   "source": []
  }
 ],
 "metadata": {
  "kernelspec": {
   "display_name": "Julia 1.6.0",
   "language": "julia",
   "name": "julia-1.6"
  },
  "language_info": {
   "file_extension": ".jl",
   "mimetype": "application/julia",
   "name": "julia",
   "version": "1.6.0"
  }
 },
 "nbformat": 4,
 "nbformat_minor": 4
}
