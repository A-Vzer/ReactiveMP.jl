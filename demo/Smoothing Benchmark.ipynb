{
 "cells": [
  {
   "cell_type": "code",
   "execution_count": 20,
   "metadata": {},
   "outputs": [],
   "source": [
    "using Rocket\n",
    "using ReactiveMP\n",
    "using GraphPPL\n",
    "using BenchmarkTools\n",
    "using Distributions"
   ]
  },
  {
   "cell_type": "code",
   "execution_count": 68,
   "metadata": {},
   "outputs": [],
   "source": [
    "using MacroTools"
   ]
  },
  {
   "cell_type": "code",
   "execution_count": 87,
   "metadata": {
    "scrolled": false
   },
   "outputs": [
    {
     "data": {
      "text/plain": [
       "smoothing (generic function with 1 method)"
      ]
     },
     "execution_count": 87,
     "metadata": {},
     "output_type": "execute_result"
    }
   ],
   "source": [
    "@model function smoothing(n, x0, c::ConstVariable, P::ConstVariable)\n",
    "    \n",
    "    x_prior ~ NormalMeanVariance(mean(x0), cov(x0)) \n",
    "\n",
    "    x = randomvar(n)\n",
    "    y = datavar(Float64, n)\n",
    "    \n",
    "    x_prev = x_prior\n",
    "    \n",
    "    for i in 1:n\n",
    "        x[i] ~ x_prev + c\n",
    "        y[i] ~ NormalMeanVariance(x[i], P) where { \n",
    "            dependencies = WithInboundFunctionalDependencies((2, ), (nothing, )) \n",
    "        }\n",
    "        \n",
    "        x_prev = x[i]\n",
    "    end\n",
    "\n",
    "    return x, y\n",
    "end"
   ]
  },
  {
   "cell_type": "code",
   "execution_count": 88,
   "metadata": {},
   "outputs": [],
   "source": [
    "P = 1.0\n",
    "n = 5\n",
    "\n",
    "data = collect(1:n) + rand(Normal(0.0, sqrt(P)), n);"
   ]
  },
  {
   "cell_type": "code",
   "execution_count": 89,
   "metadata": {},
   "outputs": [
    {
     "data": {
      "text/plain": [
       "inference (generic function with 1 method)"
      ]
     },
     "execution_count": 89,
     "metadata": {},
     "output_type": "execute_result"
    }
   ],
   "source": [
    "function inference(data, x0, P)\n",
    "    n = length(data)\n",
    "    \n",
    "    _, (x, y) = smoothing(n, x0, 1.0, P);\n",
    "\n",
    "    x_buffer  = buffer(Marginal, n)\n",
    "    marginals = getmarginals(x)\n",
    "    \n",
    "    subscription = subscribe!(marginals, x_buffer)\n",
    "    \n",
    "    update!(y, data)\n",
    "    \n",
    "    unsubscribe!(subscription)\n",
    "    \n",
    "    return getvalues(x_buffer)\n",
    "end"
   ]
  },
  {
   "cell_type": "code",
   "execution_count": 90,
   "metadata": {},
   "outputs": [
    {
     "ename": "LoadError",
     "evalue": "MethodError: no method matching findfirst(::Int64, ::Tuple{Int64})\n\u001b[0mClosest candidates are:\n\u001b[0m  findfirst(\u001b[91m::Function\u001b[39m, ::Any) at array.jl:1898\n\u001b[0m  findfirst(::Any) at array.jl:1814",
     "output_type": "error",
     "traceback": [
      "MethodError: no method matching findfirst(::Int64, ::Tuple{Int64})\n\u001b[0mClosest candidates are:\n\u001b[0m  findfirst(\u001b[91m::Function\u001b[39m, ::Any) at array.jl:1898\n\u001b[0m  findfirst(::Any) at array.jl:1814",
      "",
      "Stacktrace:",
      "  [1] message_dependencies(dependencies::WithInboundFunctionalDependencies{Tuple{Int64}, Tuple{Nothing}}, nodeinterfaces::Tuple{NodeInterface, NodeInterface, NodeInterface}, varcluster::Tuple{Int64, Int64, Int64}, iindex::Int64)",
      "    @ ReactiveMP ~/.julia/dev/ReactiveMP/src/node.jl:433",
      "  [2] functional_dependencies(dependencies::WithInboundFunctionalDependencies{Tuple{Int64}, Tuple{Nothing}}, factornode::FactorNode{Type{NormalMeanVariance}, Tuple{NodeInterface, NodeInterface, NodeInterface}, Tuple{Tuple{Int64, Int64, Int64}}, ReactiveMP.FactorNodeLocalMarginals{Tuple{ReactiveMP.FactorNodeLocalMarginal}}, Nothing, EmptyPipelineStage, WithInboundFunctionalDependencies{Tuple{Int64}, Tuple{Nothing}}}, iindex::Int64)",
      "    @ ReactiveMP ~/.julia/dev/ReactiveMP/src/node.jl:467",
      "  [3] activate!(model::Model{ModelOptions{EmptyPipelineStage, FullFactorisation, AsapScheduler}}, factornode::FactorNode{Type{NormalMeanVariance}, Tuple{NodeInterface, NodeInterface, NodeInterface}, Tuple{Tuple{Int64, Int64, Int64}}, ReactiveMP.FactorNodeLocalMarginals{Tuple{ReactiveMP.FactorNodeLocalMarginal}}, Nothing, EmptyPipelineStage, WithInboundFunctionalDependencies{Tuple{Int64}, Tuple{Nothing}}})",
      "    @ ReactiveMP ~/.julia/dev/ReactiveMP/src/node.jl:507",
      "  [4] (::ReactiveMP.var\"#559#563\"{Model{ModelOptions{EmptyPipelineStage, FullFactorisation, AsapScheduler}}})(n::FactorNode{Type{NormalMeanVariance}, Tuple{NodeInterface, NodeInterface, NodeInterface}, Tuple{Tuple{Int64, Int64, Int64}}, ReactiveMP.FactorNodeLocalMarginals{Tuple{ReactiveMP.FactorNodeLocalMarginal}}, Nothing, EmptyPipelineStage, WithInboundFunctionalDependencies{Tuple{Int64}, Tuple{Nothing}}})",
      "    @ ReactiveMP ~/.julia/dev/ReactiveMP/src/model.jl:112",
      "  [5] foreach(f::ReactiveMP.var\"#559#563\"{Model{ModelOptions{EmptyPipelineStage, FullFactorisation, AsapScheduler}}}, itr::Vector{ReactiveMP.AbstractFactorNode})",
      "    @ Base ./abstractarray.jl:2141",
      "  [6] activate!",
      "    @ ~/.julia/dev/ReactiveMP/src/model.jl:112 [inlined]",
      "  [7] macro expansion",
      "    @ ~/.julia/dev/GraphPPL.jl/src/GraphPPL.jl:287 [inlined]",
      "  [8] macro expansion",
      "    @ ./In[87]:19 [inlined]",
      "  [9] smoothing(n::Int64, x0::NormalMeanVariance{Float64}, constvar#80801::Float64, constvar#80802::Float64; options::NamedTuple{(), Tuple{}})",
      "    @ Main ~/.julia/dev/GraphPPL.jl/src/GraphPPL.jl:297",
      " [10] smoothing",
      "    @ ~/.julia/dev/GraphPPL.jl/src/GraphPPL.jl:293 [inlined]",
      " [11] inference(data::Vector{Float64}, x0::NormalMeanVariance{Float64}, P::Float64)",
      "    @ Main ./In[89]:4",
      " [12] top-level scope",
      "    @ In[90]:1",
      " [13] eval",
      "    @ ./boot.jl:360 [inlined]",
      " [14] include_string(mapexpr::typeof(REPL.softscope), mod::Module, code::String, filename::String)",
      "    @ Base ./loading.jl:1094"
     ]
    }
   ],
   "source": [
    "inference(data, x0_prior, P)"
   ]
  },
  {
   "cell_type": "code",
   "execution_count": null,
   "metadata": {},
   "outputs": [],
   "source": []
  },
  {
   "cell_type": "code",
   "execution_count": null,
   "metadata": {},
   "outputs": [],
   "source": []
  },
  {
   "cell_type": "code",
   "execution_count": null,
   "metadata": {},
   "outputs": [],
   "source": []
  },
  {
   "cell_type": "code",
   "execution_count": 49,
   "metadata": {},
   "outputs": [
    {
     "data": {
      "text/plain": [
       "BenchmarkTools.Trial: \n",
       "  memory estimate:  129.59 KiB\n",
       "  allocs estimate:  2142\n",
       "  --------------\n",
       "  minimum time:     146.537 μs (0.00% GC)\n",
       "  median time:      177.727 μs (0.00% GC)\n",
       "  mean time:        202.285 μs (8.60% GC)\n",
       "  maximum time:     7.810 ms (95.17% GC)\n",
       "  --------------\n",
       "  samples:          10000\n",
       "  evals/sample:     1"
      ]
     },
     "execution_count": 49,
     "metadata": {},
     "output_type": "execute_result"
    }
   ],
   "source": [
    "x0_prior = NormalMeanVariance(0.0, 10000.0)\n",
    "@benchmark res = inference($data, $x0_prior, $P)"
   ]
  },
  {
   "cell_type": "code",
   "execution_count": null,
   "metadata": {},
   "outputs": [],
   "source": []
  },
  {
   "cell_type": "code",
   "execution_count": null,
   "metadata": {},
   "outputs": [],
   "source": []
  },
  {
   "cell_type": "code",
   "execution_count": null,
   "metadata": {},
   "outputs": [],
   "source": []
  },
  {
   "cell_type": "code",
   "execution_count": 6,
   "metadata": {},
   "outputs": [
    {
     "data": {
      "text/plain": [
       "BenchmarkTools.Trial: \n",
       "  memory estimate:  12.28 MiB\n",
       "  allocs estimate:  206592\n",
       "  --------------\n",
       "  minimum time:     14.879 ms (0.00% GC)\n",
       "  median time:      16.607 ms (0.00% GC)\n",
       "  mean time:        18.578 ms (11.87% GC)\n",
       "  maximum time:     29.016 ms (39.59% GC)\n",
       "  --------------\n",
       "  samples:          269\n",
       "  evals/sample:     1"
      ]
     },
     "execution_count": 6,
     "metadata": {},
     "output_type": "execute_result"
    }
   ],
   "source": [
    "x0_prior = NormalMeanVariance(0.0, 10000.0)\n",
    "@benchmark res = inference($data, $x0_prior, $P)"
   ]
  },
  {
   "cell_type": "code",
   "execution_count": null,
   "metadata": {},
   "outputs": [],
   "source": []
  },
  {
   "cell_type": "code",
   "execution_count": null,
   "metadata": {},
   "outputs": [],
   "source": []
  },
  {
   "cell_type": "code",
   "execution_count": null,
   "metadata": {},
   "outputs": [],
   "source": []
  },
  {
   "cell_type": "code",
   "execution_count": null,
   "metadata": {},
   "outputs": [],
   "source": []
  },
  {
   "cell_type": "code",
   "execution_count": null,
   "metadata": {},
   "outputs": [],
   "source": []
  },
  {
   "cell_type": "code",
   "execution_count": 5,
   "metadata": {},
   "outputs": [
    {
     "data": {
      "text/plain": [
       "BenchmarkTools.Trial: \n",
       "  memory estimate:  12.28 MiB\n",
       "  allocs estimate:  206592\n",
       "  --------------\n",
       "  minimum time:     14.691 ms (0.00% GC)\n",
       "  median time:      16.059 ms (0.00% GC)\n",
       "  mean time:        18.036 ms (12.46% GC)\n",
       "  maximum time:     26.821 ms (38.14% GC)\n",
       "  --------------\n",
       "  samples:          277\n",
       "  evals/sample:     1"
      ]
     },
     "execution_count": 5,
     "metadata": {},
     "output_type": "execute_result"
    }
   ],
   "source": [
    "x0_prior = NormalMeanVariance(0.0, 10000.0)\n",
    "@benchmark res = inference($data, $x0_prior, $P)"
   ]
  },
  {
   "cell_type": "code",
   "execution_count": 14,
   "metadata": {},
   "outputs": [
    {
     "data": {
      "text/plain": [
       "500-element Vector{Marginal}:\n",
       " Marginal(NormalMeanVariance{Float64}(μ=0.9887735574697237, v=0.001999999600000082))\n",
       " Marginal(NormalMeanVariance{Float64}(μ=1.988773557469724, v=0.0019999996000000823))\n",
       " Marginal(NormalMeanVariance{Float64}(μ=2.988773557469723, v=0.001999999600000082))\n",
       " Marginal(NormalMeanVariance{Float64}(μ=3.988773557469723, v=0.0019999996000000814))\n",
       " Marginal(NormalMeanVariance{Float64}(μ=4.988773557469723, v=0.0019999996000000814))\n",
       " Marginal(NormalMeanVariance{Float64}(μ=5.988773557469724, v=0.001999999600000082))\n",
       " Marginal(NormalMeanVariance{Float64}(μ=6.988773557469723, v=0.0019999996000000814))\n",
       " Marginal(NormalMeanVariance{Float64}(μ=7.988773557469725, v=0.001999999600000082))\n",
       " Marginal(NormalMeanVariance{Float64}(μ=8.988773557469722, v=0.0019999996000000814))\n",
       " Marginal(NormalMeanVariance{Float64}(μ=9.988773557469722, v=0.0019999996000000814))\n",
       " Marginal(NormalMeanVariance{Float64}(μ=10.988773557469722, v=0.0019999996000000814))\n",
       " Marginal(NormalMeanVariance{Float64}(μ=11.988773557469722, v=0.0019999996000000814))\n",
       " Marginal(NormalMeanVariance{Float64}(μ=12.988773557469724, v=0.0019999996000000814))\n",
       " ⋮\n",
       " Marginal(NormalMeanVariance{Float64}(μ=488.9887735574687, v=0.0019999996000000784))\n",
       " Marginal(NormalMeanVariance{Float64}(μ=489.98877355746873, v=0.0019999996000000784))\n",
       " Marginal(NormalMeanVariance{Float64}(μ=490.9887735574688, v=0.0019999996000000784))\n",
       " Marginal(NormalMeanVariance{Float64}(μ=491.9887735574688, v=0.001999999600000079))\n",
       " Marginal(NormalMeanVariance{Float64}(μ=492.98877355746885, v=0.001999999600000079))\n",
       " Marginal(NormalMeanVariance{Float64}(μ=493.9887735574687, v=0.0019999996000000784))\n",
       " Marginal(NormalMeanVariance{Float64}(μ=494.98877355746873, v=0.0019999996000000784))\n",
       " Marginal(NormalMeanVariance{Float64}(μ=495.98877355746856, v=0.001999999600000078))\n",
       " Marginal(NormalMeanVariance{Float64}(μ=496.9887735574687, v=0.0019999996000000784))\n",
       " Marginal(NormalMeanVariance{Float64}(μ=497.9887735574686, v=0.001999999600000078))\n",
       " Marginal(NormalMeanVariance{Float64}(μ=498.98877355746856, v=0.0019999996000000775))\n",
       " Marginal(NormalMeanVariance{Float64}(μ=499.9887735574686, v=0.0019999996000000775))"
      ]
     },
     "execution_count": 14,
     "metadata": {},
     "output_type": "execute_result"
    }
   ],
   "source": [
    "inference(data, x0_prior, P)"
   ]
  },
  {
   "cell_type": "code",
   "execution_count": null,
   "metadata": {},
   "outputs": [],
   "source": []
  }
 ],
 "metadata": {
  "kernelspec": {
   "display_name": "Julia 1.6.1",
   "language": "julia",
   "name": "julia-1.6"
  },
  "language_info": {
   "file_extension": ".jl",
   "mimetype": "application/julia",
   "name": "julia",
   "version": "1.6.1"
  }
 },
 "nbformat": 4,
 "nbformat_minor": 4
}
