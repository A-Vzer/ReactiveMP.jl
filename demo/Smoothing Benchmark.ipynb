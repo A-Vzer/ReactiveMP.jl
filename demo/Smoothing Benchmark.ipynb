{
 "cells": [
  {
   "cell_type": "code",
   "execution_count": 1,
   "metadata": {},
   "outputs": [
    {
     "name": "stderr",
     "output_type": "stream",
     "text": [
      "┌ Info: Precompiling ReactiveMP [a194aa59-28ba-4574-a09c-4a745416d6e3]\n",
      "└ @ Base loading.jl:1342\n"
     ]
    }
   ],
   "source": [
    "using Rocket\n",
    "using ReactiveMP\n",
    "using GraphPPL\n",
    "using BenchmarkTools\n",
    "using Distributions\n",
    "using Random"
   ]
  },
  {
   "cell_type": "code",
   "execution_count": 2,
   "metadata": {},
   "outputs": [
    {
     "data": {
      "text/plain": [
       "smoothing (generic function with 1 method)"
      ]
     },
     "execution_count": 2,
     "metadata": {},
     "output_type": "execute_result"
    }
   ],
   "source": [
    "@model function smoothing(n, x0, c::ConstVariable, P::ConstVariable)\n",
    "    \n",
    "    x_prior ~ NormalMeanVariance(mean(x0), cov(x0)) \n",
    "\n",
    "    x = randomvar(n)\n",
    "    y = datavar(Float64, n)\n",
    "    \n",
    "    x_prev = x_prior\n",
    "    \n",
    "    for i in 1:n\n",
    "        x[i] ~ x_prev + c\n",
    "        y[i] ~ NormalMeanVariance(x[i], P)\n",
    "        \n",
    "        x_prev = x[i]\n",
    "    end\n",
    "\n",
    "    return x, y\n",
    "end"
   ]
  },
  {
   "cell_type": "code",
   "execution_count": 3,
   "metadata": {},
   "outputs": [],
   "source": [
    "seed = 123\n",
    "\n",
    "rng = MersenneTwister(seed)\n",
    "\n",
    "P = 1.0\n",
    "n = 500\n",
    "\n",
    "data = collect(1:n) + rand(rng, Normal(0.0, sqrt(P)), n);"
   ]
  },
  {
   "cell_type": "code",
   "execution_count": 4,
   "metadata": {},
   "outputs": [
    {
     "data": {
      "text/plain": [
       "inference (generic function with 1 method)"
      ]
     },
     "execution_count": 4,
     "metadata": {},
     "output_type": "execute_result"
    }
   ],
   "source": [
    "function inference(data, x0, P)\n",
    "    n = length(data)\n",
    "    \n",
    "    _, (x, y) = smoothing(n, x0, 1.0, P);\n",
    "\n",
    "    x_buffer  = buffer(Marginal, n)\n",
    "    marginals = getmarginals(x)\n",
    "    \n",
    "    subscription = subscribe!(marginals, x_buffer)\n",
    "    \n",
    "    update!(y, data)\n",
    "    \n",
    "    unsubscribe!(subscription)\n",
    "    \n",
    "    return getvalues(x_buffer)\n",
    "end"
   ]
  },
  {
   "cell_type": "code",
   "execution_count": 5,
   "metadata": {},
   "outputs": [
    {
     "data": {
      "text/plain": [
       "NormalMeanVariance{Float64}(μ=0.0, v=10000.0)"
      ]
     },
     "execution_count": 5,
     "metadata": {},
     "output_type": "execute_result"
    }
   ],
   "source": [
    "x0_prior = NormalMeanVariance(0.0, 10000.0)"
   ]
  },
  {
   "cell_type": "code",
   "execution_count": 6,
   "metadata": {},
   "outputs": [
    {
     "data": {
      "text/plain": [
       "BenchmarkTools.Trial: 244 samples with 1 evaluation.\n",
       " Range \u001b[90m(\u001b[39m\u001b[36m\u001b[1mmin\u001b[22m\u001b[39m … \u001b[35mmax\u001b[39m\u001b[90m):  \u001b[39m\u001b[36m\u001b[1m16.704 ms\u001b[22m\u001b[39m … \u001b[35m31.415 ms\u001b[39m  \u001b[90m┊\u001b[39m GC \u001b[90m(\u001b[39mmin … max\u001b[90m): \u001b[39m 0.00% … 35.97%\n",
       " Time  \u001b[90m(\u001b[39m\u001b[34m\u001b[1mmedian\u001b[22m\u001b[39m\u001b[90m):     \u001b[39m\u001b[34m\u001b[1m18.564 ms              \u001b[22m\u001b[39m\u001b[90m┊\u001b[39m GC \u001b[90m(\u001b[39mmedian\u001b[90m):    \u001b[39m 0.00%\n",
       " Time  \u001b[90m(\u001b[39m\u001b[32m\u001b[1mmean\u001b[22m\u001b[39m ± \u001b[32mσ\u001b[39m\u001b[90m):   \u001b[39m\u001b[32m\u001b[1m20.499 ms\u001b[22m\u001b[39m ± \u001b[32m 3.807 ms\u001b[39m  \u001b[90m┊\u001b[39m GC \u001b[90m(\u001b[39mmean ± σ\u001b[90m):  \u001b[39m10.70% ± 13.60%\n",
       "\n",
       "  \u001b[39m \u001b[39m \u001b[39m▂\u001b[39m▄\u001b[39m▂\u001b[39m▅\u001b[39m█\u001b[39m▅\u001b[39m▄\u001b[34m▃\u001b[39m\u001b[39m▁\u001b[39m \u001b[39m \u001b[39m \u001b[39m \u001b[39m \u001b[39m \u001b[39m \u001b[32m \u001b[39m\u001b[39m \u001b[39m \u001b[39m \u001b[39m \u001b[39m \u001b[39m \u001b[39m \u001b[39m \u001b[39m \u001b[39m \u001b[39m \u001b[39m \u001b[39m \u001b[39m \u001b[39m \u001b[39m \u001b[39m \u001b[39m \u001b[39m \u001b[39m \u001b[39m \u001b[39m \u001b[39m \u001b[39m \u001b[39m \u001b[39m \u001b[39m \u001b[39m \u001b[39m \u001b[39m \u001b[39m \u001b[39m \u001b[39m \u001b[39m \u001b[39m \u001b[39m \u001b[39m \u001b[39m \u001b[39m \u001b[39m \u001b[39m \u001b[39m \n",
       "  \u001b[39m▄\u001b[39m█\u001b[39m█\u001b[39m█\u001b[39m█\u001b[39m█\u001b[39m█\u001b[39m█\u001b[39m█\u001b[34m█\u001b[39m\u001b[39m█\u001b[39m▇\u001b[39m▆\u001b[39m▄\u001b[39m▃\u001b[39m▅\u001b[39m▃\u001b[39m▃\u001b[32m▁\u001b[39m\u001b[39m▁\u001b[39m▃\u001b[39m▁\u001b[39m▁\u001b[39m▁\u001b[39m▁\u001b[39m▁\u001b[39m▁\u001b[39m▁\u001b[39m▁\u001b[39m▁\u001b[39m▁\u001b[39m▁\u001b[39m▁\u001b[39m▁\u001b[39m▁\u001b[39m▁\u001b[39m▃\u001b[39m▃\u001b[39m▃\u001b[39m▄\u001b[39m▅\u001b[39m▄\u001b[39m▆\u001b[39m▅\u001b[39m▇\u001b[39m▄\u001b[39m▆\u001b[39m▄\u001b[39m▅\u001b[39m▄\u001b[39m▃\u001b[39m▄\u001b[39m▁\u001b[39m▅\u001b[39m▃\u001b[39m▁\u001b[39m▁\u001b[39m▃\u001b[39m▃\u001b[39m \u001b[39m▃\n",
       "  16.7 ms\u001b[90m         Histogram: frequency by time\u001b[39m        29.2 ms \u001b[0m\u001b[1m<\u001b[22m\n",
       "\n",
       " Memory estimate\u001b[90m: \u001b[39m\u001b[33m12.55 MiB\u001b[39m, allocs estimate\u001b[90m: \u001b[39m\u001b[33m209093\u001b[39m."
      ]
     },
     "execution_count": 6,
     "metadata": {},
     "output_type": "execute_result"
    }
   ],
   "source": [
    "@benchmark res = inference($data, $x0_prior, $P)"
   ]
  },
  {
   "cell_type": "code",
   "execution_count": 7,
   "metadata": {},
   "outputs": [
    {
     "data": {
      "text/plain": [
       "500-element Vector{Marginal}:\n",
       " Marginal(NormalWeightedMeanPrecision{Float64}(xi=520.3550543909051, w=500.0000999999997))\n",
       " Marginal(NormalWeightedMeanPrecision{Float64}(xi=1020.3551543909047, w=500.0000999999997))\n",
       " Marginal(NormalWeightedMeanPrecision{Float64}(xi=1520.3552543909045, w=500.0000999999997))\n",
       " Marginal(NormalWeightedMeanPrecision{Float64}(xi=2020.3553543909045, w=500.0000999999997))\n",
       " Marginal(NormalWeightedMeanPrecision{Float64}(xi=2520.355454390904, w=500.00009999999963))\n",
       " Marginal(NormalWeightedMeanPrecision{Float64}(xi=3020.3555543909038, w=500.00009999999963))\n",
       " Marginal(NormalWeightedMeanPrecision{Float64}(xi=3520.3556543909035, w=500.0000999999997))\n",
       " Marginal(NormalWeightedMeanPrecision{Float64}(xi=4020.355754390903, w=500.0000999999997))\n",
       " Marginal(NormalWeightedMeanPrecision{Float64}(xi=4520.355854390902, w=500.0000999999997))\n",
       " Marginal(NormalWeightedMeanPrecision{Float64}(xi=5020.355954390903, w=500.00009999999975))\n",
       " Marginal(NormalWeightedMeanPrecision{Float64}(xi=5520.3560543909025, w=500.00009999999975))\n",
       " Marginal(NormalWeightedMeanPrecision{Float64}(xi=6020.356154390901, w=500.00009999999975))\n",
       " Marginal(NormalWeightedMeanPrecision{Float64}(xi=6520.356254390901, w=500.00009999999975))\n",
       " ⋮\n",
       " Marginal(NormalWeightedMeanPrecision{Float64}(xi=244520.40385439133, w=500.0001000000001))\n",
       " Marginal(NormalWeightedMeanPrecision{Float64}(xi=245020.40395439134, w=500.0001000000001))\n",
       " Marginal(NormalWeightedMeanPrecision{Float64}(xi=245520.40405439134, w=500.00010000000015))\n",
       " Marginal(NormalWeightedMeanPrecision{Float64}(xi=246020.40415439135, w=500.00010000000015))\n",
       " Marginal(NormalWeightedMeanPrecision{Float64}(xi=246520.40425439135, w=500.00010000000015))\n",
       " Marginal(NormalWeightedMeanPrecision{Float64}(xi=247020.40435439133, w=500.0001000000001))\n",
       " Marginal(NormalWeightedMeanPrecision{Float64}(xi=247520.40445439136, w=500.0001000000001))\n",
       " Marginal(NormalWeightedMeanPrecision{Float64}(xi=248020.40455439134, w=500.00010000000015))\n",
       " Marginal(NormalWeightedMeanPrecision{Float64}(xi=248520.40465439134, w=500.00010000000015))\n",
       " Marginal(NormalWeightedMeanPrecision{Float64}(xi=249020.40475439132, w=500.0001000000001))\n",
       " Marginal(NormalWeightedMeanPrecision{Float64}(xi=249520.40485439132, w=500.00010000000015))\n",
       " Marginal(NormalWeightedMeanPrecision{Float64}(xi=250020.4049543913, w=500.0001000000002))"
      ]
     },
     "execution_count": 7,
     "metadata": {},
     "output_type": "execute_result"
    }
   ],
   "source": [
    "inference(data, x0_prior, P)"
   ]
  },
  {
   "cell_type": "code",
   "execution_count": null,
   "metadata": {},
   "outputs": [],
   "source": []
  }
 ],
 "metadata": {
  "kernelspec": {
   "display_name": "Julia 1.6.2",
   "language": "julia",
   "name": "julia-1.6"
  },
  "language_info": {
   "file_extension": ".jl",
   "mimetype": "application/julia",
   "name": "julia",
   "version": "1.6.3"
  }
 },
 "nbformat": 4,
 "nbformat_minor": 4
}
