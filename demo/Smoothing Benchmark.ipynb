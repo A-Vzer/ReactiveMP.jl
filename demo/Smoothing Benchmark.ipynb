{
 "cells": [
  {
   "cell_type": "code",
   "execution_count": 20,
   "metadata": {},
   "outputs": [],
   "source": [
    "using Rocket\n",
    "using ReactiveMP\n",
    "using GraphPPL\n",
    "using BenchmarkTools\n",
    "using Distributions"
   ]
  },
  {
   "cell_type": "code",
   "execution_count": 68,
   "metadata": {},
   "outputs": [],
   "source": [
    "using MacroTools"
   ]
  },
  {
   "cell_type": "code",
   "execution_count": 115,
   "metadata": {
    "scrolled": false
   },
   "outputs": [
    {
     "data": {
      "text/plain": [
       "smoothing (generic function with 1 method)"
      ]
     },
     "execution_count": 115,
     "metadata": {},
     "output_type": "execute_result"
    }
   ],
   "source": [
    "@model function smoothing(n, x0, c::ConstVariable, P::ConstVariable)\n",
    "    \n",
    "    x_prior ~ NormalMeanVariance(mean(x0), cov(x0)) \n",
    "\n",
    "    x = randomvar(n)\n",
    "    y = datavar(Float64, n)\n",
    "    \n",
    "    x_prev = x_prior\n",
    "    \n",
    "    for i in 1:n\n",
    "        x[i] ~ x_prev + c\n",
    "        y[i] ~ NormalMeanVariance(x[i], P) where { \n",
    "            dependencies = WithInboundFunctionalDependencies((2, ), (NormalMeanVariance(0.0, 1.0), )) \n",
    "        }\n",
    "        \n",
    "        x_prev = x[i]\n",
    "    end\n",
    "\n",
    "    return x, y\n",
    "end"
   ]
  },
  {
   "cell_type": "code",
   "execution_count": 131,
   "metadata": {},
   "outputs": [],
   "source": [
    "P = 1.0\n",
    "n = 2\n",
    "\n",
    "data = collect(1:n) + rand(Normal(0.0, sqrt(P)), n);"
   ]
  },
  {
   "cell_type": "code",
   "execution_count": 135,
   "metadata": {},
   "outputs": [
    {
     "data": {
      "text/plain": [
       "inference (generic function with 1 method)"
      ]
     },
     "execution_count": 135,
     "metadata": {},
     "output_type": "execute_result"
    }
   ],
   "source": [
    "function inference(data, x0, P)\n",
    "    n = length(data)\n",
    "    \n",
    "    _, (x, y) = smoothing(n, x0, 1.0, P, options = (limit_stack_depth = 500, ));\n",
    "\n",
    "    x_buffer  = buffer(Marginal, n)\n",
    "    marginals = getmarginals(x)\n",
    "    \n",
    "    subscription = subscribe!(marginals, x_buffer)\n",
    "    \n",
    "    update!(y, data)\n",
    "    \n",
    "    unsubscribe!(subscription)\n",
    "    \n",
    "    return getvalues(x_buffer)\n",
    "end"
   ]
  },
  {
   "cell_type": "code",
   "execution_count": 138,
   "metadata": {},
   "outputs": [],
   "source": [
    "@rule NormalMeanVariance(:μ, Marginalisation) (m_out::PointMass, m_μ::NormalMeanVariance, m_v::PointMass, ) = begin \n",
    "    return NormalMeanVariance(mean(m_out), mean(m_v))\n",
    "end"
   ]
  },
  {
   "cell_type": "code",
   "execution_count": 139,
   "metadata": {},
   "outputs": [
    {
     "data": {
      "text/plain": [
       "2-element Vector{Marginal}:\n",
       " Marginal(NormalMeanVariance{Float64}(μ=0.9164184913484523, v=0.4999750012499375))\n",
       " Marginal(NormalMeanVariance{Float64}(μ=1.916418491348452, v=0.4999750012499375))"
      ]
     },
     "execution_count": 139,
     "metadata": {},
     "output_type": "execute_result"
    }
   ],
   "source": [
    "inference(data, x0_prior, P)"
   ]
  },
  {
   "cell_type": "code",
   "execution_count": null,
   "metadata": {},
   "outputs": [],
   "source": []
  },
  {
   "cell_type": "code",
   "execution_count": null,
   "metadata": {},
   "outputs": [],
   "source": []
  },
  {
   "cell_type": "code",
   "execution_count": null,
   "metadata": {},
   "outputs": [],
   "source": []
  },
  {
   "cell_type": "code",
   "execution_count": 112,
   "metadata": {},
   "outputs": [
    {
     "data": {
      "text/plain": [
       "BenchmarkTools.Trial: \n",
       "  memory estimate:  13.17 MiB\n",
       "  allocs estimate:  215598\n",
       "  --------------\n",
       "  minimum time:     18.686 ms (0.00% GC)\n",
       "  median time:      19.897 ms (0.00% GC)\n",
       "  mean time:        22.769 ms (13.47% GC)\n",
       "  maximum time:     34.298 ms (41.69% GC)\n",
       "  --------------\n",
       "  samples:          220\n",
       "  evals/sample:     1"
      ]
     },
     "execution_count": 112,
     "metadata": {},
     "output_type": "execute_result"
    }
   ],
   "source": [
    "x0_prior = NormalMeanVariance(0.0, 10000.0)\n",
    "@benchmark res = inference($data, $x0_prior, $P)"
   ]
  },
  {
   "cell_type": "code",
   "execution_count": 113,
   "metadata": {},
   "outputs": [
    {
     "name": "stdout",
     "output_type": "stream",
     "text": [
      "search: \u001b[0m\u001b[1mf\u001b[22m\u001b[0m\u001b[1mi\u001b[22m\u001b[0m\u001b[1mn\u001b[22m\u001b[0m\u001b[1md\u001b[22m\u001b[0m\u001b[1mf\u001b[22m\u001b[0m\u001b[1mi\u001b[22m\u001b[0m\u001b[1mr\u001b[22m\u001b[0m\u001b[1ms\u001b[22m\u001b[0m\u001b[1mt\u001b[22m Unde\u001b[0m\u001b[1mf\u001b[22m\u001b[0m\u001b[1mi\u001b[22m\u001b[0m\u001b[1mn\u001b[22me\u001b[0m\u001b[1md\u001b[22mNode\u001b[0m\u001b[1mF\u001b[22munct\u001b[0m\u001b[1mi\u001b[22monalFo\u001b[0m\u001b[1mr\u001b[22mm\n",
      "\n"
     ]
    },
    {
     "data": {
      "text/latex": [
       "\\begin{verbatim}\n",
       "findfirst(A)\n",
       "\\end{verbatim}\n",
       "Return the index or key of the first \\texttt{true} value in \\texttt{A}. Return \\texttt{nothing} if no such value is found. To search for other kinds of values, pass a predicate as the first argument.\n",
       "\n",
       "Indices or keys are of the same type as those returned by \\href{@ref}{\\texttt{keys(A)}} and \\href{@ref}{\\texttt{pairs(A)}}.\n",
       "\n",
       "\\section{Examples}\n",
       "\\begin{verbatim}\n",
       "julia> A = [false, false, true, false]\n",
       "4-element Vector{Bool}:\n",
       " 0\n",
       " 0\n",
       " 1\n",
       " 0\n",
       "\n",
       "julia> findfirst(A)\n",
       "3\n",
       "\n",
       "julia> findfirst(falses(3)) # returns nothing, but not printed in the REPL\n",
       "\n",
       "julia> A = [false false; true false]\n",
       "2×2 Matrix{Bool}:\n",
       " 0  0\n",
       " 1  0\n",
       "\n",
       "julia> findfirst(A)\n",
       "CartesianIndex(2, 1)\n",
       "\\end{verbatim}\n",
       "\\rule{\\textwidth}{1pt}\n",
       "\\begin{verbatim}\n",
       "findfirst(predicate::Function, A)\n",
       "\\end{verbatim}\n",
       "Return the index or key of the first element of \\texttt{A} for which \\texttt{predicate} returns \\texttt{true}. Return \\texttt{nothing} if there is no such element.\n",
       "\n",
       "Indices or keys are of the same type as those returned by \\href{@ref}{\\texttt{keys(A)}} and \\href{@ref}{\\texttt{pairs(A)}}.\n",
       "\n",
       "\\section{Examples}\n",
       "\\begin{verbatim}\n",
       "julia> A = [1, 4, 2, 2]\n",
       "4-element Vector{Int64}:\n",
       " 1\n",
       " 4\n",
       " 2\n",
       " 2\n",
       "\n",
       "julia> findfirst(iseven, A)\n",
       "2\n",
       "\n",
       "julia> findfirst(x -> x>10, A) # returns nothing, but not printed in the REPL\n",
       "\n",
       "julia> findfirst(isequal(4), A)\n",
       "2\n",
       "\n",
       "julia> A = [1 4; 2 2]\n",
       "2×2 Matrix{Int64}:\n",
       " 1  4\n",
       " 2  2\n",
       "\n",
       "julia> findfirst(iseven, A)\n",
       "CartesianIndex(2, 1)\n",
       "\\end{verbatim}\n",
       "\\rule{\\textwidth}{1pt}\n",
       "\\begin{verbatim}\n",
       "findfirst(pattern::AbstractString, string::AbstractString)\n",
       "findfirst(pattern::AbstractPattern, string::String)\n",
       "\\end{verbatim}\n",
       "Find the first occurrence of \\texttt{pattern} in \\texttt{string}. Equivalent to \\href{@ref}{\\texttt{findnext(pattern, string, firstindex(s))}}.\n",
       "\n",
       "\\section{Examples}\n",
       "\\begin{verbatim}\n",
       "julia> findfirst(\"z\", \"Hello to the world\") # returns nothing, but not printed in the REPL\n",
       "\n",
       "julia> findfirst(\"Julia\", \"JuliaLang\")\n",
       "1:5\n",
       "\\end{verbatim}\n",
       "\\rule{\\textwidth}{1pt}\n",
       "\\begin{verbatim}\n",
       "findfirst(ch::AbstractChar, string::AbstractString)\n",
       "\\end{verbatim}\n",
       "Find the first occurrence of character \\texttt{ch} in \\texttt{string}.\n",
       "\n",
       "\\begin{quote}\n",
       "\\textbf{compat}\n",
       "\n",
       "Julia 1.3\n",
       "\n",
       "This method requires at least Julia 1.3.\n",
       "\n",
       "\\end{quote}\n",
       "\\section{Examples}\n",
       "\\begin{verbatim}\n",
       "julia> findfirst('a', \"happy\")\n",
       "2\n",
       "\n",
       "julia> findfirst('z', \"happy\") === nothing\n",
       "true\n",
       "\\end{verbatim}\n",
       "\\rule{\\textwidth}{1pt}\n",
       "\\begin{verbatim}\n",
       "findfirst(pattern::AbstractVector{<:Union{Int8,UInt8}},\n",
       "          A::AbstractVector{<:Union{Int8,UInt8}})\n",
       "\\end{verbatim}\n",
       "Find the first occurrence of sequence \\texttt{pattern} in vector \\texttt{A}.\n",
       "\n",
       "\\begin{quote}\n",
       "\\textbf{compat}\n",
       "\n",
       "Julia 1.6\n",
       "\n",
       "This method requires at least Julia 1.6.\n",
       "\n",
       "\\end{quote}\n",
       "\\section{Examples}\n",
       "\\begin{verbatim}\n",
       "julia> findfirst([0x52, 0x62], [0x40, 0x52, 0x62, 0x63])\n",
       "2:3\n",
       "\\end{verbatim}\n"
      ],
      "text/markdown": [
       "```\n",
       "findfirst(A)\n",
       "```\n",
       "\n",
       "Return the index or key of the first `true` value in `A`. Return `nothing` if no such value is found. To search for other kinds of values, pass a predicate as the first argument.\n",
       "\n",
       "Indices or keys are of the same type as those returned by [`keys(A)`](@ref) and [`pairs(A)`](@ref).\n",
       "\n",
       "# Examples\n",
       "\n",
       "```jldoctest\n",
       "julia> A = [false, false, true, false]\n",
       "4-element Vector{Bool}:\n",
       " 0\n",
       " 0\n",
       " 1\n",
       " 0\n",
       "\n",
       "julia> findfirst(A)\n",
       "3\n",
       "\n",
       "julia> findfirst(falses(3)) # returns nothing, but not printed in the REPL\n",
       "\n",
       "julia> A = [false false; true false]\n",
       "2×2 Matrix{Bool}:\n",
       " 0  0\n",
       " 1  0\n",
       "\n",
       "julia> findfirst(A)\n",
       "CartesianIndex(2, 1)\n",
       "```\n",
       "\n",
       "---\n",
       "\n",
       "```\n",
       "findfirst(predicate::Function, A)\n",
       "```\n",
       "\n",
       "Return the index or key of the first element of `A` for which `predicate` returns `true`. Return `nothing` if there is no such element.\n",
       "\n",
       "Indices or keys are of the same type as those returned by [`keys(A)`](@ref) and [`pairs(A)`](@ref).\n",
       "\n",
       "# Examples\n",
       "\n",
       "```jldoctest\n",
       "julia> A = [1, 4, 2, 2]\n",
       "4-element Vector{Int64}:\n",
       " 1\n",
       " 4\n",
       " 2\n",
       " 2\n",
       "\n",
       "julia> findfirst(iseven, A)\n",
       "2\n",
       "\n",
       "julia> findfirst(x -> x>10, A) # returns nothing, but not printed in the REPL\n",
       "\n",
       "julia> findfirst(isequal(4), A)\n",
       "2\n",
       "\n",
       "julia> A = [1 4; 2 2]\n",
       "2×2 Matrix{Int64}:\n",
       " 1  4\n",
       " 2  2\n",
       "\n",
       "julia> findfirst(iseven, A)\n",
       "CartesianIndex(2, 1)\n",
       "```\n",
       "\n",
       "---\n",
       "\n",
       "```\n",
       "findfirst(pattern::AbstractString, string::AbstractString)\n",
       "findfirst(pattern::AbstractPattern, string::String)\n",
       "```\n",
       "\n",
       "Find the first occurrence of `pattern` in `string`. Equivalent to [`findnext(pattern, string, firstindex(s))`](@ref).\n",
       "\n",
       "# Examples\n",
       "\n",
       "```jldoctest\n",
       "julia> findfirst(\"z\", \"Hello to the world\") # returns nothing, but not printed in the REPL\n",
       "\n",
       "julia> findfirst(\"Julia\", \"JuliaLang\")\n",
       "1:5\n",
       "```\n",
       "\n",
       "---\n",
       "\n",
       "```\n",
       "findfirst(ch::AbstractChar, string::AbstractString)\n",
       "```\n",
       "\n",
       "Find the first occurrence of character `ch` in `string`.\n",
       "\n",
       "!!! compat \"Julia 1.3\"\n",
       "    This method requires at least Julia 1.3.\n",
       "\n",
       "\n",
       "# Examples\n",
       "\n",
       "```jldoctest\n",
       "julia> findfirst('a', \"happy\")\n",
       "2\n",
       "\n",
       "julia> findfirst('z', \"happy\") === nothing\n",
       "true\n",
       "```\n",
       "\n",
       "---\n",
       "\n",
       "```\n",
       "findfirst(pattern::AbstractVector{<:Union{Int8,UInt8}},\n",
       "          A::AbstractVector{<:Union{Int8,UInt8}})\n",
       "```\n",
       "\n",
       "Find the first occurrence of sequence `pattern` in vector `A`.\n",
       "\n",
       "!!! compat \"Julia 1.6\"\n",
       "    This method requires at least Julia 1.6.\n",
       "\n",
       "\n",
       "# Examples\n",
       "\n",
       "```jldoctest\n",
       "julia> findfirst([0x52, 0x62], [0x40, 0x52, 0x62, 0x63])\n",
       "2:3\n",
       "```\n"
      ],
      "text/plain": [
       "\u001b[36m  findfirst(A)\u001b[39m\n",
       "\n",
       "  Return the index or key of the first \u001b[36mtrue\u001b[39m value in \u001b[36mA\u001b[39m. Return \u001b[36mnothing\u001b[39m if no\n",
       "  such value is found. To search for other kinds of values, pass a predicate\n",
       "  as the first argument.\n",
       "\n",
       "  Indices or keys are of the same type as those returned by \u001b[36mkeys(A)\u001b[39m and\n",
       "  \u001b[36mpairs(A)\u001b[39m.\n",
       "\n",
       "\u001b[1m  Examples\u001b[22m\n",
       "\u001b[1m  ≡≡≡≡≡≡≡≡≡≡\u001b[22m\n",
       "\n",
       "\u001b[36m  julia> A = [false, false, true, false]\u001b[39m\n",
       "\u001b[36m  4-element Vector{Bool}:\u001b[39m\n",
       "\u001b[36m   0\u001b[39m\n",
       "\u001b[36m   0\u001b[39m\n",
       "\u001b[36m   1\u001b[39m\n",
       "\u001b[36m   0\u001b[39m\n",
       "\u001b[36m  \u001b[39m\n",
       "\u001b[36m  julia> findfirst(A)\u001b[39m\n",
       "\u001b[36m  3\u001b[39m\n",
       "\u001b[36m  \u001b[39m\n",
       "\u001b[36m  julia> findfirst(falses(3)) # returns nothing, but not printed in the REPL\u001b[39m\n",
       "\u001b[36m  \u001b[39m\n",
       "\u001b[36m  julia> A = [false false; true false]\u001b[39m\n",
       "\u001b[36m  2×2 Matrix{Bool}:\u001b[39m\n",
       "\u001b[36m   0  0\u001b[39m\n",
       "\u001b[36m   1  0\u001b[39m\n",
       "\u001b[36m  \u001b[39m\n",
       "\u001b[36m  julia> findfirst(A)\u001b[39m\n",
       "\u001b[36m  CartesianIndex(2, 1)\u001b[39m\n",
       "\n",
       "  ────────────────────────────────────────────────────────────────────────────\n",
       "\n",
       "\u001b[36m  findfirst(predicate::Function, A)\u001b[39m\n",
       "\n",
       "  Return the index or key of the first element of \u001b[36mA\u001b[39m for which \u001b[36mpredicate\u001b[39m\n",
       "  returns \u001b[36mtrue\u001b[39m. Return \u001b[36mnothing\u001b[39m if there is no such element.\n",
       "\n",
       "  Indices or keys are of the same type as those returned by \u001b[36mkeys(A)\u001b[39m and\n",
       "  \u001b[36mpairs(A)\u001b[39m.\n",
       "\n",
       "\u001b[1m  Examples\u001b[22m\n",
       "\u001b[1m  ≡≡≡≡≡≡≡≡≡≡\u001b[22m\n",
       "\n",
       "\u001b[36m  julia> A = [1, 4, 2, 2]\u001b[39m\n",
       "\u001b[36m  4-element Vector{Int64}:\u001b[39m\n",
       "\u001b[36m   1\u001b[39m\n",
       "\u001b[36m   4\u001b[39m\n",
       "\u001b[36m   2\u001b[39m\n",
       "\u001b[36m   2\u001b[39m\n",
       "\u001b[36m  \u001b[39m\n",
       "\u001b[36m  julia> findfirst(iseven, A)\u001b[39m\n",
       "\u001b[36m  2\u001b[39m\n",
       "\u001b[36m  \u001b[39m\n",
       "\u001b[36m  julia> findfirst(x -> x>10, A) # returns nothing, but not printed in the REPL\u001b[39m\n",
       "\u001b[36m  \u001b[39m\n",
       "\u001b[36m  julia> findfirst(isequal(4), A)\u001b[39m\n",
       "\u001b[36m  2\u001b[39m\n",
       "\u001b[36m  \u001b[39m\n",
       "\u001b[36m  julia> A = [1 4; 2 2]\u001b[39m\n",
       "\u001b[36m  2×2 Matrix{Int64}:\u001b[39m\n",
       "\u001b[36m   1  4\u001b[39m\n",
       "\u001b[36m   2  2\u001b[39m\n",
       "\u001b[36m  \u001b[39m\n",
       "\u001b[36m  julia> findfirst(iseven, A)\u001b[39m\n",
       "\u001b[36m  CartesianIndex(2, 1)\u001b[39m\n",
       "\n",
       "  ────────────────────────────────────────────────────────────────────────────\n",
       "\n",
       "\u001b[36m  findfirst(pattern::AbstractString, string::AbstractString)\u001b[39m\n",
       "\u001b[36m  findfirst(pattern::AbstractPattern, string::String)\u001b[39m\n",
       "\n",
       "  Find the first occurrence of \u001b[36mpattern\u001b[39m in \u001b[36mstring\u001b[39m. Equivalent to\n",
       "  \u001b[36mfindnext(pattern, string, firstindex(s))\u001b[39m.\n",
       "\n",
       "\u001b[1m  Examples\u001b[22m\n",
       "\u001b[1m  ≡≡≡≡≡≡≡≡≡≡\u001b[22m\n",
       "\n",
       "\u001b[36m  julia> findfirst(\"z\", \"Hello to the world\") # returns nothing, but not printed in the REPL\u001b[39m\n",
       "\u001b[36m  \u001b[39m\n",
       "\u001b[36m  julia> findfirst(\"Julia\", \"JuliaLang\")\u001b[39m\n",
       "\u001b[36m  1:5\u001b[39m\n",
       "\n",
       "  ────────────────────────────────────────────────────────────────────────────\n",
       "\n",
       "\u001b[36m  findfirst(ch::AbstractChar, string::AbstractString)\u001b[39m\n",
       "\n",
       "  Find the first occurrence of character \u001b[36mch\u001b[39m in \u001b[36mstring\u001b[39m.\n",
       "\n",
       "\u001b[39m\u001b[1m  │ \u001b[22m\u001b[39m\u001b[1mJulia 1.3\u001b[22m\n",
       "\u001b[39m\u001b[1m  │\u001b[22m\n",
       "\u001b[39m\u001b[1m  │\u001b[22m  This method requires at least Julia 1.3.\n",
       "\n",
       "\u001b[1m  Examples\u001b[22m\n",
       "\u001b[1m  ≡≡≡≡≡≡≡≡≡≡\u001b[22m\n",
       "\n",
       "\u001b[36m  julia> findfirst('a', \"happy\")\u001b[39m\n",
       "\u001b[36m  2\u001b[39m\n",
       "\u001b[36m  \u001b[39m\n",
       "\u001b[36m  julia> findfirst('z', \"happy\") === nothing\u001b[39m\n",
       "\u001b[36m  true\u001b[39m\n",
       "\n",
       "  ────────────────────────────────────────────────────────────────────────────\n",
       "\n",
       "\u001b[36m  findfirst(pattern::AbstractVector{<:Union{Int8,UInt8}},\u001b[39m\n",
       "\u001b[36m            A::AbstractVector{<:Union{Int8,UInt8}})\u001b[39m\n",
       "\n",
       "  Find the first occurrence of sequence \u001b[36mpattern\u001b[39m in vector \u001b[36mA\u001b[39m.\n",
       "\n",
       "\u001b[39m\u001b[1m  │ \u001b[22m\u001b[39m\u001b[1mJulia 1.6\u001b[22m\n",
       "\u001b[39m\u001b[1m  │\u001b[22m\n",
       "\u001b[39m\u001b[1m  │\u001b[22m  This method requires at least Julia 1.6.\n",
       "\n",
       "\u001b[1m  Examples\u001b[22m\n",
       "\u001b[1m  ≡≡≡≡≡≡≡≡≡≡\u001b[22m\n",
       "\n",
       "\u001b[36m  julia> findfirst([0x52, 0x62], [0x40, 0x52, 0x62, 0x63])\u001b[39m\n",
       "\u001b[36m  2:3\u001b[39m"
      ]
     },
     "execution_count": 113,
     "metadata": {},
     "output_type": "execute_result"
    }
   ],
   "source": [
    "?findfirst"
   ]
  },
  {
   "cell_type": "code",
   "execution_count": null,
   "metadata": {},
   "outputs": [],
   "source": []
  },
  {
   "cell_type": "code",
   "execution_count": null,
   "metadata": {},
   "outputs": [],
   "source": []
  },
  {
   "cell_type": "code",
   "execution_count": 6,
   "metadata": {},
   "outputs": [
    {
     "data": {
      "text/plain": [
       "BenchmarkTools.Trial: \n",
       "  memory estimate:  12.28 MiB\n",
       "  allocs estimate:  206592\n",
       "  --------------\n",
       "  minimum time:     14.879 ms (0.00% GC)\n",
       "  median time:      16.607 ms (0.00% GC)\n",
       "  mean time:        18.578 ms (11.87% GC)\n",
       "  maximum time:     29.016 ms (39.59% GC)\n",
       "  --------------\n",
       "  samples:          269\n",
       "  evals/sample:     1"
      ]
     },
     "execution_count": 6,
     "metadata": {},
     "output_type": "execute_result"
    }
   ],
   "source": [
    "x0_prior = NormalMeanVariance(0.0, 10000.0)\n",
    "@benchmark res = inference($data, $x0_prior, $P)"
   ]
  },
  {
   "cell_type": "code",
   "execution_count": null,
   "metadata": {},
   "outputs": [],
   "source": []
  },
  {
   "cell_type": "code",
   "execution_count": null,
   "metadata": {},
   "outputs": [],
   "source": []
  },
  {
   "cell_type": "code",
   "execution_count": null,
   "metadata": {},
   "outputs": [],
   "source": []
  },
  {
   "cell_type": "code",
   "execution_count": null,
   "metadata": {},
   "outputs": [],
   "source": []
  },
  {
   "cell_type": "code",
   "execution_count": null,
   "metadata": {},
   "outputs": [],
   "source": []
  },
  {
   "cell_type": "code",
   "execution_count": 5,
   "metadata": {},
   "outputs": [
    {
     "data": {
      "text/plain": [
       "BenchmarkTools.Trial: \n",
       "  memory estimate:  12.28 MiB\n",
       "  allocs estimate:  206592\n",
       "  --------------\n",
       "  minimum time:     14.691 ms (0.00% GC)\n",
       "  median time:      16.059 ms (0.00% GC)\n",
       "  mean time:        18.036 ms (12.46% GC)\n",
       "  maximum time:     26.821 ms (38.14% GC)\n",
       "  --------------\n",
       "  samples:          277\n",
       "  evals/sample:     1"
      ]
     },
     "execution_count": 5,
     "metadata": {},
     "output_type": "execute_result"
    }
   ],
   "source": [
    "x0_prior = NormalMeanVariance(0.0, 10000.0)\n",
    "@benchmark res = inference($data, $x0_prior, $P)"
   ]
  },
  {
   "cell_type": "code",
   "execution_count": 14,
   "metadata": {},
   "outputs": [
    {
     "data": {
      "text/plain": [
       "500-element Vector{Marginal}:\n",
       " Marginal(NormalMeanVariance{Float64}(μ=0.9887735574697237, v=0.001999999600000082))\n",
       " Marginal(NormalMeanVariance{Float64}(μ=1.988773557469724, v=0.0019999996000000823))\n",
       " Marginal(NormalMeanVariance{Float64}(μ=2.988773557469723, v=0.001999999600000082))\n",
       " Marginal(NormalMeanVariance{Float64}(μ=3.988773557469723, v=0.0019999996000000814))\n",
       " Marginal(NormalMeanVariance{Float64}(μ=4.988773557469723, v=0.0019999996000000814))\n",
       " Marginal(NormalMeanVariance{Float64}(μ=5.988773557469724, v=0.001999999600000082))\n",
       " Marginal(NormalMeanVariance{Float64}(μ=6.988773557469723, v=0.0019999996000000814))\n",
       " Marginal(NormalMeanVariance{Float64}(μ=7.988773557469725, v=0.001999999600000082))\n",
       " Marginal(NormalMeanVariance{Float64}(μ=8.988773557469722, v=0.0019999996000000814))\n",
       " Marginal(NormalMeanVariance{Float64}(μ=9.988773557469722, v=0.0019999996000000814))\n",
       " Marginal(NormalMeanVariance{Float64}(μ=10.988773557469722, v=0.0019999996000000814))\n",
       " Marginal(NormalMeanVariance{Float64}(μ=11.988773557469722, v=0.0019999996000000814))\n",
       " Marginal(NormalMeanVariance{Float64}(μ=12.988773557469724, v=0.0019999996000000814))\n",
       " ⋮\n",
       " Marginal(NormalMeanVariance{Float64}(μ=488.9887735574687, v=0.0019999996000000784))\n",
       " Marginal(NormalMeanVariance{Float64}(μ=489.98877355746873, v=0.0019999996000000784))\n",
       " Marginal(NormalMeanVariance{Float64}(μ=490.9887735574688, v=0.0019999996000000784))\n",
       " Marginal(NormalMeanVariance{Float64}(μ=491.9887735574688, v=0.001999999600000079))\n",
       " Marginal(NormalMeanVariance{Float64}(μ=492.98877355746885, v=0.001999999600000079))\n",
       " Marginal(NormalMeanVariance{Float64}(μ=493.9887735574687, v=0.0019999996000000784))\n",
       " Marginal(NormalMeanVariance{Float64}(μ=494.98877355746873, v=0.0019999996000000784))\n",
       " Marginal(NormalMeanVariance{Float64}(μ=495.98877355746856, v=0.001999999600000078))\n",
       " Marginal(NormalMeanVariance{Float64}(μ=496.9887735574687, v=0.0019999996000000784))\n",
       " Marginal(NormalMeanVariance{Float64}(μ=497.9887735574686, v=0.001999999600000078))\n",
       " Marginal(NormalMeanVariance{Float64}(μ=498.98877355746856, v=0.0019999996000000775))\n",
       " Marginal(NormalMeanVariance{Float64}(μ=499.9887735574686, v=0.0019999996000000775))"
      ]
     },
     "execution_count": 14,
     "metadata": {},
     "output_type": "execute_result"
    }
   ],
   "source": [
    "inference(data, x0_prior, P)"
   ]
  },
  {
   "cell_type": "code",
   "execution_count": null,
   "metadata": {},
   "outputs": [],
   "source": []
  }
 ],
 "metadata": {
  "kernelspec": {
   "display_name": "Julia 1.6.1",
   "language": "julia",
   "name": "julia-1.6"
  },
  "language_info": {
   "file_extension": ".jl",
   "mimetype": "application/julia",
   "name": "julia",
   "version": "1.6.1"
  }
 },
 "nbformat": 4,
 "nbformat_minor": 4
}
