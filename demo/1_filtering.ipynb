{
 "cells": [
  {
   "cell_type": "code",
   "execution_count": 1,
   "metadata": {},
   "outputs": [
    {
     "name": "stderr",
     "output_type": "stream",
     "text": [
      "┌ Info: Precompiling ReactiveMP [a194aa59-28ba-4574-a09c-4a745416d6e3]\n",
      "└ @ Base loading.jl:1278\n",
      "┌ Warning: Package ReactiveMP does not have Rocket in its dependencies:\n",
      "│ - If you have ReactiveMP checked out for development and have\n",
      "│   added Rocket as a dependency but haven't updated your primary\n",
      "│   environment's manifest file, try `Pkg.resolve()`.\n",
      "│ - Otherwise you may need to report an issue with ReactiveMP\n",
      "└ Loading Rocket into ReactiveMP from project dependency, future warnings for ReactiveMP are suppressed.\n"
     ]
    }
   ],
   "source": [
    "using Distributions\n",
    "using Rocket\n",
    "using ReactiveMP\n",
    "using BenchmarkTools\n",
    "\n",
    "import Base: show"
   ]
  },
  {
   "cell_type": "code",
   "execution_count": 2,
   "metadata": {},
   "outputs": [
    {
     "data": {
      "text/plain": [
       "filtering (generic function with 1 method)"
      ]
     },
     "execution_count": 2,
     "metadata": {},
     "output_type": "execute_result"
    }
   ],
   "source": [
    "function filtering_model()\n",
    "    model = Model()\n",
    "    \n",
    "    x_prior_mean = datavar(model, :x_prior_mean, Dirac{Float64})\n",
    "    x_prior_var  = datavar(model, :x_prior_var, Dirac{Float64})\n",
    "    \n",
    "    _, x_prior = make_node(model, NormalMeanVariance, AutoVar(:x_prior), x_prior_mean, x_prior_var)\n",
    "    \n",
    "    c = constvar(model, :c, 1.0)\n",
    "    \n",
    "    _, x = make_node(model, +, AutoVar(:x), x_prior, c)\n",
    "    \n",
    "    noise_mean = constvar(model, :noise_mean, 0.0)\n",
    "    noise_var  = constvar(model, :noise_var, 200.0)\n",
    "    \n",
    "    _, noise = make_node(model, NormalMeanVariance, AutoVar(:noise), noise_mean, noise_var)\n",
    "    \n",
    "    y = datavar(model, :y, Dirac{Float64})\n",
    "    \n",
    "    _ = make_node(model, +, y, x, noise)\n",
    "    \n",
    "    activate!(model)\n",
    "    \n",
    "    return x_prior_mean, x_prior_var, x, y\n",
    "end\n",
    "\n",
    "function filtering(data)\n",
    "    N = length(data)\n",
    "    \n",
    "    x_prior_mean, x_prior_var, x, y = filtering_model()\n",
    "    \n",
    "    marginals = Vector{NormalMeanVariance{Float64}}()\n",
    "    \n",
    "    subscription = subscribe!(getmarginal(x), (t) -> begin\n",
    "        update!(x_prior_mean, mean(t))\n",
    "        update!(x_prior_var, var(t))\n",
    "\n",
    "        push!(marginals, getdata(t))\n",
    "    end)\n",
    "    \n",
    "    update!(x_prior_mean, 0.0)\n",
    "    update!(x_prior_var, 100000.0)\n",
    "    \n",
    "    for d in data\n",
    "        update!(y, d)\n",
    "    end\n",
    "    \n",
    "    unsubscribe!(subscription)\n",
    "    \n",
    "    return marginals\n",
    "end"
   ]
  },
  {
   "cell_type": "code",
   "execution_count": 3,
   "metadata": {},
   "outputs": [],
   "source": [
    "N = 600\n",
    "data = collect(1:N) + sqrt(200.0) * randn(N);"
   ]
  },
  {
   "cell_type": "code",
   "execution_count": 4,
   "metadata": {},
   "outputs": [
    {
     "name": "stdout",
     "output_type": "stream",
     "text": [
      "  3.644662 seconds (9.11 M allocations: 487.569 MiB, 4.21% gc time)\n"
     ]
    }
   ],
   "source": [
    "@time filtering(data); # Initial compilation"
   ]
  },
  {
   "cell_type": "code",
   "execution_count": 5,
   "metadata": {},
   "outputs": [
    {
     "name": "stdout",
     "output_type": "stream",
     "text": [
      "  0.001839 seconds (32.30 k allocations: 1.612 MiB)\n"
     ]
    }
   ],
   "source": [
    "@time filtering(data); # Subsequent runs"
   ]
  },
  {
   "cell_type": "code",
   "execution_count": null,
   "metadata": {},
   "outputs": [],
   "source": [
    "@btime filtering($data); # Performance benchmark"
   ]
  },
  {
   "cell_type": "code",
   "execution_count": null,
   "metadata": {},
   "outputs": [],
   "source": [
    "using Plots"
   ]
  },
  {
   "cell_type": "code",
   "execution_count": null,
   "metadata": {},
   "outputs": [],
   "source": [
    "real_data = collect(1:100)\n",
    "obs_data  = real_data .+ (sqrt(200.0) * randn(100));\n",
    "estimated = filtering(obs_data)\n",
    "\n",
    "graph = plot(mean.(estimated), ribbon = std.(estimated), label = :estimated)\n",
    "graph = plot!(graph, real_data, label = :real)\n",
    "graph = scatter!(graph, obs_data, ms = 3, label = :observed)\n",
    "\n",
    "plot(graph, size = (1000, 500))"
   ]
  },
  {
   "cell_type": "code",
   "execution_count": null,
   "metadata": {},
   "outputs": [],
   "source": [
    "filtering(data)"
   ]
  },
  {
   "cell_type": "code",
   "execution_count": null,
   "metadata": {},
   "outputs": [],
   "source": []
  }
 ],
 "metadata": {
  "kernelspec": {
   "display_name": "Julia 1.5.2",
   "language": "julia",
   "name": "julia-1.5"
  },
  "language_info": {
   "file_extension": ".jl",
   "mimetype": "application/julia",
   "name": "julia",
   "version": "1.5.2"
  }
 },
 "nbformat": 4,
 "nbformat_minor": 4
}
