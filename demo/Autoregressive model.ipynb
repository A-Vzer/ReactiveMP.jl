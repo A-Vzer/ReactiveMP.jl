{
 "cells": [
  {
   "cell_type": "code",
   "execution_count": 1,
   "metadata": {},
   "outputs": [
    {
     "name": "stderr",
     "output_type": "stream",
     "text": [
      "┌ Info: Precompiling ReactiveMP [a194aa59-28ba-4574-a09c-4a745416d6e3]\n",
      "└ @ Base loading.jl:1342\n"
     ]
    }
   ],
   "source": [
    "using Revise\n",
    "using Rocket\n",
    "using ReactiveMP\n",
    "using GraphPPL\n",
    "using Distributions\n",
    "using LinearAlgebra\n",
    "import ProgressMeter"
   ]
  },
  {
   "cell_type": "code",
   "execution_count": 2,
   "metadata": {},
   "outputs": [],
   "source": [
    "# The following coefficients correspond to stable poles\n",
    "coefs_ar_1 = [-0.27002517200218096]\n",
    "coefs_ar_2 = [0.4511170798064709, -0.05740081602446657]\n",
    "coefs_ar_5 = [0.10699399235785655, -0.5237303489793305, 0.3068897071844715, -0.17232255282458891, 0.13323964347539288];"
   ]
  },
  {
   "cell_type": "code",
   "execution_count": 3,
   "metadata": {},
   "outputs": [
    {
     "data": {
      "text/plain": [
       "generateAR (generic function with 1 method)"
      ]
     },
     "execution_count": 3,
     "metadata": {},
     "output_type": "execute_result"
    }
   ],
   "source": [
    "function generateAR(num::Int, coefs::Vector{Float64}; variance=1.0)\n",
    "    order = length(coefs)\n",
    "    inits = randn(order)\n",
    "    data = Vector{Vector{Float64}}(undef, num+3*order)\n",
    "    data[1] = inits\n",
    "    for i in 2:num+3*order\n",
    "        data[i] = insert!(data[i-1][1:end-1], 1, rand(Distributions.Normal(coefs'data[i-1], sqrt(variance[])), 1)[1])\n",
    "    end\n",
    "    data = data[1+3*order:end]\n",
    "    return data\n",
    "end"
   ]
  },
  {
   "cell_type": "code",
   "execution_count": 4,
   "metadata": {},
   "outputs": [
    {
     "data": {
      "text/plain": [
       "lar_model_multivariate (generic function with 1 method)"
      ]
     },
     "execution_count": 4,
     "metadata": {},
     "output_type": "execute_result"
    }
   ],
   "source": [
    "@model function lar_model_multivariate(n, order, c, stype)\n",
    "    x = randomvar(n)\n",
    "    y = datavar(Float64, n)\n",
    "    \n",
    "    γ  ~ GammaShapeRate(1.0, 1.0) where { q = MeanField() }\n",
    "    θ  ~ MvNormalMeanPrecision(zeros(order), Matrix{Float64}(I, order, order)) where { q = MeanField() }\n",
    "    x0 ~ MvNormalMeanPrecision(zeros(order), Matrix{Float64}(I, order, order)) where { q = MeanField() }\n",
    "    \n",
    "    ct  = constvar(c)\n",
    "    γ_y = constvar(1.0)\n",
    "    \n",
    "    x_prev = x0\n",
    "    \n",
    "    meta = ARMeta(Multivariate, order, stype)\n",
    "    \n",
    "    for i in 1:n\n",
    "        x[i] ~ AR(x_prev, θ, γ) where { q = q(y, x)q(γ)q(θ), meta = meta }\n",
    "        y[i] ~ NormalMeanPrecision(dot(ct, x[i]), γ_y) where { q = MeanField() }\n",
    "        x_prev = x[i]\n",
    "    end\n",
    "    \n",
    "    return x, y, θ, γ\n",
    "end"
   ]
  },
  {
   "cell_type": "code",
   "execution_count": 5,
   "metadata": {},
   "outputs": [
    {
     "data": {
      "text/plain": [
       "lar_model_univariate (generic function with 1 method)"
      ]
     },
     "execution_count": 5,
     "metadata": {},
     "output_type": "execute_result"
    }
   ],
   "source": [
    "@model function lar_model_univariate(n, order, c, stype)\n",
    "    x = randomvar(n)\n",
    "    y = datavar(Float64, n)\n",
    "    \n",
    "    γ  ~ GammaShapeRate(1.0, 1.0) where { q = MeanField() }\n",
    "    θ  ~ NormalMeanPrecision(0.0, 1.0) where { q = MeanField() }\n",
    "    x0 ~ NormalMeanPrecision(0.0, 1.0) where { q = MeanField() }\n",
    "    \n",
    "    γ_y = constvar(1.0)\n",
    "    \n",
    "    x_prev = x0\n",
    "    \n",
    "    meta = ARMeta(Univariate, order, stype)\n",
    "    \n",
    "    for i in 1:n\n",
    "        x[i] ~ AR(x_prev, θ, γ) where { q = q(y, x)q(γ)q(θ), meta = meta }\n",
    "        y[i] ~ NormalMeanPrecision(x[i], γ_y) where { q = MeanField() }\n",
    "        x_prev = x[i]\n",
    "    end\n",
    "    \n",
    "    return x, y, θ, γ\n",
    "end"
   ]
  },
  {
   "cell_type": "code",
   "execution_count": 6,
   "metadata": {},
   "outputs": [],
   "source": [
    "using BenchmarkTools"
   ]
  },
  {
   "cell_type": "code",
   "execution_count": 7,
   "metadata": {},
   "outputs": [
    {
     "data": {
      "text/plain": [
       "lar_model (generic function with 2 methods)"
      ]
     },
     "execution_count": 7,
     "metadata": {},
     "output_type": "execute_result"
    }
   ],
   "source": [
    "lar_model(::Type{ Multivariate }, n, order, c, stype) = lar_model_multivariate(n, order, c, stype)\n",
    "lar_model(::Type{ Univariate }, n, order, c, stype)   = lar_model_univariate(n, order, c, stype)"
   ]
  },
  {
   "cell_type": "code",
   "execution_count": 8,
   "metadata": {},
   "outputs": [
    {
     "data": {
      "text/plain": [
       "init_marginals (generic function with 2 methods)"
      ]
     },
     "execution_count": 8,
     "metadata": {},
     "output_type": "execute_result"
    }
   ],
   "source": [
    "function init_marginals(::Type{ Multivariate }, order, γ, θ)\n",
    "    setmarginal!(γ, GammaShapeRate(1.0, 1.0))\n",
    "    setmarginal!(θ, MvNormalMeanPrecision(zeros(order), Matrix{Float64}(I, order, order)))\n",
    "end\n",
    "\n",
    "function init_marginals(::Type{ Univariate }, order, γ, θ)\n",
    "    setmarginal!(γ, GammaShapeRate(1.0, 1.0))\n",
    "    setmarginal!(θ, NormalMeanPrecision(0.0, 1.0))\n",
    "end"
   ]
  },
  {
   "cell_type": "code",
   "execution_count": 9,
   "metadata": {},
   "outputs": [
    {
     "data": {
      "text/plain": [
       "inference (generic function with 1 method)"
      ]
     },
     "execution_count": 9,
     "metadata": {},
     "output_type": "execute_result"
    }
   ],
   "source": [
    "function inference(data, order, artype, stype, niter)\n",
    "    n = length(data)\n",
    "    \n",
    "    c = ReactiveMP.ar_unit(artype, order)\n",
    "    \n",
    "    model, (x, y, θ, γ) = lar_model(artype, n, order, c, stype)\n",
    "    \n",
    "    γ_buffer = nothing\n",
    "    θ_buffer = nothing\n",
    "    x_buffer = Vector{Marginal}(undef, n)\n",
    "    \n",
    "    fe = Vector{Float64}()\n",
    "    \n",
    "    γsub = subscribe!(getmarginal(γ), (mγ) -> γ_buffer = mγ)\n",
    "    θsub = subscribe!(getmarginal(θ), (mθ) -> θ_buffer = mθ)\n",
    "    xsub = subscribe!(getmarginals(x), (mx) -> copyto!(x_buffer, mx))\n",
    "    fesub = subscribe!(score(Float64, BetheFreeEnergy(), model), (f) -> push!(fe, f))\n",
    "    \n",
    "    init_marginals(artype, order, γ, θ)\n",
    "    \n",
    "    ProgressMeter.@showprogress for i in 1:niter\n",
    "        update!(y, data)\n",
    "    end\n",
    "    \n",
    "    unsubscribe!(γsub)\n",
    "    unsubscribe!(θsub)\n",
    "    unsubscribe!(xsub)\n",
    "    unsubscribe!(fesub)\n",
    "    \n",
    "    return γ_buffer, θ_buffer, x_buffer, fe\n",
    "end"
   ]
  },
  {
   "cell_type": "code",
   "execution_count": 10,
   "metadata": {},
   "outputs": [],
   "source": [
    "using Random\n",
    "Random.seed!(42)\n",
    "n = 100\n",
    "\n",
    "coefs = coefs_ar_2 # coefs_ar_1, coefs_ar_2, coefs_ar_5\n",
    "gen_ar_order = length(coefs)\n",
    "data = generateAR(n, coefs)\n",
    "hidden_states =  first.(data)\n",
    "observations = hidden_states .+ randn(length(hidden_states));"
   ]
  },
  {
   "cell_type": "code",
   "execution_count": 11,
   "metadata": {
    "scrolled": true
   },
   "outputs": [
    {
     "name": "stderr",
     "output_type": "stream",
     "text": [
      "\u001b[32mProgress: 100%|█████████████████████████████████████████| Time: 0:00:03\u001b[39m\n"
     ]
    }
   ],
   "source": [
    "# Univariate AR\n",
    "ar_order = 1\n",
    "γ, θ, xs, fe = inference(observations, ar_order, Univariate, ARsafe(), 100);"
   ]
  },
  {
   "cell_type": "code",
   "execution_count": 12,
   "metadata": {},
   "outputs": [
    {
     "name": "stderr",
     "output_type": "stream",
     "text": [
      "\u001b[32mProgress: 100%|█████████████████████████████████████████| Time: 0:00:05\u001b[39m\n"
     ]
    }
   ],
   "source": [
    "# Multivariate AR\n",
    "ar_order = gen_ar_order\n",
    "γ, θ, xs, fe = inference(observations, ar_order, Multivariate, ARsafe(), 100);"
   ]
  },
  {
   "cell_type": "code",
   "execution_count": 13,
   "metadata": {},
   "outputs": [],
   "source": [
    "# Extract inferred parameters\n",
    "mx, vx = mean.(xs), cov.(xs)\n",
    "mx = first.(mx)\n",
    "vx = first.(vx)\n",
    "mθ = mean(θ)\n",
    "vθ = cov(θ)\n",
    "mγ = mean(γ);"
   ]
  },
  {
   "cell_type": "code",
   "execution_count": 14,
   "metadata": {},
   "outputs": [
    {
     "data": {
      "image/svg+xml": [
       "<?xml version=\"1.0\" encoding=\"utf-8\"?>\n",
       "<svg xmlns=\"http://www.w3.org/2000/svg\" xmlns:xlink=\"http://www.w3.org/1999/xlink\" width=\"1400\" height=\"400\" viewBox=\"0 0 5600 1600\">\n",
       "<defs>\n",
       "  <clipPath id=\"clip580\">\n",
       "    <rect x=\"0\" y=\"0\" width=\"5600\" height=\"1600\"/>\n",
       "  </clipPath>\n",
       "</defs>\n",
       "<path clip-path=\"url(#clip580)\" d=\"\n",
       "M0 1600 L5600 1600 L5600 0 L0 0  Z\n",
       "  \" fill=\"#ffffff\" fill-rule=\"evenodd\" fill-opacity=\"1\"/>\n",
       "<defs>\n",
       "  <clipPath id=\"clip581\">\n",
       "    <rect x=\"1120\" y=\"0\" width=\"3921\" height=\"1600\"/>\n",
       "  </clipPath>\n",
       "</defs>\n",
       "<path clip-path=\"url(#clip580)\" d=\"\n",
       "M181.191 1506.2 L2720.18 1506.2 L2720.18 47.2441 L181.191 47.2441  Z\n",
       "  \" fill=\"#ffffff\" fill-rule=\"evenodd\" fill-opacity=\"1\"/>\n",
       "<defs>\n",
       "  <clipPath id=\"clip582\">\n",
       "    <rect x=\"181\" y=\"47\" width=\"2540\" height=\"1460\"/>\n",
       "  </clipPath>\n",
       "</defs>\n",
       "<polyline clip-path=\"url(#clip582)\" style=\"stroke:#000000; stroke-linecap:butt; stroke-linejoin:round; stroke-width:2; stroke-opacity:0.1; fill:none\" points=\"\n",
       "  228.854,1506.2 228.854,47.2441 \n",
       "  \"/>\n",
       "<polyline clip-path=\"url(#clip582)\" style=\"stroke:#000000; stroke-linecap:butt; stroke-linejoin:round; stroke-width:2; stroke-opacity:0.1; fill:none\" points=\"\n",
       "  833.72,1506.2 833.72,47.2441 \n",
       "  \"/>\n",
       "<polyline clip-path=\"url(#clip582)\" style=\"stroke:#000000; stroke-linecap:butt; stroke-linejoin:round; stroke-width:2; stroke-opacity:0.1; fill:none\" points=\"\n",
       "  1438.59,1506.2 1438.59,47.2441 \n",
       "  \"/>\n",
       "<polyline clip-path=\"url(#clip582)\" style=\"stroke:#000000; stroke-linecap:butt; stroke-linejoin:round; stroke-width:2; stroke-opacity:0.1; fill:none\" points=\"\n",
       "  2043.45,1506.2 2043.45,47.2441 \n",
       "  \"/>\n",
       "<polyline clip-path=\"url(#clip582)\" style=\"stroke:#000000; stroke-linecap:butt; stroke-linejoin:round; stroke-width:2; stroke-opacity:0.1; fill:none\" points=\"\n",
       "  2648.32,1506.2 2648.32,47.2441 \n",
       "  \"/>\n",
       "<polyline clip-path=\"url(#clip580)\" style=\"stroke:#000000; stroke-linecap:butt; stroke-linejoin:round; stroke-width:4; stroke-opacity:1; fill:none\" points=\"\n",
       "  181.191,1506.2 2720.18,1506.2 \n",
       "  \"/>\n",
       "<polyline clip-path=\"url(#clip580)\" style=\"stroke:#000000; stroke-linecap:butt; stroke-linejoin:round; stroke-width:4; stroke-opacity:1; fill:none\" points=\"\n",
       "  228.854,1506.2 228.854,1487.3 \n",
       "  \"/>\n",
       "<polyline clip-path=\"url(#clip580)\" style=\"stroke:#000000; stroke-linecap:butt; stroke-linejoin:round; stroke-width:4; stroke-opacity:1; fill:none\" points=\"\n",
       "  833.72,1506.2 833.72,1487.3 \n",
       "  \"/>\n",
       "<polyline clip-path=\"url(#clip580)\" style=\"stroke:#000000; stroke-linecap:butt; stroke-linejoin:round; stroke-width:4; stroke-opacity:1; fill:none\" points=\"\n",
       "  1438.59,1506.2 1438.59,1487.3 \n",
       "  \"/>\n",
       "<polyline clip-path=\"url(#clip580)\" style=\"stroke:#000000; stroke-linecap:butt; stroke-linejoin:round; stroke-width:4; stroke-opacity:1; fill:none\" points=\"\n",
       "  2043.45,1506.2 2043.45,1487.3 \n",
       "  \"/>\n",
       "<polyline clip-path=\"url(#clip580)\" style=\"stroke:#000000; stroke-linecap:butt; stroke-linejoin:round; stroke-width:4; stroke-opacity:1; fill:none\" points=\"\n",
       "  2648.32,1506.2 2648.32,1487.3 \n",
       "  \"/>\n",
       "<path clip-path=\"url(#clip580)\" d=\"M228.854 1560.99 Q225.243 1560.99 223.414 1564.55 Q221.609 1568.09 221.609 1575.22 Q221.609 1582.33 223.414 1585.89 Q225.243 1589.44 228.854 1589.44 Q232.489 1589.44 234.294 1585.89 Q236.123 1582.33 236.123 1575.22 Q236.123 1568.09 234.294 1564.55 Q232.489 1560.99 228.854 1560.99 M228.854 1557.28 Q234.664 1557.28 237.72 1561.89 Q240.799 1566.47 240.799 1575.22 Q240.799 1583.95 237.72 1588.56 Q234.664 1593.14 228.854 1593.14 Q223.044 1593.14 219.965 1588.56 Q216.91 1583.95 216.91 1575.22 Q216.91 1566.47 219.965 1561.89 Q223.044 1557.28 228.854 1557.28 Z\" fill=\"#000000\" fill-rule=\"evenodd\" fill-opacity=\"1\" /><path clip-path=\"url(#clip580)\" d=\"M812.991 1588.53 L829.31 1588.53 L829.31 1592.47 L807.366 1592.47 L807.366 1588.53 Q810.028 1585.78 814.611 1581.15 Q819.218 1576.5 820.398 1575.15 Q822.644 1572.63 823.523 1570.89 Q824.426 1569.14 824.426 1567.45 Q824.426 1564.69 822.482 1562.95 Q820.56 1561.22 817.458 1561.22 Q815.259 1561.22 812.806 1561.98 Q810.375 1562.75 807.597 1564.3 L807.597 1559.58 Q810.421 1558.44 812.875 1557.86 Q815.329 1557.28 817.366 1557.28 Q822.736 1557.28 825.931 1559.97 Q829.125 1562.65 829.125 1567.14 Q829.125 1569.27 828.315 1571.2 Q827.528 1573.09 825.421 1575.69 Q824.843 1576.36 821.741 1579.57 Q818.639 1582.77 812.991 1588.53 Z\" fill=\"#000000\" fill-rule=\"evenodd\" fill-opacity=\"1\" /><path clip-path=\"url(#clip580)\" d=\"M839.171 1557.91 L857.528 1557.91 L857.528 1561.84 L843.454 1561.84 L843.454 1570.32 Q844.472 1569.97 845.491 1569.81 Q846.509 1569.62 847.528 1569.62 Q853.315 1569.62 856.694 1572.79 Q860.074 1575.96 860.074 1581.38 Q860.074 1586.96 856.602 1590.06 Q853.13 1593.14 846.81 1593.14 Q844.634 1593.14 842.366 1592.77 Q840.12 1592.4 837.713 1591.66 L837.713 1586.96 Q839.796 1588.09 842.019 1588.65 Q844.241 1589.2 846.718 1589.2 Q850.722 1589.2 853.06 1587.1 Q855.398 1584.99 855.398 1581.38 Q855.398 1577.77 853.06 1575.66 Q850.722 1573.56 846.718 1573.56 Q844.843 1573.56 842.968 1573.97 Q841.116 1574.39 839.171 1575.27 L839.171 1557.91 Z\" fill=\"#000000\" fill-rule=\"evenodd\" fill-opacity=\"1\" /><path clip-path=\"url(#clip580)\" d=\"M1413.28 1557.91 L1431.64 1557.91 L1431.64 1561.84 L1417.57 1561.84 L1417.57 1570.32 Q1418.59 1569.97 1419.6 1569.81 Q1420.62 1569.62 1421.64 1569.62 Q1427.43 1569.62 1430.81 1572.79 Q1434.19 1575.96 1434.19 1581.38 Q1434.19 1586.96 1430.72 1590.06 Q1427.24 1593.14 1420.92 1593.14 Q1418.75 1593.14 1416.48 1592.77 Q1414.23 1592.4 1411.83 1591.66 L1411.83 1586.96 Q1413.91 1588.09 1416.13 1588.65 Q1418.35 1589.2 1420.83 1589.2 Q1424.84 1589.2 1427.17 1587.1 Q1429.51 1584.99 1429.51 1581.38 Q1429.51 1577.77 1427.17 1575.66 Q1424.84 1573.56 1420.83 1573.56 Q1418.96 1573.56 1417.08 1573.97 Q1415.23 1574.39 1413.28 1575.27 L1413.28 1557.91 Z\" fill=\"#000000\" fill-rule=\"evenodd\" fill-opacity=\"1\" /><path clip-path=\"url(#clip580)\" d=\"M1453.4 1560.99 Q1449.79 1560.99 1447.96 1564.55 Q1446.16 1568.09 1446.16 1575.22 Q1446.16 1582.33 1447.96 1585.89 Q1449.79 1589.44 1453.4 1589.44 Q1457.03 1589.44 1458.84 1585.89 Q1460.67 1582.33 1460.67 1575.22 Q1460.67 1568.09 1458.84 1564.55 Q1457.03 1560.99 1453.4 1560.99 M1453.4 1557.28 Q1459.21 1557.28 1462.27 1561.89 Q1465.34 1566.47 1465.34 1575.22 Q1465.34 1583.95 1462.27 1588.56 Q1459.21 1593.14 1453.4 1593.14 Q1447.59 1593.14 1444.51 1588.56 Q1441.46 1583.95 1441.46 1575.22 Q1441.46 1566.47 1444.51 1561.89 Q1447.59 1557.28 1453.4 1557.28 Z\" fill=\"#000000\" fill-rule=\"evenodd\" fill-opacity=\"1\" /><path clip-path=\"url(#clip580)\" d=\"M2017.31 1557.91 L2039.53 1557.91 L2039.53 1559.9 L2026.98 1592.47 L2022.1 1592.47 L2033.9 1561.84 L2017.31 1561.84 L2017.31 1557.91 Z\" fill=\"#000000\" fill-rule=\"evenodd\" fill-opacity=\"1\" /><path clip-path=\"url(#clip580)\" d=\"M2048.69 1557.91 L2067.05 1557.91 L2067.05 1561.84 L2052.98 1561.84 L2052.98 1570.32 Q2054 1569.97 2055.01 1569.81 Q2056.03 1569.62 2057.05 1569.62 Q2062.84 1569.62 2066.22 1572.79 Q2069.6 1575.96 2069.6 1581.38 Q2069.6 1586.96 2066.12 1590.06 Q2062.65 1593.14 2056.33 1593.14 Q2054.16 1593.14 2051.89 1592.77 Q2049.64 1592.4 2047.24 1591.66 L2047.24 1586.96 Q2049.32 1588.09 2051.54 1588.65 Q2053.76 1589.2 2056.24 1589.2 Q2060.25 1589.2 2062.58 1587.1 Q2064.92 1584.99 2064.92 1581.38 Q2064.92 1577.77 2062.58 1575.66 Q2060.25 1573.56 2056.24 1573.56 Q2054.37 1573.56 2052.49 1573.97 Q2050.64 1574.39 2048.69 1575.27 L2048.69 1557.91 Z\" fill=\"#000000\" fill-rule=\"evenodd\" fill-opacity=\"1\" /><path clip-path=\"url(#clip580)\" d=\"M2607.92 1588.53 L2615.56 1588.53 L2615.56 1562.17 L2607.25 1563.83 L2607.25 1559.58 L2615.52 1557.91 L2620.19 1557.91 L2620.19 1588.53 L2627.83 1588.53 L2627.83 1592.47 L2607.92 1592.47 L2607.92 1588.53 Z\" fill=\"#000000\" fill-rule=\"evenodd\" fill-opacity=\"1\" /><path clip-path=\"url(#clip580)\" d=\"M2647.28 1560.99 Q2643.66 1560.99 2641.84 1564.55 Q2640.03 1568.09 2640.03 1575.22 Q2640.03 1582.33 2641.84 1585.89 Q2643.66 1589.44 2647.28 1589.44 Q2650.91 1589.44 2652.72 1585.89 Q2654.54 1582.33 2654.54 1575.22 Q2654.54 1568.09 2652.72 1564.55 Q2650.91 1560.99 2647.28 1560.99 M2647.28 1557.28 Q2653.09 1557.28 2656.14 1561.89 Q2659.22 1566.47 2659.22 1575.22 Q2659.22 1583.95 2656.14 1588.56 Q2653.09 1593.14 2647.28 1593.14 Q2641.47 1593.14 2638.39 1588.56 Q2635.33 1583.95 2635.33 1575.22 Q2635.33 1566.47 2638.39 1561.89 Q2641.47 1557.28 2647.28 1557.28 Z\" fill=\"#000000\" fill-rule=\"evenodd\" fill-opacity=\"1\" /><path clip-path=\"url(#clip580)\" d=\"M2677.44 1560.99 Q2673.83 1560.99 2672 1564.55 Q2670.19 1568.09 2670.19 1575.22 Q2670.19 1582.33 2672 1585.89 Q2673.83 1589.44 2677.44 1589.44 Q2681.07 1589.44 2682.88 1585.89 Q2684.71 1582.33 2684.71 1575.22 Q2684.71 1568.09 2682.88 1564.55 Q2681.07 1560.99 2677.44 1560.99 M2677.44 1557.28 Q2683.25 1557.28 2686.3 1561.89 Q2689.38 1566.47 2689.38 1575.22 Q2689.38 1583.95 2686.3 1588.56 Q2683.25 1593.14 2677.44 1593.14 Q2671.63 1593.14 2668.55 1588.56 Q2665.49 1583.95 2665.49 1575.22 Q2665.49 1566.47 2668.55 1561.89 Q2671.63 1557.28 2677.44 1557.28 Z\" fill=\"#000000\" fill-rule=\"evenodd\" fill-opacity=\"1\" /><polyline clip-path=\"url(#clip582)\" style=\"stroke:#000000; stroke-linecap:butt; stroke-linejoin:round; stroke-width:2; stroke-opacity:0.1; fill:none\" points=\"\n",
       "  181.191,1257.75 2720.18,1257.75 \n",
       "  \"/>\n",
       "<polyline clip-path=\"url(#clip582)\" style=\"stroke:#000000; stroke-linecap:butt; stroke-linejoin:round; stroke-width:2; stroke-opacity:0.1; fill:none\" points=\"\n",
       "  181.191,954.849 2720.18,954.849 \n",
       "  \"/>\n",
       "<polyline clip-path=\"url(#clip582)\" style=\"stroke:#000000; stroke-linecap:butt; stroke-linejoin:round; stroke-width:2; stroke-opacity:0.1; fill:none\" points=\"\n",
       "  181.191,651.95 2720.18,651.95 \n",
       "  \"/>\n",
       "<polyline clip-path=\"url(#clip582)\" style=\"stroke:#000000; stroke-linecap:butt; stroke-linejoin:round; stroke-width:2; stroke-opacity:0.1; fill:none\" points=\"\n",
       "  181.191,349.051 2720.18,349.051 \n",
       "  \"/>\n",
       "<polyline clip-path=\"url(#clip580)\" style=\"stroke:#000000; stroke-linecap:butt; stroke-linejoin:round; stroke-width:4; stroke-opacity:1; fill:none\" points=\"\n",
       "  181.191,1506.2 181.191,47.2441 \n",
       "  \"/>\n",
       "<polyline clip-path=\"url(#clip580)\" style=\"stroke:#000000; stroke-linecap:butt; stroke-linejoin:round; stroke-width:4; stroke-opacity:1; fill:none\" points=\"\n",
       "  181.191,1257.75 200.089,1257.75 \n",
       "  \"/>\n",
       "<polyline clip-path=\"url(#clip580)\" style=\"stroke:#000000; stroke-linecap:butt; stroke-linejoin:round; stroke-width:4; stroke-opacity:1; fill:none\" points=\"\n",
       "  181.191,954.849 200.089,954.849 \n",
       "  \"/>\n",
       "<polyline clip-path=\"url(#clip580)\" style=\"stroke:#000000; stroke-linecap:butt; stroke-linejoin:round; stroke-width:4; stroke-opacity:1; fill:none\" points=\"\n",
       "  181.191,651.95 200.089,651.95 \n",
       "  \"/>\n",
       "<polyline clip-path=\"url(#clip580)\" style=\"stroke:#000000; stroke-linecap:butt; stroke-linejoin:round; stroke-width:4; stroke-opacity:1; fill:none\" points=\"\n",
       "  181.191,349.051 200.089,349.051 \n",
       "  \"/>\n",
       "<path clip-path=\"url(#clip580)\" d=\"M34.9921 1258.2 L64.6679 1258.2 L64.6679 1262.13 L34.9921 1262.13 L34.9921 1258.2 Z\" fill=\"#000000\" fill-rule=\"evenodd\" fill-opacity=\"1\" /><path clip-path=\"url(#clip580)\" d=\"M87.6076 1244.54 L75.8021 1262.99 L87.6076 1262.99 L87.6076 1244.54 M86.3807 1240.47 L92.2603 1240.47 L92.2603 1262.99 L97.1909 1262.99 L97.1909 1266.88 L92.2603 1266.88 L92.2603 1275.03 L87.6076 1275.03 L87.6076 1266.88 L72.0058 1266.88 L72.0058 1262.37 L86.3807 1240.47 Z\" fill=\"#000000\" fill-rule=\"evenodd\" fill-opacity=\"1\" /><path clip-path=\"url(#clip580)\" d=\"M37.0754 955.3 L66.7512 955.3 L66.7512 959.235 L37.0754 959.235 L37.0754 955.3 Z\" fill=\"#000000\" fill-rule=\"evenodd\" fill-opacity=\"1\" /><path clip-path=\"url(#clip580)\" d=\"M80.8715 968.194 L97.1909 968.194 L97.1909 972.129 L75.2465 972.129 L75.2465 968.194 Q77.9086 965.439 82.4919 960.809 Q87.0983 956.157 88.2789 954.814 Q90.5242 952.291 91.4039 950.555 Q92.3066 948.796 92.3066 947.106 Q92.3066 944.351 90.3622 942.615 Q88.4409 940.879 85.3391 940.879 Q83.14 940.879 80.6863 941.643 Q78.2558 942.407 75.478 943.958 L75.478 939.235 Q78.3021 938.101 80.7558 937.523 Q83.2095 936.944 85.2465 936.944 Q90.6168 936.944 93.8113 939.629 Q97.0057 942.314 97.0057 946.805 Q97.0057 948.934 96.1955 950.856 Q95.4085 952.754 93.302 955.346 Q92.7233 956.018 89.6215 959.235 Q86.5196 962.43 80.8715 968.194 Z\" fill=\"#000000\" fill-rule=\"evenodd\" fill-opacity=\"1\" /><path clip-path=\"url(#clip580)\" d=\"M85.2465 637.749 Q81.6354 637.749 79.8067 641.313 Q78.0012 644.855 78.0012 651.985 Q78.0012 659.091 79.8067 662.656 Q81.6354 666.197 85.2465 666.197 Q88.8807 666.197 90.6863 662.656 Q92.515 659.091 92.515 651.985 Q92.515 644.855 90.6863 641.313 Q88.8807 637.749 85.2465 637.749 M85.2465 634.045 Q91.0566 634.045 94.1122 638.651 Q97.1909 643.235 97.1909 651.985 Q97.1909 660.711 94.1122 665.318 Q91.0566 669.901 85.2465 669.901 Q79.4363 669.901 76.3576 665.318 Q73.3021 660.711 73.3021 651.985 Q73.3021 643.235 76.3576 638.651 Q79.4363 634.045 85.2465 634.045 Z\" fill=\"#000000\" fill-rule=\"evenodd\" fill-opacity=\"1\" /><path clip-path=\"url(#clip580)\" d=\"M80.8715 362.396 L97.1909 362.396 L97.1909 366.331 L75.2465 366.331 L75.2465 362.396 Q77.9086 359.641 82.4919 355.012 Q87.0983 350.359 88.2789 349.016 Q90.5242 346.493 91.4039 344.757 Q92.3066 342.998 92.3066 341.308 Q92.3066 338.553 90.3622 336.817 Q88.4409 335.081 85.3391 335.081 Q83.14 335.081 80.6863 335.845 Q78.2558 336.609 75.478 338.16 L75.478 333.438 Q78.3021 332.303 80.7558 331.725 Q83.2095 331.146 85.2465 331.146 Q90.6168 331.146 93.8113 333.831 Q97.0057 336.516 97.0057 341.007 Q97.0057 343.137 96.1955 345.058 Q95.4085 346.956 93.302 349.549 Q92.7233 350.22 89.6215 353.437 Q86.5196 356.632 80.8715 362.396 Z\" fill=\"#000000\" fill-rule=\"evenodd\" fill-opacity=\"1\" /><polyline clip-path=\"url(#clip582)\" style=\"stroke:#009af9; stroke-linecap:butt; stroke-linejoin:round; stroke-width:4; stroke-opacity:1; fill:none\" points=\"\n",
       "  253.049,675.331 277.244,1056.21 301.438,681.026 325.633,477.936 349.827,543.455 374.022,534.521 398.217,379.335 422.411,480.042 446.606,724.263 470.801,590.762 \n",
       "  494.995,861.089 519.19,687.615 543.384,785.728 567.579,869.424 591.774,666.337 615.968,678.708 640.163,770.183 664.358,1360.66 688.552,878.573 712.747,928.873 \n",
       "  736.941,820.266 761.136,656.098 785.331,645.313 809.525,563.502 833.72,596.245 857.915,545.653 882.109,504.045 906.304,794.139 930.498,760.672 954.693,538.453 \n",
       "  978.888,488.226 1003.08,606.598 1027.28,543.522 1051.47,330.1 1075.67,568.603 1099.86,518.243 1124.06,583.238 1148.25,757.54 1172.44,563.552 1196.64,361.861 \n",
       "  1220.83,451.648 1245.03,612.481 1269.22,850.348 1293.42,697.923 1317.61,475.736 1341.81,639.179 1366,712.148 1390.2,768.878 1414.39,566.433 1438.59,570.4 \n",
       "  1462.78,649.622 1486.97,556.514 1511.17,732.925 1535.36,943.935 1559.56,841.569 1583.75,716.597 1607.95,625.158 1632.14,625.344 1656.34,776.96 1680.53,1011.98 \n",
       "  1704.73,835.552 1728.92,802.775 1753.12,938.049 1777.31,788.777 1801.51,753.516 1825.7,506.747 1849.89,611.514 1874.09,640.152 1898.28,627.658 1922.48,791.966 \n",
       "  1946.67,890.441 1970.87,543.776 1995.06,598.407 2019.26,687.479 2043.45,890.483 2067.65,395.868 2091.84,503.682 2116.04,551.752 2140.23,573.415 2164.42,868.472 \n",
       "  2188.62,896.091 2212.81,890.58 2237.01,1047.05 2261.2,795.66 2285.4,217.099 2309.59,556.79 2333.79,721.383 2357.98,619.161 2382.18,595.733 2406.37,632.358 \n",
       "  2430.57,742.067 2454.76,848.27 2478.95,933.968 2503.15,663.848 2527.34,655.457 2551.54,695.974 2575.73,722.914 2599.93,695.879 2624.12,551.233 2648.32,385.536 \n",
       "  \n",
       "  \"/>\n",
       "<circle clip-path=\"url(#clip582)\" cx=\"253.049\" cy=\"716.984\" r=\"14\" fill=\"#e26f46\" fill-rule=\"evenodd\" fill-opacity=\"1\" stroke=\"#000000\" stroke-opacity=\"1\" stroke-width=\"3.2\"/>\n",
       "<circle clip-path=\"url(#clip582)\" cx=\"277.244\" cy=\"1113.71\" r=\"14\" fill=\"#e26f46\" fill-rule=\"evenodd\" fill-opacity=\"1\" stroke=\"#000000\" stroke-opacity=\"1\" stroke-width=\"3.2\"/>\n",
       "<circle clip-path=\"url(#clip582)\" cx=\"301.438\" cy=\"790.478\" r=\"14\" fill=\"#e26f46\" fill-rule=\"evenodd\" fill-opacity=\"1\" stroke=\"#000000\" stroke-opacity=\"1\" stroke-width=\"3.2\"/>\n",
       "<circle clip-path=\"url(#clip582)\" cx=\"325.633\" cy=\"456.784\" r=\"14\" fill=\"#e26f46\" fill-rule=\"evenodd\" fill-opacity=\"1\" stroke=\"#000000\" stroke-opacity=\"1\" stroke-width=\"3.2\"/>\n",
       "<circle clip-path=\"url(#clip582)\" cx=\"349.827\" cy=\"756.898\" r=\"14\" fill=\"#e26f46\" fill-rule=\"evenodd\" fill-opacity=\"1\" stroke=\"#000000\" stroke-opacity=\"1\" stroke-width=\"3.2\"/>\n",
       "<circle clip-path=\"url(#clip582)\" cx=\"374.022\" cy=\"374.673\" r=\"14\" fill=\"#e26f46\" fill-rule=\"evenodd\" fill-opacity=\"1\" stroke=\"#000000\" stroke-opacity=\"1\" stroke-width=\"3.2\"/>\n",
       "<circle clip-path=\"url(#clip582)\" cx=\"398.217\" cy=\"718.252\" r=\"14\" fill=\"#e26f46\" fill-rule=\"evenodd\" fill-opacity=\"1\" stroke=\"#000000\" stroke-opacity=\"1\" stroke-width=\"3.2\"/>\n",
       "<circle clip-path=\"url(#clip582)\" cx=\"422.411\" cy=\"304.489\" r=\"14\" fill=\"#e26f46\" fill-rule=\"evenodd\" fill-opacity=\"1\" stroke=\"#000000\" stroke-opacity=\"1\" stroke-width=\"3.2\"/>\n",
       "<circle clip-path=\"url(#clip582)\" cx=\"446.606\" cy=\"828.78\" r=\"14\" fill=\"#e26f46\" fill-rule=\"evenodd\" fill-opacity=\"1\" stroke=\"#000000\" stroke-opacity=\"1\" stroke-width=\"3.2\"/>\n",
       "<circle clip-path=\"url(#clip582)\" cx=\"470.801\" cy=\"800.085\" r=\"14\" fill=\"#e26f46\" fill-rule=\"evenodd\" fill-opacity=\"1\" stroke=\"#000000\" stroke-opacity=\"1\" stroke-width=\"3.2\"/>\n",
       "<circle clip-path=\"url(#clip582)\" cx=\"494.995\" cy=\"771.15\" r=\"14\" fill=\"#e26f46\" fill-rule=\"evenodd\" fill-opacity=\"1\" stroke=\"#000000\" stroke-opacity=\"1\" stroke-width=\"3.2\"/>\n",
       "<circle clip-path=\"url(#clip582)\" cx=\"519.19\" cy=\"587.507\" r=\"14\" fill=\"#e26f46\" fill-rule=\"evenodd\" fill-opacity=\"1\" stroke=\"#000000\" stroke-opacity=\"1\" stroke-width=\"3.2\"/>\n",
       "<circle clip-path=\"url(#clip582)\" cx=\"543.384\" cy=\"367.892\" r=\"14\" fill=\"#e26f46\" fill-rule=\"evenodd\" fill-opacity=\"1\" stroke=\"#000000\" stroke-opacity=\"1\" stroke-width=\"3.2\"/>\n",
       "<circle clip-path=\"url(#clip582)\" cx=\"567.579\" cy=\"798.601\" r=\"14\" fill=\"#e26f46\" fill-rule=\"evenodd\" fill-opacity=\"1\" stroke=\"#000000\" stroke-opacity=\"1\" stroke-width=\"3.2\"/>\n",
       "<circle clip-path=\"url(#clip582)\" cx=\"591.774\" cy=\"678.545\" r=\"14\" fill=\"#e26f46\" fill-rule=\"evenodd\" fill-opacity=\"1\" stroke=\"#000000\" stroke-opacity=\"1\" stroke-width=\"3.2\"/>\n",
       "<circle clip-path=\"url(#clip582)\" cx=\"615.968\" cy=\"666.657\" r=\"14\" fill=\"#e26f46\" fill-rule=\"evenodd\" fill-opacity=\"1\" stroke=\"#000000\" stroke-opacity=\"1\" stroke-width=\"3.2\"/>\n",
       "<circle clip-path=\"url(#clip582)\" cx=\"640.163\" cy=\"825.085\" r=\"14\" fill=\"#e26f46\" fill-rule=\"evenodd\" fill-opacity=\"1\" stroke=\"#000000\" stroke-opacity=\"1\" stroke-width=\"3.2\"/>\n",
       "<circle clip-path=\"url(#clip582)\" cx=\"664.358\" cy=\"1464.91\" r=\"14\" fill=\"#e26f46\" fill-rule=\"evenodd\" fill-opacity=\"1\" stroke=\"#000000\" stroke-opacity=\"1\" stroke-width=\"3.2\"/>\n",
       "<circle clip-path=\"url(#clip582)\" cx=\"688.552\" cy=\"983.947\" r=\"14\" fill=\"#e26f46\" fill-rule=\"evenodd\" fill-opacity=\"1\" stroke=\"#000000\" stroke-opacity=\"1\" stroke-width=\"3.2\"/>\n",
       "<circle clip-path=\"url(#clip582)\" cx=\"712.747\" cy=\"993.98\" r=\"14\" fill=\"#e26f46\" fill-rule=\"evenodd\" fill-opacity=\"1\" stroke=\"#000000\" stroke-opacity=\"1\" stroke-width=\"3.2\"/>\n",
       "<circle clip-path=\"url(#clip582)\" cx=\"736.941\" cy=\"913.714\" r=\"14\" fill=\"#e26f46\" fill-rule=\"evenodd\" fill-opacity=\"1\" stroke=\"#000000\" stroke-opacity=\"1\" stroke-width=\"3.2\"/>\n",
       "<circle clip-path=\"url(#clip582)\" cx=\"761.136\" cy=\"775.37\" r=\"14\" fill=\"#e26f46\" fill-rule=\"evenodd\" fill-opacity=\"1\" stroke=\"#000000\" stroke-opacity=\"1\" stroke-width=\"3.2\"/>\n",
       "<circle clip-path=\"url(#clip582)\" cx=\"785.331\" cy=\"496.988\" r=\"14\" fill=\"#e26f46\" fill-rule=\"evenodd\" fill-opacity=\"1\" stroke=\"#000000\" stroke-opacity=\"1\" stroke-width=\"3.2\"/>\n",
       "<circle clip-path=\"url(#clip582)\" cx=\"809.525\" cy=\"588.777\" r=\"14\" fill=\"#e26f46\" fill-rule=\"evenodd\" fill-opacity=\"1\" stroke=\"#000000\" stroke-opacity=\"1\" stroke-width=\"3.2\"/>\n",
       "<circle clip-path=\"url(#clip582)\" cx=\"833.72\" cy=\"663.04\" r=\"14\" fill=\"#e26f46\" fill-rule=\"evenodd\" fill-opacity=\"1\" stroke=\"#000000\" stroke-opacity=\"1\" stroke-width=\"3.2\"/>\n",
       "<circle clip-path=\"url(#clip582)\" cx=\"857.915\" cy=\"547.268\" r=\"14\" fill=\"#e26f46\" fill-rule=\"evenodd\" fill-opacity=\"1\" stroke=\"#000000\" stroke-opacity=\"1\" stroke-width=\"3.2\"/>\n",
       "<circle clip-path=\"url(#clip582)\" cx=\"882.109\" cy=\"442.323\" r=\"14\" fill=\"#e26f46\" fill-rule=\"evenodd\" fill-opacity=\"1\" stroke=\"#000000\" stroke-opacity=\"1\" stroke-width=\"3.2\"/>\n",
       "<circle clip-path=\"url(#clip582)\" cx=\"906.304\" cy=\"852.066\" r=\"14\" fill=\"#e26f46\" fill-rule=\"evenodd\" fill-opacity=\"1\" stroke=\"#000000\" stroke-opacity=\"1\" stroke-width=\"3.2\"/>\n",
       "<circle clip-path=\"url(#clip582)\" cx=\"930.498\" cy=\"825.891\" r=\"14\" fill=\"#e26f46\" fill-rule=\"evenodd\" fill-opacity=\"1\" stroke=\"#000000\" stroke-opacity=\"1\" stroke-width=\"3.2\"/>\n",
       "<circle clip-path=\"url(#clip582)\" cx=\"954.693\" cy=\"546.468\" r=\"14\" fill=\"#e26f46\" fill-rule=\"evenodd\" fill-opacity=\"1\" stroke=\"#000000\" stroke-opacity=\"1\" stroke-width=\"3.2\"/>\n",
       "<circle clip-path=\"url(#clip582)\" cx=\"978.888\" cy=\"372.654\" r=\"14\" fill=\"#e26f46\" fill-rule=\"evenodd\" fill-opacity=\"1\" stroke=\"#000000\" stroke-opacity=\"1\" stroke-width=\"3.2\"/>\n",
       "<circle clip-path=\"url(#clip582)\" cx=\"1003.08\" cy=\"865.247\" r=\"14\" fill=\"#e26f46\" fill-rule=\"evenodd\" fill-opacity=\"1\" stroke=\"#000000\" stroke-opacity=\"1\" stroke-width=\"3.2\"/>\n",
       "<circle clip-path=\"url(#clip582)\" cx=\"1027.28\" cy=\"644.244\" r=\"14\" fill=\"#e26f46\" fill-rule=\"evenodd\" fill-opacity=\"1\" stroke=\"#000000\" stroke-opacity=\"1\" stroke-width=\"3.2\"/>\n",
       "<circle clip-path=\"url(#clip582)\" cx=\"1051.47\" cy=\"88.5352\" r=\"14\" fill=\"#e26f46\" fill-rule=\"evenodd\" fill-opacity=\"1\" stroke=\"#000000\" stroke-opacity=\"1\" stroke-width=\"3.2\"/>\n",
       "<circle clip-path=\"url(#clip582)\" cx=\"1075.67\" cy=\"486.447\" r=\"14\" fill=\"#e26f46\" fill-rule=\"evenodd\" fill-opacity=\"1\" stroke=\"#000000\" stroke-opacity=\"1\" stroke-width=\"3.2\"/>\n",
       "<circle clip-path=\"url(#clip582)\" cx=\"1099.86\" cy=\"477.308\" r=\"14\" fill=\"#e26f46\" fill-rule=\"evenodd\" fill-opacity=\"1\" stroke=\"#000000\" stroke-opacity=\"1\" stroke-width=\"3.2\"/>\n",
       "<circle clip-path=\"url(#clip582)\" cx=\"1124.06\" cy=\"406.99\" r=\"14\" fill=\"#e26f46\" fill-rule=\"evenodd\" fill-opacity=\"1\" stroke=\"#000000\" stroke-opacity=\"1\" stroke-width=\"3.2\"/>\n",
       "<circle clip-path=\"url(#clip582)\" cx=\"1148.25\" cy=\"905.24\" r=\"14\" fill=\"#e26f46\" fill-rule=\"evenodd\" fill-opacity=\"1\" stroke=\"#000000\" stroke-opacity=\"1\" stroke-width=\"3.2\"/>\n",
       "<circle clip-path=\"url(#clip582)\" cx=\"1172.44\" cy=\"474.002\" r=\"14\" fill=\"#e26f46\" fill-rule=\"evenodd\" fill-opacity=\"1\" stroke=\"#000000\" stroke-opacity=\"1\" stroke-width=\"3.2\"/>\n",
       "<circle clip-path=\"url(#clip582)\" cx=\"1196.64\" cy=\"449.878\" r=\"14\" fill=\"#e26f46\" fill-rule=\"evenodd\" fill-opacity=\"1\" stroke=\"#000000\" stroke-opacity=\"1\" stroke-width=\"3.2\"/>\n",
       "<circle clip-path=\"url(#clip582)\" cx=\"1220.83\" cy=\"609.347\" r=\"14\" fill=\"#e26f46\" fill-rule=\"evenodd\" fill-opacity=\"1\" stroke=\"#000000\" stroke-opacity=\"1\" stroke-width=\"3.2\"/>\n",
       "<circle clip-path=\"url(#clip582)\" cx=\"1245.03\" cy=\"641.628\" r=\"14\" fill=\"#e26f46\" fill-rule=\"evenodd\" fill-opacity=\"1\" stroke=\"#000000\" stroke-opacity=\"1\" stroke-width=\"3.2\"/>\n",
       "<circle clip-path=\"url(#clip582)\" cx=\"1269.22\" cy=\"916.2\" r=\"14\" fill=\"#e26f46\" fill-rule=\"evenodd\" fill-opacity=\"1\" stroke=\"#000000\" stroke-opacity=\"1\" stroke-width=\"3.2\"/>\n",
       "<circle clip-path=\"url(#clip582)\" cx=\"1293.42\" cy=\"685.167\" r=\"14\" fill=\"#e26f46\" fill-rule=\"evenodd\" fill-opacity=\"1\" stroke=\"#000000\" stroke-opacity=\"1\" stroke-width=\"3.2\"/>\n",
       "<circle clip-path=\"url(#clip582)\" cx=\"1317.61\" cy=\"317.652\" r=\"14\" fill=\"#e26f46\" fill-rule=\"evenodd\" fill-opacity=\"1\" stroke=\"#000000\" stroke-opacity=\"1\" stroke-width=\"3.2\"/>\n",
       "<circle clip-path=\"url(#clip582)\" cx=\"1341.81\" cy=\"713.8\" r=\"14\" fill=\"#e26f46\" fill-rule=\"evenodd\" fill-opacity=\"1\" stroke=\"#000000\" stroke-opacity=\"1\" stroke-width=\"3.2\"/>\n",
       "<circle clip-path=\"url(#clip582)\" cx=\"1366\" cy=\"523.464\" r=\"14\" fill=\"#e26f46\" fill-rule=\"evenodd\" fill-opacity=\"1\" stroke=\"#000000\" stroke-opacity=\"1\" stroke-width=\"3.2\"/>\n",
       "<circle clip-path=\"url(#clip582)\" cx=\"1390.2\" cy=\"599.174\" r=\"14\" fill=\"#e26f46\" fill-rule=\"evenodd\" fill-opacity=\"1\" stroke=\"#000000\" stroke-opacity=\"1\" stroke-width=\"3.2\"/>\n",
       "<circle clip-path=\"url(#clip582)\" cx=\"1414.39\" cy=\"585.108\" r=\"14\" fill=\"#e26f46\" fill-rule=\"evenodd\" fill-opacity=\"1\" stroke=\"#000000\" stroke-opacity=\"1\" stroke-width=\"3.2\"/>\n",
       "<circle clip-path=\"url(#clip582)\" cx=\"1438.59\" cy=\"731.917\" r=\"14\" fill=\"#e26f46\" fill-rule=\"evenodd\" fill-opacity=\"1\" stroke=\"#000000\" stroke-opacity=\"1\" stroke-width=\"3.2\"/>\n",
       "<circle clip-path=\"url(#clip582)\" cx=\"1462.78\" cy=\"603.475\" r=\"14\" fill=\"#e26f46\" fill-rule=\"evenodd\" fill-opacity=\"1\" stroke=\"#000000\" stroke-opacity=\"1\" stroke-width=\"3.2\"/>\n",
       "<circle clip-path=\"url(#clip582)\" cx=\"1486.97\" cy=\"829.278\" r=\"14\" fill=\"#e26f46\" fill-rule=\"evenodd\" fill-opacity=\"1\" stroke=\"#000000\" stroke-opacity=\"1\" stroke-width=\"3.2\"/>\n",
       "<circle clip-path=\"url(#clip582)\" cx=\"1511.17\" cy=\"753.02\" r=\"14\" fill=\"#e26f46\" fill-rule=\"evenodd\" fill-opacity=\"1\" stroke=\"#000000\" stroke-opacity=\"1\" stroke-width=\"3.2\"/>\n",
       "<circle clip-path=\"url(#clip582)\" cx=\"1535.36\" cy=\"848.477\" r=\"14\" fill=\"#e26f46\" fill-rule=\"evenodd\" fill-opacity=\"1\" stroke=\"#000000\" stroke-opacity=\"1\" stroke-width=\"3.2\"/>\n",
       "<circle clip-path=\"url(#clip582)\" cx=\"1559.56\" cy=\"1196.23\" r=\"14\" fill=\"#e26f46\" fill-rule=\"evenodd\" fill-opacity=\"1\" stroke=\"#000000\" stroke-opacity=\"1\" stroke-width=\"3.2\"/>\n",
       "<circle clip-path=\"url(#clip582)\" cx=\"1583.75\" cy=\"740.788\" r=\"14\" fill=\"#e26f46\" fill-rule=\"evenodd\" fill-opacity=\"1\" stroke=\"#000000\" stroke-opacity=\"1\" stroke-width=\"3.2\"/>\n",
       "<circle clip-path=\"url(#clip582)\" cx=\"1607.95\" cy=\"522.244\" r=\"14\" fill=\"#e26f46\" fill-rule=\"evenodd\" fill-opacity=\"1\" stroke=\"#000000\" stroke-opacity=\"1\" stroke-width=\"3.2\"/>\n",
       "<circle clip-path=\"url(#clip582)\" cx=\"1632.14\" cy=\"738.139\" r=\"14\" fill=\"#e26f46\" fill-rule=\"evenodd\" fill-opacity=\"1\" stroke=\"#000000\" stroke-opacity=\"1\" stroke-width=\"3.2\"/>\n",
       "<circle clip-path=\"url(#clip582)\" cx=\"1656.34\" cy=\"590.571\" r=\"14\" fill=\"#e26f46\" fill-rule=\"evenodd\" fill-opacity=\"1\" stroke=\"#000000\" stroke-opacity=\"1\" stroke-width=\"3.2\"/>\n",
       "<circle clip-path=\"url(#clip582)\" cx=\"1680.53\" cy=\"846.805\" r=\"14\" fill=\"#e26f46\" fill-rule=\"evenodd\" fill-opacity=\"1\" stroke=\"#000000\" stroke-opacity=\"1\" stroke-width=\"3.2\"/>\n",
       "<circle clip-path=\"url(#clip582)\" cx=\"1704.73\" cy=\"548.425\" r=\"14\" fill=\"#e26f46\" fill-rule=\"evenodd\" fill-opacity=\"1\" stroke=\"#000000\" stroke-opacity=\"1\" stroke-width=\"3.2\"/>\n",
       "<circle clip-path=\"url(#clip582)\" cx=\"1728.92\" cy=\"843.344\" r=\"14\" fill=\"#e26f46\" fill-rule=\"evenodd\" fill-opacity=\"1\" stroke=\"#000000\" stroke-opacity=\"1\" stroke-width=\"3.2\"/>\n",
       "<circle clip-path=\"url(#clip582)\" cx=\"1753.12\" cy=\"629.179\" r=\"14\" fill=\"#e26f46\" fill-rule=\"evenodd\" fill-opacity=\"1\" stroke=\"#000000\" stroke-opacity=\"1\" stroke-width=\"3.2\"/>\n",
       "<circle clip-path=\"url(#clip582)\" cx=\"1777.31\" cy=\"780.335\" r=\"14\" fill=\"#e26f46\" fill-rule=\"evenodd\" fill-opacity=\"1\" stroke=\"#000000\" stroke-opacity=\"1\" stroke-width=\"3.2\"/>\n",
       "<circle clip-path=\"url(#clip582)\" cx=\"1801.51\" cy=\"862.462\" r=\"14\" fill=\"#e26f46\" fill-rule=\"evenodd\" fill-opacity=\"1\" stroke=\"#000000\" stroke-opacity=\"1\" stroke-width=\"3.2\"/>\n",
       "<circle clip-path=\"url(#clip582)\" cx=\"1825.7\" cy=\"531.417\" r=\"14\" fill=\"#e26f46\" fill-rule=\"evenodd\" fill-opacity=\"1\" stroke=\"#000000\" stroke-opacity=\"1\" stroke-width=\"3.2\"/>\n",
       "<circle clip-path=\"url(#clip582)\" cx=\"1849.89\" cy=\"655.173\" r=\"14\" fill=\"#e26f46\" fill-rule=\"evenodd\" fill-opacity=\"1\" stroke=\"#000000\" stroke-opacity=\"1\" stroke-width=\"3.2\"/>\n",
       "<circle clip-path=\"url(#clip582)\" cx=\"1874.09\" cy=\"951.146\" r=\"14\" fill=\"#e26f46\" fill-rule=\"evenodd\" fill-opacity=\"1\" stroke=\"#000000\" stroke-opacity=\"1\" stroke-width=\"3.2\"/>\n",
       "<circle clip-path=\"url(#clip582)\" cx=\"1898.28\" cy=\"965.893\" r=\"14\" fill=\"#e26f46\" fill-rule=\"evenodd\" fill-opacity=\"1\" stroke=\"#000000\" stroke-opacity=\"1\" stroke-width=\"3.2\"/>\n",
       "<circle clip-path=\"url(#clip582)\" cx=\"1922.48\" cy=\"966.649\" r=\"14\" fill=\"#e26f46\" fill-rule=\"evenodd\" fill-opacity=\"1\" stroke=\"#000000\" stroke-opacity=\"1\" stroke-width=\"3.2\"/>\n",
       "<circle clip-path=\"url(#clip582)\" cx=\"1946.67\" cy=\"1126.58\" r=\"14\" fill=\"#e26f46\" fill-rule=\"evenodd\" fill-opacity=\"1\" stroke=\"#000000\" stroke-opacity=\"1\" stroke-width=\"3.2\"/>\n",
       "<circle clip-path=\"url(#clip582)\" cx=\"1970.87\" cy=\"748.588\" r=\"14\" fill=\"#e26f46\" fill-rule=\"evenodd\" fill-opacity=\"1\" stroke=\"#000000\" stroke-opacity=\"1\" stroke-width=\"3.2\"/>\n",
       "<circle clip-path=\"url(#clip582)\" cx=\"1995.06\" cy=\"652.201\" r=\"14\" fill=\"#e26f46\" fill-rule=\"evenodd\" fill-opacity=\"1\" stroke=\"#000000\" stroke-opacity=\"1\" stroke-width=\"3.2\"/>\n",
       "<circle clip-path=\"url(#clip582)\" cx=\"2019.26\" cy=\"890.06\" r=\"14\" fill=\"#e26f46\" fill-rule=\"evenodd\" fill-opacity=\"1\" stroke=\"#000000\" stroke-opacity=\"1\" stroke-width=\"3.2\"/>\n",
       "<circle clip-path=\"url(#clip582)\" cx=\"2043.45\" cy=\"807.155\" r=\"14\" fill=\"#e26f46\" fill-rule=\"evenodd\" fill-opacity=\"1\" stroke=\"#000000\" stroke-opacity=\"1\" stroke-width=\"3.2\"/>\n",
       "<circle clip-path=\"url(#clip582)\" cx=\"2067.65\" cy=\"646.22\" r=\"14\" fill=\"#e26f46\" fill-rule=\"evenodd\" fill-opacity=\"1\" stroke=\"#000000\" stroke-opacity=\"1\" stroke-width=\"3.2\"/>\n",
       "<circle clip-path=\"url(#clip582)\" cx=\"2091.84\" cy=\"657.826\" r=\"14\" fill=\"#e26f46\" fill-rule=\"evenodd\" fill-opacity=\"1\" stroke=\"#000000\" stroke-opacity=\"1\" stroke-width=\"3.2\"/>\n",
       "<circle clip-path=\"url(#clip582)\" cx=\"2116.04\" cy=\"346.598\" r=\"14\" fill=\"#e26f46\" fill-rule=\"evenodd\" fill-opacity=\"1\" stroke=\"#000000\" stroke-opacity=\"1\" stroke-width=\"3.2\"/>\n",
       "<circle clip-path=\"url(#clip582)\" cx=\"2140.23\" cy=\"684.021\" r=\"14\" fill=\"#e26f46\" fill-rule=\"evenodd\" fill-opacity=\"1\" stroke=\"#000000\" stroke-opacity=\"1\" stroke-width=\"3.2\"/>\n",
       "<circle clip-path=\"url(#clip582)\" cx=\"2164.42\" cy=\"647.447\" r=\"14\" fill=\"#e26f46\" fill-rule=\"evenodd\" fill-opacity=\"1\" stroke=\"#000000\" stroke-opacity=\"1\" stroke-width=\"3.2\"/>\n",
       "<circle clip-path=\"url(#clip582)\" cx=\"2188.62\" cy=\"718.054\" r=\"14\" fill=\"#e26f46\" fill-rule=\"evenodd\" fill-opacity=\"1\" stroke=\"#000000\" stroke-opacity=\"1\" stroke-width=\"3.2\"/>\n",
       "<circle clip-path=\"url(#clip582)\" cx=\"2212.81\" cy=\"668.011\" r=\"14\" fill=\"#e26f46\" fill-rule=\"evenodd\" fill-opacity=\"1\" stroke=\"#000000\" stroke-opacity=\"1\" stroke-width=\"3.2\"/>\n",
       "<circle clip-path=\"url(#clip582)\" cx=\"2237.01\" cy=\"720.675\" r=\"14\" fill=\"#e26f46\" fill-rule=\"evenodd\" fill-opacity=\"1\" stroke=\"#000000\" stroke-opacity=\"1\" stroke-width=\"3.2\"/>\n",
       "<circle clip-path=\"url(#clip582)\" cx=\"2261.2\" cy=\"825.62\" r=\"14\" fill=\"#e26f46\" fill-rule=\"evenodd\" fill-opacity=\"1\" stroke=\"#000000\" stroke-opacity=\"1\" stroke-width=\"3.2\"/>\n",
       "<circle clip-path=\"url(#clip582)\" cx=\"2285.4\" cy=\"404.661\" r=\"14\" fill=\"#e26f46\" fill-rule=\"evenodd\" fill-opacity=\"1\" stroke=\"#000000\" stroke-opacity=\"1\" stroke-width=\"3.2\"/>\n",
       "<circle clip-path=\"url(#clip582)\" cx=\"2309.59\" cy=\"484.663\" r=\"14\" fill=\"#e26f46\" fill-rule=\"evenodd\" fill-opacity=\"1\" stroke=\"#000000\" stroke-opacity=\"1\" stroke-width=\"3.2\"/>\n",
       "<circle clip-path=\"url(#clip582)\" cx=\"2333.79\" cy=\"635.601\" r=\"14\" fill=\"#e26f46\" fill-rule=\"evenodd\" fill-opacity=\"1\" stroke=\"#000000\" stroke-opacity=\"1\" stroke-width=\"3.2\"/>\n",
       "<circle clip-path=\"url(#clip582)\" cx=\"2357.98\" cy=\"287.303\" r=\"14\" fill=\"#e26f46\" fill-rule=\"evenodd\" fill-opacity=\"1\" stroke=\"#000000\" stroke-opacity=\"1\" stroke-width=\"3.2\"/>\n",
       "<circle clip-path=\"url(#clip582)\" cx=\"2382.18\" cy=\"621.021\" r=\"14\" fill=\"#e26f46\" fill-rule=\"evenodd\" fill-opacity=\"1\" stroke=\"#000000\" stroke-opacity=\"1\" stroke-width=\"3.2\"/>\n",
       "<circle clip-path=\"url(#clip582)\" cx=\"2406.37\" cy=\"911.052\" r=\"14\" fill=\"#e26f46\" fill-rule=\"evenodd\" fill-opacity=\"1\" stroke=\"#000000\" stroke-opacity=\"1\" stroke-width=\"3.2\"/>\n",
       "<circle clip-path=\"url(#clip582)\" cx=\"2430.57\" cy=\"831.966\" r=\"14\" fill=\"#e26f46\" fill-rule=\"evenodd\" fill-opacity=\"1\" stroke=\"#000000\" stroke-opacity=\"1\" stroke-width=\"3.2\"/>\n",
       "<circle clip-path=\"url(#clip582)\" cx=\"2454.76\" cy=\"915.622\" r=\"14\" fill=\"#e26f46\" fill-rule=\"evenodd\" fill-opacity=\"1\" stroke=\"#000000\" stroke-opacity=\"1\" stroke-width=\"3.2\"/>\n",
       "<circle clip-path=\"url(#clip582)\" cx=\"2478.95\" cy=\"649.071\" r=\"14\" fill=\"#e26f46\" fill-rule=\"evenodd\" fill-opacity=\"1\" stroke=\"#000000\" stroke-opacity=\"1\" stroke-width=\"3.2\"/>\n",
       "<circle clip-path=\"url(#clip582)\" cx=\"2503.15\" cy=\"793.641\" r=\"14\" fill=\"#e26f46\" fill-rule=\"evenodd\" fill-opacity=\"1\" stroke=\"#000000\" stroke-opacity=\"1\" stroke-width=\"3.2\"/>\n",
       "<circle clip-path=\"url(#clip582)\" cx=\"2527.34\" cy=\"575.052\" r=\"14\" fill=\"#e26f46\" fill-rule=\"evenodd\" fill-opacity=\"1\" stroke=\"#000000\" stroke-opacity=\"1\" stroke-width=\"3.2\"/>\n",
       "<circle clip-path=\"url(#clip582)\" cx=\"2551.54\" cy=\"552.471\" r=\"14\" fill=\"#e26f46\" fill-rule=\"evenodd\" fill-opacity=\"1\" stroke=\"#000000\" stroke-opacity=\"1\" stroke-width=\"3.2\"/>\n",
       "<circle clip-path=\"url(#clip582)\" cx=\"2575.73\" cy=\"646.197\" r=\"14\" fill=\"#e26f46\" fill-rule=\"evenodd\" fill-opacity=\"1\" stroke=\"#000000\" stroke-opacity=\"1\" stroke-width=\"3.2\"/>\n",
       "<circle clip-path=\"url(#clip582)\" cx=\"2599.93\" cy=\"911.979\" r=\"14\" fill=\"#e26f46\" fill-rule=\"evenodd\" fill-opacity=\"1\" stroke=\"#000000\" stroke-opacity=\"1\" stroke-width=\"3.2\"/>\n",
       "<circle clip-path=\"url(#clip582)\" cx=\"2624.12\" cy=\"509.923\" r=\"14\" fill=\"#e26f46\" fill-rule=\"evenodd\" fill-opacity=\"1\" stroke=\"#000000\" stroke-opacity=\"1\" stroke-width=\"3.2\"/>\n",
       "<circle clip-path=\"url(#clip582)\" cx=\"2648.32\" cy=\"130.602\" r=\"14\" fill=\"#e26f46\" fill-rule=\"evenodd\" fill-opacity=\"1\" stroke=\"#000000\" stroke-opacity=\"1\" stroke-width=\"3.2\"/>\n",
       "<path clip-path=\"url(#clip582)\" d=\"\n",
       "M253.049 844.573 L277.244 986.962 L301.438 851.662 L325.633 697.512 L349.827 761.956 L374.022 631.509 L398.217 728.77 L422.411 617.046 L446.606 818.333 L470.801 839.693 \n",
       "  L494.995 814.214 L519.19 718.798 L543.384 640.041 L567.579 800.008 L591.774 790.304 L615.968 817.436 L640.163 941.591 L664.358 1202.57 L688.552 1049.45 L712.747 1009.6 \n",
       "  L736.941 940.659 L761.136 838.841 L785.331 702.437 L809.525 713.638 L833.72 734.713 L857.915 690.154 L882.109 671.718 L906.304 834.865 L930.498 830.247 L954.693 704.47 \n",
       "  L978.888 637.689 L1003.08 800.715 L1027.28 696.283 L1051.47 471.3 L1075.67 593.324 L1099.86 617.359 L1124.06 630.834 L1148.25 811.246 L1172.44 666.307 L1196.64 644.925 \n",
       "  L1220.83 716.335 L1245.03 764.104 L1269.22 865.622 L1293.42 762.269 L1317.61 613.58 L1341.81 735.485 L1366 684.869 L1390.2 711.657 L1414.39 723.17 L1438.59 784.815 \n",
       "  L1462.78 764.151 L1486.97 857.112 L1511.17 860.161 L1535.36 923.624 L1559.56 1040.35 L1583.75 852.02 L1607.95 734.117 L1632.14 789.768 L1656.34 753.691 L1680.53 837.129 \n",
       "  L1704.73 748.338 L1728.92 842.82 L1753.12 783.629 L1777.31 838.246 L1801.51 859.147 L1825.7 741.253 L1849.89 799.431 L1874.09 942.342 L1898.28 983.989 L1922.48 1000.38 \n",
       "  L1946.67 1036.25 L1970.87 875.167 L1995.06 816.463 L2019.26 890.728 L2043.45 852.356 L2067.65 768.774 L2091.84 733.452 L2116.04 620.071 L2140.23 740.182 L2164.42 755.099 \n",
       "  L2188.62 788.448 L2212.81 779.325 L2237.01 799.301 L2261.2 811.02 L2285.4 639.689 L2309.59 644.071 L2333.79 686.152 L2357.98 584.424 L2382.18 735.434 L2406.37 887.756 \n",
       "  L2430.57 891.31 L2454.76 907.853 L2478.95 802.243 L2503.15 820.773 L2527.34 728.631 L2551.54 711.473 L2575.73 758.547 L2599.93 837.392 L2624.12 654.807 L2648.32 490.803 \n",
       "  L2648.32 276.64 L2624.12 447.183 L2599.93 630.824 L2575.73 552.054 L2551.54 504.987 L2527.34 522.145 L2503.15 614.287 L2478.95 595.757 L2454.76 701.367 L2430.57 684.824 \n",
       "  L2406.37 681.27 L2382.18 528.948 L2357.98 377.938 L2333.79 479.666 L2309.59 437.585 L2285.4 433.204 L2261.2 604.534 L2237.01 592.816 L2212.81 572.839 L2188.62 581.962 \n",
       "  L2164.42 548.613 L2140.23 533.696 L2116.04 413.586 L2091.84 526.966 L2067.65 562.288 L2043.45 645.87 L2019.26 684.242 L1995.06 609.977 L1970.87 668.681 L1946.67 829.765 \n",
       "  L1922.48 793.891 L1898.28 777.503 L1874.09 735.856 L1849.89 592.945 L1825.7 534.768 L1801.51 652.661 L1777.31 631.76 L1753.12 577.143 L1728.92 636.334 L1704.73 541.852 \n",
       "  L1680.53 630.643 L1656.34 547.205 L1632.14 583.283 L1607.95 527.631 L1583.75 645.534 L1559.56 833.863 L1535.36 717.138 L1511.17 653.675 L1486.97 650.626 L1462.78 557.665 \n",
       "  L1438.59 578.33 L1414.39 516.684 L1390.2 505.171 L1366 478.383 L1341.81 528.999 L1317.61 407.095 L1293.42 555.783 L1269.22 659.136 L1245.03 557.618 L1220.83 509.849 \n",
       "  L1196.64 438.439 L1172.44 459.822 L1148.25 604.76 L1124.06 424.348 L1099.86 410.874 L1075.67 386.838 L1051.47 264.814 L1027.28 489.797 L1003.08 594.229 L978.888 431.203 \n",
       "  L954.693 497.984 L930.498 623.761 L906.304 628.38 L882.109 465.232 L857.915 483.668 L833.72 528.227 L809.525 507.152 L785.331 495.951 L761.136 632.355 L736.941 734.173 \n",
       "  L712.747 803.118 L688.552 842.966 L664.358 996.086 L640.163 735.105 L615.968 610.95 L591.774 583.818 L567.579 593.522 L543.384 433.555 L519.19 512.313 L494.995 607.728 \n",
       "  L470.801 633.207 L446.606 611.848 L422.411 410.561 L398.217 522.284 L374.022 425.023 L349.827 555.47 L325.633 491.023 L301.438 645.139 L277.244 780.031 L253.049 633.656 \n",
       "   Z\n",
       "  \" fill=\"#3da44d\" fill-rule=\"evenodd\" fill-opacity=\"0.5\"/>\n",
       "<polyline clip-path=\"url(#clip582)\" style=\"stroke:#3da44d; stroke-linecap:butt; stroke-linejoin:round; stroke-width:4; stroke-opacity:1; fill:none\" points=\"\n",
       "  253.049,739.115 277.244,883.497 301.438,748.4 325.633,594.268 349.827,658.713 374.022,528.266 398.217,625.527 422.411,513.803 446.606,715.09 470.801,736.45 \n",
       "  494.995,710.971 519.19,615.556 543.384,536.798 567.579,696.765 591.774,687.061 615.968,714.193 640.163,838.348 664.358,1099.33 688.552,946.209 712.747,906.361 \n",
       "  736.941,837.416 761.136,735.598 785.331,599.194 809.525,610.395 833.72,631.47 857.915,586.911 882.109,568.475 906.304,731.623 930.498,727.004 954.693,601.227 \n",
       "  978.888,534.446 1003.08,697.472 1027.28,593.04 1051.47,368.057 1075.67,490.081 1099.86,514.116 1124.06,527.591 1148.25,708.003 1172.44,563.064 1196.64,541.682 \n",
       "  1220.83,613.092 1245.03,660.861 1269.22,762.379 1293.42,659.026 1317.61,510.337 1341.81,632.242 1366,581.626 1390.2,608.414 1414.39,619.927 1438.59,681.572 \n",
       "  1462.78,660.908 1486.97,753.869 1511.17,756.918 1535.36,820.381 1559.56,937.106 1583.75,748.777 1607.95,630.874 1632.14,686.525 1656.34,650.448 1680.53,733.886 \n",
       "  1704.73,645.095 1728.92,739.577 1753.12,680.386 1777.31,735.003 1801.51,755.904 1825.7,638.01 1849.89,696.188 1874.09,839.099 1898.28,880.746 1922.48,897.134 \n",
       "  1946.67,933.008 1970.87,771.924 1995.06,713.22 2019.26,787.485 2043.45,749.113 2067.65,665.531 2091.84,630.209 2116.04,516.829 2140.23,636.939 2164.42,651.856 \n",
       "  2188.62,685.205 2212.81,676.082 2237.01,696.059 2261.2,707.777 2285.4,536.446 2309.59,540.828 2333.79,582.909 2357.98,481.181 2382.18,632.191 2406.37,784.513 \n",
       "  2430.57,788.067 2454.76,804.61 2478.95,699 2503.15,717.53 2527.34,625.388 2551.54,608.23 2575.73,655.3 2599.93,734.108 2624.12,550.995 2648.32,383.722 \n",
       "  \n",
       "  \"/>\n",
       "<path clip-path=\"url(#clip580)\" d=\"\n",
       "M2053.3 1457.56 L2635.54 1457.56 L2635.54 1250.2 L2053.3 1250.2  Z\n",
       "  \" fill=\"#ffffff\" fill-rule=\"evenodd\" fill-opacity=\"1\"/>\n",
       "<polyline clip-path=\"url(#clip580)\" style=\"stroke:#000000; stroke-linecap:butt; stroke-linejoin:round; stroke-width:4; stroke-opacity:1; fill:none\" points=\"\n",
       "  2053.3,1457.56 2635.54,1457.56 2635.54,1250.2 2053.3,1250.2 2053.3,1457.56 \n",
       "  \"/>\n",
       "<polyline clip-path=\"url(#clip580)\" style=\"stroke:#009af9; stroke-linecap:butt; stroke-linejoin:round; stroke-width:4; stroke-opacity:1; fill:none\" points=\"\n",
       "  2081.51,1302.04 2250.77,1302.04 \n",
       "  \"/>\n",
       "<path clip-path=\"url(#clip580)\" d=\"M2300.7 1303.68 L2300.7 1319.32 L2296.44 1319.32 L2296.44 1303.82 Q2296.44 1300.13 2295 1298.31 Q2293.57 1296.48 2290.7 1296.48 Q2287.25 1296.48 2285.26 1298.68 Q2283.27 1300.88 2283.27 1304.67 L2283.27 1319.32 L2278.98 1319.32 L2278.98 1283.31 L2283.27 1283.31 L2283.27 1297.43 Q2284.79 1295.09 2286.85 1293.93 Q2288.94 1292.77 2291.65 1292.77 Q2296.11 1292.77 2298.4 1295.55 Q2300.7 1298.31 2300.7 1303.68 Z\" fill=\"#000000\" fill-rule=\"evenodd\" fill-opacity=\"1\" /><path clip-path=\"url(#clip580)\" d=\"M2309.19 1293.4 L2313.45 1293.4 L2313.45 1319.32 L2309.19 1319.32 L2309.19 1293.4 M2309.19 1283.31 L2313.45 1283.31 L2313.45 1288.7 L2309.19 1288.7 L2309.19 1283.31 Z\" fill=\"#000000\" fill-rule=\"evenodd\" fill-opacity=\"1\" /><path clip-path=\"url(#clip580)\" d=\"M2339.42 1297.33 L2339.42 1283.31 L2343.68 1283.31 L2343.68 1319.32 L2339.42 1319.32 L2339.42 1315.44 Q2338.08 1317.75 2336.02 1318.88 Q2333.98 1320 2331.11 1320 Q2326.41 1320 2323.45 1316.25 Q2320.51 1312.5 2320.51 1306.38 Q2320.51 1300.27 2323.45 1296.52 Q2326.41 1292.77 2331.11 1292.77 Q2333.98 1292.77 2336.02 1293.91 Q2338.08 1295.02 2339.42 1297.33 M2324.91 1306.38 Q2324.91 1311.08 2326.83 1313.77 Q2328.77 1316.43 2332.15 1316.43 Q2335.53 1316.43 2337.48 1313.77 Q2339.42 1311.08 2339.42 1306.38 Q2339.42 1301.69 2337.48 1299.02 Q2335.53 1296.34 2332.15 1296.34 Q2328.77 1296.34 2326.83 1299.02 Q2324.91 1301.69 2324.91 1306.38 Z\" fill=\"#000000\" fill-rule=\"evenodd\" fill-opacity=\"1\" /><path clip-path=\"url(#clip580)\" d=\"M2369.52 1297.33 L2369.52 1283.31 L2373.77 1283.31 L2373.77 1319.32 L2369.52 1319.32 L2369.52 1315.44 Q2368.17 1317.75 2366.11 1318.88 Q2364.08 1320 2361.2 1320 Q2356.51 1320 2353.54 1316.25 Q2350.6 1312.5 2350.6 1306.38 Q2350.6 1300.27 2353.54 1296.52 Q2356.51 1292.77 2361.2 1292.77 Q2364.08 1292.77 2366.11 1293.91 Q2368.17 1295.02 2369.52 1297.33 M2355 1306.38 Q2355 1311.08 2356.92 1313.77 Q2358.87 1316.43 2362.25 1316.43 Q2365.63 1316.43 2367.57 1313.77 Q2369.52 1311.08 2369.52 1306.38 Q2369.52 1301.69 2367.57 1299.02 Q2365.63 1296.34 2362.25 1296.34 Q2358.87 1296.34 2356.92 1299.02 Q2355 1301.69 2355 1306.38 Z\" fill=\"#000000\" fill-rule=\"evenodd\" fill-opacity=\"1\" /><path clip-path=\"url(#clip580)\" d=\"M2404.72 1305.3 L2404.72 1307.38 L2385.14 1307.38 Q2385.42 1311.78 2387.78 1314.09 Q2390.16 1316.38 2394.4 1316.38 Q2396.85 1316.38 2399.14 1315.78 Q2401.46 1315.18 2403.73 1313.98 L2403.73 1318.01 Q2401.44 1318.98 2399.03 1319.49 Q2396.62 1320 2394.14 1320 Q2387.94 1320 2384.31 1316.38 Q2380.7 1312.77 2380.7 1306.62 Q2380.7 1300.25 2384.12 1296.52 Q2387.57 1292.77 2393.4 1292.77 Q2398.64 1292.77 2401.67 1296.15 Q2404.72 1299.51 2404.72 1305.3 M2400.46 1304.05 Q2400.42 1300.55 2398.5 1298.47 Q2396.6 1296.39 2393.45 1296.39 Q2389.89 1296.39 2387.73 1298.4 Q2385.6 1300.41 2385.28 1304.07 L2400.46 1304.05 Z\" fill=\"#000000\" fill-rule=\"evenodd\" fill-opacity=\"1\" /><path clip-path=\"url(#clip580)\" d=\"M2433.26 1303.68 L2433.26 1319.32 L2429.01 1319.32 L2429.01 1303.82 Q2429.01 1300.13 2427.57 1298.31 Q2426.14 1296.48 2423.26 1296.48 Q2419.82 1296.48 2417.82 1298.68 Q2415.83 1300.88 2415.83 1304.67 L2415.83 1319.32 L2411.55 1319.32 L2411.55 1293.4 L2415.83 1293.4 L2415.83 1297.43 Q2417.36 1295.09 2419.42 1293.93 Q2421.51 1292.77 2424.21 1292.77 Q2428.68 1292.77 2430.97 1295.55 Q2433.26 1298.31 2433.26 1303.68 Z\" fill=\"#000000\" fill-rule=\"evenodd\" fill-opacity=\"1\" /><path clip-path=\"url(#clip580)\" d=\"M2473.36 1294.16 L2473.36 1298.19 Q2471.55 1297.26 2469.61 1296.8 Q2467.66 1296.34 2465.58 1296.34 Q2462.41 1296.34 2460.81 1297.31 Q2459.24 1298.28 2459.24 1300.23 Q2459.24 1301.71 2460.37 1302.57 Q2461.51 1303.4 2464.93 1304.16 L2466.39 1304.49 Q2470.93 1305.46 2472.82 1307.24 Q2474.75 1309 2474.75 1312.17 Q2474.75 1315.78 2471.88 1317.89 Q2469.03 1320 2464.03 1320 Q2461.95 1320 2459.68 1319.58 Q2457.43 1319.19 2454.93 1318.38 L2454.93 1313.98 Q2457.29 1315.2 2459.58 1315.83 Q2461.88 1316.43 2464.12 1316.43 Q2467.13 1316.43 2468.75 1315.41 Q2470.37 1314.37 2470.37 1312.5 Q2470.37 1310.76 2469.19 1309.83 Q2468.03 1308.91 2464.07 1308.05 L2462.59 1307.7 Q2458.63 1306.87 2456.88 1305.16 Q2455.12 1303.42 2455.12 1300.41 Q2455.12 1296.76 2457.71 1294.76 Q2460.3 1292.77 2465.07 1292.77 Q2467.43 1292.77 2469.51 1293.12 Q2471.6 1293.47 2473.36 1294.16 Z\" fill=\"#000000\" fill-rule=\"evenodd\" fill-opacity=\"1\" /><path clip-path=\"url(#clip580)\" d=\"M2485.74 1286.04 L2485.74 1293.4 L2494.51 1293.4 L2494.51 1296.71 L2485.74 1296.71 L2485.74 1310.78 Q2485.74 1313.95 2486.6 1314.86 Q2487.48 1315.76 2490.14 1315.76 L2494.51 1315.76 L2494.51 1319.32 L2490.14 1319.32 Q2485.21 1319.32 2483.33 1317.5 Q2481.46 1315.64 2481.46 1310.78 L2481.46 1296.71 L2478.33 1296.71 L2478.33 1293.4 L2481.46 1293.4 L2481.46 1286.04 L2485.74 1286.04 Z\" fill=\"#000000\" fill-rule=\"evenodd\" fill-opacity=\"1\" /><path clip-path=\"url(#clip580)\" d=\"M2511.9 1306.29 Q2506.74 1306.29 2504.75 1307.47 Q2502.76 1308.65 2502.76 1311.5 Q2502.76 1313.77 2504.24 1315.11 Q2505.74 1316.43 2508.31 1316.43 Q2511.85 1316.43 2513.98 1313.93 Q2516.13 1311.41 2516.13 1307.24 L2516.13 1306.29 L2511.9 1306.29 M2520.39 1304.53 L2520.39 1319.32 L2516.13 1319.32 L2516.13 1315.39 Q2514.68 1317.75 2512.5 1318.88 Q2510.32 1320 2507.18 1320 Q2503.19 1320 2500.83 1317.77 Q2498.5 1315.53 2498.5 1311.78 Q2498.5 1307.4 2501.41 1305.18 Q2504.35 1302.96 2510.16 1302.96 L2516.13 1302.96 L2516.13 1302.54 Q2516.13 1299.6 2514.19 1298.01 Q2512.27 1296.39 2508.77 1296.39 Q2506.55 1296.39 2504.44 1296.92 Q2502.34 1297.45 2500.39 1298.51 L2500.39 1294.58 Q2502.73 1293.68 2504.93 1293.24 Q2507.13 1292.77 2509.21 1292.77 Q2514.84 1292.77 2517.62 1295.69 Q2520.39 1298.61 2520.39 1304.53 Z\" fill=\"#000000\" fill-rule=\"evenodd\" fill-opacity=\"1\" /><path clip-path=\"url(#clip580)\" d=\"M2533.38 1286.04 L2533.38 1293.4 L2542.15 1293.4 L2542.15 1296.71 L2533.38 1296.71 L2533.38 1310.78 Q2533.38 1313.95 2534.24 1314.86 Q2535.12 1315.76 2537.78 1315.76 L2542.15 1315.76 L2542.15 1319.32 L2537.78 1319.32 Q2532.85 1319.32 2530.97 1317.5 Q2529.1 1315.64 2529.1 1310.78 L2529.1 1296.71 L2525.97 1296.71 L2525.97 1293.4 L2529.1 1293.4 L2529.1 1286.04 L2533.38 1286.04 Z\" fill=\"#000000\" fill-rule=\"evenodd\" fill-opacity=\"1\" /><path clip-path=\"url(#clip580)\" d=\"M2569.93 1305.3 L2569.93 1307.38 L2550.35 1307.38 Q2550.63 1311.78 2552.99 1314.09 Q2555.37 1316.38 2559.61 1316.38 Q2562.06 1316.38 2564.35 1315.78 Q2566.67 1315.18 2568.94 1313.98 L2568.94 1318.01 Q2566.64 1318.98 2564.24 1319.49 Q2561.83 1320 2559.35 1320 Q2553.15 1320 2549.51 1316.38 Q2545.9 1312.77 2545.9 1306.62 Q2545.9 1300.25 2549.33 1296.52 Q2552.78 1292.77 2558.61 1292.77 Q2563.84 1292.77 2566.88 1296.15 Q2569.93 1299.51 2569.93 1305.3 M2565.67 1304.05 Q2565.63 1300.55 2563.7 1298.47 Q2561.81 1296.39 2558.66 1296.39 Q2555.09 1296.39 2552.94 1298.4 Q2550.81 1300.41 2550.49 1304.07 L2565.67 1304.05 Z\" fill=\"#000000\" fill-rule=\"evenodd\" fill-opacity=\"1\" /><circle clip-path=\"url(#clip580)\" cx=\"2166.14\" cy=\"1353.88\" r=\"23\" fill=\"#e26f46\" fill-rule=\"evenodd\" fill-opacity=\"1\" stroke=\"#000000\" stroke-opacity=\"1\" stroke-width=\"5.12\"/>\n",
       "<path clip-path=\"url(#clip580)\" d=\"M2290.88 1348.23 Q2287.46 1348.23 2285.46 1350.91 Q2283.47 1353.57 2283.47 1358.22 Q2283.47 1362.88 2285.44 1365.56 Q2287.43 1368.22 2290.88 1368.22 Q2294.28 1368.22 2296.27 1365.54 Q2298.27 1362.85 2298.27 1358.22 Q2298.27 1353.62 2296.27 1350.93 Q2294.28 1348.23 2290.88 1348.23 M2290.88 1344.61 Q2296.44 1344.61 2299.61 1348.23 Q2302.78 1351.84 2302.78 1358.22 Q2302.78 1364.59 2299.61 1368.22 Q2296.44 1371.84 2290.88 1371.84 Q2285.3 1371.84 2282.13 1368.22 Q2278.98 1364.59 2278.98 1358.22 Q2278.98 1351.84 2282.13 1348.23 Q2285.3 1344.61 2290.88 1344.61 Z\" fill=\"#000000\" fill-rule=\"evenodd\" fill-opacity=\"1\" /><path clip-path=\"url(#clip580)\" d=\"M2328.45 1358.22 Q2328.45 1353.53 2326.51 1350.86 Q2324.58 1348.18 2321.21 1348.18 Q2317.83 1348.18 2315.88 1350.86 Q2313.96 1353.53 2313.96 1358.22 Q2313.96 1362.92 2315.88 1365.61 Q2317.83 1368.27 2321.21 1368.27 Q2324.58 1368.27 2326.51 1365.61 Q2328.45 1362.92 2328.45 1358.22 M2313.96 1349.17 Q2315.3 1346.86 2317.34 1345.75 Q2319.4 1344.61 2322.25 1344.61 Q2326.97 1344.61 2329.91 1348.36 Q2332.87 1352.11 2332.87 1358.22 Q2332.87 1364.34 2329.91 1368.09 Q2326.97 1371.84 2322.25 1371.84 Q2319.4 1371.84 2317.34 1370.72 Q2315.3 1369.59 2313.96 1367.28 L2313.96 1371.16 L2309.68 1371.16 L2309.68 1335.15 L2313.96 1335.15 L2313.96 1349.17 Z\" fill=\"#000000\" fill-rule=\"evenodd\" fill-opacity=\"1\" /><path clip-path=\"url(#clip580)\" d=\"M2356.46 1346 L2356.46 1350.03 Q2354.65 1349.1 2352.71 1348.64 Q2350.77 1348.18 2348.68 1348.18 Q2345.51 1348.18 2343.91 1349.15 Q2342.34 1350.12 2342.34 1352.07 Q2342.34 1353.55 2343.47 1354.41 Q2344.61 1355.24 2348.03 1356 L2349.49 1356.33 Q2354.03 1357.3 2355.93 1359.08 Q2357.85 1360.84 2357.85 1364.01 Q2357.85 1367.62 2354.98 1369.73 Q2352.13 1371.84 2347.13 1371.84 Q2345.05 1371.84 2342.78 1371.42 Q2340.53 1371.03 2338.03 1370.22 L2338.03 1365.82 Q2340.39 1367.04 2342.69 1367.67 Q2344.98 1368.27 2347.22 1368.27 Q2350.23 1368.27 2351.85 1367.25 Q2353.47 1366.21 2353.47 1364.34 Q2353.47 1362.6 2352.29 1361.67 Q2351.14 1360.75 2347.18 1359.89 L2345.7 1359.54 Q2341.74 1358.71 2339.98 1357 Q2338.22 1355.26 2338.22 1352.25 Q2338.22 1348.6 2340.81 1346.6 Q2343.4 1344.61 2348.17 1344.61 Q2350.53 1344.61 2352.62 1344.96 Q2354.7 1345.31 2356.46 1346 Z\" fill=\"#000000\" fill-rule=\"evenodd\" fill-opacity=\"1\" /><path clip-path=\"url(#clip580)\" d=\"M2386.81 1357.14 L2386.81 1359.22 L2367.22 1359.22 Q2367.5 1363.62 2369.86 1365.93 Q2372.25 1368.22 2376.48 1368.22 Q2378.94 1368.22 2381.23 1367.62 Q2383.54 1367.02 2385.81 1365.82 L2385.81 1369.85 Q2383.52 1370.82 2381.11 1371.33 Q2378.7 1371.84 2376.23 1371.84 Q2370.02 1371.84 2366.39 1368.22 Q2362.78 1364.61 2362.78 1358.46 Q2362.78 1352.09 2366.2 1348.36 Q2369.65 1344.61 2375.49 1344.61 Q2380.72 1344.61 2383.75 1347.99 Q2386.81 1351.35 2386.81 1357.14 M2382.55 1355.89 Q2382.5 1352.39 2380.58 1350.31 Q2378.68 1348.23 2375.53 1348.23 Q2371.97 1348.23 2369.82 1350.24 Q2367.69 1352.25 2367.36 1355.91 L2382.55 1355.89 Z\" fill=\"#000000\" fill-rule=\"evenodd\" fill-opacity=\"1\" /><path clip-path=\"url(#clip580)\" d=\"M2408.82 1349.22 Q2408.1 1348.8 2407.25 1348.62 Q2406.41 1348.41 2405.39 1348.41 Q2401.78 1348.41 2399.84 1350.77 Q2397.92 1353.11 2397.92 1357.51 L2397.92 1371.16 L2393.64 1371.16 L2393.64 1345.24 L2397.92 1345.24 L2397.92 1349.27 Q2399.26 1346.91 2401.41 1345.77 Q2403.57 1344.61 2406.64 1344.61 Q2407.08 1344.61 2407.62 1344.68 Q2408.15 1344.73 2408.8 1344.85 L2408.82 1349.22 Z\" fill=\"#000000\" fill-rule=\"evenodd\" fill-opacity=\"1\" /><path clip-path=\"url(#clip580)\" d=\"M2410.23 1345.24 L2414.75 1345.24 L2422.85 1367 L2430.95 1345.24 L2435.46 1345.24 L2425.74 1371.16 L2419.95 1371.16 L2410.23 1345.24 Z\" fill=\"#000000\" fill-rule=\"evenodd\" fill-opacity=\"1\" /><path clip-path=\"url(#clip580)\" d=\"M2453.13 1358.13 Q2447.96 1358.13 2445.97 1359.31 Q2443.98 1360.49 2443.98 1363.34 Q2443.98 1365.61 2445.46 1366.95 Q2446.97 1368.27 2449.54 1368.27 Q2453.08 1368.27 2455.21 1365.77 Q2457.36 1363.25 2457.36 1359.08 L2457.36 1358.13 L2453.13 1358.13 M2461.62 1356.37 L2461.62 1371.16 L2457.36 1371.16 L2457.36 1367.23 Q2455.9 1369.59 2453.73 1370.72 Q2451.55 1371.84 2448.4 1371.84 Q2444.42 1371.84 2442.06 1369.61 Q2439.72 1367.37 2439.72 1363.62 Q2439.72 1359.24 2442.64 1357.02 Q2445.58 1354.8 2451.39 1354.8 L2457.36 1354.8 L2457.36 1354.38 Q2457.36 1351.44 2455.42 1349.85 Q2453.5 1348.23 2450 1348.23 Q2447.78 1348.23 2445.67 1348.76 Q2443.57 1349.29 2441.62 1350.35 L2441.62 1346.42 Q2443.96 1345.52 2446.16 1345.08 Q2448.36 1344.61 2450.44 1344.61 Q2456.07 1344.61 2458.84 1347.53 Q2461.62 1350.45 2461.62 1356.37 Z\" fill=\"#000000\" fill-rule=\"evenodd\" fill-opacity=\"1\" /><path clip-path=\"url(#clip580)\" d=\"M2474.61 1337.88 L2474.61 1345.24 L2483.38 1345.24 L2483.38 1348.55 L2474.61 1348.55 L2474.61 1362.62 Q2474.61 1365.79 2475.46 1366.7 Q2476.34 1367.6 2479.01 1367.6 L2483.38 1367.6 L2483.38 1371.16 L2479.01 1371.16 Q2474.07 1371.16 2472.2 1369.34 Q2470.32 1367.48 2470.32 1362.62 L2470.32 1348.55 L2467.2 1348.55 L2467.2 1345.24 L2470.32 1345.24 L2470.32 1337.88 L2474.61 1337.88 Z\" fill=\"#000000\" fill-rule=\"evenodd\" fill-opacity=\"1\" /><path clip-path=\"url(#clip580)\" d=\"M2488.98 1345.24 L2493.24 1345.24 L2493.24 1371.16 L2488.98 1371.16 L2488.98 1345.24 M2488.98 1335.15 L2493.24 1335.15 L2493.24 1340.54 L2488.98 1340.54 L2488.98 1335.15 Z\" fill=\"#000000\" fill-rule=\"evenodd\" fill-opacity=\"1\" /><path clip-path=\"url(#clip580)\" d=\"M2512.2 1348.23 Q2508.77 1348.23 2506.78 1350.91 Q2504.79 1353.57 2504.79 1358.22 Q2504.79 1362.88 2506.76 1365.56 Q2508.75 1368.22 2512.2 1368.22 Q2515.6 1368.22 2517.59 1365.54 Q2519.58 1362.85 2519.58 1358.22 Q2519.58 1353.62 2517.59 1350.93 Q2515.6 1348.23 2512.2 1348.23 M2512.2 1344.61 Q2517.75 1344.61 2520.93 1348.23 Q2524.1 1351.84 2524.1 1358.22 Q2524.1 1364.59 2520.93 1368.22 Q2517.75 1371.84 2512.2 1371.84 Q2506.62 1371.84 2503.45 1368.22 Q2500.3 1364.59 2500.3 1358.22 Q2500.3 1351.84 2503.45 1348.23 Q2506.62 1344.61 2512.2 1344.61 Z\" fill=\"#000000\" fill-rule=\"evenodd\" fill-opacity=\"1\" /><path clip-path=\"url(#clip580)\" d=\"M2552.71 1355.52 L2552.71 1371.16 L2548.45 1371.16 L2548.45 1355.66 Q2548.45 1351.97 2547.01 1350.15 Q2545.58 1348.32 2542.71 1348.32 Q2539.26 1348.32 2537.27 1350.52 Q2535.28 1352.72 2535.28 1356.51 L2535.28 1371.16 L2531 1371.16 L2531 1345.24 L2535.28 1345.24 L2535.28 1349.27 Q2536.81 1346.93 2538.87 1345.77 Q2540.95 1344.61 2543.66 1344.61 Q2548.13 1344.61 2550.42 1347.39 Q2552.71 1350.15 2552.71 1355.52 Z\" fill=\"#000000\" fill-rule=\"evenodd\" fill-opacity=\"1\" /><path clip-path=\"url(#clip580)\" d=\"M2577.73 1346 L2577.73 1350.03 Q2575.93 1349.1 2573.98 1348.64 Q2572.04 1348.18 2569.95 1348.18 Q2566.78 1348.18 2565.19 1349.15 Q2563.61 1350.12 2563.61 1352.07 Q2563.61 1353.55 2564.75 1354.41 Q2565.88 1355.24 2569.31 1356 L2570.76 1356.33 Q2575.3 1357.3 2577.2 1359.08 Q2579.12 1360.84 2579.12 1364.01 Q2579.12 1367.62 2576.25 1369.73 Q2573.4 1371.84 2568.4 1371.84 Q2566.32 1371.84 2564.05 1371.42 Q2561.81 1371.03 2559.31 1370.22 L2559.31 1365.82 Q2561.67 1367.04 2563.96 1367.67 Q2566.25 1368.27 2568.5 1368.27 Q2571.5 1368.27 2573.13 1367.25 Q2574.75 1366.21 2574.75 1364.34 Q2574.75 1362.6 2573.56 1361.67 Q2572.41 1360.75 2568.45 1359.89 L2566.97 1359.54 Q2563.01 1358.71 2561.25 1357 Q2559.49 1355.26 2559.49 1352.25 Q2559.49 1348.6 2562.08 1346.6 Q2564.68 1344.61 2569.44 1344.61 Q2571.81 1344.61 2573.89 1344.96 Q2575.97 1345.31 2577.73 1346 Z\" fill=\"#000000\" fill-rule=\"evenodd\" fill-opacity=\"1\" /><polyline clip-path=\"url(#clip580)\" style=\"stroke:#3da44d; stroke-linecap:butt; stroke-linejoin:round; stroke-width:4; stroke-opacity:1; fill:none\" points=\"\n",
       "  2081.51,1405.72 2250.77,1405.72 \n",
       "  \"/>\n",
       "<path clip-path=\"url(#clip580)\" d=\"M2278.98 1397.08 L2283.24 1397.08 L2283.24 1423 L2278.98 1423 L2278.98 1397.08 M2278.98 1386.99 L2283.24 1386.99 L2283.24 1392.38 L2278.98 1392.38 L2278.98 1386.99 Z\" fill=\"#000000\" fill-rule=\"evenodd\" fill-opacity=\"1\" /><path clip-path=\"url(#clip580)\" d=\"M2313.71 1407.36 L2313.71 1423 L2309.45 1423 L2309.45 1407.5 Q2309.45 1403.81 2308.01 1401.99 Q2306.58 1400.16 2303.71 1400.16 Q2300.26 1400.16 2298.27 1402.36 Q2296.27 1404.56 2296.27 1408.35 L2296.27 1423 L2291.99 1423 L2291.99 1397.08 L2296.27 1397.08 L2296.27 1401.11 Q2297.8 1398.77 2299.86 1397.61 Q2301.95 1396.45 2304.65 1396.45 Q2309.12 1396.45 2311.41 1399.23 Q2313.71 1401.99 2313.71 1407.36 Z\" fill=\"#000000\" fill-rule=\"evenodd\" fill-opacity=\"1\" /><path clip-path=\"url(#clip580)\" d=\"M2335.33 1386.99 L2335.33 1390.53 L2331.25 1390.53 Q2328.96 1390.53 2328.06 1391.45 Q2327.18 1392.38 2327.18 1394.79 L2327.18 1397.08 L2334.19 1397.08 L2334.19 1400.39 L2327.18 1400.39 L2327.18 1423 L2322.89 1423 L2322.89 1400.39 L2318.82 1400.39 L2318.82 1397.08 L2322.89 1397.08 L2322.89 1395.27 Q2322.89 1390.94 2324.91 1388.98 Q2326.92 1386.99 2331.3 1386.99 L2335.33 1386.99 Z\" fill=\"#000000\" fill-rule=\"evenodd\" fill-opacity=\"1\" /><path clip-path=\"url(#clip580)\" d=\"M2361.07 1408.98 L2361.07 1411.06 L2341.48 1411.06 Q2341.76 1415.46 2344.12 1417.77 Q2346.51 1420.06 2350.74 1420.06 Q2353.2 1420.06 2355.49 1419.46 Q2357.8 1418.86 2360.07 1417.66 L2360.07 1421.69 Q2357.78 1422.66 2355.37 1423.17 Q2352.96 1423.68 2350.49 1423.68 Q2344.28 1423.68 2340.65 1420.06 Q2337.04 1416.45 2337.04 1410.3 Q2337.04 1403.93 2340.46 1400.2 Q2343.91 1396.45 2349.75 1396.45 Q2354.98 1396.45 2358.01 1399.83 Q2361.07 1403.19 2361.07 1408.98 M2356.81 1407.73 Q2356.76 1404.23 2354.84 1402.15 Q2352.94 1400.07 2349.79 1400.07 Q2346.23 1400.07 2344.08 1402.08 Q2341.95 1404.09 2341.62 1407.75 L2356.81 1407.73 Z\" fill=\"#000000\" fill-rule=\"evenodd\" fill-opacity=\"1\" /><path clip-path=\"url(#clip580)\" d=\"M2383.08 1401.06 Q2382.36 1400.64 2381.51 1400.46 Q2380.67 1400.25 2379.65 1400.25 Q2376.04 1400.25 2374.1 1402.61 Q2372.18 1404.95 2372.18 1409.35 L2372.18 1423 L2367.89 1423 L2367.89 1397.08 L2372.18 1397.08 L2372.18 1401.11 Q2373.52 1398.75 2375.67 1397.61 Q2377.83 1396.45 2380.9 1396.45 Q2381.34 1396.45 2381.88 1396.52 Q2382.41 1396.57 2383.06 1396.69 L2383.08 1401.06 Z\" fill=\"#000000\" fill-rule=\"evenodd\" fill-opacity=\"1\" /><path clip-path=\"url(#clip580)\" d=\"M2401.74 1401.06 Q2401.02 1400.64 2400.16 1400.46 Q2399.33 1400.25 2398.31 1400.25 Q2394.7 1400.25 2392.76 1402.61 Q2390.83 1404.95 2390.83 1409.35 L2390.83 1423 L2386.55 1423 L2386.55 1397.08 L2390.83 1397.08 L2390.83 1401.11 Q2392.18 1398.75 2394.33 1397.61 Q2396.48 1396.45 2399.56 1396.45 Q2400 1396.45 2400.53 1396.52 Q2401.07 1396.57 2401.71 1396.69 L2401.74 1401.06 Z\" fill=\"#000000\" fill-rule=\"evenodd\" fill-opacity=\"1\" /><path clip-path=\"url(#clip580)\" d=\"M2427.34 1408.98 L2427.34 1411.06 L2407.76 1411.06 Q2408.03 1415.46 2410.39 1417.77 Q2412.78 1420.06 2417.01 1420.06 Q2419.47 1420.06 2421.76 1419.46 Q2424.07 1418.86 2426.34 1417.66 L2426.34 1421.69 Q2424.05 1422.66 2421.64 1423.17 Q2419.24 1423.68 2416.76 1423.68 Q2410.56 1423.68 2406.92 1420.06 Q2403.31 1416.45 2403.31 1410.3 Q2403.31 1403.93 2406.74 1400.2 Q2410.19 1396.45 2416.02 1396.45 Q2421.25 1396.45 2424.28 1399.83 Q2427.34 1403.19 2427.34 1408.98 M2423.08 1407.73 Q2423.03 1404.23 2421.11 1402.15 Q2419.21 1400.07 2416.07 1400.07 Q2412.5 1400.07 2410.35 1402.08 Q2408.22 1404.09 2407.89 1407.75 L2423.08 1407.73 Z\" fill=\"#000000\" fill-rule=\"evenodd\" fill-opacity=\"1\" /><path clip-path=\"url(#clip580)\" d=\"M2451.39 1401.01 L2451.39 1386.99 L2455.65 1386.99 L2455.65 1423 L2451.39 1423 L2451.39 1419.12 Q2450.05 1421.43 2447.99 1422.56 Q2445.95 1423.68 2443.08 1423.68 Q2438.38 1423.68 2435.42 1419.93 Q2432.48 1416.18 2432.48 1410.06 Q2432.48 1403.95 2435.42 1400.2 Q2438.38 1396.45 2443.08 1396.45 Q2445.95 1396.45 2447.99 1397.59 Q2450.05 1398.7 2451.39 1401.01 M2436.88 1410.06 Q2436.88 1414.76 2438.8 1417.45 Q2440.74 1420.11 2444.12 1420.11 Q2447.5 1420.11 2449.45 1417.45 Q2451.39 1414.76 2451.39 1410.06 Q2451.39 1405.37 2449.45 1402.7 Q2447.5 1400.02 2444.12 1400.02 Q2440.74 1400.02 2438.8 1402.7 Q2436.88 1405.37 2436.88 1410.06 Z\" fill=\"#000000\" fill-rule=\"evenodd\" fill-opacity=\"1\" /><path clip-path=\"url(#clip580)\" d=\"\n",
       "M3013.77 1506.2 L5552.76 1506.2 L5552.76 47.2441 L3013.77 47.2441  Z\n",
       "  \" fill=\"#ffffff\" fill-rule=\"evenodd\" fill-opacity=\"1\"/>\n",
       "<defs>\n",
       "  <clipPath id=\"clip583\">\n",
       "    <rect x=\"3013\" y=\"47\" width=\"2540\" height=\"1460\"/>\n",
       "  </clipPath>\n",
       "</defs>\n",
       "<polyline clip-path=\"url(#clip583)\" style=\"stroke:#000000; stroke-linecap:butt; stroke-linejoin:round; stroke-width:2; stroke-opacity:0.1; fill:none\" points=\"\n",
       "  3061.44,1506.2 3061.44,47.2441 \n",
       "  \"/>\n",
       "<polyline clip-path=\"url(#clip583)\" style=\"stroke:#000000; stroke-linecap:butt; stroke-linejoin:round; stroke-width:2; stroke-opacity:0.1; fill:none\" points=\"\n",
       "  3666.3,1506.2 3666.3,47.2441 \n",
       "  \"/>\n",
       "<polyline clip-path=\"url(#clip583)\" style=\"stroke:#000000; stroke-linecap:butt; stroke-linejoin:round; stroke-width:2; stroke-opacity:0.1; fill:none\" points=\"\n",
       "  4271.17,1506.2 4271.17,47.2441 \n",
       "  \"/>\n",
       "<polyline clip-path=\"url(#clip583)\" style=\"stroke:#000000; stroke-linecap:butt; stroke-linejoin:round; stroke-width:2; stroke-opacity:0.1; fill:none\" points=\"\n",
       "  4876.03,1506.2 4876.03,47.2441 \n",
       "  \"/>\n",
       "<polyline clip-path=\"url(#clip583)\" style=\"stroke:#000000; stroke-linecap:butt; stroke-linejoin:round; stroke-width:2; stroke-opacity:0.1; fill:none\" points=\"\n",
       "  5480.9,1506.2 5480.9,47.2441 \n",
       "  \"/>\n",
       "<polyline clip-path=\"url(#clip580)\" style=\"stroke:#000000; stroke-linecap:butt; stroke-linejoin:round; stroke-width:4; stroke-opacity:1; fill:none\" points=\"\n",
       "  3013.77,1506.2 5552.76,1506.2 \n",
       "  \"/>\n",
       "<polyline clip-path=\"url(#clip580)\" style=\"stroke:#000000; stroke-linecap:butt; stroke-linejoin:round; stroke-width:4; stroke-opacity:1; fill:none\" points=\"\n",
       "  3061.44,1506.2 3061.44,1487.3 \n",
       "  \"/>\n",
       "<polyline clip-path=\"url(#clip580)\" style=\"stroke:#000000; stroke-linecap:butt; stroke-linejoin:round; stroke-width:4; stroke-opacity:1; fill:none\" points=\"\n",
       "  3666.3,1506.2 3666.3,1487.3 \n",
       "  \"/>\n",
       "<polyline clip-path=\"url(#clip580)\" style=\"stroke:#000000; stroke-linecap:butt; stroke-linejoin:round; stroke-width:4; stroke-opacity:1; fill:none\" points=\"\n",
       "  4271.17,1506.2 4271.17,1487.3 \n",
       "  \"/>\n",
       "<polyline clip-path=\"url(#clip580)\" style=\"stroke:#000000; stroke-linecap:butt; stroke-linejoin:round; stroke-width:4; stroke-opacity:1; fill:none\" points=\"\n",
       "  4876.03,1506.2 4876.03,1487.3 \n",
       "  \"/>\n",
       "<polyline clip-path=\"url(#clip580)\" style=\"stroke:#000000; stroke-linecap:butt; stroke-linejoin:round; stroke-width:4; stroke-opacity:1; fill:none\" points=\"\n",
       "  5480.9,1506.2 5480.9,1487.3 \n",
       "  \"/>\n",
       "<path clip-path=\"url(#clip580)\" d=\"M3061.44 1560.99 Q3057.82 1560.99 3056 1564.55 Q3054.19 1568.09 3054.19 1575.22 Q3054.19 1582.33 3056 1585.89 Q3057.82 1589.44 3061.44 1589.44 Q3065.07 1589.44 3066.87 1585.89 Q3068.7 1582.33 3068.7 1575.22 Q3068.7 1568.09 3066.87 1564.55 Q3065.07 1560.99 3061.44 1560.99 M3061.44 1557.28 Q3067.25 1557.28 3070.3 1561.89 Q3073.38 1566.47 3073.38 1575.22 Q3073.38 1583.95 3070.3 1588.56 Q3067.25 1593.14 3061.44 1593.14 Q3055.62 1593.14 3052.55 1588.56 Q3049.49 1583.95 3049.49 1575.22 Q3049.49 1566.47 3052.55 1561.89 Q3055.62 1557.28 3061.44 1557.28 Z\" fill=\"#000000\" fill-rule=\"evenodd\" fill-opacity=\"1\" /><path clip-path=\"url(#clip580)\" d=\"M3645.57 1588.53 L3661.89 1588.53 L3661.89 1592.47 L3639.95 1592.47 L3639.95 1588.53 Q3642.61 1585.78 3647.19 1581.15 Q3651.8 1576.5 3652.98 1575.15 Q3655.22 1572.63 3656.1 1570.89 Q3657.01 1569.14 3657.01 1567.45 Q3657.01 1564.69 3655.06 1562.95 Q3653.14 1561.22 3650.04 1561.22 Q3647.84 1561.22 3645.39 1561.98 Q3642.96 1562.75 3640.18 1564.3 L3640.18 1559.58 Q3643 1558.44 3645.46 1557.86 Q3647.91 1557.28 3649.95 1557.28 Q3655.32 1557.28 3658.51 1559.97 Q3661.71 1562.65 3661.71 1567.14 Q3661.71 1569.27 3660.9 1571.2 Q3660.11 1573.09 3658 1575.69 Q3657.42 1576.36 3654.32 1579.57 Q3651.22 1582.77 3645.57 1588.53 Z\" fill=\"#000000\" fill-rule=\"evenodd\" fill-opacity=\"1\" /><path clip-path=\"url(#clip580)\" d=\"M3671.75 1557.91 L3690.11 1557.91 L3690.11 1561.84 L3676.03 1561.84 L3676.03 1570.32 Q3677.05 1569.97 3678.07 1569.81 Q3679.09 1569.62 3680.11 1569.62 Q3685.9 1569.62 3689.28 1572.79 Q3692.65 1575.96 3692.65 1581.38 Q3692.65 1586.96 3689.18 1590.06 Q3685.71 1593.14 3679.39 1593.14 Q3677.22 1593.14 3674.95 1592.77 Q3672.7 1592.4 3670.29 1591.66 L3670.29 1586.96 Q3672.38 1588.09 3674.6 1588.65 Q3676.82 1589.2 3679.3 1589.2 Q3683.3 1589.2 3685.64 1587.1 Q3687.98 1584.99 3687.98 1581.38 Q3687.98 1577.77 3685.64 1575.66 Q3683.3 1573.56 3679.3 1573.56 Q3677.42 1573.56 3675.55 1573.97 Q3673.7 1574.39 3671.75 1575.27 L3671.75 1557.91 Z\" fill=\"#000000\" fill-rule=\"evenodd\" fill-opacity=\"1\" /><path clip-path=\"url(#clip580)\" d=\"M4245.87 1557.91 L4264.22 1557.91 L4264.22 1561.84 L4250.15 1561.84 L4250.15 1570.32 Q4251.17 1569.97 4252.19 1569.81 Q4253.2 1569.62 4254.22 1569.62 Q4260.01 1569.62 4263.39 1572.79 Q4266.77 1575.96 4266.77 1581.38 Q4266.77 1586.96 4263.3 1590.06 Q4259.82 1593.14 4253.5 1593.14 Q4251.33 1593.14 4249.06 1592.77 Q4246.81 1592.4 4244.41 1591.66 L4244.41 1586.96 Q4246.49 1588.09 4248.71 1588.65 Q4250.94 1589.2 4253.41 1589.2 Q4257.42 1589.2 4259.75 1587.1 Q4262.09 1584.99 4262.09 1581.38 Q4262.09 1577.77 4259.75 1575.66 Q4257.42 1573.56 4253.41 1573.56 Q4251.54 1573.56 4249.66 1573.97 Q4247.81 1574.39 4245.87 1575.27 L4245.87 1557.91 Z\" fill=\"#000000\" fill-rule=\"evenodd\" fill-opacity=\"1\" /><path clip-path=\"url(#clip580)\" d=\"M4285.98 1560.99 Q4282.37 1560.99 4280.54 1564.55 Q4278.74 1568.09 4278.74 1575.22 Q4278.74 1582.33 4280.54 1585.89 Q4282.37 1589.44 4285.98 1589.44 Q4289.62 1589.44 4291.42 1585.89 Q4293.25 1582.33 4293.25 1575.22 Q4293.25 1568.09 4291.42 1564.55 Q4289.62 1560.99 4285.98 1560.99 M4285.98 1557.28 Q4291.79 1557.28 4294.85 1561.89 Q4297.93 1566.47 4297.93 1575.22 Q4297.93 1583.95 4294.85 1588.56 Q4291.79 1593.14 4285.98 1593.14 Q4280.17 1593.14 4277.09 1588.56 Q4274.04 1583.95 4274.04 1575.22 Q4274.04 1566.47 4277.09 1561.89 Q4280.17 1557.28 4285.98 1557.28 Z\" fill=\"#000000\" fill-rule=\"evenodd\" fill-opacity=\"1\" /><path clip-path=\"url(#clip580)\" d=\"M4849.89 1557.91 L4872.11 1557.91 L4872.11 1559.9 L4859.56 1592.47 L4854.68 1592.47 L4866.48 1561.84 L4849.89 1561.84 L4849.89 1557.91 Z\" fill=\"#000000\" fill-rule=\"evenodd\" fill-opacity=\"1\" /><path clip-path=\"url(#clip580)\" d=\"M4881.28 1557.91 L4899.63 1557.91 L4899.63 1561.84 L4885.56 1561.84 L4885.56 1570.32 Q4886.58 1569.97 4887.59 1569.81 Q4888.61 1569.62 4889.63 1569.62 Q4895.42 1569.62 4898.8 1572.79 Q4902.18 1575.96 4902.18 1581.38 Q4902.18 1586.96 4898.71 1590.06 Q4895.23 1593.14 4888.91 1593.14 Q4886.74 1593.14 4884.47 1592.77 Q4882.22 1592.4 4879.82 1591.66 L4879.82 1586.96 Q4881.9 1588.09 4884.12 1588.65 Q4886.34 1589.2 4888.82 1589.2 Q4892.83 1589.2 4895.16 1587.1 Q4897.5 1584.99 4897.5 1581.38 Q4897.5 1577.77 4895.16 1575.66 Q4892.83 1573.56 4888.82 1573.56 Q4886.95 1573.56 4885.07 1573.97 Q4883.22 1574.39 4881.28 1575.27 L4881.28 1557.91 Z\" fill=\"#000000\" fill-rule=\"evenodd\" fill-opacity=\"1\" /><path clip-path=\"url(#clip580)\" d=\"M5440.5 1588.53 L5448.14 1588.53 L5448.14 1562.17 L5439.83 1563.83 L5439.83 1559.58 L5448.1 1557.91 L5452.77 1557.91 L5452.77 1588.53 L5460.41 1588.53 L5460.41 1592.47 L5440.5 1592.47 L5440.5 1588.53 Z\" fill=\"#000000\" fill-rule=\"evenodd\" fill-opacity=\"1\" /><path clip-path=\"url(#clip580)\" d=\"M5479.86 1560.99 Q5476.25 1560.99 5474.42 1564.55 Q5472.61 1568.09 5472.61 1575.22 Q5472.61 1582.33 5474.42 1585.89 Q5476.25 1589.44 5479.86 1589.44 Q5483.49 1589.44 5485.3 1585.89 Q5487.12 1582.33 5487.12 1575.22 Q5487.12 1568.09 5485.3 1564.55 Q5483.49 1560.99 5479.86 1560.99 M5479.86 1557.28 Q5485.67 1557.28 5488.72 1561.89 Q5491.8 1566.47 5491.8 1575.22 Q5491.8 1583.95 5488.72 1588.56 Q5485.67 1593.14 5479.86 1593.14 Q5474.05 1593.14 5470.97 1588.56 Q5467.91 1583.95 5467.91 1575.22 Q5467.91 1566.47 5470.97 1561.89 Q5474.05 1557.28 5479.86 1557.28 Z\" fill=\"#000000\" fill-rule=\"evenodd\" fill-opacity=\"1\" /><path clip-path=\"url(#clip580)\" d=\"M5510.02 1560.99 Q5506.41 1560.99 5504.58 1564.55 Q5502.77 1568.09 5502.77 1575.22 Q5502.77 1582.33 5504.58 1585.89 Q5506.41 1589.44 5510.02 1589.44 Q5513.65 1589.44 5515.46 1585.89 Q5517.29 1582.33 5517.29 1575.22 Q5517.29 1568.09 5515.46 1564.55 Q5513.65 1560.99 5510.02 1560.99 M5510.02 1557.28 Q5515.83 1557.28 5518.88 1561.89 Q5521.96 1566.47 5521.96 1575.22 Q5521.96 1583.95 5518.88 1588.56 Q5515.83 1593.14 5510.02 1593.14 Q5504.21 1593.14 5501.13 1588.56 Q5498.07 1583.95 5498.07 1575.22 Q5498.07 1566.47 5501.13 1561.89 Q5504.21 1557.28 5510.02 1557.28 Z\" fill=\"#000000\" fill-rule=\"evenodd\" fill-opacity=\"1\" /><polyline clip-path=\"url(#clip583)\" style=\"stroke:#000000; stroke-linecap:butt; stroke-linejoin:round; stroke-width:2; stroke-opacity:0.1; fill:none\" points=\"\n",
       "  3013.77,1428.28 5552.76,1428.28 \n",
       "  \"/>\n",
       "<polyline clip-path=\"url(#clip583)\" style=\"stroke:#000000; stroke-linecap:butt; stroke-linejoin:round; stroke-width:2; stroke-opacity:0.1; fill:none\" points=\"\n",
       "  3013.77,1122.11 5552.76,1122.11 \n",
       "  \"/>\n",
       "<polyline clip-path=\"url(#clip583)\" style=\"stroke:#000000; stroke-linecap:butt; stroke-linejoin:round; stroke-width:2; stroke-opacity:0.1; fill:none\" points=\"\n",
       "  3013.77,815.939 5552.76,815.939 \n",
       "  \"/>\n",
       "<polyline clip-path=\"url(#clip583)\" style=\"stroke:#000000; stroke-linecap:butt; stroke-linejoin:round; stroke-width:2; stroke-opacity:0.1; fill:none\" points=\"\n",
       "  3013.77,509.769 5552.76,509.769 \n",
       "  \"/>\n",
       "<polyline clip-path=\"url(#clip583)\" style=\"stroke:#000000; stroke-linecap:butt; stroke-linejoin:round; stroke-width:2; stroke-opacity:0.1; fill:none\" points=\"\n",
       "  3013.77,203.599 5552.76,203.599 \n",
       "  \"/>\n",
       "<polyline clip-path=\"url(#clip580)\" style=\"stroke:#000000; stroke-linecap:butt; stroke-linejoin:round; stroke-width:4; stroke-opacity:1; fill:none\" points=\"\n",
       "  3013.77,1506.2 3013.77,47.2441 \n",
       "  \"/>\n",
       "<polyline clip-path=\"url(#clip580)\" style=\"stroke:#000000; stroke-linecap:butt; stroke-linejoin:round; stroke-width:4; stroke-opacity:1; fill:none\" points=\"\n",
       "  3013.77,1428.28 3032.67,1428.28 \n",
       "  \"/>\n",
       "<polyline clip-path=\"url(#clip580)\" style=\"stroke:#000000; stroke-linecap:butt; stroke-linejoin:round; stroke-width:4; stroke-opacity:1; fill:none\" points=\"\n",
       "  3013.77,1122.11 3032.67,1122.11 \n",
       "  \"/>\n",
       "<polyline clip-path=\"url(#clip580)\" style=\"stroke:#000000; stroke-linecap:butt; stroke-linejoin:round; stroke-width:4; stroke-opacity:1; fill:none\" points=\"\n",
       "  3013.77,815.939 3032.67,815.939 \n",
       "  \"/>\n",
       "<polyline clip-path=\"url(#clip580)\" style=\"stroke:#000000; stroke-linecap:butt; stroke-linejoin:round; stroke-width:4; stroke-opacity:1; fill:none\" points=\"\n",
       "  3013.77,509.769 3032.67,509.769 \n",
       "  \"/>\n",
       "<polyline clip-path=\"url(#clip580)\" style=\"stroke:#000000; stroke-linecap:butt; stroke-linejoin:round; stroke-width:4; stroke-opacity:1; fill:none\" points=\"\n",
       "  3013.77,203.599 3032.67,203.599 \n",
       "  \"/>\n",
       "<path clip-path=\"url(#clip580)\" d=\"M2804.08 1441.62 L2811.72 1441.62 L2811.72 1415.26 L2803.41 1416.92 L2803.41 1412.67 L2811.67 1411 L2816.35 1411 L2816.35 1441.62 L2823.99 1441.62 L2823.99 1445.56 L2804.08 1445.56 L2804.08 1441.62 Z\" fill=\"#000000\" fill-rule=\"evenodd\" fill-opacity=\"1\" /><path clip-path=\"url(#clip580)\" d=\"M2843.43 1429.15 Q2840.1 1429.15 2838.17 1430.93 Q2836.28 1432.71 2836.28 1435.84 Q2836.28 1438.96 2838.17 1440.74 Q2840.1 1442.53 2843.43 1442.53 Q2846.76 1442.53 2848.68 1440.74 Q2850.61 1438.94 2850.61 1435.84 Q2850.61 1432.71 2848.68 1430.93 Q2846.79 1429.15 2843.43 1429.15 M2838.75 1427.16 Q2835.74 1426.42 2834.05 1424.36 Q2832.39 1422.3 2832.39 1419.33 Q2832.39 1415.19 2835.33 1412.78 Q2838.29 1410.37 2843.43 1410.37 Q2848.59 1410.37 2851.53 1412.78 Q2854.47 1415.19 2854.47 1419.33 Q2854.47 1422.3 2852.78 1424.36 Q2851.11 1426.42 2848.13 1427.16 Q2851.51 1427.94 2853.38 1430.23 Q2855.28 1432.53 2855.28 1435.84 Q2855.28 1440.86 2852.2 1443.54 Q2849.15 1446.23 2843.43 1446.23 Q2837.71 1446.23 2834.63 1443.54 Q2831.58 1440.86 2831.58 1435.84 Q2831.58 1432.53 2833.48 1430.23 Q2835.37 1427.94 2838.75 1427.16 M2837.04 1419.77 Q2837.04 1422.46 2838.71 1423.96 Q2840.4 1425.47 2843.43 1425.47 Q2846.44 1425.47 2848.13 1423.96 Q2849.84 1422.46 2849.84 1419.77 Q2849.84 1417.09 2848.13 1415.58 Q2846.44 1414.08 2843.43 1414.08 Q2840.4 1414.08 2838.71 1415.58 Q2837.04 1417.09 2837.04 1419.77 Z\" fill=\"#000000\" fill-rule=\"evenodd\" fill-opacity=\"1\" /><path clip-path=\"url(#clip580)\" d=\"M2867.62 1441.62 L2883.94 1441.62 L2883.94 1445.56 L2861.99 1445.56 L2861.99 1441.62 Q2864.66 1438.87 2869.24 1434.24 Q2873.85 1429.59 2875.03 1428.24 Q2877.27 1425.72 2878.15 1423.98 Q2879.05 1422.23 2879.05 1420.54 Q2879.05 1417.78 2877.11 1416.05 Q2875.19 1414.31 2872.09 1414.31 Q2869.89 1414.31 2867.43 1415.07 Q2865 1415.84 2862.23 1417.39 L2862.23 1412.67 Q2865.05 1411.53 2867.5 1410.95 Q2869.96 1410.37 2871.99 1410.37 Q2877.36 1410.37 2880.56 1413.06 Q2883.75 1415.74 2883.75 1420.23 Q2883.75 1422.36 2882.94 1424.29 Q2882.16 1426.18 2880.05 1428.78 Q2879.47 1429.45 2876.37 1432.67 Q2873.27 1435.86 2867.62 1441.62 Z\" fill=\"#000000\" fill-rule=\"evenodd\" fill-opacity=\"1\" /><path clip-path=\"url(#clip580)\" d=\"M2893.75 1439.68 L2898.64 1439.68 L2898.64 1445.56 L2893.75 1445.56 L2893.75 1439.68 Z\" fill=\"#000000\" fill-rule=\"evenodd\" fill-opacity=\"1\" /><path clip-path=\"url(#clip580)\" d=\"M2908.87 1411 L2927.23 1411 L2927.23 1414.93 L2913.15 1414.93 L2913.15 1423.41 Q2914.17 1423.06 2915.19 1422.9 Q2916.21 1422.71 2917.23 1422.71 Q2923.01 1422.71 2926.39 1425.88 Q2929.77 1429.05 2929.77 1434.47 Q2929.77 1440.05 2926.3 1443.15 Q2922.83 1446.23 2916.51 1446.23 Q2914.33 1446.23 2912.06 1445.86 Q2909.82 1445.49 2907.41 1444.75 L2907.41 1440.05 Q2909.49 1441.18 2911.72 1441.74 Q2913.94 1442.29 2916.42 1442.29 Q2920.42 1442.29 2922.76 1440.19 Q2925.1 1438.08 2925.1 1434.47 Q2925.1 1430.86 2922.76 1428.75 Q2920.42 1426.65 2916.42 1426.65 Q2914.54 1426.65 2912.67 1427.06 Q2910.81 1427.48 2908.87 1428.36 L2908.87 1411 Z\" fill=\"#000000\" fill-rule=\"evenodd\" fill-opacity=\"1\" /><path clip-path=\"url(#clip580)\" d=\"M2803.08 1135.45 L2810.72 1135.45 L2810.72 1109.09 L2802.41 1110.75 L2802.41 1106.5 L2810.68 1104.83 L2815.35 1104.83 L2815.35 1135.45 L2822.99 1135.45 L2822.99 1139.39 L2803.08 1139.39 L2803.08 1135.45 Z\" fill=\"#000000\" fill-rule=\"evenodd\" fill-opacity=\"1\" /><path clip-path=\"url(#clip580)\" d=\"M2842.43 1122.98 Q2839.1 1122.98 2837.18 1124.76 Q2835.28 1126.54 2835.28 1129.67 Q2835.28 1132.79 2837.18 1134.57 Q2839.1 1136.36 2842.43 1136.36 Q2845.77 1136.36 2847.69 1134.57 Q2849.61 1132.77 2849.61 1129.67 Q2849.61 1126.54 2847.69 1124.76 Q2845.79 1122.98 2842.43 1122.98 M2837.76 1120.99 Q2834.75 1120.25 2833.06 1118.19 Q2831.39 1116.13 2831.39 1113.16 Q2831.39 1109.02 2834.33 1106.61 Q2837.3 1104.2 2842.43 1104.2 Q2847.6 1104.2 2850.54 1106.61 Q2853.48 1109.02 2853.48 1113.16 Q2853.48 1116.13 2851.79 1118.19 Q2850.12 1120.25 2847.13 1120.99 Q2850.51 1121.77 2852.39 1124.06 Q2854.29 1126.36 2854.29 1129.67 Q2854.29 1134.69 2851.21 1137.38 Q2848.15 1140.06 2842.43 1140.06 Q2836.72 1140.06 2833.64 1137.38 Q2830.58 1134.69 2830.58 1129.67 Q2830.58 1126.36 2832.48 1124.06 Q2834.38 1121.77 2837.76 1120.99 M2836.05 1113.6 Q2836.05 1116.29 2837.71 1117.79 Q2839.4 1119.3 2842.43 1119.3 Q2845.44 1119.3 2847.13 1117.79 Q2848.85 1116.29 2848.85 1113.6 Q2848.85 1110.92 2847.13 1109.41 Q2845.44 1107.91 2842.43 1107.91 Q2839.4 1107.91 2837.71 1109.41 Q2836.05 1110.92 2836.05 1113.6 Z\" fill=\"#000000\" fill-rule=\"evenodd\" fill-opacity=\"1\" /><path clip-path=\"url(#clip580)\" d=\"M2862.64 1104.83 L2881 1104.83 L2881 1108.76 L2866.92 1108.76 L2866.92 1117.24 Q2867.94 1116.89 2868.96 1116.73 Q2869.98 1116.54 2871 1116.54 Q2876.79 1116.54 2880.17 1119.71 Q2883.55 1122.88 2883.55 1128.3 Q2883.55 1133.88 2880.07 1136.98 Q2876.6 1140.06 2870.28 1140.06 Q2868.11 1140.06 2865.84 1139.69 Q2863.59 1139.32 2861.18 1138.58 L2861.18 1133.88 Q2863.27 1135.01 2865.49 1135.57 Q2867.71 1136.13 2870.19 1136.13 Q2874.19 1136.13 2876.53 1134.02 Q2878.87 1131.91 2878.87 1128.3 Q2878.87 1124.69 2876.53 1122.58 Q2874.19 1120.48 2870.19 1120.48 Q2868.31 1120.48 2866.44 1120.89 Q2864.59 1121.31 2862.64 1122.19 L2862.64 1104.83 Z\" fill=\"#000000\" fill-rule=\"evenodd\" fill-opacity=\"1\" /><path clip-path=\"url(#clip580)\" d=\"M2892.76 1133.51 L2897.64 1133.51 L2897.64 1139.39 L2892.76 1139.39 L2892.76 1133.51 Z\" fill=\"#000000\" fill-rule=\"evenodd\" fill-opacity=\"1\" /><path clip-path=\"url(#clip580)\" d=\"M2917.83 1107.91 Q2914.22 1107.91 2912.39 1111.47 Q2910.58 1115.01 2910.58 1122.14 Q2910.58 1129.25 2912.39 1132.81 Q2914.22 1136.36 2917.83 1136.36 Q2921.46 1136.36 2923.27 1132.81 Q2925.1 1129.25 2925.1 1122.14 Q2925.1 1115.01 2923.27 1111.47 Q2921.46 1107.91 2917.83 1107.91 M2917.83 1104.2 Q2923.64 1104.2 2926.69 1108.81 Q2929.77 1113.39 2929.77 1122.14 Q2929.77 1130.87 2926.69 1135.48 Q2923.64 1140.06 2917.83 1140.06 Q2912.02 1140.06 2908.94 1135.48 Q2905.88 1130.87 2905.88 1122.14 Q2905.88 1113.39 2908.94 1108.81 Q2912.02 1104.2 2917.83 1104.2 Z\" fill=\"#000000\" fill-rule=\"evenodd\" fill-opacity=\"1\" /><path clip-path=\"url(#clip580)\" d=\"M2804.08 829.284 L2811.72 829.284 L2811.72 802.918 L2803.41 804.585 L2803.41 800.326 L2811.67 798.659 L2816.35 798.659 L2816.35 829.284 L2823.99 829.284 L2823.99 833.219 L2804.08 833.219 L2804.08 829.284 Z\" fill=\"#000000\" fill-rule=\"evenodd\" fill-opacity=\"1\" /><path clip-path=\"url(#clip580)\" d=\"M2843.43 816.807 Q2840.1 816.807 2838.17 818.589 Q2836.28 820.372 2836.28 823.497 Q2836.28 826.622 2838.17 828.404 Q2840.1 830.187 2843.43 830.187 Q2846.76 830.187 2848.68 828.404 Q2850.61 826.599 2850.61 823.497 Q2850.61 820.372 2848.68 818.589 Q2846.79 816.807 2843.43 816.807 M2838.75 814.816 Q2835.74 814.076 2834.05 812.015 Q2832.39 809.955 2832.39 806.992 Q2832.39 802.849 2835.33 800.441 Q2838.29 798.034 2843.43 798.034 Q2848.59 798.034 2851.53 800.441 Q2854.47 802.849 2854.47 806.992 Q2854.47 809.955 2852.78 812.015 Q2851.11 814.076 2848.13 814.816 Q2851.51 815.603 2853.38 817.895 Q2855.28 820.187 2855.28 823.497 Q2855.28 828.52 2852.2 831.205 Q2849.15 833.89 2843.43 833.89 Q2837.71 833.89 2834.63 831.205 Q2831.58 828.52 2831.58 823.497 Q2831.58 820.187 2833.48 817.895 Q2835.37 815.603 2838.75 814.816 M2837.04 807.432 Q2837.04 810.117 2838.71 811.622 Q2840.4 813.126 2843.43 813.126 Q2846.44 813.126 2848.13 811.622 Q2849.84 810.117 2849.84 807.432 Q2849.84 804.747 2848.13 803.242 Q2846.44 801.738 2843.43 801.738 Q2840.4 801.738 2838.71 803.242 Q2837.04 804.747 2837.04 807.432 Z\" fill=\"#000000\" fill-rule=\"evenodd\" fill-opacity=\"1\" /><path clip-path=\"url(#clip580)\" d=\"M2862.41 798.659 L2884.63 798.659 L2884.63 800.65 L2872.09 833.219 L2867.2 833.219 L2879.01 802.594 L2862.41 802.594 L2862.41 798.659 Z\" fill=\"#000000\" fill-rule=\"evenodd\" fill-opacity=\"1\" /><path clip-path=\"url(#clip580)\" d=\"M2893.75 827.339 L2898.64 827.339 L2898.64 833.219 L2893.75 833.219 L2893.75 827.339 Z\" fill=\"#000000\" fill-rule=\"evenodd\" fill-opacity=\"1\" /><path clip-path=\"url(#clip580)\" d=\"M2908.87 798.659 L2927.23 798.659 L2927.23 802.594 L2913.15 802.594 L2913.15 811.066 Q2914.17 810.719 2915.19 810.557 Q2916.21 810.372 2917.23 810.372 Q2923.01 810.372 2926.39 813.543 Q2929.77 816.714 2929.77 822.131 Q2929.77 827.71 2926.3 830.812 Q2922.83 833.89 2916.51 833.89 Q2914.33 833.89 2912.06 833.52 Q2909.82 833.15 2907.41 832.409 L2907.41 827.71 Q2909.49 828.844 2911.72 829.4 Q2913.94 829.955 2916.42 829.955 Q2920.42 829.955 2922.76 827.849 Q2925.1 825.742 2925.1 822.131 Q2925.1 818.52 2922.76 816.413 Q2920.42 814.307 2916.42 814.307 Q2914.54 814.307 2912.67 814.724 Q2910.81 815.14 2908.87 816.02 L2908.87 798.659 Z\" fill=\"#000000\" fill-rule=\"evenodd\" fill-opacity=\"1\" /><path clip-path=\"url(#clip580)\" d=\"M2803.08 523.114 L2810.72 523.114 L2810.72 496.748 L2802.41 498.415 L2802.41 494.156 L2810.68 492.489 L2815.35 492.489 L2815.35 523.114 L2822.99 523.114 L2822.99 527.049 L2803.08 527.049 L2803.08 523.114 Z\" fill=\"#000000\" fill-rule=\"evenodd\" fill-opacity=\"1\" /><path clip-path=\"url(#clip580)\" d=\"M2832.57 526.331 L2832.57 522.072 Q2834.33 522.906 2836.14 523.345 Q2837.94 523.785 2839.68 523.785 Q2844.31 523.785 2846.74 520.683 Q2849.19 517.558 2849.54 511.216 Q2848.2 513.206 2846.14 514.271 Q2844.08 515.336 2841.58 515.336 Q2836.39 515.336 2833.36 512.211 Q2830.35 509.063 2830.35 503.623 Q2830.35 498.299 2833.5 495.082 Q2836.65 491.864 2841.88 491.864 Q2847.87 491.864 2851.02 496.47 Q2854.19 501.054 2854.19 509.804 Q2854.19 517.975 2850.3 522.859 Q2846.44 527.72 2839.89 527.72 Q2838.13 527.72 2836.32 527.373 Q2834.52 527.026 2832.57 526.331 M2841.88 511.679 Q2845.03 511.679 2846.86 509.526 Q2848.71 507.373 2848.71 503.623 Q2848.71 499.896 2846.86 497.744 Q2845.03 495.568 2841.88 495.568 Q2838.73 495.568 2836.88 497.744 Q2835.05 499.896 2835.05 503.623 Q2835.05 507.373 2836.88 509.526 Q2838.73 511.679 2841.88 511.679 Z\" fill=\"#000000\" fill-rule=\"evenodd\" fill-opacity=\"1\" /><path clip-path=\"url(#clip580)\" d=\"M2872.6 495.568 Q2868.98 495.568 2867.16 499.132 Q2865.35 502.674 2865.35 509.804 Q2865.35 516.91 2867.16 520.475 Q2868.98 524.017 2872.6 524.017 Q2876.23 524.017 2878.04 520.475 Q2879.86 516.91 2879.86 509.804 Q2879.86 502.674 2878.04 499.132 Q2876.23 495.568 2872.6 495.568 M2872.6 491.864 Q2878.41 491.864 2881.46 496.47 Q2884.54 501.054 2884.54 509.804 Q2884.54 518.531 2881.46 523.137 Q2878.41 527.72 2872.6 527.72 Q2866.79 527.72 2863.71 523.137 Q2860.65 518.531 2860.65 509.804 Q2860.65 501.054 2863.71 496.47 Q2866.79 491.864 2872.6 491.864 Z\" fill=\"#000000\" fill-rule=\"evenodd\" fill-opacity=\"1\" /><path clip-path=\"url(#clip580)\" d=\"M2892.76 521.169 L2897.64 521.169 L2897.64 527.049 L2892.76 527.049 L2892.76 521.169 Z\" fill=\"#000000\" fill-rule=\"evenodd\" fill-opacity=\"1\" /><path clip-path=\"url(#clip580)\" d=\"M2917.83 495.568 Q2914.22 495.568 2912.39 499.132 Q2910.58 502.674 2910.58 509.804 Q2910.58 516.91 2912.39 520.475 Q2914.22 524.017 2917.83 524.017 Q2921.46 524.017 2923.27 520.475 Q2925.1 516.91 2925.1 509.804 Q2925.1 502.674 2923.27 499.132 Q2921.46 495.568 2917.83 495.568 M2917.83 491.864 Q2923.64 491.864 2926.69 496.47 Q2929.77 501.054 2929.77 509.804 Q2929.77 518.531 2926.69 523.137 Q2923.64 527.72 2917.83 527.72 Q2912.02 527.72 2908.94 523.137 Q2905.88 518.531 2905.88 509.804 Q2905.88 501.054 2908.94 496.47 Q2912.02 491.864 2917.83 491.864 Z\" fill=\"#000000\" fill-rule=\"evenodd\" fill-opacity=\"1\" /><path clip-path=\"url(#clip580)\" d=\"M2804.08 216.944 L2811.72 216.944 L2811.72 190.578 L2803.41 192.245 L2803.41 187.986 L2811.67 186.319 L2816.35 186.319 L2816.35 216.944 L2823.99 216.944 L2823.99 220.879 L2804.08 220.879 L2804.08 216.944 Z\" fill=\"#000000\" fill-rule=\"evenodd\" fill-opacity=\"1\" /><path clip-path=\"url(#clip580)\" d=\"M2833.57 220.161 L2833.57 215.902 Q2835.33 216.736 2837.13 217.175 Q2838.94 217.615 2840.67 217.615 Q2845.3 217.615 2847.74 214.513 Q2850.19 211.388 2850.54 205.046 Q2849.19 207.037 2847.13 208.101 Q2845.07 209.166 2842.57 209.166 Q2837.39 209.166 2834.36 206.041 Q2831.35 202.893 2831.35 197.453 Q2831.35 192.129 2834.49 188.912 Q2837.64 185.694 2842.87 185.694 Q2848.87 185.694 2852.02 190.301 Q2855.19 194.884 2855.19 203.634 Q2855.19 211.805 2851.3 216.689 Q2847.43 221.55 2840.88 221.55 Q2839.12 221.55 2837.32 221.203 Q2835.51 220.856 2833.57 220.161 M2842.87 205.509 Q2846.02 205.509 2847.85 203.356 Q2849.7 201.203 2849.7 197.453 Q2849.7 193.726 2847.85 191.574 Q2846.02 189.398 2842.87 189.398 Q2839.73 189.398 2837.87 191.574 Q2836.05 193.726 2836.05 197.453 Q2836.05 201.203 2837.87 203.356 Q2839.73 205.509 2842.87 205.509 Z\" fill=\"#000000\" fill-rule=\"evenodd\" fill-opacity=\"1\" /><path clip-path=\"url(#clip580)\" d=\"M2867.62 216.944 L2883.94 216.944 L2883.94 220.879 L2861.99 220.879 L2861.99 216.944 Q2864.66 214.189 2869.24 209.56 Q2873.85 204.907 2875.03 203.564 Q2877.27 201.041 2878.15 199.305 Q2879.05 197.546 2879.05 195.856 Q2879.05 193.101 2877.11 191.365 Q2875.19 189.629 2872.09 189.629 Q2869.89 189.629 2867.43 190.393 Q2865 191.157 2862.23 192.708 L2862.23 187.986 Q2865.05 186.851 2867.5 186.273 Q2869.96 185.694 2871.99 185.694 Q2877.36 185.694 2880.56 188.379 Q2883.75 191.064 2883.75 195.555 Q2883.75 197.685 2882.94 199.606 Q2882.16 201.504 2880.05 204.097 Q2879.47 204.768 2876.37 207.986 Q2873.27 211.18 2867.62 216.944 Z\" fill=\"#000000\" fill-rule=\"evenodd\" fill-opacity=\"1\" /><path clip-path=\"url(#clip580)\" d=\"M2893.75 214.999 L2898.64 214.999 L2898.64 220.879 L2893.75 220.879 L2893.75 214.999 Z\" fill=\"#000000\" fill-rule=\"evenodd\" fill-opacity=\"1\" /><path clip-path=\"url(#clip580)\" d=\"M2908.87 186.319 L2927.23 186.319 L2927.23 190.254 L2913.15 190.254 L2913.15 198.726 Q2914.17 198.379 2915.19 198.217 Q2916.21 198.032 2917.23 198.032 Q2923.01 198.032 2926.39 201.203 Q2929.77 204.375 2929.77 209.791 Q2929.77 215.37 2926.3 218.472 Q2922.83 221.55 2916.51 221.55 Q2914.33 221.55 2912.06 221.18 Q2909.82 220.81 2907.41 220.069 L2907.41 215.37 Q2909.49 216.504 2911.72 217.06 Q2913.94 217.615 2916.42 217.615 Q2920.42 217.615 2922.76 215.509 Q2925.1 213.402 2925.1 209.791 Q2925.1 206.18 2922.76 204.074 Q2920.42 201.967 2916.42 201.967 Q2914.54 201.967 2912.67 202.384 Q2910.81 202.8 2908.87 203.68 L2908.87 186.319 Z\" fill=\"#000000\" fill-rule=\"evenodd\" fill-opacity=\"1\" /><polyline clip-path=\"url(#clip583)\" style=\"stroke:#009af9; stroke-linecap:butt; stroke-linejoin:round; stroke-width:4; stroke-opacity:1; fill:none\" points=\"\n",
       "  3085.63,88.5352 3109.82,679.377 3134.02,993.419 3158.21,1234.19 3182.41,1367.04 3206.6,1422.85 3230.8,1444.36 3254.99,1453.1 3279.19,1457.74 3303.38,1460.52 \n",
       "  3327.58,1462.12 3351.77,1462.51 3375.97,1463.37 3400.16,1463.7 3424.35,1464.84 3448.55,1463.92 3472.74,1464.28 3496.94,1464.21 3521.13,1464.23 3545.33,1464.61 \n",
       "  3569.52,1464.63 3593.72,1464.05 3617.91,1464.01 3642.11,1463.97 3666.3,1464.14 3690.5,1464.33 3714.69,1464.48 3738.88,1464.46 3763.08,1464.57 3787.27,1464.71 \n",
       "  3811.47,1464.5 3835.66,1464.91 3859.86,1464.52 3884.05,1464.68 3908.25,1464.69 3932.44,1464.16 3956.64,1464.11 3980.83,1464.17 4005.03,1463.97 4029.22,1464.21 \n",
       "  4053.41,1464.17 4077.61,1464.18 4101.8,1464.24 4126,1463.99 4150.19,1464.14 4174.39,1464.3 4198.58,1464.15 4222.78,1464.01 4246.97,1464.6 4271.17,1464.49 \n",
       "  4295.36,1464.06 4319.56,1463.99 4343.75,1463.93 4367.95,1463.89 4392.14,1463.86 4416.33,1463.83 4440.53,1464.15 4464.72,1464.13 4488.92,1464.1 4513.11,1464.09 \n",
       "  4537.31,1464.07 4561.5,1464.06 4585.7,1464.04 4609.89,1464.04 4634.09,1464.03 4658.28,1464.03 4682.48,1464.02 4706.67,1464.01 4730.86,1464.01 4755.06,1464.01 \n",
       "  4779.25,1464.01 4803.45,1464 4827.64,1464 4851.84,1464 4876.03,1464 4900.23,1464 4924.42,1464 4948.62,1464 4972.81,1464 4997.01,1464 \n",
       "  5021.2,1464 5045.39,1464 5069.59,1464 5093.78,1464 5117.98,1464 5142.17,1464 5166.37,1464 5190.56,1464 5214.76,1464 5238.95,1463.99 \n",
       "  5263.15,1463.99 5287.34,1463.99 5311.54,1463.99 5335.73,1463.99 5359.92,1463.99 5384.12,1463.99 5408.31,1463.99 5432.51,1463.99 5456.7,1463.99 5480.9,1463.99 \n",
       "  \n",
       "  \"/>\n",
       "<path clip-path=\"url(#clip580)\" d=\"\n",
       "M5133.58 199.556 L5468.12 199.556 L5468.12 95.8758 L5133.58 95.8758  Z\n",
       "  \" fill=\"#ffffff\" fill-rule=\"evenodd\" fill-opacity=\"1\"/>\n",
       "<polyline clip-path=\"url(#clip580)\" style=\"stroke:#000000; stroke-linecap:butt; stroke-linejoin:round; stroke-width:4; stroke-opacity:1; fill:none\" points=\"\n",
       "  5133.58,199.556 5468.12,199.556 5468.12,95.8758 5133.58,95.8758 5133.58,199.556 \n",
       "  \"/>\n",
       "<polyline clip-path=\"url(#clip580)\" style=\"stroke:#009af9; stroke-linecap:butt; stroke-linejoin:round; stroke-width:4; stroke-opacity:1; fill:none\" points=\"\n",
       "  5161.79,147.716 5331.06,147.716 \n",
       "  \"/>\n",
       "<path clip-path=\"url(#clip580)\" d=\"M5373.11 167.403 Q5371.31 172.033 5369.59 173.445 Q5367.88 174.857 5365.01 174.857 L5361.61 174.857 L5361.61 171.292 L5364.11 171.292 Q5365.87 171.292 5366.84 170.459 Q5367.81 169.625 5368.99 166.524 L5369.76 164.579 L5359.27 139.07 L5363.78 139.07 L5371.89 159.348 L5379.99 139.07 L5384.5 139.07 L5373.11 167.403 Z\" fill=\"#000000\" fill-rule=\"evenodd\" fill-opacity=\"1\" /><path clip-path=\"url(#clip580)\" d=\"M5391.79 161.061 L5399.43 161.061 L5399.43 134.695 L5391.12 136.362 L5391.12 132.102 L5399.39 130.436 L5404.06 130.436 L5404.06 161.061 L5411.7 161.061 L5411.7 164.996 L5391.79 164.996 L5391.79 161.061 Z\" fill=\"#000000\" fill-rule=\"evenodd\" fill-opacity=\"1\" /></svg>\n"
      ]
     },
     "execution_count": 14,
     "metadata": {},
     "output_type": "execute_result"
    }
   ],
   "source": [
    "using Plots\n",
    "p1 = plot(hidden_states, label=\"hidden state\")\n",
    "p1 = scatter!(p1, observations, label=\"observations\")\n",
    "p1 = plot!(p1, mx, ribbon = sqrt.(vx), label=\"inferred\", legend=:bottomright)\n",
    "\n",
    "p2 = plot(fe)\n",
    "\n",
    "plot(p1, p2, size = (1400, 400))"
   ]
  },
  {
   "cell_type": "code",
   "execution_count": null,
   "metadata": {},
   "outputs": [],
   "source": []
  }
 ],
 "metadata": {
  "kernelspec": {
   "display_name": "Julia 1.6.2",
   "language": "julia",
   "name": "julia-1.6"
  },
  "language_info": {
   "file_extension": ".jl",
   "mimetype": "application/julia",
   "name": "julia",
   "version": "1.6.2"
  }
 },
 "nbformat": 4,
 "nbformat_minor": 4
}
