{
 "cells": [
  {
   "cell_type": "code",
   "execution_count": 1,
   "metadata": {},
   "outputs": [
    {
     "name": "stderr",
     "output_type": "stream",
     "text": [
      "┌ Info: Precompiling ReactiveMP [a194aa59-28ba-4574-a09c-4a745416d6e3]\n",
      "└ @ Base loading.jl:1278\n",
      "┌ Info: Precompiling GraphPPL [b3f8163a-e979-4e85-b43e-1f63d8c8b42c]\n",
      "└ @ Base loading.jl:1278\n",
      "┌ Warning: Package GraphPPL does not have TupleTools in its dependencies:\n",
      "│ - If you have GraphPPL checked out for development and have\n",
      "│   added TupleTools as a dependency but haven't updated your primary\n",
      "│   environment's manifest file, try `Pkg.resolve()`.\n",
      "│ - Otherwise you may need to report an issue with GraphPPL\n",
      "└ Loading TupleTools into GraphPPL from project dependency, future warnings for GraphPPL are suppressed.\n"
     ]
    }
   ],
   "source": [
    "using Revise\n",
    "using Rocket\n",
    "using ReactiveMP\n",
    "using GraphPPL\n",
    "using Distributions\n",
    "using LinearAlgebra\n",
    "import ProgressMeter"
   ]
  },
  {
   "cell_type": "code",
   "execution_count": 2,
   "metadata": {},
   "outputs": [],
   "source": [
    "# The following coefficients correspond to stable poles\n",
    "coefs_ar_1 = [-0.27002517200218096]\n",
    "coefs_ar_2 = [0.4511170798064709, -0.05740081602446657]\n",
    "coefs_ar_5 = [0.10699399235785655, -0.5237303489793305, 0.3068897071844715, -0.17232255282458891, 0.13323964347539288];"
   ]
  },
  {
   "cell_type": "code",
   "execution_count": 3,
   "metadata": {},
   "outputs": [
    {
     "data": {
      "text/plain": [
       "generateAR (generic function with 1 method)"
      ]
     },
     "execution_count": 3,
     "metadata": {},
     "output_type": "execute_result"
    }
   ],
   "source": [
    "function generateAR(num::Int, coefs::Vector{Float64}; variance=1.0)\n",
    "    order = length(coefs)\n",
    "    inits = randn(order)\n",
    "    data = Vector{Vector{Float64}}(undef, num+3*order)\n",
    "    data[1] = inits\n",
    "    for i in 2:num+3*order\n",
    "        data[i] = insert!(data[i-1][1:end-1], 1, rand(Distributions.Normal(coefs'data[i-1], sqrt(variance[])), 1)[1])\n",
    "    end\n",
    "    data = data[1+3*order:end]\n",
    "    return data\n",
    "end"
   ]
  },
  {
   "cell_type": "code",
   "execution_count": 4,
   "metadata": {},
   "outputs": [
    {
     "data": {
      "text/plain": [
       "lar_model_multivariate (generic function with 1 method)"
      ]
     },
     "execution_count": 4,
     "metadata": {},
     "output_type": "execute_result"
    }
   ],
   "source": [
    "@model function lar_model_multivariate(n, order, c, stype)\n",
    "    x = randomvar(n)\n",
    "    y = datavar(Float64, n)\n",
    "    \n",
    "    γ  ~ GammaShapeRate(1.0, 1.0) where { q = MeanField() }\n",
    "    θ  ~ MvNormalMeanPrecision(zeros(order), Matrix{Float64}(I, order, order)) where { q = MeanField() }\n",
    "    x0 ~ MvNormalMeanPrecision(zeros(order), Matrix{Float64}(I, order, order)) where { q = MeanField() }\n",
    "    \n",
    "    ct  = constvar(c)\n",
    "    γ_y = constvar(1.0)\n",
    "    \n",
    "    x_prev = x0\n",
    "    \n",
    "    meta = ARMeta(Multivariate, order, stype)\n",
    "    \n",
    "    for i in 1:n\n",
    "        x[i] ~ AR(x_prev, θ, γ) where { q = q(y, x)q(γ)q(θ), meta = meta }\n",
    "        y[i] ~ NormalMeanPrecision(dot(ct, x[i]), γ_y) where { q = MeanField() }\n",
    "        x_prev = x[i]\n",
    "    end\n",
    "    \n",
    "    return x, y, θ, γ\n",
    "end"
   ]
  },
  {
   "cell_type": "code",
   "execution_count": 5,
   "metadata": {},
   "outputs": [
    {
     "data": {
      "text/plain": [
       "lar_model_univariate (generic function with 1 method)"
      ]
     },
     "execution_count": 5,
     "metadata": {},
     "output_type": "execute_result"
    }
   ],
   "source": [
    "@model function lar_model_univariate(n, order, c, stype)\n",
    "    x = randomvar(n)\n",
    "    y = datavar(Float64, n)\n",
    "    \n",
    "    γ  ~ GammaShapeRate(1.0, 1.0) where { q = MeanField() }\n",
    "    θ  ~ NormalMeanPrecision(0.0, 1.0) where { q = MeanField() }\n",
    "    x0 ~ NormalMeanPrecision(0.0, 1.0) where { q = MeanField() }\n",
    "    \n",
    "    γ_y = constvar(1.0)\n",
    "    \n",
    "    x_prev = x0\n",
    "    \n",
    "    meta = ARMeta(Univariate, order, stype)\n",
    "    \n",
    "    for i in 1:n\n",
    "        x[i] ~ AR(x_prev, θ, γ) where { q = q(y, x)q(γ)q(θ), meta = meta }\n",
    "        y[i] ~ NormalMeanPrecision(x[i], γ_y) where { q = MeanField() }\n",
    "        x_prev = x[i]\n",
    "    end\n",
    "    \n",
    "    return x, y, θ, γ\n",
    "end"
   ]
  },
  {
   "cell_type": "code",
   "execution_count": 6,
   "metadata": {},
   "outputs": [],
   "source": [
    "using BenchmarkTools"
   ]
  },
  {
   "cell_type": "code",
   "execution_count": 7,
   "metadata": {},
   "outputs": [
    {
     "data": {
      "text/plain": [
       "lar_model (generic function with 2 methods)"
      ]
     },
     "execution_count": 7,
     "metadata": {},
     "output_type": "execute_result"
    }
   ],
   "source": [
    "lar_model(::Type{ Multivariate }, n, order, c, stype) = lar_model_multivariate(n, order, c, stype)\n",
    "lar_model(::Type{ Univariate }, n, order, c, stype)   = lar_model_univariate(n, order, c, stype)"
   ]
  },
  {
   "cell_type": "code",
   "execution_count": 8,
   "metadata": {},
   "outputs": [
    {
     "data": {
      "text/plain": [
       "init_marginals (generic function with 2 methods)"
      ]
     },
     "execution_count": 8,
     "metadata": {},
     "output_type": "execute_result"
    }
   ],
   "source": [
    "function init_marginals(::Type{ Multivariate }, order, γ, θ)\n",
    "    setmarginal!(γ, GammaShapeRate(1.0, 1.0))\n",
    "    setmarginal!(θ, MvNormalMeanPrecision(zeros(order), Matrix{Float64}(I, order, order)))\n",
    "end\n",
    "\n",
    "function init_marginals(::Type{ Univariate }, order, γ, θ)\n",
    "    setmarginal!(γ, GammaShapeRate(1.0, 1.0))\n",
    "    setmarginal!(θ, NormalMeanPrecision(0.0, 1.0))\n",
    "end"
   ]
  },
  {
   "cell_type": "code",
   "execution_count": 9,
   "metadata": {},
   "outputs": [
    {
     "data": {
      "text/plain": [
       "inference (generic function with 1 method)"
      ]
     },
     "execution_count": 9,
     "metadata": {},
     "output_type": "execute_result"
    }
   ],
   "source": [
    "function inference(data, order, artype, stype, niter)\n",
    "    n = length(data)\n",
    "    \n",
    "    c = ReactiveMP.ar_unit(artype, order)\n",
    "    \n",
    "    model, (x, y, θ, γ) = lar_model(artype, n, order, c, stype)\n",
    "    \n",
    "    γ_buffer = nothing\n",
    "    θ_buffer = nothing\n",
    "    x_buffer = Vector{Marginal}(undef, n)\n",
    "    \n",
    "    fe = Vector{Float64}()\n",
    "    \n",
    "    γsub = subscribe!(getmarginal(γ), (mγ) -> γ_buffer = mγ)\n",
    "    θsub = subscribe!(getmarginal(θ), (mθ) -> θ_buffer = mθ)\n",
    "    xsub = subscribe!(getmarginals(x), (mx) -> copyto!(x_buffer, mx))\n",
    "    fesub = subscribe!(score(Float64, BetheFreeEnergy(), model), (f) -> push!(fe, f))\n",
    "    \n",
    "    init_marginals(artype, order, γ, θ)\n",
    "    \n",
    "    ProgressMeter.@showprogress for i in 1:niter\n",
    "        update!(y, data)\n",
    "    end\n",
    "    \n",
    "    unsubscribe!(γsub)\n",
    "    unsubscribe!(θsub)\n",
    "    unsubscribe!(xsub)\n",
    "    unsubscribe!(fesub)\n",
    "    \n",
    "    return γ_buffer, θ_buffer, x_buffer, fe\n",
    "end"
   ]
  },
  {
   "cell_type": "code",
   "execution_count": 10,
   "metadata": {},
   "outputs": [],
   "source": [
    "using Random\n",
    "Random.seed!(42)\n",
    "n = 100\n",
    "\n",
    "coefs = coefs_ar_2 # coefs_ar_1, coefs_ar_2, coefs_ar_5\n",
    "gen_ar_order = length(coefs)\n",
    "data = generateAR(n, coefs)\n",
    "hidden_states =  first.(data)\n",
    "observations = hidden_states .+ randn(length(hidden_states));"
   ]
  },
  {
   "cell_type": "code",
   "execution_count": null,
   "metadata": {
    "scrolled": true
   },
   "outputs": [],
   "source": [
    "# Univariate AR\n",
    "ar_order = 1\n",
    "γ, θ, xs, fe = inference(observations, ar_order, Univariate, ARsafe(), 100);"
   ]
  },
  {
   "cell_type": "code",
   "execution_count": null,
   "metadata": {},
   "outputs": [],
   "source": [
    "# Multivariate AR\n",
    "ar_order = gen_ar_order\n",
    "γ, θ, xs, fe = inference(observations, ar_order, Multivariate, ARsafe(), 100);"
   ]
  },
  {
   "cell_type": "code",
   "execution_count": null,
   "metadata": {},
   "outputs": [],
   "source": [
    "# Extract inferred parameters\n",
    "mx, vx = mean.(xs), cov.(xs)\n",
    "mx = first.(mx)\n",
    "vx = first.(vx)\n",
    "mθ = mean(θ)\n",
    "vθ = cov(θ)\n",
    "mγ = mean(γ);"
   ]
  },
  {
   "cell_type": "code",
   "execution_count": null,
   "metadata": {},
   "outputs": [],
   "source": [
    "using Plots\n",
    "p1 = plot(hidden_states, label=\"hidden state\")\n",
    "p1 = scatter!(p1, observations, label=\"observations\")\n",
    "p1 = plot!(p1, mx, ribbon = sqrt.(vx), label=\"inferred\", legend=:bottomright)\n",
    "\n",
    "p2 = plot(fe)\n",
    "\n",
    "plot(p1, p2, size = (1400, 400))"
   ]
  },
  {
   "cell_type": "code",
   "execution_count": null,
   "metadata": {},
   "outputs": [],
   "source": []
  }
 ],
 "metadata": {
  "kernelspec": {
   "display_name": "Julia 1.5.3",
   "language": "julia",
   "name": "julia-1.5"
  },
  "language_info": {
   "file_extension": ".jl",
   "mimetype": "application/julia",
   "name": "julia",
   "version": "1.5.3"
  }
 },
 "nbformat": 4,
 "nbformat_minor": 4
}
