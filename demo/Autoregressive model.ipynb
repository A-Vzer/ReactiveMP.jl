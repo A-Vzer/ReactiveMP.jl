{
 "cells": [
  {
   "cell_type": "code",
   "execution_count": 1,
   "metadata": {},
   "outputs": [
    {
     "name": "stderr",
     "output_type": "stream",
     "text": [
      "┌ Info: Precompiling ReactiveMP [a194aa59-28ba-4574-a09c-4a745416d6e3]\n",
      "└ @ Base loading.jl:1342\n"
     ]
    }
   ],
   "source": [
    "using Revise\n",
    "using Rocket\n",
    "using ReactiveMP\n",
    "using GraphPPL\n",
    "using Distributions\n",
    "using LinearAlgebra\n",
    "import ProgressMeter"
   ]
  },
  {
   "cell_type": "code",
   "execution_count": 2,
   "metadata": {},
   "outputs": [],
   "source": [
    "# The following coefficients correspond to stable poles\n",
    "coefs_ar_1 = [-0.27002517200218096]\n",
    "coefs_ar_2 = [0.4511170798064709, -0.05740081602446657]\n",
    "coefs_ar_5 = [0.10699399235785655, -0.5237303489793305, 0.3068897071844715, -0.17232255282458891, 0.13323964347539288];"
   ]
  },
  {
   "cell_type": "code",
   "execution_count": 3,
   "metadata": {},
   "outputs": [
    {
     "data": {
      "text/plain": [
       "generateAR (generic function with 1 method)"
      ]
     },
     "execution_count": 3,
     "metadata": {},
     "output_type": "execute_result"
    }
   ],
   "source": [
    "function generateAR(num::Int, coefs::Vector{Float64}; variance=1.0)\n",
    "    order = length(coefs)\n",
    "    inits = randn(order)\n",
    "    data = Vector{Vector{Float64}}(undef, num+3*order)\n",
    "    data[1] = inits\n",
    "    for i in 2:num+3*order\n",
    "        data[i] = insert!(data[i-1][1:end-1], 1, rand(Distributions.Normal(coefs'data[i-1], sqrt(variance[])), 1)[1])\n",
    "    end\n",
    "    data = data[1+3*order:end]\n",
    "    return data\n",
    "end"
   ]
  },
  {
   "cell_type": "code",
   "execution_count": 20,
   "metadata": {},
   "outputs": [
    {
     "data": {
      "text/plain": [
       "lar_model_multivariate (generic function with 2 methods)"
      ]
     },
     "execution_count": 20,
     "metadata": {},
     "output_type": "execute_result"
    }
   ],
   "source": [
    "@model [ default_factorisation = MeanField() ] function lar_model_multivariate(T::Type{ Multivariate }, n, order, c, stype)\n",
    "    \n",
    "    γ  ~ GammaShapeRate(1.0, 1.0) \n",
    "    θ  ~ MvNormalMeanPrecision(zeros(order), diageye(order))\n",
    "    \n",
    "    # We create a sequence of random variables for hidden states\n",
    "    x   = randomvar(n)\n",
    "    # As well a sequence of observartions\n",
    "    y   = datavar(Float64, n)\n",
    "    \n",
    "    ct  = constvar(c)\n",
    "    γ_y = constvar(1.0)\n",
    "    \n",
    "    # Prior for first state\n",
    "    x0 ~ MvNormalMeanPrecision(zeros(order), diageye(order))\n",
    "    \n",
    "    x_prev = x0\n",
    "    \n",
    "    # AR process requires extra meta information\n",
    "    meta = ARMeta(Multivariate, order, stype)\n",
    "    \n",
    "    for i in 1:n\n",
    "        x[i] ~ AR(x_prev, θ, γ) where { q = q(y, x)q(γ)q(θ), meta = meta }\n",
    "        y[i] ~ NormalMeanPrecision(dot(ct, x[i]), γ_y)\n",
    "        x_prev = x[i]\n",
    "    end\n",
    "    \n",
    "    return x, y, θ, γ\n",
    "end"
   ]
  },
  {
   "cell_type": "code",
   "execution_count": 21,
   "metadata": {},
   "outputs": [
    {
     "data": {
      "text/plain": [
       "lar_model_univariate (generic function with 2 methods)"
      ]
     },
     "execution_count": 21,
     "metadata": {},
     "output_type": "execute_result"
    }
   ],
   "source": [
    "@model [ default_factorisation = MeanField() ] function lar_model_univariate(T::Type{Univariate}, n, order, c, stype)\n",
    "    \n",
    "    γ  ~ GammaShapeRate(1.0, 1.0)\n",
    "    θ  ~ NormalMeanPrecision(0.0, 1.0)\n",
    "    \n",
    "    # We create a sequence of random variables for hidden states\n",
    "    x   = randomvar(n)\n",
    "    # As well a sequence of observartions\n",
    "    y   = datavar(Float64, n)\n",
    "    \n",
    "    ct  = constvar(c)\n",
    "    γ_y = constvar(1.0)\n",
    "\n",
    "    # Prior for first state\n",
    "    x0 ~ NormalMeanPrecision(0.0, 1.0)\n",
    "    \n",
    "    x_prev = x0\n",
    "    \n",
    "    # AR process requires extra meta information\n",
    "    meta = ARMeta(Univariate, order, stype)\n",
    "    \n",
    "    for i in 1:n\n",
    "        x[i] ~ AR(x_prev, θ, γ) where { q = q(y, x)q(γ)q(θ), meta = meta }\n",
    "        y[i] ~ NormalMeanPrecision(dot(c, x[i]), γ_y)\n",
    "        x_prev = x[i]\n",
    "    end\n",
    "    \n",
    "    return x, y, θ, γ\n",
    "end"
   ]
  },
  {
   "cell_type": "code",
   "execution_count": 26,
   "metadata": {},
   "outputs": [
    {
     "data": {
      "text/plain": [
       "init_marginals! (generic function with 2 methods)"
      ]
     },
     "execution_count": 26,
     "metadata": {},
     "output_type": "execute_result"
    }
   ],
   "source": [
    "function init_marginals!(::Type{ Multivariate }, order, γ, θ)\n",
    "    setmarginal!(γ, GammaShapeRate(1.0, 1.0))\n",
    "    setmarginal!(θ, MvNormalMeanPrecision(zeros(order), diageye(order)))\n",
    "end\n",
    "\n",
    "function init_marginals!(::Type{ Univariate }, order, γ, θ)\n",
    "    setmarginal!(γ, GammaShapeRate(1.0, 1.0))\n",
    "    setmarginal!(θ, NormalMeanPrecision(0.0, 1.0))\n",
    "end"
   ]
  },
  {
   "cell_type": "code",
   "execution_count": 27,
   "metadata": {},
   "outputs": [
    {
     "data": {
      "text/plain": [
       "inference (generic function with 1 method)"
      ]
     },
     "execution_count": 27,
     "metadata": {},
     "output_type": "execute_result"
    }
   ],
   "source": [
    "function inference(data, order, artype, stype, niter)\n",
    "    \n",
    "    # We build a full graph based on number of observatios\n",
    "    n = length(data)\n",
    "    \n",
    "    # Depending on the order of AR process `c` is\n",
    "    # either a number or a vector\n",
    "    c = ReactiveMP.ar_unit(artype, order)\n",
    "    \n",
    "    model, (x, y, θ, γ) = lar_model(artype, n, order, c, stype)\n",
    "    \n",
    "    γ_buffer = nothing\n",
    "    θ_buffer = nothing\n",
    "    x_buffer = Vector{Marginal}(undef, n)\n",
    "    \n",
    "    fe = Vector{Float64}()\n",
    "    \n",
    "    γsub = subscribe!(getmarginal(γ), (mγ) -> γ_buffer = mγ)\n",
    "    θsub = subscribe!(getmarginal(θ), (mθ) -> θ_buffer = mθ)\n",
    "    xsub = subscribe!(getmarginals(x), (mx) -> copyto!(x_buffer, mx))\n",
    "    fesub = subscribe!(score(Float64, BetheFreeEnergy(), model), (f) -> push!(fe, f))\n",
    "    \n",
    "    init_marginals!(artype, order, γ, θ)\n",
    "    \n",
    "    for i in 1:niter\n",
    "        update!(y, data)\n",
    "    end\n",
    "    \n",
    "    unsubscribe!(γsub)\n",
    "    unsubscribe!(θsub)\n",
    "    unsubscribe!(xsub)\n",
    "    unsubscribe!(fesub)\n",
    "    \n",
    "    return γ_buffer, θ_buffer, x_buffer, fe\n",
    "end"
   ]
  },
  {
   "cell_type": "code",
   "execution_count": 61,
   "metadata": {},
   "outputs": [],
   "source": [
    "using Random\n",
    "Random.seed!(42)\n",
    "n = 100\n",
    "\n",
    "coefs = coefs_ar_5 # coefs_ar_1, coefs_ar_2, coefs_ar_5\n",
    "gen_ar_order = length(coefs)\n",
    "data = generateAR(n, coefs)\n",
    "hidden_states =  first.(data)\n",
    "observations = hidden_states .+ randn(length(hidden_states));"
   ]
  },
  {
   "cell_type": "code",
   "execution_count": 62,
   "metadata": {},
   "outputs": [],
   "source": [
    "# 200 ms 113.70MiB\n",
    "# 820 ms 517.17 MiB"
   ]
  },
  {
   "cell_type": "code",
   "execution_count": 158,
   "metadata": {},
   "outputs": [
    {
     "name": "stdout",
     "output_type": "stream",
     "text": [
      "last(fe) = 195.92059505068525\n"
     ]
    },
    {
     "data": {
      "text/plain": [
       "BenchmarkTools.Trial: 34 samples with 1 evaluation.\n",
       " Range \u001b[90m(\u001b[39m\u001b[36m\u001b[1mmin\u001b[22m\u001b[39m … \u001b[35mmax\u001b[39m\u001b[90m):  \u001b[39m\u001b[36m\u001b[1m142.005 ms\u001b[22m\u001b[39m … \u001b[35m164.138 ms\u001b[39m  \u001b[90m┊\u001b[39m GC \u001b[90m(\u001b[39mmin … max\u001b[90m): \u001b[39m12.40% … 11.31%\n",
       " Time  \u001b[90m(\u001b[39m\u001b[34m\u001b[1mmedian\u001b[22m\u001b[39m\u001b[90m):     \u001b[39m\u001b[34m\u001b[1m147.234 ms               \u001b[22m\u001b[39m\u001b[90m┊\u001b[39m GC \u001b[90m(\u001b[39mmedian\u001b[90m):    \u001b[39m11.73%\n",
       " Time  \u001b[90m(\u001b[39m\u001b[32m\u001b[1mmean\u001b[22m\u001b[39m ± \u001b[32mσ\u001b[39m\u001b[90m):   \u001b[39m\u001b[32m\u001b[1m149.028 ms\u001b[22m\u001b[39m ± \u001b[32m  5.760 ms\u001b[39m  \u001b[90m┊\u001b[39m GC \u001b[90m(\u001b[39mmean ± σ\u001b[90m):  \u001b[39m12.57% ±  2.51%\n",
       "\n",
       "  \u001b[39m▃\u001b[39m \u001b[39m \u001b[39m \u001b[39m \u001b[39m▃\u001b[39m \u001b[39m \u001b[39m \u001b[39m▃\u001b[39m▃\u001b[39m█\u001b[39m \u001b[39m▃\u001b[34m \u001b[39m\u001b[39m▃\u001b[39m▃\u001b[39m \u001b[39m \u001b[32m \u001b[39m\u001b[39m \u001b[39m \u001b[39m▃\u001b[39m \u001b[39m \u001b[39m \u001b[39m \u001b[39m \u001b[39m \u001b[39m \u001b[39m \u001b[39m \u001b[39m \u001b[39m \u001b[39m \u001b[39m \u001b[39m \u001b[39m \u001b[39m \u001b[39m \u001b[39m \u001b[39m \u001b[39m \u001b[39m \u001b[39m \u001b[39m \u001b[39m \u001b[39m \u001b[39m \u001b[39m \u001b[39m \u001b[39m \u001b[39m \u001b[39m \u001b[39m \u001b[39m \u001b[39m \u001b[39m \u001b[39m \u001b[39m \u001b[39m \u001b[39m \u001b[39m \n",
       "  \u001b[39m█\u001b[39m▁\u001b[39m▁\u001b[39m▇\u001b[39m▁\u001b[39m█\u001b[39m▇\u001b[39m▇\u001b[39m▁\u001b[39m█\u001b[39m█\u001b[39m█\u001b[39m▇\u001b[39m█\u001b[34m▇\u001b[39m\u001b[39m█\u001b[39m█\u001b[39m▇\u001b[39m▁\u001b[32m▁\u001b[39m\u001b[39m▁\u001b[39m▁\u001b[39m█\u001b[39m▁\u001b[39m▇\u001b[39m▁\u001b[39m▇\u001b[39m▁\u001b[39m▁\u001b[39m▁\u001b[39m▁\u001b[39m▇\u001b[39m▇\u001b[39m▁\u001b[39m▁\u001b[39m▇\u001b[39m▁\u001b[39m▁\u001b[39m▁\u001b[39m▁\u001b[39m▁\u001b[39m▁\u001b[39m▁\u001b[39m▁\u001b[39m▁\u001b[39m▁\u001b[39m▁\u001b[39m▁\u001b[39m▇\u001b[39m▁\u001b[39m▁\u001b[39m▁\u001b[39m▁\u001b[39m▁\u001b[39m▇\u001b[39m▁\u001b[39m▁\u001b[39m▇\u001b[39m▁\u001b[39m▁\u001b[39m▇\u001b[39m \u001b[39m▁\n",
       "  142 ms\u001b[90m           Histogram: frequency by time\u001b[39m          164 ms \u001b[0m\u001b[1m<\u001b[22m\n",
       "\n",
       " Memory estimate\u001b[90m: \u001b[39m\u001b[33m107.75 MiB\u001b[39m, allocs estimate\u001b[90m: \u001b[39m\u001b[33m1692136\u001b[39m."
      ]
     },
     "execution_count": 158,
     "metadata": {},
     "output_type": "execute_result"
    }
   ],
   "source": [
    "# Univariate AR MASTER\n",
    "ar_order = 1\n",
    "γ, θ, xs, fe = inference(observations, ar_order, Univariate, ARsafe(), 100);\n",
    "\n",
    "@show last(fe)\n",
    "\n",
    "@benchmark inference($observations, $ar_order, Univariate, ARsafe(), 100)"
   ]
  },
  {
   "cell_type": "code",
   "execution_count": 160,
   "metadata": {},
   "outputs": [
    {
     "name": "stdout",
     "output_type": "stream",
     "text": [
      "last(fe) = 195.92059505068525\n"
     ]
    },
    {
     "data": {
      "text/plain": [
       "BenchmarkTools.Trial: 38 samples with 1 evaluation.\n",
       " Range \u001b[90m(\u001b[39m\u001b[36m\u001b[1mmin\u001b[22m\u001b[39m … \u001b[35mmax\u001b[39m\u001b[90m):  \u001b[39m\u001b[36m\u001b[1m114.964 ms\u001b[22m\u001b[39m … \u001b[35m144.380 ms\u001b[39m  \u001b[90m┊\u001b[39m GC \u001b[90m(\u001b[39mmin … max\u001b[90m): \u001b[39m 0.00% … 12.31%\n",
       " Time  \u001b[90m(\u001b[39m\u001b[34m\u001b[1mmedian\u001b[22m\u001b[39m\u001b[90m):     \u001b[39m\u001b[34m\u001b[1m132.989 ms               \u001b[22m\u001b[39m\u001b[90m┊\u001b[39m GC \u001b[90m(\u001b[39mmedian\u001b[90m):    \u001b[39m12.44%\n",
       " Time  \u001b[90m(\u001b[39m\u001b[32m\u001b[1mmean\u001b[22m\u001b[39m ± \u001b[32mσ\u001b[39m\u001b[90m):   \u001b[39m\u001b[32m\u001b[1m133.747 ms\u001b[22m\u001b[39m ± \u001b[32m  5.405 ms\u001b[39m  \u001b[90m┊\u001b[39m GC \u001b[90m(\u001b[39mmean ± σ\u001b[90m):  \u001b[39m11.84% ±  2.84%\n",
       "\n",
       "  \u001b[39m \u001b[39m \u001b[39m \u001b[39m \u001b[39m \u001b[39m \u001b[39m \u001b[39m \u001b[39m \u001b[39m \u001b[39m \u001b[39m \u001b[39m \u001b[39m \u001b[39m \u001b[39m \u001b[39m \u001b[39m \u001b[39m \u001b[39m \u001b[39m \u001b[39m \u001b[39m \u001b[39m \u001b[39m \u001b[39m \u001b[39m \u001b[39m \u001b[39m \u001b[39m \u001b[39m \u001b[39m \u001b[39m \u001b[39m▂\u001b[39m \u001b[39m▂\u001b[39m \u001b[34m█\u001b[39m\u001b[39m \u001b[32m▂\u001b[39m\u001b[39m \u001b[39m \u001b[39m \u001b[39m \u001b[39m \u001b[39m \u001b[39m \u001b[39m \u001b[39m \u001b[39m \u001b[39m \u001b[39m \u001b[39m \u001b[39m \u001b[39m \u001b[39m \u001b[39m \u001b[39m \u001b[39m \u001b[39m \u001b[39m \u001b[39m \u001b[39m \n",
       "  \u001b[39m▅\u001b[39m▁\u001b[39m▁\u001b[39m▁\u001b[39m▁\u001b[39m▁\u001b[39m▁\u001b[39m▁\u001b[39m▅\u001b[39m▁\u001b[39m▁\u001b[39m▁\u001b[39m▁\u001b[39m▁\u001b[39m▁\u001b[39m▁\u001b[39m▁\u001b[39m▁\u001b[39m▁\u001b[39m▁\u001b[39m▁\u001b[39m▁\u001b[39m▁\u001b[39m▁\u001b[39m▁\u001b[39m▁\u001b[39m▁\u001b[39m▁\u001b[39m▁\u001b[39m▁\u001b[39m▁\u001b[39m█\u001b[39m█\u001b[39m█\u001b[39m▅\u001b[39m█\u001b[39m█\u001b[34m█\u001b[39m\u001b[39m▁\u001b[32m█\u001b[39m\u001b[39m▁\u001b[39m█\u001b[39m█\u001b[39m▅\u001b[39m▅\u001b[39m▁\u001b[39m█\u001b[39m▁\u001b[39m▅\u001b[39m▁\u001b[39m█\u001b[39m▅\u001b[39m▅\u001b[39m▁\u001b[39m▁\u001b[39m▁\u001b[39m▁\u001b[39m▁\u001b[39m▁\u001b[39m▅\u001b[39m▅\u001b[39m \u001b[39m▁\n",
       "  115 ms\u001b[90m           Histogram: frequency by time\u001b[39m          144 ms \u001b[0m\u001b[1m<\u001b[22m\n",
       "\n",
       " Memory estimate\u001b[90m: \u001b[39m\u001b[33m95.39 MiB\u001b[39m, allocs estimate\u001b[90m: \u001b[39m\u001b[33m1582136\u001b[39m."
      ]
     },
     "execution_count": 160,
     "metadata": {},
     "output_type": "execute_result"
    }
   ],
   "source": [
    "# Univariate AR BRANCH\n",
    "ar_order = 1\n",
    "γ, θ, xs, fe = inference(observations, ar_order, Univariate, ARsafe(), 100);\n",
    "\n",
    "@show last(fe)\n",
    "\n",
    "@benchmark inference($observations, $ar_order, Univariate, ARsafe(), 100)"
   ]
  },
  {
   "cell_type": "code",
   "execution_count": 159,
   "metadata": {},
   "outputs": [
    {
     "name": "stdout",
     "output_type": "stream",
     "text": [
      "last(fe) = 198.73666617687047\n"
     ]
    },
    {
     "data": {
      "text/plain": [
       "BenchmarkTools.Trial: 4 samples with 1 evaluation.\n",
       " Range \u001b[90m(\u001b[39m\u001b[36m\u001b[1mmin\u001b[22m\u001b[39m … \u001b[35mmax\u001b[39m\u001b[90m):  \u001b[39m\u001b[36m\u001b[1m1.426 s\u001b[22m\u001b[39m … \u001b[35m  1.512 s\u001b[39m  \u001b[90m┊\u001b[39m GC \u001b[90m(\u001b[39mmin … max\u001b[90m): \u001b[39m10.16% … 9.10%\n",
       " Time  \u001b[90m(\u001b[39m\u001b[34m\u001b[1mmedian\u001b[22m\u001b[39m\u001b[90m):     \u001b[39m\u001b[34m\u001b[1m1.467 s              \u001b[22m\u001b[39m\u001b[90m┊\u001b[39m GC \u001b[90m(\u001b[39mmedian\u001b[90m):    \u001b[39m10.07%\n",
       " Time  \u001b[90m(\u001b[39m\u001b[32m\u001b[1mmean\u001b[22m\u001b[39m ± \u001b[32mσ\u001b[39m\u001b[90m):   \u001b[39m\u001b[32m\u001b[1m1.468 s\u001b[22m\u001b[39m ± \u001b[32m39.997 ms\u001b[39m  \u001b[90m┊\u001b[39m GC \u001b[90m(\u001b[39mmean ± σ\u001b[90m):  \u001b[39m10.03% ± 0.70%\n",
       "\n",
       "  \u001b[39m█\u001b[39m \u001b[39m \u001b[39m \u001b[39m \u001b[39m \u001b[39m \u001b[39m \u001b[39m \u001b[39m \u001b[39m \u001b[39m█\u001b[34m \u001b[39m\u001b[39m \u001b[39m \u001b[39m \u001b[39m \u001b[39m \u001b[39m \u001b[39m \u001b[39m \u001b[39m \u001b[39m \u001b[39m \u001b[39m \u001b[39m \u001b[39m \u001b[39m \u001b[32m \u001b[39m\u001b[39m \u001b[39m \u001b[39m \u001b[39m \u001b[39m \u001b[39m \u001b[39m \u001b[39m \u001b[39m \u001b[39m \u001b[39m \u001b[39m \u001b[39m \u001b[39m█\u001b[39m \u001b[39m \u001b[39m \u001b[39m \u001b[39m \u001b[39m \u001b[39m \u001b[39m \u001b[39m \u001b[39m \u001b[39m \u001b[39m \u001b[39m \u001b[39m█\u001b[39m \u001b[39m \n",
       "  \u001b[39m█\u001b[39m▁\u001b[39m▁\u001b[39m▁\u001b[39m▁\u001b[39m▁\u001b[39m▁\u001b[39m▁\u001b[39m▁\u001b[39m▁\u001b[39m▁\u001b[39m█\u001b[34m▁\u001b[39m\u001b[39m▁\u001b[39m▁\u001b[39m▁\u001b[39m▁\u001b[39m▁\u001b[39m▁\u001b[39m▁\u001b[39m▁\u001b[39m▁\u001b[39m▁\u001b[39m▁\u001b[39m▁\u001b[39m▁\u001b[39m▁\u001b[39m▁\u001b[32m▁\u001b[39m\u001b[39m▁\u001b[39m▁\u001b[39m▁\u001b[39m▁\u001b[39m▁\u001b[39m▁\u001b[39m▁\u001b[39m▁\u001b[39m▁\u001b[39m▁\u001b[39m▁\u001b[39m▁\u001b[39m▁\u001b[39m█\u001b[39m▁\u001b[39m▁\u001b[39m▁\u001b[39m▁\u001b[39m▁\u001b[39m▁\u001b[39m▁\u001b[39m▁\u001b[39m▁\u001b[39m▁\u001b[39m▁\u001b[39m▁\u001b[39m▁\u001b[39m█\u001b[39m \u001b[39m▁\n",
       "  1.43 s\u001b[90m         Histogram: frequency by time\u001b[39m        1.51 s \u001b[0m\u001b[1m<\u001b[22m\n",
       "\n",
       " Memory estimate\u001b[90m: \u001b[39m\u001b[33m1011.30 MiB\u001b[39m, allocs estimate\u001b[90m: \u001b[39m\u001b[33m6059980\u001b[39m."
      ]
     },
     "execution_count": 159,
     "metadata": {},
     "output_type": "execute_result"
    }
   ],
   "source": [
    "# Multivariate AR MASTER\n",
    "ar_order = gen_ar_order\n",
    "γ, θ, xs, fe = inference(observations, ar_order, Multivariate, ARsafe(), 100);\n",
    "\n",
    "@show last(fe)\n",
    "\n",
    "@benchmark inference($observations, $ar_order, Multivariate, ARsafe(), 100)"
   ]
  },
  {
   "cell_type": "code",
   "execution_count": 161,
   "metadata": {},
   "outputs": [
    {
     "name": "stdout",
     "output_type": "stream",
     "text": [
      "last(fe) = 198.73666617687047\n"
     ]
    },
    {
     "data": {
      "text/plain": [
       "BenchmarkTools.Trial: 6 samples with 1 evaluation.\n",
       " Range \u001b[90m(\u001b[39m\u001b[36m\u001b[1mmin\u001b[22m\u001b[39m … \u001b[35mmax\u001b[39m\u001b[90m):  \u001b[39m\u001b[36m\u001b[1m837.405 ms\u001b[22m\u001b[39m … \u001b[35m948.178 ms\u001b[39m  \u001b[90m┊\u001b[39m GC \u001b[90m(\u001b[39mmin … max\u001b[90m): \u001b[39m 9.85% … 9.55%\n",
       " Time  \u001b[90m(\u001b[39m\u001b[34m\u001b[1mmedian\u001b[22m\u001b[39m\u001b[90m):     \u001b[39m\u001b[34m\u001b[1m905.578 ms               \u001b[22m\u001b[39m\u001b[90m┊\u001b[39m GC \u001b[90m(\u001b[39mmedian\u001b[90m):    \u001b[39m10.28%\n",
       " Time  \u001b[90m(\u001b[39m\u001b[32m\u001b[1mmean\u001b[22m\u001b[39m ± \u001b[32mσ\u001b[39m\u001b[90m):   \u001b[39m\u001b[32m\u001b[1m893.863 ms\u001b[22m\u001b[39m ± \u001b[32m 45.020 ms\u001b[39m  \u001b[90m┊\u001b[39m GC \u001b[90m(\u001b[39mmean ± σ\u001b[90m):  \u001b[39m10.33% ± 0.62%\n",
       "\n",
       "  \u001b[39m█\u001b[39m \u001b[39m█\u001b[39m \u001b[39m \u001b[39m \u001b[39m \u001b[39m \u001b[39m \u001b[39m \u001b[39m \u001b[39m \u001b[39m \u001b[39m \u001b[39m \u001b[39m \u001b[39m \u001b[39m \u001b[39m \u001b[39m \u001b[39m \u001b[39m \u001b[39m \u001b[39m \u001b[39m \u001b[39m \u001b[39m \u001b[39m \u001b[39m \u001b[39m \u001b[39m \u001b[32m \u001b[39m\u001b[39m \u001b[39m \u001b[39m \u001b[39m \u001b[39m█\u001b[34m \u001b[39m\u001b[39m█\u001b[39m \u001b[39m \u001b[39m \u001b[39m \u001b[39m \u001b[39m \u001b[39m \u001b[39m \u001b[39m \u001b[39m█\u001b[39m \u001b[39m \u001b[39m \u001b[39m \u001b[39m \u001b[39m \u001b[39m \u001b[39m \u001b[39m \u001b[39m \u001b[39m \u001b[39m█\u001b[39m \u001b[39m \n",
       "  \u001b[39m█\u001b[39m▁\u001b[39m█\u001b[39m▁\u001b[39m▁\u001b[39m▁\u001b[39m▁\u001b[39m▁\u001b[39m▁\u001b[39m▁\u001b[39m▁\u001b[39m▁\u001b[39m▁\u001b[39m▁\u001b[39m▁\u001b[39m▁\u001b[39m▁\u001b[39m▁\u001b[39m▁\u001b[39m▁\u001b[39m▁\u001b[39m▁\u001b[39m▁\u001b[39m▁\u001b[39m▁\u001b[39m▁\u001b[39m▁\u001b[39m▁\u001b[39m▁\u001b[39m▁\u001b[39m▁\u001b[32m▁\u001b[39m\u001b[39m▁\u001b[39m▁\u001b[39m▁\u001b[39m▁\u001b[39m█\u001b[34m▁\u001b[39m\u001b[39m█\u001b[39m▁\u001b[39m▁\u001b[39m▁\u001b[39m▁\u001b[39m▁\u001b[39m▁\u001b[39m▁\u001b[39m▁\u001b[39m▁\u001b[39m█\u001b[39m▁\u001b[39m▁\u001b[39m▁\u001b[39m▁\u001b[39m▁\u001b[39m▁\u001b[39m▁\u001b[39m▁\u001b[39m▁\u001b[39m▁\u001b[39m▁\u001b[39m█\u001b[39m \u001b[39m▁\n",
       "  837 ms\u001b[90m           Histogram: frequency by time\u001b[39m          948 ms \u001b[0m\u001b[1m<\u001b[22m\n",
       "\n",
       " Memory estimate\u001b[90m: \u001b[39m\u001b[33m599.50 MiB\u001b[39m, allocs estimate\u001b[90m: \u001b[39m\u001b[33m4287871\u001b[39m."
      ]
     },
     "execution_count": 161,
     "metadata": {},
     "output_type": "execute_result"
    }
   ],
   "source": [
    "# Multivariate AR Branch\n",
    "ar_order = gen_ar_order\n",
    "γ, θ, xs, fe = inference(observations, ar_order, Multivariate, ARsafe(), 100);\n",
    "\n",
    "@show last(fe)\n",
    "\n",
    "@benchmark inference($observations, $ar_order, Multivariate, ARsafe(), 100)"
   ]
  },
  {
   "cell_type": "code",
   "execution_count": 162,
   "metadata": {},
   "outputs": [],
   "source": [
    "# Extract inferred parameters\n",
    "mx, vx = mean.(xs), cov.(xs)\n",
    "mx = first.(mx)\n",
    "vx = first.(vx)\n",
    "mθ = mean(θ)\n",
    "vθ = cov(θ)\n",
    "mγ = mean(γ);"
   ]
  },
  {
   "cell_type": "code",
   "execution_count": 163,
   "metadata": {},
   "outputs": [
    {
     "data": {
      "image/svg+xml": [
       "<?xml version=\"1.0\" encoding=\"utf-8\"?>\n",
       "<svg xmlns=\"http://www.w3.org/2000/svg\" xmlns:xlink=\"http://www.w3.org/1999/xlink\" width=\"600\" height=\"400\" viewBox=\"0 0 2400 1600\">\n",
       "<defs>\n",
       "  <clipPath id=\"clip010\">\n",
       "    <rect x=\"0\" y=\"0\" width=\"2400\" height=\"1600\"/>\n",
       "  </clipPath>\n",
       "</defs>\n",
       "<path clip-path=\"url(#clip010)\" d=\"\n",
       "M0 1600 L2400 1600 L2400 0 L0 0  Z\n",
       "  \" fill=\"#ffffff\" fill-rule=\"evenodd\" fill-opacity=\"1\"/>\n",
       "<defs>\n",
       "  <clipPath id=\"clip011\">\n",
       "    <rect x=\"480\" y=\"0\" width=\"1681\" height=\"1600\"/>\n",
       "  </clipPath>\n",
       "</defs>\n",
       "<path clip-path=\"url(#clip010)\" d=\"\n",
       "M170.857 686.448 L2352.76 686.448 L2352.76 47.2441 L170.857 47.2441  Z\n",
       "  \" fill=\"#ffffff\" fill-rule=\"evenodd\" fill-opacity=\"1\"/>\n",
       "<defs>\n",
       "  <clipPath id=\"clip012\">\n",
       "    <rect x=\"170\" y=\"47\" width=\"2183\" height=\"640\"/>\n",
       "  </clipPath>\n",
       "</defs>\n",
       "<polyline clip-path=\"url(#clip012)\" style=\"stroke:#000000; stroke-linecap:butt; stroke-linejoin:round; stroke-width:2; stroke-opacity:0.1; fill:none\" points=\"\n",
       "  211.817,686.448 211.817,47.2441 \n",
       "  \"/>\n",
       "<polyline clip-path=\"url(#clip012)\" style=\"stroke:#000000; stroke-linecap:butt; stroke-linejoin:round; stroke-width:2; stroke-opacity:0.1; fill:none\" points=\"\n",
       "  731.614,686.448 731.614,47.2441 \n",
       "  \"/>\n",
       "<polyline clip-path=\"url(#clip012)\" style=\"stroke:#000000; stroke-linecap:butt; stroke-linejoin:round; stroke-width:2; stroke-opacity:0.1; fill:none\" points=\"\n",
       "  1251.41,686.448 1251.41,47.2441 \n",
       "  \"/>\n",
       "<polyline clip-path=\"url(#clip012)\" style=\"stroke:#000000; stroke-linecap:butt; stroke-linejoin:round; stroke-width:2; stroke-opacity:0.1; fill:none\" points=\"\n",
       "  1771.21,686.448 1771.21,47.2441 \n",
       "  \"/>\n",
       "<polyline clip-path=\"url(#clip012)\" style=\"stroke:#000000; stroke-linecap:butt; stroke-linejoin:round; stroke-width:2; stroke-opacity:0.1; fill:none\" points=\"\n",
       "  2291,686.448 2291,47.2441 \n",
       "  \"/>\n",
       "<polyline clip-path=\"url(#clip010)\" style=\"stroke:#000000; stroke-linecap:butt; stroke-linejoin:round; stroke-width:4; stroke-opacity:1; fill:none\" points=\"\n",
       "  170.857,686.448 2352.76,686.448 \n",
       "  \"/>\n",
       "<polyline clip-path=\"url(#clip010)\" style=\"stroke:#000000; stroke-linecap:butt; stroke-linejoin:round; stroke-width:4; stroke-opacity:1; fill:none\" points=\"\n",
       "  211.817,686.448 211.817,667.55 \n",
       "  \"/>\n",
       "<polyline clip-path=\"url(#clip010)\" style=\"stroke:#000000; stroke-linecap:butt; stroke-linejoin:round; stroke-width:4; stroke-opacity:1; fill:none\" points=\"\n",
       "  731.614,686.448 731.614,667.55 \n",
       "  \"/>\n",
       "<polyline clip-path=\"url(#clip010)\" style=\"stroke:#000000; stroke-linecap:butt; stroke-linejoin:round; stroke-width:4; stroke-opacity:1; fill:none\" points=\"\n",
       "  1251.41,686.448 1251.41,667.55 \n",
       "  \"/>\n",
       "<polyline clip-path=\"url(#clip010)\" style=\"stroke:#000000; stroke-linecap:butt; stroke-linejoin:round; stroke-width:4; stroke-opacity:1; fill:none\" points=\"\n",
       "  1771.21,686.448 1771.21,667.55 \n",
       "  \"/>\n",
       "<polyline clip-path=\"url(#clip010)\" style=\"stroke:#000000; stroke-linecap:butt; stroke-linejoin:round; stroke-width:4; stroke-opacity:1; fill:none\" points=\"\n",
       "  2291,686.448 2291,667.55 \n",
       "  \"/>\n",
       "<path clip-path=\"url(#clip010)\" d=\"M211.817 717.367 Q208.206 717.367 206.378 720.931 Q204.572 724.473 204.572 731.603 Q204.572 738.709 206.378 742.274 Q208.206 745.815 211.817 745.815 Q215.452 745.815 217.257 742.274 Q219.086 738.709 219.086 731.603 Q219.086 724.473 217.257 720.931 Q215.452 717.367 211.817 717.367 M211.817 713.663 Q217.628 713.663 220.683 718.269 Q223.762 722.853 223.762 731.603 Q223.762 740.329 220.683 744.936 Q217.628 749.519 211.817 749.519 Q206.007 749.519 202.929 744.936 Q199.873 740.329 199.873 731.603 Q199.873 722.853 202.929 718.269 Q206.007 713.663 211.817 713.663 Z\" fill=\"#000000\" fill-rule=\"evenodd\" fill-opacity=\"1\" /><path clip-path=\"url(#clip010)\" d=\"M710.885 744.913 L727.204 744.913 L727.204 748.848 L705.26 748.848 L705.26 744.913 Q707.922 742.158 712.505 737.528 Q717.112 732.876 718.292 731.533 Q720.538 729.01 721.417 727.274 Q722.32 725.515 722.32 723.825 Q722.32 721.07 720.376 719.334 Q718.454 717.598 715.353 717.598 Q713.154 717.598 710.7 718.362 Q708.269 719.126 705.492 720.677 L705.492 715.955 Q708.316 714.82 710.769 714.242 Q713.223 713.663 715.26 713.663 Q720.63 713.663 723.825 716.348 Q727.019 719.033 727.019 723.524 Q727.019 725.654 726.209 727.575 Q725.422 729.473 723.315 732.066 Q722.737 732.737 719.635 735.954 Q716.533 739.149 710.885 744.913 Z\" fill=\"#000000\" fill-rule=\"evenodd\" fill-opacity=\"1\" /><path clip-path=\"url(#clip010)\" d=\"M737.065 714.288 L755.422 714.288 L755.422 718.223 L741.348 718.223 L741.348 726.695 Q742.366 726.348 743.385 726.186 Q744.403 726.001 745.422 726.001 Q751.209 726.001 754.588 729.172 Q757.968 732.343 757.968 737.76 Q757.968 743.339 754.496 746.44 Q751.024 749.519 744.704 749.519 Q742.528 749.519 740.26 749.149 Q738.014 748.778 735.607 748.038 L735.607 743.339 Q737.69 744.473 739.913 745.028 Q742.135 745.584 744.612 745.584 Q748.616 745.584 750.954 743.478 Q753.292 741.371 753.292 737.76 Q753.292 734.149 750.954 732.042 Q748.616 729.936 744.612 729.936 Q742.737 729.936 740.862 730.353 Q739.01 730.769 737.065 731.649 L737.065 714.288 Z\" fill=\"#000000\" fill-rule=\"evenodd\" fill-opacity=\"1\" /><path clip-path=\"url(#clip010)\" d=\"M1226.11 714.288 L1244.47 714.288 L1244.47 718.223 L1230.39 718.223 L1230.39 726.695 Q1231.41 726.348 1232.43 726.186 Q1233.45 726.001 1234.47 726.001 Q1240.25 726.001 1243.63 729.172 Q1247.01 732.343 1247.01 737.76 Q1247.01 743.339 1243.54 746.44 Q1240.07 749.519 1233.75 749.519 Q1231.57 749.519 1229.3 749.149 Q1227.06 748.778 1224.65 748.038 L1224.65 743.339 Q1226.73 744.473 1228.96 745.028 Q1231.18 745.584 1233.66 745.584 Q1237.66 745.584 1240 743.478 Q1242.34 741.371 1242.34 737.76 Q1242.34 734.149 1240 732.042 Q1237.66 729.936 1233.66 729.936 Q1231.78 729.936 1229.91 730.353 Q1228.05 730.769 1226.11 731.649 L1226.11 714.288 Z\" fill=\"#000000\" fill-rule=\"evenodd\" fill-opacity=\"1\" /><path clip-path=\"url(#clip010)\" d=\"M1266.23 717.367 Q1262.61 717.367 1260.79 720.931 Q1258.98 724.473 1258.98 731.603 Q1258.98 738.709 1260.79 742.274 Q1262.61 745.815 1266.23 745.815 Q1269.86 745.815 1271.67 742.274 Q1273.49 738.709 1273.49 731.603 Q1273.49 724.473 1271.67 720.931 Q1269.86 717.367 1266.23 717.367 M1266.23 713.663 Q1272.04 713.663 1275.09 718.269 Q1278.17 722.853 1278.17 731.603 Q1278.17 740.329 1275.09 744.936 Q1272.04 749.519 1266.23 749.519 Q1260.42 749.519 1257.34 744.936 Q1254.28 740.329 1254.28 731.603 Q1254.28 722.853 1257.34 718.269 Q1260.42 713.663 1266.23 713.663 Z\" fill=\"#000000\" fill-rule=\"evenodd\" fill-opacity=\"1\" /><path clip-path=\"url(#clip010)\" d=\"M1745.06 714.288 L1767.28 714.288 L1767.28 716.279 L1754.74 748.848 L1749.85 748.848 L1761.66 718.223 L1745.06 718.223 L1745.06 714.288 Z\" fill=\"#000000\" fill-rule=\"evenodd\" fill-opacity=\"1\" /><path clip-path=\"url(#clip010)\" d=\"M1776.45 714.288 L1794.81 714.288 L1794.81 718.223 L1780.73 718.223 L1780.73 726.695 Q1781.75 726.348 1782.77 726.186 Q1783.79 726.001 1784.81 726.001 Q1790.59 726.001 1793.97 729.172 Q1797.35 732.343 1797.35 737.76 Q1797.35 743.339 1793.88 746.44 Q1790.41 749.519 1784.09 749.519 Q1781.91 749.519 1779.64 749.149 Q1777.4 748.778 1774.99 748.038 L1774.99 743.339 Q1777.08 744.473 1779.3 745.028 Q1781.52 745.584 1784 745.584 Q1788 745.584 1790.34 743.478 Q1792.68 741.371 1792.68 737.76 Q1792.68 734.149 1790.34 732.042 Q1788 729.936 1784 729.936 Q1782.12 729.936 1780.25 730.353 Q1778.39 730.769 1776.45 731.649 L1776.45 714.288 Z\" fill=\"#000000\" fill-rule=\"evenodd\" fill-opacity=\"1\" /><path clip-path=\"url(#clip010)\" d=\"M2250.61 744.913 L2258.25 744.913 L2258.25 718.547 L2249.94 720.214 L2249.94 715.955 L2258.2 714.288 L2262.88 714.288 L2262.88 744.913 L2270.52 744.913 L2270.52 748.848 L2250.61 748.848 L2250.61 744.913 Z\" fill=\"#000000\" fill-rule=\"evenodd\" fill-opacity=\"1\" /><path clip-path=\"url(#clip010)\" d=\"M2289.96 717.367 Q2286.35 717.367 2284.52 720.931 Q2282.72 724.473 2282.72 731.603 Q2282.72 738.709 2284.52 742.274 Q2286.35 745.815 2289.96 745.815 Q2293.6 745.815 2295.4 742.274 Q2297.23 738.709 2297.23 731.603 Q2297.23 724.473 2295.4 720.931 Q2293.6 717.367 2289.96 717.367 M2289.96 713.663 Q2295.77 713.663 2298.83 718.269 Q2301.91 722.853 2301.91 731.603 Q2301.91 740.329 2298.83 744.936 Q2295.77 749.519 2289.96 749.519 Q2284.15 749.519 2281.07 744.936 Q2278.02 740.329 2278.02 731.603 Q2278.02 722.853 2281.07 718.269 Q2284.15 713.663 2289.96 713.663 Z\" fill=\"#000000\" fill-rule=\"evenodd\" fill-opacity=\"1\" /><path clip-path=\"url(#clip010)\" d=\"M2320.12 717.367 Q2316.51 717.367 2314.68 720.931 Q2312.88 724.473 2312.88 731.603 Q2312.88 738.709 2314.68 742.274 Q2316.51 745.815 2320.12 745.815 Q2323.76 745.815 2325.56 742.274 Q2327.39 738.709 2327.39 731.603 Q2327.39 724.473 2325.56 720.931 Q2323.76 717.367 2320.12 717.367 M2320.12 713.663 Q2325.93 713.663 2328.99 718.269 Q2332.07 722.853 2332.07 731.603 Q2332.07 740.329 2328.99 744.936 Q2325.93 749.519 2320.12 749.519 Q2314.31 749.519 2311.24 744.936 Q2308.18 740.329 2308.18 731.603 Q2308.18 722.853 2311.24 718.269 Q2314.31 713.663 2320.12 713.663 Z\" fill=\"#000000\" fill-rule=\"evenodd\" fill-opacity=\"1\" /><polyline clip-path=\"url(#clip012)\" style=\"stroke:#000000; stroke-linecap:butt; stroke-linejoin:round; stroke-width:2; stroke-opacity:0.1; fill:none\" points=\"\n",
       "  170.857,600.263 2352.76,600.263 \n",
       "  \"/>\n",
       "<polyline clip-path=\"url(#clip012)\" style=\"stroke:#000000; stroke-linecap:butt; stroke-linejoin:round; stroke-width:2; stroke-opacity:0.1; fill:none\" points=\"\n",
       "  170.857,477.069 2352.76,477.069 \n",
       "  \"/>\n",
       "<polyline clip-path=\"url(#clip012)\" style=\"stroke:#000000; stroke-linecap:butt; stroke-linejoin:round; stroke-width:2; stroke-opacity:0.1; fill:none\" points=\"\n",
       "  170.857,353.875 2352.76,353.875 \n",
       "  \"/>\n",
       "<polyline clip-path=\"url(#clip012)\" style=\"stroke:#000000; stroke-linecap:butt; stroke-linejoin:round; stroke-width:2; stroke-opacity:0.1; fill:none\" points=\"\n",
       "  170.857,230.682 2352.76,230.682 \n",
       "  \"/>\n",
       "<polyline clip-path=\"url(#clip012)\" style=\"stroke:#000000; stroke-linecap:butt; stroke-linejoin:round; stroke-width:2; stroke-opacity:0.1; fill:none\" points=\"\n",
       "  170.857,107.488 2352.76,107.488 \n",
       "  \"/>\n",
       "<polyline clip-path=\"url(#clip010)\" style=\"stroke:#000000; stroke-linecap:butt; stroke-linejoin:round; stroke-width:4; stroke-opacity:1; fill:none\" points=\"\n",
       "  170.857,686.448 170.857,47.2441 \n",
       "  \"/>\n",
       "<polyline clip-path=\"url(#clip010)\" style=\"stroke:#000000; stroke-linecap:butt; stroke-linejoin:round; stroke-width:4; stroke-opacity:1; fill:none\" points=\"\n",
       "  170.857,600.263 189.755,600.263 \n",
       "  \"/>\n",
       "<polyline clip-path=\"url(#clip010)\" style=\"stroke:#000000; stroke-linecap:butt; stroke-linejoin:round; stroke-width:4; stroke-opacity:1; fill:none\" points=\"\n",
       "  170.857,477.069 189.755,477.069 \n",
       "  \"/>\n",
       "<polyline clip-path=\"url(#clip010)\" style=\"stroke:#000000; stroke-linecap:butt; stroke-linejoin:round; stroke-width:4; stroke-opacity:1; fill:none\" points=\"\n",
       "  170.857,353.875 189.755,353.875 \n",
       "  \"/>\n",
       "<polyline clip-path=\"url(#clip010)\" style=\"stroke:#000000; stroke-linecap:butt; stroke-linejoin:round; stroke-width:4; stroke-opacity:1; fill:none\" points=\"\n",
       "  170.857,230.682 189.755,230.682 \n",
       "  \"/>\n",
       "<polyline clip-path=\"url(#clip010)\" style=\"stroke:#000000; stroke-linecap:butt; stroke-linejoin:round; stroke-width:4; stroke-opacity:1; fill:none\" points=\"\n",
       "  170.857,107.488 189.755,107.488 \n",
       "  \"/>\n",
       "<path clip-path=\"url(#clip010)\" d=\"M72.6587 600.715 L102.334 600.715 L102.334 604.65 L72.6587 604.65 L72.6587 600.715 Z\" fill=\"#000000\" fill-rule=\"evenodd\" fill-opacity=\"1\" /><path clip-path=\"url(#clip010)\" d=\"M125.274 587.057 L113.469 605.506 L125.274 605.506 L125.274 587.057 M124.047 582.983 L129.927 582.983 L129.927 605.506 L134.857 605.506 L134.857 609.395 L129.927 609.395 L129.927 617.543 L125.274 617.543 L125.274 609.395 L109.672 609.395 L109.672 604.881 L124.047 582.983 Z\" fill=\"#000000\" fill-rule=\"evenodd\" fill-opacity=\"1\" /><path clip-path=\"url(#clip010)\" d=\"M74.742 477.521 L104.418 477.521 L104.418 481.456 L74.742 481.456 L74.742 477.521 Z\" fill=\"#000000\" fill-rule=\"evenodd\" fill-opacity=\"1\" /><path clip-path=\"url(#clip010)\" d=\"M118.538 490.414 L134.857 490.414 L134.857 494.349 L112.913 494.349 L112.913 490.414 Q115.575 487.66 120.158 483.03 Q124.765 478.377 125.945 477.035 Q128.191 474.512 129.07 472.775 Q129.973 471.016 129.973 469.326 Q129.973 466.572 128.029 464.836 Q126.107 463.1 123.006 463.1 Q120.807 463.1 118.353 463.863 Q115.922 464.627 113.145 466.178 L113.145 461.456 Q115.969 460.322 118.422 459.743 Q120.876 459.164 122.913 459.164 Q128.283 459.164 131.478 461.85 Q134.672 464.535 134.672 469.025 Q134.672 471.155 133.862 473.076 Q133.075 474.974 130.969 477.567 Q130.39 478.238 127.288 481.456 Q124.186 484.65 118.538 490.414 Z\" fill=\"#000000\" fill-rule=\"evenodd\" fill-opacity=\"1\" /><path clip-path=\"url(#clip010)\" d=\"M122.913 339.674 Q119.302 339.674 117.473 343.239 Q115.668 346.781 115.668 353.91 Q115.668 361.017 117.473 364.581 Q119.302 368.123 122.913 368.123 Q126.547 368.123 128.353 364.581 Q130.182 361.017 130.182 353.91 Q130.182 346.781 128.353 343.239 Q126.547 339.674 122.913 339.674 M122.913 335.97 Q128.723 335.97 131.779 340.577 Q134.857 345.16 134.857 353.91 Q134.857 362.637 131.779 367.243 Q128.723 371.827 122.913 371.827 Q117.103 371.827 114.024 367.243 Q110.969 362.637 110.969 353.91 Q110.969 345.16 114.024 340.577 Q117.103 335.97 122.913 335.97 Z\" fill=\"#000000\" fill-rule=\"evenodd\" fill-opacity=\"1\" /><path clip-path=\"url(#clip010)\" d=\"M118.538 244.026 L134.857 244.026 L134.857 247.962 L112.913 247.962 L112.913 244.026 Q115.575 241.272 120.158 236.642 Q124.765 231.989 125.945 230.647 Q128.191 228.124 129.07 226.388 Q129.973 224.628 129.973 222.939 Q129.973 220.184 128.029 218.448 Q126.107 216.712 123.006 216.712 Q120.807 216.712 118.353 217.476 Q115.922 218.239 113.145 219.79 L113.145 215.068 Q115.969 213.934 118.422 213.355 Q120.876 212.777 122.913 212.777 Q128.283 212.777 131.478 215.462 Q134.672 218.147 134.672 222.638 Q134.672 224.767 133.862 226.689 Q133.075 228.587 130.969 231.179 Q130.39 231.851 127.288 235.068 Q124.186 238.263 118.538 244.026 Z\" fill=\"#000000\" fill-rule=\"evenodd\" fill-opacity=\"1\" /><path clip-path=\"url(#clip010)\" d=\"M125.274 94.2817 L113.469 112.731 L125.274 112.731 L125.274 94.2817 M124.047 90.2076 L129.927 90.2076 L129.927 112.731 L134.857 112.731 L134.857 116.62 L129.927 116.62 L129.927 124.768 L125.274 124.768 L125.274 116.62 L109.672 116.62 L109.672 112.106 L124.047 90.2076 Z\" fill=\"#000000\" fill-rule=\"evenodd\" fill-opacity=\"1\" /><polyline clip-path=\"url(#clip012)\" style=\"stroke:#009af9; stroke-linecap:butt; stroke-linejoin:round; stroke-width:4; stroke-opacity:1; fill:none\" points=\"\n",
       "  232.609,339.44 253.401,444.656 274.193,330.301 294.985,315.614 315.777,439.981 336.569,625.5 357.36,307.158 378.152,324.091 398.944,461.518 419.736,308.59 \n",
       "  440.528,328.225 461.32,372.132 482.112,326.265 502.904,320.557 523.695,326.807 544.487,435.878 565.279,388.468 586.071,245.596 606.863,306.337 627.655,407.322 \n",
       "  648.447,316.626 669.238,218.511 690.03,391.69 710.822,355.238 731.614,300.855 752.406,429.888 773.198,308.713 793.99,198.465 814.782,363.241 835.573,416.173 \n",
       "  856.365,409.11 877.157,332.171 897.949,243.951 918.741,389.155 939.533,430.055 960.325,357.128 981.116,286.374 1001.91,332.855 1022.7,391.569 1043.49,317.499 \n",
       "  1064.28,386.246 1085.08,484.256 1105.87,355.851 1126.66,305.346 1147.45,358.905 1168.24,357.886 1189.04,408.908 1209.83,490.704 1230.62,345.127 1251.41,334.208 \n",
       "  1272.2,482.37 1292.99,365.672 1313.79,324.427 1334.58,311.707 1355.37,356.21 1376.16,381.492 1396.95,340.653 1417.75,403.185 1438.54,439.272 1459.33,244.197 \n",
       "  1480.12,322.145 1500.91,445.619 1521.7,427.752 1542.5,187.183 1563.29,308.61 1584.08,419.442 1604.87,315.916 1625.66,440.284 1646.46,446.449 1667.25,346.862 \n",
       "  1688.04,469.049 1708.83,369.862 1729.62,94.6699 1750.42,411.095 1771.21,515.423 1792,245.939 1812.79,306.849 1833.58,412.135 1854.37,370.333 1875.17,413.671 \n",
       "  1895.96,444.04 1916.75,278.63 1937.54,327.707 1958.33,427.583 1979.13,365.671 1999.92,339.358 2020.71,315.882 2041.5,255.995 2062.29,383.575 2083.09,424.114 \n",
       "  2103.88,364.926 2124.67,330.588 2145.46,435.803 2166.25,305.069 2187.04,443.896 2207.84,462.205 2228.63,371.256 2249.42,309.373 2270.21,310.526 2291,201.264 \n",
       "  \n",
       "  \"/>\n",
       "<circle clip-path=\"url(#clip012)\" cx=\"232.609\" cy=\"310.635\" r=\"14\" fill=\"#e26f46\" fill-rule=\"evenodd\" fill-opacity=\"1\" stroke=\"#000000\" stroke-opacity=\"1\" stroke-width=\"3.2\"/>\n",
       "<circle clip-path=\"url(#clip012)\" cx=\"253.401\" cy=\"449.621\" r=\"14\" fill=\"#e26f46\" fill-rule=\"evenodd\" fill-opacity=\"1\" stroke=\"#000000\" stroke-opacity=\"1\" stroke-width=\"3.2\"/>\n",
       "<circle clip-path=\"url(#clip012)\" cx=\"274.193\" cy=\"325.399\" r=\"14\" fill=\"#e26f46\" fill-rule=\"evenodd\" fill-opacity=\"1\" stroke=\"#000000\" stroke-opacity=\"1\" stroke-width=\"3.2\"/>\n",
       "<circle clip-path=\"url(#clip012)\" cx=\"294.985\" cy=\"337.943\" r=\"14\" fill=\"#e26f46\" fill-rule=\"evenodd\" fill-opacity=\"1\" stroke=\"#000000\" stroke-opacity=\"1\" stroke-width=\"3.2\"/>\n",
       "<circle clip-path=\"url(#clip012)\" cx=\"315.777\" cy=\"482.38\" r=\"14\" fill=\"#e26f46\" fill-rule=\"evenodd\" fill-opacity=\"1\" stroke=\"#000000\" stroke-opacity=\"1\" stroke-width=\"3.2\"/>\n",
       "<circle clip-path=\"url(#clip012)\" cx=\"336.569\" cy=\"668.357\" r=\"14\" fill=\"#e26f46\" fill-rule=\"evenodd\" fill-opacity=\"1\" stroke=\"#000000\" stroke-opacity=\"1\" stroke-width=\"3.2\"/>\n",
       "<circle clip-path=\"url(#clip012)\" cx=\"357.36\" cy=\"333.638\" r=\"14\" fill=\"#e26f46\" fill-rule=\"evenodd\" fill-opacity=\"1\" stroke=\"#000000\" stroke-opacity=\"1\" stroke-width=\"3.2\"/>\n",
       "<circle clip-path=\"url(#clip012)\" cx=\"378.152\" cy=\"362.097\" r=\"14\" fill=\"#e26f46\" fill-rule=\"evenodd\" fill-opacity=\"1\" stroke=\"#000000\" stroke-opacity=\"1\" stroke-width=\"3.2\"/>\n",
       "<circle clip-path=\"url(#clip012)\" cx=\"398.944\" cy=\"510.028\" r=\"14\" fill=\"#e26f46\" fill-rule=\"evenodd\" fill-opacity=\"1\" stroke=\"#000000\" stroke-opacity=\"1\" stroke-width=\"3.2\"/>\n",
       "<circle clip-path=\"url(#clip012)\" cx=\"419.736\" cy=\"248.264\" r=\"14\" fill=\"#e26f46\" fill-rule=\"evenodd\" fill-opacity=\"1\" stroke=\"#000000\" stroke-opacity=\"1\" stroke-width=\"3.2\"/>\n",
       "<circle clip-path=\"url(#clip012)\" cx=\"440.528\" cy=\"338.505\" r=\"14\" fill=\"#e26f46\" fill-rule=\"evenodd\" fill-opacity=\"1\" stroke=\"#000000\" stroke-opacity=\"1\" stroke-width=\"3.2\"/>\n",
       "<circle clip-path=\"url(#clip012)\" cx=\"461.32\" cy=\"399.298\" r=\"14\" fill=\"#e26f46\" fill-rule=\"evenodd\" fill-opacity=\"1\" stroke=\"#000000\" stroke-opacity=\"1\" stroke-width=\"3.2\"/>\n",
       "<circle clip-path=\"url(#clip012)\" cx=\"482.112\" cy=\"326.921\" r=\"14\" fill=\"#e26f46\" fill-rule=\"evenodd\" fill-opacity=\"1\" stroke=\"#000000\" stroke-opacity=\"1\" stroke-width=\"3.2\"/>\n",
       "<circle clip-path=\"url(#clip012)\" cx=\"502.904\" cy=\"295.454\" r=\"14\" fill=\"#e26f46\" fill-rule=\"evenodd\" fill-opacity=\"1\" stroke=\"#000000\" stroke-opacity=\"1\" stroke-width=\"3.2\"/>\n",
       "<circle clip-path=\"url(#clip012)\" cx=\"523.695\" cy=\"350.367\" r=\"14\" fill=\"#e26f46\" fill-rule=\"evenodd\" fill-opacity=\"1\" stroke=\"#000000\" stroke-opacity=\"1\" stroke-width=\"3.2\"/>\n",
       "<circle clip-path=\"url(#clip012)\" cx=\"544.487\" cy=\"462.404\" r=\"14\" fill=\"#e26f46\" fill-rule=\"evenodd\" fill-opacity=\"1\" stroke=\"#000000\" stroke-opacity=\"1\" stroke-width=\"3.2\"/>\n",
       "<circle clip-path=\"url(#clip012)\" cx=\"565.279\" cy=\"391.728\" r=\"14\" fill=\"#e26f46\" fill-rule=\"evenodd\" fill-opacity=\"1\" stroke=\"#000000\" stroke-opacity=\"1\" stroke-width=\"3.2\"/>\n",
       "<circle clip-path=\"url(#clip012)\" cx=\"586.071\" cy=\"198.591\" r=\"14\" fill=\"#e26f46\" fill-rule=\"evenodd\" fill-opacity=\"1\" stroke=\"#000000\" stroke-opacity=\"1\" stroke-width=\"3.2\"/>\n",
       "<circle clip-path=\"url(#clip012)\" cx=\"606.863\" cy=\"411.533\" r=\"14\" fill=\"#e26f46\" fill-rule=\"evenodd\" fill-opacity=\"1\" stroke=\"#000000\" stroke-opacity=\"1\" stroke-width=\"3.2\"/>\n",
       "<circle clip-path=\"url(#clip012)\" cx=\"627.655\" cy=\"448.287\" r=\"14\" fill=\"#e26f46\" fill-rule=\"evenodd\" fill-opacity=\"1\" stroke=\"#000000\" stroke-opacity=\"1\" stroke-width=\"3.2\"/>\n",
       "<circle clip-path=\"url(#clip012)\" cx=\"648.447\" cy=\"218.377\" r=\"14\" fill=\"#e26f46\" fill-rule=\"evenodd\" fill-opacity=\"1\" stroke=\"#000000\" stroke-opacity=\"1\" stroke-width=\"3.2\"/>\n",
       "<circle clip-path=\"url(#clip012)\" cx=\"669.238\" cy=\"185.097\" r=\"14\" fill=\"#e26f46\" fill-rule=\"evenodd\" fill-opacity=\"1\" stroke=\"#000000\" stroke-opacity=\"1\" stroke-width=\"3.2\"/>\n",
       "<circle clip-path=\"url(#clip012)\" cx=\"690.03\" cy=\"375.041\" r=\"14\" fill=\"#e26f46\" fill-rule=\"evenodd\" fill-opacity=\"1\" stroke=\"#000000\" stroke-opacity=\"1\" stroke-width=\"3.2\"/>\n",
       "<circle clip-path=\"url(#clip012)\" cx=\"710.822\" cy=\"283.555\" r=\"14\" fill=\"#e26f46\" fill-rule=\"evenodd\" fill-opacity=\"1\" stroke=\"#000000\" stroke-opacity=\"1\" stroke-width=\"3.2\"/>\n",
       "<circle clip-path=\"url(#clip012)\" cx=\"731.614\" cy=\"360.927\" r=\"14\" fill=\"#e26f46\" fill-rule=\"evenodd\" fill-opacity=\"1\" stroke=\"#000000\" stroke-opacity=\"1\" stroke-width=\"3.2\"/>\n",
       "<circle clip-path=\"url(#clip012)\" cx=\"752.406\" cy=\"393.466\" r=\"14\" fill=\"#e26f46\" fill-rule=\"evenodd\" fill-opacity=\"1\" stroke=\"#000000\" stroke-opacity=\"1\" stroke-width=\"3.2\"/>\n",
       "<circle clip-path=\"url(#clip012)\" cx=\"773.198\" cy=\"344.51\" r=\"14\" fill=\"#e26f46\" fill-rule=\"evenodd\" fill-opacity=\"1\" stroke=\"#000000\" stroke-opacity=\"1\" stroke-width=\"3.2\"/>\n",
       "<circle clip-path=\"url(#clip012)\" cx=\"793.99\" cy=\"262.604\" r=\"14\" fill=\"#e26f46\" fill-rule=\"evenodd\" fill-opacity=\"1\" stroke=\"#000000\" stroke-opacity=\"1\" stroke-width=\"3.2\"/>\n",
       "<circle clip-path=\"url(#clip012)\" cx=\"814.782\" cy=\"375.096\" r=\"14\" fill=\"#e26f46\" fill-rule=\"evenodd\" fill-opacity=\"1\" stroke=\"#000000\" stroke-opacity=\"1\" stroke-width=\"3.2\"/>\n",
       "<circle clip-path=\"url(#clip012)\" cx=\"835.573\" cy=\"442.956\" r=\"14\" fill=\"#e26f46\" fill-rule=\"evenodd\" fill-opacity=\"1\" stroke=\"#000000\" stroke-opacity=\"1\" stroke-width=\"3.2\"/>\n",
       "<circle clip-path=\"url(#clip012)\" cx=\"856.365\" cy=\"403.921\" r=\"14\" fill=\"#e26f46\" fill-rule=\"evenodd\" fill-opacity=\"1\" stroke=\"#000000\" stroke-opacity=\"1\" stroke-width=\"3.2\"/>\n",
       "<circle clip-path=\"url(#clip012)\" cx=\"877.157\" cy=\"267.875\" r=\"14\" fill=\"#e26f46\" fill-rule=\"evenodd\" fill-opacity=\"1\" stroke=\"#000000\" stroke-opacity=\"1\" stroke-width=\"3.2\"/>\n",
       "<circle clip-path=\"url(#clip012)\" cx=\"897.949\" cy=\"274.301\" r=\"14\" fill=\"#e26f46\" fill-rule=\"evenodd\" fill-opacity=\"1\" stroke=\"#000000\" stroke-opacity=\"1\" stroke-width=\"3.2\"/>\n",
       "<circle clip-path=\"url(#clip012)\" cx=\"918.741\" cy=\"312.414\" r=\"14\" fill=\"#e26f46\" fill-rule=\"evenodd\" fill-opacity=\"1\" stroke=\"#000000\" stroke-opacity=\"1\" stroke-width=\"3.2\"/>\n",
       "<circle clip-path=\"url(#clip012)\" cx=\"939.533\" cy=\"361.034\" r=\"14\" fill=\"#e26f46\" fill-rule=\"evenodd\" fill-opacity=\"1\" stroke=\"#000000\" stroke-opacity=\"1\" stroke-width=\"3.2\"/>\n",
       "<circle clip-path=\"url(#clip012)\" cx=\"960.325\" cy=\"364.723\" r=\"14\" fill=\"#e26f46\" fill-rule=\"evenodd\" fill-opacity=\"1\" stroke=\"#000000\" stroke-opacity=\"1\" stroke-width=\"3.2\"/>\n",
       "<circle clip-path=\"url(#clip012)\" cx=\"981.116\" cy=\"352.066\" r=\"14\" fill=\"#e26f46\" fill-rule=\"evenodd\" fill-opacity=\"1\" stroke=\"#000000\" stroke-opacity=\"1\" stroke-width=\"3.2\"/>\n",
       "<circle clip-path=\"url(#clip012)\" cx=\"1001.91\" cy=\"314.087\" r=\"14\" fill=\"#e26f46\" fill-rule=\"evenodd\" fill-opacity=\"1\" stroke=\"#000000\" stroke-opacity=\"1\" stroke-width=\"3.2\"/>\n",
       "<circle clip-path=\"url(#clip012)\" cx=\"1022.7\" cy=\"502.507\" r=\"14\" fill=\"#e26f46\" fill-rule=\"evenodd\" fill-opacity=\"1\" stroke=\"#000000\" stroke-opacity=\"1\" stroke-width=\"3.2\"/>\n",
       "<circle clip-path=\"url(#clip012)\" cx=\"1043.49\" cy=\"325.673\" r=\"14\" fill=\"#e26f46\" fill-rule=\"evenodd\" fill-opacity=\"1\" stroke=\"#000000\" stroke-opacity=\"1\" stroke-width=\"3.2\"/>\n",
       "<circle clip-path=\"url(#clip012)\" cx=\"1064.28\" cy=\"347.422\" r=\"14\" fill=\"#e26f46\" fill-rule=\"evenodd\" fill-opacity=\"1\" stroke=\"#000000\" stroke-opacity=\"1\" stroke-width=\"3.2\"/>\n",
       "<circle clip-path=\"url(#clip012)\" cx=\"1085.08\" cy=\"628.502\" r=\"14\" fill=\"#e26f46\" fill-rule=\"evenodd\" fill-opacity=\"1\" stroke=\"#000000\" stroke-opacity=\"1\" stroke-width=\"3.2\"/>\n",
       "<circle clip-path=\"url(#clip012)\" cx=\"1105.87\" cy=\"365.69\" r=\"14\" fill=\"#e26f46\" fill-rule=\"evenodd\" fill-opacity=\"1\" stroke=\"#000000\" stroke-opacity=\"1\" stroke-width=\"3.2\"/>\n",
       "<circle clip-path=\"url(#clip012)\" cx=\"1126.66\" cy=\"263.489\" r=\"14\" fill=\"#e26f46\" fill-rule=\"evenodd\" fill-opacity=\"1\" stroke=\"#000000\" stroke-opacity=\"1\" stroke-width=\"3.2\"/>\n",
       "<circle clip-path=\"url(#clip012)\" cx=\"1147.45\" cy=\"404.78\" r=\"14\" fill=\"#e26f46\" fill-rule=\"evenodd\" fill-opacity=\"1\" stroke=\"#000000\" stroke-opacity=\"1\" stroke-width=\"3.2\"/>\n",
       "<circle clip-path=\"url(#clip012)\" cx=\"1168.24\" cy=\"282.078\" r=\"14\" fill=\"#e26f46\" fill-rule=\"evenodd\" fill-opacity=\"1\" stroke=\"#000000\" stroke-opacity=\"1\" stroke-width=\"3.2\"/>\n",
       "<circle clip-path=\"url(#clip012)\" cx=\"1189.04\" cy=\"341.731\" r=\"14\" fill=\"#e26f46\" fill-rule=\"evenodd\" fill-opacity=\"1\" stroke=\"#000000\" stroke-opacity=\"1\" stroke-width=\"3.2\"/>\n",
       "<circle clip-path=\"url(#clip012)\" cx=\"1209.83\" cy=\"373.924\" r=\"14\" fill=\"#e26f46\" fill-rule=\"evenodd\" fill-opacity=\"1\" stroke=\"#000000\" stroke-opacity=\"1\" stroke-width=\"3.2\"/>\n",
       "<circle clip-path=\"url(#clip012)\" cx=\"1230.62\" cy=\"361.627\" r=\"14\" fill=\"#e26f46\" fill-rule=\"evenodd\" fill-opacity=\"1\" stroke=\"#000000\" stroke-opacity=\"1\" stroke-width=\"3.2\"/>\n",
       "<circle clip-path=\"url(#clip012)\" cx=\"1251.41\" cy=\"208.586\" r=\"14\" fill=\"#e26f46\" fill-rule=\"evenodd\" fill-opacity=\"1\" stroke=\"#000000\" stroke-opacity=\"1\" stroke-width=\"3.2\"/>\n",
       "<circle clip-path=\"url(#clip012)\" cx=\"1272.2\" cy=\"478.936\" r=\"14\" fill=\"#e26f46\" fill-rule=\"evenodd\" fill-opacity=\"1\" stroke=\"#000000\" stroke-opacity=\"1\" stroke-width=\"3.2\"/>\n",
       "<circle clip-path=\"url(#clip012)\" cx=\"1292.99\" cy=\"409.982\" r=\"14\" fill=\"#e26f46\" fill-rule=\"evenodd\" fill-opacity=\"1\" stroke=\"#000000\" stroke-opacity=\"1\" stroke-width=\"3.2\"/>\n",
       "<circle clip-path=\"url(#clip012)\" cx=\"1313.79\" cy=\"334.461\" r=\"14\" fill=\"#e26f46\" fill-rule=\"evenodd\" fill-opacity=\"1\" stroke=\"#000000\" stroke-opacity=\"1\" stroke-width=\"3.2\"/>\n",
       "<circle clip-path=\"url(#clip012)\" cx=\"1334.58\" cy=\"329.464\" r=\"14\" fill=\"#e26f46\" fill-rule=\"evenodd\" fill-opacity=\"1\" stroke=\"#000000\" stroke-opacity=\"1\" stroke-width=\"3.2\"/>\n",
       "<circle clip-path=\"url(#clip012)\" cx=\"1355.37\" cy=\"482.696\" r=\"14\" fill=\"#e26f46\" fill-rule=\"evenodd\" fill-opacity=\"1\" stroke=\"#000000\" stroke-opacity=\"1\" stroke-width=\"3.2\"/>\n",
       "<circle clip-path=\"url(#clip012)\" cx=\"1376.16\" cy=\"519.057\" r=\"14\" fill=\"#e26f46\" fill-rule=\"evenodd\" fill-opacity=\"1\" stroke=\"#000000\" stroke-opacity=\"1\" stroke-width=\"3.2\"/>\n",
       "<circle clip-path=\"url(#clip012)\" cx=\"1396.95\" cy=\"411.7\" r=\"14\" fill=\"#e26f46\" fill-rule=\"evenodd\" fill-opacity=\"1\" stroke=\"#000000\" stroke-opacity=\"1\" stroke-width=\"3.2\"/>\n",
       "<circle clip-path=\"url(#clip012)\" cx=\"1417.75\" cy=\"499.226\" r=\"14\" fill=\"#e26f46\" fill-rule=\"evenodd\" fill-opacity=\"1\" stroke=\"#000000\" stroke-opacity=\"1\" stroke-width=\"3.2\"/>\n",
       "<circle clip-path=\"url(#clip012)\" cx=\"1438.54\" cy=\"522.572\" r=\"14\" fill=\"#e26f46\" fill-rule=\"evenodd\" fill-opacity=\"1\" stroke=\"#000000\" stroke-opacity=\"1\" stroke-width=\"3.2\"/>\n",
       "<circle clip-path=\"url(#clip012)\" cx=\"1459.33\" cy=\"266.076\" r=\"14\" fill=\"#e26f46\" fill-rule=\"evenodd\" fill-opacity=\"1\" stroke=\"#000000\" stroke-opacity=\"1\" stroke-width=\"3.2\"/>\n",
       "<circle clip-path=\"url(#clip012)\" cx=\"1480.12\" cy=\"293.527\" r=\"14\" fill=\"#e26f46\" fill-rule=\"evenodd\" fill-opacity=\"1\" stroke=\"#000000\" stroke-opacity=\"1\" stroke-width=\"3.2\"/>\n",
       "<circle clip-path=\"url(#clip012)\" cx=\"1500.91\" cy=\"411.729\" r=\"14\" fill=\"#e26f46\" fill-rule=\"evenodd\" fill-opacity=\"1\" stroke=\"#000000\" stroke-opacity=\"1\" stroke-width=\"3.2\"/>\n",
       "<circle clip-path=\"url(#clip012)\" cx=\"1521.7\" cy=\"529.573\" r=\"14\" fill=\"#e26f46\" fill-rule=\"evenodd\" fill-opacity=\"1\" stroke=\"#000000\" stroke-opacity=\"1\" stroke-width=\"3.2\"/>\n",
       "<circle clip-path=\"url(#clip012)\" cx=\"1542.5\" cy=\"249.876\" r=\"14\" fill=\"#e26f46\" fill-rule=\"evenodd\" fill-opacity=\"1\" stroke=\"#000000\" stroke-opacity=\"1\" stroke-width=\"3.2\"/>\n",
       "<circle clip-path=\"url(#clip012)\" cx=\"1563.29\" cy=\"225.17\" r=\"14\" fill=\"#e26f46\" fill-rule=\"evenodd\" fill-opacity=\"1\" stroke=\"#000000\" stroke-opacity=\"1\" stroke-width=\"3.2\"/>\n",
       "<circle clip-path=\"url(#clip012)\" cx=\"1584.08\" cy=\"464.427\" r=\"14\" fill=\"#e26f46\" fill-rule=\"evenodd\" fill-opacity=\"1\" stroke=\"#000000\" stroke-opacity=\"1\" stroke-width=\"3.2\"/>\n",
       "<circle clip-path=\"url(#clip012)\" cx=\"1604.87\" cy=\"226.022\" r=\"14\" fill=\"#e26f46\" fill-rule=\"evenodd\" fill-opacity=\"1\" stroke=\"#000000\" stroke-opacity=\"1\" stroke-width=\"3.2\"/>\n",
       "<circle clip-path=\"url(#clip012)\" cx=\"1625.66\" cy=\"367.874\" r=\"14\" fill=\"#e26f46\" fill-rule=\"evenodd\" fill-opacity=\"1\" stroke=\"#000000\" stroke-opacity=\"1\" stroke-width=\"3.2\"/>\n",
       "<circle clip-path=\"url(#clip012)\" cx=\"1646.46\" cy=\"355.927\" r=\"14\" fill=\"#e26f46\" fill-rule=\"evenodd\" fill-opacity=\"1\" stroke=\"#000000\" stroke-opacity=\"1\" stroke-width=\"3.2\"/>\n",
       "<circle clip-path=\"url(#clip012)\" cx=\"1667.25\" cy=\"214.118\" r=\"14\" fill=\"#e26f46\" fill-rule=\"evenodd\" fill-opacity=\"1\" stroke=\"#000000\" stroke-opacity=\"1\" stroke-width=\"3.2\"/>\n",
       "<circle clip-path=\"url(#clip012)\" cx=\"1688.04\" cy=\"481.234\" r=\"14\" fill=\"#e26f46\" fill-rule=\"evenodd\" fill-opacity=\"1\" stroke=\"#000000\" stroke-opacity=\"1\" stroke-width=\"3.2\"/>\n",
       "<circle clip-path=\"url(#clip012)\" cx=\"1708.83\" cy=\"446.146\" r=\"14\" fill=\"#e26f46\" fill-rule=\"evenodd\" fill-opacity=\"1\" stroke=\"#000000\" stroke-opacity=\"1\" stroke-width=\"3.2\"/>\n",
       "<circle clip-path=\"url(#clip012)\" cx=\"1729.62\" cy=\"65.3348\" r=\"14\" fill=\"#e26f46\" fill-rule=\"evenodd\" fill-opacity=\"1\" stroke=\"#000000\" stroke-opacity=\"1\" stroke-width=\"3.2\"/>\n",
       "<circle clip-path=\"url(#clip012)\" cx=\"1750.42\" cy=\"376.206\" r=\"14\" fill=\"#e26f46\" fill-rule=\"evenodd\" fill-opacity=\"1\" stroke=\"#000000\" stroke-opacity=\"1\" stroke-width=\"3.2\"/>\n",
       "<circle clip-path=\"url(#clip012)\" cx=\"1771.21\" cy=\"380.451\" r=\"14\" fill=\"#e26f46\" fill-rule=\"evenodd\" fill-opacity=\"1\" stroke=\"#000000\" stroke-opacity=\"1\" stroke-width=\"3.2\"/>\n",
       "<circle clip-path=\"url(#clip012)\" cx=\"1792\" cy=\"256.224\" r=\"14\" fill=\"#e26f46\" fill-rule=\"evenodd\" fill-opacity=\"1\" stroke=\"#000000\" stroke-opacity=\"1\" stroke-width=\"3.2\"/>\n",
       "<circle clip-path=\"url(#clip012)\" cx=\"1812.79\" cy=\"420.199\" r=\"14\" fill=\"#e26f46\" fill-rule=\"evenodd\" fill-opacity=\"1\" stroke=\"#000000\" stroke-opacity=\"1\" stroke-width=\"3.2\"/>\n",
       "<circle clip-path=\"url(#clip012)\" cx=\"1833.58\" cy=\"448.698\" r=\"14\" fill=\"#e26f46\" fill-rule=\"evenodd\" fill-opacity=\"1\" stroke=\"#000000\" stroke-opacity=\"1\" stroke-width=\"3.2\"/>\n",
       "<circle clip-path=\"url(#clip012)\" cx=\"1854.37\" cy=\"397.727\" r=\"14\" fill=\"#e26f46\" fill-rule=\"evenodd\" fill-opacity=\"1\" stroke=\"#000000\" stroke-opacity=\"1\" stroke-width=\"3.2\"/>\n",
       "<circle clip-path=\"url(#clip012)\" cx=\"1875.17\" cy=\"297.799\" r=\"14\" fill=\"#e26f46\" fill-rule=\"evenodd\" fill-opacity=\"1\" stroke=\"#000000\" stroke-opacity=\"1\" stroke-width=\"3.2\"/>\n",
       "<circle clip-path=\"url(#clip012)\" cx=\"1895.96\" cy=\"496.829\" r=\"14\" fill=\"#e26f46\" fill-rule=\"evenodd\" fill-opacity=\"1\" stroke=\"#000000\" stroke-opacity=\"1\" stroke-width=\"3.2\"/>\n",
       "<circle clip-path=\"url(#clip012)\" cx=\"1916.75\" cy=\"245.928\" r=\"14\" fill=\"#e26f46\" fill-rule=\"evenodd\" fill-opacity=\"1\" stroke=\"#000000\" stroke-opacity=\"1\" stroke-width=\"3.2\"/>\n",
       "<circle clip-path=\"url(#clip012)\" cx=\"1937.54\" cy=\"269.342\" r=\"14\" fill=\"#e26f46\" fill-rule=\"evenodd\" fill-opacity=\"1\" stroke=\"#000000\" stroke-opacity=\"1\" stroke-width=\"3.2\"/>\n",
       "<circle clip-path=\"url(#clip012)\" cx=\"1958.33\" cy=\"396.381\" r=\"14\" fill=\"#e26f46\" fill-rule=\"evenodd\" fill-opacity=\"1\" stroke=\"#000000\" stroke-opacity=\"1\" stroke-width=\"3.2\"/>\n",
       "<circle clip-path=\"url(#clip012)\" cx=\"1979.13\" cy=\"453.563\" r=\"14\" fill=\"#e26f46\" fill-rule=\"evenodd\" fill-opacity=\"1\" stroke=\"#000000\" stroke-opacity=\"1\" stroke-width=\"3.2\"/>\n",
       "<circle clip-path=\"url(#clip012)\" cx=\"1999.92\" cy=\"322.556\" r=\"14\" fill=\"#e26f46\" fill-rule=\"evenodd\" fill-opacity=\"1\" stroke=\"#000000\" stroke-opacity=\"1\" stroke-width=\"3.2\"/>\n",
       "<circle clip-path=\"url(#clip012)\" cx=\"2020.71\" cy=\"212.196\" r=\"14\" fill=\"#e26f46\" fill-rule=\"evenodd\" fill-opacity=\"1\" stroke=\"#000000\" stroke-opacity=\"1\" stroke-width=\"3.2\"/>\n",
       "<circle clip-path=\"url(#clip012)\" cx=\"2041.5\" cy=\"201.824\" r=\"14\" fill=\"#e26f46\" fill-rule=\"evenodd\" fill-opacity=\"1\" stroke=\"#000000\" stroke-opacity=\"1\" stroke-width=\"3.2\"/>\n",
       "<circle clip-path=\"url(#clip012)\" cx=\"2062.29\" cy=\"406.507\" r=\"14\" fill=\"#e26f46\" fill-rule=\"evenodd\" fill-opacity=\"1\" stroke=\"#000000\" stroke-opacity=\"1\" stroke-width=\"3.2\"/>\n",
       "<circle clip-path=\"url(#clip012)\" cx=\"2083.09\" cy=\"506.507\" r=\"14\" fill=\"#e26f46\" fill-rule=\"evenodd\" fill-opacity=\"1\" stroke=\"#000000\" stroke-opacity=\"1\" stroke-width=\"3.2\"/>\n",
       "<circle clip-path=\"url(#clip012)\" cx=\"2103.88\" cy=\"415.098\" r=\"14\" fill=\"#e26f46\" fill-rule=\"evenodd\" fill-opacity=\"1\" stroke=\"#000000\" stroke-opacity=\"1\" stroke-width=\"3.2\"/>\n",
       "<circle clip-path=\"url(#clip012)\" cx=\"2124.67\" cy=\"371.471\" r=\"14\" fill=\"#e26f46\" fill-rule=\"evenodd\" fill-opacity=\"1\" stroke=\"#000000\" stroke-opacity=\"1\" stroke-width=\"3.2\"/>\n",
       "<circle clip-path=\"url(#clip012)\" cx=\"2145.46\" cy=\"458.237\" r=\"14\" fill=\"#e26f46\" fill-rule=\"evenodd\" fill-opacity=\"1\" stroke=\"#000000\" stroke-opacity=\"1\" stroke-width=\"3.2\"/>\n",
       "<circle clip-path=\"url(#clip012)\" cx=\"2166.25\" cy=\"297.174\" r=\"14\" fill=\"#e26f46\" fill-rule=\"evenodd\" fill-opacity=\"1\" stroke=\"#000000\" stroke-opacity=\"1\" stroke-width=\"3.2\"/>\n",
       "<circle clip-path=\"url(#clip012)\" cx=\"2187.04\" cy=\"496.595\" r=\"14\" fill=\"#e26f46\" fill-rule=\"evenodd\" fill-opacity=\"1\" stroke=\"#000000\" stroke-opacity=\"1\" stroke-width=\"3.2\"/>\n",
       "<circle clip-path=\"url(#clip012)\" cx=\"2207.84\" cy=\"416.233\" r=\"14\" fill=\"#e26f46\" fill-rule=\"evenodd\" fill-opacity=\"1\" stroke=\"#000000\" stroke-opacity=\"1\" stroke-width=\"3.2\"/>\n",
       "<circle clip-path=\"url(#clip012)\" cx=\"2228.63\" cy=\"384.407\" r=\"14\" fill=\"#e26f46\" fill-rule=\"evenodd\" fill-opacity=\"1\" stroke=\"#000000\" stroke-opacity=\"1\" stroke-width=\"3.2\"/>\n",
       "<circle clip-path=\"url(#clip012)\" cx=\"2249.42\" cy=\"271.984\" r=\"14\" fill=\"#e26f46\" fill-rule=\"evenodd\" fill-opacity=\"1\" stroke=\"#000000\" stroke-opacity=\"1\" stroke-width=\"3.2\"/>\n",
       "<circle clip-path=\"url(#clip012)\" cx=\"2270.21\" cy=\"319.792\" r=\"14\" fill=\"#e26f46\" fill-rule=\"evenodd\" fill-opacity=\"1\" stroke=\"#000000\" stroke-opacity=\"1\" stroke-width=\"3.2\"/>\n",
       "<circle clip-path=\"url(#clip012)\" cx=\"2291\" cy=\"183.614\" r=\"14\" fill=\"#e26f46\" fill-rule=\"evenodd\" fill-opacity=\"1\" stroke=\"#000000\" stroke-opacity=\"1\" stroke-width=\"3.2\"/>\n",
       "<path clip-path=\"url(#clip012)\" d=\"\n",
       "M232.609 370.953 L253.401 465.913 L274.193 404.863 L294.985 348.351 L315.777 496.308 L336.569 586.976 L357.36 363.375 L378.152 400.949 L398.944 511.715 L419.736 339.787 \n",
       "  L440.528 367.472 L461.32 450.006 L482.112 390.537 L502.904 349.895 L523.695 391.561 L544.487 480.801 L565.279 416.754 L586.071 290.093 L606.863 434.372 L627.655 479.968 \n",
       "  L648.447 296.354 L669.238 304.638 L690.03 428.309 L710.822 359.764 L731.614 378.727 L752.406 440.715 L773.198 392.907 L793.99 339.512 L814.782 407.239 L835.573 459.46 \n",
       "  L856.365 418.669 L877.157 350.16 L897.949 359.295 L918.741 376.906 L939.533 399.92 L960.325 422.916 L981.116 373.882 L1001.91 385.006 L1022.7 502.42 L1043.49 366.766 \n",
       "  L1064.28 382.867 L1085.08 575.683 L1105.87 402.336 L1126.66 327.095 L1147.45 450.437 L1168.24 368.961 L1189.04 360.046 L1209.83 445.791 L1230.62 393.026 L1251.41 311.613 \n",
       "  L1272.2 464.673 L1292.99 461.096 L1313.79 368.193 L1334.58 381.063 L1355.37 491.003 L1376.16 494.795 L1396.95 411.366 L1417.75 481.753 L1438.54 512.514 L1459.33 356.866 \n",
       "  L1480.12 332.042 L1500.91 462.218 L1521.7 507.818 L1542.5 310.266 L1563.29 341.981 L1584.08 467.786 L1604.87 319.363 L1625.66 409.652 L1646.46 413.353 L1667.25 286.632 \n",
       "  L1688.04 491.883 L1708.83 461.34 L1729.62 211.617 L1750.42 413.293 L1771.21 453.048 L1792 311.737 L1812.79 426.033 L1833.58 491.884 L1854.37 385.599 L1875.17 373.218 \n",
       "  L1895.96 488.45 L1916.75 351.03 L1937.54 325.224 L1958.33 437.298 L1979.13 453.331 L1999.92 383.594 L2020.71 321.484 L2041.5 312.145 L2062.29 434.928 L2083.09 493.25 \n",
       "  L2103.88 411.221 L2124.67 422.153 L2145.46 455.41 L2166.25 373.314 L2187.04 462.266 L2207.84 459.548 L2228.63 388.103 L2249.42 372.006 L2270.21 382.358 L2291 305.25 \n",
       "  L2291 210.221 L2270.21 287.575 L2249.42 278.97 L2228.63 296.686 L2207.84 368.294 L2187.04 371.269 L2166.25 282.392 L2145.46 364.495 L2124.67 331.248 L2103.88 320.319 \n",
       "  L2083.09 402.349 L2062.29 344.027 L2041.5 221.244 L2020.71 230.584 L1999.92 292.693 L1979.13 362.43 L1958.33 346.397 L1937.54 234.324 L1916.75 260.129 L1895.96 397.549 \n",
       "  L1875.17 282.317 L1854.37 294.698 L1833.58 400.983 L1812.79 335.132 L1792 220.837 L1771.21 362.148 L1750.42 322.392 L1729.62 120.716 L1708.83 370.439 L1688.04 400.982 \n",
       "  L1667.25 195.731 L1646.46 322.452 L1625.66 318.751 L1604.87 228.463 L1584.08 376.885 L1563.29 251.08 L1542.5 219.365 L1521.7 416.917 L1500.91 371.317 L1480.12 241.141 \n",
       "  L1459.33 265.965 L1438.54 421.614 L1417.75 390.852 L1396.95 320.465 L1376.16 403.894 L1355.37 400.102 L1334.58 290.162 L1313.79 277.293 L1292.99 370.195 L1272.2 373.773 \n",
       "  L1251.41 220.712 L1230.62 302.125 L1209.83 354.89 L1189.04 269.145 L1168.24 278.06 L1147.45 359.536 L1126.66 236.194 L1105.87 311.435 L1085.08 484.783 L1064.28 291.966 \n",
       "  L1043.49 275.865 L1022.7 411.52 L1001.91 294.106 L981.116 282.981 L960.325 332.015 L939.533 309.019 L918.741 286.005 L897.949 268.395 L877.157 259.259 L856.365 327.768 \n",
       "  L835.573 368.559 L814.782 316.339 L793.99 248.611 L773.198 302.006 L752.406 349.814 L731.614 287.826 L710.822 268.863 L690.03 337.408 L669.238 213.737 L648.447 205.453 \n",
       "  L627.655 389.067 L606.863 343.471 L586.071 199.192 L565.279 325.854 L544.487 389.9 L523.695 300.661 L502.904 258.995 L482.112 299.637 L461.32 359.106 L440.528 276.571 \n",
       "  L419.736 248.886 L398.944 420.814 L378.152 310.045 L357.36 272.469 L336.569 496.058 L315.777 405.339 L294.985 257.343 L274.193 313.523 L253.401 373.643 L232.609 277.493 \n",
       "   Z\n",
       "  \" fill=\"#3da44d\" fill-rule=\"evenodd\" fill-opacity=\"0.5\"/>\n",
       "<polyline clip-path=\"url(#clip012)\" style=\"stroke:#3da44d; stroke-linecap:butt; stroke-linejoin:round; stroke-width:4; stroke-opacity:1; fill:none\" points=\"\n",
       "  232.609,324.223 253.401,419.778 274.193,359.193 294.985,302.847 315.777,450.823 336.569,541.517 357.36,317.922 378.152,355.497 398.944,466.265 419.736,294.337 \n",
       "  440.528,322.021 461.32,404.556 482.112,345.087 502.904,304.445 523.695,346.111 544.487,435.35 565.279,371.304 586.071,244.643 606.863,388.921 627.655,434.518 \n",
       "  648.447,250.904 669.238,259.188 690.03,382.859 710.822,314.313 731.614,333.277 752.406,395.265 773.198,347.456 793.99,294.062 814.782,361.789 835.573,414.01 \n",
       "  856.365,373.218 877.157,304.709 897.949,313.845 918.741,331.455 939.533,354.47 960.325,377.466 981.116,328.432 1001.91,339.556 1022.7,456.97 1043.49,321.316 \n",
       "  1064.28,337.416 1085.08,530.233 1105.87,356.886 1126.66,281.644 1147.45,404.986 1168.24,323.511 1189.04,314.596 1209.83,400.34 1230.62,347.576 1251.41,266.163 \n",
       "  1272.2,419.223 1292.99,415.646 1313.79,322.743 1334.58,335.612 1355.37,445.552 1376.16,449.345 1396.95,365.915 1417.75,436.302 1438.54,467.064 1459.33,311.415 \n",
       "  1480.12,286.591 1500.91,416.767 1521.7,462.368 1542.5,264.815 1563.29,296.531 1584.08,422.336 1604.87,273.913 1625.66,364.202 1646.46,367.902 1667.25,241.182 \n",
       "  1688.04,446.433 1708.83,415.89 1729.62,166.166 1750.42,367.843 1771.21,407.598 1792,266.287 1812.79,380.583 1833.58,446.434 1854.37,340.148 1875.17,327.768 \n",
       "  1895.96,442.999 1916.75,305.58 1937.54,279.774 1958.33,391.847 1979.13,407.881 1999.92,338.143 2020.71,276.034 2041.5,266.695 2062.29,389.477 2083.09,447.799 \n",
       "  2103.88,365.77 2124.67,376.7 2145.46,409.953 2166.25,327.853 2187.04,416.768 2207.84,413.921 2228.63,342.395 2249.42,325.488 2270.21,334.967 2291,257.736 \n",
       "  \n",
       "  \"/>\n",
       "<path clip-path=\"url(#clip010)\" d=\"\n",
       "M1737.46 665.141 L2280.03 665.141 L2280.03 457.781 L1737.46 457.781  Z\n",
       "  \" fill=\"#ffffff\" fill-rule=\"evenodd\" fill-opacity=\"1\"/>\n",
       "<polyline clip-path=\"url(#clip010)\" style=\"stroke:#000000; stroke-linecap:butt; stroke-linejoin:round; stroke-width:4; stroke-opacity:1; fill:none\" points=\"\n",
       "  1737.46,665.141 2280.03,665.141 2280.03,457.781 1737.46,457.781 1737.46,665.141 \n",
       "  \"/>\n",
       "<polyline clip-path=\"url(#clip010)\" style=\"stroke:#009af9; stroke-linecap:butt; stroke-linejoin:round; stroke-width:4; stroke-opacity:1; fill:none\" points=\"\n",
       "  1761.7,509.621 1907.16,509.621 \n",
       "  \"/>\n",
       "<path clip-path=\"url(#clip010)\" d=\"M1953.11 511.253 L1953.11 526.901 L1948.86 526.901 L1948.86 511.392 Q1948.86 507.711 1947.42 505.883 Q1945.99 504.054 1943.11 504.054 Q1939.67 504.054 1937.68 506.253 Q1935.68 508.452 1935.68 512.248 L1935.68 526.901 L1931.4 526.901 L1931.4 490.883 L1935.68 490.883 L1935.68 505.003 Q1937.21 502.665 1939.27 501.508 Q1941.36 500.35 1944.06 500.35 Q1948.53 500.35 1950.82 503.128 Q1953.11 505.883 1953.11 511.253 Z\" fill=\"#000000\" fill-rule=\"evenodd\" fill-opacity=\"1\" /><path clip-path=\"url(#clip010)\" d=\"M1961.61 500.975 L1965.87 500.975 L1965.87 526.901 L1961.61 526.901 L1961.61 500.975 M1961.61 490.883 L1965.87 490.883 L1965.87 496.276 L1961.61 496.276 L1961.61 490.883 Z\" fill=\"#000000\" fill-rule=\"evenodd\" fill-opacity=\"1\" /><path clip-path=\"url(#clip010)\" d=\"M1991.84 504.91 L1991.84 490.883 L1996.1 490.883 L1996.1 526.901 L1991.84 526.901 L1991.84 523.012 Q1990.5 525.327 1988.44 526.461 Q1986.4 527.572 1983.53 527.572 Q1978.83 527.572 1975.87 523.822 Q1972.93 520.072 1972.93 513.961 Q1972.93 507.85 1975.87 504.1 Q1978.83 500.35 1983.53 500.35 Q1986.4 500.35 1988.44 501.485 Q1990.5 502.596 1991.84 504.91 M1977.33 513.961 Q1977.33 518.66 1979.25 521.346 Q1981.19 524.008 1984.57 524.008 Q1987.95 524.008 1989.9 521.346 Q1991.84 518.66 1991.84 513.961 Q1991.84 509.262 1989.9 506.6 Q1987.95 503.915 1984.57 503.915 Q1981.19 503.915 1979.25 506.6 Q1977.33 509.262 1977.33 513.961 Z\" fill=\"#000000\" fill-rule=\"evenodd\" fill-opacity=\"1\" /><path clip-path=\"url(#clip010)\" d=\"M2021.93 504.91 L2021.93 490.883 L2026.19 490.883 L2026.19 526.901 L2021.93 526.901 L2021.93 523.012 Q2020.59 525.327 2018.53 526.461 Q2016.49 527.572 2013.62 527.572 Q2008.92 527.572 2005.96 523.822 Q2003.02 520.072 2003.02 513.961 Q2003.02 507.85 2005.96 504.1 Q2008.92 500.35 2013.62 500.35 Q2016.49 500.35 2018.53 501.485 Q2020.59 502.596 2021.93 504.91 M2007.42 513.961 Q2007.42 518.66 2009.34 521.346 Q2011.29 524.008 2014.67 524.008 Q2018.05 524.008 2019.99 521.346 Q2021.93 518.66 2021.93 513.961 Q2021.93 509.262 2019.99 506.6 Q2018.05 503.915 2014.67 503.915 Q2011.29 503.915 2009.34 506.6 Q2007.42 509.262 2007.42 513.961 Z\" fill=\"#000000\" fill-rule=\"evenodd\" fill-opacity=\"1\" /><path clip-path=\"url(#clip010)\" d=\"M2057.14 512.873 L2057.14 514.957 L2037.56 514.957 Q2037.84 519.355 2040.2 521.67 Q2042.58 523.961 2046.82 523.961 Q2049.27 523.961 2051.56 523.359 Q2053.88 522.758 2056.15 521.554 L2056.15 525.582 Q2053.86 526.554 2051.45 527.063 Q2049.04 527.572 2046.56 527.572 Q2040.36 527.572 2036.73 523.961 Q2033.11 520.35 2033.11 514.193 Q2033.11 507.827 2036.54 504.1 Q2039.99 500.35 2045.82 500.35 Q2051.05 500.35 2054.09 503.73 Q2057.14 507.086 2057.14 512.873 M2052.88 511.623 Q2052.84 508.128 2050.92 506.045 Q2049.02 503.961 2045.87 503.961 Q2042.3 503.961 2040.15 505.975 Q2038.02 507.989 2037.7 511.647 L2052.88 511.623 Z\" fill=\"#000000\" fill-rule=\"evenodd\" fill-opacity=\"1\" /><path clip-path=\"url(#clip010)\" d=\"M2085.68 511.253 L2085.68 526.901 L2081.42 526.901 L2081.42 511.392 Q2081.42 507.711 2079.99 505.883 Q2078.55 504.054 2075.68 504.054 Q2072.23 504.054 2070.24 506.253 Q2068.25 508.452 2068.25 512.248 L2068.25 526.901 L2063.97 526.901 L2063.97 500.975 L2068.25 500.975 L2068.25 505.003 Q2069.78 502.665 2071.84 501.508 Q2073.92 500.35 2076.63 500.35 Q2081.1 500.35 2083.39 503.128 Q2085.68 505.883 2085.68 511.253 Z\" fill=\"#000000\" fill-rule=\"evenodd\" fill-opacity=\"1\" /><path clip-path=\"url(#clip010)\" d=\"M2125.78 501.739 L2125.78 505.767 Q2123.97 504.841 2122.03 504.378 Q2120.08 503.915 2118 503.915 Q2114.83 503.915 2113.23 504.887 Q2111.66 505.86 2111.66 507.804 Q2111.66 509.285 2112.79 510.142 Q2113.92 510.975 2117.35 511.739 L2118.81 512.063 Q2123.35 513.035 2125.24 514.818 Q2127.16 516.577 2127.16 519.748 Q2127.16 523.359 2124.29 525.466 Q2121.45 527.572 2116.45 527.572 Q2114.36 527.572 2112.1 527.156 Q2109.85 526.762 2107.35 525.952 L2107.35 521.554 Q2109.71 522.781 2112 523.406 Q2114.29 524.008 2116.54 524.008 Q2119.55 524.008 2121.17 522.989 Q2122.79 521.947 2122.79 520.072 Q2122.79 518.336 2121.61 517.41 Q2120.45 516.484 2116.49 515.628 L2115.01 515.281 Q2111.05 514.447 2109.29 512.734 Q2107.54 510.998 2107.54 507.989 Q2107.54 504.332 2110.13 502.341 Q2112.72 500.35 2117.49 500.35 Q2119.85 500.35 2121.93 500.698 Q2124.02 501.045 2125.78 501.739 Z\" fill=\"#000000\" fill-rule=\"evenodd\" fill-opacity=\"1\" /><path clip-path=\"url(#clip010)\" d=\"M2138.16 493.614 L2138.16 500.975 L2146.93 500.975 L2146.93 504.285 L2138.16 504.285 L2138.16 518.359 Q2138.16 521.531 2139.02 522.434 Q2139.9 523.336 2142.56 523.336 L2146.93 523.336 L2146.93 526.901 L2142.56 526.901 Q2137.63 526.901 2135.75 525.072 Q2133.88 523.221 2133.88 518.359 L2133.88 504.285 L2130.75 504.285 L2130.75 500.975 L2133.88 500.975 L2133.88 493.614 L2138.16 493.614 Z\" fill=\"#000000\" fill-rule=\"evenodd\" fill-opacity=\"1\" /><path clip-path=\"url(#clip010)\" d=\"M2164.32 513.869 Q2159.16 513.869 2157.16 515.049 Q2155.17 516.23 2155.17 519.077 Q2155.17 521.346 2156.66 522.688 Q2158.16 524.008 2160.73 524.008 Q2164.27 524.008 2166.4 521.508 Q2168.55 518.984 2168.55 514.818 L2168.55 513.869 L2164.32 513.869 M2172.81 512.109 L2172.81 526.901 L2168.55 526.901 L2168.55 522.966 Q2167.1 525.327 2164.92 526.461 Q2162.74 527.572 2159.6 527.572 Q2155.61 527.572 2153.25 525.35 Q2150.91 523.105 2150.91 519.355 Q2150.91 514.98 2153.83 512.758 Q2156.77 510.535 2162.58 510.535 L2168.55 510.535 L2168.55 510.119 Q2168.55 507.179 2166.61 505.582 Q2164.69 503.961 2161.19 503.961 Q2158.97 503.961 2156.86 504.494 Q2154.76 505.026 2152.81 506.091 L2152.81 502.156 Q2155.15 501.253 2157.35 500.813 Q2159.55 500.35 2161.63 500.35 Q2167.26 500.35 2170.04 503.267 Q2172.81 506.184 2172.81 512.109 Z\" fill=\"#000000\" fill-rule=\"evenodd\" fill-opacity=\"1\" /><path clip-path=\"url(#clip010)\" d=\"M2185.8 493.614 L2185.8 500.975 L2194.57 500.975 L2194.57 504.285 L2185.8 504.285 L2185.8 518.359 Q2185.8 521.531 2186.66 522.434 Q2187.53 523.336 2190.2 523.336 L2194.57 523.336 L2194.57 526.901 L2190.2 526.901 Q2185.27 526.901 2183.39 525.072 Q2181.52 523.221 2181.52 518.359 L2181.52 504.285 L2178.39 504.285 L2178.39 500.975 L2181.52 500.975 L2181.52 493.614 L2185.8 493.614 Z\" fill=\"#000000\" fill-rule=\"evenodd\" fill-opacity=\"1\" /><path clip-path=\"url(#clip010)\" d=\"M2222.35 512.873 L2222.35 514.957 L2202.77 514.957 Q2203.04 519.355 2205.41 521.67 Q2207.79 523.961 2212.03 523.961 Q2214.48 523.961 2216.77 523.359 Q2219.09 522.758 2221.35 521.554 L2221.35 525.582 Q2219.06 526.554 2216.66 527.063 Q2214.25 527.572 2211.77 527.572 Q2205.57 527.572 2201.93 523.961 Q2198.32 520.35 2198.32 514.193 Q2198.32 507.827 2201.75 504.1 Q2205.2 500.35 2211.03 500.35 Q2216.26 500.35 2219.29 503.73 Q2222.35 507.086 2222.35 512.873 M2218.09 511.623 Q2218.04 508.128 2216.12 506.045 Q2214.22 503.961 2211.08 503.961 Q2207.51 503.961 2205.36 505.975 Q2203.23 507.989 2202.91 511.647 L2218.09 511.623 Z\" fill=\"#000000\" fill-rule=\"evenodd\" fill-opacity=\"1\" /><circle clip-path=\"url(#clip010)\" cx=\"1834.43\" cy=\"561.461\" r=\"23\" fill=\"#e26f46\" fill-rule=\"evenodd\" fill-opacity=\"1\" stroke=\"#000000\" stroke-opacity=\"1\" stroke-width=\"5.12\"/>\n",
       "<path clip-path=\"url(#clip010)\" d=\"M1943.3 555.801 Q1939.87 555.801 1937.88 558.487 Q1935.89 561.149 1935.89 565.801 Q1935.89 570.454 1937.86 573.139 Q1939.85 575.801 1943.3 575.801 Q1946.7 575.801 1948.69 573.116 Q1950.68 570.431 1950.68 565.801 Q1950.68 561.195 1948.69 558.51 Q1946.7 555.801 1943.3 555.801 M1943.3 552.19 Q1948.86 552.19 1952.03 555.801 Q1955.2 559.412 1955.2 565.801 Q1955.2 572.167 1952.03 575.801 Q1948.86 579.412 1943.3 579.412 Q1937.72 579.412 1934.55 575.801 Q1931.4 572.167 1931.4 565.801 Q1931.4 559.412 1934.55 555.801 Q1937.72 552.19 1943.3 552.19 Z\" fill=\"#000000\" fill-rule=\"evenodd\" fill-opacity=\"1\" /><path clip-path=\"url(#clip010)\" d=\"M1980.87 565.801 Q1980.87 561.102 1978.92 558.44 Q1977 555.755 1973.62 555.755 Q1970.24 555.755 1968.3 558.44 Q1966.38 561.102 1966.38 565.801 Q1966.38 570.5 1968.3 573.186 Q1970.24 575.848 1973.62 575.848 Q1977 575.848 1978.92 573.186 Q1980.87 570.5 1980.87 565.801 M1966.38 556.75 Q1967.72 554.436 1969.76 553.325 Q1971.82 552.19 1974.67 552.19 Q1979.39 552.19 1982.33 555.94 Q1985.29 559.69 1985.29 565.801 Q1985.29 571.912 1982.33 575.662 Q1979.39 579.412 1974.67 579.412 Q1971.82 579.412 1969.76 578.301 Q1967.72 577.167 1966.38 574.852 L1966.38 578.741 L1962.1 578.741 L1962.1 542.723 L1966.38 542.723 L1966.38 556.75 Z\" fill=\"#000000\" fill-rule=\"evenodd\" fill-opacity=\"1\" /><path clip-path=\"url(#clip010)\" d=\"M2008.88 553.579 L2008.88 557.607 Q2007.07 556.681 2005.13 556.218 Q2003.18 555.755 2001.1 555.755 Q1997.93 555.755 1996.33 556.727 Q1994.76 557.7 1994.76 559.644 Q1994.76 561.125 1995.89 561.982 Q1997.03 562.815 2000.45 563.579 L2001.91 563.903 Q2006.45 564.875 2008.35 566.658 Q2010.27 568.417 2010.27 571.588 Q2010.27 575.199 2007.4 577.306 Q2004.55 579.412 1999.55 579.412 Q1997.47 579.412 1995.2 578.996 Q1992.95 578.602 1990.45 577.792 L1990.45 573.394 Q1992.81 574.621 1995.11 575.246 Q1997.4 575.848 1999.64 575.848 Q2002.65 575.848 2004.27 574.829 Q2005.89 573.787 2005.89 571.912 Q2005.89 570.176 2004.71 569.25 Q2003.55 568.324 1999.6 567.468 L1998.11 567.121 Q1994.16 566.287 1992.4 564.574 Q1990.64 562.838 1990.64 559.829 Q1990.64 556.172 1993.23 554.181 Q1995.82 552.19 2000.59 552.19 Q2002.95 552.19 2005.04 552.538 Q2007.12 552.885 2008.88 553.579 Z\" fill=\"#000000\" fill-rule=\"evenodd\" fill-opacity=\"1\" /><path clip-path=\"url(#clip010)\" d=\"M2039.23 564.713 L2039.23 566.797 L2019.64 566.797 Q2019.92 571.195 2022.28 573.51 Q2024.67 575.801 2028.9 575.801 Q2031.36 575.801 2033.65 575.199 Q2035.96 574.598 2038.23 573.394 L2038.23 577.422 Q2035.94 578.394 2033.53 578.903 Q2031.12 579.412 2028.65 579.412 Q2022.44 579.412 2018.81 575.801 Q2015.2 572.19 2015.2 566.033 Q2015.2 559.667 2018.62 555.94 Q2022.07 552.19 2027.91 552.19 Q2033.14 552.19 2036.17 555.57 Q2039.23 558.926 2039.23 564.713 M2034.97 563.463 Q2034.92 559.968 2033 557.885 Q2031.1 555.801 2027.95 555.801 Q2024.39 555.801 2022.23 557.815 Q2020.11 559.829 2019.78 563.487 L2034.97 563.463 Z\" fill=\"#000000\" fill-rule=\"evenodd\" fill-opacity=\"1\" /><path clip-path=\"url(#clip010)\" d=\"M2061.24 556.797 Q2060.52 556.38 2059.67 556.195 Q2058.83 555.987 2057.81 555.987 Q2054.2 555.987 2052.26 558.348 Q2050.34 560.686 2050.34 565.084 L2050.34 578.741 L2046.05 578.741 L2046.05 552.815 L2050.34 552.815 L2050.34 556.843 Q2051.68 554.482 2053.83 553.348 Q2055.98 552.19 2059.06 552.19 Q2059.5 552.19 2060.04 552.26 Q2060.57 552.306 2061.22 552.422 L2061.24 556.797 Z\" fill=\"#000000\" fill-rule=\"evenodd\" fill-opacity=\"1\" /><path clip-path=\"url(#clip010)\" d=\"M2062.65 552.815 L2067.17 552.815 L2075.27 574.574 L2083.37 552.815 L2087.88 552.815 L2078.16 578.741 L2072.37 578.741 L2062.65 552.815 Z\" fill=\"#000000\" fill-rule=\"evenodd\" fill-opacity=\"1\" /><path clip-path=\"url(#clip010)\" d=\"M2105.54 565.709 Q2100.38 565.709 2098.39 566.889 Q2096.4 568.07 2096.4 570.917 Q2096.4 573.186 2097.88 574.528 Q2099.39 575.848 2101.96 575.848 Q2105.5 575.848 2107.63 573.348 Q2109.78 570.824 2109.78 566.658 L2109.78 565.709 L2105.54 565.709 M2114.04 563.949 L2114.04 578.741 L2109.78 578.741 L2109.78 574.806 Q2108.32 577.167 2106.15 578.301 Q2103.97 579.412 2100.82 579.412 Q2096.84 579.412 2094.48 577.19 Q2092.14 574.945 2092.14 571.195 Q2092.14 566.82 2095.06 564.598 Q2098 562.375 2103.81 562.375 L2109.78 562.375 L2109.78 561.959 Q2109.78 559.019 2107.84 557.422 Q2105.91 555.801 2102.42 555.801 Q2100.2 555.801 2098.09 556.334 Q2095.98 556.866 2094.04 557.931 L2094.04 553.996 Q2096.38 553.093 2098.58 552.653 Q2100.78 552.19 2102.86 552.19 Q2108.48 552.19 2111.26 555.107 Q2114.04 558.024 2114.04 563.949 Z\" fill=\"#000000\" fill-rule=\"evenodd\" fill-opacity=\"1\" /><path clip-path=\"url(#clip010)\" d=\"M2127.03 545.454 L2127.03 552.815 L2135.8 552.815 L2135.8 556.125 L2127.03 556.125 L2127.03 570.199 Q2127.03 573.371 2127.88 574.274 Q2128.76 575.176 2131.42 575.176 L2135.8 575.176 L2135.8 578.741 L2131.42 578.741 Q2126.49 578.741 2124.62 576.912 Q2122.74 575.061 2122.74 570.199 L2122.74 556.125 L2119.62 556.125 L2119.62 552.815 L2122.74 552.815 L2122.74 545.454 L2127.03 545.454 Z\" fill=\"#000000\" fill-rule=\"evenodd\" fill-opacity=\"1\" /><path clip-path=\"url(#clip010)\" d=\"M2141.4 552.815 L2145.66 552.815 L2145.66 578.741 L2141.4 578.741 L2141.4 552.815 M2141.4 542.723 L2145.66 542.723 L2145.66 548.116 L2141.4 548.116 L2141.4 542.723 Z\" fill=\"#000000\" fill-rule=\"evenodd\" fill-opacity=\"1\" /><path clip-path=\"url(#clip010)\" d=\"M2164.62 555.801 Q2161.19 555.801 2159.2 558.487 Q2157.21 561.149 2157.21 565.801 Q2157.21 570.454 2159.18 573.139 Q2161.17 575.801 2164.62 575.801 Q2168.02 575.801 2170.01 573.116 Q2172 570.431 2172 565.801 Q2172 561.195 2170.01 558.51 Q2168.02 555.801 2164.62 555.801 M2164.62 552.19 Q2170.17 552.19 2173.35 555.801 Q2176.52 559.412 2176.52 565.801 Q2176.52 572.167 2173.35 575.801 Q2170.17 579.412 2164.62 579.412 Q2159.04 579.412 2155.87 575.801 Q2152.72 572.167 2152.72 565.801 Q2152.72 559.412 2155.87 555.801 Q2159.04 552.19 2164.62 552.19 Z\" fill=\"#000000\" fill-rule=\"evenodd\" fill-opacity=\"1\" /><path clip-path=\"url(#clip010)\" d=\"M2205.13 563.093 L2205.13 578.741 L2200.87 578.741 L2200.87 563.232 Q2200.87 559.551 2199.43 557.723 Q2198 555.894 2195.13 555.894 Q2191.68 555.894 2189.69 558.093 Q2187.7 560.292 2187.7 564.088 L2187.7 578.741 L2183.41 578.741 L2183.41 552.815 L2187.7 552.815 L2187.7 556.843 Q2189.22 554.505 2191.28 553.348 Q2193.37 552.19 2196.08 552.19 Q2200.54 552.19 2202.84 554.968 Q2205.13 557.723 2205.13 563.093 Z\" fill=\"#000000\" fill-rule=\"evenodd\" fill-opacity=\"1\" /><path clip-path=\"url(#clip010)\" d=\"M2230.15 553.579 L2230.15 557.607 Q2228.34 556.681 2226.4 556.218 Q2224.46 555.755 2222.37 555.755 Q2219.2 555.755 2217.6 556.727 Q2216.03 557.7 2216.03 559.644 Q2216.03 561.125 2217.16 561.982 Q2218.3 562.815 2221.72 563.579 L2223.18 563.903 Q2227.72 564.875 2229.62 566.658 Q2231.54 568.417 2231.54 571.588 Q2231.54 575.199 2228.67 577.306 Q2225.82 579.412 2220.82 579.412 Q2218.74 579.412 2216.47 578.996 Q2214.22 578.602 2211.72 577.792 L2211.72 573.394 Q2214.09 574.621 2216.38 575.246 Q2218.67 575.848 2220.91 575.848 Q2223.92 575.848 2225.54 574.829 Q2227.16 573.787 2227.16 571.912 Q2227.16 570.176 2225.98 569.25 Q2224.83 568.324 2220.87 567.468 L2219.39 567.121 Q2215.43 566.287 2213.67 564.574 Q2211.91 562.838 2211.91 559.829 Q2211.91 556.172 2214.5 554.181 Q2217.09 552.19 2221.86 552.19 Q2224.22 552.19 2226.31 552.538 Q2228.39 552.885 2230.15 553.579 Z\" fill=\"#000000\" fill-rule=\"evenodd\" fill-opacity=\"1\" /><polyline clip-path=\"url(#clip010)\" style=\"stroke:#3da44d; stroke-linecap:butt; stroke-linejoin:round; stroke-width:4; stroke-opacity:1; fill:none\" points=\"\n",
       "  1761.7,613.301 1907.16,613.301 \n",
       "  \"/>\n",
       "<path clip-path=\"url(#clip010)\" d=\"M1931.4 604.655 L1935.66 604.655 L1935.66 630.581 L1931.4 630.581 L1931.4 604.655 M1931.4 594.563 L1935.66 594.563 L1935.66 599.956 L1931.4 599.956 L1931.4 594.563 Z\" fill=\"#000000\" fill-rule=\"evenodd\" fill-opacity=\"1\" /><path clip-path=\"url(#clip010)\" d=\"M1966.12 614.933 L1966.12 630.581 L1961.86 630.581 L1961.86 615.072 Q1961.86 611.391 1960.43 609.563 Q1958.99 607.734 1956.12 607.734 Q1952.68 607.734 1950.68 609.933 Q1948.69 612.132 1948.69 615.928 L1948.69 630.581 L1944.41 630.581 L1944.41 604.655 L1948.69 604.655 L1948.69 608.683 Q1950.22 606.345 1952.28 605.188 Q1954.36 604.03 1957.07 604.03 Q1961.54 604.03 1963.83 606.808 Q1966.12 609.563 1966.12 614.933 Z\" fill=\"#000000\" fill-rule=\"evenodd\" fill-opacity=\"1\" /><path clip-path=\"url(#clip010)\" d=\"M1987.74 594.563 L1987.74 598.104 L1983.67 598.104 Q1981.38 598.104 1980.48 599.03 Q1979.6 599.956 1979.6 602.364 L1979.6 604.655 L1986.61 604.655 L1986.61 607.965 L1979.6 607.965 L1979.6 630.581 L1975.31 630.581 L1975.31 607.965 L1971.24 607.965 L1971.24 604.655 L1975.31 604.655 L1975.31 602.85 Q1975.31 598.521 1977.33 596.553 Q1979.34 594.563 1983.72 594.563 L1987.74 594.563 Z\" fill=\"#000000\" fill-rule=\"evenodd\" fill-opacity=\"1\" /><path clip-path=\"url(#clip010)\" d=\"M2013.48 616.553 L2013.48 618.637 L1993.9 618.637 Q1994.18 623.035 1996.54 625.35 Q1998.92 627.641 2003.16 627.641 Q2005.61 627.641 2007.91 627.039 Q2010.22 626.438 2012.49 625.234 L2012.49 629.262 Q2010.2 630.234 2007.79 630.743 Q2005.38 631.252 2002.91 631.252 Q1996.7 631.252 1993.07 627.641 Q1989.46 624.03 1989.46 617.873 Q1989.46 611.507 1992.88 607.78 Q1996.33 604.03 2002.17 604.03 Q2007.4 604.03 2010.43 607.41 Q2013.48 610.766 2013.48 616.553 M2009.23 615.303 Q2009.18 611.808 2007.26 609.725 Q2005.36 607.641 2002.21 607.641 Q1998.65 607.641 1996.49 609.655 Q1994.36 611.669 1994.04 615.327 L2009.23 615.303 Z\" fill=\"#000000\" fill-rule=\"evenodd\" fill-opacity=\"1\" /><path clip-path=\"url(#clip010)\" d=\"M2035.5 608.637 Q2034.78 608.22 2033.92 608.035 Q2033.09 607.827 2032.07 607.827 Q2028.46 607.827 2026.52 610.188 Q2024.6 612.526 2024.6 616.924 L2024.6 630.581 L2020.31 630.581 L2020.31 604.655 L2024.6 604.655 L2024.6 608.683 Q2025.94 606.322 2028.09 605.188 Q2030.24 604.03 2033.32 604.03 Q2033.76 604.03 2034.3 604.1 Q2034.83 604.146 2035.48 604.262 L2035.5 608.637 Z\" fill=\"#000000\" fill-rule=\"evenodd\" fill-opacity=\"1\" /><path clip-path=\"url(#clip010)\" d=\"M2054.16 608.637 Q2053.44 608.22 2052.58 608.035 Q2051.75 607.827 2050.73 607.827 Q2047.12 607.827 2045.17 610.188 Q2043.25 612.526 2043.25 616.924 L2043.25 630.581 L2038.97 630.581 L2038.97 604.655 L2043.25 604.655 L2043.25 608.683 Q2044.6 606.322 2046.75 605.188 Q2048.9 604.03 2051.98 604.03 Q2052.42 604.03 2052.95 604.1 Q2053.48 604.146 2054.13 604.262 L2054.16 608.637 Z\" fill=\"#000000\" fill-rule=\"evenodd\" fill-opacity=\"1\" /><path clip-path=\"url(#clip010)\" d=\"M2079.76 616.553 L2079.76 618.637 L2060.17 618.637 Q2060.45 623.035 2062.81 625.35 Q2065.2 627.641 2069.43 627.641 Q2071.89 627.641 2074.18 627.039 Q2076.49 626.438 2078.76 625.234 L2078.76 629.262 Q2076.47 630.234 2074.06 630.743 Q2071.66 631.252 2069.18 631.252 Q2062.98 631.252 2059.34 627.641 Q2055.73 624.03 2055.73 617.873 Q2055.73 611.507 2059.16 607.78 Q2062.61 604.03 2068.44 604.03 Q2073.67 604.03 2076.7 607.41 Q2079.76 610.766 2079.76 616.553 M2075.5 615.303 Q2075.45 611.808 2073.53 609.725 Q2071.63 607.641 2068.48 607.641 Q2064.92 607.641 2062.77 609.655 Q2060.64 611.669 2060.31 615.327 L2075.5 615.303 Z\" fill=\"#000000\" fill-rule=\"evenodd\" fill-opacity=\"1\" /><path clip-path=\"url(#clip010)\" d=\"M2103.81 608.59 L2103.81 594.563 L2108.07 594.563 L2108.07 630.581 L2103.81 630.581 L2103.81 626.692 Q2102.47 629.007 2100.41 630.141 Q2098.37 631.252 2095.5 631.252 Q2090.8 631.252 2087.84 627.502 Q2084.9 623.752 2084.9 617.641 Q2084.9 611.53 2087.84 607.78 Q2090.8 604.03 2095.5 604.03 Q2098.37 604.03 2100.41 605.165 Q2102.47 606.276 2103.81 608.59 M2089.29 617.641 Q2089.29 622.34 2091.22 625.026 Q2093.16 627.688 2096.54 627.688 Q2099.92 627.688 2101.86 625.026 Q2103.81 622.34 2103.81 617.641 Q2103.81 612.942 2101.86 610.28 Q2099.92 607.595 2096.54 607.595 Q2093.16 607.595 2091.22 610.28 Q2089.29 612.942 2089.29 617.641 Z\" fill=\"#000000\" fill-rule=\"evenodd\" fill-opacity=\"1\" /><path clip-path=\"url(#clip010)\" d=\"\n",
       "M170.857 1486.45 L2352.76 1486.45 L2352.76 847.244 L170.857 847.244  Z\n",
       "  \" fill=\"#ffffff\" fill-rule=\"evenodd\" fill-opacity=\"1\"/>\n",
       "<defs>\n",
       "  <clipPath id=\"clip013\">\n",
       "    <rect x=\"170\" y=\"847\" width=\"2183\" height=\"640\"/>\n",
       "  </clipPath>\n",
       "</defs>\n",
       "<polyline clip-path=\"url(#clip013)\" style=\"stroke:#000000; stroke-linecap:butt; stroke-linejoin:round; stroke-width:2; stroke-opacity:0.1; fill:none\" points=\"\n",
       "  211.817,1486.45 211.817,847.244 \n",
       "  \"/>\n",
       "<polyline clip-path=\"url(#clip013)\" style=\"stroke:#000000; stroke-linecap:butt; stroke-linejoin:round; stroke-width:2; stroke-opacity:0.1; fill:none\" points=\"\n",
       "  731.614,1486.45 731.614,847.244 \n",
       "  \"/>\n",
       "<polyline clip-path=\"url(#clip013)\" style=\"stroke:#000000; stroke-linecap:butt; stroke-linejoin:round; stroke-width:2; stroke-opacity:0.1; fill:none\" points=\"\n",
       "  1251.41,1486.45 1251.41,847.244 \n",
       "  \"/>\n",
       "<polyline clip-path=\"url(#clip013)\" style=\"stroke:#000000; stroke-linecap:butt; stroke-linejoin:round; stroke-width:2; stroke-opacity:0.1; fill:none\" points=\"\n",
       "  1771.21,1486.45 1771.21,847.244 \n",
       "  \"/>\n",
       "<polyline clip-path=\"url(#clip013)\" style=\"stroke:#000000; stroke-linecap:butt; stroke-linejoin:round; stroke-width:2; stroke-opacity:0.1; fill:none\" points=\"\n",
       "  2291,1486.45 2291,847.244 \n",
       "  \"/>\n",
       "<polyline clip-path=\"url(#clip010)\" style=\"stroke:#000000; stroke-linecap:butt; stroke-linejoin:round; stroke-width:4; stroke-opacity:1; fill:none\" points=\"\n",
       "  170.857,1486.45 2352.76,1486.45 \n",
       "  \"/>\n",
       "<polyline clip-path=\"url(#clip010)\" style=\"stroke:#000000; stroke-linecap:butt; stroke-linejoin:round; stroke-width:4; stroke-opacity:1; fill:none\" points=\"\n",
       "  211.817,1486.45 211.817,1467.55 \n",
       "  \"/>\n",
       "<polyline clip-path=\"url(#clip010)\" style=\"stroke:#000000; stroke-linecap:butt; stroke-linejoin:round; stroke-width:4; stroke-opacity:1; fill:none\" points=\"\n",
       "  731.614,1486.45 731.614,1467.55 \n",
       "  \"/>\n",
       "<polyline clip-path=\"url(#clip010)\" style=\"stroke:#000000; stroke-linecap:butt; stroke-linejoin:round; stroke-width:4; stroke-opacity:1; fill:none\" points=\"\n",
       "  1251.41,1486.45 1251.41,1467.55 \n",
       "  \"/>\n",
       "<polyline clip-path=\"url(#clip010)\" style=\"stroke:#000000; stroke-linecap:butt; stroke-linejoin:round; stroke-width:4; stroke-opacity:1; fill:none\" points=\"\n",
       "  1771.21,1486.45 1771.21,1467.55 \n",
       "  \"/>\n",
       "<polyline clip-path=\"url(#clip010)\" style=\"stroke:#000000; stroke-linecap:butt; stroke-linejoin:round; stroke-width:4; stroke-opacity:1; fill:none\" points=\"\n",
       "  2291,1486.45 2291,1467.55 \n",
       "  \"/>\n",
       "<path clip-path=\"url(#clip010)\" d=\"M211.817 1517.37 Q208.206 1517.37 206.378 1520.93 Q204.572 1524.47 204.572 1531.6 Q204.572 1538.71 206.378 1542.27 Q208.206 1545.82 211.817 1545.82 Q215.452 1545.82 217.257 1542.27 Q219.086 1538.71 219.086 1531.6 Q219.086 1524.47 217.257 1520.93 Q215.452 1517.37 211.817 1517.37 M211.817 1513.66 Q217.628 1513.66 220.683 1518.27 Q223.762 1522.85 223.762 1531.6 Q223.762 1540.33 220.683 1544.94 Q217.628 1549.52 211.817 1549.52 Q206.007 1549.52 202.929 1544.94 Q199.873 1540.33 199.873 1531.6 Q199.873 1522.85 202.929 1518.27 Q206.007 1513.66 211.817 1513.66 Z\" fill=\"#000000\" fill-rule=\"evenodd\" fill-opacity=\"1\" /><path clip-path=\"url(#clip010)\" d=\"M710.885 1544.91 L727.204 1544.91 L727.204 1548.85 L705.26 1548.85 L705.26 1544.91 Q707.922 1542.16 712.505 1537.53 Q717.112 1532.88 718.292 1531.53 Q720.538 1529.01 721.417 1527.27 Q722.32 1525.51 722.32 1523.82 Q722.32 1521.07 720.376 1519.33 Q718.454 1517.6 715.353 1517.6 Q713.154 1517.6 710.7 1518.36 Q708.269 1519.13 705.492 1520.68 L705.492 1515.95 Q708.316 1514.82 710.769 1514.24 Q713.223 1513.66 715.26 1513.66 Q720.63 1513.66 723.825 1516.35 Q727.019 1519.03 727.019 1523.52 Q727.019 1525.65 726.209 1527.57 Q725.422 1529.47 723.315 1532.07 Q722.737 1532.74 719.635 1535.95 Q716.533 1539.15 710.885 1544.91 Z\" fill=\"#000000\" fill-rule=\"evenodd\" fill-opacity=\"1\" /><path clip-path=\"url(#clip010)\" d=\"M737.065 1514.29 L755.422 1514.29 L755.422 1518.22 L741.348 1518.22 L741.348 1526.7 Q742.366 1526.35 743.385 1526.19 Q744.403 1526 745.422 1526 Q751.209 1526 754.588 1529.17 Q757.968 1532.34 757.968 1537.76 Q757.968 1543.34 754.496 1546.44 Q751.024 1549.52 744.704 1549.52 Q742.528 1549.52 740.26 1549.15 Q738.014 1548.78 735.607 1548.04 L735.607 1543.34 Q737.69 1544.47 739.913 1545.03 Q742.135 1545.58 744.612 1545.58 Q748.616 1545.58 750.954 1543.48 Q753.292 1541.37 753.292 1537.76 Q753.292 1534.15 750.954 1532.04 Q748.616 1529.94 744.612 1529.94 Q742.737 1529.94 740.862 1530.35 Q739.01 1530.77 737.065 1531.65 L737.065 1514.29 Z\" fill=\"#000000\" fill-rule=\"evenodd\" fill-opacity=\"1\" /><path clip-path=\"url(#clip010)\" d=\"M1226.11 1514.29 L1244.47 1514.29 L1244.47 1518.22 L1230.39 1518.22 L1230.39 1526.7 Q1231.41 1526.35 1232.43 1526.19 Q1233.45 1526 1234.47 1526 Q1240.25 1526 1243.63 1529.17 Q1247.01 1532.34 1247.01 1537.76 Q1247.01 1543.34 1243.54 1546.44 Q1240.07 1549.52 1233.75 1549.52 Q1231.57 1549.52 1229.3 1549.15 Q1227.06 1548.78 1224.65 1548.04 L1224.65 1543.34 Q1226.73 1544.47 1228.96 1545.03 Q1231.18 1545.58 1233.66 1545.58 Q1237.66 1545.58 1240 1543.48 Q1242.34 1541.37 1242.34 1537.76 Q1242.34 1534.15 1240 1532.04 Q1237.66 1529.94 1233.66 1529.94 Q1231.78 1529.94 1229.91 1530.35 Q1228.05 1530.77 1226.11 1531.65 L1226.11 1514.29 Z\" fill=\"#000000\" fill-rule=\"evenodd\" fill-opacity=\"1\" /><path clip-path=\"url(#clip010)\" d=\"M1266.23 1517.37 Q1262.61 1517.37 1260.79 1520.93 Q1258.98 1524.47 1258.98 1531.6 Q1258.98 1538.71 1260.79 1542.27 Q1262.61 1545.82 1266.23 1545.82 Q1269.86 1545.82 1271.67 1542.27 Q1273.49 1538.71 1273.49 1531.6 Q1273.49 1524.47 1271.67 1520.93 Q1269.86 1517.37 1266.23 1517.37 M1266.23 1513.66 Q1272.04 1513.66 1275.09 1518.27 Q1278.17 1522.85 1278.17 1531.6 Q1278.17 1540.33 1275.09 1544.94 Q1272.04 1549.52 1266.23 1549.52 Q1260.42 1549.52 1257.34 1544.94 Q1254.28 1540.33 1254.28 1531.6 Q1254.28 1522.85 1257.34 1518.27 Q1260.42 1513.66 1266.23 1513.66 Z\" fill=\"#000000\" fill-rule=\"evenodd\" fill-opacity=\"1\" /><path clip-path=\"url(#clip010)\" d=\"M1745.06 1514.29 L1767.28 1514.29 L1767.28 1516.28 L1754.74 1548.85 L1749.85 1548.85 L1761.66 1518.22 L1745.06 1518.22 L1745.06 1514.29 Z\" fill=\"#000000\" fill-rule=\"evenodd\" fill-opacity=\"1\" /><path clip-path=\"url(#clip010)\" d=\"M1776.45 1514.29 L1794.81 1514.29 L1794.81 1518.22 L1780.73 1518.22 L1780.73 1526.7 Q1781.75 1526.35 1782.77 1526.19 Q1783.79 1526 1784.81 1526 Q1790.59 1526 1793.97 1529.17 Q1797.35 1532.34 1797.35 1537.76 Q1797.35 1543.34 1793.88 1546.44 Q1790.41 1549.52 1784.09 1549.52 Q1781.91 1549.52 1779.64 1549.15 Q1777.4 1548.78 1774.99 1548.04 L1774.99 1543.34 Q1777.08 1544.47 1779.3 1545.03 Q1781.52 1545.58 1784 1545.58 Q1788 1545.58 1790.34 1543.48 Q1792.68 1541.37 1792.68 1537.76 Q1792.68 1534.15 1790.34 1532.04 Q1788 1529.94 1784 1529.94 Q1782.12 1529.94 1780.25 1530.35 Q1778.39 1530.77 1776.45 1531.65 L1776.45 1514.29 Z\" fill=\"#000000\" fill-rule=\"evenodd\" fill-opacity=\"1\" /><path clip-path=\"url(#clip010)\" d=\"M2250.61 1544.91 L2258.25 1544.91 L2258.25 1518.55 L2249.94 1520.21 L2249.94 1515.95 L2258.2 1514.29 L2262.88 1514.29 L2262.88 1544.91 L2270.52 1544.91 L2270.52 1548.85 L2250.61 1548.85 L2250.61 1544.91 Z\" fill=\"#000000\" fill-rule=\"evenodd\" fill-opacity=\"1\" /><path clip-path=\"url(#clip010)\" d=\"M2289.96 1517.37 Q2286.35 1517.37 2284.52 1520.93 Q2282.72 1524.47 2282.72 1531.6 Q2282.72 1538.71 2284.52 1542.27 Q2286.35 1545.82 2289.96 1545.82 Q2293.6 1545.82 2295.4 1542.27 Q2297.23 1538.71 2297.23 1531.6 Q2297.23 1524.47 2295.4 1520.93 Q2293.6 1517.37 2289.96 1517.37 M2289.96 1513.66 Q2295.77 1513.66 2298.83 1518.27 Q2301.91 1522.85 2301.91 1531.6 Q2301.91 1540.33 2298.83 1544.94 Q2295.77 1549.52 2289.96 1549.52 Q2284.15 1549.52 2281.07 1544.94 Q2278.02 1540.33 2278.02 1531.6 Q2278.02 1522.85 2281.07 1518.27 Q2284.15 1513.66 2289.96 1513.66 Z\" fill=\"#000000\" fill-rule=\"evenodd\" fill-opacity=\"1\" /><path clip-path=\"url(#clip010)\" d=\"M2320.12 1517.37 Q2316.51 1517.37 2314.68 1520.93 Q2312.88 1524.47 2312.88 1531.6 Q2312.88 1538.71 2314.68 1542.27 Q2316.51 1545.82 2320.12 1545.82 Q2323.76 1545.82 2325.56 1542.27 Q2327.39 1538.71 2327.39 1531.6 Q2327.39 1524.47 2325.56 1520.93 Q2323.76 1517.37 2320.12 1517.37 M2320.12 1513.66 Q2325.93 1513.66 2328.99 1518.27 Q2332.07 1522.85 2332.07 1531.6 Q2332.07 1540.33 2328.99 1544.94 Q2325.93 1549.52 2320.12 1549.52 Q2314.31 1549.52 2311.24 1544.94 Q2308.18 1540.33 2308.18 1531.6 Q2308.18 1522.85 2311.24 1518.27 Q2314.31 1513.66 2320.12 1513.66 Z\" fill=\"#000000\" fill-rule=\"evenodd\" fill-opacity=\"1\" /><polyline clip-path=\"url(#clip013)\" style=\"stroke:#000000; stroke-linecap:butt; stroke-linejoin:round; stroke-width:2; stroke-opacity:0.1; fill:none\" points=\"\n",
       "  170.857,1448.13 2352.76,1448.13 \n",
       "  \"/>\n",
       "<polyline clip-path=\"url(#clip013)\" style=\"stroke:#000000; stroke-linecap:butt; stroke-linejoin:round; stroke-width:2; stroke-opacity:0.1; fill:none\" points=\"\n",
       "  170.857,1289.03 2352.76,1289.03 \n",
       "  \"/>\n",
       "<polyline clip-path=\"url(#clip013)\" style=\"stroke:#000000; stroke-linecap:butt; stroke-linejoin:round; stroke-width:2; stroke-opacity:0.1; fill:none\" points=\"\n",
       "  170.857,1129.93 2352.76,1129.93 \n",
       "  \"/>\n",
       "<polyline clip-path=\"url(#clip013)\" style=\"stroke:#000000; stroke-linecap:butt; stroke-linejoin:round; stroke-width:2; stroke-opacity:0.1; fill:none\" points=\"\n",
       "  170.857,970.83 2352.76,970.83 \n",
       "  \"/>\n",
       "<polyline clip-path=\"url(#clip010)\" style=\"stroke:#000000; stroke-linecap:butt; stroke-linejoin:round; stroke-width:4; stroke-opacity:1; fill:none\" points=\"\n",
       "  170.857,1486.45 170.857,847.244 \n",
       "  \"/>\n",
       "<polyline clip-path=\"url(#clip010)\" style=\"stroke:#000000; stroke-linecap:butt; stroke-linejoin:round; stroke-width:4; stroke-opacity:1; fill:none\" points=\"\n",
       "  170.857,1448.13 189.755,1448.13 \n",
       "  \"/>\n",
       "<polyline clip-path=\"url(#clip010)\" style=\"stroke:#000000; stroke-linecap:butt; stroke-linejoin:round; stroke-width:4; stroke-opacity:1; fill:none\" points=\"\n",
       "  170.857,1289.03 189.755,1289.03 \n",
       "  \"/>\n",
       "<polyline clip-path=\"url(#clip010)\" style=\"stroke:#000000; stroke-linecap:butt; stroke-linejoin:round; stroke-width:4; stroke-opacity:1; fill:none\" points=\"\n",
       "  170.857,1129.93 189.755,1129.93 \n",
       "  \"/>\n",
       "<polyline clip-path=\"url(#clip010)\" style=\"stroke:#000000; stroke-linecap:butt; stroke-linejoin:round; stroke-width:4; stroke-opacity:1; fill:none\" points=\"\n",
       "  170.857,970.83 189.755,970.83 \n",
       "  \"/>\n",
       "<path clip-path=\"url(#clip010)\" d=\"M56.6171 1461.47 L72.9365 1461.47 L72.9365 1465.41 L50.9921 1465.41 L50.9921 1461.47 Q53.6541 1458.72 58.2375 1454.09 Q62.8439 1449.43 64.0245 1448.09 Q66.2698 1445.57 67.1494 1443.83 Q68.0522 1442.07 68.0522 1440.38 Q68.0522 1437.63 66.1078 1435.89 Q64.1865 1434.16 61.0847 1434.16 Q58.8856 1434.16 56.4319 1434.92 Q54.0014 1435.68 51.2236 1437.24 L51.2236 1432.51 Q54.0477 1431.38 56.5014 1430.8 Q58.955 1430.22 60.9921 1430.22 Q66.3624 1430.22 69.5568 1432.91 Q72.7513 1435.59 72.7513 1440.08 Q72.7513 1442.21 71.9411 1444.13 Q71.1541 1446.03 69.0476 1448.62 Q68.4689 1449.3 65.367 1452.51 Q62.2652 1455.71 56.6171 1461.47 Z\" fill=\"#000000\" fill-rule=\"evenodd\" fill-opacity=\"1\" /><path clip-path=\"url(#clip010)\" d=\"M92.7512 1433.93 Q89.1401 1433.93 87.3114 1437.49 Q85.5058 1441.03 85.5058 1448.16 Q85.5058 1455.27 87.3114 1458.83 Q89.1401 1462.37 92.7512 1462.37 Q96.3854 1462.37 98.1909 1458.83 Q100.02 1455.27 100.02 1448.16 Q100.02 1441.03 98.1909 1437.49 Q96.3854 1433.93 92.7512 1433.93 M92.7512 1430.22 Q98.5613 1430.22 101.617 1434.83 Q104.696 1439.41 104.696 1448.16 Q104.696 1456.89 101.617 1461.49 Q98.5613 1466.08 92.7512 1466.08 Q86.941 1466.08 83.8623 1461.49 Q80.8068 1456.89 80.8068 1448.16 Q80.8068 1439.41 83.8623 1434.83 Q86.941 1430.22 92.7512 1430.22 Z\" fill=\"#000000\" fill-rule=\"evenodd\" fill-opacity=\"1\" /><path clip-path=\"url(#clip010)\" d=\"M122.913 1433.93 Q119.302 1433.93 117.473 1437.49 Q115.668 1441.03 115.668 1448.16 Q115.668 1455.27 117.473 1458.83 Q119.302 1462.37 122.913 1462.37 Q126.547 1462.37 128.353 1458.83 Q130.182 1455.27 130.182 1448.16 Q130.182 1441.03 128.353 1437.49 Q126.547 1433.93 122.913 1433.93 M122.913 1430.22 Q128.723 1430.22 131.779 1434.83 Q134.857 1439.41 134.857 1448.16 Q134.857 1456.89 131.779 1461.49 Q128.723 1466.08 122.913 1466.08 Q117.103 1466.08 114.024 1461.49 Q110.969 1456.89 110.969 1448.16 Q110.969 1439.41 114.024 1434.83 Q117.103 1430.22 122.913 1430.22 Z\" fill=\"#000000\" fill-rule=\"evenodd\" fill-opacity=\"1\" /><path clip-path=\"url(#clip010)\" d=\"M56.6171 1302.37 L72.9365 1302.37 L72.9365 1306.31 L50.9921 1306.31 L50.9921 1302.37 Q53.6541 1299.62 58.2375 1294.99 Q62.8439 1290.34 64.0245 1288.99 Q66.2698 1286.47 67.1494 1284.73 Q68.0522 1282.97 68.0522 1281.28 Q68.0522 1278.53 66.1078 1276.79 Q64.1865 1275.06 61.0847 1275.06 Q58.8856 1275.06 56.4319 1275.82 Q54.0014 1276.59 51.2236 1278.14 L51.2236 1273.41 Q54.0477 1272.28 56.5014 1271.7 Q58.955 1271.12 60.9921 1271.12 Q66.3624 1271.12 69.5568 1273.81 Q72.7513 1276.49 72.7513 1280.98 Q72.7513 1283.11 71.9411 1285.03 Q71.1541 1286.93 69.0476 1289.53 Q68.4689 1290.2 65.367 1293.41 Q62.2652 1296.61 56.6171 1302.37 Z\" fill=\"#000000\" fill-rule=\"evenodd\" fill-opacity=\"1\" /><path clip-path=\"url(#clip010)\" d=\"M83.5614 1302.37 L91.2002 1302.37 L91.2002 1276.01 L82.8901 1277.67 L82.8901 1273.41 L91.1539 1271.75 L95.8298 1271.75 L95.8298 1302.37 L103.469 1302.37 L103.469 1306.31 L83.5614 1306.31 L83.5614 1302.37 Z\" fill=\"#000000\" fill-rule=\"evenodd\" fill-opacity=\"1\" /><path clip-path=\"url(#clip010)\" d=\"M122.913 1274.83 Q119.302 1274.83 117.473 1278.39 Q115.668 1281.93 115.668 1289.06 Q115.668 1296.17 117.473 1299.73 Q119.302 1303.28 122.913 1303.28 Q126.547 1303.28 128.353 1299.73 Q130.182 1296.17 130.182 1289.06 Q130.182 1281.93 128.353 1278.39 Q126.547 1274.83 122.913 1274.83 M122.913 1271.12 Q128.723 1271.12 131.779 1275.73 Q134.857 1280.31 134.857 1289.06 Q134.857 1297.79 131.779 1302.4 Q128.723 1306.98 122.913 1306.98 Q117.103 1306.98 114.024 1302.4 Q110.969 1297.79 110.969 1289.06 Q110.969 1280.31 114.024 1275.73 Q117.103 1271.12 122.913 1271.12 Z\" fill=\"#000000\" fill-rule=\"evenodd\" fill-opacity=\"1\" /><path clip-path=\"url(#clip010)\" d=\"M56.6171 1143.27 L72.9365 1143.27 L72.9365 1147.21 L50.9921 1147.21 L50.9921 1143.27 Q53.6541 1140.52 58.2375 1135.89 Q62.8439 1131.24 64.0245 1129.89 Q66.2698 1127.37 67.1494 1125.63 Q68.0522 1123.88 68.0522 1122.19 Q68.0522 1119.43 66.1078 1117.69 Q64.1865 1115.96 61.0847 1115.96 Q58.8856 1115.96 56.4319 1116.72 Q54.0014 1117.49 51.2236 1119.04 L51.2236 1114.32 Q54.0477 1113.18 56.5014 1112.6 Q58.955 1112.02 60.9921 1112.02 Q66.3624 1112.02 69.5568 1114.71 Q72.7513 1117.39 72.7513 1121.88 Q72.7513 1124.01 71.9411 1125.94 Q71.1541 1127.83 69.0476 1130.43 Q68.4689 1131.1 65.367 1134.32 Q62.2652 1137.51 56.6171 1143.27 Z\" fill=\"#000000\" fill-rule=\"evenodd\" fill-opacity=\"1\" /><path clip-path=\"url(#clip010)\" d=\"M86.779 1143.27 L103.098 1143.27 L103.098 1147.21 L81.154 1147.21 L81.154 1143.27 Q83.816 1140.52 88.3993 1135.89 Q93.0058 1131.24 94.1863 1129.89 Q96.4317 1127.37 97.3113 1125.63 Q98.2141 1123.88 98.2141 1122.19 Q98.2141 1119.43 96.2697 1117.69 Q94.3484 1115.96 91.2465 1115.96 Q89.0475 1115.96 86.5938 1116.72 Q84.1632 1117.49 81.3855 1119.04 L81.3855 1114.32 Q84.2095 1113.18 86.6632 1112.6 Q89.1169 1112.02 91.1539 1112.02 Q96.5243 1112.02 99.7187 1114.71 Q102.913 1117.39 102.913 1121.88 Q102.913 1124.01 102.103 1125.94 Q101.316 1127.83 99.2095 1130.43 Q98.6308 1131.1 95.5289 1134.32 Q92.4271 1137.51 86.779 1143.27 Z\" fill=\"#000000\" fill-rule=\"evenodd\" fill-opacity=\"1\" /><path clip-path=\"url(#clip010)\" d=\"M122.913 1115.73 Q119.302 1115.73 117.473 1119.29 Q115.668 1122.83 115.668 1129.96 Q115.668 1137.07 117.473 1140.63 Q119.302 1144.18 122.913 1144.18 Q126.547 1144.18 128.353 1140.63 Q130.182 1137.07 130.182 1129.96 Q130.182 1122.83 128.353 1119.29 Q126.547 1115.73 122.913 1115.73 M122.913 1112.02 Q128.723 1112.02 131.779 1116.63 Q134.857 1121.21 134.857 1129.96 Q134.857 1138.69 131.779 1143.3 Q128.723 1147.88 122.913 1147.88 Q117.103 1147.88 114.024 1143.3 Q110.969 1138.69 110.969 1129.96 Q110.969 1121.21 114.024 1116.63 Q117.103 1112.02 122.913 1112.02 Z\" fill=\"#000000\" fill-rule=\"evenodd\" fill-opacity=\"1\" /><path clip-path=\"url(#clip010)\" d=\"M56.6171 984.174 L72.9365 984.174 L72.9365 988.11 L50.9921 988.11 L50.9921 984.174 Q53.6541 981.42 58.2375 976.79 Q62.8439 972.137 64.0245 970.795 Q66.2698 968.272 67.1494 966.536 Q68.0522 964.776 68.0522 963.087 Q68.0522 960.332 66.1078 958.596 Q64.1865 956.86 61.0847 956.86 Q58.8856 956.86 56.4319 957.624 Q54.0014 958.388 51.2236 959.938 L51.2236 955.216 Q54.0477 954.082 56.5014 953.503 Q58.955 952.925 60.9921 952.925 Q66.3624 952.925 69.5568 955.61 Q72.7513 958.295 72.7513 962.786 Q72.7513 964.915 71.9411 966.837 Q71.1541 968.735 69.0476 971.327 Q68.4689 971.999 65.367 975.216 Q62.2652 978.411 56.6171 984.174 Z\" fill=\"#000000\" fill-rule=\"evenodd\" fill-opacity=\"1\" /><path clip-path=\"url(#clip010)\" d=\"M96.9178 969.475 Q100.274 970.193 102.149 972.462 Q104.047 974.73 104.047 978.063 Q104.047 983.179 100.529 985.98 Q97.0104 988.781 90.529 988.781 Q88.353 988.781 86.0382 988.341 Q83.7466 987.924 81.2929 987.068 L81.2929 982.554 Q83.2373 983.688 85.5521 984.267 Q87.8669 984.846 90.3901 984.846 Q94.7882 984.846 97.0798 983.11 Q99.3946 981.373 99.3946 978.063 Q99.3946 975.008 97.2419 973.295 Q95.1123 971.559 91.2928 971.559 L87.2651 971.559 L87.2651 967.716 L91.478 967.716 Q94.9271 967.716 96.7558 966.35 Q98.5845 964.962 98.5845 962.369 Q98.5845 959.707 96.6863 958.295 Q94.8113 956.86 91.2928 956.86 Q89.3715 956.86 87.1725 957.276 Q84.9734 957.693 82.3346 958.573 L82.3346 954.406 Q84.9966 953.665 87.3114 953.295 Q89.6493 952.925 91.7095 952.925 Q97.0335 952.925 100.135 955.355 Q103.237 957.763 103.237 961.883 Q103.237 964.753 101.594 966.744 Q99.9502 968.712 96.9178 969.475 Z\" fill=\"#000000\" fill-rule=\"evenodd\" fill-opacity=\"1\" /><path clip-path=\"url(#clip010)\" d=\"M122.913 956.628 Q119.302 956.628 117.473 960.193 Q115.668 963.735 115.668 970.864 Q115.668 977.971 117.473 981.536 Q119.302 985.077 122.913 985.077 Q126.547 985.077 128.353 981.536 Q130.182 977.971 130.182 970.864 Q130.182 963.735 128.353 960.193 Q126.547 956.628 122.913 956.628 M122.913 952.925 Q128.723 952.925 131.779 957.531 Q134.857 962.114 134.857 970.864 Q134.857 979.591 131.779 984.198 Q128.723 988.781 122.913 988.781 Q117.103 988.781 114.024 984.198 Q110.969 979.591 110.969 970.864 Q110.969 962.114 114.024 957.531 Q117.103 952.925 122.913 952.925 Z\" fill=\"#000000\" fill-rule=\"evenodd\" fill-opacity=\"1\" /><polyline clip-path=\"url(#clip013)\" style=\"stroke:#009af9; stroke-linecap:butt; stroke-linejoin:round; stroke-width:4; stroke-opacity:1; fill:none\" points=\"\n",
       "  232.609,865.335 253.401,1076.77 274.193,1189.41 294.985,1303.29 315.777,1377.02 336.569,1414.14 357.36,1435.32 378.152,1448.53 398.944,1456.93 419.736,1462.14 \n",
       "  440.528,1464.38 461.32,1466.12 482.112,1466.68 502.904,1467.16 523.695,1467.63 544.487,1467.52 565.279,1467.85 586.071,1468.13 606.863,1468.18 627.655,1468.24 \n",
       "  648.447,1468.25 669.238,1468.06 690.03,1467.93 710.822,1468.02 731.614,1467.88 752.406,1467.88 773.198,1468.11 793.99,1468.13 814.782,1468.17 835.573,1468.01 \n",
       "  856.365,1468.11 877.157,1467.83 897.949,1467.93 918.741,1468.02 939.533,1468.02 960.325,1467.96 981.116,1467.73 1001.91,1467.71 1022.7,1468.04 1043.49,1467.91 \n",
       "  1064.28,1468.21 1085.08,1468.13 1105.87,1468.32 1126.66,1468.36 1147.45,1468.3 1168.24,1468.36 1189.04,1468.27 1209.83,1468.03 1230.62,1468.23 1251.41,1468.2 \n",
       "  1272.2,1468.3 1292.99,1468.32 1313.79,1468.29 1334.58,1468.26 1355.37,1468.24 1376.16,1468.28 1396.95,1468.27 1417.75,1468.26 1438.54,1468.25 1459.33,1468.24 \n",
       "  1480.12,1468.24 1500.91,1468.24 1521.7,1468.24 1542.5,1468.23 1563.29,1468.23 1584.08,1468.23 1604.87,1468.23 1625.66,1468.23 1646.46,1468.23 1667.25,1468.23 \n",
       "  1688.04,1468.23 1708.83,1468.23 1729.62,1468.23 1750.42,1468.23 1771.21,1468.23 1792,1468.23 1812.79,1468.23 1833.58,1468.23 1854.37,1468.23 1875.17,1468.23 \n",
       "  1895.96,1468.23 1916.75,1468.23 1937.54,1468.23 1958.33,1468.23 1979.13,1468.23 1999.92,1468.23 2020.71,1468.23 2041.5,1468.23 2062.29,1468.23 2083.09,1468.23 \n",
       "  2103.88,1468.23 2124.67,1468.23 2145.46,1468.23 2166.25,1468.23 2187.04,1468.23 2207.84,1468.23 2228.63,1468.23 2249.42,1468.23 2270.21,1468.23 2291,1468.23 \n",
       "  \n",
       "  \"/>\n",
       "<path clip-path=\"url(#clip010)\" d=\"\n",
       "M1985.16 972.231 L2280.03 972.231 L2280.03 868.551 L1985.16 868.551  Z\n",
       "  \" fill=\"#ffffff\" fill-rule=\"evenodd\" fill-opacity=\"1\"/>\n",
       "<polyline clip-path=\"url(#clip010)\" style=\"stroke:#000000; stroke-linecap:butt; stroke-linejoin:round; stroke-width:4; stroke-opacity:1; fill:none\" points=\"\n",
       "  1985.16,972.231 2280.03,972.231 2280.03,868.551 1985.16,868.551 1985.16,972.231 \n",
       "  \"/>\n",
       "<polyline clip-path=\"url(#clip010)\" style=\"stroke:#009af9; stroke-linecap:butt; stroke-linejoin:round; stroke-width:4; stroke-opacity:1; fill:none\" points=\"\n",
       "  2009.41,920.391 2154.87,920.391 \n",
       "  \"/>\n",
       "<path clip-path=\"url(#clip010)\" d=\"M2192.95 940.078 Q2191.15 944.708 2189.43 946.12 Q2187.72 947.532 2184.85 947.532 L2181.45 947.532 L2181.45 943.967 L2183.95 943.967 Q2185.71 943.967 2186.68 943.134 Q2187.65 942.3 2188.83 939.199 L2189.6 937.254 L2179.11 911.745 L2183.62 911.745 L2191.72 932.023 L2199.83 911.745 L2204.34 911.745 L2192.95 940.078 Z\" fill=\"#000000\" fill-rule=\"evenodd\" fill-opacity=\"1\" /><path clip-path=\"url(#clip010)\" d=\"M2211.63 933.736 L2219.27 933.736 L2219.27 907.37 L2210.96 909.037 L2210.96 904.778 L2219.22 903.111 L2223.9 903.111 L2223.9 933.736 L2231.54 933.736 L2231.54 937.671 L2211.63 937.671 L2211.63 933.736 Z\" fill=\"#000000\" fill-rule=\"evenodd\" fill-opacity=\"1\" /></svg>\n"
      ]
     },
     "execution_count": 163,
     "metadata": {},
     "output_type": "execute_result"
    }
   ],
   "source": [
    "using Plots\n",
    "p1 = plot(hidden_states, label=\"hidden state\")\n",
    "p1 = scatter!(p1, observations, label=\"observations\")\n",
    "p1 = plot!(p1, mx, ribbon = sqrt.(vx), label=\"inferred\", legend=:bottomright)\n",
    "\n",
    "p2 = plot(fe)\n",
    "\n",
    "plot(p1, p2, layout = @layout([ a; b ]))"
   ]
  },
  {
   "cell_type": "code",
   "execution_count": 101,
   "metadata": {},
   "outputs": [
    {
     "data": {
      "text/plain": [
       "5-element Vector{Float64}:\n",
       "  0.16722578415195494\n",
       " -0.4179749828986213\n",
       "  0.4250950132316378\n",
       " -0.12991021793912289\n",
       "  0.048847370225410025"
      ]
     },
     "execution_count": 101,
     "metadata": {},
     "output_type": "execute_result"
    }
   ],
   "source": [
    "mθ"
   ]
  },
  {
   "cell_type": "code",
   "execution_count": 102,
   "metadata": {},
   "outputs": [
    {
     "data": {
      "text/plain": [
       "5-element Vector{Float64}:\n",
       "  0.10699399235785655\n",
       " -0.5237303489793305\n",
       "  0.3068897071844715\n",
       " -0.17232255282458891\n",
       "  0.13323964347539288"
      ]
     },
     "execution_count": 102,
     "metadata": {},
     "output_type": "execute_result"
    }
   ],
   "source": [
    "coefs_ar_5"
   ]
  },
  {
   "cell_type": "code",
   "execution_count": null,
   "metadata": {},
   "outputs": [],
   "source": []
  }
 ],
 "metadata": {
  "kernelspec": {
   "display_name": "Julia 1.6.2",
   "language": "julia",
   "name": "julia-1.6"
  },
  "language_info": {
   "file_extension": ".jl",
   "mimetype": "application/julia",
   "name": "julia",
   "version": "1.6.3"
  }
 },
 "nbformat": 4,
 "nbformat_minor": 4
}
