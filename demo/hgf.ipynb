{
 "cells": [
  {
   "cell_type": "code",
   "execution_count": 3,
   "metadata": {},
   "outputs": [
    {
     "name": "stderr",
     "output_type": "stream",
     "text": [
      "┌ Info: Precompiling ReactiveMP [a194aa59-28ba-4574-a09c-4a745416d6e3]\n",
      "└ @ Base loading.jl:1278\n",
      "┌ Warning: Package ReactiveMP does not have Rocket in its dependencies:\n",
      "│ - If you have ReactiveMP checked out for development and have\n",
      "│   added Rocket as a dependency but haven't updated your primary\n",
      "│   environment's manifest file, try `Pkg.resolve()`.\n",
      "│ - Otherwise you may need to report an issue with ReactiveMP\n",
      "└ Loading Rocket into ReactiveMP from project dependency, future warnings for ReactiveMP are suppressed.\n"
     ]
    }
   ],
   "source": [
    "using Distributions\n",
    "using Rocket\n",
    "using ReactiveMP\n",
    "using BenchmarkTools\n",
    "using Plots\n",
    "\n",
    "import ProgressMeter\n",
    "using Random\n",
    "\n",
    "import Base: show\n",
    "import PDMats: PDMat"
   ]
  },
  {
   "cell_type": "code",
   "execution_count": 4,
   "metadata": {},
   "outputs": [
    {
     "data": {
      "text/plain": [
       "hgf (generic function with 1 method)"
      ]
     },
     "execution_count": 4,
     "metadata": {},
     "output_type": "execute_result"
    }
   ],
   "source": [
    "function hgf(n, iters, data, real_k, real_w, z_variance, y_variance)\n",
    "    model = Model(DefaultMessageGate())\n",
    "    \n",
    "    xt_min_mean = datavar(model, :xt_min_mean, Dirac{Float64})\n",
    "    xt_min_var  = datavar(model, :xt_min_var, Dirac{Float64})\n",
    "    xt_min      = randomvar(model, :xt_min)\n",
    "    \n",
    "    xt_min_prior = make_node(model, NormalMeanVariance, xt_min, xt_min_mean, xt_min_var)\n",
    "    \n",
    "    zt_min_mean = datavar(model, :zt_min_mean, Dirac{Float64})\n",
    "    zt_min_var  = datavar(model, :zt_min_var, Dirac{Float64})\n",
    "    zt_min      = randomvar(model, :zt_min)\n",
    "    \n",
    "    zt_min_prior = make_node(model, NormalMeanVariance, zt_min, zt_min_mean, zt_min_var)\n",
    "    \n",
    "    zvar   = constvar(model, :zvar, z_variance)\n",
    "    zt     = randomvar(model, :zt)\n",
    "    \n",
    "    z_transition = make_node(model, NormalMeanVariance, zt, zt_min, zvar, factorisation = ((1,),(2,),(3,)))\n",
    "    \n",
    "    xt = randomvar(model, :xt)\n",
    "    kt = constvar(model, :kt, real_k)\n",
    "    ωt = constvar(model, :wt, real_w)\n",
    "    \n",
    "    gcv = make_node(model, GCV, xt, xt_min, zt, kt, ωt)\n",
    "    \n",
    "    y_var = constvar(model, :y_var, y_variance)\n",
    "    y     = datavar(model, :y, Dirac{Float64})\n",
    "    \n",
    "    obs = make_node(model, NormalMeanVariance, y, xt, y_var)\n",
    "    \n",
    "    activate!(model)\n",
    "    \n",
    "    ms_scheduler = PendingScheduler()\n",
    "    fe_scheduler = PendingScheduler() # \n",
    "    fe = Vector{Float64}()    \n",
    "    fe_sub = subscribe!(score(BetheFreeEnergy(), model, fe_scheduler), (d) -> push!(fe, d))\n",
    "    \n",
    "    mz = Vector{NormalMeanVariance}()\n",
    "    tt = Vector{MvNormalMeanCovariance}()\n",
    "    mx = Vector{NormalMeanVariance}()\n",
    "    \n",
    "\n",
    "    s_mz = subscribe!(getmarginal(zt) |> schedule_on(ms_scheduler), (t) -> push!(mz, getdata(t)))\n",
    "    s_mx = subscribe!(getmarginal(xt) |> schedule_on(ms_scheduler), (t) -> push!(mx, getdata(t)))\n",
    "    \n",
    "    # Initial prior messages\n",
    "    current_zt = NormalMeanVariance(0.0, 100.0)\n",
    "    current_xt = NormalMeanVariance(0.0, 100.0)\n",
    "\n",
    "    # Prior marginals\n",
    "    setmarginal!(gcv, :y_x, MvNormalMeanCovariance([ 0.0, 0.0 ], PDMat([ 5.0 0.0 ; 0.0 5.0 ])))\n",
    "    setmarginal!(gcv, :z, NormalMeanVariance(0.0, 5.0))\n",
    "    \n",
    "    for i in 1:n\n",
    "        \n",
    "        for _ in 1:iters\n",
    "            update!(y, data[i])\n",
    "            update!(zt_min_mean, mean(current_zt))\n",
    "            update!(zt_min_var, var(current_zt))\n",
    "            update!(xt_min_mean, mean(current_xt))\n",
    "            update!(xt_min_var, var(current_xt))\n",
    "            release!(fe_scheduler)\n",
    "        end\n",
    "        \n",
    "        release!(ms_scheduler)\n",
    "        \n",
    "        current_zt = mz[end]\n",
    "        current_xt = mx[end]\n",
    "    end\n",
    "    \n",
    "    unsubscribe!(s_mz)\n",
    "    unsubscribe!(s_mx)\n",
    "    unsubscribe!(fe_sub)\n",
    "    \n",
    "    return mz, mx, fe\n",
    "end"
   ]
  },
  {
   "cell_type": "code",
   "execution_count": 5,
   "metadata": {},
   "outputs": [],
   "source": [
    "n = 1000\n",
    "iters = 10\n",
    "\n",
    "Random.seed!(223)\n",
    "\n",
    "real_k = 1.0\n",
    "real_w = 2.0\n",
    "\n",
    "z_prev     = 0.0\n",
    "z_variance = 0.1\n",
    "\n",
    "z = Vector{Float64}(undef, n)\n",
    "for i in 1:n\n",
    "    z[i] = rand(Normal(z_prev, sqrt(z_variance)))\n",
    "    z_prev = z[i]\n",
    "end\n",
    "\n",
    "# z = map(d -> 2.0 * sin(0.005 * d), 1:n)\n",
    "\n",
    "v = map(d -> exp(real_k * d + real_w), z)\n",
    "\n",
    "x_prev = 0.0\n",
    "\n",
    "x = Vector{Float64}(undef, n)\n",
    "\n",
    "for i in 1:n\n",
    "    x[i] = rand(Normal(x_prev, sqrt(v[i])))\n",
    "    x_prev = x[i]\n",
    "end\n",
    "\n",
    "y = Vector{Float64}(undef, n)\n",
    "y_variance = 1.0\n",
    "\n",
    "for i in 1:n\n",
    "    y[i] = rand(Normal(x[i], sqrt(y_variance)))\n",
    "end"
   ]
  },
  {
   "cell_type": "code",
   "execution_count": 6,
   "metadata": {},
   "outputs": [
    {
     "name": "stdout",
     "output_type": "stream",
     "text": [
      " 20.108384 seconds (64.32 M allocations: 3.179 GiB, 6.22% gc time)\n"
     ]
    }
   ],
   "source": [
    "@time mz, mx, fe = hgf(n, iters, y, real_k, real_w, z_variance, y_variance); # Initial compilation"
   ]
  },
  {
   "cell_type": "code",
   "execution_count": 7,
   "metadata": {},
   "outputs": [
    {
     "name": "stdout",
     "output_type": "stream",
     "text": [
      "  0.298763 seconds (3.94 M allocations: 177.485 MiB, 12.20% gc time)\n"
     ]
    }
   ],
   "source": [
    "@time mz, mx, fe = hgf(n, iters, y, real_k, real_w, z_variance, y_variance); # Subsequent runs"
   ]
  },
  {
   "cell_type": "code",
   "execution_count": 8,
   "metadata": {},
   "outputs": [
    {
     "name": "stdout",
     "output_type": "stream",
     "text": [
      "  265.825 ms (3939395 allocations: 177.48 MiB)\n"
     ]
    }
   ],
   "source": [
    "@btime hgf($n, $iters, $y, $real_k, $real_w, $z_variance, $y_variance); # Benchmark"
   ]
  },
  {
   "cell_type": "code",
   "execution_count": null,
   "metadata": {},
   "outputs": [],
   "source": [
    "plot(mean.(mz), ribbon = std.(mz), label = :z)\n",
    "p1 = plot!(z, label = :real_z)\n",
    "\n",
    "plot(mean.(mx), ribbon = std.(mx), label = :x)\n",
    "p2 = plot!(x, label = :real_x)\n",
    "\n",
    "plot(p1, p2, layout = (2, 1), size = (1000, 600))\n",
    "\n",
    "# fevalues = reshape(fe, (iters, n))\n",
    "# p3 = plot(sum(fevalues, dims = 2) / n)\n",
    "\n",
    "# plot(p1, p2, p3, size = (1000, 600))"
   ]
  },
  {
   "cell_type": "code",
   "execution_count": null,
   "metadata": {},
   "outputs": [],
   "source": [
    "fevalues = reshape(fe, (iters, n))\n",
    "p3 = plot(sum(fevalues[1:end, 1:end], dims = 2) / n)"
   ]
  },
  {
   "cell_type": "code",
   "execution_count": null,
   "metadata": {},
   "outputs": [],
   "source": []
  }
 ],
 "metadata": {
  "kernelspec": {
   "display_name": "Julia 1.5.0",
   "language": "julia",
   "name": "julia-1.5"
  },
  "language_info": {
   "file_extension": ".jl",
   "mimetype": "application/julia",
   "name": "julia",
   "version": "1.5.1"
  }
 },
 "nbformat": 4,
 "nbformat_minor": 4
}
