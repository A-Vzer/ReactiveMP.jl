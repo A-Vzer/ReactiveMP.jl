{
 "cells": [
  {
   "cell_type": "code",
   "execution_count": null,
   "metadata": {},
   "outputs": [
    {
     "name": "stderr",
     "output_type": "stream",
     "text": [
      "┌ Info: Precompiling ReactiveMP [a194aa59-28ba-4574-a09c-4a745416d6e3]\n",
      "└ @ Base loading.jl:1342\n"
     ]
    }
   ],
   "source": [
    "using Rocket\n",
    "using ReactiveMP\n",
    "using GraphPPL\n",
    "using BenchmarkTools\n",
    "using Distributions\n",
    "using MacroTools\n",
    "using LinearAlgebra"
   ]
  },
  {
   "cell_type": "code",
   "execution_count": null,
   "metadata": {},
   "outputs": [],
   "source": [
    "@model [ default_factorisation = MeanField() ] function transition_model(n)\n",
    "    \n",
    "    A ~ MatrixDirichlet(ones(3, 3)) \n",
    "    B ~ MatrixDirichlet([ 10.0 1.0 1.0; 1.0 10.0 1.0; 1.0 1.0 10.0 ])\n",
    "    \n",
    "    s_0 ~ Categorical(fill(1.0 / 3.0, 3))\n",
    "    \n",
    "    s = randomvar(n)\n",
    "    x = datavar(Vector{Float64}, n)\n",
    "    \n",
    "    s_prev = s_0\n",
    "    \n",
    "    for t in 1:n\n",
    "        s[t] ~ Transition(s_prev, A) where { q = q(out, in)q(a) }\n",
    "        x[t] ~ Transition(s[t], B)\n",
    "        s_prev = s[t]\n",
    "    end\n",
    "    \n",
    "    return s, x, A, B\n",
    "end"
   ]
  },
  {
   "cell_type": "code",
   "execution_count": null,
   "metadata": {},
   "outputs": [],
   "source": [
    "function inference(data, criterion)\n",
    "    n = length(data)\n",
    "    \n",
    "    model, (s, x, A, B) = transition_model(n, options = (limit_stack_depth = 500, ))\n",
    "    \n",
    "    sbuffer = keep(Vector{Marginal})\n",
    "    Abuffer = keep(Marginal)\n",
    "    Bbuffer = keep(Marginal)\n",
    "    fe      = ScoreActor(Float64)\n",
    "    \n",
    "    ssub  = subscribe!(getmarginals(s), sbuffer)\n",
    "    Asub  = subscribe!(getmarginal(A), Abuffer)\n",
    "    Bsub  = subscribe!(getmarginal(B), Bbuffer)\n",
    "    fesub = subscribe!(score(Float64, BetheFreeEnergy(), model), fe)\n",
    "    \n",
    "    setmarginal!(A, vague(MatrixDirichlet, 3, 3))\n",
    "    setmarginal!(B, vague(MatrixDirichlet, 3, 3))\n",
    "    \n",
    "    foreach(s) do svar\n",
    "        setmarginal!(svar, vague(Categorical, 3))\n",
    "    end\n",
    "    \n",
    "    update!(x, data)\n",
    "    repeat!(model, criterion)\n",
    "    \n",
    "    unsubscribe!(ssub)\n",
    "    unsubscribe!(Asub)\n",
    "    unsubscribe!(Bsub)\n",
    "    unsubscribe!(fesub)\n",
    "    \n",
    "    return map(getvalues, (sbuffer, Abuffer, Bbuffer, fe))\n",
    "end"
   ]
  },
  {
   "cell_type": "code",
   "execution_count": null,
   "metadata": {},
   "outputs": [],
   "source": [
    "using Random\n",
    "\n",
    "function rand_vec(distribution::Categorical) \n",
    "    k = ncategories(distribution)\n",
    "    s = zeros(k)\n",
    "    s[ rand(distribution) ] = 1.0\n",
    "    s\n",
    "end\n",
    "\n",
    "function generate_data(n_samples; seed = 124)\n",
    "    Random.seed!(seed)\n",
    "    \n",
    "    # Transition probabilities (some transitions are impossible)\n",
    "    A = [0.9 0.0 0.1; 0.1 0.9 0.0; 0.0 0.1 0.9] \n",
    "    # Observation noise\n",
    "    B = [0.9 0.05 0.05; 0.05 0.9 0.05; 0.05 0.05 0.9] \n",
    "    # Initial state\n",
    "    s_0 = [1.0, 0.0, 0.0] \n",
    "    # Generate some data\n",
    "    s = Vector{Vector{Float64}}(undef, n_samples) # one-hot encoding of the states\n",
    "    x = Vector{Vector{Float64}}(undef, n_samples) # one-hot encoding of the observations\n",
    "    \n",
    "    s_prev = s_0\n",
    "    \n",
    "    for t = 1:n_samples\n",
    "        a = A * s_prev\n",
    "        s[t] = rand_vec(Categorical(a ./ sum(a)))\n",
    "        b = B * s[t]\n",
    "        x[t] = rand_vec(Categorical(b ./ sum(b)))\n",
    "        s_prev = s[t]\n",
    "    end\n",
    "    \n",
    "    return x, s\n",
    "end"
   ]
  },
  {
   "cell_type": "code",
   "execution_count": null,
   "metadata": {},
   "outputs": [],
   "source": [
    "x_data, s_data = generate_data(100);"
   ]
  },
  {
   "cell_type": "code",
   "execution_count": null,
   "metadata": {},
   "outputs": [],
   "source": [
    "@time sbuffer, Abuffer, Bbuffer, fe = inference(x_data, 20);"
   ]
  },
  {
   "cell_type": "code",
   "execution_count": null,
   "metadata": {},
   "outputs": [],
   "source": [
    "@time sbuffer, Abuffer, Bbuffer, fe = inference(x_data, 20);"
   ]
  },
  {
   "cell_type": "code",
   "execution_count": null,
   "metadata": {},
   "outputs": [],
   "source": [
    "@benchmark sbuffer, Abuffer, Bbuffer, fe = inference($x_data, 20)"
   ]
  },
  {
   "cell_type": "code",
   "execution_count": null,
   "metadata": {},
   "outputs": [],
   "source": [
    "mean(Abuffer[end])"
   ]
  },
  {
   "cell_type": "code",
   "execution_count": null,
   "metadata": {},
   "outputs": [],
   "source": [
    "mean(Bbuffer[end])"
   ]
  },
  {
   "cell_type": "code",
   "execution_count": null,
   "metadata": {},
   "outputs": [],
   "source": [
    "using Plots"
   ]
  },
  {
   "cell_type": "code",
   "execution_count": null,
   "metadata": {},
   "outputs": [],
   "source": [
    "p1 = scatter(argmax.(s_data))\n",
    "p2 = scatter(argmax.(ReactiveMP.probvec.(sbuffer[end])))\n",
    "p3 = plot(fe)\n",
    "\n",
    "plot(p1, p2, p3, size = (1000, 400), layout = @layout([ a b c ]))"
   ]
  },
  {
   "cell_type": "code",
   "execution_count": null,
   "metadata": {},
   "outputs": [],
   "source": [
    "plot(sum.(map(a -> abs.(a), ReactiveMP.probvec.(sbuffer[end]) .- s_data)), size = (1000, 400))"
   ]
  },
  {
   "cell_type": "code",
   "execution_count": null,
   "metadata": {},
   "outputs": [],
   "source": []
  }
 ],
 "metadata": {
  "kernelspec": {
   "display_name": "Julia 1.6.2",
   "language": "julia",
   "name": "julia-1.6"
  },
  "language_info": {
   "file_extension": ".jl",
   "mimetype": "application/julia",
   "name": "julia",
   "version": "1.6.2"
  }
 },
 "nbformat": 4,
 "nbformat_minor": 4
}
