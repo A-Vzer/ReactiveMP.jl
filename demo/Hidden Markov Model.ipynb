{
 "cells": [
  {
   "cell_type": "code",
   "execution_count": 1,
   "metadata": {},
   "outputs": [
    {
     "name": "stderr",
     "output_type": "stream",
     "text": [
      "┌ Info: Precompiling ReactiveMP [a194aa59-28ba-4574-a09c-4a745416d6e3]\n",
      "└ @ Base loading.jl:1278\n",
      "WARNING: Method definition __check_all(Function, Any) in module ReactiveMP at /Users/bvdmitri/.julia/dev/ReactiveMP/src/message.jl:91 overwritten at /Users/bvdmitri/.julia/dev/ReactiveMP/src/node.jl:442.\n",
      "  ** incremental compilation may be fatally broken for this module **\n",
      "\n",
      "WARNING: Method definition __check_all(Function, Nothing) in module ReactiveMP at /Users/bvdmitri/.julia/dev/ReactiveMP/src/message.jl:92 overwritten at /Users/bvdmitri/.julia/dev/ReactiveMP/src/node.jl:443.\n",
      "  ** incremental compilation may be fatally broken for this module **\n",
      "\n"
     ]
    }
   ],
   "source": [
    "using Rocket\n",
    "using ReactiveMP\n",
    "using GraphPPL\n",
    "using BenchmarkTools\n",
    "using Distributions\n",
    "using MacroTools\n",
    "using LinearAlgebra"
   ]
  },
  {
   "cell_type": "code",
   "execution_count": 2,
   "metadata": {},
   "outputs": [
    {
     "data": {
      "text/plain": [
       "transition_model (generic function with 1 method)"
      ]
     },
     "execution_count": 2,
     "metadata": {},
     "output_type": "execute_result"
    }
   ],
   "source": [
    "@model [ default_factorisation = MeanField() ] function transition_model(n)\n",
    "    \n",
    "    A ~ MatrixDirichlet(ones(3, 3)) \n",
    "    B ~ MatrixDirichlet([ 10.0 1.0 1.0; 1.0 10.0 1.0; 1.0 1.0 10.0 ])\n",
    "    \n",
    "    s_0 ~ Categorical(fill(1.0 / 3.0, 3))\n",
    "    \n",
    "    s = randomvar(n)\n",
    "    x = datavar(Vector{Float64}, n)\n",
    "    \n",
    "    s_prev = s_0\n",
    "    \n",
    "    for t in 1:n\n",
    "        s[t] ~ Transition(s_prev, A) where { q = q(out, in)q(a) }\n",
    "        x[t] ~ Transition(s[t], B)\n",
    "        s_prev = s[t]\n",
    "    end\n",
    "    \n",
    "    return s, x, A, B\n",
    "end"
   ]
  },
  {
   "cell_type": "code",
   "execution_count": 3,
   "metadata": {},
   "outputs": [
    {
     "data": {
      "text/plain": [
       "inference (generic function with 1 method)"
      ]
     },
     "execution_count": 3,
     "metadata": {},
     "output_type": "execute_result"
    }
   ],
   "source": [
    "function inference(data, criterion)\n",
    "    n = length(data)\n",
    "    \n",
    "    model, (s, x, A, B) = transition_model(n, options = (limit_stack_depth = 500, ))\n",
    "    \n",
    "    sbuffer = keep(Vector{Marginal})\n",
    "    Abuffer = keep(Marginal)\n",
    "    Bbuffer = keep(Marginal)\n",
    "    fe      = ScoreActor(Float64)\n",
    "    \n",
    "    ssub  = subscribe!(getmarginals(s), sbuffer)\n",
    "    Asub  = subscribe!(getmarginal(A), Abuffer)\n",
    "    Bsub  = subscribe!(getmarginal(B), Bbuffer)\n",
    "    fesub = subscribe!(score(Float64, BetheFreeEnergy(), model), fe)\n",
    "    \n",
    "    setmarginal!(A, vague(MatrixDirichlet, 3, 3))\n",
    "    setmarginal!(B, vague(MatrixDirichlet, 3, 3))\n",
    "    \n",
    "    foreach(s) do svar\n",
    "        setmarginal!(svar, vague(Categorical, 3))\n",
    "    end\n",
    "    \n",
    "    update!(x, data)\n",
    "    repeat!(model, criterion)\n",
    "    \n",
    "    unsubscribe!(ssub)\n",
    "    unsubscribe!(Asub)\n",
    "    unsubscribe!(Bsub)\n",
    "    unsubscribe!(fesub)\n",
    "    \n",
    "    return map(getvalues, (sbuffer, Abuffer, Bbuffer, fe))\n",
    "end"
   ]
  },
  {
   "cell_type": "code",
   "execution_count": 4,
   "metadata": {},
   "outputs": [
    {
     "data": {
      "text/plain": [
       "generate_data (generic function with 1 method)"
      ]
     },
     "execution_count": 4,
     "metadata": {},
     "output_type": "execute_result"
    }
   ],
   "source": [
    "using Random\n",
    "\n",
    "function rand_vec(distribution::Categorical) \n",
    "    k = ncategories(distribution)\n",
    "    s = zeros(k)\n",
    "    s[ rand(distribution) ] = 1.0\n",
    "    s\n",
    "end\n",
    "\n",
    "function generate_data(n_samples; seed = 124)\n",
    "    Random.seed!(seed)\n",
    "    \n",
    "    # Transition probabilities (some transitions are impossible)\n",
    "    A = [0.9 0.0 0.1; 0.1 0.9 0.0; 0.0 0.1 0.9] \n",
    "    # Observation noise\n",
    "    B = [0.9 0.05 0.05; 0.05 0.9 0.05; 0.05 0.05 0.9] \n",
    "    # Initial state\n",
    "    s_0 = [1.0, 0.0, 0.0] \n",
    "    # Generate some data\n",
    "    s = Vector{Vector{Float64}}(undef, n_samples) # one-hot encoding of the states\n",
    "    x = Vector{Vector{Float64}}(undef, n_samples) # one-hot encoding of the observations\n",
    "    \n",
    "    s_prev = s_0\n",
    "    \n",
    "    for t = 1:n_samples\n",
    "        a = A * s_prev\n",
    "        s[t] = rand_vec(Categorical(a ./ sum(a)))\n",
    "        b = B * s[t]\n",
    "        x[t] = rand_vec(Categorical(b ./ sum(b)))\n",
    "        s_prev = s[t]\n",
    "    end\n",
    "    \n",
    "    return x, s\n",
    "end"
   ]
  },
  {
   "cell_type": "code",
   "execution_count": 5,
   "metadata": {},
   "outputs": [],
   "source": [
    "x_data, s_data = generate_data(100);"
   ]
  },
  {
   "cell_type": "code",
   "execution_count": 11,
   "metadata": {},
   "outputs": [
    {
     "name": "stderr",
     "output_type": "stream",
     "text": [
      "┌ Error: Failed to revise /Users/bvdmitri/.julia/dev/ReactiveMP/src/marginal.jl\n",
      "│   exception = (LoadError(\"/Users/bvdmitri/.julia/dev/ReactiveMP/src/marginal.jl\", 66, \"unexpected \\\"=\\\"\"), Union{Ptr{Nothing}, Base.InterpreterIP}[Ptr{Nothing} @0x000000014923e5ae])\n",
      "└ @ Revise /Users/bvdmitri/.julia/packages/Revise/VxkZO/src/packagedef.jl:709\n"
     ]
    },
    {
     "ename": "LoadError",
     "evalue": "\u001b[91mMethodError: no method matching update!(::DataVariable{PointMass{Array{Float64,1}},Rocket.RecentSubjectInstance{Union{Message{Missing}, Message{PointMass{Array{Float64,1}}}},Subject{Union{Message{Missing}, Message{PointMass{Array{Float64,1}}}},AsapScheduler,AsapScheduler}}}, ::PointMass{Array{Float64,1}})\u001b[39m\n\u001b[91m\u001b[0mClosest candidates are:\u001b[39m\n\u001b[91m\u001b[0m  update!(::DataVariable, \u001b[91m::Real\u001b[39m) at /Users/bvdmitri/.julia/dev/ReactiveMP/src/variables/data.jl:43\u001b[39m\n\u001b[91m\u001b[0m  update!(::DataVariable, \u001b[91m::AbstractArray{T,1} where T\u001b[39m) at /Users/bvdmitri/.julia/dev/ReactiveMP/src/variables/data.jl:44\u001b[39m\n\u001b[91m\u001b[0m  update!(::DataVariable, \u001b[91m::AbstractArray{T,2} where T\u001b[39m) at /Users/bvdmitri/.julia/dev/ReactiveMP/src/variables/data.jl:45\u001b[39m",
     "output_type": "error",
     "traceback": [
      "\u001b[91mMethodError: no method matching update!(::DataVariable{PointMass{Array{Float64,1}},Rocket.RecentSubjectInstance{Union{Message{Missing}, Message{PointMass{Array{Float64,1}}}},Subject{Union{Message{Missing}, Message{PointMass{Array{Float64,1}}}},AsapScheduler,AsapScheduler}}}, ::PointMass{Array{Float64,1}})\u001b[39m\n\u001b[91m\u001b[0mClosest candidates are:\u001b[39m\n\u001b[91m\u001b[0m  update!(::DataVariable, \u001b[91m::Real\u001b[39m) at /Users/bvdmitri/.julia/dev/ReactiveMP/src/variables/data.jl:43\u001b[39m\n\u001b[91m\u001b[0m  update!(::DataVariable, \u001b[91m::AbstractArray{T,1} where T\u001b[39m) at /Users/bvdmitri/.julia/dev/ReactiveMP/src/variables/data.jl:44\u001b[39m\n\u001b[91m\u001b[0m  update!(::DataVariable, \u001b[91m::AbstractArray{T,2} where T\u001b[39m) at /Users/bvdmitri/.julia/dev/ReactiveMP/src/variables/data.jl:45\u001b[39m",
      "",
      "Stacktrace:",
      " [1] resend!(::DataVariable{PointMass{Array{Float64,1}},Rocket.RecentSubjectInstance{Union{Message{Missing}, Message{PointMass{Array{Float64,1}}}},Subject{Union{Message{Missing}, Message{PointMass{Array{Float64,1}}}},AsapScheduler,AsapScheduler}}}) at /Users/bvdmitri/.julia/dev/ReactiveMP/src/variables/data.jl:47",
      " [2] (::ReactiveMP.var\"#468#469\")(::DataVariable{PointMass{Array{Float64,1}},Rocket.RecentSubjectInstance{Union{Message{Missing}, Message{PointMass{Array{Float64,1}}}},Subject{Union{Message{Missing}, Message{PointMass{Array{Float64,1}}}},AsapScheduler,AsapScheduler}}}) at /Users/bvdmitri/.julia/dev/ReactiveMP/src/model.jl:136",
      " [3] foreach(::ReactiveMP.var\"#468#469\", ::Array{DataVariable,1}) at ./abstractarray.jl:2009",
      " [4] repeat! at /Users/bvdmitri/.julia/dev/ReactiveMP/src/model.jl:135 [inlined]",
      " [5] repeat! at /Users/bvdmitri/.julia/dev/ReactiveMP/src/model.jl:131 [inlined]",
      " [6] inference(::Array{Array{Float64,1},1}, ::Int64) at ./In[3]:24",
      " [7] top-level scope at ./timing.jl:174 [inlined]",
      " [8] top-level scope at ./In[11]:0",
      " [9] include_string(::Function, ::Module, ::String, ::String) at ./loading.jl:1091"
     ]
    }
   ],
   "source": [
    "@time sbuffer, Abuffer, Bbuffer, fe = inference(x_data, 20);"
   ]
  },
  {
   "cell_type": "code",
   "execution_count": 7,
   "metadata": {},
   "outputs": [
    {
     "ename": "LoadError",
     "evalue": "\u001b[91mUndefVarError: Abuffer not defined\u001b[39m",
     "output_type": "error",
     "traceback": [
      "\u001b[91mUndefVarError: Abuffer not defined\u001b[39m",
      "",
      "Stacktrace:",
      " [1] top-level scope at In[7]:1",
      " [2] include_string(::Function, ::Module, ::String, ::String) at ./loading.jl:1091"
     ]
    }
   ],
   "source": [
    "mean(Abuffer[end])"
   ]
  },
  {
   "cell_type": "code",
   "execution_count": 8,
   "metadata": {},
   "outputs": [
    {
     "ename": "LoadError",
     "evalue": "\u001b[91mUndefVarError: Bbuffer not defined\u001b[39m",
     "output_type": "error",
     "traceback": [
      "\u001b[91mUndefVarError: Bbuffer not defined\u001b[39m",
      "",
      "Stacktrace:",
      " [1] top-level scope at In[8]:1",
      " [2] include_string(::Function, ::Module, ::String, ::String) at ./loading.jl:1091"
     ]
    }
   ],
   "source": [
    "mean(Bbuffer[end])"
   ]
  },
  {
   "cell_type": "code",
   "execution_count": 9,
   "metadata": {},
   "outputs": [],
   "source": [
    "using Plots"
   ]
  },
  {
   "cell_type": "code",
   "execution_count": 10,
   "metadata": {},
   "outputs": [
    {
     "name": "stderr",
     "output_type": "stream",
     "text": [
      "┌ Error: Failed to revise /Users/bvdmitri/.julia/dev/ReactiveMP/src/marginal.jl\n",
      "│   exception = (LoadError(\"/Users/bvdmitri/.julia/dev/ReactiveMP/src/marginal.jl\", 66, \"unexpected \\\"=\\\"\"), Union{Ptr{Nothing}, Base.InterpreterIP}[Ptr{Nothing} @0x000000014923e5ae])\n",
      "└ @ Revise /Users/bvdmitri/.julia/packages/Revise/VxkZO/src/packagedef.jl:709\n",
      "┌ Warning: The running code does not match the saved version for the following files:\n",
      "│ \n",
      "│   /Users/bvdmitri/.julia/dev/ReactiveMP/src/marginal.jl\n",
      "│ \n",
      "│ If the error was due to evaluation order, it can sometimes be resolved by calling `Revise.retry()`.\n",
      "│ Use Revise.errors() to report errors again. Only the first error in each file is shown.\n",
      "│ Your prompt color may be yellow until the errors are resolved.\n",
      "└ @ Revise /Users/bvdmitri/.julia/packages/Revise/VxkZO/src/packagedef.jl:805\n"
     ]
    },
    {
     "ename": "LoadError",
     "evalue": "\u001b[91mUndefVarError: sbuffer not defined\u001b[39m",
     "output_type": "error",
     "traceback": [
      "\u001b[91mUndefVarError: sbuffer not defined\u001b[39m",
      "",
      "Stacktrace:",
      " [1] top-level scope at In[10]:2",
      " [2] include_string(::Function, ::Module, ::String, ::String) at ./loading.jl:1091"
     ]
    }
   ],
   "source": [
    "p1 = scatter(argmax.(s_data))\n",
    "p2 = scatter(argmax.(ReactiveMP.probvec.(sbuffer[end])))\n",
    "p3 = plot(fe)\n",
    "\n",
    "plot(p1, p2, p3, size = (1000, 400), layout = @layout([ a b c ]))"
   ]
  },
  {
   "cell_type": "code",
   "execution_count": 11,
   "metadata": {},
   "outputs": [
    {
     "data": {
      "image/svg+xml": [
       "<?xml version=\"1.0\" encoding=\"utf-8\"?>\n",
       "<svg xmlns=\"http://www.w3.org/2000/svg\" xmlns:xlink=\"http://www.w3.org/1999/xlink\" width=\"1000\" height=\"400\" viewBox=\"0 0 4000 1600\">\n",
       "<defs>\n",
       "  <clipPath id=\"clip370\">\n",
       "    <rect x=\"0\" y=\"0\" width=\"4000\" height=\"1600\"/>\n",
       "  </clipPath>\n",
       "</defs>\n",
       "<path clip-path=\"url(#clip370)\" d=\"\n",
       "M0 1600 L4000 1600 L4000 0 L0 0  Z\n",
       "  \" fill=\"#ffffff\" fill-rule=\"evenodd\" fill-opacity=\"1\"/>\n",
       "<defs>\n",
       "  <clipPath id=\"clip371\">\n",
       "    <rect x=\"800\" y=\"0\" width=\"2801\" height=\"1600\"/>\n",
       "  </clipPath>\n",
       "</defs>\n",
       "<path clip-path=\"url(#clip370)\" d=\"\n",
       "M163.848 1500.27 L3952.76 1500.27 L3952.76 47.2441 L163.848 47.2441  Z\n",
       "  \" fill=\"#ffffff\" fill-rule=\"evenodd\" fill-opacity=\"1\"/>\n",
       "<defs>\n",
       "  <clipPath id=\"clip372\">\n",
       "    <rect x=\"163\" y=\"47\" width=\"3790\" height=\"1454\"/>\n",
       "  </clipPath>\n",
       "</defs>\n",
       "<polyline clip-path=\"url(#clip372)\" style=\"stroke:#000000; stroke-width:2; stroke-opacity:0.1; fill:none\" points=\"\n",
       "  234.976,1500.27 234.976,47.2441 \n",
       "  \"/>\n",
       "<polyline clip-path=\"url(#clip372)\" style=\"stroke:#000000; stroke-width:2; stroke-opacity:0.1; fill:none\" points=\"\n",
       "  1137.61,1500.27 1137.61,47.2441 \n",
       "  \"/>\n",
       "<polyline clip-path=\"url(#clip372)\" style=\"stroke:#000000; stroke-width:2; stroke-opacity:0.1; fill:none\" points=\"\n",
       "  2040.25,1500.27 2040.25,47.2441 \n",
       "  \"/>\n",
       "<polyline clip-path=\"url(#clip372)\" style=\"stroke:#000000; stroke-width:2; stroke-opacity:0.1; fill:none\" points=\"\n",
       "  2942.89,1500.27 2942.89,47.2441 \n",
       "  \"/>\n",
       "<polyline clip-path=\"url(#clip372)\" style=\"stroke:#000000; stroke-width:2; stroke-opacity:0.1; fill:none\" points=\"\n",
       "  3845.52,1500.27 3845.52,47.2441 \n",
       "  \"/>\n",
       "<polyline clip-path=\"url(#clip370)\" style=\"stroke:#000000; stroke-width:4; stroke-opacity:1; fill:none\" points=\"\n",
       "  163.848,1500.27 3952.76,1500.27 \n",
       "  \"/>\n",
       "<polyline clip-path=\"url(#clip370)\" style=\"stroke:#000000; stroke-width:4; stroke-opacity:1; fill:none\" points=\"\n",
       "  234.976,1500.27 234.976,1482.84 \n",
       "  \"/>\n",
       "<polyline clip-path=\"url(#clip370)\" style=\"stroke:#000000; stroke-width:4; stroke-opacity:1; fill:none\" points=\"\n",
       "  1137.61,1500.27 1137.61,1482.84 \n",
       "  \"/>\n",
       "<polyline clip-path=\"url(#clip370)\" style=\"stroke:#000000; stroke-width:4; stroke-opacity:1; fill:none\" points=\"\n",
       "  2040.25,1500.27 2040.25,1482.84 \n",
       "  \"/>\n",
       "<polyline clip-path=\"url(#clip370)\" style=\"stroke:#000000; stroke-width:4; stroke-opacity:1; fill:none\" points=\"\n",
       "  2942.89,1500.27 2942.89,1482.84 \n",
       "  \"/>\n",
       "<polyline clip-path=\"url(#clip370)\" style=\"stroke:#000000; stroke-width:4; stroke-opacity:1; fill:none\" points=\"\n",
       "  3845.52,1500.27 3845.52,1482.84 \n",
       "  \"/>\n",
       "<path clip-path=\"url(#clip370)\" d=\"M 0 0 M234.976 1542.26 Q231.365 1542.26 229.536 1545.83 Q227.731 1549.37 227.731 1556.5 Q227.731 1563.61 229.536 1567.17 Q231.365 1570.71 234.976 1570.71 Q238.61 1570.71 240.416 1567.17 Q242.245 1563.61 242.245 1556.5 Q242.245 1549.37 240.416 1545.83 Q238.61 1542.26 234.976 1542.26 M234.976 1538.56 Q240.786 1538.56 243.842 1543.17 Q246.92 1547.75 246.92 1556.5 Q246.92 1565.23 243.842 1569.83 Q240.786 1574.42 234.976 1574.42 Q229.166 1574.42 226.087 1569.83 Q223.032 1565.23 223.032 1556.5 Q223.032 1547.75 226.087 1543.17 Q229.166 1538.56 234.976 1538.56 Z\" fill=\"#000000\" fill-rule=\"evenodd\" fill-opacity=\"1\" /><path clip-path=\"url(#clip370)\" d=\"M 0 0 M1119.26 1569.81 L1135.58 1569.81 L1135.58 1573.74 L1113.63 1573.74 L1113.63 1569.81 Q1116.29 1567.05 1120.88 1562.42 Q1125.48 1557.77 1126.66 1556.43 Q1128.91 1553.91 1129.79 1552.17 Q1130.69 1550.41 1130.69 1548.72 Q1130.69 1545.97 1128.75 1544.23 Q1126.83 1542.49 1123.72 1542.49 Q1121.52 1542.49 1119.07 1543.26 Q1116.64 1544.02 1113.86 1545.57 L1113.86 1540.85 Q1116.69 1539.72 1119.14 1539.14 Q1121.59 1538.56 1123.63 1538.56 Q1129 1538.56 1132.2 1541.24 Q1135.39 1543.93 1135.39 1548.42 Q1135.39 1550.55 1134.58 1552.47 Q1133.79 1554.37 1131.69 1556.96 Q1131.11 1557.63 1128.01 1560.85 Q1124.9 1564.04 1119.26 1569.81 Z\" fill=\"#000000\" fill-rule=\"evenodd\" fill-opacity=\"1\" /><path clip-path=\"url(#clip370)\" d=\"M 0 0 M1140.69 1539.18 L1159.05 1539.18 L1159.05 1543.12 L1144.97 1543.12 L1144.97 1551.59 Q1145.99 1551.24 1147.01 1551.08 Q1148.03 1550.9 1149.05 1550.9 Q1154.83 1550.9 1158.21 1554.07 Q1161.59 1557.24 1161.59 1562.66 Q1161.59 1568.23 1158.12 1571.34 Q1154.65 1574.42 1148.33 1574.42 Q1146.15 1574.42 1143.89 1574.04 Q1141.64 1573.67 1139.23 1572.93 L1139.23 1568.23 Q1141.32 1569.37 1143.54 1569.92 Q1145.76 1570.48 1148.24 1570.48 Q1152.24 1570.48 1154.58 1568.37 Q1156.92 1566.27 1156.92 1562.66 Q1156.92 1559.04 1154.58 1556.94 Q1152.24 1554.83 1148.24 1554.83 Q1146.36 1554.83 1144.49 1555.25 Q1142.64 1555.67 1140.69 1556.54 L1140.69 1539.18 Z\" fill=\"#000000\" fill-rule=\"evenodd\" fill-opacity=\"1\" /><path clip-path=\"url(#clip370)\" d=\"M 0 0 M2017.02 1539.18 L2035.38 1539.18 L2035.38 1543.12 L2021.3 1543.12 L2021.3 1551.59 Q2022.32 1551.24 2023.34 1551.08 Q2024.36 1550.9 2025.38 1550.9 Q2031.16 1550.9 2034.54 1554.07 Q2037.92 1557.24 2037.92 1562.66 Q2037.92 1568.23 2034.45 1571.34 Q2030.98 1574.42 2024.66 1574.42 Q2022.48 1574.42 2020.21 1574.04 Q2017.97 1573.67 2015.56 1572.93 L2015.56 1568.23 Q2017.65 1569.37 2019.87 1569.92 Q2022.09 1570.48 2024.57 1570.48 Q2028.57 1570.48 2030.91 1568.37 Q2033.25 1566.27 2033.25 1562.66 Q2033.25 1559.04 2030.91 1556.94 Q2028.57 1554.83 2024.57 1554.83 Q2022.69 1554.83 2020.82 1555.25 Q2018.96 1555.67 2017.02 1556.54 L2017.02 1539.18 Z\" fill=\"#000000\" fill-rule=\"evenodd\" fill-opacity=\"1\" /><path clip-path=\"url(#clip370)\" d=\"M 0 0 M2052.99 1542.26 Q2049.38 1542.26 2047.55 1545.83 Q2045.75 1549.37 2045.75 1556.5 Q2045.75 1563.61 2047.55 1567.17 Q2049.38 1570.71 2052.99 1570.71 Q2056.63 1570.71 2058.43 1567.17 Q2060.26 1563.61 2060.26 1556.5 Q2060.26 1549.37 2058.43 1545.83 Q2056.63 1542.26 2052.99 1542.26 M2052.99 1538.56 Q2058.8 1538.56 2061.86 1543.17 Q2064.94 1547.75 2064.94 1556.5 Q2064.94 1565.23 2061.86 1569.83 Q2058.8 1574.42 2052.99 1574.42 Q2047.18 1574.42 2044.1 1569.83 Q2041.05 1565.23 2041.05 1556.5 Q2041.05 1547.75 2044.1 1543.17 Q2047.18 1538.56 2052.99 1538.56 Z\" fill=\"#000000\" fill-rule=\"evenodd\" fill-opacity=\"1\" /><path clip-path=\"url(#clip370)\" d=\"M 0 0 M2918.77 1539.18 L2940.99 1539.18 L2940.99 1541.17 L2928.44 1573.74 L2923.56 1573.74 L2935.36 1543.12 L2918.77 1543.12 L2918.77 1539.18 Z\" fill=\"#000000\" fill-rule=\"evenodd\" fill-opacity=\"1\" /><path clip-path=\"url(#clip370)\" d=\"M 0 0 M2946.1 1539.18 L2964.46 1539.18 L2964.46 1543.12 L2950.39 1543.12 L2950.39 1551.59 Q2951.4 1551.24 2952.42 1551.08 Q2953.44 1550.9 2954.46 1550.9 Q2960.25 1550.9 2963.63 1554.07 Q2967.01 1557.24 2967.01 1562.66 Q2967.01 1568.23 2963.53 1571.34 Q2960.06 1574.42 2953.74 1574.42 Q2951.57 1574.42 2949.3 1574.04 Q2947.05 1573.67 2944.65 1572.93 L2944.65 1568.23 Q2946.73 1569.37 2948.95 1569.92 Q2951.17 1570.48 2953.65 1570.48 Q2957.65 1570.48 2959.99 1568.37 Q2962.33 1566.27 2962.33 1562.66 Q2962.33 1559.04 2959.99 1556.94 Q2957.65 1554.83 2953.65 1554.83 Q2951.77 1554.83 2949.9 1555.25 Q2948.05 1555.67 2946.1 1556.54 L2946.1 1539.18 Z\" fill=\"#000000\" fill-rule=\"evenodd\" fill-opacity=\"1\" /><path clip-path=\"url(#clip370)\" d=\"M 0 0 M3808.89 1569.81 L3816.53 1569.81 L3816.53 1543.44 L3808.22 1545.11 L3808.22 1540.85 L3816.48 1539.18 L3821.16 1539.18 L3821.16 1569.81 L3828.8 1569.81 L3828.8 1573.74 L3808.89 1573.74 L3808.89 1569.81 Z\" fill=\"#000000\" fill-rule=\"evenodd\" fill-opacity=\"1\" /><path clip-path=\"url(#clip370)\" d=\"M 0 0 M3843.87 1542.26 Q3840.26 1542.26 3838.43 1545.83 Q3836.62 1549.37 3836.62 1556.5 Q3836.62 1563.61 3838.43 1567.17 Q3840.26 1570.71 3843.87 1570.71 Q3847.5 1570.71 3849.31 1567.17 Q3851.14 1563.61 3851.14 1556.5 Q3851.14 1549.37 3849.31 1545.83 Q3847.5 1542.26 3843.87 1542.26 M3843.87 1538.56 Q3849.68 1538.56 3852.73 1543.17 Q3855.81 1547.75 3855.81 1556.5 Q3855.81 1565.23 3852.73 1569.83 Q3849.68 1574.42 3843.87 1574.42 Q3838.06 1574.42 3834.98 1569.83 Q3831.92 1565.23 3831.92 1556.5 Q3831.92 1547.75 3834.98 1543.17 Q3838.06 1538.56 3843.87 1538.56 Z\" fill=\"#000000\" fill-rule=\"evenodd\" fill-opacity=\"1\" /><path clip-path=\"url(#clip370)\" d=\"M 0 0 M3870.88 1542.26 Q3867.27 1542.26 3865.44 1545.83 Q3863.64 1549.37 3863.64 1556.5 Q3863.64 1563.61 3865.44 1567.17 Q3867.27 1570.71 3870.88 1570.71 Q3874.52 1570.71 3876.32 1567.17 Q3878.15 1563.61 3878.15 1556.5 Q3878.15 1549.37 3876.32 1545.83 Q3874.52 1542.26 3870.88 1542.26 M3870.88 1538.56 Q3876.69 1538.56 3879.75 1543.17 Q3882.83 1547.75 3882.83 1556.5 Q3882.83 1565.23 3879.75 1569.83 Q3876.69 1574.42 3870.88 1574.42 Q3865.07 1574.42 3861.99 1569.83 Q3858.94 1565.23 3858.94 1556.5 Q3858.94 1547.75 3861.99 1543.17 Q3865.07 1538.56 3870.88 1538.56 Z\" fill=\"#000000\" fill-rule=\"evenodd\" fill-opacity=\"1\" /><polyline clip-path=\"url(#clip372)\" style=\"stroke:#000000; stroke-width:2; stroke-opacity:0.1; fill:none\" points=\"\n",
       "  163.848,1459.63 3952.76,1459.63 \n",
       "  \"/>\n",
       "<polyline clip-path=\"url(#clip372)\" style=\"stroke:#000000; stroke-width:2; stroke-opacity:0.1; fill:none\" points=\"\n",
       "  163.848,1109.68 3952.76,1109.68 \n",
       "  \"/>\n",
       "<polyline clip-path=\"url(#clip372)\" style=\"stroke:#000000; stroke-width:2; stroke-opacity:0.1; fill:none\" points=\"\n",
       "  163.848,759.736 3952.76,759.736 \n",
       "  \"/>\n",
       "<polyline clip-path=\"url(#clip372)\" style=\"stroke:#000000; stroke-width:2; stroke-opacity:0.1; fill:none\" points=\"\n",
       "  163.848,409.788 3952.76,409.788 \n",
       "  \"/>\n",
       "<polyline clip-path=\"url(#clip372)\" style=\"stroke:#000000; stroke-width:2; stroke-opacity:0.1; fill:none\" points=\"\n",
       "  163.848,59.8403 3952.76,59.8403 \n",
       "  \"/>\n",
       "<polyline clip-path=\"url(#clip370)\" style=\"stroke:#000000; stroke-width:4; stroke-opacity:1; fill:none\" points=\"\n",
       "  163.848,1500.27 163.848,47.2441 \n",
       "  \"/>\n",
       "<polyline clip-path=\"url(#clip370)\" style=\"stroke:#000000; stroke-width:4; stroke-opacity:1; fill:none\" points=\"\n",
       "  163.848,1459.63 209.315,1459.63 \n",
       "  \"/>\n",
       "<polyline clip-path=\"url(#clip370)\" style=\"stroke:#000000; stroke-width:4; stroke-opacity:1; fill:none\" points=\"\n",
       "  163.848,1109.68 209.315,1109.68 \n",
       "  \"/>\n",
       "<polyline clip-path=\"url(#clip370)\" style=\"stroke:#000000; stroke-width:4; stroke-opacity:1; fill:none\" points=\"\n",
       "  163.848,759.736 209.315,759.736 \n",
       "  \"/>\n",
       "<polyline clip-path=\"url(#clip370)\" style=\"stroke:#000000; stroke-width:4; stroke-opacity:1; fill:none\" points=\"\n",
       "  163.848,409.788 209.315,409.788 \n",
       "  \"/>\n",
       "<polyline clip-path=\"url(#clip370)\" style=\"stroke:#000000; stroke-width:4; stroke-opacity:1; fill:none\" points=\"\n",
       "  163.848,59.8403 209.315,59.8403 \n",
       "  \"/>\n",
       "<path clip-path=\"url(#clip370)\" d=\"M 0 0 M54.9365 1445.43 Q51.3254 1445.43 49.4967 1449 Q47.6912 1452.54 47.6912 1459.67 Q47.6912 1466.77 49.4967 1470.34 Q51.3254 1473.88 54.9365 1473.88 Q58.5707 1473.88 60.3763 1470.34 Q62.205 1466.77 62.205 1459.67 Q62.205 1452.54 60.3763 1449 Q58.5707 1445.43 54.9365 1445.43 M54.9365 1441.73 Q60.7467 1441.73 63.8022 1446.33 Q66.8809 1450.92 66.8809 1459.67 Q66.8809 1468.39 63.8022 1473 Q60.7467 1477.58 54.9365 1477.58 Q49.1264 1477.58 46.0477 1473 Q42.9921 1468.39 42.9921 1459.67 Q42.9921 1450.92 46.0477 1446.33 Q49.1264 1441.73 54.9365 1441.73 Z\" fill=\"#000000\" fill-rule=\"evenodd\" fill-opacity=\"1\" /><path clip-path=\"url(#clip370)\" d=\"M 0 0 M71.9503 1471.03 L76.8345 1471.03 L76.8345 1476.91 L71.9503 1476.91 L71.9503 1471.03 Z\" fill=\"#000000\" fill-rule=\"evenodd\" fill-opacity=\"1\" /><path clip-path=\"url(#clip370)\" d=\"M 0 0 M91.9039 1445.43 Q88.2928 1445.43 86.4641 1449 Q84.6586 1452.54 84.6586 1459.67 Q84.6586 1466.77 86.4641 1470.34 Q88.2928 1473.88 91.9039 1473.88 Q95.5381 1473.88 97.3437 1470.34 Q99.1724 1466.77 99.1724 1459.67 Q99.1724 1452.54 97.3437 1449 Q95.5381 1445.43 91.9039 1445.43 M91.9039 1441.73 Q97.7141 1441.73 100.77 1446.33 Q103.848 1450.92 103.848 1459.67 Q103.848 1468.39 100.77 1473 Q97.7141 1477.58 91.9039 1477.58 Q86.0937 1477.58 83.0151 1473 Q79.9595 1468.39 79.9595 1459.67 Q79.9595 1450.92 83.0151 1446.33 Q86.0937 1441.73 91.9039 1441.73 Z\" fill=\"#000000\" fill-rule=\"evenodd\" fill-opacity=\"1\" /><path clip-path=\"url(#clip370)\" d=\"M 0 0 M55.9319 1095.48 Q52.3208 1095.48 50.4921 1099.05 Q48.6865 1102.59 48.6865 1109.72 Q48.6865 1116.83 50.4921 1120.39 Q52.3208 1123.93 55.9319 1123.93 Q59.5661 1123.93 61.3717 1120.39 Q63.2004 1116.83 63.2004 1109.72 Q63.2004 1102.59 61.3717 1099.05 Q59.5661 1095.48 55.9319 1095.48 M55.9319 1091.78 Q61.742 1091.78 64.7976 1096.39 Q67.8763 1100.97 67.8763 1109.72 Q67.8763 1118.45 64.7976 1123.05 Q61.742 1127.64 55.9319 1127.64 Q50.1217 1127.64 47.043 1123.05 Q43.9875 1118.45 43.9875 1109.72 Q43.9875 1100.97 47.043 1096.39 Q50.1217 1091.78 55.9319 1091.78 Z\" fill=\"#000000\" fill-rule=\"evenodd\" fill-opacity=\"1\" /><path clip-path=\"url(#clip370)\" d=\"M 0 0 M72.9457 1121.08 L77.8299 1121.08 L77.8299 1126.96 L72.9457 1126.96 L72.9457 1121.08 Z\" fill=\"#000000\" fill-rule=\"evenodd\" fill-opacity=\"1\" /><path clip-path=\"url(#clip370)\" d=\"M 0 0 M82.9456 1092.4 L101.302 1092.4 L101.302 1096.34 L87.228 1096.34 L87.228 1104.81 Q88.2465 1104.46 89.265 1104.3 Q90.2835 1104.12 91.3021 1104.12 Q97.0891 1104.12 100.469 1107.29 Q103.848 1110.46 103.848 1115.88 Q103.848 1121.46 100.376 1124.56 Q96.9039 1127.64 90.5845 1127.64 Q88.4085 1127.64 86.14 1127.27 Q83.8947 1126.89 81.4873 1126.15 L81.4873 1121.46 Q83.5706 1122.59 85.7928 1123.14 Q88.015 1123.7 90.4919 1123.7 Q94.4965 1123.7 96.8344 1121.59 Q99.1724 1119.49 99.1724 1115.88 Q99.1724 1112.27 96.8344 1110.16 Q94.4965 1108.05 90.4919 1108.05 Q88.6169 1108.05 86.7419 1108.47 Q84.89 1108.89 82.9456 1109.77 L82.9456 1092.4 Z\" fill=\"#000000\" fill-rule=\"evenodd\" fill-opacity=\"1\" /><path clip-path=\"url(#clip370)\" d=\"M 0 0 M46.9736 773.081 L54.6124 773.081 L54.6124 746.716 L46.3023 748.382 L46.3023 744.123 L54.5661 742.456 L59.242 742.456 L59.242 773.081 L66.8809 773.081 L66.8809 777.016 L46.9736 777.016 L46.9736 773.081 Z\" fill=\"#000000\" fill-rule=\"evenodd\" fill-opacity=\"1\" /><path clip-path=\"url(#clip370)\" d=\"M 0 0 M71.9503 771.137 L76.8345 771.137 L76.8345 777.016 L71.9503 777.016 L71.9503 771.137 Z\" fill=\"#000000\" fill-rule=\"evenodd\" fill-opacity=\"1\" /><path clip-path=\"url(#clip370)\" d=\"M 0 0 M91.9039 745.535 Q88.2928 745.535 86.4641 749.1 Q84.6586 752.641 84.6586 759.771 Q84.6586 766.877 86.4641 770.442 Q88.2928 773.984 91.9039 773.984 Q95.5381 773.984 97.3437 770.442 Q99.1724 766.877 99.1724 759.771 Q99.1724 752.641 97.3437 749.1 Q95.5381 745.535 91.9039 745.535 M91.9039 741.831 Q97.7141 741.831 100.77 746.438 Q103.848 751.021 103.848 759.771 Q103.848 768.498 100.77 773.104 Q97.7141 777.688 91.9039 777.688 Q86.0937 777.688 83.0151 773.104 Q79.9595 768.498 79.9595 759.771 Q79.9595 751.021 83.0151 746.438 Q86.0937 741.831 91.9039 741.831 Z\" fill=\"#000000\" fill-rule=\"evenodd\" fill-opacity=\"1\" /><path clip-path=\"url(#clip370)\" d=\"M 0 0 M47.969 423.133 L55.6078 423.133 L55.6078 396.768 L47.2977 398.434 L47.2977 394.175 L55.5615 392.508 L60.2374 392.508 L60.2374 423.133 L67.8763 423.133 L67.8763 427.068 L47.969 427.068 L47.969 423.133 Z\" fill=\"#000000\" fill-rule=\"evenodd\" fill-opacity=\"1\" /><path clip-path=\"url(#clip370)\" d=\"M 0 0 M72.9457 421.189 L77.8299 421.189 L77.8299 427.068 L72.9457 427.068 L72.9457 421.189 Z\" fill=\"#000000\" fill-rule=\"evenodd\" fill-opacity=\"1\" /><path clip-path=\"url(#clip370)\" d=\"M 0 0 M82.9456 392.508 L101.302 392.508 L101.302 396.443 L87.228 396.443 L87.228 404.916 Q88.2465 404.568 89.265 404.406 Q90.2835 404.221 91.3021 404.221 Q97.0891 404.221 100.469 407.392 Q103.848 410.564 103.848 415.98 Q103.848 421.559 100.376 424.661 Q96.9039 427.74 90.5845 427.74 Q88.4085 427.74 86.14 427.369 Q83.8947 426.999 81.4873 426.258 L81.4873 421.559 Q83.5706 422.693 85.7928 423.249 Q88.015 423.804 90.4919 423.804 Q94.4965 423.804 96.8344 421.698 Q99.1724 419.591 99.1724 415.98 Q99.1724 412.369 96.8344 410.263 Q94.4965 408.156 90.4919 408.156 Q88.6169 408.156 86.7419 408.573 Q84.89 408.99 82.9456 409.869 L82.9456 392.508 Z\" fill=\"#000000\" fill-rule=\"evenodd\" fill-opacity=\"1\" /><path clip-path=\"url(#clip370)\" d=\"M 0 0 M50.5615 73.1851 L66.8809 73.1851 L66.8809 77.1203 L44.9366 77.1203 L44.9366 73.1851 Q47.5986 70.4305 52.1819 65.8009 Q56.7883 61.1482 57.9689 59.8056 Q60.2143 57.2825 61.0939 55.5464 Q61.9967 53.7871 61.9967 52.0973 Q61.9967 49.3427 60.0522 47.6066 Q58.1309 45.8705 55.0291 45.8705 Q52.83 45.8705 50.3763 46.6344 Q47.9458 47.3983 45.168 48.9492 L45.168 44.227 Q47.9921 43.0927 50.4458 42.514 Q52.8995 41.9353 54.9365 41.9353 Q60.3068 41.9353 63.5013 44.6205 Q66.6957 47.3057 66.6957 51.7964 Q66.6957 53.926 65.8855 55.8473 Q65.0985 57.7454 62.992 60.338 Q62.4133 61.0093 59.3115 64.2269 Q56.2096 67.4213 50.5615 73.1851 Z\" fill=\"#000000\" fill-rule=\"evenodd\" fill-opacity=\"1\" /><path clip-path=\"url(#clip370)\" d=\"M 0 0 M71.9503 71.2407 L76.8345 71.2407 L76.8345 77.1203 L71.9503 77.1203 L71.9503 71.2407 Z\" fill=\"#000000\" fill-rule=\"evenodd\" fill-opacity=\"1\" /><path clip-path=\"url(#clip370)\" d=\"M 0 0 M91.9039 45.639 Q88.2928 45.639 86.4641 49.2038 Q84.6586 52.7454 84.6586 59.875 Q84.6586 66.9815 86.4641 70.5463 Q88.2928 74.0879 91.9039 74.0879 Q95.5381 74.0879 97.3437 70.5463 Q99.1724 66.9815 99.1724 59.875 Q99.1724 52.7454 97.3437 49.2038 Q95.5381 45.639 91.9039 45.639 M91.9039 41.9353 Q97.7141 41.9353 100.77 46.5418 Q103.848 51.1251 103.848 59.875 Q103.848 68.6018 100.77 73.2083 Q97.7141 77.7916 91.9039 77.7916 Q86.0937 77.7916 83.0151 73.2083 Q79.9595 68.6018 79.9595 59.875 Q79.9595 51.1251 83.0151 46.5418 Q86.0937 41.9353 91.9039 41.9353 Z\" fill=\"#000000\" fill-rule=\"evenodd\" fill-opacity=\"1\" /><polyline clip-path=\"url(#clip372)\" style=\"stroke:#009af9; stroke-width:4; stroke-opacity:1; fill:none\" points=\"\n",
       "  271.082,211.503 307.187,1381.79 343.292,1454.12 379.398,1456 415.503,1344.49 451.609,1452.95 487.714,1458.78 523.82,1459.13 559.925,1459.15 596.031,1459.15 \n",
       "  632.136,1459.15 668.242,1459.15 704.347,1459.15 740.453,1459.13 776.558,1458.48 812.664,88.3675 848.769,1332.03 884.874,1445.6 920.98,1445.5 957.085,1205.42 \n",
       "  993.191,1438.34 1029.3,1456.05 1065.4,1457.52 1101.51,1457.64 1137.61,1457.56 1173.72,1455.23 1209.82,1400.6 1245.93,1384.29 1282.03,1454.48 1318.14,1458.38 \n",
       "  1354.25,1458.59 1390.35,1458.61 1426.46,1458.61 1462.56,1458.6 1498.67,1458.54 1534.77,1457.33 1570.88,1435.21 1606.98,1020.92 1643.09,1225.26 1679.19,1438.24 \n",
       "  1715.3,1457.34 1751.41,1458.53 1787.51,1458.6 1823.62,1458.61 1859.72,1458.6 1895.83,1458.57 1931.93,1457.23 1968.04,1398.79 2004.14,1452.28 2040.25,1458.2 \n",
       "  2076.35,1458.58 2112.46,1458.6 2148.57,1458.59 2184.67,1458.07 2220.78,1432.96 2256.88,1373.85 2292.99,1453.85 2329.09,1458.8 2365.2,1458.46 2401.3,1431.1 \n",
       "  2437.41,1301.09 2473.51,1358.83 2509.62,1250.55 2545.73,1378.54 2581.83,1454.17 2617.94,1458.84 2654.04,1459.13 2690.15,1459.15 2726.25,1459.15 2762.36,1459.15 \n",
       "  2798.46,1459.15 2834.57,1459.15 2870.68,1459.15 2906.78,1459.15 2942.89,1459.15 2978.99,1459.08 3015.1,1456.47 3051.2,1344.66 3087.31,1452.96 3123.41,1458.78 \n",
       "  3159.52,1459.13 3195.62,1459.15 3231.73,1459.15 3267.84,1459.08 3303.94,1456.47 3340.05,1344.41 3376.15,1452.66 3412.26,1457.84 3448.36,1434.78 3484.47,1029.18 \n",
       "  3520.57,974.738 3556.68,1396.96 3592.78,1455.31 3628.89,1458.91 3665,1459.13 3701.1,1459.13 3737.21,1458.51 3773.31,1432.03 3809.42,1263.46 3845.52,1350.9 \n",
       "  \n",
       "  \"/>\n",
       "<path clip-path=\"url(#clip370)\" d=\"\n",
       "M3354.45 216.638 L3826.46 216.638 L3826.46 95.6784 L3354.45 95.6784  Z\n",
       "  \" fill=\"#ffffff\" fill-rule=\"evenodd\" fill-opacity=\"1\"/>\n",
       "<polyline clip-path=\"url(#clip370)\" style=\"stroke:#000000; stroke-width:4; stroke-opacity:1; fill:none\" points=\"\n",
       "  3354.45,216.638 3826.46,216.638 3826.46,95.6784 3354.45,95.6784 3354.45,216.638 \n",
       "  \"/>\n",
       "<polyline clip-path=\"url(#clip370)\" style=\"stroke:#009af9; stroke-width:4; stroke-opacity:1; fill:none\" points=\"\n",
       "  3396.55,156.158 3649.14,156.158 \n",
       "  \"/>\n",
       "<path clip-path=\"url(#clip370)\" d=\"M 0 0 M3705.09 175.846 Q3703.28 180.475 3701.57 181.887 Q3699.85 183.299 3696.98 183.299 L3693.58 183.299 L3693.58 179.735 L3696.08 179.735 Q3697.84 179.735 3698.81 178.901 Q3699.78 178.068 3700.96 174.966 L3701.73 173.022 L3691.24 147.513 L3695.76 147.513 L3703.86 167.79 L3711.96 147.513 L3716.47 147.513 L3705.09 175.846 Z\" fill=\"#000000\" fill-rule=\"evenodd\" fill-opacity=\"1\" /><path clip-path=\"url(#clip370)\" d=\"M 0 0 M3722.35 169.503 L3729.99 169.503 L3729.99 143.138 L3721.68 144.804 L3721.68 140.545 L3729.95 138.878 L3734.62 138.878 L3734.62 169.503 L3742.26 169.503 L3742.26 173.438 L3722.35 173.438 L3722.35 169.503 Z\" fill=\"#000000\" fill-rule=\"evenodd\" fill-opacity=\"1\" /></svg>\n"
      ]
     },
     "execution_count": 11,
     "metadata": {},
     "output_type": "execute_result"
    }
   ],
   "source": [
    "plot(sum.(map(a -> abs.(a), ReactiveMP.probvec.(sbuffer[end]) .- s_data)), size = (1000, 400))"
   ]
  },
  {
   "cell_type": "code",
   "execution_count": null,
   "metadata": {},
   "outputs": [],
   "source": []
  }
 ],
 "metadata": {
  "kernelspec": {
   "display_name": "Julia 1.5.3",
   "language": "julia",
   "name": "julia-1.5"
  },
  "language_info": {
   "file_extension": ".jl",
   "mimetype": "application/julia",
   "name": "julia",
   "version": "1.5.3"
  }
 },
 "nbformat": 4,
 "nbformat_minor": 4
}
