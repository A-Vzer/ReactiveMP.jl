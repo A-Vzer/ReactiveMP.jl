{
 "cells": [
  {
   "cell_type": "code",
   "execution_count": 1,
   "metadata": {},
   "outputs": [],
   "source": [
    "using Rocket\n",
    "using ReactiveMP\n",
    "using GraphPPL\n",
    "using BenchmarkTools\n",
    "using Distributions"
   ]
  },
  {
   "cell_type": "code",
   "execution_count": 2,
   "metadata": {
    "scrolled": false
   },
   "outputs": [
    {
     "data": {
      "text/plain": [
       "smoothing (generic function with 1 method)"
      ]
     },
     "execution_count": 2,
     "metadata": {},
     "output_type": "execute_result"
    }
   ],
   "source": [
    "@model function smoothing(n, x0, c::ConstVariable, P::ConstVariable)\n",
    "    \n",
    "    x_prior ~ NormalMeanVariance(mean(x0), cov(x0)) \n",
    "\n",
    "    x = randomvar(n)\n",
    "    y = datavar(Float64, n)\n",
    "\n",
    "    x_prev = x_prior\n",
    "\n",
    "    for i in 1:n\n",
    "        x[i] ~ x_prev + c\n",
    "        y[i] ~ NormalMeanVariance(x[i], P)\n",
    "        \n",
    "        x_prev = x[i]\n",
    "    end\n",
    "\n",
    "    return x, y\n",
    "end"
   ]
  },
  {
   "cell_type": "code",
   "execution_count": 3,
   "metadata": {},
   "outputs": [],
   "source": [
    "using Random"
   ]
  },
  {
   "cell_type": "code",
   "execution_count": 4,
   "metadata": {},
   "outputs": [],
   "source": [
    "P = 1.0\n",
    "\n",
    "Random.seed!(123)\n",
    "\n",
    "n = 250\n",
    "data = -5.0 .+ collect(1:n) + rand(Normal(0.0, sqrt(P)), n);"
   ]
  },
  {
   "cell_type": "code",
   "execution_count": 5,
   "metadata": {},
   "outputs": [
    {
     "data": {
      "text/plain": [
       "inference (generic function with 1 method)"
      ]
     },
     "execution_count": 5,
     "metadata": {},
     "output_type": "execute_result"
    }
   ],
   "source": [
    "function inference(data, x0, c, P)\n",
    "    n = length(data)\n",
    "    \n",
    "    model, (x, y) = smoothing(n, x0, c, P);\n",
    "\n",
    "    ms_buffer = Vector{Marginal}(undef, n)\n",
    "    fe_buffer = nothing\n",
    "    \n",
    "    fe_subscription = subscribe!(score(BetheFreeEnergy(), model), (fe) -> fe_buffer = fe)\n",
    "    ms_subscription = subscribe!(getmarginals(x), (ms) -> copyto!(ms_buffer, ms))\n",
    "    \n",
    "    update!(y, data)\n",
    "    \n",
    "    unsubscribe!(ms_subscription)\n",
    "    unsubscribe!(fe_subscription)\n",
    "    \n",
    "    return ms_buffer, fe_buffer\n",
    "end"
   ]
  },
  {
   "cell_type": "code",
   "execution_count": 6,
   "metadata": {},
   "outputs": [
    {
     "data": {
      "text/plain": [
       "f (generic function with 1 method)"
      ]
     },
     "execution_count": 6,
     "metadata": {},
     "output_type": "execute_result"
    }
   ],
   "source": [
    "# c[1] is C\n",
    "# c[2] is μ0\n",
    "function f(c)\n",
    "    x0_prior = NormalMeanVariance(c[2], 100.0)\n",
    "    ms, fe = inference(data, x0_prior, c[1], P)\n",
    "    return fe\n",
    "end"
   ]
  },
  {
   "cell_type": "code",
   "execution_count": 7,
   "metadata": {},
   "outputs": [],
   "source": [
    "using Optim"
   ]
  },
  {
   "cell_type": "code",
   "execution_count": 8,
   "metadata": {},
   "outputs": [
    {
     "name": "stdout",
     "output_type": "stream",
     "text": [
      "Iter     Function value   Gradient norm \n",
      "     0     3.655789e+02     8.149754e+02\n",
      " * time: 0.021127939224243164\n",
      "     1     3.653239e+02     5.997076e-02\n",
      " * time: 1.8130319118499756\n",
      "     2     3.652238e+02     3.400217e+02\n",
      " * time: 3.0855767726898193\n",
      "     3     3.651794e+02     2.660345e-02\n",
      " * time: 3.260133981704712\n",
      "     4     3.651615e+02     1.517870e+02\n",
      " * time: 4.507405996322632\n",
      "     5     3.651526e+02     1.309935e-02\n",
      " * time: 4.691638946533203\n",
      "     6     3.651483e+02     7.474478e+01\n",
      " * time: 5.944358825683594\n",
      "     7     3.651461e+02     6.495536e-03\n",
      " * time: 6.129737854003906\n",
      "     8     3.651450e+02     3.697864e+01\n",
      " * time: 7.368397951126099\n",
      "     9     3.651445e+02     3.026425e-03\n",
      " * time: 7.548759937286377\n",
      "    10     3.651443e+02     1.650103e+01\n",
      " * time: 8.723621845245361\n",
      "    11     3.651442e+02     1.959583e-03\n",
      " * time: 8.908521890640259\n",
      "    12     3.651442e+02     8.163634e+00\n",
      " * time: 10.056681871414185\n",
      "    13     3.651442e+02     1.649326e-03\n",
      " * time: 10.234164953231812\n",
      "    14     3.651441e+02     9.079844e+00\n",
      " * time: 11.383336782455444\n",
      "    15     3.651441e+02     1.041643e-03\n",
      " * time: 11.574095964431763\n",
      "    16     3.651440e+02     4.100153e+00\n",
      " * time: 12.821043968200684\n",
      "    17     3.651440e+02     1.437627e-04\n",
      " * time: 13.00125789642334\n"
     ]
    },
    {
     "data": {
      "text/plain": [
       " * Status: success\n",
       "\n",
       " * Candidate solution\n",
       "    Final objective value:     3.651440e+02\n",
       "\n",
       " * Found with\n",
       "    Algorithm:     Gradient Descent\n",
       "\n",
       " * Convergence measures\n",
       "    |x - x'|               = 3.15e-06 ≰ 0.0e+00\n",
       "    |x - x'|/|x'|          = 6.32e-07 ≰ 0.0e+00\n",
       "    |f(x) - f(x')|         = 6.45e-06 ≰ 0.0e+00\n",
       "    |f(x) - f(x')|/|f(x')| = 1.77e-08 ≰ 0.0e+00\n",
       "    |g(x)|                 = 1.44e-04 ≤ 1.0e-03\n",
       "\n",
       " * Work counters\n",
       "    Seconds run:   13  (vs limit Inf)\n",
       "    Iterations:    17\n",
       "    f(x) calls:    128\n",
       "    ∇f(x) calls:   128\n"
      ]
     },
     "execution_count": 8,
     "metadata": {},
     "output_type": "execute_result"
    }
   ],
   "source": [
    "res = optimize(f, ones(2), GradientDescent(), Optim.Options(g_tol = 1e-3, iterations = 100, store_trace = true, show_trace = true))"
   ]
  },
  {
   "cell_type": "code",
   "execution_count": 9,
   "metadata": {},
   "outputs": [
    {
     "data": {
      "text/plain": [
       "2-element Vector{Float64}:\n",
       "  1.0006316018959704\n",
       " -4.983657748477323"
      ]
     },
     "execution_count": 9,
     "metadata": {},
     "output_type": "execute_result"
    }
   ],
   "source": [
    "res.minimizer # Real values are indeed (c = 1.0 and μ0 = -5.0)"
   ]
  },
  {
   "cell_type": "code",
   "execution_count": null,
   "metadata": {},
   "outputs": [],
   "source": []
  }
 ],
 "metadata": {
  "kernelspec": {
   "display_name": "Julia 1.6.1",
   "language": "julia",
   "name": "julia-1.6"
  },
  "language_info": {
   "file_extension": ".jl",
   "mimetype": "application/julia",
   "name": "julia",
   "version": "1.6.1"
  }
 },
 "nbformat": 4,
 "nbformat_minor": 4
}
