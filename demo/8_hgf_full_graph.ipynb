{
 "cells": [
  {
   "cell_type": "code",
   "execution_count": 1,
   "metadata": {},
   "outputs": [
    {
     "name": "stderr",
     "output_type": "stream",
     "text": [
      "┌ Info: Precompiling ReactiveMP [a194aa59-28ba-4574-a09c-4a745416d6e3]\n",
      "└ @ Base loading.jl:1278\n",
      "┌ Warning: Package ReactiveMP does not have Rocket in its dependencies:\n",
      "│ - If you have ReactiveMP checked out for development and have\n",
      "│   added Rocket as a dependency but haven't updated your primary\n",
      "│   environment's manifest file, try `Pkg.resolve()`.\n",
      "│ - Otherwise you may need to report an issue with ReactiveMP\n",
      "└ Loading Rocket into ReactiveMP from project dependency, future warnings for ReactiveMP are suppressed.\n"
     ]
    }
   ],
   "source": [
    "using Distributions\n",
    "using Rocket\n",
    "using ReactiveMP\n",
    "using BenchmarkTools\n",
    "using Plots\n",
    "using Random\n",
    "\n",
    "import ProgressMeter"
   ]
  },
  {
   "cell_type": "code",
   "execution_count": 2,
   "metadata": {},
   "outputs": [
    {
     "data": {
      "text/plain": [
       "hgf (generic function with 1 method)"
      ]
     },
     "execution_count": 2,
     "metadata": {},
     "output_type": "execute_result"
    }
   ],
   "source": [
    "function hgf_timeslice(model, zt_prev, xt_prev, real_k, real_w, z_variance, y_variance)\n",
    "    \n",
    "    zvar = constvar(model, :zvar, z_variance)\n",
    "    zt   = randomvar(model, :zt)\n",
    "\n",
    "    z_transition = make_node(model, NormalMeanVariance, zt, zt_prev, zvar, factorisation = ((1,),(2,),(3,)))\n",
    "    \n",
    "    xt = randomvar(model, :xt)\n",
    "    kt = constvar(model, :kt, real_k)\n",
    "    ωt = constvar(model, :wt, real_w)\n",
    "    \n",
    "    gcv = make_node(model, GCV, xt, xt_prev, zt, kt, ωt, factorisation = ((1, 2), (3,), (4,), (5, )))\n",
    "    \n",
    "    y_var = constvar(model, :y_var, y_variance)\n",
    "    y     = datavar(model, :y, Dirac{Float64})\n",
    "    \n",
    "    obs = make_node(model, NormalMeanVariance, y, xt, y_var)\n",
    "    \n",
    "    return (zt, xt, y, gcv)\n",
    "end\n",
    "\n",
    "function hgf(n, iters, data, real_k, real_w, z_variance, y_variance)\n",
    "    model = Model()\n",
    "    \n",
    "    zs = Vector{RandomVariable}(undef, n)\n",
    "    xs = Vector{RandomVariable}(undef, n)\n",
    "    ys = Vector{DataVariable}(undef, n)\n",
    "    \n",
    "    zt_1_mean = datavar(model, :zt_1_mean, Dirac{Float64})\n",
    "    zt_1_var  = datavar(model, :zt_1_var, Dirac{Float64})\n",
    "    zt_1      = randomvar(model, :zt_1)\n",
    "    \n",
    "    xt_1_mean = datavar(model, :xt_1_mean, Dirac{Float64})\n",
    "    xt_1_var  = datavar(model, :xt_1_var, Dirac{Float64})\n",
    "    xt_1      = randomvar(model, :xt_1)\n",
    "    \n",
    "    zt_1_prior = make_node(model, NormalMeanVariance, zt_1, zt_1_mean, zt_1_var)\n",
    "    xt_1_prior = make_node(model, NormalMeanVariance, xt_1, xt_1_mean, xt_1_var)  \n",
    "    \n",
    "    prev_zt_n = zt_1\n",
    "    prev_xt_n = xt_1\n",
    "    \n",
    "    mz = Vector{NormalMeanVariance}(undef, n)\n",
    "    mx = Vector{NormalMeanVariance}(undef, n)\n",
    "    gcv = Vector{FactorNode}(undef, n)\n",
    "    \n",
    "    mz_subs = Vector{Teardown}(undef, n)\n",
    "    mx_subs = Vector{Teardown}(undef, n)\n",
    "    \n",
    "    ms_scheduler = PendingScheduler()\n",
    "\n",
    "    for i in 1:n\n",
    "        zt_n, xt_n, y_n, gcv_n = hgf_timeslice(model, prev_zt_n, prev_xt_n, real_k, real_w, z_variance, y_variance)\n",
    "        \n",
    "        zs[i] = zt_n\n",
    "        xs[i] = xt_n\n",
    "        ys[i] = y_n\n",
    "        gcv[i] = gcv_n\n",
    "        \n",
    "        mz_subs[i] = subscribe!(getmarginal(zt_n) |> schedule_on(ms_scheduler), (t) -> mz[i] = getdata(t))\n",
    "        mx_subs[i] = subscribe!(getmarginal(xt_n) |> schedule_on(ms_scheduler), (t) -> mx[i] = getdata(t))\n",
    "    \n",
    "        prev_zt_n = zt_n\n",
    "        prev_xt_n = xt_n\n",
    "    end\n",
    "    \n",
    "    activate!(model)\n",
    "    \n",
    "    foreach(gcv) do gcv_node\n",
    "        setmarginal!(gcv_node, :y_x, MvNormalMeanCovariance([ 0.0, 0.0 ], [ 5.0, 5.0 ]))\n",
    "        setmarginal!(gcv_node, :z, NormalMeanVariance(0.0, 5.0)) \n",
    "    end\n",
    "    \n",
    "    # Initial messages\n",
    "    prior_zt = NormalMeanVariance(0.0, 100.0)\n",
    "    prior_xt = NormalMeanVariance(0.0, 100.0)\n",
    "    \n",
    "    fe = Vector{Float64}()\n",
    "    \n",
    "    fe_scheduler = PendingScheduler()\n",
    "    fe_sub = subscribe!(score(BetheFreeEnergy(), model, fe_scheduler), (d) -> push!(fe, d))\n",
    "    \n",
    "    for _ in 1:iters\n",
    "        update!(zt_1_mean, mean(prior_zt))\n",
    "        update!(zt_1_var, var(prior_zt))\n",
    "        update!(xt_1_mean, mean(prior_xt))\n",
    "        update!(xt_1_var, var(prior_xt))\n",
    "\n",
    "        for i in 1:n\n",
    "            update!(ys[i], data[i])\n",
    "        end\n",
    "        \n",
    "        release!(fe_scheduler)\n",
    "    end\n",
    "    \n",
    "    release!(ms_scheduler)\n",
    " \n",
    "    foreach(unsubscribe!, mz_subs)\n",
    "    foreach(unsubscribe!, mx_subs)\n",
    "    unsubscribe!(fe_sub)\n",
    "    \n",
    "    return mz, mx, fe\n",
    "end"
   ]
  },
  {
   "cell_type": "code",
   "execution_count": 3,
   "metadata": {},
   "outputs": [],
   "source": [
    "n = 1000\n",
    "iters = 10\n",
    "\n",
    "Random.seed!(123)\n",
    "\n",
    "real_k = 1.0\n",
    "real_w = 0.0\n",
    "\n",
    "z_prev     = 0.0\n",
    "z_variance = 0.1\n",
    "\n",
    "z = Vector{Float64}(undef, n)\n",
    "for i in 1:n\n",
    "    z[i] = rand(Normal(z_prev, sqrt(z_variance)))\n",
    "    z_prev = z[i]\n",
    "end\n",
    "\n",
    "# z = map(d -> 2.0 * sin(0.005 * d), 1:n)\n",
    "\n",
    "v = map(d -> exp(real_k * d + real_w), z)\n",
    "\n",
    "x_prev = 0.0\n",
    "\n",
    "x = Vector{Float64}(undef, n)\n",
    "\n",
    "for i in 1:n\n",
    "    x[i] = rand(Normal(x_prev, sqrt(v[i])))\n",
    "    x_prev = x[i]\n",
    "end\n",
    "\n",
    "y = Vector{Float64}(undef, n)\n",
    "y_variance = 1.0\n",
    "\n",
    "for i in 1:n\n",
    "    y[i] = rand(Normal(x[i], sqrt(y_variance)))\n",
    "end"
   ]
  },
  {
   "cell_type": "code",
   "execution_count": 4,
   "metadata": {},
   "outputs": [
    {
     "name": "stdout",
     "output_type": "stream",
     "text": [
      " 21.040689 seconds (62.31 M allocations: 3.094 GiB, 7.99% gc time)\n"
     ]
    }
   ],
   "source": [
    "@time mz, mx, fe = hgf(n, iters, y, real_k, real_w, z_variance, y_variance); # Initial compilation"
   ]
  },
  {
   "cell_type": "code",
   "execution_count": 5,
   "metadata": {},
   "outputs": [
    {
     "name": "stdout",
     "output_type": "stream",
     "text": [
      "  0.780139 seconds (4.38 M allocations: 233.869 MiB, 21.05% gc time)\n"
     ]
    }
   ],
   "source": [
    "@time mz, mx, fe = hgf(n, iters, y, real_k, real_w, z_variance, y_variance); # Subsequent runs"
   ]
  },
  {
   "cell_type": "code",
   "execution_count": 6,
   "metadata": {},
   "outputs": [
    {
     "name": "stdout",
     "output_type": "stream",
     "text": [
      "  790.636 ms (4378874 allocations: 233.87 MiB)\n"
     ]
    }
   ],
   "source": [
    "@btime hgf($n, $iters, $y, $real_k, $real_w, $z_variance, $y_variance); # Benchmark"
   ]
  },
  {
   "cell_type": "code",
   "execution_count": null,
   "metadata": {},
   "outputs": [],
   "source": [
    "pyplot()\n",
    "\n",
    "p1 = plot(mean.(mz), ribbon = std.(mz), label = :z)\n",
    "p1 = plot!(p1, z, label = :real_z)\n",
    "\n",
    "p2 = plot(mean.(mx), ribbon = std.(mx), label = :x)\n",
    "p2 = plot!(p2, x, label = :real_x)\n",
    "\n",
    "p3 = plot(fe)\n",
    "\n",
    "plot(p1, p2, p3, layout = @layout([ a b; c ]), size = (1200, 600))"
   ]
  },
  {
   "cell_type": "code",
   "execution_count": null,
   "metadata": {},
   "outputs": [],
   "source": []
  }
 ],
 "metadata": {
  "kernelspec": {
   "display_name": "Julia 1.5.3",
   "language": "julia",
   "name": "julia-1.5"
  },
  "language_info": {
   "file_extension": ".jl",
   "mimetype": "application/julia",
   "name": "julia",
   "version": "1.5.3"
  }
 },
 "nbformat": 4,
 "nbformat_minor": 4
}
