{
 "cells": [
  {
   "cell_type": "code",
   "execution_count": 5,
   "metadata": {},
   "outputs": [],
   "source": [
    "using Distributions\n",
    "using Rocket\n",
    "using ReactiveMP\n",
    "using BenchmarkTools\n",
    "\n",
    "import Base: show"
   ]
  },
  {
   "cell_type": "code",
   "execution_count": 6,
   "metadata": {},
   "outputs": [
    {
     "data": {
      "text/plain": [
       "kalman (generic function with 1 method)"
      ]
     },
     "execution_count": 6,
     "metadata": {},
     "output_type": "execute_result"
    }
   ],
   "source": [
    "function kalman_filter_graph()\n",
    "    model = Model(DefaultMessageGate() + LoggerMessageGate())\n",
    "    \n",
    "    x_prev = add!(model, datavar(:x_prior, Normal{Float64}))\n",
    "    add_1  = add!(model, constvar(:add_1, 1.0))\n",
    "    x      = add!(model, randomvar(:x))\n",
    "    \n",
    "    x_prev_add = add!(model, make_node(+, x_prev, add_1, x))\n",
    "    \n",
    "    noise = add!(model, constvar(:noise, Normal(0.0, sqrt(200.0))))\n",
    "    y     = add!(model, datavar(:y, Float64))\n",
    "    \n",
    "    add_x_and_noise = add!(model, make_node(+, x, noise, y))\n",
    "    \n",
    "    activate!(model)\n",
    "    \n",
    "    return x_prev, x, y\n",
    "end\n",
    "\n",
    "function kalman(data)\n",
    "    N = length(data)\n",
    "    \n",
    "    x_prev, x, y = kalman_filter_graph()\n",
    "\n",
    "    link(x_prev, getmarginal(x))\n",
    "    \n",
    "    update!(x_prev, Normal(0.0, sqrt(10000.0)))\n",
    "    \n",
    "    marginals = Vector{Normal{Float64}}(undef, N)\n",
    "    \n",
    "    subscribe!(getmarginal(x) |> enumerate(), (t) -> marginals[t[1]] = getdata(t[2]))\n",
    "    \n",
    "    for d in data\n",
    "        update!(y, d)\n",
    "    end\n",
    "    \n",
    "    return marginals\n",
    "end"
   ]
  },
  {
   "cell_type": "code",
   "execution_count": 7,
   "metadata": {},
   "outputs": [],
   "source": [
    "N = 10\n",
    "data = collect(1:N) + sqrt(200.0) * randn(N);"
   ]
  },
  {
   "cell_type": "code",
   "execution_count": 8,
   "metadata": {},
   "outputs": [
    {
     "name": "stdout",
     "output_type": "stream",
     "text": [
      "From variable out of node + => Normal{Float64}(μ=1.0, σ=100.0)\n",
      "From variable in1 of node + => Normal{Float64}(μ=7.835323108221076, σ=14.142135623730951)\n",
      "From variable out of node + => Normal{Float64}(μ=8.701297164922625, σ=14.002800840280099)\n",
      "From variable in1 of node + => Normal{Float64}(μ=-7.035624128174767, σ=14.142135623730951)\n",
      "From variable out of node + => Normal{Float64}(μ=1.9107420693298571, σ=9.950371902099892)\n",
      "From variable in1 of node + => Normal{Float64}(μ=-1.7860968664321764, σ=14.142135623730951)\n",
      "From variable out of node + => Normal{Float64}(μ=1.6866232164285213, σ=8.137884587711596)\n",
      "From variable in1 of node + => Normal{Float64}(μ=17.615051072082636, σ=14.142135623730951)\n",
      "From variable out of node + => Normal{Float64}(μ=6.648918702909646, σ=7.053456158585984)\n",
      "From variable in1 of node + => Normal{Float64}(μ=-4.287128816511396, σ=14.142135623730951)\n",
      "From variable out of node + => Normal{Float64}(μ=5.470423181112626, σ=6.311944030978033)\n",
      "From variable in1 of node + => Normal{Float64}(μ=1.1772168843080841, σ=14.142135623730951)\n",
      "From variable out of node + => Normal{Float64}(μ=5.757265988952403, σ=5.763904177042351)\n",
      "From variable in1 of node + => Normal{Float64}(μ=-6.824076651882276, σ=14.142135623730951)\n",
      "From variable out of node + => Normal{Float64}(μ=4.9650519375514515, σ=5.337605126836238)\n",
      "From variable in1 of node + => Normal{Float64}(μ=25.01516527867194, σ=14.142135623730951)\n",
      "From variable out of node + => Normal{Float64}(μ=8.46506606986074, σ=4.993761694389224)\n",
      "From variable in1 of node + => Normal{Float64}(μ=-9.913654248912916, σ=14.142135623730951)\n",
      "From variable out of node + => Normal{Float64}(μ=7.427513928089824, σ=4.708816093480111)\n",
      "From variable in1 of node + => Normal{Float64}(μ=19.641251435885668, σ=14.142135623730951)\n",
      "From variable out of node + => Normal{Float64}(μ=9.646449807111365, σ=4.467670516087703)\n"
     ]
    },
    {
     "data": {
      "text/plain": [
       "10-element Array{Normal{Float64},1}:\n",
       " Normal{Float64}(μ=7.701297164922624, σ=14.002800840280099)\n",
       " Normal{Float64}(μ=0.9107420693298571, σ=9.950371902099892)\n",
       " Normal{Float64}(μ=0.6866232164285214, σ=8.137884587711596)\n",
       " Normal{Float64}(μ=5.648918702909646, σ=7.053456158585984)\n",
       " Normal{Float64}(μ=4.470423181112626, σ=6.311944030978033)\n",
       " Normal{Float64}(μ=4.757265988952403, σ=5.763904177042351)\n",
       " Normal{Float64}(μ=3.9650519375514515, σ=5.337605126836238)\n",
       " Normal{Float64}(μ=7.4650660698607405, σ=4.993761694389224)\n",
       " Normal{Float64}(μ=6.427513928089824, σ=4.708816093480111)\n",
       " Normal{Float64}(μ=8.646449807111365, σ=4.467670516087703)"
      ]
     },
     "execution_count": 8,
     "metadata": {},
     "output_type": "execute_result"
    }
   ],
   "source": [
    "kalman(data)"
   ]
  },
  {
   "cell_type": "code",
   "execution_count": null,
   "metadata": {},
   "outputs": [],
   "source": []
  }
 ],
 "metadata": {
  "kernelspec": {
   "display_name": "Julia 1.5.0",
   "language": "julia",
   "name": "julia-1.5"
  },
  "language_info": {
   "file_extension": ".jl",
   "mimetype": "application/julia",
   "name": "julia",
   "version": "1.5.1"
  }
 },
 "nbformat": 4,
 "nbformat_minor": 4
}
