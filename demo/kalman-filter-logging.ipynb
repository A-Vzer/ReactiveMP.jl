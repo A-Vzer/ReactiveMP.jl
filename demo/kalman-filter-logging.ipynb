{
 "cells": [
  {
   "cell_type": "code",
   "execution_count": 1,
   "metadata": {},
   "outputs": [
    {
     "name": "stderr",
     "output_type": "stream",
     "text": [
      "┌ Info: Precompiling ReactiveMP [a194aa59-28ba-4574-a09c-4a745416d6e3]\n",
      "└ @ Base loading.jl:1278\n",
      "┌ Warning: Package ReactiveMP does not have Rocket in its dependencies:\n",
      "│ - If you have ReactiveMP checked out for development and have\n",
      "│   added Rocket as a dependency but haven't updated your primary\n",
      "│   environment's manifest file, try `Pkg.resolve()`.\n",
      "│ - Otherwise you may need to report an issue with ReactiveMP\n",
      "└ Loading Rocket into ReactiveMP from project dependency, future warnings for ReactiveMP are suppressed.\n"
     ]
    }
   ],
   "source": [
    "using Distributions\n",
    "using Rocket\n",
    "using ReactiveMP\n",
    "using BenchmarkTools\n",
    "\n",
    "import Base: show"
   ]
  },
  {
   "cell_type": "code",
   "execution_count": 5,
   "metadata": {},
   "outputs": [
    {
     "data": {
      "text/plain": [
       "kalman (generic function with 1 method)"
      ]
     },
     "execution_count": 5,
     "metadata": {},
     "output_type": "execute_result"
    }
   ],
   "source": [
    "function kalman_filter_graph()\n",
    "    model = Model(DefaultMessageGate() + LoggerMessageGate())\n",
    "    \n",
    "    x_prev = datavar(model, :x_prior, Normal{Float64})\n",
    "    add_1  = constvar(model, :add_1, 1.0)\n",
    "    x      = randomvar(model, :x)\n",
    "    \n",
    "    x_prev_add = make_node(model, +, x_prev, add_1, x)\n",
    "    \n",
    "    noise = constvar(model, :noise, Normal(0.0, sqrt(200.0)))\n",
    "    y     = datavar(model, :y, Dirac{Float64})\n",
    "    \n",
    "    add_x_and_noise = make_node(model, +, x, noise, y)\n",
    "    \n",
    "    activate!(model)\n",
    "    \n",
    "    return x_prev, x, y\n",
    "end\n",
    "\n",
    "function kalman(data)\n",
    "    N = length(data)\n",
    "    \n",
    "    x_prev, x, y = kalman_filter_graph()\n",
    "\n",
    "    link(x_prev, getmarginal(x))\n",
    "    \n",
    "    update!(x_prev, Normal(0.0, sqrt(10000.0)))\n",
    "    \n",
    "    marginals = Vector{Normal{Float64}}(undef, N)\n",
    "    \n",
    "    subscribe!(getmarginal(x) |> enumerate(), (t) -> marginals[t[1]] = getdata(t[2]))\n",
    "    \n",
    "    for d in data\n",
    "        update!(y, d)\n",
    "    end\n",
    "    \n",
    "    return marginals\n",
    "end"
   ]
  },
  {
   "cell_type": "code",
   "execution_count": 6,
   "metadata": {},
   "outputs": [],
   "source": [
    "N = 10\n",
    "data = collect(1:N) + sqrt(200.0) * randn(N);"
   ]
  },
  {
   "cell_type": "code",
   "execution_count": 7,
   "metadata": {},
   "outputs": [
    {
     "name": "stdout",
     "output_type": "stream",
     "text": [
      "From variable in2 of node + => Normal{Float64}(μ=-1.0, σ=100.0)\n",
      "From variable out of node + => Normal{Float64}(μ=22.831721082874584, σ=14.142135623730951)\n",
      "From variable in2 of node + => Normal{Float64}(μ=21.364432434190768, σ=14.002800840280099)\n",
      "From variable out of node + => Normal{Float64}(μ=8.960646462273285, σ=14.142135623730951)\n",
      "From variable in2 of node + => Normal{Float64}(μ=14.223944329281123, σ=9.950371902099892)\n",
      "From variable out of node + => Normal{Float64}(μ=12.28483490696222, σ=14.142135623730951)\n",
      "From variable in2 of node + => Normal{Float64}(μ=12.581855116592747, σ=8.137884587711596)\n",
      "From variable out of node + => Normal{Float64}(μ=14.405000882550164, σ=14.142135623730951)\n",
      "From variable in2 of node + => Normal{Float64}(μ=12.035373963845837, σ=7.053456158585984)\n",
      "From variable out of node + => Normal{Float64}(μ=-8.681899231323902, σ=14.142135623730951)\n",
      "From variable in2 of node + => Normal{Float64}(μ=6.908427112218399, σ=6.311944030978033)\n",
      "From variable out of node + => Normal{Float64}(μ=17.80465921409754, σ=14.142135623730951)\n",
      "From variable in2 of node + => Normal{Float64}(μ=7.718432444756463, σ=5.763904177042351)\n",
      "From variable out of node + => Normal{Float64}(μ=-21.757163606102257, σ=14.142135623730951)\n",
      "From variable in2 of node + => Normal{Float64}(μ=2.5196295885087814, σ=5.337605126836238)\n",
      "From variable out of node + => Normal{Float64}(μ=17.086805066384755, σ=14.142135623730951)\n",
      "From variable in2 of node + => Normal{Float64}(μ=3.3359856331317213, σ=4.993761694389224)\n",
      "From variable out of node + => Normal{Float64}(μ=7.300271786703835, σ=14.142135623730951)\n",
      "From variable in2 of node + => Normal{Float64}(μ=2.775485206698474, σ=4.708816093480111)\n",
      "From variable out of node + => Normal{Float64}(μ=8.59389375507794, σ=14.142135623730951)\n",
      "From variable in2 of node + => Normal{Float64}(μ=2.3561647025447283, σ=4.467670516087703)\n"
     ]
    },
    {
     "data": {
      "text/plain": [
       "10-element Array{Normal{Float64},1}:\n",
       " Normal{Float64}(μ=22.364432434190768, σ=14.002800840280099)\n",
       " Normal{Float64}(μ=15.223944329281123, σ=9.950371902099892)\n",
       " Normal{Float64}(μ=13.581855116592747, σ=8.137884587711596)\n",
       " Normal{Float64}(μ=13.035373963845837, σ=7.053456158585984)\n",
       " Normal{Float64}(μ=7.908427112218399, σ=6.311944030978033)\n",
       " Normal{Float64}(μ=8.718432444756463, σ=5.763904177042351)\n",
       " Normal{Float64}(μ=3.5196295885087814, σ=5.337605126836238)\n",
       " Normal{Float64}(μ=4.335985633131721, σ=4.993761694389224)\n",
       " Normal{Float64}(μ=3.775485206698474, σ=4.708816093480111)\n",
       " Normal{Float64}(μ=3.3561647025447283, σ=4.467670516087703)"
      ]
     },
     "execution_count": 7,
     "metadata": {},
     "output_type": "execute_result"
    }
   ],
   "source": [
    "kalman(data)"
   ]
  },
  {
   "cell_type": "code",
   "execution_count": null,
   "metadata": {},
   "outputs": [],
   "source": []
  }
 ],
 "metadata": {
  "kernelspec": {
   "display_name": "Julia 1.5.0",
   "language": "julia",
   "name": "julia-1.5"
  },
  "language_info": {
   "file_extension": ".jl",
   "mimetype": "application/julia",
   "name": "julia",
   "version": "1.5.1"
  }
 },
 "nbformat": 4,
 "nbformat_minor": 4
}
