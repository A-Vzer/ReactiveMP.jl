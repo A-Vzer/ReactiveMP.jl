{
 "cells": [
  {
   "cell_type": "code",
   "execution_count": 1,
   "metadata": {},
   "outputs": [
    {
     "name": "stderr",
     "output_type": "stream",
     "text": [
      "┌ Info: Precompiling ReactiveMP [a194aa59-28ba-4574-a09c-4a745416d6e3]\n",
      "└ @ Base loading.jl:1278\n",
      "┌ Warning: Package ReactiveMP does not have Rocket in its dependencies:\n",
      "│ - If you have ReactiveMP checked out for development and have\n",
      "│   added Rocket as a dependency but haven't updated your primary\n",
      "│   environment's manifest file, try `Pkg.resolve()`.\n",
      "│ - Otherwise you may need to report an issue with ReactiveMP\n",
      "└ Loading Rocket into ReactiveMP from project dependency, future warnings for ReactiveMP are suppressed.\n"
     ]
    }
   ],
   "source": [
    "using Distributions\n",
    "using Rocket\n",
    "using ReactiveMP\n",
    "using BenchmarkTools\n",
    "\n",
    "import Base: show"
   ]
  },
  {
   "cell_type": "code",
   "execution_count": 2,
   "metadata": {},
   "outputs": [
    {
     "data": {
      "text/plain": [
       "kalman (generic function with 1 method)"
      ]
     },
     "execution_count": 2,
     "metadata": {},
     "output_type": "execute_result"
    }
   ],
   "source": [
    "function kalman_filter_graph()\n",
    "    model = Model(DefaultMessageGate() + LoggerMessageGate())\n",
    "    \n",
    "    x_prev = add!(model, datavar(:x_prior, Normal{Float64}))\n",
    "    add_1  = add!(model, constvar(:add_1, 1.0))\n",
    "    x      = add!(model, randomvar(:x))\n",
    "    \n",
    "    x_prev_add = add!(model, make_node(+, x_prev, add_1, x))\n",
    "    \n",
    "    noise = add!(model, constvar(:noise, Normal(0.0, sqrt(200.0))))\n",
    "    y     = add!(model, datavar(:y, Dirac{Float64}))\n",
    "    \n",
    "    add_x_and_noise = add!(model, make_node(+, x, noise, y))\n",
    "    \n",
    "    activate!(model)\n",
    "    \n",
    "    return x_prev, x, y\n",
    "end\n",
    "\n",
    "function kalman(data)\n",
    "    N = length(data)\n",
    "    \n",
    "    x_prev, x, y = kalman_filter_graph()\n",
    "\n",
    "    link(x_prev, getmarginal(x))\n",
    "    \n",
    "    update!(x_prev, Normal(0.0, sqrt(10000.0)))\n",
    "    \n",
    "    marginals = Vector{Normal{Float64}}(undef, N)\n",
    "    \n",
    "    subscribe!(getmarginal(x) |> enumerate(), (t) -> marginals[t[1]] = getdata(t[2]))\n",
    "    \n",
    "    for d in data\n",
    "        update!(y, d)\n",
    "    end\n",
    "    \n",
    "    return marginals\n",
    "end"
   ]
  },
  {
   "cell_type": "code",
   "execution_count": 3,
   "metadata": {},
   "outputs": [],
   "source": [
    "N = 10\n",
    "data = collect(1:N) + sqrt(200.0) * randn(N);"
   ]
  },
  {
   "cell_type": "code",
   "execution_count": 5,
   "metadata": {},
   "outputs": [
    {
     "name": "stdout",
     "output_type": "stream",
     "text": [
      "From variable in2 of node + => Normal{Float64}(μ=-1.0, σ=100.0)\n",
      "From variable out of node + => Normal{Float64}(μ=16.117435877483537, σ=14.142135623730951)\n",
      "From variable in2 of node + => Normal{Float64}(μ=14.781799879885819, σ=14.002800840280099)\n",
      "From variable out of node + => Normal{Float64}(μ=-18.221915217563225, σ=14.142135623730951)\n",
      "From variable in2 of node + => Normal{Float64}(μ=-2.55667294063351, σ=9.950371902099892)\n",
      "From variable out of node + => Normal{Float64}(μ=0.2697253451065178, σ=14.142135623730951)\n",
      "From variable in2 of node + => Normal{Float64}(μ=-2.620779468534163, σ=8.137884587711596)\n",
      "From variable out of node + => Normal{Float64}(μ=37.60744044950428, σ=14.142135623730951)\n",
      "From variable in2 of node + => Normal{Float64}(μ=6.3862404115749065, σ=7.053456158585984)\n",
      "From variable out of node + => Normal{Float64}(μ=30.921085276151175, σ=14.142135623730951)\n",
      "From variable in2 of node + => Normal{Float64}(μ=10.273659707307232, σ=6.311944030978033)\n",
      "From variable out of node + => Normal{Float64}(μ=-36.184825475571984, σ=14.142135623730951)\n",
      "From variable in2 of node + => Normal{Float64}(μ=1.5563033646362645, σ=5.763904177042351)\n",
      "From variable out of node + => Normal{Float64}(μ=4.648456390138824, σ=14.142135623730951)\n",
      "From variable in2 of node + => Normal{Float64}(μ=0.9967810035967433, σ=5.337605126836238)\n",
      "From variable out of node + => Normal{Float64}(μ=12.474353398359913, σ=14.142135623730951)\n",
      "From variable in2 of node + => Normal{Float64}(μ=1.4278997560609792, σ=4.993761694389224)\n",
      "From variable out of node + => Normal{Float64}(μ=7.9290600577883525, σ=14.142135623730951)\n",
      "From variable in2 of node + => Normal{Float64}(μ=1.148649235188182, σ=4.708816093480111)\n",
      "From variable out of node + => Normal{Float64}(μ=16.4421901222683, σ=14.142135623730951)\n",
      "From variable in2 of node + => Normal{Float64}(μ=1.6749507209247207, σ=4.467670516087703)\n"
     ]
    },
    {
     "data": {
      "text/plain": [
       "10-element Array{Normal{Float64},1}:\n",
       " Normal{Float64}(μ=15.781799879885819, σ=14.002800840280099)\n",
       " Normal{Float64}(μ=-1.55667294063351, σ=9.950371902099892)\n",
       " Normal{Float64}(μ=-1.6207794685341632, σ=8.137884587711596)\n",
       " Normal{Float64}(μ=7.3862404115749065, σ=7.053456158585984)\n",
       " Normal{Float64}(μ=11.273659707307232, σ=6.311944030978033)\n",
       " Normal{Float64}(μ=2.5563033646362645, σ=5.763904177042351)\n",
       " Normal{Float64}(μ=1.9967810035967433, σ=5.337605126836238)\n",
       " Normal{Float64}(μ=2.427899756060979, σ=4.993761694389224)\n",
       " Normal{Float64}(μ=2.148649235188182, σ=4.708816093480111)\n",
       " Normal{Float64}(μ=2.6749507209247207, σ=4.467670516087703)"
      ]
     },
     "execution_count": 5,
     "metadata": {},
     "output_type": "execute_result"
    }
   ],
   "source": [
    "kalman(data)"
   ]
  },
  {
   "cell_type": "code",
   "execution_count": null,
   "metadata": {},
   "outputs": [],
   "source": []
  }
 ],
 "metadata": {
  "kernelspec": {
   "display_name": "Julia 1.5.0",
   "language": "julia",
   "name": "julia-1.5"
  },
  "language_info": {
   "file_extension": ".jl",
   "mimetype": "application/julia",
   "name": "julia",
   "version": "1.5.1"
  }
 },
 "nbformat": 4,
 "nbformat_minor": 4
}
