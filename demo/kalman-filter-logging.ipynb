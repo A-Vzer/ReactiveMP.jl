{
 "cells": [
  {
   "cell_type": "code",
   "execution_count": 1,
   "metadata": {},
   "outputs": [
    {
     "name": "stderr",
     "output_type": "stream",
     "text": [
      "┌ Info: Precompiling Rocket [df971d30-c9d6-4b37-b8ff-e965b2cb3a40]\n",
      "└ @ Base loading.jl:1260\n",
      "┌ Info: Precompiling ReactiveMP [a194aa59-28ba-4574-a09c-4a745416d6e3]\n",
      "└ @ Base loading.jl:1260\n",
      "┌ Warning: Package ReactiveMP does not have Rocket in its dependencies:\n",
      "│ - If you have ReactiveMP checked out for development and have\n",
      "│   added Rocket as a dependency but haven't updated your primary\n",
      "│   environment's manifest file, try `Pkg.resolve()`.\n",
      "│ - Otherwise you may need to report an issue with ReactiveMP\n",
      "└ Loading Rocket into ReactiveMP from project dependency, future warnings for ReactiveMP are suppressed.\n"
     ]
    }
   ],
   "source": [
    "using Distributions\n",
    "using Rocket\n",
    "using ReactiveMP\n",
    "using BenchmarkTools\n",
    "\n",
    "using Profile\n",
    "using PProf\n",
    "using ProfileSVG\n",
    "\n",
    "import Base: show"
   ]
  },
  {
   "cell_type": "code",
   "execution_count": 9,
   "metadata": {},
   "outputs": [
    {
     "data": {
      "text/plain": [
       "kalman (generic function with 1 method)"
      ]
     },
     "execution_count": 9,
     "metadata": {},
     "output_type": "execute_result"
    }
   ],
   "source": [
    "function kalman_filter_graph()\n",
    "    model = Model(DefaultMessageGate() + LoggerMessageGate())\n",
    "    \n",
    "    x_prev = add!(model, datavar(:x_prior, Normal{Float64}))\n",
    "    add_1  = add!(model, constvar(:add_1, 1.0))\n",
    "    x      = add!(model, randomvar(:x))\n",
    "    \n",
    "    x_prev_add = add!(model, make_node(+, x_prev, add_1, x))\n",
    "    \n",
    "    noise = add!(model, constvar(:noise, Normal(0.0, sqrt(200.0))))\n",
    "    y     = add!(model, datavar(:y, Float64))\n",
    "    \n",
    "    add_x_and_noise = add!(model, make_node(+, x, noise, y))\n",
    "    \n",
    "    activate!(model)\n",
    "    \n",
    "    return x_prev, x, y\n",
    "end\n",
    "\n",
    "function kalman(data)\n",
    "    N = length(data)\n",
    "    \n",
    "    x_prev, x, y = kalman_filter_graph()\n",
    "\n",
    "    link(x_prev, getmarginal(x))\n",
    "    \n",
    "    update!(x_prev, Normal(0.0, sqrt(10000.0)))\n",
    "    \n",
    "    marginals = Vector{Normal{Float64}}(undef, N)\n",
    "    \n",
    "    subscribe!(getmarginal(x) |> enumerate(), (t) -> marginals[t[1]] = getdata(t[2]))\n",
    "    \n",
    "    for d in data\n",
    "        update!(y, d)\n",
    "    end\n",
    "    \n",
    "    return marginals\n",
    "end"
   ]
  },
  {
   "cell_type": "code",
   "execution_count": 10,
   "metadata": {},
   "outputs": [],
   "source": [
    "N = 10\n",
    "data = collect(1:N) + sqrt(200.0) * randn(N);"
   ]
  },
  {
   "cell_type": "code",
   "execution_count": 11,
   "metadata": {},
   "outputs": [
    {
     "name": "stdout",
     "output_type": "stream",
     "text": [
      "From variable out of node + => Normal{Float64}(μ=1.0, σ=100.0)\n",
      "From variable in1 of node + => Normal{Float64}(μ=15.056484976892479, σ=14.142135623730951)\n",
      "From variable out of node + => Normal{Float64}(μ=15.780867624404392, σ=14.002800840280099)\n",
      "From variable in1 of node + => Normal{Float64}(μ=-17.476944785710234, σ=14.142135623730951)\n",
      "From variable out of node + => Normal{Float64}(μ=0.3166040550407153, σ=9.950371902099892)\n",
      "From variable in1 of node + => Normal{Float64}(μ=14.213591173332096, σ=14.142135623730951)\n",
      "From variable out of node + => Normal{Float64}(μ=5.9182554187133585, σ=8.137884587711596)\n",
      "From variable in1 of node + => Normal{Float64}(μ=21.77953608010854, σ=14.142135623730951)\n",
      "From variable out of node + => Normal{Float64}(μ=10.86384762304052, σ=7.053456158585984)\n",
      "From variable in1 of node + => Normal{Float64}(μ=-7.955286726810719, σ=14.142135623730951)\n",
      "From variable out of node + => Normal{Float64}(μ=8.115016079245454, σ=6.311944030978033)\n",
      "From variable in1 of node + => Normal{Float64}(μ=16.66574895568497, σ=14.142135623730951)\n",
      "From variable out of node + => Normal{Float64}(μ=10.535403600248696, σ=5.763904177042351)\n",
      "From variable in1 of node + => Normal{Float64}(μ=0.35206265199261555, σ=14.142135623730951)\n",
      "From variable out of node + => Normal{Float64}(μ=10.084785231551248, σ=5.337605126836238)\n",
      "From variable in1 of node + => Normal{Float64}(μ=-18.239681614008813, σ=14.142135623730951)\n",
      "From variable out of node + => Normal{Float64}(μ=7.5530561984390205, σ=4.993761694389224)\n",
      "From variable in1 of node + => Normal{Float64}(μ=10.210957160082195, σ=14.142135623730951)\n",
      "From variable out of node + => Normal{Float64}(μ=8.847723710816311, σ=4.708816093480111)\n",
      "From variable in1 of node + => Normal{Float64}(μ=-4.0765908201970635, σ=14.142135623730951)\n",
      "From variable out of node + => Normal{Float64}(μ=8.557871961214179, σ=4.467670516087703)\n"
     ]
    },
    {
     "data": {
      "text/plain": [
       "10-element Array{Normal{Float64},1}:\n",
       " Normal{Float64}(μ=14.780867624404392, σ=14.002800840280099)\n",
       " Normal{Float64}(μ=-0.6833959449592847, σ=9.950371902099892)\n",
       " Normal{Float64}(μ=4.9182554187133585, σ=8.137884587711596)\n",
       " Normal{Float64}(μ=9.86384762304052, σ=7.053456158585984)\n",
       " Normal{Float64}(μ=7.115016079245453, σ=6.311944030978033)\n",
       " Normal{Float64}(μ=9.535403600248696, σ=5.763904177042351)\n",
       " Normal{Float64}(μ=9.084785231551248, σ=5.337605126836238)\n",
       " Normal{Float64}(μ=6.5530561984390205, σ=4.993761694389224)\n",
       " Normal{Float64}(μ=7.847723710816312, σ=4.708816093480111)\n",
       " Normal{Float64}(μ=7.557871961214178, σ=4.467670516087703)"
      ]
     },
     "execution_count": 11,
     "metadata": {},
     "output_type": "execute_result"
    }
   ],
   "source": [
    "kalman(data)"
   ]
  },
  {
   "cell_type": "code",
   "execution_count": null,
   "metadata": {},
   "outputs": [],
   "source": []
  }
 ],
 "metadata": {
  "kernelspec": {
   "display_name": "Julia 1.4.1",
   "language": "julia",
   "name": "julia-1.4"
  },
  "language_info": {
   "file_extension": ".jl",
   "mimetype": "application/julia",
   "name": "julia",
   "version": "1.4.1"
  }
 },
 "nbformat": 4,
 "nbformat_minor": 4
}
