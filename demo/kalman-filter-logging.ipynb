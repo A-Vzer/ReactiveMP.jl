{
 "cells": [
  {
   "cell_type": "code",
   "execution_count": 2,
   "metadata": {},
   "outputs": [
    {
     "name": "stderr",
     "output_type": "stream",
     "text": [
      "┌ Info: Precompiling ReactiveMP [a194aa59-28ba-4574-a09c-4a745416d6e3]\n",
      "└ @ Base loading.jl:1260\n",
      "┌ Warning: Package ReactiveMP does not have Rocket in its dependencies:\n",
      "│ - If you have ReactiveMP checked out for development and have\n",
      "│   added Rocket as a dependency but haven't updated your primary\n",
      "│   environment's manifest file, try `Pkg.resolve()`.\n",
      "│ - Otherwise you may need to report an issue with ReactiveMP\n",
      "└ Loading Rocket into ReactiveMP from project dependency, future warnings for ReactiveMP are suppressed.\n"
     ]
    }
   ],
   "source": [
    "using Distributions\n",
    "using Rocket\n",
    "using ReactiveMP\n",
    "using BenchmarkTools\n",
    "\n",
    "using Profile\n",
    "using PProf\n",
    "using ProfileSVG\n",
    "\n",
    "import Base: show"
   ]
  },
  {
   "cell_type": "code",
   "execution_count": 12,
   "metadata": {},
   "outputs": [
    {
     "data": {
      "text/plain": [
       "kalman (generic function with 1 method)"
      ]
     },
     "execution_count": 12,
     "metadata": {},
     "output_type": "execute_result"
    }
   ],
   "source": [
    "function kalman_filter_graph()\n",
    "    model = Model(DefaultMessageGate() + LoggerMessageGate())\n",
    "    \n",
    "    x_prev_add = add!(model, AdditionNode())\n",
    "    \n",
    "    x_prior = add!(model, datavar(:x_prior, Normal{Float64}))\n",
    "    add_1   = add!(model, constvar(:add_1, 1.0))\n",
    "\n",
    "    connect!(x_prev_add, :in1, x_prior, 1)\n",
    "    connect!(x_prev_add, :in2, add_1, 1)\n",
    "    \n",
    "    noise = add!(model, constvar(:noise, Normal(0.0, sqrt(200.0))))\n",
    "    \n",
    "    add_x_and_noise = add!(model, AdditionNode())\n",
    "    \n",
    "    x = add!(model, simplerandomvar(:x))\n",
    "    \n",
    "    connect!(x_prev_add, :out, x, 1)\n",
    "    connect!(add_x_and_noise, :in1, x, 2)\n",
    "    connect!(add_x_and_noise, :in2, noise, 1)\n",
    "    \n",
    "    y = add!(model, datavar(:y, Float64))\n",
    "    \n",
    "    connect!(add_x_and_noise, :out, y, 1)\n",
    "    \n",
    "    activate!(model, x_prev_add)\n",
    "    activate!(model, add_x_and_noise)\n",
    "    \n",
    "    return x_prior, x, y\n",
    "end\n",
    "\n",
    "function kalman(data)\n",
    "    N = length(data)\n",
    "    \n",
    "    x_prior, x, y = kalman_filter_graph()\n",
    "\n",
    "    link(x_prior, getmarginal(x))\n",
    "    \n",
    "    update!(x_prior, Normal(0.0, sqrt(10000.0)))\n",
    "    \n",
    "    marginals = Vector{Normal{Float64}}(undef, N)\n",
    "    \n",
    "    subscribe!(getmarginal(x) |> enumerate(), (t) -> marginals[t[1]] = getdata(t[2]))\n",
    "    \n",
    "    for d in data\n",
    "        update!(y, d)\n",
    "    end\n",
    "    \n",
    "    return marginals\n",
    "end"
   ]
  },
  {
   "cell_type": "code",
   "execution_count": 13,
   "metadata": {},
   "outputs": [],
   "source": [
    "N = 10\n",
    "data = collect(1:N) + sqrt(200.0) * randn(N);"
   ]
  },
  {
   "cell_type": "code",
   "execution_count": 14,
   "metadata": {},
   "outputs": [
    {
     "name": "stdout",
     "output_type": "stream",
     "text": [
      "From variable out of node typeof(+) => Normal{Float64}(μ=1.0, σ=100.0)\n",
      "From variable in1 of node typeof(+) => Normal{Float64}(μ=10.610286371278645, σ=14.142135623730951)\n",
      "From variable out of node typeof(+) => Normal{Float64}(μ=11.421849383606515, σ=14.002800840280099)\n",
      "From variable in1 of node typeof(+) => Normal{Float64}(μ=5.610347863463353, σ=14.142135623730951)\n",
      "From variable out of node typeof(+) => Normal{Float64}(μ=9.544868433040595, σ=9.950371902099892)\n",
      "From variable in1 of node typeof(+) => Normal{Float64}(μ=11.058334949499901, σ=14.142135623730951)\n",
      "From variable out of node typeof(+) => Normal{Float64}(μ=11.046016286172817, σ=8.137884587711596)\n",
      "From variable in1 of node typeof(+) => Normal{Float64}(μ=9.70243491851462, σ=14.142135623730951)\n",
      "From variable out of node typeof(+) => Normal{Float64}(μ=11.71179206536232, σ=7.053456158585984)\n",
      "From variable in1 of node typeof(+) => Normal{Float64}(μ=-13.458088318224597, σ=14.142135623730951)\n",
      "From variable out of node typeof(+) => Normal{Float64}(μ=7.697871670225484, σ=6.311944030978033)\n",
      "From variable in1 of node typeof(+) => Normal{Float64}(μ=-16.64233092086812, σ=14.142135623730951)\n",
      "From variable out of node typeof(+) => Normal{Float64}(μ=4.654648648449137, σ=5.763904177042351)\n",
      "From variable in1 of node typeof(+) => Normal{Float64}(μ=14.363102549660521, σ=14.142135623730951)\n",
      "From variable out of node typeof(+) => Normal{Float64}(μ=7.03761928964734, σ=5.337605126836238)\n",
      "From variable in1 of node typeof(+) => Normal{Float64}(μ=16.465911320834145, σ=14.142135623730951)\n",
      "From variable out of node typeof(+) => Normal{Float64}(μ=9.213216799770384, σ=4.993761694389224)\n",
      "From variable in1 of node typeof(+) => Normal{Float64}(μ=3.640594539009407, σ=14.142135623730951)\n",
      "From variable out of node typeof(+) => Normal{Float64}(μ=9.595409453788013, σ=4.708816093480111)\n",
      "From variable in1 of node typeof(+) => Normal{Float64}(μ=10.74267114355252, σ=14.142135623730951)\n",
      "From variable out of node typeof(+) => Normal{Float64}(μ=10.709906628415208, σ=4.467670516087703)\n"
     ]
    },
    {
     "data": {
      "text/plain": [
       "10-element Array{Normal{Float64},1}:\n",
       " Normal{Float64}(μ=10.421849383606515, σ=14.002800840280099)\n",
       " Normal{Float64}(μ=8.544868433040595, σ=9.950371902099892)\n",
       " Normal{Float64}(μ=10.046016286172817, σ=8.137884587711596)\n",
       " Normal{Float64}(μ=10.71179206536232, σ=7.053456158585984)\n",
       " Normal{Float64}(μ=6.697871670225484, σ=6.311944030978033)\n",
       " Normal{Float64}(μ=3.654648648449137, σ=5.763904177042351)\n",
       " Normal{Float64}(μ=6.03761928964734, σ=5.337605126836238)\n",
       " Normal{Float64}(μ=8.213216799770384, σ=4.993761694389224)\n",
       " Normal{Float64}(μ=8.595409453788013, σ=4.708816093480111)\n",
       " Normal{Float64}(μ=9.709906628415208, σ=4.467670516087703)"
      ]
     },
     "execution_count": 14,
     "metadata": {},
     "output_type": "execute_result"
    }
   ],
   "source": [
    "kalman(data)"
   ]
  },
  {
   "cell_type": "code",
   "execution_count": null,
   "metadata": {},
   "outputs": [],
   "source": []
  }
 ],
 "metadata": {
  "kernelspec": {
   "display_name": "Julia 1.4.1",
   "language": "julia",
   "name": "julia-1.4"
  },
  "language_info": {
   "file_extension": ".jl",
   "mimetype": "application/julia",
   "name": "julia",
   "version": "1.4.1"
  }
 },
 "nbformat": 4,
 "nbformat_minor": 4
}
