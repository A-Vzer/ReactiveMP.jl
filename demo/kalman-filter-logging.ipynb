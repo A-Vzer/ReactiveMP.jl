{
 "cells": [
  {
   "cell_type": "code",
   "execution_count": 1,
   "metadata": {},
   "outputs": [
    {
     "name": "stderr",
     "output_type": "stream",
     "text": [
      "┌ Info: Precompiling ReactiveMP [a194aa59-28ba-4574-a09c-4a745416d6e3]\n",
      "└ @ Base loading.jl:1278\n",
      "┌ Warning: Package ReactiveMP does not have Rocket in its dependencies:\n",
      "│ - If you have ReactiveMP checked out for development and have\n",
      "│   added Rocket as a dependency but haven't updated your primary\n",
      "│   environment's manifest file, try `Pkg.resolve()`.\n",
      "│ - Otherwise you may need to report an issue with ReactiveMP\n",
      "└ Loading Rocket into ReactiveMP from project dependency, future warnings for ReactiveMP are suppressed.\n"
     ]
    }
   ],
   "source": [
    "using Distributions\n",
    "using Rocket\n",
    "using ReactiveMP\n",
    "using BenchmarkTools\n",
    "\n",
    "import Base: show"
   ]
  },
  {
   "cell_type": "code",
   "execution_count": 2,
   "metadata": {},
   "outputs": [
    {
     "data": {
      "text/plain": [
       "kalman (generic function with 1 method)"
      ]
     },
     "execution_count": 2,
     "metadata": {},
     "output_type": "execute_result"
    }
   ],
   "source": [
    "function kalman_filter_graph()\n",
    "    model = Model(DefaultMessageGate() + LoggerMessageGate())\n",
    "    \n",
    "    x_prev = add!(model, datavar(:x_prior, Normal{Float64}))\n",
    "    add_1  = add!(model, constvar(:add_1, 1.0))\n",
    "    x      = add!(model, randomvar(:x))\n",
    "    \n",
    "    x_prev_add = add!(model, make_node(+, x_prev, add_1, x))\n",
    "    \n",
    "    noise = add!(model, constvar(:noise, Normal(0.0, sqrt(200.0))))\n",
    "    y     = add!(model, datavar(:y, Float64))\n",
    "    \n",
    "    add_x_and_noise = add!(model, make_node(+, x, noise, y))\n",
    "    \n",
    "    activate!(model)\n",
    "    \n",
    "    return x_prev, x, y\n",
    "end\n",
    "\n",
    "function kalman(data)\n",
    "    N = length(data)\n",
    "    \n",
    "    x_prev, x, y = kalman_filter_graph()\n",
    "\n",
    "    link(x_prev, getmarginal(x))\n",
    "    \n",
    "    update!(x_prev, Normal(0.0, sqrt(10000.0)))\n",
    "    \n",
    "    marginals = Vector{Normal{Float64}}(undef, N)\n",
    "    \n",
    "    subscribe!(getmarginal(x) |> enumerate(), (t) -> marginals[t[1]] = getdata(t[2]))\n",
    "    \n",
    "    for d in data\n",
    "        update!(y, d)\n",
    "    end\n",
    "    \n",
    "    return marginals\n",
    "end"
   ]
  },
  {
   "cell_type": "code",
   "execution_count": 3,
   "metadata": {},
   "outputs": [],
   "source": [
    "N = 10\n",
    "data = collect(1:N) + sqrt(200.0) * randn(N);"
   ]
  },
  {
   "cell_type": "code",
   "execution_count": 4,
   "metadata": {},
   "outputs": [
    {
     "name": "stdout",
     "output_type": "stream",
     "text": [
      "From variable out of node + => Normal{Float64}(μ=1.0, σ=100.0)\n",
      "From variable in1 of node + => Normal{Float64}(μ=5.955460784152753, σ=14.142135623730951)\n",
      "From variable out of node + => Normal{Float64}(μ=6.858294886424267, σ=14.002800840280099)\n",
      "From variable in1 of node + => Normal{Float64}(μ=-20.3263217094325, σ=14.142135623730951)\n",
      "From variable out of node + => Normal{Float64}(μ=-5.599436101623636, σ=9.950371902099892)\n",
      "From variable in1 of node + => Normal{Float64}(μ=-10.74801521819921, σ=14.142135623730951)\n",
      "From variable out of node + => Normal{Float64}(μ=-6.304263623668529, σ=8.137884587711596)\n",
      "From variable in1 of node + => Normal{Float64}(μ=14.237449363342078, σ=14.142135623730951)\n",
      "From variable out of node + => Normal{Float64}(μ=-0.19438477117832687, σ=7.053456158585984)\n",
      "From variable in1 of node + => Normal{Float64}(μ=6.60882154015802, σ=14.142135623730951)\n",
      "From variable out of node + => Normal{Float64}(μ=2.1608356095659653, σ=6.311944030978033)\n",
      "From variable in1 of node + => Normal{Float64}(μ=10.603262619824328, σ=14.142135623730951)\n",
      "From variable out of node + => Normal{Float64}(μ=4.56323212289792, σ=5.763904177042351)\n",
      "From variable in1 of node + => Normal{Float64}(μ=13.145225592982484, σ=14.142135623730951)\n",
      "From variable out of node + => Normal{Float64}(μ=6.7857383152176585, σ=5.337605126836238)\n",
      "From variable in1 of node + => Normal{Float64}(μ=11.762398543087667, σ=14.142135623730951)\n",
      "From variable out of node + => Normal{Float64}(μ=8.406269515700203, σ=4.993761694389224)\n",
      "From variable in1 of node + => Normal{Float64}(μ=14.743507073997309, σ=14.142135623730951)\n",
      "From variable out of node + => Normal{Float64}(μ=10.108845741675491, σ=4.708816093480111)\n",
      "From variable in1 of node + => Normal{Float64}(μ=13.241141887816573, σ=14.142135623730951)\n",
      "From variable out of node + => Normal{Float64}(μ=11.421450147477993, σ=4.467670516087703)\n"
     ]
    },
    {
     "data": {
      "text/plain": [
       "10-element Array{Normal{Float64},1}:\n",
       " Normal{Float64}(μ=5.858294886424267, σ=14.002800840280099)\n",
       " Normal{Float64}(μ=-6.599436101623636, σ=9.950371902099892)\n",
       " Normal{Float64}(μ=-7.304263623668529, σ=8.137884587711596)\n",
       " Normal{Float64}(μ=-1.1943847711783269, σ=7.053456158585984)\n",
       " Normal{Float64}(μ=1.1608356095659655, σ=6.311944030978033)\n",
       " Normal{Float64}(μ=3.5632321228979196, σ=5.763904177042351)\n",
       " Normal{Float64}(μ=5.7857383152176585, σ=5.337605126836238)\n",
       " Normal{Float64}(μ=7.406269515700203, σ=4.993761694389224)\n",
       " Normal{Float64}(μ=9.108845741675491, σ=4.708816093480111)\n",
       " Normal{Float64}(μ=10.421450147477993, σ=4.467670516087703)"
      ]
     },
     "execution_count": 4,
     "metadata": {},
     "output_type": "execute_result"
    }
   ],
   "source": [
    "kalman(data)"
   ]
  },
  {
   "cell_type": "code",
   "execution_count": null,
   "metadata": {},
   "outputs": [],
   "source": []
  }
 ],
 "metadata": {
  "kernelspec": {
   "display_name": "Julia 1.5.0",
   "language": "julia",
   "name": "julia-1.5"
  },
  "language_info": {
   "file_extension": ".jl",
   "mimetype": "application/julia",
   "name": "julia",
   "version": "1.5.1"
  }
 },
 "nbformat": 4,
 "nbformat_minor": 4
}
