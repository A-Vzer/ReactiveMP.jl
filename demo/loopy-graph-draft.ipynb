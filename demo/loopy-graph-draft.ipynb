{
 "cells": [
  {
   "cell_type": "code",
   "execution_count": 1,
   "metadata": {},
   "outputs": [],
   "source": [
    "using Rocket\n",
    "using BenchmarkTools"
   ]
  },
  {
   "cell_type": "code",
   "execution_count": 2,
   "metadata": {},
   "outputs": [
    {
     "data": {
      "text/plain": [
       "loop_draft (generic function with 1 method)"
      ]
     },
     "execution_count": 2,
     "metadata": {},
     "output_type": "execute_result"
    }
   ],
   "source": [
    "plusone(d) = one(d) / (one(d) + d)\n",
    "\n",
    "function loop_draft()\n",
    "    m_ab = lazy(Float64)\n",
    "    m_ac = lazy(Float64)\n",
    "\n",
    "    m_ba = lazy(Float64)\n",
    "    m_bc = lazy(Float64)\n",
    "\n",
    "    m_ca = lazy(Float64)\n",
    "    m_cb = lazy(Float64)\n",
    "    \n",
    "    m_cy = lazy(Float64)\n",
    "    m_yc = Subject(Float64)\n",
    "    \n",
    "    q1 = BehaviorSubject(0.0)\n",
    "    q2 = BehaviorSubject(0.0)\n",
    "    q3 = BehaviorSubject(0.0)\n",
    "    q4 = BehaviorSubject(0.0)\n",
    "    \n",
    "    q_algorithm = discontinue() + map(Float64, (d) -> 1.0 / sum(d))#  + share()\n",
    "\n",
    "    q_up_1 = combineLatest(m_ac, m_ca) |> q_algorithm\n",
    "    q_up_2 = combineLatest(m_bc, m_cb) |> q_algorithm\n",
    "    q_up_3 = combineLatest(m_ab, m_ba) |> q_algorithm\n",
    "    q_up_4 = combineLatest(m_cy, m_yc) |> q_algorithm\n",
    "\n",
    "    subscribe!(q_up_1, q1)\n",
    "    subscribe!(q_up_2, q2)\n",
    "    subscribe!(q_up_3, q3)\n",
    "    subscribe!(q_up_4, q4)\n",
    "    \n",
    "#     s1 = subscribe!(q1, logger(\"q1\"))\n",
    "#     s2 = subscribe!(q2, logger(\"q2\"))\n",
    "#     s3 = subscribe!(q3, logger(\"q3\"))\n",
    "    \n",
    "    m_algorithm = map(Float64, plusone)\n",
    "    \n",
    "    set!(m_ab, q1 |> m_algorithm)\n",
    "    set!(m_ba, q2 |> m_algorithm)\n",
    "    set!(m_bc, q3 |> m_algorithm)\n",
    "    set!(m_ba, q2 |> m_algorithm)\n",
    "#     set!(m_ca, q2 |> m_algorithm)\n",
    "#     set!(m_cb, q1 |> m_algorithm)\n",
    "    set!(m_ca, combineLatest(q2, q4) |> map(Float64, sum))\n",
    "    set!(m_cb, combineLatest(q1, q4) |> map(Float64, sum))\n",
    "    set!(m_cy, combineLatest(q1, q2) |> map(Float64, sum))\n",
    "    \n",
    "#     sa1 = subscribe!(m_ab |> skip_complete(), logger(\"m_ab\"))\n",
    "#     sa2 = subscribe!(m_ba |> skip_complete(), logger(\"m_ba\"))\n",
    "#     sb1 = subscribe!(m_bc |> skip_complete(), logger(\"m_bc\"))\n",
    "#     sb2 = subscribe!(m_ba |> skip_complete(), logger(\"m_ba\"))\n",
    "#     sc1 = subscribe!(m_ca |> skip_complete(), logger(\"m_ca\"))\n",
    "#     sc2 = subscribe!(m_cb |> skip_complete(), logger(\"m_cb\"))\n",
    "    \n",
    "#     next!(q1, q1.props.current + 1)\n",
    "#     next!(q2, q2.props.current + 1)\n",
    "#     next!(q3, q3.props.current + 1)\n",
    "    # next!(m_yc, 1.0);\n",
    "    # next!(m_yc, 1.0);\n",
    "\n",
    "    for i in 1:10\n",
    "        next!(m_yc, 1.0);\n",
    "    end\n",
    "    \n",
    "    return (q1.props.current, q2.props.current, q3.props.current, q4.props.current)\n",
    "end"
   ]
  },
  {
   "cell_type": "code",
   "execution_count": 5,
   "metadata": {},
   "outputs": [
    {
     "name": "stdout",
     "output_type": "stream",
     "text": [
      "  19.965 μs (408 allocations: 15.89 KiB)\n"
     ]
    },
    {
     "data": {
      "text/plain": [
       "(0.0, 0.8793858039394876, 0.6527037124959668, 0.5320882571447347)"
      ]
     },
     "execution_count": 5,
     "metadata": {},
     "output_type": "execute_result"
    }
   ],
   "source": [
    "@btime loop_draft()"
   ]
  },
  {
   "cell_type": "code",
   "execution_count": 4,
   "metadata": {},
   "outputs": [
    {
     "name": "stdout",
     "output_type": "stream",
     "text": [
      "  0.000096 seconds (408 allocations: 15.891 KiB)\n"
     ]
    },
    {
     "data": {
      "text/plain": [
       "(0.0, 0.8793858039394876, 0.6527037124959668, 0.5320882571447347)"
      ]
     },
     "execution_count": 4,
     "metadata": {},
     "output_type": "execute_result"
    }
   ],
   "source": [
    "@time loop_draft()"
   ]
  },
  {
   "cell_type": "code",
   "execution_count": null,
   "metadata": {},
   "outputs": [],
   "source": []
  }
 ],
 "metadata": {
  "kernelspec": {
   "display_name": "Julia 1.4.1",
   "language": "julia",
   "name": "julia-1.4"
  },
  "language_info": {
   "file_extension": ".jl",
   "mimetype": "application/julia",
   "name": "julia",
   "version": "1.4.1"
  }
 },
 "nbformat": 4,
 "nbformat_minor": 4
}
