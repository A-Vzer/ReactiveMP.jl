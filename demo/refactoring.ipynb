{
 "cells": [
  {
   "cell_type": "code",
   "execution_count": 1,
   "metadata": {},
   "outputs": [
    {
     "name": "stderr",
     "output_type": "stream",
     "text": [
      "┌ Info: Precompiling ReactiveMP [a194aa59-28ba-4574-a09c-4a745416d6e3]\n",
      "└ @ Base loading.jl:1260\n",
      "┌ Warning: Package ReactiveMP does not have Rocket in its dependencies:\n",
      "│ - If you have ReactiveMP checked out for development and have\n",
      "│   added Rocket as a dependency but haven't updated your primary\n",
      "│   environment's manifest file, try `Pkg.resolve()`.\n",
      "│ - Otherwise you may need to report an issue with ReactiveMP\n",
      "└ Loading Rocket into ReactiveMP from project dependency, future warnings for ReactiveMP are suppressed.\n"
     ]
    }
   ],
   "source": [
    "using ReactiveMP\n",
    "using StaticArrays\n",
    "using BenchmarkTools\n",
    "using Distributions\n",
    "using Rocket"
   ]
  },
  {
   "cell_type": "code",
   "execution_count": 2,
   "metadata": {},
   "outputs": [
    {
     "data": {
      "text/plain": [
       "Node{Normal{Float64},3,SArray{Tuple{1},Array{Int64,1},1,1}}(NodeVariable[mean, variance, value], [[1, 2, 3]])"
      ]
     },
     "execution_count": 2,
     "metadata": {},
     "output_type": "execute_result"
    }
   ],
   "source": [
    "node = GaussianMeanVariance()"
   ]
  },
  {
   "cell_type": "code",
   "execution_count": 3,
   "metadata": {},
   "outputs": [
    {
     "data": {
      "text/plain": [
       "ConstVariable{SingleObservable{Message{Float64},AsapScheduler}}(:var, SingleObservable(Message{Float64}, AsapScheduler), LazyObservable(ReactiveMP.AbstractMessage))"
      ]
     },
     "execution_count": 3,
     "metadata": {},
     "output_type": "execute_result"
    }
   ],
   "source": [
    "mean     = constvar(:mean, 1.0)\n",
    "variance = constvar(:var, 0.0) "
   ]
  },
  {
   "cell_type": "code",
   "execution_count": 4,
   "metadata": {},
   "outputs": [],
   "source": [
    "connect!(node, :mean, mean, 1)\n",
    "connect!(node, :variance, variance, 1)"
   ]
  },
  {
   "cell_type": "code",
   "execution_count": 5,
   "metadata": {},
   "outputs": [],
   "source": [
    "activate!(node)"
   ]
  },
  {
   "cell_type": "code",
   "execution_count": 6,
   "metadata": {},
   "outputs": [
    {
     "data": {
      "text/plain": [
       "value"
      ]
     },
     "execution_count": 6,
     "metadata": {},
     "output_type": "execute_result"
    }
   ],
   "source": [
    "valueindex = varindex(node, :value)\n",
    "valuevar   = @inbounds variables(node)[valueindex]"
   ]
  },
  {
   "cell_type": "code",
   "execution_count": 7,
   "metadata": {},
   "outputs": [
    {
     "name": "stdout",
     "output_type": "stream",
     "text": [
      "[LogActor] Data: Message{Normal{Float64}}(Normal{Float64}(μ=1.0, σ=0.0))\n",
      "[LogActor] Completed\n"
     ]
    },
    {
     "data": {
      "text/plain": [
       "SwitchMapSubscription()"
      ]
     },
     "execution_count": 7,
     "metadata": {},
     "output_type": "execute_result"
    }
   ],
   "source": [
    "subscribe!(messageout(valuevar), logger())"
   ]
  },
  {
   "cell_type": "code",
   "execution_count": 8,
   "metadata": {},
   "outputs": [
    {
     "data": {
      "text/plain": [
       "Node{typeof(+),3,SArray{Tuple{1},SArray{Tuple{3},Int64,1,3},1,1}}(NodeVariable[in1, in2, out], SArray{Tuple{3},Int64,1,3}[[1, 2, 3]])"
      ]
     },
     "execution_count": 8,
     "metadata": {},
     "output_type": "execute_result"
    }
   ],
   "source": [
    "addition = AdditionNode()"
   ]
  },
  {
   "cell_type": "code",
   "execution_count": 9,
   "metadata": {},
   "outputs": [],
   "source": [
    "connect!(addition, :in1, mean, 1)\n",
    "connect!(addition, :in2, variance, 1)"
   ]
  },
  {
   "cell_type": "code",
   "execution_count": 10,
   "metadata": {},
   "outputs": [],
   "source": [
    "activate!(addition)"
   ]
  },
  {
   "cell_type": "code",
   "execution_count": 11,
   "metadata": {},
   "outputs": [
    {
     "name": "stdout",
     "output_type": "stream",
     "text": [
      "[LogActor] Error: MethodError(ReactiveMP.rule, (typeof(+), Val{:out}(), (Message{Float64}(1.0), Message{Float64}(0.0)), nothing, nothing), 0x0000000000006a24)\n"
     ]
    },
    {
     "data": {
      "text/plain": [
       "SwitchMapSubscription()"
      ]
     },
     "execution_count": 11,
     "metadata": {},
     "output_type": "execute_result"
    }
   ],
   "source": [
    "subscribe!(messageout(getvariable(addition, :out)), logger())"
   ]
  },
  {
   "cell_type": "code",
   "execution_count": 79,
   "metadata": {},
   "outputs": [
    {
     "data": {
      "text/plain": [
       "typeof(+)"
      ]
     },
     "execution_count": 79,
     "metadata": {},
     "output_type": "execute_result"
    }
   ],
   "source": [
    "functionalform(addition)"
   ]
  },
  {
   "cell_type": "code",
   "execution_count": 13,
   "metadata": {},
   "outputs": [
    {
     "ename": "MethodError",
     "evalue": "MethodError: no method matching rule(::Type{typeof(+)}, ::Val{:out}, ::Tuple{Message{Float64},Message{Float64}}, ::Nothing, ::Nothing)\nClosest candidates are:\n  rule(!Matched::typeof(+), ::Val{:out}, ::Tuple{Message{T},Message{T}}, ::Nothing, ::Nothing) where T at /Users/bvdmitri/.julia/dev/ReactiveMP/src/nodes/addition.jl:10\n  rule(!Matched::Type{#s20} where #s20<:Normal{T}, !Matched::Val{:value}, ::Tuple{Message{T},Message{T}}, ::Nothing, ::Nothing) where T at /Users/bvdmitri/.julia/dev/ReactiveMP/src/nodes/gaussian.jl:9\n  rule(!Matched::typeof(+), ::Val{:out}, !Matched::Tuple{Message{Normal{T}},Message{Normal{T}}}, ::Nothing, ::Nothing) where T at /Users/bvdmitri/.julia/dev/ReactiveMP/src/nodes/addition.jl:14\n  ...",
     "output_type": "error",
     "traceback": [
      "MethodError: no method matching rule(::Type{typeof(+)}, ::Val{:out}, ::Tuple{Message{Float64},Message{Float64}}, ::Nothing, ::Nothing)\nClosest candidates are:\n  rule(!Matched::typeof(+), ::Val{:out}, ::Tuple{Message{T},Message{T}}, ::Nothing, ::Nothing) where T at /Users/bvdmitri/.julia/dev/ReactiveMP/src/nodes/addition.jl:10\n  rule(!Matched::Type{#s20} where #s20<:Normal{T}, !Matched::Val{:value}, ::Tuple{Message{T},Message{T}}, ::Nothing, ::Nothing) where T at /Users/bvdmitri/.julia/dev/ReactiveMP/src/nodes/gaussian.jl:9\n  rule(!Matched::typeof(+), ::Val{:out}, !Matched::Tuple{Message{Normal{T}},Message{Normal{T}}}, ::Nothing, ::Nothing) where T at /Users/bvdmitri/.julia/dev/ReactiveMP/src/nodes/addition.jl:14\n  ...",
      "",
      "Stacktrace:",
      " [1] top-level scope at In[13]:1"
     ]
    }
   ],
   "source": [
    "rule(functionalform(addition), Val(:out), (Message(0.0), Message(1.0)), nothing, nothing)"
   ]
  },
  {
   "cell_type": "code",
   "execution_count": null,
   "metadata": {},
   "outputs": [],
   "source": []
  }
 ],
 "metadata": {
  "kernelspec": {
   "display_name": "Julia 1.4.1",
   "language": "julia",
   "name": "julia-1.4"
  },
  "language_info": {
   "file_extension": ".jl",
   "mimetype": "application/julia",
   "name": "julia",
   "version": "1.4.1"
  }
 },
 "nbformat": 4,
 "nbformat_minor": 4
}
