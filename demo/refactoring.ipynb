{
 "cells": [
  {
   "cell_type": "code",
   "execution_count": 1,
   "metadata": {},
   "outputs": [
    {
     "name": "stderr",
     "output_type": "stream",
     "text": [
      "┌ Info: Precompiling ReactiveMP [a194aa59-28ba-4574-a09c-4a745416d6e3]\n",
      "└ @ Base loading.jl:1260\n",
      "┌ Warning: Package ReactiveMP does not have Rocket in its dependencies:\n",
      "│ - If you have ReactiveMP checked out for development and have\n",
      "│   added Rocket as a dependency but haven't updated your primary\n",
      "│   environment's manifest file, try `Pkg.resolve()`.\n",
      "│ - Otherwise you may need to report an issue with ReactiveMP\n",
      "└ Loading Rocket into ReactiveMP from project dependency, future warnings for ReactiveMP are suppressed.\n"
     ]
    }
   ],
   "source": [
    "using ReactiveMP\n",
    "using StaticArrays\n",
    "using BenchmarkTools\n",
    "using Distributions"
   ]
  },
  {
   "cell_type": "code",
   "execution_count": 2,
   "metadata": {
    "scrolled": true
   },
   "outputs": [
    {
     "data": {
      "text/plain": [
       "Node{typeof(+),5,Array{Array{Int64,1},1}}(NodeVariable[x1, x2, x3, x4, x5], [[1, 2], [3, 4], [5]])"
      ]
     },
     "execution_count": 2,
     "metadata": {},
     "output_type": "execute_result"
    }
   ],
   "source": [
    "function ArbitraryNode() \n",
    "    vars = @SVector [ nodevar(Symbol(\"x\" * string(v))) for v in 1:5 ]\n",
    "    fcn  = [ [ 1, 2 ], [ 3, 4 ], [5] ]\n",
    "    return Node(+, vars, fcn) \n",
    "end\n",
    "\n",
    "node = ArbitraryNode()"
   ]
  },
  {
   "cell_type": "code",
   "execution_count": 13,
   "metadata": {},
   "outputs": [
    {
     "data": {
      "text/plain": [
       "NormalNode (generic function with 1 method)"
      ]
     },
     "execution_count": 13,
     "metadata": {},
     "output_type": "execute_result"
    }
   ],
   "source": [
    "AdditionNode() = Node(+, SA[ :in1, :in2, :out ], [ [ 1, 2, 3 ] ])\n",
    "NormalNode() = Node(Normal, SA[ :mean, :precision, :value ], [ [ 1 ], [ 2 ], [ 3 ] ])"
   ]
  },
  {
   "cell_type": "code",
   "execution_count": 14,
   "metadata": {},
   "outputs": [
    {
     "data": {
      "text/plain": [
       "Node{typeof(+),3,Array{Array{Int64,1},1}}(NodeVariable[in1, in2, out], [[1, 2, 3]])"
      ]
     },
     "execution_count": 14,
     "metadata": {},
     "output_type": "execute_result"
    }
   ],
   "source": [
    "addnode = AdditionNode()"
   ]
  },
  {
   "cell_type": "code",
   "execution_count": 15,
   "metadata": {},
   "outputs": [
    {
     "name": "stdout",
     "output_type": "stream",
     "text": [
      "  120.733 ns (9 allocations: 368 bytes)\n"
     ]
    },
    {
     "data": {
      "text/plain": [
       "(NodeVariable[in1, in2], Array{NodeVariable,1}[])"
      ]
     },
     "execution_count": 15,
     "metadata": {},
     "output_type": "execute_result"
    }
   ],
   "source": [
    "@btime deps($addnode, :out)"
   ]
  },
  {
   "cell_type": "code",
   "execution_count": 7,
   "metadata": {},
   "outputs": [
    {
     "data": {
      "text/plain": [
       "Node{UnionAll,3,Array{Array{Int64,1},1}}(NodeVariable[mean, precision, value], [[1], [2], [3]])"
      ]
     },
     "execution_count": 7,
     "metadata": {},
     "output_type": "execute_result"
    }
   ],
   "source": [
    "nnode = NormalNode()"
   ]
  },
  {
   "cell_type": "code",
   "execution_count": 16,
   "metadata": {},
   "outputs": [
    {
     "name": "stdout",
     "output_type": "stream",
     "text": [
      "  210.694 ns (13 allocations: 592 bytes)\n"
     ]
    },
    {
     "data": {
      "text/plain": [
       "(NodeVariable[], Array{NodeVariable,1}[[mean], [precision]])"
      ]
     },
     "execution_count": 16,
     "metadata": {},
     "output_type": "execute_result"
    }
   ],
   "source": [
    "@btime deps($nnode, :value)"
   ]
  },
  {
   "cell_type": "code",
   "execution_count": 17,
   "metadata": {},
   "outputs": [
    {
     "name": "stdout",
     "output_type": "stream",
     "text": [
      "Variables\n",
      "  #self#\u001b[36m::Core.Compiler.Const(ReactiveMP.deps, false)\u001b[39m\n",
      "  node\u001b[36m::Node{typeof(+),3,Array{Array{Int64,1},1}}\u001b[39m\n",
      "  v\u001b[36m::Symbol\u001b[39m\n",
      "  val\u001b[36m::Array{Int64,1}\u001b[39m\n",
      "  #45\u001b[36m::ReactiveMP.var\"#45#47\"{SArray{Tuple{3},NodeVariable,1,3}}\u001b[39m\n",
      "  #46\u001b[36m::ReactiveMP.var\"#46#48\"{SArray{Tuple{3},NodeVariable,1,3}}\u001b[39m\n",
      "  vindex\u001b[33m\u001b[1m::Union{Nothing, Int64}\u001b[22m\u001b[39m\n",
      "  cindex\u001b[33m\u001b[1m::Union{Nothing, Int64}\u001b[22m\u001b[39m\n",
      "  vars\u001b[36m::SArray{Tuple{3},NodeVariable,1,3}\u001b[39m\n",
      "  cls\u001b[36m::Array{Array{Int64,1},1}\u001b[39m\n",
      "  factor\u001b[36m::Array{Int64,1}\u001b[39m\n",
      "  vcindex\u001b[33m\u001b[1m::Union{Nothing, Int64}\u001b[22m\u001b[39m\n",
      "  mdeps\u001b[36m::Array{NodeVariable,1}\u001b[39m\n",
      "  clusterdeps\u001b[36m::Array{Array{NodeVariable,1},1}\u001b[39m\n",
      "\n",
      "Body\u001b[36m::Tuple{Array{NodeVariable,1},Array{Array{NodeVariable,1},1}}\u001b[39m\n",
      "\u001b[90m1 ─\u001b[39m       Core.NewvarNode(:(val))\n",
      "\u001b[90m│  \u001b[39m       Core.NewvarNode(:(#45))\n",
      "\u001b[90m│  \u001b[39m       Core.NewvarNode(:(#46))\n",
      "\u001b[90m│  \u001b[39m       Core.NewvarNode(:(vars))\n",
      "\u001b[90m│  \u001b[39m       Core.NewvarNode(:(cls))\n",
      "\u001b[90m│  \u001b[39m       Core.NewvarNode(:(factor))\n",
      "\u001b[90m│  \u001b[39m       Core.NewvarNode(:(vcindex))\n",
      "\u001b[90m│  \u001b[39m       Core.NewvarNode(:(mdeps))\n",
      "\u001b[90m│  \u001b[39m       Core.NewvarNode(:(clusterdeps))\n",
      "\u001b[90m│  \u001b[39m       (vindex = ReactiveMP.varindex(node, v))\n",
      "\u001b[90m│  \u001b[39m       (cindex = ReactiveMP.clusterindex(node, vindex))\n",
      "\u001b[90m│  \u001b[39m %12 = (vindex !== ReactiveMP.nothing)\u001b[36m::Bool\u001b[39m\n",
      "\u001b[90m└──\u001b[39m       goto #3 if not %12\n",
      "\u001b[90m2 ─\u001b[39m       goto #4\n",
      "\u001b[90m3 ─\u001b[39m %15 = Base.AssertionError(\"vindex !== nothing\")\u001b[36m::AssertionError\u001b[39m\n",
      "\u001b[90m└──\u001b[39m       Base.throw(%15)\n",
      "\u001b[90m4 ┄\u001b[39m %17 = (cindex !== ReactiveMP.nothing)\u001b[36m::Bool\u001b[39m\n",
      "\u001b[90m└──\u001b[39m       goto #6 if not %17\n",
      "\u001b[90m5 ─\u001b[39m       goto #7\n",
      "\u001b[90m6 ─\u001b[39m %20 = Base.AssertionError(\"cindex !== nothing\")\u001b[36m::AssertionError\u001b[39m\n",
      "\u001b[90m└──\u001b[39m       Base.throw(%20)\n",
      "\u001b[90m7 ┄\u001b[39m       (vars = ReactiveMP.variables(node))\n",
      "\u001b[90m│  \u001b[39m       (cls = ReactiveMP.factorisation(node))\n",
      "\u001b[90m│  \u001b[39m       $(Expr(:inbounds, true))\n",
      "\u001b[90m│  \u001b[39m       (val = Base.getindex(cls, cindex::Int64))\n",
      "\u001b[90m│  \u001b[39m       $(Expr(:inbounds, :pop))\n",
      "\u001b[90m│  \u001b[39m       (factor = val)\n",
      "\u001b[90m│  \u001b[39m       (vcindex = ReactiveMP.varclusterindex(factor, vindex::Int64))\n",
      "\u001b[90m│  \u001b[39m %29 = ReactiveMP.:(var\"#45#47\")\u001b[36m::Core.Compiler.Const(ReactiveMP.var\"#45#47\", false)\u001b[39m\n",
      "\u001b[90m│  \u001b[39m %30 = Core.typeof(vars)\u001b[36m::Core.Compiler.Const(SArray{Tuple{3},NodeVariable,1,3}, false)\u001b[39m\n",
      "\u001b[90m│  \u001b[39m %31 = Core.apply_type(%29, %30)\u001b[36m::Core.Compiler.Const(ReactiveMP.var\"#45#47\"{SArray{Tuple{3},NodeVariable,1,3}}, false)\u001b[39m\n",
      "\u001b[90m│  \u001b[39m       (#45 = %new(%31, vars))\n",
      "\u001b[90m│  \u001b[39m %33 = #45\u001b[36m::ReactiveMP.var\"#45#47\"{SArray{Tuple{3},NodeVariable,1,3}}\u001b[39m\n",
      "\u001b[90m│  \u001b[39m %34 = ReactiveMP.skipindex(factor, vcindex)\u001b[36m::ReactiveMP.SkipIndexIterator{Array{Int64,1},Int64,1}\u001b[39m\n",
      "\u001b[90m│  \u001b[39m       (mdeps = ReactiveMP.map(%33, %34))\n",
      "\u001b[90m│  \u001b[39m %36 = ReactiveMP.:(var\"#46#48\")\u001b[36m::Core.Compiler.Const(ReactiveMP.var\"#46#48\", false)\u001b[39m\n",
      "\u001b[90m│  \u001b[39m %37 = Core.typeof(vars)\u001b[36m::Core.Compiler.Const(SArray{Tuple{3},NodeVariable,1,3}, false)\u001b[39m\n",
      "\u001b[90m│  \u001b[39m %38 = Core.apply_type(%36, %37)\u001b[36m::Core.Compiler.Const(ReactiveMP.var\"#46#48\"{SArray{Tuple{3},NodeVariable,1,3}}, false)\u001b[39m\n",
      "\u001b[90m│  \u001b[39m       (#46 = %new(%38, vars))\n",
      "\u001b[90m│  \u001b[39m %40 = #46\u001b[36m::ReactiveMP.var\"#46#48\"{SArray{Tuple{3},NodeVariable,1,3}}\u001b[39m\n",
      "\u001b[90m│  \u001b[39m %41 = ReactiveMP.skipindex(cls, cindex::Int64)\u001b[36m::ReactiveMP.SkipIndexIterator{Array{Array{Int64,1},1},Array{Int64,1},1}\u001b[39m\n",
      "\u001b[90m│  \u001b[39m       (clusterdeps = ReactiveMP.map(%40, %41))\n",
      "\u001b[90m│  \u001b[39m %43 = Core.tuple(mdeps, clusterdeps)\u001b[36m::Tuple{Array{NodeVariable,1},Array{Array{NodeVariable,1},1}}\u001b[39m\n",
      "\u001b[90m└──\u001b[39m       return %43\n"
     ]
    }
   ],
   "source": [
    "@code_warntype deps(addnode, :out)"
   ]
  },
  {
   "cell_type": "code",
   "execution_count": null,
   "metadata": {},
   "outputs": [],
   "source": []
  }
 ],
 "metadata": {
  "kernelspec": {
   "display_name": "Julia 1.4.1",
   "language": "julia",
   "name": "julia-1.4"
  },
  "language_info": {
   "file_extension": ".jl",
   "mimetype": "application/julia",
   "name": "julia",
   "version": "1.4.1"
  }
 },
 "nbformat": 4,
 "nbformat_minor": 4
}
