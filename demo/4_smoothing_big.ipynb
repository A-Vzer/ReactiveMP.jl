{
 "cells": [
  {
   "cell_type": "code",
   "execution_count": 1,
   "metadata": {
    "tags": []
   },
   "outputs": [
    {
     "name": "stderr",
     "output_type": "stream",
     "text": [
      "┌ Info: Precompiling ReactiveMP [a194aa59-28ba-4574-a09c-4a745416d6e3]\n",
      "└ @ Base loading.jl:1278\n",
      "┌ Warning: Package ReactiveMP does not have Rocket in its dependencies:\n",
      "│ - If you have ReactiveMP checked out for development and have\n",
      "│   added Rocket as a dependency but haven't updated your primary\n",
      "│   environment's manifest file, try `Pkg.resolve()`.\n",
      "│ - Otherwise you may need to report an issue with ReactiveMP\n",
      "└ Loading Rocket into ReactiveMP from project dependency, future warnings for ReactiveMP are suppressed.\n"
     ]
    }
   ],
   "source": [
    "using Rocket\n",
    "using Distributions\n",
    "using ReactiveMP\n",
    "using BenchmarkTools\n",
    "\n",
    "import Base: show"
   ]
  },
  {
   "cell_type": "code",
   "execution_count": 2,
   "metadata": {},
   "outputs": [
    {
     "data": {
      "text/plain": [
       "createGraph (generic function with 1 method)"
      ]
     },
     "execution_count": 2,
     "metadata": {},
     "output_type": "execute_result"
    }
   ],
   "source": [
    "function createSubgraph(model, index::Int)\n",
    "    noise_add = make_node(model, +)\n",
    "    \n",
    "    noise = constvar(model, :noise, NormalMeanVariance(0.0, 200.0))\n",
    "    yn    = datavar(model, :yn, Dirac{Float64})\n",
    "    \n",
    "    connect!(noise_add, :in2, noise)\n",
    "    connect!(noise_add, :out, yn)\n",
    "    \n",
    "    return (yn, noise_add)\n",
    "end\n",
    "\n",
    "function createGraph(size::Int)    \n",
    "    model = Model(message_out_transformer = DefaultMessageOutTransformer() + AsyncStreamTransformer())\n",
    "    \n",
    "    c0_add = make_node(model, +)\n",
    "    \n",
    "    c0       = constvar(model, :c0, 1.0)\n",
    "    x0_prior = datavar(model, :x0_prior, NormalMeanVariance{Float64})\n",
    "    \n",
    "    connect!(c0_add, :in1, x0_prior)\n",
    "    connect!(c0_add, :in2, c0)\n",
    "    \n",
    "    index = 1\n",
    "    \n",
    "    prev_c_add = c0_add\n",
    "    \n",
    "    xs = Vector{RandomVariable}(undef, size)\n",
    "    ys = Vector{DataVariable}(undef, size)\n",
    "    \n",
    "    while index < size\n",
    "        yn, noise_add = createSubgraph(model, index)\n",
    "        xn            = randomvar(model, :xn)\n",
    "        \n",
    "        c_add = make_node(model, +)\n",
    "        cn    = constvar(model, :cn, 1.0)\n",
    "        \n",
    "        connect!(prev_c_add, :out, xn)\n",
    "        connect!(noise_add, :in1, xn)\n",
    "        connect!(c_add, :in1, xn)\n",
    "        connect!(c_add, :in2, cn)\n",
    "        \n",
    "        activate!(model, prev_c_add)\n",
    "        activate!(model, noise_add)\n",
    "        \n",
    "        xs[index] = xn\n",
    "        ys[index] = yn\n",
    "        \n",
    "        prev_c_add = c_add\n",
    "        \n",
    "        index += 1\n",
    "    end\n",
    "    \n",
    "    last_noise_add = make_node(model, +)\n",
    "    \n",
    "    x_last     = randomvar(model, :x_last)\n",
    "    y_last     = datavar(model, :ylast, Dirac{Float64})\n",
    "    last_noise = constvar(model, :last_noise, NormalMeanVariance(0.0, 200.0))\n",
    "    \n",
    "    connect!(prev_c_add, :out, x_last)\n",
    "    connect!(last_noise_add, :in1, x_last)\n",
    "    connect!(last_noise_add, :in2, last_noise)\n",
    "    connect!(last_noise_add, :out, y_last)\n",
    "    \n",
    "    activate!(model)\n",
    "    \n",
    "    xs[size] = x_last\n",
    "    ys[size] = y_last\n",
    "    \n",
    "    return (xs, ys, x0_prior)\n",
    "end"
   ]
  },
  {
   "cell_type": "code",
   "execution_count": 3,
   "metadata": {},
   "outputs": [
    {
     "data": {
      "text/plain": [
       "smoothing (generic function with 1 method)"
      ]
     },
     "execution_count": 3,
     "metadata": {},
     "output_type": "execute_result"
    }
   ],
   "source": [
    "function smoothing(data)\n",
    "    N = length(data)\n",
    "    \n",
    "    xs, ys, x_prior = createGraph(N);\n",
    "    \n",
    "    marginals     = Vector{NormalMeanVariance{Float64}}(undef, N)\n",
    "    subscriptions = Vector{Teardown}(undef, N)\n",
    "    \n",
    "    for (index, x) in enumerate(xs)\n",
    "        @inbounds subscriptions[index] = subscribe!(getmarginal(x), (d) -> marginals[index] = getdata(d))\n",
    "        yield()\n",
    "    end\n",
    "    \n",
    "    update!(x_prior, NormalMeanVariance(0.0, 10000.0))\n",
    "    for i in 1:N\n",
    "        @inbounds update!(ys[i], data[i])\n",
    "    end\n",
    "    \n",
    "    for i in 1:N\n",
    "        yield()\n",
    "    end\n",
    "    \n",
    "    foreach(unsubscribe!, subscriptions)\n",
    "    \n",
    "    return marginals\n",
    "end"
   ]
  },
  {
   "cell_type": "code",
   "execution_count": 4,
   "metadata": {},
   "outputs": [],
   "source": [
    "N = 100_000\n",
    "data = collect(1:N) + sqrt(200.0) * randn(N);"
   ]
  },
  {
   "cell_type": "code",
   "execution_count": 5,
   "metadata": {},
   "outputs": [
    {
     "name": "stdout",
     "output_type": "stream",
     "text": [
      " 39.807592 seconds (104.49 M allocations: 7.852 GiB, 34.87% gc time)\n"
     ]
    }
   ],
   "source": [
    "@time smoothing(data); # Initial compilation"
   ]
  },
  {
   "cell_type": "code",
   "execution_count": 6,
   "metadata": {},
   "outputs": [
    {
     "name": "stdout",
     "output_type": "stream",
     "text": [
      " 36.539132 seconds (97.45 M allocations: 7.484 GiB, 38.87% gc time)\n"
     ]
    }
   ],
   "source": [
    "@time smoothing(data); # Subsequent runs"
   ]
  },
  {
   "cell_type": "code",
   "execution_count": 7,
   "metadata": {},
   "outputs": [
    {
     "data": {
      "text/plain": [
       "100000-element Array{NormalMeanVariance{Float64},1}:\n",
       " NormalMeanVariance{Float64}(μ=0.9360581571971125, v=0.001999999600000074)\n",
       " NormalMeanVariance{Float64}(μ=1.9360581571971127, v=0.001999999600000074)\n",
       " NormalMeanVariance{Float64}(μ=2.936058157197112, v=0.001999999600000074)\n",
       " NormalMeanVariance{Float64}(μ=3.9360581571971123, v=0.001999999600000074)\n",
       " NormalMeanVariance{Float64}(μ=4.936058157197113, v=0.001999999600000074)\n",
       " NormalMeanVariance{Float64}(μ=5.936058157197112, v=0.001999999600000074)\n",
       " NormalMeanVariance{Float64}(μ=6.936058157197112, v=0.001999999600000074)\n",
       " NormalMeanVariance{Float64}(μ=7.936058157197113, v=0.001999999600000074)\n",
       " NormalMeanVariance{Float64}(μ=8.936058157197115, v=0.001999999600000074)\n",
       " NormalMeanVariance{Float64}(μ=9.936058157197113, v=0.0019999996000000736)\n",
       " NormalMeanVariance{Float64}(μ=10.936058157197113, v=0.0019999996000000736)\n",
       " NormalMeanVariance{Float64}(μ=11.936058157197111, v=0.0019999996000000736)\n",
       " NormalMeanVariance{Float64}(μ=12.93605815719711, v=0.0019999996000000736)\n",
       " ⋮\n",
       " NormalMeanVariance{Float64}(μ=99988.9360581575, v=0.0019999996000000723)\n",
       " NormalMeanVariance{Float64}(μ=99989.9360581575, v=0.0019999996000000728)\n",
       " NormalMeanVariance{Float64}(μ=99990.93605815747, v=0.0019999996000000728)\n",
       " NormalMeanVariance{Float64}(μ=99991.9360581575, v=0.0019999996000000728)\n",
       " NormalMeanVariance{Float64}(μ=99992.93605815747, v=0.0019999996000000723)\n",
       " NormalMeanVariance{Float64}(μ=99993.93605815747, v=0.0019999996000000723)\n",
       " NormalMeanVariance{Float64}(μ=99994.93605815747, v=0.0019999996000000723)\n",
       " NormalMeanVariance{Float64}(μ=99995.93605815747, v=0.0019999996000000723)\n",
       " NormalMeanVariance{Float64}(μ=99996.9360581575, v=0.0019999996000000728)\n",
       " NormalMeanVariance{Float64}(μ=99997.93605815747, v=0.0019999996000000728)\n",
       " NormalMeanVariance{Float64}(μ=99998.93605815747, v=0.0019999996000000728)\n",
       " NormalMeanVariance{Float64}(μ=99999.93605815746, v=0.0019999996000000728)"
      ]
     },
     "execution_count": 7,
     "metadata": {},
     "output_type": "execute_result"
    }
   ],
   "source": [
    "smoothing(data)"
   ]
  },
  {
   "cell_type": "code",
   "execution_count": null,
   "metadata": {},
   "outputs": [],
   "source": []
  }
 ],
 "metadata": {
  "kernelspec": {
   "display_name": "Julia 1.5.2",
   "language": "julia",
   "name": "julia-1.5"
  },
  "language_info": {
   "file_extension": ".jl",
   "mimetype": "application/julia",
   "name": "julia",
   "version": "1.5.2"
  }
 },
 "nbformat": 4,
 "nbformat_minor": 4
}
