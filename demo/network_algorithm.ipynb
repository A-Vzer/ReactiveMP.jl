{
 "cells": [
  {
   "cell_type": "code",
   "execution_count": 1,
   "metadata": {
    "scrolled": true
   },
   "outputs": [
    {
     "name": "stderr",
     "output_type": "stream",
     "text": [
      "┌ Info: Precompiling ReactiveMP [a194aa59-28ba-4574-a09c-4a745416d6e3]\n",
      "└ @ Base loading.jl:1273\n",
      "┌ Warning: Package ReactiveMP does not have Rx in its dependencies:\n",
      "│ - If you have ReactiveMP checked out for development and have\n",
      "│   added Rx as a dependency but haven't updated your primary\n",
      "│   environment's manifest file, try `Pkg.resolve()`.\n",
      "│ - Otherwise you may need to report an issue with ReactiveMP\n",
      "└ Loading Rx into ReactiveMP from project dependency, future warnings for ReactiveMP are suppressed.\n"
     ]
    }
   ],
   "source": [
    "using Rx\n",
    "using ReactiveMP\n",
    "using Distributions"
   ]
  },
  {
   "cell_type": "code",
   "execution_count": 2,
   "metadata": {},
   "outputs": [],
   "source": [
    "struct NetworkDataActor <: Actor{Float64}\n",
    "    inference_actor\n",
    "end\n",
    "\n",
    "function Rx.on_next!(actor::NetworkDataActor, data::Float64)\n",
    "    next!(actor.inference_actor.y.values, data)\n",
    "    next!(actor.inference_actor.mean.values, actor.inference_actor.m_p)\n",
    "    next!(actor.inference_actor.variance.values, actor.inference_actor.v_p)\n",
    "end\n",
    "\n",
    "Rx.on_error!(actor::NetworkDataActor, err) = error(err)\n",
    "Rx.on_complete!(actor::NetworkDataActor)   = \"NetworkDataActor completed\""
   ]
  },
  {
   "cell_type": "code",
   "execution_count": 3,
   "metadata": {},
   "outputs": [],
   "source": [
    "mutable struct InferenceActor <: Actor{AbstractMessage}\n",
    "    computed   :: Vector{AbstractMessage}\n",
    "    \n",
    "    y          :: ObservedVariable\n",
    "    mean       :: EstimatedVariable\n",
    "    variance   :: EstimatedVariable\n",
    "    \n",
    "    m_p :: Float64\n",
    "    v_p :: Float64\n",
    "    \n",
    "    InferenceActor(y::ObservedVariable, mean::EstimatedVariable, variance::EstimatedVariable) = begin\n",
    "        return new(Vector{AbstractMessage}(), y, mean, variance, 0.0, 1000.0)\n",
    "    end\n",
    "end\n",
    "\n",
    "function Rx.on_next!(actor::InferenceActor, data::AbstractMessage) \n",
    "    m = mean(data.distribution)\n",
    "    v = var(data.distribution)\n",
    "    \n",
    "    actor.m_p = m\n",
    "    actor.v_p = v\n",
    "    \n",
    "    push!(actor.computed, data)\n",
    "    \n",
    "    println(data)\n",
    "end\n",
    "\n",
    "Rx.on_error!(actor::InferenceActor, err) = error(err)\n",
    "Rx.on_complete!(actor::InferenceActor)   = \"InferenceActor completed\""
   ]
  },
  {
   "cell_type": "code",
   "execution_count": 4,
   "metadata": {},
   "outputs": [],
   "source": [
    "x_prev_add   = addition_node(\"x_prev_add\", StochasticMessage{Normal{Float64}}, DeterministicMessage, StochasticMessage{Normal{Float64}});\n",
    "add_1        = constant_variable(\"add_1\", 1.0, x_prev_add.in2);\n",
    "\n",
    "x_prev_prior = gaussian_mean_variance(\"x_prev_prior\");\n",
    "x_prev_m     = estimated_variable(\"x_prev_m\", x_prev_prior.mean);\n",
    "x_prev_v     = estimated_variable(\"x_prev_v\", x_prev_prior.variance);\n",
    "\n",
    "x_prev = random_variable(\"x_prev\", x_prev_prior.value, x_prev_add.in1);\n",
    "\n",
    "noise_node     = gaussian_mean_variance(\"noise_node\");\n",
    "noise_mean     = constant_variable(\"noise_mean\", 0.0, noise_node.mean);\n",
    "noise_variance = constant_variable(\"noise_variance\", 200.0, noise_node.variance);\n",
    "\n",
    "add_x_and_noise = addition_node(\"add_x_and_noise\", StochasticMessage{Normal{Float64}}, StochasticMessage{Normal{Float64}}, DeterministicMessage);\n",
    "\n",
    "x = random_variable(\"x\", x_prev_add.out, add_x_and_noise.in1);\n",
    "n = random_variable(\"n\", noise_node.value, add_x_and_noise.in2);\n",
    "y = observed_variable(\"y\", add_x_and_noise.out);"
   ]
  },
  {
   "cell_type": "code",
   "execution_count": 5,
   "metadata": {},
   "outputs": [
    {
     "data": {
      "text/plain": [
       "SubjectSubscription()"
      ]
     },
     "execution_count": 5,
     "metadata": {},
     "output_type": "execute_result"
    },
    {
     "name": "stdout",
     "output_type": "stream",
     "text": [
      "StochasticMessage{Normal{Float64}}(Normal{Float64}(μ=7.612077529121848, σ=12.909944487358057))\n",
      "StochasticMessage{Normal{Float64}}(Normal{Float64}(μ=3.567711793514606, σ=9.534625892455924))\n",
      "StochasticMessage{Normal{Float64}}(Normal{Float64}(μ=-1.5203491112565417, σ=7.905694150420949))\n",
      "StochasticMessage{Normal{Float64}}(Normal{Float64}(μ=2.5911727929234125, σ=6.900655593423543))\n",
      "StochasticMessage{Normal{Float64}}(Normal{Float64}(μ=2.352621754693063, σ=6.201736729460423))\n",
      "StochasticMessage{Normal{Float64}}(Normal{Float64}(μ=0.11756848621170314, σ=5.679618342470648))\n",
      "StochasticMessage{Normal{Float64}}(Normal{Float64}(μ=3.0859979442256438, σ=5.2704627669473))\n",
      "StochasticMessage{Normal{Float64}}(Normal{Float64}(μ=5.693672573076477, σ=4.938647983247948))\n",
      "StochasticMessage{Normal{Float64}}(Normal{Float64}(μ=7.21859748318627, σ=4.66252404120157))\n",
      "StochasticMessage{Normal{Float64}}(Normal{Float64}(μ=9.71483434355701, σ=4.428074427700477))\n",
      "StochasticMessage{Normal{Float64}}(Normal{Float64}(μ=10.815054892887195, σ=4.225771273642584))\n",
      "StochasticMessage{Normal{Float64}}(Normal{Float64}(μ=10.962880819273808, σ=4.0488816508945815))\n",
      "StochasticMessage{Normal{Float64}}(Normal{Float64}(μ=11.364291154261759, σ=3.8924947208076164))\n",
      "StochasticMessage{Normal{Float64}}(Normal{Float64}(μ=11.665729696090654, σ=3.7529331252040095))\n",
      "StochasticMessage{Normal{Float64}}(Normal{Float64}(μ=13.48854102874923, σ=3.62738125055006))\n",
      "StochasticMessage{Normal{Float64}}(Normal{Float64}(μ=14.391642773229302, σ=3.5136418446315343))\n",
      "StochasticMessage{Normal{Float64}}(Normal{Float64}(μ=14.150674240686664, σ=3.409971697352369))\n",
      "StochasticMessage{Normal{Float64}}(Normal{Float64}(μ=14.505095747132758, σ=3.3149677206589807))\n",
      "StochasticMessage{Normal{Float64}}(Normal{Float64}(μ=15.775581248405977, σ=3.227486121839515))\n",
      "StochasticMessage{Normal{Float64}}(Normal{Float64}(μ=18.72078602718652, σ=3.1465838776377644))\n",
      "StochasticMessage{Normal{Float64}}(Normal{Float64}(μ=20.430502504124554, σ=3.071475584169757))\n",
      "StochasticMessage{Normal{Float64}}(Normal{Float64}(μ=20.493378298726387, σ=3.001501125938322))\n",
      "StochasticMessage{Normal{Float64}}(Normal{Float64}(μ=22.103110935419046, σ=2.9361010975735184))\n",
      "StochasticMessage{Normal{Float64}}(Normal{Float64}(μ=22.640047885562588, σ=2.874797872880346))\n",
      "StochasticMessage{Normal{Float64}}(Normal{Float64}(μ=24.947459442579028, σ=2.817180849095056))\n",
      "StochasticMessage{Normal{Float64}}(Normal{Float64}(μ=26.485648176443146, σ=2.762894819977689))\n",
      "StochasticMessage{Normal{Float64}}(Normal{Float64}(μ=27.590403544920214, σ=2.711630722733203))\n",
      "StochasticMessage{Normal{Float64}}(Normal{Float64}(μ=28.70645995460628, σ=2.6631182064565384))\n",
      "StochasticMessage{Normal{Float64}}(Normal{Float64}(μ=28.299070594171035, σ=2.6171196129510697))\n",
      "StochasticMessage{Normal{Float64}}(Normal{Float64}(μ=29.256915695896673, σ=2.573425063274895))\n",
      "StochasticMessage{Normal{Float64}}(Normal{Float64}(μ=30.90472389342297, σ=2.531848417709168))\n",
      "StochasticMessage{Normal{Float64}}(Normal{Float64}(μ=31.791355141215412, σ=2.4922239313961354))\n",
      "StochasticMessage{Normal{Float64}}(Normal{Float64}(μ=33.15841684496601, σ=2.454403468369081))\n",
      "StochasticMessage{Normal{Float64}}(Normal{Float64}(μ=33.9558763357315, σ=2.4182541670333735))\n",
      "StochasticMessage{Normal{Float64}}(Normal{Float64}(μ=35.99181226252136, σ=2.383656473113982))\n",
      "StochasticMessage{Normal{Float64}}(Normal{Float64}(μ=37.16743838633302, σ=2.3505024736113436))\n",
      "StochasticMessage{Normal{Float64}}(Normal{Float64}(μ=37.75860587510863, σ=2.318694478800843))\n",
      "StochasticMessage{Normal{Float64}}(Normal{Float64}(μ=38.31433802514513, σ=2.288143809781379))\n",
      "StochasticMessage{Normal{Float64}}(Normal{Float64}(μ=39.235039983288424, σ=2.258769757263129))\n",
      "StochasticMessage{Normal{Float64}}(Normal{Float64}(μ=40.331773415932396, σ=2.2304986837273537))\n",
      "StochasticMessage{Normal{Float64}}(Normal{Float64}(μ=41.05946272211272, σ=2.2032632461961597))\n",
      "StochasticMessage{Normal{Float64}}(Normal{Float64}(μ=42.08599812424537, σ=2.1770017209205412))\n",
      "StochasticMessage{Normal{Float64}}(Normal{Float64}(μ=43.195533931472845, σ=2.1516574145596765))\n",
      "StochasticMessage{Normal{Float64}}(Normal{Float64}(μ=43.846175039054046, σ=2.1271781490575856))\n",
      "StochasticMessage{Normal{Float64}}(Normal{Float64}(μ=45.096247681667876, σ=2.1035158095583566))\n",
      "StochasticMessage{Normal{Float64}}(Normal{Float64}(μ=45.80449029774466, σ=2.080625946441198))\n",
      "StochasticMessage{Normal{Float64}}(Normal{Float64}(μ=46.936364055425834, σ=2.0584674239815457))\n",
      "StochasticMessage{Normal{Float64}}(Normal{Float64}(μ=48.27514513495764, σ=2.0370021093167763))\n",
      "StochasticMessage{Normal{Float64}}(Normal{Float64}(μ=49.915771549055975, σ=2.0161945963637797))\n",
      "StochasticMessage{Normal{Float64}}(Normal{Float64}(μ=50.815679179417735, σ=1.9960119601394979))\n",
      "StochasticMessage{Normal{Float64}}(Normal{Float64}(μ=51.77503841601184, σ=1.9764235376052373))\n",
      "StochasticMessage{Normal{Float64}}(Normal{Float64}(μ=52.83246113779868, σ=1.9574007317156785))\n",
      "StochasticMessage{Normal{Float64}}(Normal{Float64}(μ=53.59335252491119, σ=1.9389168358237034))\n",
      "StochasticMessage{Normal{Float64}}(Normal{Float64}(μ=54.506539783922435, σ=1.9209468759882466))\n",
      "StochasticMessage{Normal{Float64}}(Normal{Float64}(μ=55.3124544028184, σ=1.9034674690672027))\n",
      "StochasticMessage{Normal{Float64}}(Normal{Float64}(μ=56.445327546424984, σ=1.8864566947613626))\n",
      "StochasticMessage{Normal{Float64}}(Normal{Float64}(μ=58.01490960515963, σ=1.8698939800169143))\n",
      "StochasticMessage{Normal{Float64}}(Normal{Float64}(μ=59.116878281378426, σ=1.8537599944001617))\n",
      "StochasticMessage{Normal{Float64}}(Normal{Float64}(μ=60.07930990937282, σ=1.8380365552345195))\n",
      "StochasticMessage{Normal{Float64}}(Normal{Float64}(μ=61.01792173885832, σ=1.8227065414412231))\n",
      "StochasticMessage{Normal{Float64}}(Normal{Float64}(μ=62.14110809770384, σ=1.8077538151554682))\n",
      "StochasticMessage{Normal{Float64}}(Normal{Float64}(μ=63.3089637725138, σ=1.7931631503020817))\n",
      "StochasticMessage{Normal{Float64}}(Normal{Float64}(μ=64.07883928817894, σ=1.77892016741205))\n",
      "StochasticMessage{Normal{Float64}}(Normal{Float64}(μ=65.04115588855828, σ=1.7650112740455195))\n",
      "StochasticMessage{Normal{Float64}}(Normal{Float64}(μ=65.72024366724914, σ=1.7514236102601468))\n",
      "StochasticMessage{Normal{Float64}}(Normal{Float64}(μ=66.94728297141565, σ=1.7381449986274955))\n",
      "StochasticMessage{Normal{Float64}}(Normal{Float64}(μ=67.61605794769132, σ=1.7251638983558855))\n",
      "StochasticMessage{Normal{Float64}}(Normal{Float64}(μ=68.41791934724111, σ=1.7124693631268542))\n",
      "StochasticMessage{Normal{Float64}}(Normal{Float64}(μ=69.77714272005595, σ=1.7000510022951147))\n",
      "StochasticMessage{Normal{Float64}}(Normal{Float64}(μ=70.74431617927249, σ=1.6878989451394444))\n",
      "StochasticMessage{Normal{Float64}}(Normal{Float64}(μ=71.77593205105246, σ=1.6760038078849773))\n",
      "StochasticMessage{Normal{Float64}}(Normal{Float64}(μ=72.57201316754343, σ=1.6643566632465154))\n",
      "StochasticMessage{Normal{Float64}}(Normal{Float64}(μ=73.3545365714, σ=1.6529490122682158))\n",
      "StochasticMessage{Normal{Float64}}(Normal{Float64}(μ=74.46053523545196, σ=1.6417727582577963))\n",
      "StochasticMessage{Normal{Float64}}(Normal{Float64}(μ=75.55412222665169, σ=1.6308201826336055))\n",
      "StochasticMessage{Normal{Float64}}(Normal{Float64}(μ=76.4164964481071, σ=1.620083922520836))\n",
      "StochasticMessage{Normal{Float64}}(Normal{Float64}(μ=77.6332389676825, σ=1.609556949949126))\n",
      "StochasticMessage{Normal{Float64}}(Normal{Float64}(μ=78.7925427038006, σ=1.5992325525180031))\n",
      "StochasticMessage{Normal{Float64}}(Normal{Float64}(μ=79.70871045440889, σ=1.5891043154093205))\n",
      "StochasticMessage{Normal{Float64}}(Normal{Float64}(μ=80.73792391032549, σ=1.5791661046371634))\n",
      "StochasticMessage{Normal{Float64}}(Normal{Float64}(μ=81.63102675009456, σ=1.5694120514358612))\n",
      "StochasticMessage{Normal{Float64}}(Normal{Float64}(μ=82.7218507222998, σ=1.5598365376958254))\n",
      "StochasticMessage{Normal{Float64}}(Normal{Float64}(μ=83.81050974374067, σ=1.5504341823651058))\n",
      "StochasticMessage{Normal{Float64}}(Normal{Float64}(μ=84.97538874228452, σ=1.5411998287418847))\n",
      "StochasticMessage{Normal{Float64}}(Normal{Float64}(μ=85.6424164918116, σ=1.532128532589739))\n",
      "StochasticMessage{Normal{Float64}}(Normal{Float64}(μ=86.79064589017256, σ=1.5232155510134433))\n",
      "StochasticMessage{Normal{Float64}}(Normal{Float64}(μ=87.75612389098684, σ=1.5144563320384565))\n",
      "StochasticMessage{Normal{Float64}}(Normal{Float64}(μ=88.60621554538344, σ=1.5058465048420853))\n",
      "StochasticMessage{Normal{Float64}}(Normal{Float64}(μ=89.83991929713937, σ=1.4973818705886994))\n",
      "StochasticMessage{Normal{Float64}}(Normal{Float64}(μ=90.70600920470699, σ=1.4890583938253494))\n",
      "StochasticMessage{Normal{Float64}}(Normal{Float64}(μ=92.10113086001012, σ=1.4808721943977308))\n",
      "StochasticMessage{Normal{Float64}}(Normal{Float64}(μ=92.99136367540734, σ=1.472819539849714))\n",
      "StochasticMessage{Normal{Float64}}(Normal{Float64}(μ=94.00138691337816, σ=1.4648968382726189))\n",
      "StochasticMessage{Normal{Float64}}(Normal{Float64}(μ=94.78136886188499, σ=1.4571006315731199))\n",
      "StochasticMessage{Normal{Float64}}(Normal{Float64}(μ=95.6645625504987, σ=1.4494275891311208))\n",
      "StochasticMessage{Normal{Float64}}(Normal{Float64}(μ=96.6022513050854, σ=1.4418745018211807))\n",
      "StochasticMessage{Normal{Float64}}(Normal{Float64}(μ=97.72452985509094, σ=1.4344382763731172))\n",
      "StochasticMessage{Normal{Float64}}(Normal{Float64}(μ=98.5167908403917, σ=1.4271159300492748))\n",
      "StochasticMessage{Normal{Float64}}(Normal{Float64}(μ=99.33642984123503, σ=1.419904585617662))\n",
      "StochasticMessage{Normal{Float64}}(Normal{Float64}(μ=100.37464318431955, σ=1.4128014666017077))\n"
     ]
    }
   ],
   "source": [
    "data = LocalNetworkObservable{Float64}(9013);\n",
    "\n",
    "inference_actor = InferenceActor(y, x_prev_m, x_prev_v);\n",
    "data_actor      = NetworkDataActor(inference_actor);\n",
    "\n",
    "subject = Subject{Float64}()\n",
    "\n",
    "inference_subscription = subscribe!(inference(x), inference_actor);\n",
    "data_subscription      = subscribe!(data, subject);\n",
    "subject_subscription   = subscribe!(subject, data_actor)"
   ]
  },
  {
   "cell_type": "code",
   "execution_count": null,
   "metadata": {},
   "outputs": [],
   "source": []
  },
  {
   "cell_type": "code",
   "execution_count": 6,
   "metadata": {},
   "outputs": [],
   "source": [
    "unsubscribe!(data_subscription)\n",
    "unsubscribe!(inference_subscription)\n",
    "unsubscribe!(subject_subscription)"
   ]
  },
  {
   "cell_type": "code",
   "execution_count": null,
   "metadata": {},
   "outputs": [],
   "source": []
  }
 ],
 "metadata": {
  "kernelspec": {
   "display_name": "Julia 1.3.0",
   "language": "julia",
   "name": "julia-1.3"
  },
  "language_info": {
   "file_extension": ".jl",
   "mimetype": "application/julia",
   "name": "julia",
   "version": "1.3.0"
  }
 },
 "nbformat": 4,
 "nbformat_minor": 2
}
