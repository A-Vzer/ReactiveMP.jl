{
 "cells": [
  {
   "cell_type": "code",
   "execution_count": 39,
   "metadata": {},
   "outputs": [],
   "source": [
    "using Rocket\n",
    "using Distributions\n",
    "using ReactiveMP\n",
    "using BenchmarkTools\n",
    "\n",
    "import Base: show"
   ]
  },
  {
   "cell_type": "code",
   "execution_count": 40,
   "metadata": {},
   "outputs": [
    {
     "data": {
      "text/plain": [
       "createGraph (generic function with 1 method)"
      ]
     },
     "execution_count": 40,
     "metadata": {},
     "output_type": "execute_result"
    }
   ],
   "source": [
    "function createSubgraph(model, index::Int)\n",
    "    noise_add = add!(model, AdditionNode())\n",
    "    \n",
    "    noise = add!(model, constvar(:noise, Normal(0.0, sqrt(200.0))))\n",
    "    yn    = add!(model, datavar(:yn, Float64))\n",
    "    \n",
    "    connect!(noise_add, :in2, noise, 1)\n",
    "    connect!(noise_add, :out, yn, 1)\n",
    "    \n",
    "    return (yn, noise_add)\n",
    "end\n",
    "\n",
    "function createGraph(size::Int)    \n",
    "    model = Model(DefaultMessageGate())\n",
    "    \n",
    "    c0_add = add!(model, AdditionNode())\n",
    "    \n",
    "    c0       = add!(model, constvar(:c0, 1.0))\n",
    "    x0_prior = add!(model, datavar(:x0_prior, Normal{Float64}))\n",
    "    \n",
    "    connect!(c0_add, :in1, x0_prior, 1)\n",
    "    connect!(c0_add, :in2, c0, 1)\n",
    "    \n",
    "    index = 1\n",
    "    \n",
    "    prev_c_add = c0_add\n",
    "    \n",
    "    xs = Vector{RandomVariable}(undef, size)\n",
    "    ys = Vector{DataVariable}(undef, size)\n",
    "    \n",
    "    while index < size\n",
    "        yn, noise_add = createSubgraph(model, index)\n",
    "        xn            = add!(model, randomvar(:xn, 3))\n",
    "        \n",
    "        c_add = add!(model, AdditionNode())\n",
    "        cn    = add!(model, constvar(:cn, 1.0))\n",
    "        \n",
    "        connect!(prev_c_add, :out, xn, 1)\n",
    "        connect!(noise_add, :in1, xn, 2)\n",
    "        connect!(c_add, :in1, xn, 3)\n",
    "        connect!(c_add, :in2, cn, 1)\n",
    "        \n",
    "        activate!(model, prev_c_add)\n",
    "        activate!(model, noise_add)\n",
    "        \n",
    "        xs[index] = xn\n",
    "        ys[index] = yn\n",
    "        \n",
    "        prev_c_add = c_add\n",
    "        \n",
    "        index += 1\n",
    "    end\n",
    "    \n",
    "    last_noise_add = add!(model, AdditionNode());\n",
    "    \n",
    "    x_last     = add!(model, randomvar(:x_last, 2))\n",
    "    y_last     = add!(model, datavar(:ylast, Float64))\n",
    "    last_noise = add!(model, constvar(:last_noise, Normal(0.0, sqrt(200.0))))\n",
    "    \n",
    "    connect!(prev_c_add, :out, x_last, 1)\n",
    "    connect!(last_noise_add, :in1, x_last, 2)\n",
    "    connect!(last_noise_add, :in2, last_noise, 1)\n",
    "    connect!(last_noise_add, :out, y_last, 1)\n",
    "    \n",
    "    activate!(model, prev_c_add)\n",
    "    activate!(model, last_noise_add)\n",
    "    \n",
    "    xs[size] = x_last\n",
    "    ys[size] = y_last\n",
    "    \n",
    "    return (xs, ys, x0_prior)\n",
    "end"
   ]
  },
  {
   "cell_type": "code",
   "execution_count": 41,
   "metadata": {},
   "outputs": [
    {
     "data": {
      "text/plain": [
       "smoothing (generic function with 1 method)"
      ]
     },
     "execution_count": 41,
     "metadata": {},
     "output_type": "execute_result"
    }
   ],
   "source": [
    "function smoothing(data)\n",
    "    N = length(data)\n",
    "    \n",
    "    xs, ys, x_prior = createGraph(N);\n",
    "    \n",
    "    marginals     = Vector{Normal{Float64}}(undef, N)\n",
    "    subscriptions = Vector{Teardown}(undef, N)\n",
    "    \n",
    "    @inbounds for (index, x) in enumerate(xs)\n",
    "        subscriptions[index] = subscribe!(getmarginal(x), (d) -> marginals[index] = getdata(d))\n",
    "    end\n",
    "    \n",
    "    update!(x_prior, Normal(0.0, sqrt(10000.0)))\n",
    "    for i in 1:N\n",
    "       update!(ys[i], data[i])\n",
    "    end\n",
    "    \n",
    "    foreach(unsubscribe!, subscriptions)\n",
    "    \n",
    "    return marginals\n",
    "end"
   ]
  },
  {
   "cell_type": "code",
   "execution_count": 42,
   "metadata": {},
   "outputs": [],
   "source": [
    "N = 600\n",
    "data = collect(1:N) + sqrt(200.0) * randn(N);"
   ]
  },
  {
   "cell_type": "code",
   "execution_count": 45,
   "metadata": {},
   "outputs": [
    {
     "name": "stdout",
     "output_type": "stream",
     "text": [
      "  56.254 ms (406673 allocations: 14.84 MiB)\n"
     ]
    },
    {
     "data": {
      "text/plain": [
       "600-element Array{Normal{Float64},1}:\n",
       " Normal{Float64}(μ=0.8006436493919095, σ=0.5773406469256954)\n",
       " Normal{Float64}(μ=1.8006436493919094, σ=0.5773406469256954)\n",
       " Normal{Float64}(μ=2.800643649391909, σ=0.5773406469256954)\n",
       " Normal{Float64}(μ=3.8006436493919082, σ=0.5773406469256953)\n",
       " Normal{Float64}(μ=4.800643649391908, σ=0.5773406469256954)\n",
       " Normal{Float64}(μ=5.800643649391908, σ=0.5773406469256954)\n",
       " Normal{Float64}(μ=6.800643649391909, σ=0.5773406469256954)\n",
       " Normal{Float64}(μ=7.800643649391909, σ=0.5773406469256954)\n",
       " Normal{Float64}(μ=8.800643649391912, σ=0.5773406469256954)\n",
       " Normal{Float64}(μ=9.80064364939191, σ=0.5773406469256953)\n",
       " Normal{Float64}(μ=10.800643649391912, σ=0.5773406469256954)\n",
       " Normal{Float64}(μ=11.80064364939191, σ=0.5773406469256953)\n",
       " Normal{Float64}(μ=12.800643649391908, σ=0.5773406469256954)\n",
       " ⋮\n",
       " Normal{Float64}(μ=588.8006436493908, σ=0.577340646925696)\n",
       " Normal{Float64}(μ=589.8006436493907, σ=0.577340646925696)\n",
       " Normal{Float64}(μ=590.8006436493908, σ=0.577340646925696)\n",
       " Normal{Float64}(μ=591.800643649391, σ=0.5773406469256959)\n",
       " Normal{Float64}(μ=592.8006436493911, σ=0.5773406469256959)\n",
       " Normal{Float64}(μ=593.800643649391, σ=0.5773406469256959)\n",
       " Normal{Float64}(μ=594.8006436493908, σ=0.5773406469256959)\n",
       " Normal{Float64}(μ=595.800643649391, σ=0.5773406469256959)\n",
       " Normal{Float64}(μ=596.8006436493908, σ=0.5773406469256958)\n",
       " Normal{Float64}(μ=597.800643649391, σ=0.5773406469256958)\n",
       " Normal{Float64}(μ=598.8006436493907, σ=0.5773406469256958)\n",
       " Normal{Float64}(μ=599.8006436493907, σ=0.5773406469256958)"
      ]
     },
     "execution_count": 45,
     "metadata": {},
     "output_type": "execute_result"
    }
   ],
   "source": [
    "@btime smoothing($data)"
   ]
  },
  {
   "cell_type": "code",
   "execution_count": 44,
   "metadata": {},
   "outputs": [
    {
     "name": "stdout",
     "output_type": "stream",
     "text": [
      "  0.074483 seconds (406.67 k allocations: 14.842 MiB)\n"
     ]
    },
    {
     "data": {
      "text/plain": [
       "600-element Array{Normal{Float64},1}:\n",
       " Normal{Float64}(μ=0.8006436493919095, σ=0.5773406469256954)\n",
       " Normal{Float64}(μ=1.8006436493919094, σ=0.5773406469256954)\n",
       " Normal{Float64}(μ=2.800643649391909, σ=0.5773406469256954)\n",
       " Normal{Float64}(μ=3.8006436493919082, σ=0.5773406469256953)\n",
       " Normal{Float64}(μ=4.800643649391908, σ=0.5773406469256954)\n",
       " Normal{Float64}(μ=5.800643649391908, σ=0.5773406469256954)\n",
       " Normal{Float64}(μ=6.800643649391909, σ=0.5773406469256954)\n",
       " Normal{Float64}(μ=7.800643649391909, σ=0.5773406469256954)\n",
       " Normal{Float64}(μ=8.800643649391912, σ=0.5773406469256954)\n",
       " Normal{Float64}(μ=9.80064364939191, σ=0.5773406469256953)\n",
       " Normal{Float64}(μ=10.800643649391912, σ=0.5773406469256954)\n",
       " Normal{Float64}(μ=11.80064364939191, σ=0.5773406469256953)\n",
       " Normal{Float64}(μ=12.800643649391908, σ=0.5773406469256954)\n",
       " ⋮\n",
       " Normal{Float64}(μ=588.8006436493908, σ=0.577340646925696)\n",
       " Normal{Float64}(μ=589.8006436493907, σ=0.577340646925696)\n",
       " Normal{Float64}(μ=590.8006436493908, σ=0.577340646925696)\n",
       " Normal{Float64}(μ=591.800643649391, σ=0.5773406469256959)\n",
       " Normal{Float64}(μ=592.8006436493911, σ=0.5773406469256959)\n",
       " Normal{Float64}(μ=593.800643649391, σ=0.5773406469256959)\n",
       " Normal{Float64}(μ=594.8006436493908, σ=0.5773406469256959)\n",
       " Normal{Float64}(μ=595.800643649391, σ=0.5773406469256959)\n",
       " Normal{Float64}(μ=596.8006436493908, σ=0.5773406469256958)\n",
       " Normal{Float64}(μ=597.800643649391, σ=0.5773406469256958)\n",
       " Normal{Float64}(μ=598.8006436493907, σ=0.5773406469256958)\n",
       " Normal{Float64}(μ=599.8006436493907, σ=0.5773406469256958)"
      ]
     },
     "execution_count": 44,
     "metadata": {},
     "output_type": "execute_result"
    }
   ],
   "source": [
    "@time smoothing(data)"
   ]
  },
  {
   "cell_type": "code",
   "execution_count": 43,
   "metadata": {},
   "outputs": [
    {
     "name": "stdout",
     "output_type": "stream",
     "text": [
      "  0.385372 seconds (1.14 M allocations: 50.514 MiB, 3.14% gc time)\n"
     ]
    },
    {
     "data": {
      "text/plain": [
       "600-element Array{Normal{Float64},1}:\n",
       " Normal{Float64}(μ=0.8006436493919095, σ=0.5773406469256954)\n",
       " Normal{Float64}(μ=1.8006436493919094, σ=0.5773406469256954)\n",
       " Normal{Float64}(μ=2.800643649391909, σ=0.5773406469256954)\n",
       " Normal{Float64}(μ=3.8006436493919082, σ=0.5773406469256953)\n",
       " Normal{Float64}(μ=4.800643649391908, σ=0.5773406469256954)\n",
       " Normal{Float64}(μ=5.800643649391908, σ=0.5773406469256954)\n",
       " Normal{Float64}(μ=6.800643649391909, σ=0.5773406469256954)\n",
       " Normal{Float64}(μ=7.800643649391909, σ=0.5773406469256954)\n",
       " Normal{Float64}(μ=8.800643649391912, σ=0.5773406469256954)\n",
       " Normal{Float64}(μ=9.80064364939191, σ=0.5773406469256953)\n",
       " Normal{Float64}(μ=10.800643649391912, σ=0.5773406469256954)\n",
       " Normal{Float64}(μ=11.80064364939191, σ=0.5773406469256953)\n",
       " Normal{Float64}(μ=12.800643649391908, σ=0.5773406469256954)\n",
       " ⋮\n",
       " Normal{Float64}(μ=588.8006436493908, σ=0.577340646925696)\n",
       " Normal{Float64}(μ=589.8006436493907, σ=0.577340646925696)\n",
       " Normal{Float64}(μ=590.8006436493908, σ=0.577340646925696)\n",
       " Normal{Float64}(μ=591.800643649391, σ=0.5773406469256959)\n",
       " Normal{Float64}(μ=592.8006436493911, σ=0.5773406469256959)\n",
       " Normal{Float64}(μ=593.800643649391, σ=0.5773406469256959)\n",
       " Normal{Float64}(μ=594.8006436493908, σ=0.5773406469256959)\n",
       " Normal{Float64}(μ=595.800643649391, σ=0.5773406469256959)\n",
       " Normal{Float64}(μ=596.8006436493908, σ=0.5773406469256958)\n",
       " Normal{Float64}(μ=597.800643649391, σ=0.5773406469256958)\n",
       " Normal{Float64}(μ=598.8006436493907, σ=0.5773406469256958)\n",
       " Normal{Float64}(μ=599.8006436493907, σ=0.5773406469256958)"
      ]
     },
     "execution_count": 43,
     "metadata": {},
     "output_type": "execute_result"
    }
   ],
   "source": [
    "@time smoothing(data)"
   ]
  },
  {
   "cell_type": "code",
   "execution_count": 29,
   "metadata": {},
   "outputs": [
    {
     "data": {
      "text/plain": [
       "FactorNode{typeof(+),3,Tuple{Tuple{Int64,Int64,Int64}},ReactiveMP.FactorNodeLocalMarginals{1}}(+, (in1, in2, out), ((1, 2, 3),), ReactiveMP.FactorNodeLocalMarginals{1}(((:in1in2out, Base.RefValue{Union{Nothing, Marginal}}(nothing)),)))"
      ]
     },
     "execution_count": 29,
     "metadata": {},
     "output_type": "execute_result"
    }
   ],
   "source": [
    "n = AdditionNode()"
   ]
  },
  {
   "cell_type": "code",
   "execution_count": 38,
   "metadata": {},
   "outputs": [
    {
     "name": "stdout",
     "output_type": "stream",
     "text": [
      "  32.157 ns (0 allocations: 0 bytes)\n"
     ]
    }
   ],
   "source": [
    "@btime $n.marginals[:in1in2out]"
   ]
  },
  {
   "cell_type": "code",
   "execution_count": 22,
   "metadata": {},
   "outputs": [
    {
     "data": {
      "text/plain": [
       "(x, y, z)"
      ]
     },
     "execution_count": 22,
     "metadata": {},
     "output_type": "execute_result"
    }
   ],
   "source": [
    "variables = (:x, :y, :z)\n",
    "variables2 = map(v -> varnode(v), variables)"
   ]
  },
  {
   "cell_type": "code",
   "execution_count": 23,
   "metadata": {},
   "outputs": [
    {
     "data": {
      "text/plain": [
       "((1, 2, 3),)"
      ]
     },
     "execution_count": 23,
     "metadata": {},
     "output_type": "execute_result"
    }
   ],
   "source": [
    "factorisation = ((1, 2, 3), )"
   ]
  },
  {
   "cell_type": "code",
   "execution_count": 10,
   "metadata": {},
   "outputs": [
    {
     "data": {
      "text/plain": [
       "(nothing, nothing)"
      ]
     },
     "execution_count": 10,
     "metadata": {},
     "output_type": "execute_result"
    }
   ],
   "source": [
    "names = map(q -> reduce((r, v) -> Symbol(r, variables[v]), q, init = Symbol()), factorisation)\n",
    "types = Tuple{ map(n -> Union{Nothing, Marginal}, names)... }\n",
    "init  = map(n -> nothing, names)"
   ]
  },
  {
   "cell_type": "code",
   "execution_count": 11,
   "metadata": {},
   "outputs": [
    {
     "name": "stdout",
     "output_type": "stream",
     "text": [
      "  159.724 ns (1 allocation: 32 bytes)\n"
     ]
    },
    {
     "data": {
      "text/plain": [
       "NamedTuple{(:x, :yz),Tuple{Union{Nothing, Marginal},Union{Nothing, Marginal}}}((nothing, nothing))"
      ]
     },
     "execution_count": 11,
     "metadata": {},
     "output_type": "execute_result"
    }
   ],
   "source": [
    "@btime NamedTuple{$names, $types}($init)"
   ]
  },
  {
   "cell_type": "code",
   "execution_count": 18,
   "metadata": {},
   "outputs": [
    {
     "data": {
      "text/plain": [
       "preallocate_marginals3 (generic function with 1 method)"
      ]
     },
     "execution_count": 18,
     "metadata": {},
     "output_type": "execute_result"
    }
   ],
   "source": [
    "function preallocate_marginals(variables::NTuple{N, VariableNode}, factorisation) where N\n",
    "    names = map(q -> reduce((r, v) -> Symbol(r, variables[v]), q, init = Symbol()), factorisation)\n",
    "    init  = map(n -> (n, Ref{Union{Nothing, Marginal}}(nothing)), names)\n",
    "    return NTuple{length(factorisation), Tuple{Symbol, Ref{Union{Nothing, Marginal}}}}(init)\n",
    "end\n",
    "\n",
    "function preallocate_marginals2(variables::NTuple{N, VariableNode}, factorisation) where N\n",
    "    names = map(n -> Symbol(n...), map(q -> map(v -> name(variables[v]), q), factorisation))\n",
    "    init  = map(n -> (n, Ref{Union{Nothing, Marginal}}(nothing)), names)\n",
    "    return NTuple{length(factorisation), Tuple{Symbol, Ref{Union{Nothing, Marginal}}}}(init)\n",
    "end\n",
    "\n",
    "function preallocate_marginals3(variables::NTuple{N, VariableNode}, factorisation) where N\n",
    "    names = map(n -> Symbol(n...), map(q -> map(v -> name(variables[v]), q), factorisation))\n",
    "    types = Tuple{ map(n -> Ref{Union{Nothing, Marginal}}, names)... }\n",
    "    init  = map(n -> Ref{Union{Nothing, Marginal}}(nothing), names)\n",
    "    return NamedTuple{names, types}(init)\n",
    "end"
   ]
  },
  {
   "cell_type": "code",
   "execution_count": 28,
   "metadata": {},
   "outputs": [
    {
     "name": "stdout",
     "output_type": "stream",
     "text": [
      "  160.147 ns (7 allocations: 256 bytes)\n"
     ]
    },
    {
     "data": {
      "text/plain": [
       "ReactiveMP.FactorNodeLocalMarginals{1}(((:xyz, Base.RefValue{Union{Nothing, Marginal}}(nothing)),))"
      ]
     },
     "execution_count": 28,
     "metadata": {},
     "output_type": "execute_result"
    }
   ],
   "source": [
    "@btime ReactiveMP.FactorNodeLocalMarginals($variables, $factorisation)"
   ]
  },
  {
   "cell_type": "code",
   "execution_count": 121,
   "metadata": {},
   "outputs": [
    {
     "data": {
      "text/plain": [
       "namesonly2 (generic function with 1 method)"
      ]
     },
     "execution_count": 121,
     "metadata": {},
     "output_type": "execute_result"
    }
   ],
   "source": [
    "function namesonly(variables, factorisation)\n",
    "    return map(q -> reduce((r, v) -> Symbol(r, name(variables[v])), q, init = Symbol()), factorisation) \n",
    "end\n",
    "\n",
    "function namesonly2(variables, factorisation)\n",
    "    return map(n -> Symbol(n...), map(q -> map(v -> name(variables[v]), q), factorisation))\n",
    "end"
   ]
  },
  {
   "cell_type": "code",
   "execution_count": 123,
   "metadata": {},
   "outputs": [
    {
     "name": "stdout",
     "output_type": "stream",
     "text": [
      "  134.808 ns (4 allocations: 208 bytes)\n"
     ]
    },
    {
     "data": {
      "text/plain": [
       "(:x, :yz)"
      ]
     },
     "execution_count": 123,
     "metadata": {},
     "output_type": "execute_result"
    }
   ],
   "source": [
    "@btime namesonly2($variables2, $factorisation)"
   ]
  },
  {
   "cell_type": "code",
   "execution_count": 114,
   "metadata": {},
   "outputs": [
    {
     "name": "stdout",
     "output_type": "stream",
     "text": [
      "  391.995 ns (12 allocations: 592 bytes)\n"
     ]
    },
    {
     "data": {
      "text/plain": [
       "(:x, :yz)"
      ]
     },
     "execution_count": 114,
     "metadata": {},
     "output_type": "execute_result"
    }
   ],
   "source": [
    "@btime namesonly($variables2, $factorisation)"
   ]
  },
  {
   "cell_type": "code",
   "execution_count": 143,
   "metadata": {},
   "outputs": [
    {
     "data": {
      "text/plain": [
       "NamedTuple{(:x, :yz),Tuple{Ref{Union{Nothing, Marginal}},Ref{Union{Nothing, Marginal}}}}((Base.RefValue{Union{Nothing, Marginal}}(nothing), Base.RefValue{Union{Nothing, Marginal}}(nothing)))"
      ]
     },
     "execution_count": 143,
     "metadata": {},
     "output_type": "execute_result"
    }
   ],
   "source": [
    "p3 = preallocate_marginals3(variables2, factorisation)"
   ]
  },
  {
   "cell_type": "code",
   "execution_count": 147,
   "metadata": {},
   "outputs": [
    {
     "name": "stdout",
     "output_type": "stream",
     "text": [
      "  2.218 ns (0 allocations: 0 bytes)\n"
     ]
    },
    {
     "data": {
      "text/plain": [
       "Marginal{Int64}(1)"
      ]
     },
     "execution_count": 147,
     "metadata": {},
     "output_type": "execute_result"
    }
   ],
   "source": [
    "@btime $p3[:yz][] = Marginal(1)"
   ]
  },
  {
   "cell_type": "code",
   "execution_count": 145,
   "metadata": {},
   "outputs": [
    {
     "name": "stdout",
     "output_type": "stream",
     "text": [
      "  556.688 ns (16 allocations: 688 bytes)\n",
      "  150.992 ns (8 allocations: 304 bytes)\n",
      "  561.119 ns (8 allocations: 304 bytes)\n"
     ]
    },
    {
     "data": {
      "text/plain": [
       "NamedTuple{(:x, :yz),Tuple{Ref{Union{Nothing, Marginal}},Ref{Union{Nothing, Marginal}}}}((Base.RefValue{Union{Nothing, Marginal}}(nothing), Base.RefValue{Union{Nothing, Marginal}}(nothing)))"
      ]
     },
     "execution_count": 145,
     "metadata": {},
     "output_type": "execute_result"
    }
   ],
   "source": [
    "@btime preallocate_marginals($variables2, $factorisation)\n",
    "@btime preallocate_marginals2($variables2, $factorisation)\n",
    "@btime preallocate_marginals3($variables2, $factorisation)"
   ]
  },
  {
   "cell_type": "code",
   "execution_count": 24,
   "metadata": {},
   "outputs": [
    {
     "data": {
      "text/plain": [
       "((:xyz, Base.RefValue{Union{Nothing, Marginal}}(nothing)),)"
      ]
     },
     "execution_count": 24,
     "metadata": {},
     "output_type": "execute_result"
    }
   ],
   "source": [
    "p = preallocate_marginals2(variables2, factorisation)"
   ]
  },
  {
   "cell_type": "code",
   "execution_count": 26,
   "metadata": {},
   "outputs": [
    {
     "name": "stdout",
     "output_type": "stream",
     "text": [
      "  2.460 ns (0 allocations: 0 bytes)\n"
     ]
    },
    {
     "data": {
      "text/plain": [
       "Base.RefValue{Union{Nothing, Marginal}}(nothing)"
      ]
     },
     "execution_count": 26,
     "metadata": {},
     "output_type": "execute_result"
    }
   ],
   "source": [
    "@btime $p[findnext(d -> d[1] === :xyz, $p, 1)][2]"
   ]
  },
  {
   "cell_type": "code",
   "execution_count": 103,
   "metadata": {},
   "outputs": [
    {
     "data": {
      "text/plain": [
       "getpreallocatedmarginal (generic function with 1 method)"
      ]
     },
     "execution_count": 103,
     "metadata": {},
     "output_type": "execute_result"
    }
   ],
   "source": [
    "function getpreallocatedmarginal(preallocated, name)\n",
    "    return preallocated[findnext(d -> d[1] === name, preallocated, 1)][2]\n",
    "end"
   ]
  },
  {
   "cell_type": "code",
   "execution_count": 109,
   "metadata": {},
   "outputs": [
    {
     "data": {
      "text/plain": [
       "Marginal{Int64}(1)"
      ]
     },
     "execution_count": 109,
     "metadata": {},
     "output_type": "execute_result"
    }
   ],
   "source": [
    "getpreallocatedmarginal(p, :yz)[] = Marginal(1)"
   ]
  },
  {
   "cell_type": "code",
   "execution_count": 110,
   "metadata": {},
   "outputs": [
    {
     "data": {
      "text/plain": [
       "((:x, Base.RefValue{Union{Nothing, Marginal}}(nothing)), (:yz, Base.RefValue{Union{Nothing, Marginal}}(Marginal{Int64}(1))))"
      ]
     },
     "execution_count": 110,
     "metadata": {},
     "output_type": "execute_result"
    }
   ],
   "source": [
    "p"
   ]
  },
  {
   "cell_type": "code",
   "execution_count": 69,
   "metadata": {},
   "outputs": [
    {
     "name": "stdout",
     "output_type": "stream",
     "text": [
      "  15.583 ns (1 allocation: 16 bytes)\n"
     ]
    },
    {
     "data": {
      "text/plain": [
       "Marginal{Int64}(1)"
      ]
     },
     "execution_count": 69,
     "metadata": {},
     "output_type": "execute_result"
    }
   ],
   "source": [
    "d = Dict{Symbol, Marginal}()\n",
    "@btime $d[:x] = Marginal(1)"
   ]
  },
  {
   "cell_type": "code",
   "execution_count": 87,
   "metadata": {},
   "outputs": [
    {
     "name": "stdout",
     "output_type": "stream",
     "text": [
      "  37.687 ns (7 allocations: 176 bytes)\n"
     ]
    },
    {
     "data": {
      "text/plain": [
       "((:x, Base.RefValue{Union{Nothing, Marginal}}(nothing)), (:x, Base.RefValue{Union{Nothing, Marginal}}(nothing)), (:x, Base.RefValue{Union{Nothing, Marginal}}(nothing)))"
      ]
     },
     "execution_count": 87,
     "metadata": {},
     "output_type": "execute_result"
    }
   ],
   "source": [
    "@btime NTuple{3, Tuple{Symbol, Ref{Union{Nothing, Marginal}}}}(\n",
    "    (\n",
    "        Tuple{Symbol, Ref{Union{Nothing, Marginal}}}((:x, Ref{Union{Nothing, Marginal}}(nothing))),\n",
    "        Tuple{Symbol, Ref{Union{Nothing, Marginal}}}((:x, Ref{Union{Nothing, Marginal}}(nothing))),\n",
    "        Tuple{Symbol, Ref{Union{Nothing, Marginal}}}((:x, Ref{Union{Nothing, Marginal}}(nothing)))\n",
    "    )\n",
    ")"
   ]
  },
  {
   "cell_type": "code",
   "execution_count": 97,
   "metadata": {},
   "outputs": [
    {
     "ename": "MethodError",
     "evalue": "MethodError: Cannot `convert` an object of type Base.RefValue{Union{Nothing, Marginal}} to an object of type Tuple{Symbol,Ref{Union{Nothing, Marginal}}}\nClosest candidates are:\n  convert(::Type{T}, !Matched::T) where T<:Tuple{Any,Vararg{Any,N} where N} at essentials.jl:309\n  convert(::Type{T}, !Matched::Tuple{Any,Vararg{Any,N} where N}) where T<:Tuple{Any,Vararg{Any,N} where N} at essentials.jl:310\n  convert(::Type{T}, !Matched::CartesianIndex) where T<:Tuple at multidimensional.jl:134\n  ...",
     "output_type": "error",
     "traceback": [
      "MethodError: Cannot `convert` an object of type Base.RefValue{Union{Nothing, Marginal}} to an object of type Tuple{Symbol,Ref{Union{Nothing, Marginal}}}\nClosest candidates are:\n  convert(::Type{T}, !Matched::T) where T<:Tuple{Any,Vararg{Any,N} where N} at essentials.jl:309\n  convert(::Type{T}, !Matched::Tuple{Any,Vararg{Any,N} where N}) where T<:Tuple{Any,Vararg{Any,N} where N} at essentials.jl:310\n  convert(::Type{T}, !Matched::CartesianIndex) where T<:Tuple at multidimensional.jl:134\n  ...",
      "",
      "Stacktrace:",
      " [1] convert(::Type{Tuple{Tuple{Symbol,Ref{Union{Nothing, Marginal}}},Tuple{Symbol,Ref{Union{Nothing, Marginal}}}}}, ::Tuple{Base.RefValue{Union{Nothing, Marginal}},Base.RefValue{Union{Nothing, Marginal}}}) at ./essentials.jl:310",
      " [2] Tuple{Tuple{Symbol,Ref{Union{Nothing, Marginal}}},Tuple{Symbol,Ref{Union{Nothing, Marginal}}}}(::Tuple{Base.RefValue{Union{Nothing, Marginal}},Base.RefValue{Union{Nothing, Marginal}}}) at ./tuple.jl:225",
      " [3] preallocate_marginals(::Tuple{VariableNode,VariableNode,VariableNode}, ::Tuple{Tuple{Int64},Tuple{Int64,Int64}}) at ./In[96]:4",
      " [4] top-level scope at In[97]:1"
     ]
    }
   ],
   "source": [
    "preallocate_marginals(variables2, factorisation)"
   ]
  },
  {
   "cell_type": "code",
   "execution_count": 95,
   "metadata": {},
   "outputs": [
    {
     "name": "stdout",
     "output_type": "stream",
     "text": [
      "  2.388 ns (0 allocations: 0 bytes)\n"
     ]
    },
    {
     "data": {
      "text/plain": [
       "Marginal{Int64}(1)"
      ]
     },
     "execution_count": 95,
     "metadata": {},
     "output_type": "execute_result"
    }
   ],
   "source": [
    "@btime $d[findnext(d -> d[1] === :z, $d, 1)][2][] = Marginal(1)"
   ]
  },
  {
   "cell_type": "code",
   "execution_count": 92,
   "metadata": {},
   "outputs": [
    {
     "data": {
      "text/plain": [
       "((:x, Base.RefValue{Union{Nothing, Marginal}}(Marginal{Int64}(1))), (:x, Base.RefValue{Union{Nothing, Marginal}}(nothing)), (:x, Base.RefValue{Union{Nothing, Marginal}}(nothing)))"
      ]
     },
     "execution_count": 92,
     "metadata": {},
     "output_type": "execute_result"
    }
   ],
   "source": [
    "d"
   ]
  },
  {
   "cell_type": "code",
   "execution_count": null,
   "metadata": {},
   "outputs": [],
   "source": []
  }
 ],
 "metadata": {
  "kernelspec": {
   "display_name": "Julia 1.4.1",
   "language": "julia",
   "name": "julia-1.4"
  },
  "language_info": {
   "file_extension": ".jl",
   "mimetype": "application/julia",
   "name": "julia",
   "version": "1.4.1"
  }
 },
 "nbformat": 4,
 "nbformat_minor": 4
}
