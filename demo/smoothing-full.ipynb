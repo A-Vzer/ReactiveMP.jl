{
 "cells": [
  {
   "cell_type": "code",
   "execution_count": 1,
   "metadata": {
    "tags": []
   },
   "outputs": [
    {
     "name": "stderr",
     "output_type": "stream",
     "text": [
      "┌ Info: Precompiling ReactiveMP [a194aa59-28ba-4574-a09c-4a745416d6e3]\n",
      "└ @ Base loading.jl:1278\n",
      "┌ Warning: Package ReactiveMP does not have Rocket in its dependencies:\n",
      "│ - If you have ReactiveMP checked out for development and have\n",
      "│   added Rocket as a dependency but haven't updated your primary\n",
      "│   environment's manifest file, try `Pkg.resolve()`.\n",
      "│ - Otherwise you may need to report an issue with ReactiveMP\n",
      "└ Loading Rocket into ReactiveMP from project dependency, future warnings for ReactiveMP are suppressed.\n"
     ]
    }
   ],
   "source": [
    "using Rocket\n",
    "using Distributions\n",
    "using ReactiveMP\n",
    "using BenchmarkTools\n",
    "\n",
    "import Base: show"
   ]
  },
  {
   "cell_type": "code",
   "execution_count": 2,
   "metadata": {},
   "outputs": [
    {
     "data": {
      "text/plain": [
       "createGraph (generic function with 1 method)"
      ]
     },
     "execution_count": 2,
     "metadata": {},
     "output_type": "execute_result"
    }
   ],
   "source": [
    "function createSubgraph(model, index::Int)\n",
    "    noise_add = add!(model, make_node(+))\n",
    "    \n",
    "    noise = add!(model, constvar(:noise, Normal(0.0, sqrt(200.0))))\n",
    "    yn    = add!(model, datavar(:yn, Float64))\n",
    "    \n",
    "    connect!(noise_add, :in2, noise)\n",
    "    connect!(noise_add, :out, yn)\n",
    "    \n",
    "    return (yn, noise_add)\n",
    "end\n",
    "\n",
    "function createGraph(size::Int)    \n",
    "    model = Model(DefaultMessageGate())\n",
    "    \n",
    "    c0_add = add!(model, make_node(+))\n",
    "    \n",
    "    c0       = add!(model, constvar(:c0, 1.0))\n",
    "    x0_prior = add!(model, datavar(:x0_prior, Normal{Float64}))\n",
    "    \n",
    "    connect!(c0_add, :in1, x0_prior)\n",
    "    connect!(c0_add, :in2, c0)\n",
    "    \n",
    "    index = 1\n",
    "    \n",
    "    prev_c_add = c0_add\n",
    "    \n",
    "    xs = Vector{RandomVariable}(undef, size)\n",
    "    ys = Vector{DataVariable}(undef, size)\n",
    "    \n",
    "    while index < size\n",
    "        yn, noise_add = createSubgraph(model, index)\n",
    "        xn            = add!(model, randomvar(:xn))\n",
    "        \n",
    "        c_add = add!(model, make_node(+))\n",
    "        cn    = add!(model, constvar(:cn, 1.0))\n",
    "        \n",
    "        connect!(prev_c_add, :out, xn)\n",
    "        connect!(noise_add, :in1, xn)\n",
    "        connect!(c_add, :in1, xn)\n",
    "        connect!(c_add, :in2, cn)\n",
    "        \n",
    "        activate!(model, prev_c_add)\n",
    "        activate!(model, noise_add)\n",
    "        \n",
    "        xs[index] = xn\n",
    "        ys[index] = yn\n",
    "        \n",
    "        prev_c_add = c_add\n",
    "        \n",
    "        index += 1\n",
    "    end\n",
    "    \n",
    "    last_noise_add = add!(model, make_node(+));\n",
    "    \n",
    "    x_last     = add!(model, randomvar(:x_last))\n",
    "    y_last     = add!(model, datavar(:ylast, Float64))\n",
    "    last_noise = add!(model, constvar(:last_noise, Normal(0.0, sqrt(200.0))))\n",
    "    \n",
    "    connect!(prev_c_add, :out, x_last)\n",
    "    connect!(last_noise_add, :in1, x_last)\n",
    "    connect!(last_noise_add, :in2, last_noise)\n",
    "    connect!(last_noise_add, :out, y_last)\n",
    "    \n",
    "    activate!(model)\n",
    "    \n",
    "    xs[size] = x_last\n",
    "    ys[size] = y_last\n",
    "    \n",
    "    return (xs, ys, x0_prior)\n",
    "end"
   ]
  },
  {
   "cell_type": "code",
   "execution_count": 3,
   "metadata": {},
   "outputs": [
    {
     "data": {
      "text/plain": [
       "smoothing (generic function with 1 method)"
      ]
     },
     "execution_count": 3,
     "metadata": {},
     "output_type": "execute_result"
    }
   ],
   "source": [
    "function smoothing(data)\n",
    "    N = length(data)\n",
    "    \n",
    "    xs, ys, x_prior = createGraph(N);\n",
    "    \n",
    "    marginals     = Vector{Normal{Float64}}(undef, N)\n",
    "    subscriptions = Vector{Teardown}(undef, N)\n",
    "    \n",
    "    @inbounds for (index, x) in enumerate(xs)\n",
    "        subscriptions[index] = subscribe!(getmarginal(x), (d) -> marginals[index] = getdata(d))\n",
    "    end\n",
    "    \n",
    "    update!(x_prior, Normal(0.0, sqrt(10000.0)))\n",
    "    for i in 1:N\n",
    "       update!(ys[i], data[i])\n",
    "    end\n",
    "    \n",
    "    foreach(unsubscribe!, subscriptions)\n",
    "    \n",
    "    return marginals\n",
    "end"
   ]
  },
  {
   "cell_type": "code",
   "execution_count": 4,
   "metadata": {},
   "outputs": [],
   "source": [
    "N = 600\n",
    "data = collect(1:N) + sqrt(200.0) * randn(N);"
   ]
  },
  {
   "cell_type": "code",
   "execution_count": 5,
   "metadata": {},
   "outputs": [
    {
     "name": "stdout",
     "output_type": "stream",
     "text": [
      "  4.247797 seconds (11.10 M allocations: 599.079 MiB, 4.09% gc time)\n"
     ]
    }
   ],
   "source": [
    "@time smoothing(data); # Initial compilation"
   ]
  },
  {
   "cell_type": "code",
   "execution_count": 6,
   "metadata": {},
   "outputs": [
    {
     "name": "stdout",
     "output_type": "stream",
     "text": [
      "  0.061216 seconds (543.84 k allocations: 34.730 MiB, 29.00% gc time)\n"
     ]
    }
   ],
   "source": [
    "@time smoothing(data); # Subsequent runs"
   ]
  },
  {
   "cell_type": "code",
   "execution_count": 7,
   "metadata": {},
   "outputs": [
    {
     "name": "stdout",
     "output_type": "stream",
     "text": [
      "  38.533 ms (543842 allocations: 34.73 MiB)\n"
     ]
    },
    {
     "data": {
      "text/plain": [
       "600-element Array{Normal{Float64},1}:\n",
       " Normal{Float64}(μ=0.9965801464866226, σ=0.5773406469256954)\n",
       " Normal{Float64}(μ=1.9965801464866224, σ=0.5773406469256954)\n",
       " Normal{Float64}(μ=2.996580146486623, σ=0.5773406469256954)\n",
       " Normal{Float64}(μ=3.996580146486623, σ=0.5773406469256953)\n",
       " Normal{Float64}(μ=4.996580146486624, σ=0.5773406469256954)\n",
       " Normal{Float64}(μ=5.996580146486623, σ=0.5773406469256954)\n",
       " Normal{Float64}(μ=6.996580146486623, σ=0.5773406469256954)\n",
       " Normal{Float64}(μ=7.9965801464866235, σ=0.5773406469256954)\n",
       " Normal{Float64}(μ=8.996580146486624, σ=0.5773406469256954)\n",
       " Normal{Float64}(μ=9.996580146486624, σ=0.5773406469256953)\n",
       " Normal{Float64}(μ=10.996580146486625, σ=0.5773406469256954)\n",
       " Normal{Float64}(μ=11.996580146486622, σ=0.5773406469256953)\n",
       " Normal{Float64}(μ=12.996580146486625, σ=0.5773406469256954)\n",
       " ⋮\n",
       " Normal{Float64}(μ=588.9965801464863, σ=0.577340646925696)\n",
       " Normal{Float64}(μ=589.9965801464864, σ=0.577340646925696)\n",
       " Normal{Float64}(μ=590.9965801464864, σ=0.577340646925696)\n",
       " Normal{Float64}(μ=591.9965801464865, σ=0.5773406469256959)\n",
       " Normal{Float64}(μ=592.9965801464864, σ=0.5773406469256959)\n",
       " Normal{Float64}(μ=593.9965801464864, σ=0.5773406469256959)\n",
       " Normal{Float64}(μ=594.9965801464863, σ=0.5773406469256959)\n",
       " Normal{Float64}(μ=595.9965801464863, σ=0.5773406469256959)\n",
       " Normal{Float64}(μ=596.9965801464863, σ=0.5773406469256958)\n",
       " Normal{Float64}(μ=597.9965801464863, σ=0.5773406469256958)\n",
       " Normal{Float64}(μ=598.9965801464862, σ=0.5773406469256958)\n",
       " Normal{Float64}(μ=599.9965801464863, σ=0.5773406469256958)"
      ]
     },
     "execution_count": 7,
     "metadata": {},
     "output_type": "execute_result"
    }
   ],
   "source": [
    "@btime smoothing($data) # Performance benchmark"
   ]
  },
  {
   "cell_type": "code",
   "execution_count": null,
   "metadata": {},
   "outputs": [],
   "source": []
  }
 ],
 "metadata": {
  "kernelspec": {
   "display_name": "Julia 1.5.0",
   "language": "julia",
   "name": "julia-1.5"
  },
  "language_info": {
   "file_extension": ".jl",
   "mimetype": "application/julia",
   "name": "julia",
   "version": "1.5.1"
  }
 },
 "nbformat": 4,
 "nbformat_minor": 4
}
