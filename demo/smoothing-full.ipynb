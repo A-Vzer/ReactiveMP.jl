{
 "cells": [
  {
   "cell_type": "code",
   "execution_count": 9,
   "metadata": {
    "tags": []
   },
   "outputs": [],
   "source": [
    "using Rocket\n",
    "using Distributions\n",
    "using ReactiveMP\n",
    "using BenchmarkTools\n",
    "\n",
    "import Base: show"
   ]
  },
  {
   "cell_type": "code",
   "execution_count": 10,
   "metadata": {},
   "outputs": [
    {
     "data": {
      "text/plain": [
       "createGraph (generic function with 1 method)"
      ]
     },
     "execution_count": 10,
     "metadata": {},
     "output_type": "execute_result"
    }
   ],
   "source": [
    "function createSubgraph(model, index::Int)\n",
    "    noise_add = add!(model, AdditionNode())\n",
    "    \n",
    "    noise = add!(model, constvar(:noise, Normal(0.0, sqrt(200.0))))\n",
    "    yn    = add!(model, datavar(:yn, Float64))\n",
    "    \n",
    "    connect!(noise_add, :in2, noise)\n",
    "    connect!(noise_add, :out, yn)\n",
    "    \n",
    "    return (yn, noise_add)\n",
    "end\n",
    "\n",
    "function createGraph(size::Int)    \n",
    "    model = Model(DefaultMessageGate())\n",
    "    \n",
    "    c0_add = add!(model, AdditionNode())\n",
    "    \n",
    "    c0       = add!(model, constvar(:c0, 1.0))\n",
    "    x0_prior = add!(model, datavar(:x0_prior, Normal{Float64}))\n",
    "    \n",
    "    connect!(c0_add, :in1, x0_prior)\n",
    "    connect!(c0_add, :in2, c0)\n",
    "    \n",
    "    index = 1\n",
    "    \n",
    "    prev_c_add = c0_add\n",
    "    \n",
    "    xs = Vector{RandomVariable}(undef, size)\n",
    "    ys = Vector{DataVariable}(undef, size)\n",
    "    \n",
    "    while index < size\n",
    "        yn, noise_add = createSubgraph(model, index)\n",
    "        xn            = add!(model, randomvar(:xn))\n",
    "        \n",
    "        c_add = add!(model, AdditionNode())\n",
    "        cn    = add!(model, constvar(:cn, 1.0))\n",
    "        \n",
    "        connect!(prev_c_add, :out, xn)\n",
    "        connect!(noise_add, :in1, xn)\n",
    "        connect!(c_add, :in1, xn)\n",
    "        connect!(c_add, :in2, cn)\n",
    "        \n",
    "        activate!(model, prev_c_add)\n",
    "        activate!(model, noise_add)\n",
    "        \n",
    "        xs[index] = xn\n",
    "        ys[index] = yn\n",
    "        \n",
    "        prev_c_add = c_add\n",
    "        \n",
    "        index += 1\n",
    "    end\n",
    "    \n",
    "    last_noise_add = add!(model, AdditionNode());\n",
    "    \n",
    "    x_last     = add!(model, randomvar(:x_last))\n",
    "    y_last     = add!(model, datavar(:ylast, Float64))\n",
    "    last_noise = add!(model, constvar(:last_noise, Normal(0.0, sqrt(200.0))))\n",
    "    \n",
    "    connect!(prev_c_add, :out, x_last)\n",
    "    connect!(last_noise_add, :in1, x_last)\n",
    "    connect!(last_noise_add, :in2, last_noise)\n",
    "    connect!(last_noise_add, :out, y_last)\n",
    "    \n",
    "    activate!(model, prev_c_add)\n",
    "    activate!(model, last_noise_add)\n",
    "    \n",
    "    xs[size] = x_last\n",
    "    ys[size] = y_last\n",
    "    \n",
    "    return (xs, ys, x0_prior)\n",
    "end"
   ]
  },
  {
   "cell_type": "code",
   "execution_count": 11,
   "metadata": {},
   "outputs": [
    {
     "data": {
      "text/plain": [
       "smoothing (generic function with 1 method)"
      ]
     },
     "execution_count": 11,
     "metadata": {},
     "output_type": "execute_result"
    }
   ],
   "source": [
    "function smoothing(data)\n",
    "    N = length(data)\n",
    "    \n",
    "    xs, ys, x_prior = createGraph(N);\n",
    "    \n",
    "    marginals     = Vector{Normal{Float64}}(undef, N)\n",
    "    subscriptions = Vector{Teardown}(undef, N)\n",
    "    \n",
    "    @inbounds for (index, x) in enumerate(xs)\n",
    "        subscriptions[index] = subscribe!(getmarginal(x), (d) -> marginals[index] = getdata(d))\n",
    "    end\n",
    "    \n",
    "    update!(x_prior, Normal(0.0, sqrt(10000.0)))\n",
    "    for i in 1:N\n",
    "       update!(ys[i], data[i])\n",
    "    end\n",
    "    \n",
    "    foreach(unsubscribe!, subscriptions)\n",
    "    \n",
    "    return marginals\n",
    "end"
   ]
  },
  {
   "cell_type": "code",
   "execution_count": 12,
   "metadata": {},
   "outputs": [],
   "source": [
    "N = 600\n",
    "data = collect(1:N) + sqrt(200.0) * randn(N);"
   ]
  },
  {
   "cell_type": "code",
   "execution_count": 13,
   "metadata": {},
   "outputs": [
    {
     "name": "stdout",
     "output_type": "stream",
     "text": [
      "  4.106547 seconds (10.77 M allocations: 568.126 MiB, 6.86% gc time)\n"
     ]
    }
   ],
   "source": [
    "@time smoothing(data); # Initial compilation"
   ]
  },
  {
   "cell_type": "code",
   "execution_count": 14,
   "metadata": {},
   "outputs": [
    {
     "name": "stdout",
     "output_type": "stream",
     "text": [
      "  0.046613 seconds (396.49 k allocations: 24.831 MiB, 37.03% gc time)\n"
     ]
    }
   ],
   "source": [
    "@time smoothing(data); # Subsequent runs"
   ]
  },
  {
   "cell_type": "code",
   "execution_count": 15,
   "metadata": {},
   "outputs": [
    {
     "name": "stdout",
     "output_type": "stream",
     "text": [
      "  28.197 ms (396485 allocations: 24.83 MiB)\n"
     ]
    },
    {
     "data": {
      "text/plain": [
       "600-element Array{Normal{Float64},1}:\n",
       " Normal{Float64}(μ=0.5364614884152861, σ=0.5773406469256954)\n",
       " Normal{Float64}(μ=1.5364614884152858, σ=0.5773406469256954)\n",
       " Normal{Float64}(μ=2.536461488415286, σ=0.5773406469256954)\n",
       " Normal{Float64}(μ=3.536461488415285, σ=0.5773406469256953)\n",
       " Normal{Float64}(μ=4.536461488415286, σ=0.5773406469256954)\n",
       " Normal{Float64}(μ=5.536461488415285, σ=0.5773406469256954)\n",
       " Normal{Float64}(μ=6.536461488415285, σ=0.5773406469256954)\n",
       " Normal{Float64}(μ=7.536461488415283, σ=0.5773406469256954)\n",
       " Normal{Float64}(μ=8.536461488415286, σ=0.5773406469256954)\n",
       " Normal{Float64}(μ=9.536461488415284, σ=0.5773406469256953)\n",
       " Normal{Float64}(μ=10.536461488415283, σ=0.5773406469256954)\n",
       " Normal{Float64}(μ=11.536461488415283, σ=0.5773406469256953)\n",
       " Normal{Float64}(μ=12.536461488415283, σ=0.5773406469256954)\n",
       " ⋮\n",
       " Normal{Float64}(μ=588.5364614884163, σ=0.577340646925696)\n",
       " Normal{Float64}(μ=589.5364614884162, σ=0.577340646925696)\n",
       " Normal{Float64}(μ=590.5364614884163, σ=0.577340646925696)\n",
       " Normal{Float64}(μ=591.5364614884163, σ=0.5773406469256959)\n",
       " Normal{Float64}(μ=592.5364614884163, σ=0.5773406469256959)\n",
       " Normal{Float64}(μ=593.5364614884163, σ=0.5773406469256959)\n",
       " Normal{Float64}(μ=594.5364614884162, σ=0.5773406469256959)\n",
       " Normal{Float64}(μ=595.5364614884162, σ=0.5773406469256959)\n",
       " Normal{Float64}(μ=596.5364614884161, σ=0.5773406469256958)\n",
       " Normal{Float64}(μ=597.5364614884162, σ=0.5773406469256958)\n",
       " Normal{Float64}(μ=598.5364614884162, σ=0.5773406469256958)\n",
       " Normal{Float64}(μ=599.5364614884162, σ=0.5773406469256958)"
      ]
     },
     "execution_count": 15,
     "metadata": {},
     "output_type": "execute_result"
    }
   ],
   "source": [
    "@btime smoothing($data) # Performance benchmark"
   ]
  },
  {
   "cell_type": "code",
   "execution_count": null,
   "metadata": {},
   "outputs": [],
   "source": []
  }
 ],
 "metadata": {
  "kernelspec": {
   "display_name": "Julia 1.5.0",
   "language": "julia",
   "name": "julia-1.5"
  },
  "language_info": {
   "file_extension": ".jl",
   "mimetype": "application/julia",
   "name": "julia",
   "version": "1.5.0"
  }
 },
 "nbformat": 4,
 "nbformat_minor": 4
}
